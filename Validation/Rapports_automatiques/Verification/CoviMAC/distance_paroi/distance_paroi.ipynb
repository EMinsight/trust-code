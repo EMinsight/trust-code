{
 "cells": [
  {
   "cell_type": "markdown",
   "id": "inappropriate-lingerie",
   "metadata": {},
   "source": [
    "# Vérification du codage de la distance au bord le plus proche"
   ]
  },
  {
   "cell_type": "code",
   "execution_count": null,
   "id": "f08aed89",
   "metadata": {},
   "outputs": [],
   "source": [
    "from trustutils import run \n",
    "from trustutils import visit\n",
    "from trustutils.jupyter import plot\n",
    "import numpy as np\n",
    "import matplotlib.pyplot as plt\n",
    "import pandas as pd\n",
    "\n",
    "run.introduction(\"C. Reiss\",\"29/04/2022\")\n",
    "run.description(r'On teste les fonctions qui permet de remplir le tableau de distance au bord le plus proche et de le post-traiter. Pour determiner cette distance, l\\'algorithme charge l\\'ensemble des coordonnees des centres des faces de bord, ainsi que les sommets et les aretes. Il echange ces informations entre processeurs. Il utilise ensuite la fonction findClosestTupleId de MEDcoupling pour faire une recherche efficace. Cette methode n\\'est pas exacte pour les maillages deformes ou de tetraedres car la projection du centre d\\'un element de volume sur une face peut ne pas etre pile sur un centre de gravite de face ou sur un sommet. Pour que les resultats soient exacts dans les elements de bord, on fait une boucle sur ceux-ci en fin d\\'iteration.')\n",
    "\n",
    "run.TRUST_parameters()"
   ]
  },
  {
   "cell_type": "code",
   "execution_count": null,
   "id": "079d201b-67de-4f90-8493-a2a38d65de78",
   "metadata": {},
   "outputs": [],
   "source": [
    "from trustutils import run \n",
    "\n",
    "c2 = run.addCase(\".\",\"jdd_2D.data\")\n",
    "c4 = run.addCase(\".\",\"jdd_3D.data\")\n",
    "c6 = run.addCase(\".\",\"jdd_triangle.data\")\n",
    "\n",
    "run.printCases()\n",
    "run.runCases()"
   ]
  },
  {
   "cell_type": "markdown",
   "id": "3af3d0ee",
   "metadata": {},
   "source": [
    "## Affichage de la distance dans une geometrie compliquee sur des rectangles"
   ]
  },
  {
   "cell_type": "code",
   "execution_count": null,
   "id": "026f698f",
   "metadata": {},
   "outputs": [],
   "source": [
    "run.description(\"On regarde les resultats dans une geometrie compliquee en 2D et en 3D et on les compare aux solutions analytiques sur des sondes.\")\n",
    "\n",
    "fig=visit.showField(\"jdd_2D.lata\",\"Pseudocolor\",\"DISTANCE_PAROI_GLOBALE_ELEM_dom\",time=0)\n",
    "\n"
   ]
  },
  {
   "cell_type": "code",
   "execution_count": null,
   "id": "1f17898b",
   "metadata": {},
   "outputs": [],
   "source": [
    "run.description(\"Le nom des sondes depend de l'endroit du maillage dans lequelle elles ont ete tirees\")\n",
    "\n",
    "d3_n = np.array(plot.loadText(\"jdd_3D_NORD.son\")[1::])\n",
    "d2_n = np.array(plot.loadText(\"jdd_2D_NORD.son\")[1::])\n",
    "x_n = np.linspace(-.975, .975, 40)\n",
    "def d_n_ana(x) :\n",
    "    return 0.5 - (np.maximum(x, 0.5)-0.5)\n",
    "\n",
    "d2_o = np.array(plot.loadText(\"jdd_2D_OUEST.son\")[1::])\n",
    "d3_o = np.array(plot.loadText(\"jdd_3D_OUEST.son\")[1::])\n",
    "x_o = np.linspace(-1.9, -1.1, 5)\n",
    "def d_o_ana(x) :\n",
    "    return .5-np.abs(x+1.5)\n",
    "\n",
    "d2_s1 = np.array(plot.loadText(\"jdd_2D_SUD1.son\")[1::])\n",
    "d3_s1 = np.array(plot.loadText(\"jdd_3D_SUD1.son\")[1::])\n",
    "x_s1 = np.linspace(-1.9, -1.1, 5)\n",
    "def d_s1_ana(x) :\n",
    "    return np.absolute(x+1)\n",
    "\n",
    "d2_s2 = np.array(plot.loadText(\"jdd_2D_SUD2.son\")[1::])\n",
    "d3_s2 = np.array(plot.loadText(\"jdd_3D_SUD2.son\")[1::])\n",
    "x_s2 = np.linspace(.025, 4.975, 100)\n",
    "def d_s2_ana(x) :\n",
    "    return np.minimum( 5-x , ( np.maximum(x-2, 0)**2 + 0.9**2)**.5 )\n",
    "\n",
    "d2_e = np.array(plot.loadText(\"jdd_2D_EST.son\")[1::])\n",
    "d3_e = np.array(plot.loadText(\"jdd_3D_EST.son\")[1::])\n",
    "x_e = np.linspace(2**0.5*2.95, 0, 60)\n",
    "def d_e_ana(x) :\n",
    "    x_loc = 4.975-x/2**.5\n",
    "    y_loc = -.975+x/2**.5\n",
    "    return np.minimum( ((x_loc-5)**2+(y_loc+1)**2)**.5 , x_loc-2)\n",
    "\n",
    "\n",
    "fig = plt.figure(figsize=(12, 8))\n",
    "\n",
    "plt.subplots_adjust(hspace= 0.3)\n",
    "\n",
    "sub1 = fig.add_subplot(2, 6, (1,2)) \n",
    "plt.title(\"North probe\")\n",
    "plt.plot(x_n, d2_n, ':b', linewidth = 5, label = '2D')\n",
    "plt.plot(x_n, d3_n, '--r', linewidth = 3, label = '3D')\n",
    "plt.plot(x_n, d_n_ana(x_n), '-', linewidth = 1.2,color = 'green', label = 'analytical')\n",
    "plt.xlabel(\"position on the probe\")\n",
    "plt.ylabel(\"distance to the edge\")\n",
    "plt.legend()\n",
    "\n",
    "sub2 = fig.add_subplot(2, 6, (3, 4)) \n",
    "plt.title(\"West probe\")\n",
    "plt.plot(x_o, d2_o, ':b',linewidth = 5, label = '2D')\n",
    "plt.plot(x_o, d3_o, '--r', linewidth = 3, label = '3D')\n",
    "plt.plot(x_o, d_o_ana(x_o), '-',linewidth = 1.2,color = 'green', label = 'analytical')\n",
    "plt.xlabel(\"position on the probe\")\n",
    "plt.ylabel(\"distance to the edge\")\n",
    "plt.legend()\n",
    "\n",
    "sub3 = fig.add_subplot(2, 6, (5, 6)) \n",
    "plt.title(\"South1 probe\")\n",
    "plt.plot(x_s1, d2_s1, ':b',linewidth = 5, label = '2D')\n",
    "plt.plot(x_s1, d3_s1, '--r', linewidth = 3, label = '3D')\n",
    "plt.plot(x_s1, d_s1_ana(x_s1),'-', linewidth = 1.2,color = 'green', label = 'analytical')\n",
    "plt.xlabel(\"position on the probe\")\n",
    "plt.ylabel(\"distance to the edge\")\n",
    "plt.legend()\n",
    "\n",
    "sub4 = fig.add_subplot(2, 6, (7,9)) \n",
    "plt.title(\"South2 probe\")\n",
    "plt.plot(x_s2, d2_s2, ':b',linewidth = 5, label = '2D')\n",
    "plt.plot(x_s2, d3_s2, '--r', linewidth = 3, label = '3D')\n",
    "plt.plot(x_s2, d_s2_ana(x_s2),'-', linewidth = 1.2,color = 'green', label = 'analytical')\n",
    "plt.xlabel(\"position on the probe\")\n",
    "plt.ylabel(\"distance to the edge\")\n",
    "plt.legend()\n",
    "\n",
    "sub5 = fig.add_subplot(2, 6, (10,12)) \n",
    "plt.title(\"East probe\")\n",
    "plt.plot(x_e, d2_e, ':b',linewidth = 5, label = '2D')\n",
    "plt.plot(x_e, d3_e, '--r', linewidth = 3, label = '3D')\n",
    "plt.plot(x_e, d_e_ana(x_e),'-', linewidth = 1.2,color = 'green', label = 'analytical')\n",
    "plt.xlabel(\"position on the probe\")\n",
    "plt.ylabel(\"distance to the edge\")\n",
    "plt.legend()\n",
    "\n",
    "plt.tight_layout()\n",
    "\n",
    "plt.show()\n"
   ]
  },
  {
   "cell_type": "markdown",
   "id": "9d636585",
   "metadata": {},
   "source": [
    "## Affichage de la distance sur des tetras un peu tordus en proche paroi"
   ]
  },
  {
   "cell_type": "code",
   "execution_count": null,
   "id": "ca2de031",
   "metadata": {},
   "outputs": [],
   "source": [
    "run.description(\"On regarde les resultats dans un maillage triangulaire 2D et on les compare avec la theorie. On tire une sonde la les mailles proches de la paroi (Y=0.5). On voit que la solution exacte est trouvee dans l'element de bord grace a la boucle supplementaire sur ceux-ci, mais pas dans l'element suivant pour lequel la distance calculee est un peu elevee.\")\n",
    "\n",
    "fig=visit.showField(\"jdd_triangle.lata\",\"Pseudocolor\",\"DISTANCE_PAROI_GLOBALE_ELEM_dom\")"
   ]
  },
  {
   "cell_type": "code",
   "execution_count": null,
   "id": "6f6a2c3d",
   "metadata": {},
   "outputs": [],
   "source": [
    "d = np.array(plot.loadText(\"jdd_triangle_DIST.son\")[1::])\n",
    "x = np.linspace(0.5, 9.5, 20)\n",
    "\n",
    "d_min = np.linspace(0.333333, 0.333333, 20)\n",
    "d_max = np.linspace(0.666666, 0.666666, 20)\n",
    "\n",
    "plt.plot(x, d_min, 'b', linewidth = 2, label = 'Possible low value')\n",
    "plt.plot(x, d_max, 'g', linewidth = 2, label = 'Possible high value')\n",
    "plt.plot(x,     d, 'or', label = 'trust output')\n",
    "plt.xlabel(\"position on the probe\")\n",
    "plt.ylabel(\"distance to the edge\")\n",
    "plt.legend()\n",
    "\n",
    "plt.ylim(0, 1)\n",
    "\n",
    "plt.show()"
   ]
  }
 ],
 "metadata": {
  "kernelspec": {
   "display_name": "Python 3 (ipykernel)",
   "language": "python",
   "name": "python3"
  },
  "language_info": {
   "codemirror_mode": {
    "name": "ipython",
    "version": 3
   },
   "file_extension": ".py",
   "mimetype": "text/x-python",
   "name": "python",
   "nbconvert_exporter": "python",
   "pygments_lexer": "ipython3",
   "version": "3.7.9"
  }
 },
 "nbformat": 4,
 "nbformat_minor": 5
}
