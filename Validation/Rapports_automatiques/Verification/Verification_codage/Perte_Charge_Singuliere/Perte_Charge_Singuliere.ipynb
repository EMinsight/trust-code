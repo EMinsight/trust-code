{
 "cells": [
  {
   "cell_type": "markdown",
   "id": "c150672b",
   "metadata": {},
   "source": [
    "# Perte_Charge_Singuliere test case\n"
   ]
  },
  {
   "cell_type": "markdown",
   "id": "fa6fb553",
   "metadata": {},
   "source": [
    "## Introduction\n",
    " \n",
    " Validation made by: ll258196\n",
    "\n",
    " Report generated 11/07/2023"
   ]
  },
  {
   "cell_type": "markdown",
   "id": "af3482c6",
   "metadata": {},
   "source": [
    "### Description\n",
    " \n",
    "Test cases for using the Perte_charge_singuliere option to model a pressure drop across a surface (e.g. through a grid).\n"
   ]
  },
  {
   "cell_type": "code",
   "execution_count": null,
   "id": "9e5d17d6",
   "metadata": {},
   "outputs": [],
   "source": [
    "from trustutils import run\n",
    "\n",
    "run.TRUST_parameters(\"1.9.3\")"
   ]
  },
  {
   "cell_type": "code",
   "execution_count": null,
   "id": "d7ec45c5",
   "metadata": {},
   "outputs": [],
   "source": [
    "from trustutils import run\n",
    " \n",
    "run.addCase(\"VDF\",\"Perte_Charge_Singuliere_VDF.data\",nbProcs=1)\n",
    "run.addCase(\"VEF\",\"Perte_Charge_Singuliere_VEF.data\",nbProcs=1) \n",
    "run.addCase(\"internal_faces_VEF\",\"PCS_med_internal_faces_VEF.data\",nbProcs=1) \n",
    "run.printCases()\n",
    "run.runCases()"
   ]
  },
  {
   "cell_type": "markdown",
   "id": "c26fb875",
   "metadata": {},
   "source": [
    "## With Sous domaine interface\n",
    "\n",
    "Imposition of pressure loss at $X = 1$ in VDF and VEF"
   ]
  },
  {
   "cell_type": "code",
   "execution_count": null,
   "id": "46e326f2",
   "metadata": {},
   "outputs": [],
   "source": [
    "from trustutils import visit\n",
    "\n",
    "fig=visit.Show(\"VDF/Perte_Charge_Singuliere_VDF.lata\",\"Pseudocolor\",\"PRESSION_PA_ELEM_dom\",plotmesh=True,title=\"Pressure_PA\",nY=2,nX=1)\n",
    "fig.add(\"VEF/Perte_Charge_Singuliere_VEF.lata\",\"Pseudocolor\",\"PRESSION_PA_ELEM_dom\",xIndice=0,yIndice=1)\n",
    "fig.plot()"
   ]
  },
  {
   "cell_type": "markdown",
   "id": "abde4cce",
   "metadata": {},
   "source": [
    "## Using internal_faces into med file"
   ]
  },
  {
   "cell_type": "markdown",
   "id": "455ab552",
   "metadata": {},
   "source": [
    "Pressure loss imposed on a specific interface marked by a group of internal faces in the med file (in red)\n",
    "\n",
    "![](src/internal_faces_VEF/interf_PCS.png) \n"
   ]
  },
  {
   "cell_type": "markdown",
   "id": "876b3b78",
   "metadata": {},
   "source": [
    "### DataFile"
   ]
  },
  {
   "cell_type": "code",
   "execution_count": null,
   "id": "bd6f30d9",
   "metadata": {},
   "outputs": [],
   "source": [
    "run.dumpDataset(\"internal_faces_VEF/PCS_med_internal_faces_VEF.data\",[\"interf\"])"
   ]
  },
  {
   "cell_type": "code",
   "execution_count": null,
   "id": "694625b1",
   "metadata": {},
   "outputs": [],
   "source": [
    "fig=visit.Show(\"internal_faces_VEF/PCS_med_internal_faces_VEF.lata\", \"Pseudocolor\", \"PRESSION_PA_ELEM_dom\")\n",
    "fig.rotation3D([0,65,55])\n",
    "fig.plot()"
   ]
  }
 ],
 "metadata": {
  "kernelspec": {
   "display_name": "Python 3 (ipykernel)",
   "language": "python",
   "name": "python3"
  },
  "language_info": {
   "codemirror_mode": {
    "name": "ipython",
    "version": 3
   },
   "file_extension": ".py",
   "mimetype": "text/x-python",
   "name": "python",
   "nbconvert_exporter": "python",
   "pygments_lexer": "ipython3",
   "version": "3.7.9"
  }
 },
 "nbformat": 4,
 "nbformat_minor": 5
}
