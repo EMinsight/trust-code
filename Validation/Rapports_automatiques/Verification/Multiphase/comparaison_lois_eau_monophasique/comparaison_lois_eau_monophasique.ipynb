{
 "cells": [
  {
   "attachments": {},
   "cell_type": "markdown",
   "id": "inappropriate-lingerie",
   "metadata": {},
   "source": [
    "# Comparaison EOS monophasique"
   ]
  },
  {
   "cell_type": "code",
   "execution_count": null,
   "id": "8a3a9b3b",
   "metadata": {},
   "outputs": [],
   "source": [
    "from trustutils import run\n",
    "\n",
    "run.introduction(\"Yannick Gorsse\")\n",
    "\n",
    "run.TRUST_parameters()"
   ]
  },
  {
   "cell_type": "markdown",
   "id": "d8804c9b",
   "metadata": {},
   "source": [
    "### Description: \n",
    "\n"
   ]
  },
  {
   "cell_type": "code",
   "execution_count": null,
   "id": "1fb992d4",
   "metadata": {},
   "outputs": [],
   "source": [
    "import os\n",
    "from string import Template\n",
    "\n",
    "run.reset()\n",
    "run.initBuildDirectory()\n",
    "origin, build_dir = os.getcwd(), run.BUILD_DIRECTORY\n",
    "\n",
    "fluids_template = Template(\"liquide_eau Fluide_generique_$lib { model $model fluid $liq }\")\n",
    "\n",
    "models = {\n",
    "    \"EOS\": {\"liq\": \"waterliquid\", \"vap\": \"watervapor\", \"sat\": \"waterliquid\", \"models\": [\"cathare2\", \"refprop10\"], \"symbol\" : \"o\"},\n",
    "    \"CoolProp\": {\n",
    "        \"liq\": \"water phase liquid\",\n",
    "        \"vap\": \"water phase vapor\",\n",
    "        \"sat\": \"water phase liquid\",\n",
    "        \"models\": [\"BICUBIC&HEOS\", \"TTSE&HEOS\", \"refprop\"],\n",
    "        \"symbol\" : \"-\"\n",
    "    },\n",
    "}\n",
    "\n",
    "for lib, dict_mods in models.items():\n",
    "    for model in dict_mods[\"models\"]:\n",
    "        fluids = fluids_template.substitute({\"lib\": lib, \"model\": model, \"liq\": dict_mods[\"liq\"], \"vap\": dict_mods[\"vap\"], \"sat\": dict_mods[\"sat\"]})\n",
    "        run.addCaseFromTemplate(\"jdd.data\", f\"{lib}/{model.replace('&', '_')}\", {\"fluids\": fluids})\n",
    "\n",
    "run.runCases()\n",
    "run.tablePerf()\n"
   ]
  },
  {
   "cell_type": "code",
   "execution_count": null,
   "id": "a6079d41",
   "metadata": {},
   "outputs": [],
   "source": [
    "from trustutils import plot\n",
    "\n",
    "a = plot.Graph(f\"Residus\")\n",
    "for lib, dict_mods in models.items():\n",
    "    for model in dict_mods[\"models\"]:\n",
    "        a.addResidu(f\"{build_dir}/{lib}/{model.replace('&', '_')}/jdd.dt_ev\", label=f\"{lib} - {model}\")\n",
    "\n",
    "a.scale(yscale='log')"
   ]
  },
  {
   "cell_type": "code",
   "execution_count": null,
   "id": "0f880f81",
   "metadata": {},
   "outputs": [],
   "source": [
    "from trustutils import plot\n",
    "\n",
    "vars = (\"V\", \"P\", \"RHO\", \"EINT\")\n",
    "\n",
    "for i, var in enumerate(vars):\n",
    "    a = plot.Graph(var)\n",
    "    for lib, dict_mods in models.items():\n",
    "        for model in dict_mods[\"models\"]:\n",
    "            a.addSegment(f\"{build_dir}/{lib}/{model.replace('&', '_')}/jdd_{var}.son\", label=f\"{lib} - {model}\", marker=dict_mods[\"symbol\"])\n"
   ]
  }
 ],
 "metadata": {},
 "nbformat": 4,
 "nbformat_minor": 5
}
