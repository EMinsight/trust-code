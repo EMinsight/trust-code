{
 "cells": [
  {
   "cell_type": "markdown",
   "id": "gross-patent",
   "metadata": {},
   "source": [
    "# rocALUTION GPU solvers"
   ]
  },
  {
   "cell_type": "markdown",
   "id": "perfect-entrepreneur",
   "metadata": {},
   "source": [
    "### Description \n",
    "Test of different iterative linear solvers and preconditionners from library rocALUTION library https://github.com/ROCmSoftwarePlatform/rocALUTION. These solvers run either on GPU AMD card, either on CPU.\n",
    "\n",
    "The test cases are run with TRUST sequentially and parallel on several cores.\n",
    "\n",
    "NB: They will be fully available in the TRUST 1.9.1 version."
   ]
  },
  {
   "cell_type": "code",
   "execution_count": null,
   "id": "53528cf8",
   "metadata": {
    "scrolled": true
   },
   "outputs": [],
   "source": [
    "from trustutils import run\n",
    "run.TRUST_parameters()\n",
    "run.introduction('Pierre LEDAC (CEA/DES/ISAS/DM2S/STMF/LGLS)')\n",
    "# Creation des jeux de donnees\n",
    "NP=4\n",
    "seuil=\"seuil 1.e-4 impr\"\n",
    "cases=[\n",
    "       #(\"gcp_ssor\"          ,\"CG/SSOR\"         ,\"gcp  { precond ssor { omega 1.6 } %s }\" % seuil), \n",
    "       #(\"gc\"            ,\"CG\"             ,\"rocalution gcp      { precond null   { } %s }\" % seuil),\n",
    "       #(\"gcp_jacobi\"    ,\"CG/Jacobi\"      ,\"rocalution gcp      { precond jacobi { } %s }\" % seuil),\n",
    "       #(\"bicgstab_multicoloredgs\" ,\"BiCGStab/MulticoloredGS\",\"rocalution bicgstab { precond multicoloredgs { } %s }\" % seuil),\n",
    "       #(\"bicgstab_ilu0\" ,\"BiCGStab/ILU(0)\",\"rocalution bicgstab { precond ilu    { level 0 } %s }\" % seuil),\n",
    "       #(\"fgcp_pairwiseamg\" ,\"FCG/Pairwise-AMG\",\"rocalution fgcp { precond pairwiseamg { } %s }\" % seuil), #flexible plante\n",
    "       (\"gcp_pairwiseamg\"  ,\"CG/Pairwise-AMG\" ,\"rocalution gcp  { precond pairwise-amg { } %s }\" % seuil), \n",
    "       (\"gcp_uaamg\"        ,\"CG/UA-AMG\"       ,\"rocalution gcp  { precond ua-amg       { } %s }\" % seuil),\n",
    "       (\"gcp_saamg\"        ,\"CG/SA-AMG\"       ,\"rocalution gcp  { precond sa-amg       { } %s }\" % seuil),\n",
    "       (\"bicgstab_gs\"      ,\"BiCGStab/GS\"     ,\"rocalution bicgstab { precond gs       { } %s }\" % seuil),\n",
    "       #(\"bicgstab_sgs\"     ,\"BiCGStab/SGS\"    ,\"rocalution bicgstab { precond sgs      { } %s }\" % seuil), # diverge en //\n",
    "      ]\n",
    "run.reset()\n",
    "run.initCaseSuite()\n",
    "for case,label,syntax in cases:\n",
    "    # Create test case:\n",
    "    run.executeCommand(\"cas=%s;mkdir -p $cas;cd $cas;cp ../base.data $cas.data;ln -s -f ../post_run .\" % case, verbose=False)\n",
    "    cas = run.addCase(case,\"%s.data\" % case)\n",
    "    cas.substitute(\"_solveur_\",syntax)\n",
    "    # Create a parallel test case:\n",
    "    run.executeCommand(\"cas=%s;cd $cas;make_PAR.data $cas %s;exit 0\" % (case,NP), verbose=False)\n",
    "    cas = run.addCase(case,\"PAR_%s.data\" % case, NP)\n",
    "    \n",
    "run.printCases()"
   ]
  },
  {
   "cell_type": "code",
   "execution_count": null,
   "id": "15189bb2-352d-48f9-85fa-64c4323e0f88",
   "metadata": {
    "scrolled": true
   },
   "outputs": [],
   "source": [
    "run.runCases()"
   ]
  },
  {
   "cell_type": "markdown",
   "id": "818473e8",
   "metadata": {},
   "source": [
    "# Convergence"
   ]
  },
  {
   "cell_type": "code",
   "execution_count": null,
   "id": "60506cb2",
   "metadata": {},
   "outputs": [],
   "source": [
    "from trustutils import plot\n",
    "    \n",
    "a = plot.Graph(\"Relative residual ||Ax(it)-b||/||Ax(0)-b|| during the fist time step:\",\"\",1,1,[10,5])\n",
    "\n",
    "for case,label,syntax in cases:\n",
    "    cols = plot.loadText(case+\"/%s.res\" % case)\n",
    "    a.add(cols[0],cols[1],label=\"%s\" % label, marker='-')\n",
    "    cols = plot.loadText(case+\"/PAR_%s.res\" % case)\n",
    "    a.add(cols[0],cols[1],label=\"%s (%s MPI cores)\" % (label,NP), marker='o')\n",
    "\n",
    "a.label(\"Iteration\",\"Residual\")\n",
    "a.subplot.set_yscale('log')"
   ]
  },
  {
   "cell_type": "markdown",
   "id": "7936faa8",
   "metadata": {},
   "source": [
    "Though the fastest convergence is obtained with a multigrid preconditionner (SA-AMG) in sequential, the pairwise aggregation multigrid, as the only parallel implemented multigrid preconditionner in rocALUTION, is currently the most interesting one."
   ]
  },
  {
   "cell_type": "markdown",
   "id": "dd2c19e6",
   "metadata": {},
   "source": [
    "# Memory used"
   ]
  },
  {
   "cell_type": "code",
   "execution_count": null,
   "id": "9d6096bd",
   "metadata": {
    "scrolled": true
   },
   "outputs": [],
   "source": [
    "a = plot.Graph(\"Max RAM per core used during calculation:\",\"\",1,1,[10,5])\n",
    "for case,label,syntax in cases:\n",
    "    cols = plot.loadText(case+\"/%s.ram\" % case)\n",
    "    a.add(cols[0],cols[1],label=\"%s\" % label)\n",
    "    cols = plot.loadText(case+\"/PAR_%s.ram\" % case)\n",
    "    a.add(cols[0],cols[1],label=\"%s (%s MPI cores)\" % (label,NP), marker='-o')\n",
    "a.label(\"Time [s]\",\"RAM [MB]\")"
   ]
  },
  {
   "cell_type": "markdown",
   "id": "fa45b1e5",
   "metadata": {},
   "source": [
    "# CPU time evolution"
   ]
  },
  {
   "cell_type": "code",
   "execution_count": null,
   "id": "c6ad72e3",
   "metadata": {},
   "outputs": [],
   "source": [
    "a = plot.Graph(\"CPU time of pressure solve during calculation:\",\"\",1,1,[10,5])\n",
    "for case,label,syntax in cases:\n",
    "    cols = plot.loadText(case+\"/%s.cpu\" % case)\n",
    "    a.add(cols[0],cols[1],label=\"%s\" % label)\n",
    "    cols = plot.loadText(case+\"/PAR_%s.cpu\" % case)\n",
    "    a.add(cols[0],cols[1],label=\"%s (%s MPI cores)\" % (label,NP), marker='-o')\n",
    "a.label(\"Time step\",\"CPU [s]\")\n",
    "a.scale(yscale='log')\n",
    "#a.subplot.set_xticks(range(1,6))"
   ]
  },
  {
   "cell_type": "markdown",
   "id": "a0813029",
   "metadata": {},
   "source": [
    "The faster solver in parallel is CG with Pairwise-AMG preconditionner. We can notice the SA-AMG precondionner is fast only in sequential, and that the LU solver given as the coarse grid solver (only available for SA-AMG and UA-AMG) improves CPU times."
   ]
  },
  {
   "cell_type": "markdown",
   "id": "e8e31da8",
   "metadata": {},
   "source": [
    "### Computer performance:"
   ]
  },
  {
   "cell_type": "code",
   "execution_count": null,
   "id": "5505bee8",
   "metadata": {},
   "outputs": [],
   "source": [
    "# run.plotTU()\n",
    "run.tablePerf()"
   ]
  },
  {
   "cell_type": "markdown",
   "id": "db57dabc",
   "metadata": {},
   "source": [
    "# Conclusions\n",
    "\n",
    "XXX"
   ]
  }
 ],
 "metadata": {
  "kernelspec": {
   "display_name": "Python 3 (ipykernel)",
   "language": "python",
   "name": "python3"
  },
  "language_info": {
   "codemirror_mode": {
    "name": "ipython",
    "version": 3
   },
   "file_extension": ".py",
   "mimetype": "text/x-python",
   "name": "python",
   "nbconvert_exporter": "python",
   "pygments_lexer": "ipython3",
   "version": "3.7.9"
  }
 },
 "nbformat": 4,
 "nbformat_minor": 5
}
