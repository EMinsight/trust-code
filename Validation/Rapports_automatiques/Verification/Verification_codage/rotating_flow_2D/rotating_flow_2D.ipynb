{
 "cells": [
  {
   "cell_type": "markdown",
   "id": "boolean-earth",
   "metadata": {},
   "source": [
    "# 2D Rotating flow"
   ]
  },
  {
   "cell_type": "code",
   "execution_count": null,
   "id": "449a85ae",
   "metadata": {},
   "outputs": [],
   "source": [
    "from trustutils import run\n",
    "\n",
    "run.introduction(\"Yannick Gorsse, Elie Saikali\")\n",
    "\n",
    "run.TRUST_parameters()"
   ]
  },
  {
   "cell_type": "markdown",
   "id": "31dc25e8",
   "metadata": {},
   "source": [
    "### Description: \n",
    "\n"
   ]
  },
  {
   "cell_type": "code",
   "execution_count": null,
   "id": "balanced-boating",
   "metadata": {
    "scrolled": false
   },
   "outputs": [],
   "source": [
    "from trustutils import run\n",
    "import os, sys\n",
    "\n",
    "# Load MEDCoupling environment\n",
    "run.useMEDCoupling()\n",
    "\n",
    "# Trigger the copy of the src directory into the build directory:\n",
    "run.initBuildDirectory()\n",
    "\n",
    "# Path of weird mesh Python module\n",
    "sys.path.append(os.environ[\"TRUST_ROOT\"] + \"/Validation/Rapports_automatiques/Verification/PolyMAC/share/maquette_decapoly/src/\")\n",
    "\n",
    "# Invoke prepare_python.py (which structures the directories), and copy post_run script\n",
    "origin, build_dir = os.getcwd(), run.BUILD_DIRECTORY\n",
    "os.chdir(build_dir)\n",
    "exec(open( \"prepare_python.py\").read())  #  the various run.addCase() are called there\n",
    "os.chdir(origin)\n",
    "\n",
    "for i in [\"NCa\", \"NCr\", \"cartesian\", \"triangle\"]:\n",
    "    for j in [\"PolyMAC_P0\", \"PolyMAC_P0P1NC\"]:\n",
    "        run.addCase(f\"{i}/{j}\",\"jdd.data\")\n",
    "\n",
    "run.addCase(\"cartesian/VDF\",\"jdd.data\")\n",
    "run.addCase(\"triangle/VEFPreP1B\",\"jdd.data\")\n",
    "    \n",
    "run.printCases()\n",
    "run.runCases()\n"
   ]
  },
  {
   "cell_type": "markdown",
   "id": "9a7e2ff9",
   "metadata": {},
   "source": [
    "## Comparisons"
   ]
  },
  {
   "cell_type": "markdown",
   "id": "58af2bd8",
   "metadata": {},
   "source": [
    "### Comparison - vx"
   ]
  },
  {
   "cell_type": "code",
   "execution_count": null,
   "id": "alert-shock",
   "metadata": {},
   "outputs": [],
   "source": [
    "from trustutils import plot\n",
    "\n",
    "a=plot.Graph(\"Comparaison vx\")\n",
    "for i in [\"NCa\", \"NCr\", \"cartesian\", \"triangle\"]:\n",
    "    for j in [\"PolyMAC_P0\", \"PolyMAC_P0P1NC\"]:\n",
    "        a.addSegment(f\"{i}/{j}/jdd_VX.son\",label=f\"{i}/{j}\",compo=0)\n",
    "\n",
    "a.addSegment(\"cartesian/VDF/jdd_VX.son\",label=\"cartesian/VDF\",compo=0)\n",
    "a.addSegment(\"triangle/VEFPreP1B/jdd_VX.son\",label=\"triangle/VEFPreP1B\",compo=0)\n",
    "a.label(\"Position\", \"Vx\")\n"
   ]
  },
  {
   "cell_type": "markdown",
   "id": "79159216",
   "metadata": {},
   "source": [
    "### Comparison - vy"
   ]
  },
  {
   "cell_type": "code",
   "execution_count": null,
   "id": "594b533f",
   "metadata": {},
   "outputs": [],
   "source": [
    "from trustutils import plot\n",
    "\n",
    "a=plot.Graph(\"Comparaison vy\")\n",
    "for i in [\"NCa\", \"NCr\", \"cartesian\", \"triangle\"]:\n",
    "    for j in [\"PolyMAC_P0\", \"PolyMAC_P0P1NC\"]:\n",
    "        a.addSegment(f\"{i}/{j}/jdd_VX.son\",label=f\"{i}/{j}\",compo=1)\n",
    "\n",
    "a.addSegment(\"cartesian/VDF/jdd_VX.son\",label=\"cartesian/VDF\",compo=1)\n",
    "a.addSegment(\"triangle/VEFPreP1B/jdd_VX.son\",label=\"triangle/VEFPreP1B\",compo=1)\n",
    "a.label(\"Position\", \"Vy\")"
   ]
  }
 ],
 "metadata": {},
 "nbformat": 4,
 "nbformat_minor": 5
}
