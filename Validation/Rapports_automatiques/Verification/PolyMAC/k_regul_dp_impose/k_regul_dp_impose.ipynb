{
 "cells": [
  {
   "cell_type": "markdown",
   "id": "czech-cloud",
   "metadata": {},
   "source": [
    "# Test des fonctionnalités DP_impose et K regul"
   ]
  },
  {
   "cell_type": "code",
   "execution_count": null,
   "id": "3a41df38",
   "metadata": {},
   "outputs": [],
   "source": [
    "from trustutils import run \n",
    "run.introduction(\"A. Gerschenfeld, Y. Gorsse\")\n",
    "run.description(\"\")\n",
    "run.TRUST_parameters()"
   ]
  },
  {
   "cell_type": "code",
   "execution_count": null,
   "id": "70d9a8e0",
   "metadata": {},
   "outputs": [],
   "source": [
    "from trustutils import run \n",
    "\n",
    "run.addCase(\"PolyMAC\",\"jdd.data\")  \n",
    "run.addCase(\"CoviMAC\",\"jdd.data\")\n",
    "run.printCases()\n",
    "run.runCases()"
   ]
  },
  {
   "cell_type": "markdown",
   "id": "governing-honolulu",
   "metadata": {},
   "source": [
    "## Description\n",
    "Domaine fermé avec une frontiere interne (en gris sur la figure), et deux surfaces permettant d'imposer les termes source testés. En bleu, la régulation sur le débit, et en orange le DP imposé. Une circulation du fluide apparait, et le débit généré se régule sur la valeur cible.\n",
    "\n",
    "<img src=\"build/domaine.png\">"
   ]
  },
  {
   "cell_type": "code",
   "execution_count": null,
   "id": "a8237127",
   "metadata": {},
   "outputs": [],
   "source": [
    "run.executeScript(\"paste PolyMAC/jdd_P1.son PolyMAC/jdd_P2.son > PolyMAC/jdd_P1P2.son\")\n",
    "run.executeScript(\"paste CoviMAC/jdd_P1.son CoviMAC/jdd_P2.son > CoviMAC/jdd_P1P2.son\")"
   ]
  },
  {
   "cell_type": "code",
   "execution_count": null,
   "id": "moderate-cream",
   "metadata": {},
   "outputs": [],
   "source": [
    "from trustutils.jupyter import plot\n",
    "import numpy as np\n",
    "\n",
    "\n",
    "Graphique=plot.Graph(nX=2,nY=2)\n",
    "\n",
    "data=plot.loadText(\"./PolyMAC/jdd_pb_K_surf1.out\",skiprows=3)\n",
    "Graphique.add(data[0], data[1]  ,label=\"K\",title=\"PolyMAC\")\n",
    "Graphique.add(data[0],-data[2]  ,label=\"debit calcule\")\n",
    "Graphique.add(data[0], data[3]  ,label=\"debit cible\")  \n",
    "Graphique.label(\"Time\",\"Delta de pression\")\n",
    "\n",
    "Graphique.addPlot([0,1],\"CoviMAC\")\n",
    "data=plot.loadText(\"./CoviMAC/jdd_pb_K_surf1.out\",skiprows=3)\n",
    "Graphique.add(data[0], data[1]  ,label=\"K\")\n",
    "Graphique.add(data[0],-data[2]  ,label=\"debit calcule\")\n",
    "Graphique.add(data[0], data[3]  ,label=\"debit cible\")  \n",
    "\n",
    "Graphique.addPlot([1,0],\"PolyMAC\")\n",
    "data=plot.loadText(\"./PolyMAC/jdd_pb_DP_surf2.out\",skiprows=3)\n",
    "Graphique.add(data[0], data[1]  ,label=\"DP impose\")\n",
    "data=plot.loadText(\"./PolyMAC/jdd_P1P2.son\",skiprows=5)\n",
    "Graphique.add(data[0],data[1]-data[3]  ,label=\"DP mesure\")\n",
    "\n",
    "Graphique.addPlot([1,1],\"CoviMAC\")\n",
    "data=plot.loadText(\"./CoviMAC/jdd_pb_DP_surf2.out\",skiprows=3)\n",
    "Graphique.add(data[0], data[1]  ,label=\"DP impose\",title=\"CoviMAC\")\n",
    "data=plot.loadText(\"./CoviMAC/jdd_P1P2.son\",skiprows=5)\n",
    "Graphique.add(data[0],data[1]-data[3]  ,label=\"DP mesure\")\n",
    "\n",
    "Graphique.visu()"
   ]
  }
 ],
 "metadata": {
  "kernelspec": {
   "display_name": "Python 3 (ipykernel)",
   "language": "python",
   "name": "python3"
  },
  "language_info": {
   "codemirror_mode": {
    "name": "ipython",
    "version": 3
   },
   "file_extension": ".py",
   "mimetype": "text/x-python",
   "name": "python",
   "nbconvert_exporter": "python",
   "pygments_lexer": "ipython3",
   "version": "3.7.9"
  },
  "toc-autonumbering": true
 },
 "nbformat": 4,
 "nbformat_minor": 5
}
