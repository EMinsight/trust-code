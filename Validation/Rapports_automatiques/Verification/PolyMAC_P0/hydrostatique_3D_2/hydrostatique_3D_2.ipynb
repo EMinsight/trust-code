{
 "cells": [
  {
   "cell_type": "markdown",
   "id": "9b8d9cf0-4b50-46ae-a69a-3ee6c355b2ab",
   "metadata": {},
   "source": [
    "# Verification hydrostatique"
   ]
  },
  {
   "cell_type": "code",
   "execution_count": null,
   "id": "a6f842f7",
   "metadata": {},
   "outputs": [],
   "source": [
    "from trustutils import run\n",
    "\n",
    "run.introduction('Yannick Gorsse')\n",
    "run.description(\"\")\n",
    "run.TRUST_parameters()"
   ]
  },
  {
   "cell_type": "code",
   "execution_count": null,
   "id": "5f407c4b-0846-4635-8cd4-067dc92055bc",
   "metadata": {},
   "outputs": [],
   "source": [
    "from trustutils import run \n",
    "c1 = run.addCase(\".\"    ,\"gauche.data\") \n",
    "c2 = run.addCase(\".\"    ,\"droite.data\") \n",
    "c3 = run.addCase(\".\"    ,\"haut.data\") \n",
    "c4 = run.addCase(\".\"    ,\"bas.data\") \n",
    "c5 = run.addCase(\".\"    ,\"devant.data\") \n",
    "c6 = run.addCase(\".\"    ,\"derriere.data\")\n",
    "run.printCases()\n",
    "run.runCases()"
   ]
  },
  {
   "cell_type": "markdown",
   "id": "d778e4a9-07b1-4364-af4d-6f805aade6a4",
   "metadata": {},
   "source": [
    "## PolyMAC_P0\n",
    "Test du gradient de pression en non conforme"
   ]
  },
  {
   "cell_type": "markdown",
   "id": "f9334740-2993-47c8-9ae3-53107c976606",
   "metadata": {},
   "source": [
    "### Mesh : PolyMAC_P0\n",
    "A remplir \n"
   ]
  },
  {
   "cell_type": "code",
   "execution_count": null,
   "id": "55637f39-6d4b-42fa-b0a0-cdc29b25fb5c",
   "metadata": {},
   "outputs": [],
   "source": [
    "from trustutils import visit\n",
    "\n",
    "visit.showField(\"./droite.lata\",\"Pseudocolor\",\"PRESSION_ELEM_dom\")"
   ]
  },
  {
   "cell_type": "markdown",
   "id": "12dbd8f0-8574-4562-ae58-21708f217c9f",
   "metadata": {},
   "source": [
    "### Comparaison theorie/numerique"
   ]
  },
  {
   "cell_type": "code",
   "execution_count": null,
   "id": "bdcba9b4-048c-479a-b3b8-3773bd3f4adc",
   "metadata": {},
   "outputs": [],
   "source": [
    "from trustutils.jupyter import plot\n",
    "import numpy as np\n",
    "\n",
    "Tableau=plot.Table([\"$\\| P \\|_{\\infty}$\",\"$\\| \\overrightarrow{v} \\|_{\\infty}$\"])\n",
    "data=plot.loadText(\"droite_erreurs.txt\")\n",
    "Tableau.addLigne([data],\"droite\")\n",
    "data=plot.loadText(\"gauche_erreurs.txt\")\n",
    "Tableau.addLigne([data],\"gauche\")\n",
    "data=plot.loadText(\"devant_erreurs.txt\")\n",
    "Tableau.addLigne([data],\"devant\")\n",
    "data=plot.loadText(\"derriere_erreurs.txt\")\n",
    "Tableau.addLigne([data],\"derriere\")\n",
    "data=plot.loadText(\"haut_erreurs.txt\")\n",
    "Tableau.addLigne([data],\"haut\")\n",
    "data=plot.loadText(\"bas_erreurs.txt\")\n",
    "Tableau.addLigne([data],\"bas\")\n",
    "Tableau.df"
   ]
  }
 ],
 "metadata": {
  "kernelspec": {
   "display_name": "Python 3 (ipykernel)",
   "language": "python",
   "name": "python3"
  },
  "language_info": {
   "codemirror_mode": {
    "name": "ipython",
    "version": 3
   },
   "file_extension": ".py",
   "mimetype": "text/x-python",
   "name": "python",
   "nbconvert_exporter": "python",
   "pygments_lexer": "ipython3",
   "version": "3.7.9"
  },
  "toc-autonumbering": true
 },
 "nbformat": 4,
 "nbformat_minor": 5
}
