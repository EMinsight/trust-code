{
 "cells": [
  {
   "attachments": {},
   "cell_type": "markdown",
   "id": "gross-patent",
   "metadata": {},
   "source": [
    "# Buoyant driven cavity"
   ]
  },
  {
   "cell_type": "code",
   "execution_count": null,
   "id": "0a0e49ec",
   "metadata": {},
   "outputs": [],
   "source": [
    "from trustutils.jupyter import run\n",
    "\n",
    "run.introduction(\"Yannick Gorsse\")\n",
    "\n",
    "run.TRUST_parameters()"
   ]
  },
  {
   "cell_type": "markdown",
   "id": "78b1c52a",
   "metadata": {},
   "source": [
    "### Description: \n",
    "\n",
    "Driven cavity with cosine thermal power and thermal exchange with uniform external temperature"
   ]
  },
  {
   "cell_type": "code",
   "execution_count": null,
   "id": "15189bb2-352d-48f9-85fa-64c4323e0f88",
   "metadata": {},
   "outputs": [],
   "source": [
    "from trustutils.jupyter import run\n",
    "\n",
    "pb_and_dis = {\"ns\" : [\"VDF\", \"PolyMAC_P0\", \"PolyMAC_P0P1NC\", \"PolyMAC\"], \"pbmulti\": [\"VDF\", \"PolyMAC_P0\"]}\n",
    "\n",
    "run.reset()\n",
    "for pb, ldis in pb_and_dis.items():\n",
    "    for dis in ldis:\n",
    "        run.addCaseFromTemplate(f\"jdd_{pb}.data\", f\"{pb}/{dis}\", {\"dis\" : dis})\n",
    "\n",
    "run.printCases()\n",
    "run.runCases()\n",
    "run.tablePerf()"
   ]
  },
  {
   "cell_type": "code",
   "execution_count": null,
   "id": "a4e5dc4c",
   "metadata": {},
   "outputs": [],
   "source": [
    "from trustutils import plot\n",
    "import numpy as np\n",
    "\n",
    "a = plot.Graph(\"Time steps\")\n",
    "\n",
    "for pb, ldis in pb_and_dis.items():\n",
    "    for dis in ldis:\n",
    "        dt_ev = np.loadtxt(f\"{run.BUILD_DIRECTORY}/{pb}/{dis}/jdd_{pb}.dt_ev\")\n",
    "        a.add(dt_ev[:, 0], dt_ev[:, 1], label=f\"{dis} - {pb}\")"
   ]
  },
  {
   "cell_type": "code",
   "execution_count": null,
   "id": "37356d58",
   "metadata": {},
   "outputs": [],
   "source": [
    "vars = (\"V\", \"T\")\n",
    "for pb, ldis in pb_and_dis.items():\n",
    "    a = plot.Graph(pb, nY=len(vars))\n",
    "    for j, var in enumerate(vars):\n",
    "        a.addPlot(j, f\"Variable {var}\")\n",
    "        for pos in [\"A\", \"B\"]:\n",
    "            for dis in ldis:\n",
    "                a.addSegment(f\"{run.BUILD_DIRECTORY}/{pb}/{dis}/jdd_{pb}_{var}_{pos}.son\", label=f\"{dis} - {pos}\", compo=(1 if var == \"V\" else 0), marker=\"-\" if dis == \"VDF\" else \"o\")\n"
   ]
  }
 ],
 "metadata": {},
 "nbformat": 4,
 "nbformat_minor": 5
}
