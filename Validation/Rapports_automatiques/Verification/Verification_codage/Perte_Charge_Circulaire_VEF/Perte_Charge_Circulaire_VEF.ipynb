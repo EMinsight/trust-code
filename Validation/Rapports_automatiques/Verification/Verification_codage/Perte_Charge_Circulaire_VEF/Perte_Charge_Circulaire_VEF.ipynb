{
 "cells": [
  {
   "cell_type": "markdown",
   "id": "gross-patent",
   "metadata": {},
   "source": [
    "# Verification des pertes de charge circulaire en VEF"
   ]
  },
  {
   "cell_type": "code",
   "execution_count": null,
   "id": "62f3d5dc",
   "metadata": {},
   "outputs": [],
   "source": [
    "from trustutils import run\n",
    "\n",
    "run.introduction(\"G.F.\")\n",
    "\n",
    "run.TRUST_parameters(\"\")"
   ]
  },
  {
   "cell_type": "markdown",
   "id": "c9ce0fa0",
   "metadata": {},
   "source": [
    "### Description: \n",
    "\n",
    "Calculs menes en VEF"
   ]
  },
  {
   "cell_type": "code",
   "execution_count": null,
   "id": "15189bb2-352d-48f9-85fa-64c4323e0f88",
   "metadata": {},
   "outputs": [],
   "source": [
    "from trustutils import run \n",
    "run.addCase(\".\" ,\"Perte_Charge_Circulaire.data\") \n",
    "run.addCase(\".\" ,\"Perte_Charge_Circulaire_Y.data\") \n",
    "run.addCase(\".\" ,\"impl_Perte_Charge_Circulaire.data\") \n",
    "run.addCase(\".\" ,\"impl_Perte_Charge_Circulaire_Y.data\")\n",
    "run.printCases()\n",
    "run.runCases()"
   ]
  },
  {
   "cell_type": "markdown",
   "id": "f31c6d0f-d50c-4b57-9d77-499686cc88dc",
   "metadata": {},
   "source": [
    "## Verification du gradient de pression cas direction 1 0"
   ]
  },
  {
   "cell_type": "code",
   "execution_count": null,
   "id": "089cbb5c-12dd-471e-ad62-19d5dc43b8df",
   "metadata": {},
   "outputs": [],
   "source": [
    "from trustutils import plot\n",
    "import numpy as np\n",
    " \n",
    "Tableau=plot.Table([\"pression\"]) \n",
    "Tableau.addLine([[-5]],\"theorie\")\n",
    "Tableau.loadPoint(\"Perte_Charge_Circulaire_MIN_GRADIENT.son\",\"standard\")\n",
    "Tableau.loadPoint(\"impl_Perte_Charge_Circulaire_MIN_GRADIENT.son\",\"implicite\")\n",
    "\n",
    "display(Tableau)"
   ]
  },
  {
   "cell_type": "markdown",
   "id": "9683c0d3-97a1-4b25-9e9e-1d291ad53dfe",
   "metadata": {},
   "source": [
    "Verification du gradient de pression cas direction 0 1"
   ]
  },
  {
   "cell_type": "code",
   "execution_count": null,
   "id": "565f70f0-9abb-4545-9a81-f9d2bb1d3f66",
   "metadata": {},
   "outputs": [],
   "source": [
    "Tableau=plot.Table([\"pression\"]) \n",
    "Tableau.addLine([[-3.4489]],\"theorie\")\n",
    "Tableau.loadPoint(\"Perte_Charge_Circulaire_Y_MIN_GRADIENT.son\",\"standard\")\n",
    "Tableau.loadPoint(\"impl_Perte_Charge_Circulaire_Y_MIN_GRADIENT.son\",\"implicite\")\n",
    "\n",
    "display(Tableau)"
   ]
  },
  {
   "cell_type": "markdown",
   "id": "64fde24d-a89a-411f-8dbc-2f4ac38206b1",
   "metadata": {},
   "source": [
    "## Data Files\n",
    "### Perte_Charge_Circulaire"
   ]
  },
  {
   "cell_type": "code",
   "execution_count": null,
   "id": "d8b4dba3-657e-4856-a7db-3ef5f826079c",
   "metadata": {},
   "outputs": [],
   "source": [
    "run.dumpDataset(\"Perte_Charge_Circulaire.data\")"
   ]
  }
 ],
 "metadata": {},
 "nbformat": 4,
 "nbformat_minor": 5
}
