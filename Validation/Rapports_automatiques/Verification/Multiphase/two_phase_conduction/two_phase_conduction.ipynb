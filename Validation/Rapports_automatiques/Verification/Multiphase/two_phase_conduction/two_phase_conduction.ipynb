{
 "cells": [
  {
   "attachments": {},
   "cell_type": "markdown",
   "id": "gross-patent",
   "metadata": {},
   "source": [
    "# Twho phase conduction"
   ]
  },
  {
   "cell_type": "code",
   "execution_count": null,
   "id": "50d4a841",
   "metadata": {},
   "outputs": [],
   "source": [
    "from trustutils.jupyter import run\n",
    "\n",
    "run.introduction(\"Yannick Gorsse\")\n",
    "run.description(\"Driven cavity with cosine thermal power and thermal exchange with uniform external temperature\")\n",
    "run.TRUST_parameters()"
   ]
  },
  {
   "cell_type": "code",
   "execution_count": null,
   "id": "15189bb2-352d-48f9-85fa-64c4323e0f88",
   "metadata": {},
   "outputs": [],
   "source": [
    "from trustutils.jupyter import run\n",
    "\n",
    "run.reset()\n",
    "liste_dis = [\"VDF\", \"PolyMAC_P0\"]\n",
    "for dis in liste_dis:\n",
    "    run.addCaseFromTemplate(f\"jdd.data\", dis, {\"dis\" : dis})\n",
    "\n",
    "run.printCases()\n",
    "run.runCases()\n",
    "run.tablePerf()"
   ]
  },
  {
   "cell_type": "code",
   "execution_count": null,
   "id": "a4e5dc4c",
   "metadata": {},
   "outputs": [],
   "source": [
    "from trustutils import plot\n",
    "import numpy as np\n",
    "\n",
    "a = plot.Graph(\"Time steps\")\n",
    "for dis in liste_dis:\n",
    "    dt_ev = np.loadtxt(f\"{run.BUILD_DIRECTORY}/{dis}/jdd.dt_ev\")\n",
    "    a.add(dt_ev[:, 0], dt_ev[:, 1], label=dis)"
   ]
  },
  {
   "cell_type": "code",
   "execution_count": null,
   "id": "92a2bdd6",
   "metadata": {},
   "outputs": [],
   "source": [
    "a = plot.Graph(\"\", nY=2)\n",
    "for phase in [0, 1]:\n",
    "    a.addPlot(phase, f\"Phase {phase}\")\n",
    "    for dis in liste_dis:\n",
    "        a.addSegment(f\"{run.BUILD_DIRECTORY}/{dis}/jdd_T.son\", label=dis, compo=phase, marker=\"o\" if dis == \"VDF\" else \"-\")\n"
   ]
  }
 ],
 "metadata": {
  "kernelspec": {
   "display_name": "Python 3",
   "language": "python",
   "name": "python3"
  },
  "language_info": {
   "codemirror_mode": {
    "name": "ipython",
    "version": 3
   },
   "file_extension": ".py",
   "mimetype": "text/x-python",
   "name": "python",
   "nbconvert_exporter": "python",
   "pygments_lexer": "ipython3",
   "version": "3.7.9"
  },
  "vscode": {
   "interpreter": {
    "hash": "b782577cff7740386d5a4408bd06491b01e7449d0be1e4e757afd3bc68462014"
   }
  }
 },
 "nbformat": 4,
 "nbformat_minor": 5
}
