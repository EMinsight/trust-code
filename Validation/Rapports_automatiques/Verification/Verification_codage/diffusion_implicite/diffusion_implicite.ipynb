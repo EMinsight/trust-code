{
 "cells": [
  {
   "cell_type": "markdown",
   "id": "inappropriate-lingerie",
   "metadata": {},
   "source": [
    "# Test de la diffusion implicite"
   ]
  },
  {
   "cell_type": "code",
   "execution_count": null,
   "id": "41636957",
   "metadata": {},
   "outputs": [],
   "source": [
    "from trustutils import run\n",
    "\n",
    "run.introduction(\"Fauchet\")\n",
    "\n",
    "run.TRUST_parameters()"
   ]
  },
  {
   "cell_type": "markdown",
   "id": "38df1889",
   "metadata": {},
   "source": [
    "### Description: \n",
    "\n",
    "On regarde si au cours du temps le flux du solide vers le fluide compense celui du fluide vers le solide."
   ]
  },
  {
   "cell_type": "code",
   "execution_count": null,
   "id": "0868e968-9777-4954-80f4-46b58fe1b126",
   "metadata": {
    "tags": []
   },
   "outputs": [],
   "source": [
    "from trustutils import run  \n",
    "c1 = run.addCase(\".\",\"VDF_expl.data\"                 ) \n",
    "c2 = run.addCase(\".\",\"VDF_diff_impl.data\"            ) \n",
    "c3 = run.addCase(\".\",\"VDF_crank.data\"                ) \n",
    "c4 = run.addCase(\".\",\"VDF_diff_impl_non_precond.data\") \n",
    "c5 = run.addCase(\".\",\"VEF_expl.data\"                 ) \n",
    "c6 = run.addCase(\".\",\"VEF_diff_impl.data\"            ) \n",
    "c7 = run.addCase(\".\",\"VEF_crank.data\"                ) \n",
    "c8 = run.addCase(\".\",\"VEF_diff_impl_non_precond.data\") \n",
    "c9 = run.addCase(\".\",\"solide.data\"                   ) \n",
    "c10= run.addCase(\".\",\"solide_explicite.data\"         ) \n",
    "run.printCases()\n",
    "run.runCases()"
   ]
  },
  {
   "cell_type": "markdown",
   "id": "e6c2c033-3d3d-40dd-9853-7ac2384d69d1",
   "metadata": {},
   "source": [
    "## Evolution de la temperature en (0.55,0.55) en VDF\n",
    "\n",
    "Les 4 courbes vont elles vers la meme solution ?\\\n",
    "Remarque le non precond fait moins d’iterations"
   ]
  },
  {
   "cell_type": "code",
   "execution_count": null,
   "id": "99cfbb88-a376-499f-b4e3-e7be34571270",
   "metadata": {},
   "outputs": [],
   "source": [
    "from trustutils import plot\n",
    "\n",
    "Graphique=plot.Graph(\"\")\n",
    "Graphique.addPoint(\"./VDF_expl_SONDE_TFLU.son\",label=\"explicite\",marker='-|')\n",
    "Graphique.addPoint(\"./VDF_diff_impl_SONDE_TFLU.son\",label=\"diffusion implicite\",marker='-x')\n",
    "Graphique.addPoint(\"./VDF_crank_SONDE_TFLU.son\",label=\"diffusion implicite crank\",marker='-*')\n",
    "Graphique.addPoint(\"./VDF_diff_impl_non_precond_SONDE_TFLU.son\",label=\"diffusion implicite non preconditionne\",marker='-s',mfc='none')\n",
    "Graphique.visu()"
   ]
  },
  {
   "cell_type": "markdown",
   "id": "4666c66a-924e-4e1f-8c44-822c339fa5b7",
   "metadata": {},
   "source": [
    "## Evolution de la temperature en (0.55,0.55) en VEF \n",
    "\n",
    "Les 4 courbes vont elles vers la meme solution ?\\\n",
    "Remarque le non precond fait moins d’iterations"
   ]
  },
  {
   "cell_type": "code",
   "execution_count": null,
   "id": "2a1f1f5d-3d5b-4cb7-a4d1-5fecc1225744",
   "metadata": {},
   "outputs": [],
   "source": [
    "Graphique=plot.Graph(\"\")\n",
    "Graphique.addPoint(\"./VEF_expl_SONDE_TFLU.son\",label=\"explicite\",marker='-|')\n",
    "Graphique.addPoint(\"./VEF_diff_impl_SONDE_TFLU.son\",label=\"diffusion implicite\",marker='-x')\n",
    "Graphique.addPoint(\"./VEF_crank_SONDE_TFLU.son\",label=\"diffusion implicite crank\",marker='-*')\n",
    "Graphique.addPoint(\"./VEF_diff_impl_non_precond_SONDE_TFLU.son\",label=\"diffusion implicite non preconditionne\",marker='-s',mfc='none')\n",
    "Graphique.visu()"
   ]
  },
  {
   "cell_type": "markdown",
   "id": "7cac7005-9c4e-4e12-b92b-f1875baef081",
   "metadata": {},
   "source": [
    "## Cas de conduction analytique\n",
    "solution of the problem :  $T(x,t)=x \\cdot t$"
   ]
  },
  {
   "cell_type": "code",
   "execution_count": null,
   "id": "ce88d08d-6eb0-4400-9e44-acb95ac0ac0a",
   "metadata": {},
   "outputs": [],
   "source": [
    "import numpy as np\n",
    "\n",
    "Graphique=plot.Graph(\"Temperature\") \n",
    "Graphique.addSegment(\"./solide_SONDE_TSOL.son\",label=\"diffusion implicite\",marker=\"-|\")\n",
    "Graphique.addSegment(\"./solide_explicite_SONDE_TSOL.son\",label=\"diffusion explicite\",marker=\"-x\")\n",
    "x=np.linspace(0,1,300)\n",
    "y=10*x\n",
    "Graphique.add(x,y,label=\"solution analytique\")\n",
    "Graphique.visu()"
   ]
  },
  {
   "cell_type": "markdown",
   "id": "04f14d99-ee54-427c-a1a4-1aa4c1791c3a",
   "metadata": {},
   "source": [
    "## Computer performance"
   ]
  },
  {
   "cell_type": "code",
   "execution_count": null,
   "id": "25bd4dac-b56c-4c72-85ec-d5c52ca08bb9",
   "metadata": {
    "tags": []
   },
   "outputs": [],
   "source": [
    "run.tablePerf()"
   ]
  }
 ],
 "metadata": {},
 "nbformat": 4,
 "nbformat_minor": 5
}
