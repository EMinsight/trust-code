{
 "cells": [
  {
   "attachments": {},
   "cell_type": "markdown",
   "id": "gross-patent",
   "metadata": {},
   "source": [
    "# Buoyant driven cavity"
   ]
  },
  {
   "cell_type": "code",
   "execution_count": null,
   "id": "50d4a841",
   "metadata": {},
   "outputs": [],
   "source": [
    "from trustutils.jupyter import run\n",
    "\n",
    "run.introduction(\"Yannick Gorsse\")\n",
    "run.description(\"Driven cavity with cosine thermal power and thermal exchange with uniform external temperature\")\n",
    "run.TRUST_parameters()"
   ]
  },
  {
   "cell_type": "code",
   "execution_count": null,
   "id": "15189bb2-352d-48f9-85fa-64c4323e0f88",
   "metadata": {},
   "outputs": [],
   "source": [
    "from trustutils.jupyter import run\n",
    "\n",
    "pb_and_dis = {\"ns\" : [\"VDF\", \"PolyMAC_P0\", \"PolyMAC_P0P1NC\", \"PolyMAC\"], \"pbmulti\": [\"VDF\", \"PolyMAC_P0\"]}\n",
    "\n",
    "run.reset()\n",
    "for pb, ldis in pb_and_dis.items():\n",
    "    for dis in ldis:\n",
    "        run.addCaseFromTemplate(f\"jdd_{pb}.data\", f\"{pb}/{dis}\", {\"dis\" : dis})\n",
    "\n",
    "run.printCases()\n",
    "run.runCases()\n",
    "run.tablePerf()"
   ]
  },
  {
   "cell_type": "code",
   "execution_count": null,
   "id": "a4e5dc4c",
   "metadata": {},
   "outputs": [],
   "source": [
    "from trustutils import plot\n",
    "import numpy as np\n",
    "\n",
    "a = plot.Graph(\"Time steps\")\n",
    "\n",
    "for pb, ldis in pb_and_dis.items():\n",
    "    for dis in ldis:\n",
    "        dt_ev = np.loadtxt(f\"{run.BUILD_DIRECTORY}/{pb}/{dis}/jdd_{pb}.dt_ev\")\n",
    "        a.add(dt_ev[:, 0], dt_ev[:, 1], label=f\"{dis} - {pb}\")"
   ]
  },
  {
   "cell_type": "code",
   "execution_count": null,
   "id": "37356d58",
   "metadata": {},
   "outputs": [],
   "source": [
    "vars = (\"V\", \"T\")\n",
    "for pb, ldis in pb_and_dis.items():\n",
    "    a = plot.Graph(pb, nY=len(vars))\n",
    "    for j, var in enumerate(vars):\n",
    "        a.addPlot(j, f\"Variable {var}\")\n",
    "        for pos in [\"A\", \"B\"]:\n",
    "            for dis in ldis:\n",
    "                a.addSegment(f\"{run.BUILD_DIRECTORY}/{pb}/{dis}/jdd_{pb}_{var}_{pos}.son\", label=f\"{dis} - {pos}\", compo=(1 if var == \"V\" else 0), marker=\"-\" if dis == \"VDF\" else \"o\")\n"
   ]
  }
 ],
 "metadata": {
  "kernelspec": {
   "display_name": "Python 3",
   "language": "python",
   "name": "python3"
  },
  "language_info": {
   "codemirror_mode": {
    "name": "ipython",
    "version": 3
   },
   "file_extension": ".py",
   "mimetype": "text/x-python",
   "name": "python",
   "nbconvert_exporter": "python",
   "pygments_lexer": "ipython3",
   "version": "3.7.9"
  },
  "vscode": {
   "interpreter": {
    "hash": "b782577cff7740386d5a4408bd06491b01e7449d0be1e4e757afd3bc68462014"
   }
  }
 },
 "nbformat": 4,
 "nbformat_minor": 5
}
