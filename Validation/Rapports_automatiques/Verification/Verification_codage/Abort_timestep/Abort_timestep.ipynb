{
 "cells": [
  {
   "cell_type": "markdown",
   "id": "inappropriate-lingerie",
   "metadata": {},
   "source": [
    "# Test de abort time step"
   ]
  },
  {
   "cell_type": "code",
   "execution_count": null,
   "id": "4205c255",
   "metadata": {},
   "outputs": [],
   "source": [
    "from trustutils import run\n",
    "\n",
    "run.introduction(\"Fauchet Perdu\")\n",
    "run.description(\"On regarde si suite a un abort time step la pression reste bien continue\")\n",
    "run.TRUST_parameters()"
   ]
  },
  {
   "cell_type": "markdown",
   "id": "obvious-arrangement",
   "metadata": {},
   "source": [
    "### Test Cases\n",
    "* ./abort_QC.data :\n",
    "* ./abort_QC_Pimp.data :"
   ]
  },
  {
   "cell_type": "code",
   "execution_count": null,
   "id": "687d21fd-6887-4818-a9f4-ed42aa1dae65",
   "metadata": {},
   "outputs": [],
   "source": [
    "from trustutils import run \n",
    "import os\n",
    "c1 = run.addCase(\".\",\"abort_QC.data\")\n",
    "c2 = run.addCase(\".\",\"abort_QC_Pimp.data\") \n",
    "run.runCases()"
   ]
  },
  {
   "cell_type": "markdown",
   "id": "growing-hundred",
   "metadata": {},
   "source": [
    "## Visus des champs de pression\n",
    "On espere que l’image du milieu soit semblables aux deux autres.\n",
    "### abort_QC teste surtout milieu::abort_time_step "
   ]
  },
  {
   "cell_type": "code",
   "execution_count": null,
   "id": "de6f9473-acdd-47c6-a8de-477bfc52a36a",
   "metadata": {},
   "outputs": [],
   "source": [
    "from trustutils import visit\n",
    "\n",
    "plot = visit.Show(\n",
    "    \"./abort_QC.lata\",\n",
    "    \"Pseudocolor\",\n",
    "    \"PRESSION_ELEM_dom_fluid\",\n",
    "    time=2,\n",
    "    nY=2,\n",
    "    nX=2,\n",
    "    mesh=\"dom_fluid\",\n",
    "    plotmesh=False) \n",
    "\n",
    "plot.add(\"./abort_QC.lata\",\n",
    "         \"Pseudocolor\",\n",
    "         \"PRESSION_ELEM_dom_fluid\",\n",
    "         yIndice=1,\n",
    "         time=3,\n",
    "         mesh=\"dom_fluid\")\n",
    "\n",
    "plot.add(\"./abort_QC.lata\",\n",
    "         \"Pseudocolor\",\n",
    "         \"PRESSION_ELEM_dom_fluid\",\n",
    "         xIndice=1,\n",
    "         time=4,\n",
    "         mesh=\"dom_fluid\")\n",
    "\n",
    "plot.plot()"
   ]
  },
  {
   "cell_type": "markdown",
   "id": "1e22bfee-1a08-42b6-b05f-65558908559c",
   "metadata": {},
   "source": [
    "### abort_QC_Pimp teste surtout N_S::abort_time_step"
   ]
  },
  {
   "cell_type": "code",
   "execution_count": null,
   "id": "227ea8c5-9474-4499-b778-d6c43f328482",
   "metadata": {},
   "outputs": [],
   "source": [
    "from trustutils import visit\n",
    "plot=visit.Show(\"./abort_QC_Pimp.lata\",\"Pseudocolor\",\"PRESSION_ELEM_dom_fluid\",time=2,nX=2,nY=2,mesh=\"dom_fluid\",plotmesh=False) \n",
    "plot.add(\"./abort_QC_Pimp.lata\",\"Pseudocolor\",\"PRESSION_ELEM_dom_fluid\",yIndice=1,time=3,mesh=\"dom_fluid\")\n",
    "plot.add(\"./abort_QC_Pimp.lata\",\"Pseudocolor\",\"PRESSION_ELEM_dom_fluid\",xIndice=1,time=4,mesh=\"dom_fluid\") \n",
    "plot.plot() "
   ]
  }
 ],
 "metadata": {
  "kernelspec": {
   "display_name": "Python 3 (ipykernel)",
   "language": "python",
   "name": "python3"
  },
  "language_info": {
   "codemirror_mode": {
    "name": "ipython",
    "version": 3
   },
   "file_extension": ".py",
   "mimetype": "text/x-python",
   "name": "python",
   "nbconvert_exporter": "python",
   "pygments_lexer": "ipython3",
   "version": "3.7.9"
  }
 },
 "nbformat": 4,
 "nbformat_minor": 5
}
