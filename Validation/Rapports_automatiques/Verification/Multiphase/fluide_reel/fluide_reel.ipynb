{
 "cells": [
  {
   "cell_type": "markdown",
   "id": "gross-patent",
   "metadata": {},
   "source": [
    "# Fluide reel"
   ]
  },
  {
   "cell_type": "code",
   "execution_count": null,
   "id": "50d4a841",
   "metadata": {},
   "outputs": [],
   "source": [
    "from trustutils.jupyter import run\n",
    "\n",
    "run.introduction(\"Yannick Gorsse\")\n",
    "run.description(\"Utilisation d'un fluide a (P, T) fixes comme un fluide incompressible dans un Pb_Thermohydraulique\")\n",
    "run.TRUST_parameters()"
   ]
  },
  {
   "cell_type": "code",
   "execution_count": null,
   "id": "15189bb2-352d-48f9-85fa-64c4323e0f88",
   "metadata": {},
   "outputs": [],
   "source": [
    "from trustutils.jupyter import run\n",
    "\n",
    "run.reset()\n",
    "liste_dis = [\"VDF\", \"PolyMAC\", \"PolyMAC_P0\"]\n",
    "for dis in liste_dis:\n",
    "    run.addCaseFromTemplate(\"jdd.data\", dis, {\"dis\" : dis})\n",
    "\n",
    "run.printCases()\n",
    "run.runCases()"
   ]
  },
  {
   "cell_type": "code",
   "execution_count": null,
   "id": "92a2bdd6",
   "metadata": {},
   "outputs": [],
   "source": [
    "from trustutils import plot\n",
    "from math import ceil\n",
    "\n",
    "vars = (\"V\", \"P\", \"RHO\", \"MU\", \"NU\", \"LAMBDA\", \"CP\")\n",
    "a = plot.Graph(\"comparaison\", nX=len(vars))\n",
    "\n",
    "for i, var in enumerate(vars):\n",
    "    a.addPlot(i, f\"Variable {var}\")\n",
    "    for dis in liste_dis:\n",
    "        a.addSegment(f\"{run.BUILD_DIRECTORY}/{dis}/jdd_{var}.son\", label=dis, compo=(1 if var == \"V\" else 0))\n"
   ]
  }
 ],
 "metadata": {
  "kernelspec": {
   "display_name": "Python 3 (ipykernel)",
   "language": "python",
   "name": "python3"
  },
  "language_info": {
   "codemirror_mode": {
    "name": "ipython",
    "version": 3
   },
   "file_extension": ".py",
   "mimetype": "text/x-python",
   "name": "python",
   "nbconvert_exporter": "python",
   "pygments_lexer": "ipython3",
   "version": "3.7.9"
  }
 },
 "nbformat": 4,
 "nbformat_minor": 5
}
