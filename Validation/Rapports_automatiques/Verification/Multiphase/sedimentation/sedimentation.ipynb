{
 "cells": [
  {
   "cell_type": "markdown",
   "id": "gross-patent",
   "metadata": {},
   "source": [
    "# Sedimentation"
   ]
  },
  {
   "cell_type": "code",
   "execution_count": null,
   "id": "50d4a841",
   "metadata": {},
   "outputs": [],
   "source": [
    "from trustutils.jupyter import run\n",
    "\n",
    "run.introduction(\"A. Gerschenfeld, Y. Gorsse\")\n",
    "run.description(\"Cas tests de sedimentation. Etat initial melange, et separation des phases par gravite.\")\n",
    "run.TRUST_parameters()"
   ]
  },
  {
   "cell_type": "code",
   "execution_count": null,
   "id": "15189bb2-352d-48f9-85fa-64c4323e0f88",
   "metadata": {},
   "outputs": [],
   "source": [
    "from trustutils import run\n",
    "\n",
    "cases = [\"Triangles\", \"Quadrangles\", \"Cartesian\", \"Locally_Refined\"]\n",
    "\n",
    "for case in cases:\n",
    "    run.addCase(\"%s\" % (case) ,\"cas.data\")\n",
    "\n",
    "run.printCases()\n",
    "run.runCases()"
   ]
  },
  {
   "cell_type": "markdown",
   "id": "2b813f3c-e933-430b-baf7-769736e8fffd",
   "metadata": {},
   "source": [
    "## Resultats"
   ]
  },
  {
   "cell_type": "code",
   "execution_count": null,
   "id": "025147b0",
   "metadata": {},
   "outputs": [],
   "source": [
    "from trustutils import plot\n",
    "\n",
    "a = plot.Graph(\"Alpha, mesh Triangles\",nX=4,nY=2)\n",
    "\n",
    "times = [0.1,0.2,0.3,0.4,0.5,0.6,0.7,0.8,0.9,1.,1.5,2,3,4,5,6,7,8,9,10]\n",
    "\n",
    "nx = 0\n",
    "for case in cases:\n",
    "    for t in times:\n",
    "        a.addPlot([nx,0],\"Alpha, mesh %s\" %case)\n",
    "        a.addSegment(\"%s/cas_ALPHA.son\" %case ,value=t,label=None)\n",
    "        a.label(\"y [m]\",\"alpha [-]\")\n",
    "        a.visu(0,1,0,1)\n",
    "        \n",
    "        a.addPlot([nx,1],\"Vg, mesh %s\" %case)\n",
    "        a.addSegment(\"%s/cas_PROFIL_VG.son\" %case, compo=1, value=t,label=None)\n",
    "        a.label(\"y [m]\",\"vg [m/s]\")\n",
    "        a.visu(0,1,-0.2,0.2)\n",
    "    nx += 1 \n"
   ]
  }
 ],
 "metadata": {
  "kernelspec": {
   "display_name": "Python 3 (ipykernel)",
   "language": "python",
   "name": "python3"
  },
  "language_info": {
   "codemirror_mode": {
    "name": "ipython",
    "version": 3
   },
   "file_extension": ".py",
   "mimetype": "text/x-python",
   "name": "python",
   "nbconvert_exporter": "python",
   "pygments_lexer": "ipython3",
   "version": "3.7.9"
  }
 },
 "nbformat": 4,
 "nbformat_minor": 5
}
