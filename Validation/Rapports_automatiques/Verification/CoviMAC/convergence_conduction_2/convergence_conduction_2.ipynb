{
 "cells": [
  {
   "cell_type": "markdown",
   "id": "inappropriate-lingerie",
   "metadata": {},
   "source": [
    "# Tests de convergence de l’operateur de diffusion aux elements"
   ]
  },
  {
   "cell_type": "code",
   "execution_count": null,
   "id": "2f9a5570",
   "metadata": {},
   "outputs": [],
   "source": [
    "from trustutils import run \n",
    "\n",
    "run.introduction(\"Y. Gorsse\")\n",
    "run.description(\"Cas test avec cl de Dirichlet, dont la solution analytique est un produit de sinus.\")\n",
    "run.TRUST_parameters()"
   ]
  },
  {
   "cell_type": "code",
   "execution_count": null,
   "id": "079d201b-67de-4f90-8493-a2a38d65de78",
   "metadata": {},
   "outputs": [],
   "source": [
    "from trustutils import run \n",
    "dico_meshes_2D = {\n",
    "    \"Cartesian\":[1,2,3], \n",
    "    \"Locally_Refined\":[1,2,3],\n",
    "    \"Quadrangles\":[1,2,3],\n",
    "    \"Triangles\":[1,2,3]\n",
    "}\n",
    "\n",
    "for m in dico_meshes_2D.keys():\n",
    "    for i in dico_meshes_2D[m]:\n",
    "        run.addCase(\"./%s/jdd_%d\" % (m, i), \"cas.data\", nbProcs=1)\n",
    "\n",
    "run.printCases()\n",
    "run.runCases()"
   ]
  },
  {
   "cell_type": "markdown",
   "id": "growing-hundred",
   "metadata": {},
   "source": [
    "## Maillages Triangles "
   ]
  },
  {
   "cell_type": "code",
   "execution_count": null,
   "id": "8be58f76-13ac-4f87-833c-7063b4e08e8c",
   "metadata": {
    "tags": []
   },
   "outputs": [],
   "source": [
    "from trustutils import visit\n",
    "plot=visit.Show(\"Triangles/jdd_1/cas.lata\",field=\"Mesh\",name=\"dom\",nY=3) \n",
    "plot.add(\"Triangles/jdd_2/cas.lata\",field=\"Mesh\",name=\"dom\",yIndice=1) \n",
    "plot.add(\"Triangles/jdd_3/cas.lata\",field=\"Mesh\",name=\"dom\",yIndice=2) \n",
    "plot.plot()"
   ]
  },
  {
   "cell_type": "markdown",
   "id": "8caa0a9b-7209-470d-a265-fd04556d3fa7",
   "metadata": {},
   "source": [
    "## Maillages Quadrangles"
   ]
  },
  {
   "cell_type": "code",
   "execution_count": null,
   "id": "8b866046-cd0a-48d0-8952-6544e29fb20d",
   "metadata": {},
   "outputs": [],
   "source": [
    "from trustutils import visit\n",
    "plot=visit.Show(\"Quadrangles/jdd_1/cas.lata\",field=\"Mesh\",name=\"dom\",nY=3) \n",
    "plot.add(\"Quadrangles/jdd_2/cas.lata\",field=\"Mesh\",name=\"dom\",yIndice=1) \n",
    "plot.add(\"Quadrangles/jdd_3/cas.lata\",field=\"Mesh\",name=\"dom\",yIndice=2)  \n",
    "plot.plot()"
   ]
  },
  {
   "cell_type": "markdown",
   "id": "c66275bc-197d-4882-9a6c-02c8e2a05fe4",
   "metadata": {},
   "source": [
    "## Maillages Cartesian"
   ]
  },
  {
   "cell_type": "code",
   "execution_count": null,
   "id": "5e0deaa3-3135-4d64-8827-bbbe38712637",
   "metadata": {},
   "outputs": [],
   "source": [
    "from trustutils import visit\n",
    "plot=visit.Show(\"Cartesian/jdd_1/cas.lata\",field=\"Mesh\",name=\"dom\",nY=3) \n",
    "plot.add(\"Cartesian/jdd_2/cas.lata\",field=\"Mesh\",name=\"dom\",yIndice=1) \n",
    "plot.add(\"Cartesian/jdd_3/cas.lata\",field=\"Mesh\",name=\"dom\",yIndice=2)  \n",
    "plot.plot()"
   ]
  },
  {
   "cell_type": "markdown",
   "id": "88ee87f7-f610-4457-af11-d5d0cfff74ed",
   "metadata": {},
   "source": [
    "## Maillages Locally_Refined"
   ]
  },
  {
   "cell_type": "code",
   "execution_count": null,
   "id": "79165f2e-bb4f-43bb-a38f-e1a727d5ef38",
   "metadata": {},
   "outputs": [],
   "source": [
    "from trustutils import visit\n",
    "plot=visit.Show(\"Locally_Refined/jdd_1/cas.lata\",field=\"Mesh\",name=\"dom\",nY=3) \n",
    "plot.add(\"Locally_Refined/jdd_2/cas.lata\",field=\"Mesh\",name=\"dom\",yIndice=1) \n",
    "plot.add(\"Locally_Refined/jdd_3/cas.lata\",field=\"Mesh\",name=\"dom\",yIndice=2)  \n",
    "plot.plot()"
   ]
  },
  {
   "cell_type": "markdown",
   "id": "f37f1c03-095c-4217-8db5-91137ba3ca14",
   "metadata": {},
   "source": [
    "## Convergence en maillage en vitesse\n",
    "### Ordres de convergence"
   ]
  },
  {
   "cell_type": "code",
   "execution_count": null,
   "id": "b6fa654c-5d38-4e8a-976e-5cc524d4337d",
   "metadata": {},
   "outputs": [],
   "source": [
    "run.executeScript(\"extract_convergence\")"
   ]
  },
  {
   "cell_type": "code",
   "execution_count": null,
   "id": "3b779a19-3641-4afe-98be-e12c12a4968e",
   "metadata": {},
   "outputs": [],
   "source": [
    "from trustutils.jupyter import plot\n",
    "import numpy as np\n",
    "\n",
    "a=plot.Graph(\"Ordres de convergence\")\n",
    "\n",
    "data=plot.loadText(\"Triangles/conv_glob\")\n",
    "a.add(1/np.sqrt(data[0]),data[1],label=\"Triangles\",marker='-|')\n",
    "\n",
    "data=plot.loadText(\"Quadrangles/conv_glob\")\n",
    "a.add(1/np.sqrt(data[0]),data[1],label=\"Quadrangles\",marker='-x')\n",
    "\n",
    "data=plot.loadText(\"Cartesian/conv_glob\")\n",
    "a.add(1/np.sqrt(data[0]),data[1],label=\"Cartesian\",marker='-*')\n",
    "\n",
    "data=plot.loadText(\"Locally_Refined/conv_glob\")\n",
    "a.add(1/np.sqrt(data[0]),data[1],label=\"Locally_Refined\",marker='-s',markerfacecolor='None')\n",
    "\n",
    "x=np.linspace((1/np.sqrt(data[0]))[0],(1/np.sqrt(data[0]))[-1],100)\n",
    "a.add(x,x,label=\"Order 1\")\n",
    "\n",
    "x=np.linspace((1/np.sqrt(data[0]))[0],(1/np.sqrt(data[0]))[-1],100)\n",
    "a.add(x,x,label=\"Order 2\")\n",
    "\n",
    "a.label(\"N\",\"erreur_max\")\n",
    "a.scale(xscale='log',yscale='log')\n",
    "a.visu()\n",
    "\n"
   ]
  },
  {
   "cell_type": "markdown",
   "id": "d79cdc0e-403c-4df0-af57-9e5ede386818",
   "metadata": {},
   "source": [
    "### Convergence de la solution sur maillage Triangles"
   ]
  },
  {
   "cell_type": "code",
   "execution_count": null,
   "id": "49019f31-8fcb-4e68-a21b-77e762b47c43",
   "metadata": {},
   "outputs": [],
   "source": [
    "from trustutils.jupyter import plot \n",
    "\n",
    "Graphique=plot.Graph(\"Convergence de la solution sur maillage Triangles\")\n",
    "Graphique.addSegment(\"Triangles/jdd_1/cas_TEMPERATURE_DIAG.son\",label='Triangles,1',marker='-|')\n",
    "Graphique.addSegment(\"Triangles/jdd_2/cas_TEMPERATURE_DIAG.son\",label='Triangles,2',marker='-x')\n",
    "Graphique.addSegment(\"Triangles/jdd_3/cas_TEMPERATURE_DIAG.son\",label='Triangles,2',marker='-*')"
   ]
  },
  {
   "cell_type": "markdown",
   "id": "da82916b-2004-4c43-8489-0590c0635c2c",
   "metadata": {},
   "source": [
    "### Convergence de la solution sur maillage Quadrangles"
   ]
  },
  {
   "cell_type": "code",
   "execution_count": null,
   "id": "c01ebcaa-9426-4e7f-96ad-6de11ddd6ba2",
   "metadata": {},
   "outputs": [],
   "source": [
    "Graphique=plot.Graph(\"Convergence de la solution sur maillage Quadrangles\")\n",
    "Graphique.addSegment(\"Quadrangles/jdd_1/cas_TEMPERATURE_DIAG.son\",label='Quadrangles,1',marker='-|')\n",
    "Graphique.addSegment(\"Quadrangles/jdd_2/cas_TEMPERATURE_DIAG.son\",label='Quadrangles,2',marker='-x')\n",
    "Graphique.addSegment(\"Quadrangles/jdd_3/cas_TEMPERATURE_DIAG.son\",label='Quadrangles,3',marker='-*')"
   ]
  },
  {
   "cell_type": "markdown",
   "id": "9a3420a1-1153-4e56-9060-fcc34becd909",
   "metadata": {},
   "source": [
    "### Convergence de la solution sur maillage Cartesian\n"
   ]
  },
  {
   "cell_type": "code",
   "execution_count": null,
   "id": "735009be-7fc0-4821-89f6-6f441eeb99cf",
   "metadata": {},
   "outputs": [],
   "source": [
    "Graphique=plot.Graph(\"Convergence de la solution sur maillage Cartesian\")\n",
    "Graphique.addSegment(\"Cartesian/jdd_1/cas_TEMPERATURE_DIAG.son\",label='Cartesian,1',marker='-|')\n",
    "Graphique.addSegment(\"Cartesian/jdd_2/cas_TEMPERATURE_DIAG.son\",label='Cartesian,2',marker='-x')\n",
    "Graphique.addSegment(\"Cartesian/jdd_3/cas_TEMPERATURE_DIAG.son\",label='Cartesian,3',marker='-*')"
   ]
  },
  {
   "cell_type": "markdown",
   "id": "3e8f9650-95db-45af-8447-3798a9b71222",
   "metadata": {},
   "source": [
    "### Convergence de la solution sur maillage Locally_Refined"
   ]
  },
  {
   "cell_type": "code",
   "execution_count": null,
   "id": "70d97ea9-9ba6-487f-a586-90ac467f5e04",
   "metadata": {},
   "outputs": [],
   "source": [
    "Graphique=plot.Graph(\"Convergence de la solution sur maillage Locally Refined\")\n",
    "Graphique.addSegment(\"Locally_Refined/jdd_1/cas_TEMPERATURE_DIAG.son\",label='Locally Refined,1',marker='-|')\n",
    "Graphique.addSegment(\"Locally_Refined/jdd_2/cas_TEMPERATURE_DIAG.son\",label='Locally Refined,2',marker='-x')\n",
    "Graphique.addSegment(\"Locally_Refined/jdd_3/cas_TEMPERATURE_DIAG.son\",label='Locally Refined,3',marker='-*')"
   ]
  }
 ],
 "metadata": {
  "kernelspec": {
   "display_name": "Python 3 (ipykernel)",
   "language": "python",
   "name": "python3"
  },
  "language_info": {
   "codemirror_mode": {
    "name": "ipython",
    "version": 3
   },
   "file_extension": ".py",
   "mimetype": "text/x-python",
   "name": "python",
   "nbconvert_exporter": "python",
   "pygments_lexer": "ipython3",
   "version": "3.7.9"
  },
  "toc-autonumbering": true
 },
 "nbformat": 4,
 "nbformat_minor": 5
}
