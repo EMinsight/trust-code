{
 "cells": [
  {
   "cell_type": "markdown",
   "id": "judicial-directive",
   "metadata": {},
   "source": [
    "# Vérification de la conduction thermique instationnaire"
   ]
  },
  {
   "cell_type": "code",
   "execution_count": null,
   "id": "0197246a",
   "metadata": {},
   "outputs": [],
   "source": [
    "from trustutils import run\n",
    "\n",
    "run.introduction(\"D.Jamet\",\"13/04/2021\")\n",
    "run.description(\"On considère un problème de conduction thermique instationnaire. On compare la solution obtenue par GENEPI à la solution analytique. La température est imposée en entrée et sortie du domaine (cf. jeu de données). On compare le profil de température dans la direction 𝑥 ainsi que le champ de température bidimensionnel. On compare également les flux conductifs sur les parois en entrée et sortie.\")\n",
    "run.TRUST_parameters()"
   ]
  },
  {
   "cell_type": "code",
   "execution_count": null,
   "id": "0344b454-36ba-4bcb-9c0e-e7780ee334f5",
   "metadata": {},
   "outputs": [],
   "source": [
    "from trustutils import run\n",
    "c1 = run.addCase(\".\",\"conduc_genepi_instat.data\")\n",
    "run.printCases()\n",
    "run.runCases( )"
   ]
  },
  {
   "cell_type": "markdown",
   "id": "freelance-strap",
   "metadata": {},
   "source": [
    "## Champs de température\n",
    "On compare les champs de température calculé par GENEPI et analytique.  Cette comparaison se fait sur un profil en $y=cte$ et sur le champ 2D."
   ]
  },
  {
   "cell_type": "markdown",
   "id": "protecting-frederick",
   "metadata": {},
   "source": [
    "### Comparaison des profils calculé et analytique"
   ]
  },
  {
   "cell_type": "code",
   "execution_count": null,
   "id": "descending-butterfly",
   "metadata": {
    "scrolled": false
   },
   "outputs": [],
   "source": [
    "from trustutils.jupyter import plot \n",
    "import numpy as np\n",
    "\n",
    "a=plot.Graph(\"Comparaison des profils calcules et analytiques\",size=[15,10])\n",
    "data = plot.loadText(\"ref_values.dat\",skiprows=418)\n",
    "a.add(data[0],data[1],label='analytique')\n",
    "a.addSegment(\"./conduc_genepi_instat_TEMPERATURE_X.son\",param=\"Time\",value=0.0,label=\"Ef t=0.0\",marker='r-|')   \n",
    "a.addSegment(\"./conduc_genepi_instat_TEMPERATURE_X.son\",param=\"Time\",value=0.5,label=\"Ef t=0.5\",marker='b-x')  \n",
    "a.addSegment(\"./conduc_genepi_instat_TEMPERATURE_X.son\",param=\"Time\",value=1.0,label=\"Ef t=1.0\",marker='k-*') \n",
    "a.addSegment(\"./conduc_genepi_instat_TEMPERATURE_X.son\",param=\"Time\",value=1.5,label=\"Ef t=1.5\",marker='g-s') \n",
    "a.addSegment(\"./conduc_genepi_instat_TEMPERATURE_X.son\",param=\"Time\",value=2.0,label=\"Ef t=2.0\",marker='y-D') \n",
    "a.addSegment(\"./conduc_genepi_instat_TEMPERATURE_X.son\",param=\"Time\",value=10.0,label=\"Ef t=10.0\",marker='-o',color='pink') \n",
    "a.visu(0,0.05,-10,15)\n"
   ]
  },
  {
   "cell_type": "markdown",
   "id": "arabic-trinity",
   "metadata": {},
   "source": [
    "### Champ de température à $t=0.5$\n",
    "On trace le champ d'écart entre la température calculée et la solution analytique.  La solution analytique est représentée par des isovaleurs du champ de température."
   ]
  },
  {
   "cell_type": "code",
   "execution_count": null,
   "id": "serious-stationery",
   "metadata": {},
   "outputs": [],
   "source": [
    "from trustutils import visit \n",
    "Plot=visit.showField(\"./conduc_genepi_instat.lata\",\"Pseudocolor\",\"TEMPERATURE_SOM_dom\",time=1) "
   ]
  },
  {
   "cell_type": "markdown",
   "id": "handled-willow",
   "metadata": {},
   "source": [
    "## Flux conductifs aux frontières du domaine\n",
    "Les flux conductifs calculés par GENEPI en $x=0$ et $x=L$ sont comparés aux flux théoriques.  L'erreur correspondante est également donnée."
   ]
  },
  {
   "cell_type": "markdown",
   "id": "velvet-operator",
   "metadata": {},
   "source": [
    "### Comparaison théorie/numérique"
   ]
  },
  {
   "cell_type": "code",
   "execution_count": null,
   "id": "rolled-works",
   "metadata": {},
   "outputs": [],
   "source": [
    "from trustutils.jupyter import plot\n",
    "import numpy as np\n",
    "#A refaire\n",
    "\n",
    "columns=[\"flux gauche\",'flux droit']\n",
    "Table=plot.Table(columns)  \n",
    "ref=[5.,-5.]\n",
    "Table.addLigne([ref],\"theorie\")\n",
    "data=plot.loadText(\"./conduc_genepi_instat_fin.out\")\n",
    "Table.addLigne([data[[1,4]]],\"calcul\") \n",
    "error=[int((ref[0]-data[1])*10000)/(100.*ref[0]),int((ref[1]-data[4])*10000)/(100*ref[1])]\n",
    "Table.addLigne([error],\"error en %\") \n",
    "Table.df "
   ]
  },
  {
   "cell_type": "markdown",
   "id": "informal-female",
   "metadata": {},
   "source": [
    "### Comparaison des profils calculé et analytique"
   ]
  },
  {
   "cell_type": "code",
   "execution_count": null,
   "id": "executive-telescope",
   "metadata": {},
   "outputs": [],
   "source": [
    "from trustutils import plot\n",
    "\n",
    "a = plot.Graph(\"Comparaison des profils calcules et analytique\")\n",
    "\n",
    "x=plot.loadText(\"./conduc_genepi_instat_pb_Diffusion_chaleur.out\")\n",
    "a.add(x[0],x[1],marker=\"-|\",label=\"EF\",color='r')   \n",
    "\n",
    "\n",
    "x=plot.loadText(\"./conduc_genepi_instat_pb_Diffusion_chaleur.out\")\n",
    "a.add(x[0],x[1],marker=\"-x\",label=\"analytique\",color='g')   \n",
    "\n",
    "a.label(\"x\",\"flux\")\n",
    "a.visu(0,10,-12,6)"
   ]
  },
  {
   "cell_type": "markdown",
   "id": "enclosed-appreciation",
   "metadata": {},
   "source": [
    "## Data Files\n",
    "### conduc_genepi_instat"
   ]
  },
  {
   "cell_type": "code",
   "execution_count": null,
   "id": "advised-settlement",
   "metadata": {
    "scrolled": true,
    "tags": []
   },
   "outputs": [],
   "source": [
    "from trustutils import run \n",
    "run.dumpDataset(\"./conduc_genepi_instat.data\") "
   ]
  }
 ],
 "metadata": {
  "kernelspec": {
   "display_name": "Python 3 (ipykernel)",
   "language": "python",
   "name": "python3"
  },
  "language_info": {
   "codemirror_mode": {
    "name": "ipython",
    "version": 3
   },
   "file_extension": ".py",
   "mimetype": "text/x-python",
   "name": "python",
   "nbconvert_exporter": "python",
   "pygments_lexer": "ipython3",
   "version": "3.7.9"
  }
 },
 "nbformat": 4,
 "nbformat_minor": 5
}
