{
 "cells": [
  {
   "cell_type": "markdown",
   "id": "gross-patent",
   "metadata": {},
   "source": [
    "# Check MED_major format"
   ]
  },
  {
   "cell_type": "code",
   "execution_count": null,
   "id": "7911bb26",
   "metadata": {},
   "outputs": [],
   "source": [
    "from trustutils import run\n",
    "\n",
    "run.introduction(\"A. Bruneton\",\"13/04/2021\")"
   ]
  },
  {
   "cell_type": "markdown",
   "id": "perfect-entrepreneur",
   "metadata": {},
   "source": [
    "### Description \n",
    "This note illustrates the use of the new keyword 'med_major' to write the post in MED file with version number X.0 when the current MED version given with TRUST is X.Y. At the time of writing this allows to write a MED file in version 3.0 when the MED version of TRUST is 3.2."
   ]
  },
  {
   "cell_type": "code",
   "execution_count": null,
   "id": "a61057b9",
   "metadata": {},
   "outputs": [],
   "source": [
    "run.TRUST_parameters()"
   ]
  },
  {
   "cell_type": "code",
   "execution_count": null,
   "id": "15189bb2-352d-48f9-85fa-64c4323e0f88",
   "metadata": {},
   "outputs": [],
   "source": [
    "run.addCase(\".\" ,\"MED_major.data\")\n",
    "run.printCases()\n",
    "run.runCases()"
   ]
  },
  {
   "cell_type": "markdown",
   "id": "2b813f3c-e933-430b-baf7-769736e8fffd",
   "metadata": {},
   "source": [
    "## File check\n",
    "A extremely reduced version of upwind is run.  The below test checks that MED file was written with the major version number."
   ]
  },
  {
   "cell_type": "code",
   "execution_count": null,
   "id": "ea873754-f777-46f2-bbfe-b89b52ac5bf0",
   "metadata": {},
   "outputs": [],
   "source": [
    "run.useMEDCoupling()\n",
    "import medcoupling as mc\n",
    "fname = \"MED_major_0000.med\"\n",
    "maj_ver = \"4.0.1\"  # at the time of writing ...\n",
    "ver = mc.MEDFileVersionOfFileStr(f'build/{fname}')\n",
    "print(f\"File {fname} was written with MEDFile version {ver}\")\n",
    "if ver != maj_ver:  # Current MAJOR med version\n",
    "    print(f\"ERROR!! This is not equal to {maj_ver}\")"
   ]
  }
 ],
 "metadata": {
  "kernelspec": {
   "display_name": "Python 3 (ipykernel)",
   "language": "python",
   "name": "python3"
  },
  "language_info": {
   "codemirror_mode": {
    "name": "ipython",
    "version": 3
   },
   "file_extension": ".py",
   "mimetype": "text/x-python",
   "name": "python",
   "nbconvert_exporter": "python",
   "pygments_lexer": "ipython3",
   "version": "3.7.9"
  }
 },
 "nbformat": 4,
 "nbformat_minor": 5
}
