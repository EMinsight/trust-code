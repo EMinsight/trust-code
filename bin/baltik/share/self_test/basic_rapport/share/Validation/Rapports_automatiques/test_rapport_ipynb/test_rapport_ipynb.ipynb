{
 "cells": [
  {
   "cell_type": "markdown",
   "id": "12268173",
   "metadata": {},
   "source": [
    "### TRUST parameters\n",
    " \n",
    "* Version TRUST :  \n"
   ]
  },
  {
   "cell_type": "code",
   "execution_count": null,
   "id": "f4fee36d",
   "metadata": {},
   "outputs": [],
   "source": [
    "from trustutils import run\n",
    " \n",
    "run.addCase(\".\",\"Ecr_fic.data\")\n",
    "case2=run.addCase(\".\",\"Ecr_fic_par.data\",2)\n",
    "case2.partition()\n",
    "run.printCases()\n",
    "run.runCases()"
   ]
  },
  {
   "cell_type": "markdown",
   "id": "a6694e6c",
   "metadata": {},
   "source": [
    "## on ne fait rien ...\n",
    " \n"
   ]
  },
  {
   "cell_type": "markdown",
   "id": "8cffdee6",
   "metadata": {},
   "source": [
    "## Data Files"
   ]
  }
 ],
 "metadata": {
  "kernelspec": {
   "display_name": "Python 3 (ipykernel)",
   "language": "python",
   "name": "python3"
  },
  "language_info": {
   "codemirror_mode": {
    "name": "ipython",
    "version": 3
   },
   "file_extension": ".py",
   "mimetype": "text/x-python",
   "name": "python",
   "nbconvert_exporter": "python",
   "pygments_lexer": "ipython3",
   "version": "3.7.9"
  }
 },
 "nbformat": 4,
 "nbformat_minor": 5
}
