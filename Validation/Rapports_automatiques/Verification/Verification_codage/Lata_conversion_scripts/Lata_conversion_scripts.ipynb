{
 "cells": [
  {
   "cell_type": "markdown",
   "id": "gross-patent",
   "metadata": {},
   "source": [
    "# Check python scripts Lata_to_med and Lata_to_case"
   ]
  },
  {
   "cell_type": "code",
   "execution_count": null,
   "id": "c2f72091",
   "metadata": {},
   "outputs": [],
   "source": [
    "from trustutils import run\n",
    "\n",
    "run.introduction(\"Stephane Veys\")\n",
    "run.description(\"This is to check that transforms .lata into .med or .case files.\")\n",
    "run.TRUST_parameters()"
   ]
  },
  {
   "cell_type": "code",
   "execution_count": null,
   "id": "15189bb2-352d-48f9-85fa-64c4323e0f88",
   "metadata": {},
   "outputs": [],
   "source": [
    "from trustutils import run\n",
    "run.addCase(\".\" ,\"Obstacle.data\")\n",
    "\n",
    "run.printCases()\n",
    "run.runCases()"
   ]
  },
  {
   "cell_type": "markdown",
   "id": "2b813f3c-e933-430b-baf7-769736e8fffd",
   "metadata": {},
   "source": [
    "## Comparison between .case files generated using different python scripts\n",
    "\n",
    "First, the problem is solved and results are exported at lata format. Then, in a second time, Obstacle.case file is generated using Lata_to_med.py and then med2case scripts. Finally, in a third time, an other Obstacle2.case file is generated using Lata_to_case.py script. For each .case file, several other files are associated and are compared in order to check that we have the same result whatever the way used."
   ]
  },
  {
   "cell_type": "code",
   "execution_count": null,
   "id": "ea873754-f777-46f2-bbfe-b89b52ac5bf0",
   "metadata": {},
   "outputs": [],
   "source": [
    "run.dumpText(\"my_text\")"
   ]
  },
  {
   "cell_type": "markdown",
   "id": "b8308d84",
   "metadata": {},
   "source": [
    "## Check that both .case files have the same number of time steps"
   ]
  },
  {
   "cell_type": "code",
   "execution_count": null,
   "id": "2da52954",
   "metadata": {},
   "outputs": [],
   "source": [
    "run.dumpText(\"nts_case1_all\")"
   ]
  },
  {
   "cell_type": "code",
   "execution_count": null,
   "id": "2d063599",
   "metadata": {},
   "outputs": [],
   "source": [
    "run.dumpText(\"nts_case2_all\")"
   ]
  },
  {
   "cell_type": "markdown",
   "id": "9fa25f57",
   "metadata": {},
   "source": [
    "## Take only the last timestep"
   ]
  },
  {
   "cell_type": "code",
   "execution_count": null,
   "id": "12c4c460",
   "metadata": {},
   "outputs": [],
   "source": [
    "run.dumpText(\"nts_case2_last\")"
   ]
  },
  {
   "cell_type": "markdown",
   "id": "a5bf3be8",
   "metadata": {},
   "source": [
    "## Pressure field around the obstacle at the final time"
   ]
  },
  {
   "cell_type": "code",
   "execution_count": null,
   "id": "cc50a777",
   "metadata": {},
   "outputs": [],
   "source": [
    "from trustutils import visit\n",
    "\n",
    "a = visit.Show(\"Obstacle2_LastTS.case\",\"Pseudocolor\",\"PRESSION_SOM_dom\",mesh='mesh',plotmesh=False)\n",
    "a.plot()"
   ]
  }
 ],
 "metadata": {
  "kernelspec": {
   "display_name": "Python 3 (ipykernel)",
   "language": "python",
   "name": "python3"
  },
  "language_info": {
   "codemirror_mode": {
    "name": "ipython",
    "version": 3
   },
   "file_extension": ".py",
   "mimetype": "text/x-python",
   "name": "python",
   "nbconvert_exporter": "python",
   "pygments_lexer": "ipython3",
   "version": "3.7.9"
  }
 },
 "nbformat": 4,
 "nbformat_minor": 5
}
