{
 "cells": [
  {
   "cell_type": "markdown",
   "id": "inappropriate-lingerie",
   "metadata": {},
   "source": [
    "# Verification of Champ_Fonc_Fonction_txyz_Morceaux"
   ]
  },
  {
   "cell_type": "code",
   "execution_count": null,
   "id": "dacd9347",
   "metadata": {},
   "outputs": [],
   "source": [
    "from trustutils import run\n",
    "\n",
    "run.introduction(\"A.Bruneton\")\n",
    "run.description(\"This note tests the field Champ_Fonc_Fonction_txyz_Morceaux which allows to define a field per zone. On each zone the value is defined as a function of x,y,z,t and of scalar value taken from a parameter field. This values is associated to thevariable ’val’ in the expression.\")\n",
    "run.TRUST_parameters()"
   ]
  },
  {
   "cell_type": "code",
   "execution_count": null,
   "id": "a013fdde-5a2e-4415-9247-ffb3ad9439e0",
   "metadata": {},
   "outputs": [],
   "source": [
    "from trustutils import run \n",
    "c1 = run.addCase(\".\",\"champ_txyz_morc.data\")\n",
    "run.printCases()\n",
    "run.runCases()"
   ]
  },
  {
   "cell_type": "markdown",
   "id": "growing-hundred",
   "metadata": {},
   "source": [
    "## Field check\n",
    "The resulting plot should be flat."
   ]
  },
  {
   "cell_type": "code",
   "execution_count": null,
   "id": "145f7fc8-59d0-46c6-81a9-371940119d77",
   "metadata": {
    "scrolled": true,
    "tags": []
   },
   "outputs": [],
   "source": [
    "c1.dumpDataset() "
   ]
  }
 ],
 "metadata": {
  "kernelspec": {
   "display_name": "Python 3 (ipykernel)",
   "language": "python",
   "name": "python3"
  },
  "language_info": {
   "codemirror_mode": {
    "name": "ipython",
    "version": 3
   },
   "file_extension": ".py",
   "mimetype": "text/x-python",
   "name": "python",
   "nbconvert_exporter": "python",
   "pygments_lexer": "ipython3",
   "version": "3.7.9"
  }
 },
 "nbformat": 4,
 "nbformat_minor": 5
}
