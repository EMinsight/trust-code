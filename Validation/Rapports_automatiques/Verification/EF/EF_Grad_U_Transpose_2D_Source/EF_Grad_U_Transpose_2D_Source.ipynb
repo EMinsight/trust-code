{
 "cells": [
  {
   "cell_type": "markdown",
   "id": "inappropriate-lingerie",
   "metadata": {},
   "source": [
    "# Vérification du transposé du gradient de vitesse dansle tenseur des contraintes visqueuses"
   ]
  },
  {
   "cell_type": "code",
   "execution_count": null,
   "id": "c1566cc7",
   "metadata": {},
   "outputs": [],
   "source": [
    "from trustutils import run \n",
    "\n",
    "run.introduction('D. Jamet')"
   ]
  },
  {
   "cell_type": "markdown",
   "id": "adopted-auditor",
   "metadata": {},
   "source": [
    "### Description"
   ]
  },
  {
   "cell_type": "markdown",
   "id": "imperial-shield",
   "metadata": {},
   "source": [
    "On  impose  un  champ  de  vitesse à divergence nulle particulier dans tout le  domaine. On  choisit  une viscosité variable en espace.  Pour ces deux champs, il est possible de déterminer la solution analytique de  la  force  visqueuse.   Cette  force  est  retranchée  sous  la  forme  d’un  terme  source  dans  l’équation  de Navier-Stokes.  La force totale, autre que la force de pression, doit donc être nulle et le champ de pression doit donc être constant."
   ]
  },
  {
   "cell_type": "code",
   "execution_count": null,
   "id": "754f2be0",
   "metadata": {},
   "outputs": [],
   "source": [
    "run.TRUST_parameters()"
   ]
  },
  {
   "cell_type": "code",
   "execution_count": null,
   "id": "6729c231-27f7-4fc9-9b61-4dc58e90721b",
   "metadata": {},
   "outputs": [],
   "source": [
    "from trustutils import run \n",
    "import os\n",
    "c1 = run.addCase(\".\",\"grad_u_transpose_2d_source.data\") \n",
    "run.printCases()\n",
    "run.runCases()"
   ]
  },
  {
   "cell_type": "markdown",
   "id": "growing-hundred",
   "metadata": {},
   "source": [
    "## Champ de pression\n",
    "Dans cette partie, on compare le champ de pression calculé par GENEPI et le champ de pression analytique.\n",
    "### Champs de pression calculé \n",
    "Le champ de pression calculé par GENEPI est tracé et le champ de pression analytique est donné par des isovaleurs."
   ]
  },
  {
   "cell_type": "code",
   "execution_count": null,
   "id": "3d153261-0a30-493d-a78d-fc5a9ed9d392",
   "metadata": {},
   "outputs": [],
   "source": [
    "from trustutils import visit\n",
    "\n",
    "Graphique=visit.showField(\"./grad_u_transpose_2d_source.lata\",\"Pseudocolor\",\"PRESSION_PA_ELEM_dom\") "
   ]
  },
  {
   "cell_type": "markdown",
   "id": "da1e2235-770b-4f30-a430-eda253dc0531",
   "metadata": {},
   "source": [
    "## Data Files\n",
    "### grad_u_transpose_2d_source"
   ]
  },
  {
   "cell_type": "code",
   "execution_count": null,
   "id": "15fd47b5-5015-41c4-b5b5-1a2ec787d071",
   "metadata": {},
   "outputs": [],
   "source": [
    "from trustutils import run\n",
    "\n",
    "run.dumpDataset(\"./grad_u_transpose_2d_source.data\")"
   ]
  }
 ],
 "metadata": {
  "kernelspec": {
   "display_name": "Python 3 (ipykernel)",
   "language": "python",
   "name": "python3"
  },
  "language_info": {
   "codemirror_mode": {
    "name": "ipython",
    "version": 3
   },
   "file_extension": ".py",
   "mimetype": "text/x-python",
   "name": "python",
   "nbconvert_exporter": "python",
   "pygments_lexer": "ipython3",
   "version": "3.7.9"
  }
 },
 "nbformat": 4,
 "nbformat_minor": 5
}
