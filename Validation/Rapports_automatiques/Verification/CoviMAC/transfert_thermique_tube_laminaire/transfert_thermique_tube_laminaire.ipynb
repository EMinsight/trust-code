{
 "cells": [
  {
   "cell_type": "markdown",
   "id": "inappropriate-lingerie",
   "metadata": {},
   "source": [
    "# Vérification de la conduction thermique stationnaire avec terme source :  terme source linéaire"
   ]
  },
  {
   "cell_type": "code",
   "execution_count": null,
   "id": "f08aed89",
   "metadata": {},
   "outputs": [],
   "source": [
    "from trustutils import run \n",
    "run.introduction(\"C. Reiss\",\"14/03/2022\")\n",
    "run.description('On considere un canal cylindrique en covimac. On se place a faible reynolds. On compare la solution obtenue par le calcul en isotherme et on verifie que le profil obtenu est parabolique. On impose ensuite une condition aux limites de neumann thermique et on verifie que le profil obtenu est la solution nalytique presente dans Incropera et De Witt')\n",
    "run.TRUST_parameters()"
   ]
  },
  {
   "cell_type": "code",
   "execution_count": null,
   "id": "079d201b-67de-4f90-8493-a2a38d65de78",
   "metadata": {},
   "outputs": [],
   "source": [
    "from trustutils import run \n",
    "c1 = run.addCase(\".\",\"jdd_Incropera_De_Witt_Flow.data\")\n",
    "c2 = run.addCase(\".\",\"jdd_Incropera_De_Witt_Neumann.data\")\n",
    "run.printCases()\n",
    "run.runCases()"
   ]
  },
  {
   "cell_type": "markdown",
   "id": "growing-hundred",
   "metadata": {},
   "source": [
    "## Champs de vitesse \n",
    "On compare les champs de vitesse calculé par CoviMAC et analytique.\n",
    "### Comparaison des profils calculé et analytique"
   ]
  },
  {
   "cell_type": "code",
   "execution_count": null,
   "id": "f40cb3e7-1663-4687-be50-9463c6c27e02",
   "metadata": {},
   "outputs": [],
   "source": [
    "from trustutils.jupyter import plot\n",
    "import numpy as np\n",
    "\n",
    "Graphique=plot.Graph(\"Comparaison a la solution analytique pour ecoulement laminaire : vitesse en fonction du rayon\")\n",
    "Graphique.addSegment(\"./jdd_Incropera_De_Witt_Flow_V_ANALYTIQUE.son\",label=\"analytique\",color=\"g\",marker=\"-x\")\n",
    "Graphique.addSegment(\"./jdd_Incropera_De_Witt_Flow_V_TRUST.son\"     ,compo=2,label=\"trust\"     ,color=\"r\",marker=\"-|\")\n",
    "x=np.linspace(0,0.05,100)\n",
    "y=2*1.*(1-x**2/(0.05*0.05))\n",
    "Graphique.add(x,y,label=\"analytique\",color=\"pink\")"
   ]
  },
  {
   "cell_type": "markdown",
   "id": "6f9f320b-3b5a-4f98-82f0-b9badb13272b",
   "metadata": {},
   "source": [
    "## Champs de temperature \n",
    "On compare les champs de temperature calculé par CoviMAC et analytique.\n",
    "### Comparaison des profils calculé et analytique"
   ]
  },
  {
   "cell_type": "code",
   "execution_count": null,
   "id": "2faf4e02-41d2-47aa-8187-7383949aa8f9",
   "metadata": {
    "scrolled": true
   },
   "outputs": [],
   "source": [
    "from trustutils.jupyter import plot\n",
    "import numpy as np\n",
    "\n",
    "Graphique=plot.Graph(\"Comparaison a la solution analytique pour CAL Neumann : T fonction du rayon pour z = 1.9\")\n",
    "Graphique.addSegment(\"./jdd_Incropera_De_Witt_Neumann_T_TRUST_R.son\"     ,label=\"trust\"     ,color=\"r\",marker=\"-|\")\n",
    "Graphique.addSegment(\"./jdd_Incropera_De_Witt_Neumann_T_ANALYTIQUE_R.son\",label=\"analytique_par_elem\",color=\"g\",marker=\"-x\")\n",
    "\n",
    "x=np.linspace(0,0.05,100)\n",
    "y=2*1.*1.9/(10.*100.*1.*0.05)+1.*0.05/1.*(-7/24-1/4*(x**4)/(0.05**4)+(x**2)/(0.05**2))\n",
    "Graphique.add(x,y,label=\"analytique\",color=\"blue\")\n"
   ]
  },
  {
   "cell_type": "code",
   "execution_count": null,
   "id": "dcb30aa7",
   "metadata": {},
   "outputs": [],
   "source": [
    "from trustutils.jupyter import plot\n",
    "import numpy as np\n",
    "\n",
    "Graphique=plot.Graph(\"Comparaison a la solution analytique pour CAL Neumann : T fonction de z pour r = 0\")\n",
    "Graphique.addSegment(\"./jdd_Incropera_De_Witt_Neumann_T_TRUST_Z.son\"     ,label=\"trust\"     ,color=\"r\",marker=\"-|\")\n",
    "Graphique.addSegment(\"./jdd_Incropera_De_Witt_Neumann_T_ANALYTIQUE_Z.son\",label=\"analytique_par_elem\",color=\"g\",marker=\"-x\")\n",
    "\n",
    "x=np.linspace(0,2,100)\n",
    "y=2*1.*x/(10.*100.*1.*0.05)+1.*0.05/1.*(-7/24)\n",
    "Graphique.add(x,y,label=\"analytique\",color=\"blue\")\n",
    "\n"
   ]
  },
  {
   "cell_type": "markdown",
   "id": "720b7773-0fe4-483d-8e2b-81abcbd550ec",
   "metadata": {},
   "source": [
    "### jdd isotherme"
   ]
  },
  {
   "cell_type": "code",
   "execution_count": null,
   "id": "0cb198ef-dfbc-48b0-85b5-64db1df7ccb1",
   "metadata": {},
   "outputs": [],
   "source": [
    "from trustutils import run\n",
    "run.dumpDataset(\"./jdd_Incropera_De_Witt_Flow.data\")"
   ]
  },
  {
   "cell_type": "code",
   "execution_count": null,
   "id": "0cb55a0b",
   "metadata": {},
   "outputs": [],
   "source": [
    "### jdd thermique"
   ]
  },
  {
   "cell_type": "code",
   "execution_count": null,
   "id": "c4505c05",
   "metadata": {},
   "outputs": [],
   "source": [
    "from trustutils import run\n",
    "run.dumpDataset(\"./jdd_Incropera_De_Witt_Neumann.data\")"
   ]
  }
 ],
 "metadata": {
  "kernelspec": {
   "display_name": "Python 3 (ipykernel)",
   "language": "python",
   "name": "python3"
  },
  "language_info": {
   "codemirror_mode": {
    "name": "ipython",
    "version": 3
   },
   "file_extension": ".py",
   "mimetype": "text/x-python",
   "name": "python",
   "nbconvert_exporter": "python",
   "pygments_lexer": "ipython3",
   "version": "3.7.9"
  }
 },
 "nbformat": 4,
 "nbformat_minor": 5
}
