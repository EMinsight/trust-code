{
 "cells": [
  {
   "cell_type": "markdown",
   "id": "boolean-earth",
   "metadata": {},
   "source": [
    "# Perte de charge (singuliere vs reguliere)"
   ]
  },
  {
   "cell_type": "code",
   "execution_count": null,
   "id": "f6aa4078",
   "metadata": {},
   "outputs": [],
   "source": [
    "from trustutils import run\n",
    "\n",
    "run.introduction(\"Yannick Gorsse\")\n",
    "\n",
    "run.TRUST_parameters()"
   ]
  },
  {
   "cell_type": "markdown",
   "id": "a71f72a5",
   "metadata": {},
   "source": [
    "### Description: \n",
    "\n"
   ]
  },
  {
   "cell_type": "code",
   "execution_count": null,
   "id": "balanced-boating",
   "metadata": {
    "scrolled": false
   },
   "outputs": [],
   "source": [
    "from string import Template\n",
    "import os, sys\n",
    "\n",
    "\n",
    "run.reset()\n",
    "# Trigger the copy of the src directory into the build directory\n",
    "run.initBuildDirectory()\n",
    "origin, build_dir = os.getcwd(), run.BUILD_DIRECTORY\n",
    "\n",
    "list_dis = {\"VDF\" : [\"jdd.data\"], \"PolyMAC_P0P1NC\" : [\"jdd.data\", \"jdd_pb_multi.data\"], \"PolyMAC_P0\" : [\"jdd.data\", \"jdd_pb_multi.data\"]}\n",
    "h_grids = [0.3]\n",
    "z_grid = 0.5\n",
    "k = 10.0\n",
    "\n",
    "for dis, jdds in list_dis.items():\n",
    "    for jdd in jdds:\n",
    "        os.system(f\"mkdir -p {run.BUILD_DIRECTORY}/{dis}/case_Ks\")\n",
    "        pdc = f\"perte_charge_singuliere {{ dir KY coeff {k} surface {{ y = {z_grid} grille orientation Champ_Uniforme 2 0 1 }} }}\"\n",
    "        with open(f\"{build_dir}/{jdd}\", \"r\") as file: filedata = Template(file.read())\n",
    "        result = filedata.substitute({\"zb\" : z_grid - 0.1, \"zt\" : z_grid + 0.1,\"pdc\" : pdc, \"dis\" : dis})\n",
    "        with open(f\"{run.BUILD_DIRECTORY}/{dis}/case_Ks/{jdd}\", \"w\") as file: file.write(result)\n",
    "        run.addCase(f\"{dis}/case_Ks\", jdd)\n",
    "        for h in h_grids:\n",
    "            os.system(f\"mkdir -p {run.BUILD_DIRECTORY}/{dis}/case_{h:3.1f}\")\n",
    "            if dis == \"VDF\": pdc = f\"Perte_Charge_Reguliere longitudinale Y {h} CF {k} grille\"\n",
    "            else: pdc = f\"perte_charge_isotrope {{ diam_hydr champ_uniforme 1 {h} lambda {k} sous_zone grille }}\"\n",
    "            with open(f\"{build_dir}/{jdd}\", \"r\") as file: filedata = Template(file.read())\n",
    "            result = filedata.substitute({\"zb\" : z_grid - 0.5 * h, \"zt\" : z_grid + 0.5 * h,\"pdc\" : pdc, \"dis\" : dis})\n",
    "            with open(f\"{run.BUILD_DIRECTORY}/{dis}/case_{h:3.1f}/{jdd}\", \"w\") as file: file.write(result)\n",
    "            run.addCase(f\"{dis}/case_{h:3.1f}\", jdd)\n",
    "\n",
    "run.printCases()\n",
    "run.runCases()\n"
   ]
  },
  {
   "cell_type": "code",
   "execution_count": null,
   "id": "cd96bc68",
   "metadata": {},
   "outputs": [],
   "source": [
    "from trustutils import plot\n",
    "\n",
    "Graph = plot.Graph(\"Residuals\", size=[15, 8])\n",
    "for dis, jdds in list_dis.items():\n",
    "    for jdd in jdds:\n",
    "        for h in h_grids:\n",
    "            l = \"Ksing\" if h == \"Ks\" else f\"Kreg, h = {h}\"\n",
    "            Graph.addResidu(f\"{dis}/case_{h:3.1f}/{jdd[:-5]}.dt_ev\", label=f\"{jdd[:-5]} {l}, {dis}\")\n",
    "\n",
    "Graph.scale(yscale=\"log\")\n"
   ]
  },
  {
   "cell_type": "code",
   "execution_count": null,
   "id": "a2687830",
   "metadata": {},
   "outputs": [],
   "source": [
    "a = plot.Graph(\"Pression\")\n",
    "\n",
    "x = [i / 100 for i in range(101)]\n",
    "dp = [0.5 * 1000.0 * k if x_ < z_grid else 0.0 for x_ in x]\n",
    "a.add(x, dp, label=\"Analytique\", marker=\"o\")\n",
    "for i, h in enumerate([f\"{h_:3.1f}\" for h_ in h_grids] + [\"Ks\"]):\n",
    "    for dis, jdds in list_dis.items():\n",
    "        for jdd in jdds:\n",
    "            l = \"Ksing\" if h == \"Ks\" else f\"Kreg, h = {h}\"\n",
    "            a.addSegment(f\"{run.BUILD_DIRECTORY}/{dis}/case_{h}/{jdd[:-5]}_P.son\", label=f\"{jdd[:-5]} {l}, {dis}\")\n",
    "            a.label(\"z [m]\", \"pression\")\n"
   ]
  }
 ],
 "metadata": {},
 "nbformat": 4,
 "nbformat_minor": 5
}
