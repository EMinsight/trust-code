{
 "cells": [
  {
   "cell_type": "markdown",
   "id": "subject-evaluation",
   "metadata": {},
   "source": [
    "# Multistep methods (Adams Bashforth, Adams Moulton, Backward differentiation)"
   ]
  },
  {
   "cell_type": "markdown",
   "id": "developing-discovery",
   "metadata": {},
   "source": [
    "## Introduction\n",
    "Validation made by: Multistep methods implement by T.FORTIN (CEA). Verification form written by P. LEDAC (CS). \\\n",
    "Report generated 13/04/2021."
   ]
  },
  {
   "cell_type": "markdown",
   "id": "becoming-eligibility",
   "metadata": {},
   "source": [
    "### Description\n",
    "\n",
    "### Parameters TRUST\n",
    "* Version TRUST : 1.6.8\n",
    "* Binary:\n",
    "* Equation solved : Laminar Navier Stokes\n",
    "* Dimension : 2D\n",
    "* Discretization : VEFPreP1B\n",
    "* Convection scheme: centre (ordre 2)\n",
    "* Periodic boundary condition on left and right boundaries\n",
    "* Imposed velocity on inlet boundary (0,0) at the bottom\n",
    "* Imposed velocity on inlet boundary (1,0) at the top\n",
    "* Momentum source term imposing U=(y,0) inside"
   ]
  },
  {
   "cell_type": "code",
   "execution_count": null,
   "id": "expressed-discount",
   "metadata": {
    "tags": []
   },
   "outputs": [],
   "source": [
    "from trustutils import run\n",
    "c1 = run.addCase(\"Implicit_Euler_Implicite\"       ,\"test.data\")\n",
    "c2 = run.addCase(\"Explicit_Adams_Bashforth_order_2\"       ,\"test.data\")\n",
    "c3 = run.addCase(\"Explicit_Adams_Bashforth_order_3\"     ,\"test.data\")\n",
    "c4 = run.addCase(\"SemiImplicit_Adams_Bashforth_order_2\"     ,\"test.data\")\n",
    "c5 = run.addCase(\"SemiImplicit_Adams_Bashforth_order_3\"  ,\"test.data\") \n",
    "c6 = run.addCase(\"Implicit_Adams_Moulton_order_2\"  ,\"test.data\") \n",
    "c7 = run.addCase(\"Implicit_Adams_Moulton_order_3\"           ,\"test.data\")\n",
    "c8 = run.addCase(\"Implicit_Backward_differentiation_order_2\",\"test.data\")\n",
    "c9 = run.addCase(\"Implicit_Backward_differentiation_order_3\",\"test.data\") \n",
    "run.printCases()\n",
    "run.runCases()"
   ]
  },
  {
   "cell_type": "markdown",
   "id": "functional-necessity",
   "metadata": {},
   "source": [
    "## Geometriy and mesh\n",
    "\n",
    "### Mesh\n",
    "\n",
    "Channel Length 3m Height 1m"
   ]
  },
  {
   "cell_type": "code",
   "execution_count": null,
   "id": "gross-brush",
   "metadata": {},
   "outputs": [],
   "source": [
    "from trustutils import visit \n",
    "visit.showMesh(\"./Explicit_Adams_Bashforth_order_2/test.lata\",\"dom\")"
   ]
  },
  {
   "cell_type": "markdown",
   "id": "living-anderson",
   "metadata": {},
   "source": [
    "### Convergence of the residuals\n",
    "We plot the following curves to compare the convergence speed for each calculation."
   ]
  },
  {
   "cell_type": "code",
   "execution_count": null,
   "id": "informal-radar",
   "metadata": {},
   "outputs": [],
   "source": [
    "from trustutils import plot\n",
    "\n",
    "a = plot.Graph(\"Convergence of the residuals\")\n",
    "a.addResidu(\"./Implicit_Euler_Implicite/test.dt_ev\",label=\"Implicit Euler Explicite\",marker='-|')\n",
    "a.addResidu(\"./Explicit_Adams_Bashforth_order_2/test.dt_ev\",label=\"Explicit Adams Bashforth order 2\",marker='-x')\n",
    "a.addResidu(\"./Explicit_Adams_Bashforth_order_3/test.dt_ev\",label=\"Explicit Adams Bashforth order 3\",marker='-*')\n",
    "a.addResidu(\"./SemiImplicit_Adams_Bashforth_order_2/test.dt_ev\",label=\"SemiImplicit Adams Bashforth order 2\",marker='-*')\n",
    "a.addResidu(\"./SemiImplicit_Adams_Bashforth_order_3/test.dt_ev\",label=\"SemiImplicit Adams Bashforth order 3\",marker='-*')\n",
    "a.addResidu(\"./Implicit_Adams_Moulton_order_2/test.dt_ev\",label=\"Implicit Adams Moulton order 2\",marker='-*')\n",
    "a.addResidu(\"./Implicit_Adams_Moulton_order_3/test.dt_ev\",label=\"Implicit Adams Moulton order 3\",marker='-*')\n",
    "a.addResidu(\"./Implicit_Backward_differentiation_order_2/test.dt_ev\",label=\"Implicit Backward differentiation order 2\",marker='-*')\n",
    "a.addResidu(\"./Implicit_Backward_differentiation_order_3/test.dt_ev\",label=\"Implicit Backward differentiation order 3\",marker='-*')\n",
    "\n",
    "a.legend(loc='upper center', bbox_to_anchor=(0.5, -0.1),\n",
    "          fancybox=True, shadow=True, ncol=2)\n",
    "a.scale(yscale='log')\n",
    "a.label(\"Time\",\"Residual=max|dU/dt|\")"
   ]
  },
  {
   "cell_type": "markdown",
   "id": "pursuant-battle",
   "metadata": {},
   "source": [
    "## Euler implicit (order 1) solution"
   ]
  },
  {
   "cell_type": "code",
   "execution_count": null,
   "id": "working-opportunity",
   "metadata": {},
   "outputs": [],
   "source": [
    "from trustutils import visit \n",
    "\n",
    "a = visit.Show(\"./Implicit_Euler_Implicite/test.lata\",\"Pseudocolor\",\"PRESSION_ELEM_dom\",plotmesh=False)\n",
    "a.addField(\"./Implicit_Euler_Implicite/test.lata\",\"Vector\",\"VITESSE_ELEM_dom\")\n",
    "a.blackVector()\n",
    "a.plot()\n"
   ]
  },
  {
   "cell_type": "markdown",
   "id": "alternate-orbit",
   "metadata": {},
   "source": [
    "## Numerical results \n",
    "### Maximal Y velocity (0 is the exact solution, so the lower the better)"
   ]
  },
  {
   "cell_type": "code",
   "execution_count": null,
   "id": "internal-willow",
   "metadata": {
    "tags": []
   },
   "outputs": [],
   "source": [
    "from trustutils.jupyter import plot \n",
    "\n",
    "columns=[\"Time\",'Max(abs(V))']\n",
    "Table=plot.Table(columns)  \n",
    "\n",
    "data = plot.loadText(\"./Implicit_Euler_Implicite/test_MAX_V.son\",transpose=False)\n",
    "Table.addLigne([data[-1]],\"Implicit Euler (order 1)\") \n",
    "\n",
    "data = plot.loadText(\"./Explicit_Adams_Bashforth_order_2/test_MAX_V.son\",transpose=False)\n",
    "Table.addLigne([data[-1]],\"Explicit Adams Bashforth (order 2)\") \n",
    "\n",
    "data = plot.loadText(\"./Explicit_Adams_Bashforth_order_3/test_MAX_V.son\",transpose=False)\n",
    "Table.addLigne([data[-1]],\"Explicit Adams Bashforth (order 3)\") \n",
    "\n",
    "data = plot.loadText(\"./SemiImplicit_Adams_Bashforth_order_2/test_MAX_V.son\",transpose=False)\n",
    "Table.addLigne([data[-1]], \"Diffusion implicited Adams Bashforth (order 2)\" ) \n",
    "\n",
    "data = plot.loadText(\"./SemiImplicit_Adams_Bashforth_order_3/test_MAX_V.son\",transpose=False)\n",
    "Table.addLigne([data[-1]], \"Diffusion implicited Adams Bashforth (order 3)\" ) \n",
    "\n",
    "data = plot.loadText(\"./Implicit_Adams_Moulton_order_2/test_MAX_V.son\",transpose=False)\n",
    "Table.addLigne([data[-1]],\"Implicit Adams Moulton (order 2)\") \n",
    "\n",
    "data = plot.loadText(\"./Implicit_Adams_Moulton_order_3/test_MAX_V.son\",transpose=False)\n",
    "Table.addLigne([data[-1]],\"Implicit Adams Moulton (order 3)\") \n",
    "\n",
    "data = plot.loadText(\"./Implicit_Backward_differentiation_order_2/test_MAX_V.son\",transpose=False)\n",
    "Table.addLigne([data[-1]],\"Implicit backward differentiation (order 2)\" ) \n",
    "\n",
    "data = plot.loadText(\"./Implicit_Backward_differentiation_order_3/test_MAX_V.son\",transpose=False)\n",
    "Table.addLigne([data[-1]],\"Implicit backward differentiation (order 3)\") \n",
    "\n",
    "\n",
    "Table.df\n"
   ]
  },
  {
   "cell_type": "markdown",
   "id": "third-worst",
   "metadata": {},
   "source": [
    "## Conclusion\n",
    "The new 3rd order schemes gives better results than the new 2nd order schemes which give better results than the alone implicit Euler scheme (order 1) available in the previous Trio_U versions."
   ]
  }
 ],
 "metadata": {
  "kernelspec": {
   "display_name": "Python 3 (ipykernel)",
   "language": "python",
   "name": "python3"
  },
  "language_info": {
   "codemirror_mode": {
    "name": "ipython",
    "version": 3
   },
   "file_extension": ".py",
   "mimetype": "text/x-python",
   "name": "python",
   "nbconvert_exporter": "python",
   "pygments_lexer": "ipython3",
   "version": "3.7.9"
  }
 },
 "nbformat": 4,
 "nbformat_minor": 5
}
