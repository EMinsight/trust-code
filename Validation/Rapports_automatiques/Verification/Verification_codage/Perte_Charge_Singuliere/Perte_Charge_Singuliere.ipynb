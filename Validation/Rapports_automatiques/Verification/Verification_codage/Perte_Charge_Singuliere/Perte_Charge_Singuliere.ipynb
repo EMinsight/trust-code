{
 "cells": [
  {
   "cell_type": "markdown",
   "id": "c150672b",
   "metadata": {},
   "source": [
    "# Perte_Charge_Singuliere test case\n"
   ]
  },
  {
   "cell_type": "markdown",
   "id": "fa6fb553",
   "metadata": {},
   "source": [
    "## Introduction\n",
    " \n",
    " Validation made by: ll258196\n",
    "\n",
    " Report generated 11/07/2023"
   ]
  },
  {
   "cell_type": "markdown",
   "id": "af3482c6",
   "metadata": {},
   "source": [
    "### Description\n",
    " \n",
    "Test cases for using the Perte_charge_singuliere option to model a pressure drop across a surface (e.g. through a grid).\n"
   ]
  },
  {
   "cell_type": "code",
   "execution_count": null,
   "id": "9e5d17d6",
   "metadata": {},
   "outputs": [],
   "source": [
    "from trustutils import run\n",
    "\n",
    "run.TRUST_parameters(\"1.9.3\")\n",
    "\n",
    "run.initBuildDirectory()"
   ]
  },
  {
   "cell_type": "code",
   "execution_count": null,
   "id": "8a73c205",
   "metadata": {},
   "outputs": [],
   "source": [
    "### Generate MED mesh #####\n",
    "\n",
    "run.useMEDCoupling()\n",
    "import medcoupling as mc\n",
    "import numpy as np\n",
    "import os\n",
    "\n",
    "bld = run.BUILD_DIRECTORY\n",
    "filename = os.path.join(bld,\"Groupe_Faces_VDF\",\"mesh.py\")\n",
    "\n",
    "mesh_file = os.path.join(bld,\"Groupe_Faces_VDF\",\"mesh.med\")\n",
    "partition_file = os.path.join(bld,\"Groupe_Faces_VDF\",\"Partition.med\")\n",
    "\n",
    "xarr = mc.DataArrayDouble(11,1)\n",
    "xarr.iota(0.)\n",
    "cmesh = mc.MEDCouplingCMesh()\n",
    "cmesh.setCoords(xarr,xarr,xarr)\n",
    "mesh = cmesh.buildUnstructured()\n",
    "mesh.setName(\"mesh\")\n",
    "\n",
    "# define faces\n",
    "mesh_fac, _, _, r, rI = mesh.buildDescendingConnectivity()\n",
    "dsi = rI.deltaShiftIndex()\n",
    "skin_i = dsi.findIdsEqual(1)\n",
    "skin_i.setName(\"frontieres\")\n",
    "bary_fac = mesh_fac.computeCellCenterOfMass()\n",
    "\n",
    "eps = 1.0e-4\n",
    "\n",
    "bary_fac_z = bary_fac[:,2]\n",
    "inlet = bary_fac_z.findIdsInRange(-eps, +eps)\n",
    "inlet.setName(\"Inlet\")\n",
    "outlet = bary_fac_z.findIdsInRange(10.-eps, 10.+eps)\n",
    "outlet.setName(\"Outlet\")\n",
    "\n",
    "wall = skin_i.buildSubstraction(inlet.buildUnion(outlet))\n",
    "wall.setName(\"Adiab\")\n",
    "\n",
    "surface = bary_fac_z.findIdsInRange(5.-eps, 5.+eps)\n",
    "surface.setName(\"interf\")\n",
    "\n",
    "#Recording\n",
    "mfu = mc.MEDFileUMesh()\n",
    "mfu.setMeshAtLevel(0, mesh)\n",
    "mfu.setMeshAtLevel(-1, mesh_fac)\n",
    "mfu.setGroupsAtLevel(-1, [inlet, outlet,wall,surface])\n",
    "mfu.write(mesh_file, 2) # 2 stands for write from scratch\n",
    "\n",
    "# Add Partitionnement\n",
    "meshRead = mc.ReadUMeshFromFile(mesh_file,\"mesh\",0)\n",
    "\n",
    "arr2 = mc.DataArrayInt32(meshRead.getNumberOfCells())\n",
    "\n",
    "arr2[0:500] = 0\n",
    "arr2[250:500] = 1\n",
    "arr2[500:750] = 2\n",
    "arr2[750:1000] = 3\n",
    "\n",
    "f = mc.MEDCouplingFieldInt32(mc.ON_CELLS, mc.ONE_TIME)\n",
    "f.setArray(arr2)\n",
    "f.setMesh(meshRead)\n",
    "f.setName(\"Thread\")\n",
    "\n",
    "mc.WriteField(partition_file,f,True)"
   ]
  },
  {
   "cell_type": "code",
   "execution_count": null,
   "id": "d7ec45c5",
   "metadata": {},
   "outputs": [],
   "source": [
    "run.addCase(\"VDF\",\"Perte_Charge_Singuliere_VDF.data\",nbProcs=1)\n",
    "run.addCase(\"VEF\",\"Perte_Charge_Singuliere_VEF.data\",nbProcs=1)\n",
    "\n",
    "\n",
    "case = run.addCase(\"Groupe_Faces_VDF\",\"PCS_med_groupe_faces_VDF.data\",nbProcs=4) \n",
    "case.partition()\n",
    "run.addCase(\"Groupe_Faces_VEF\",\"PCS_med_groupe_faces_VEF.data\",nbProcs=1) \n",
    "run.printCases()\n",
    "run.runCases()"
   ]
  },
  {
   "cell_type": "markdown",
   "id": "c26fb875",
   "metadata": {},
   "source": [
    "## With Sous domaine interface\n",
    "\n",
    "Imposition of pressure loss at $X = 1$ in VDF and VEF"
   ]
  },
  {
   "cell_type": "code",
   "execution_count": null,
   "id": "46e326f2",
   "metadata": {},
   "outputs": [],
   "source": [
    "from trustutils import visit\n",
    "\n",
    "fig=visit.Show(\"VDF/Perte_Charge_Singuliere_VDF.lata\",\"Pseudocolor\",\"PRESSION_PA_ELEM_dom\",plotmesh=True,title=\"Pressure_PA\",nY=2,nX=1)\n",
    "fig.add(\"VEF/Perte_Charge_Singuliere_VEF.lata\",\"Pseudocolor\",\"PRESSION_PA_ELEM_dom\",xIndice=0,yIndice=1)\n",
    "fig.plot()"
   ]
  },
  {
   "cell_type": "markdown",
   "id": "abde4cce",
   "metadata": {},
   "source": [
    "## Using internal_faces into med file"
   ]
  },
  {
   "cell_type": "markdown",
   "id": "357ac9a8",
   "metadata": {},
   "source": [
    "### With VDF discretization \n",
    "\n",
    "We test the implementation with internal face group.  \n",
    "Partitioning create joints common to the internal face to test the correct parallelization using groups of internal faces that must be consider in two different processors. \n"
   ]
  },
  {
   "cell_type": "code",
   "execution_count": null,
   "id": "c5fdbaf3",
   "metadata": {},
   "outputs": [],
   "source": [
    "\n",
    "fig=visit.Show(\"Groupe_Faces_VDF/PAR_PCS_med_groupe_faces_VDF.lata\",\"Subset\",\"blocks(dom)\",iteration=-1,plotmesh=True,nY=2,nX=1)\n",
    "fig.rotation3D([45,45,45])\n",
    "fig.add(\"Groupe_Faces_VDF/PAR_PCS_med_groupe_faces_VDF.lata\",\"Pseudocolor\",\"PRESSION_PA_ELEM_dom\",xIndice=0,yIndice=1)\n",
    "fig.rotation3D([45,45,45])\n",
    "fig.plot()\n"
   ]
  },
  {
   "cell_type": "markdown",
   "id": "dd874775",
   "metadata": {},
   "source": [
    "### With VEF discretization "
   ]
  },
  {
   "cell_type": "markdown",
   "id": "455ab552",
   "metadata": {},
   "source": [
    "Pressure loss imposed on a specific interface marked by a group of internal faces in the med file (in red)\n",
    "\n",
    "![](src/internal_faces_VEF/interf_PCS.png) \n"
   ]
  },
  {
   "cell_type": "markdown",
   "id": "876b3b78",
   "metadata": {},
   "source": [
    "### DataFile"
   ]
  },
  {
   "cell_type": "code",
   "execution_count": null,
   "id": "bd6f30d9",
   "metadata": {},
   "outputs": [],
   "source": [
    "run.dumpDataset(\"Groupe_Faces_VEF/PCS_med_groupe_faces_VEF.data\",[\"interf\"])"
   ]
  },
  {
   "cell_type": "code",
   "execution_count": null,
   "id": "694625b1",
   "metadata": {},
   "outputs": [],
   "source": [
    "fig=visit.Show(\"Groupe_Faces_VEF/PCS_med_groupe_faces_VEF.lata\", \"Pseudocolor\", \"PRESSION_PA_ELEM_dom\")\n",
    "fig.rotation3D([0,65,55])\n",
    "fig.plot()"
   ]
  }
 ],
 "metadata": {
  "kernelspec": {
   "display_name": "Python 3 (ipykernel)",
   "language": "python",
   "name": "python3"
  },
  "language_info": {
   "codemirror_mode": {
    "name": "ipython",
    "version": 3
   },
   "file_extension": ".py",
   "mimetype": "text/x-python",
   "name": "python",
   "nbconvert_exporter": "python",
   "pygments_lexer": "ipython3",
   "version": "3.7.16"
  }
 },
 "nbformat": 4,
 "nbformat_minor": 5
}
