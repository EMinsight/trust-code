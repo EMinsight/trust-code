{
 "cells": [
  {
   "cell_type": "markdown",
   "id": "czech-cloud",
   "metadata": {},
   "source": [
    "# Test des fonctionnalités DP_impose et K regul"
   ]
  },
  {
   "cell_type": "code",
   "execution_count": null,
   "id": "3a41df38",
   "metadata": {},
   "outputs": [],
   "source": [
    "from trustutils import run \n",
    "run.introduction(\"A. Gerschenfeld, Y. Gorsse\")\n",
    "run.description(\"\")\n",
    "run.TRUST_parameters()"
   ]
  },
  {
   "cell_type": "code",
   "execution_count": null,
   "id": "70d9a8e0",
   "metadata": {},
   "outputs": [],
   "source": [
    "from trustutils import run\n",
    "from string import Template\n",
    "import os, sys\n",
    "run.useMEDCoupling()\n",
    "import medcoupling as mc\n",
    "\n",
    "run.reset()\n",
    "meshes = {\n",
    "    \"Cartesian\": [\"PolyMAC_P0P1NC\", \"PolyMAC_P0\"], \n",
    "}\n",
    "\n",
    "# Trigger the copy of the src directory into the build directory:\n",
    "run.initBuildDirectory()\n",
    "origin, build_dir = os.getcwd(), run.BUILD_DIRECTORY\n",
    "os.chdir(build_dir)\n",
    "for m, dis in meshes.items():\n",
    "    for d in dis:\n",
    "        os.system(f\"mkdir -p {m}/{d}\")\n",
    "        with open(\"jdd.data\", \"r\") as file: filedata = Template(file.read())\n",
    "        result = filedata.substitute({\"dis\" : d})\n",
    "        with open(f\"{m}/{d}/jdd.data\", \"w\") as file: file.write(result)\n",
    "        if not d.startswith(\"Poly\"):\n",
    "            #mfum = mc.MEDFileUMesh(meshname)\n",
    "            #mfum.getMeshAtLevel(0).unPolyze()\n",
    "            #mfum.write(f\"{m}/{d}/mesh.med\", 2)\n",
    "            os.system(f\"cp mesh_hexa.med {m}/{d}/mesh.med\")\n",
    "        else: os.system(f\"cp mesh_poly.med {m}/{d}/mesh.med\")\n",
    "        run.addCase(f\"{m}/{d}\", \"jdd.data\")\n",
    "\n",
    "os.chdir(origin)\n",
    "\n",
    "run.printCases()\n",
    "run.runCases()"
   ]
  },
  {
   "cell_type": "markdown",
   "id": "governing-honolulu",
   "metadata": {},
   "source": [
    "## Description\n",
    "Domaine fermé avec une frontiere interne (en gris sur la figure), et deux surfaces permettant d'imposer les termes source testés. En bleu, la régulation sur le débit, et en orange le DP imposé. Une circulation du fluide apparait, et le débit généré se régule sur la valeur cible.\n",
    "\n",
    "![](src/domaine.png)"
   ]
  },
  {
   "cell_type": "code",
   "execution_count": null,
   "id": "moderate-cream",
   "metadata": {},
   "outputs": [],
   "source": [
    "from trustutils import plot\n",
    "import numpy as np\n",
    "\n",
    "dis = [\"PolyMAC_P0P1NC\", \"PolyMAC_P0\"]\n",
    "Graphique=plot.Graph(nX=2,nY=len(dis))\n",
    "\n",
    "for i, d in enumerate(dis):\n",
    "    Graphique.addPlot([0, i], d)\n",
    "    data = plot.loadText(f\"Cartesian/{d}/jdd_pb_K_surf1.out\", skiprows=3)\n",
    "    Graphique.add(data[0], data[1] ,label=\"K\")\n",
    "    Graphique.add(data[0],-data[2] ,label=\"debit calcule\")\n",
    "    Graphique.add(data[0], data[3] ,label=\"debit cible\")\n",
    "    Graphique.label(\"Time\", \"Delta de pression\")\n",
    "\n",
    "    Graphique.addPlot([1, i], d)\n",
    "    data = plot.loadText(f\"Cartesian/{d}/jdd_pb_DP_surf2.out\", skiprows=3)\n",
    "    Graphique.add(data[0], data[1], label=\"DP impose\")\n",
    "    data1 = plot.loadText(f\"Cartesian/{d}/jdd_P1.son\", skiprows=5)\n",
    "    data2 = plot.loadText(f\"Cartesian/{d}/jdd_P2.son\", skiprows=5)\n",
    "\n",
    "    Graphique.add(data[0], data1[1] - data2[1],label=\"DP mesure\")\n",
    "\n",
    "Graphique.visu()"
   ]
  }
 ],
 "metadata": {
  "kernelspec": {
   "display_name": "Python 3 (ipykernel)",
   "language": "python",
   "name": "python3"
  },
  "language_info": {
   "codemirror_mode": {
    "name": "ipython",
    "version": 3
   },
   "file_extension": ".py",
   "mimetype": "text/x-python",
   "name": "python",
   "nbconvert_exporter": "python",
   "pygments_lexer": "ipython3",
   "version": "3.7.9"
  },
  "toc-autonumbering": true
 },
 "nbformat": 4,
 "nbformat_minor": 5
}
