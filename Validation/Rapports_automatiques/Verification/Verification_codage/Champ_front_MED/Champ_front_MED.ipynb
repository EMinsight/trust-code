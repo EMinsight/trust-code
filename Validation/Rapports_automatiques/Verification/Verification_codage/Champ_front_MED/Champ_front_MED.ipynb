{
 "cells": [
  {
   "cell_type": "markdown",
   "id": "inappropriate-lingerie",
   "metadata": {},
   "source": [
    "# Verification of Champ_Fonc_Fonction_txyz_Morceaux"
   ]
  },
  {
   "cell_type": "code",
   "execution_count": null,
   "id": "dacd9347",
   "metadata": {},
   "outputs": [],
   "source": [
    "from trustutils import run\n",
    "\n",
    "run.introduction(\"Pierre Ledac\")"
   ]
  },
  {
   "cell_type": "markdown",
   "id": "e5fc33e9",
   "metadata": {},
   "source": [
    "### Description\n",
    "\n",
    "Define a time and spatial dependent boundary condition by reading fields from a MED file. \n",
    "\n",
    "In this test case (flow in a 3D channel), inlet boundary condition on velocity is concerned. \n",
    "\n",
    "Champ_front_MED and Champ_Fonc_MED_Tabule are the keywords to use for such a task. \n",
    "\n",
    "See below in the data file the syntax."
   ]
  },
  {
   "cell_type": "code",
   "execution_count": null,
   "id": "724dc8fd",
   "metadata": {},
   "outputs": [],
   "source": [
    "run.TRUST_parameters()"
   ]
  },
  {
   "cell_type": "code",
   "execution_count": null,
   "id": "a013fdde-5a2e-4415-9247-ffb3ad9439e0",
   "metadata": {},
   "outputs": [],
   "source": [
    "from trustutils import run \n",
    "run.addCase(\".\",\"base.data\") \n",
    "run.printCases()\n",
    "run.runCases()"
   ]
  },
  {
   "cell_type": "markdown",
   "id": "growing-hundred",
   "metadata": {},
   "source": [
    "## Champ_front_MED time-dependence verification\n",
    "\n",
    "### Inlet velocity evolution at (x,y,z)=(0.0,0.5,0.5)"
   ]
  },
  {
   "cell_type": "code",
   "execution_count": null,
   "id": "465300b4",
   "metadata": {},
   "outputs": [],
   "source": [
    "from trustutils import plot\n",
    "import matplotlib.pyplot as plt\n",
    "import numpy as np\n",
    "import math\n",
    "\n",
    "a = plot.Graph(\"Inlet velocity evolution\")\n",
    "a.addPoint('base_SONDE_VITESSE.son',marker='+', label=\"Inlet boundary condition\")\n",
    "\n",
    "x_son = 0.\n",
    "y_son = 0.5\n",
    "\n",
    "x=np.linspace(0,2,100)\n",
    "y = list(map(lambda a: 4.*y_son*(1.-y_son)+0.5*math.cos(5.*a),x))\n",
    "a.add(x,y,label=r\"$U_x = 4y(1-y)+0.5\\cos(5t)$\")\n",
    "a.label(\"time\", \"Speed\")\n",
    "a.visu(0,2,0,2)"
   ]
  },
  {
   "cell_type": "markdown",
   "id": "75c865fd",
   "metadata": {},
   "source": [
    "## Champ_front_MED space-dependence verification"
   ]
  },
  {
   "cell_type": "code",
   "execution_count": null,
   "id": "c856fb29",
   "metadata": {},
   "outputs": [],
   "source": [
    "a = plot.Graph(\"Inlet velocity profile at different times\",size=[12,8])\n",
    "\n",
    "t = 0.\n",
    "v = plot.loadText(\"base_INLET.coupe.0.00000000e+00\")\n",
    "a.add(v[0],v[1],label=\"t=0.0\",marker=\"+\")\n",
    "x=np.linspace(0,1,100)\n",
    "y = list(map(lambda a: 4.*a*(1.-a)+0.5*math.cos(5.*t),x))\n",
    "a.add(x,y,label=r\"$U_x(t=0)$\")\n",
    "\n",
    "t = 0.5\n",
    "v = plot.loadText(\"base_INLET.coupe.5.00000000e-01\")\n",
    "a.add(v[0],v[1],label=\"t=0.5\",marker=\"x\")\n",
    "y = list(map(lambda a: 4.*a*(1.-a)+0.5*math.cos(5.*t),x))\n",
    "a.add(x,y,label=r\"$U_x(t=0.5)$\")\n",
    "\n",
    "t = 1.\n",
    "v = plot.loadText(\"base_INLET.coupe.1.00000000e+00\")\n",
    "a.add(v[0],v[1],label=\"t=1.\",marker=\"*\")\n",
    "y = list(map(lambda a: 4.*a*(1.-a)+0.5*math.cos(5.*t),x))\n",
    "a.add(x,y,label=r\"$U_x(t=1.0)$\")\n",
    "\n",
    "t = 1.5\n",
    "v = plot.loadText(\"base_INLET.coupe.1.50000000e+00\")\n",
    "a.add(v[0],v[1],label=\"t=1.5\",marker=\"o\")\n",
    "y = list(map(lambda a: 4.*a*(1.-a)+0.5*math.cos(5.*t),x))\n",
    "a.add(x,y,label=r\"$U_x(t=1.5)$\")\n",
    "\n",
    "a.label(\"Y\",\"Speed\")\n",
    "a.legend(loc='upper center', bbox_to_anchor=(0.5, -0.1),\n",
    "          fancybox=True, shadow=True, ncol=5)\n",
    "a.visu(0,1,-1,2)"
   ]
  },
  {
   "cell_type": "markdown",
   "id": "ea998d15",
   "metadata": {},
   "source": [
    "## Data Files"
   ]
  },
  {
   "cell_type": "code",
   "execution_count": null,
   "id": "145f7fc8-59d0-46c6-81a9-371940119d77",
   "metadata": {
    "scrolled": true,
    "tags": []
   },
   "outputs": [],
   "source": [
    "run.dumpDataset(\"base.data\") "
   ]
  }
 ],
 "metadata": {
  "kernelspec": {
   "display_name": "Python 3 (ipykernel)",
   "language": "python",
   "name": "python3"
  },
  "language_info": {
   "codemirror_mode": {
    "name": "ipython",
    "version": 3
   },
   "file_extension": ".py",
   "mimetype": "text/x-python",
   "name": "python",
   "nbconvert_exporter": "python",
   "pygments_lexer": "ipython3",
   "version": "3.7.9"
  }
 },
 "nbformat": 4,
 "nbformat_minor": 5
}
