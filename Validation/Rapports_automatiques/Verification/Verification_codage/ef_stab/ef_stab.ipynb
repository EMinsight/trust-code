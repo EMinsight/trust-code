{
 "cells": [
  {
   "cell_type": "markdown",
   "id": "inappropriate-lingerie",
   "metadata": {},
   "source": [
    "# Test implicitation of perte_charge_singuliere indiffusion_implicite"
   ]
  },
  {
   "cell_type": "code",
   "execution_count": null,
   "id": "8b3a97f1",
   "metadata": {},
   "outputs": [],
   "source": [
    "from trustutils import run\n",
    "\n",
    "run.introduction(\"G.F\")\n",
    "\n",
    "run.TRUST_parameters(\"1.8.0\")"
   ]
  },
  {
   "cell_type": "markdown",
   "id": "fd7d42b2",
   "metadata": {},
   "source": [
    "### Description: \n",
    "\n",
    "Calculs menes en VEF laminaire"
   ]
  },
  {
   "cell_type": "code",
   "execution_count": null,
   "id": "0868e968-9777-4954-80f4-46b58fe1b126",
   "metadata": {
    "tags": []
   },
   "outputs": [],
   "source": [
    "from trustutils import run  \n",
    "\n",
    "c1 = run.addCase(\"test_ef_stab\"    ,\"test.data\")  \n",
    "c2 = run.addCase(\"test_ef_stab_ve\" ,\"test.data\")  \n",
    "c3 = run.addCase(\"test_ef_stab_old\",\"test.data\") \n",
    "run.printCases()\n",
    "run.runCases()"
   ]
  },
  {
   "cell_type": "markdown",
   "id": "e6c2c033-3d3d-40dd-9853-7ac2384d69d1",
   "metadata": {},
   "source": [
    "## Profil de vitesse\n",
    "Comparaison du profil de vitesse au profil de Poiseuille.  Voir data...\n",
    "### Trace du profil de u final"
   ]
  },
  {
   "cell_type": "code",
   "execution_count": null,
   "id": "99cfbb88-a376-499f-b4e3-e7be34571270",
   "metadata": {},
   "outputs": [],
   "source": [
    "from trustutils import plot\n",
    "\n",
    "a = plot.Graph('Trace du profil de u final')\n",
    "\n",
    "x = plot.loadText(\"test_ef_stab/Moyennes_spatiales_vitesse_rho_mu_fin\")\n",
    "a.add(x[0],x[1],marker=\"-|\",label=\"EF_stab { }\")\n",
    "\n",
    "x = plot.loadText(\"test_ef_stab_ve/Moyennes_spatiales_vitesse_rho_mu_fin\")\n",
    "a.add(x[0],x[1],marker=\"-x\",label=\"EF_stab { volumes_etendues }\")\n",
    "\n",
    "x = plot.loadText(\"test_ef_stab_old/Moyennes_spatiales_vitesse_rho_mu_fin\")\n",
    "a.add(x[0],x[1],marker=\"-*\",label=\"EF_stab { old }\")\n",
    "\n",
    "x = plot.loadText(\"test_ef_stab_old/Moyennes_spatiales_vitesse_rho_mu_fin\")\n",
    "y=(1.5*x[0]*(2-x[0])) \n",
    "a.add(x[0],y,marker=\"-s\",label=\"analytical\")\n",
    "\n",
    "a.label(\"m\",\"u (m/s)\")"
   ]
  },
  {
   "cell_type": "markdown",
   "id": "fbc380d8-b416-40a6-aff3-626088fe762e",
   "metadata": {},
   "source": [
    "Check that the results are coherent with PCS_impl"
   ]
  },
  {
   "cell_type": "markdown",
   "id": "ed50a9c6-2c1d-42fa-9753-5ba6c857e9d9",
   "metadata": {},
   "source": [
    "### Pressure_gradient"
   ]
  },
  {
   "cell_type": "code",
   "execution_count": null,
   "id": "efa78c92-762c-430b-82c8-465ccd721aed",
   "metadata": {},
   "outputs": [],
   "source": [
    "from trustutils import plot\n",
    "import numpy as np\n",
    "\n",
    "a = plot.Graph('Pressure gradient')\n",
    "\n",
    "x = plot.loadText(\"test_ef_stab/test_Pressure_Gradient_pb_periox\")\n",
    "a.add(x[0],x[1],label=\"EF_stab { }\")\n",
    "\n",
    "x = plot.loadText(\"test_ef_stab_ve/test_Pressure_Gradient_pb_periox\")\n",
    "a.add(x[0],x[1],label=\"EF_stab { volumes_etendues }\")\n",
    "\n",
    "x = plot.loadText(\"test_ef_stab_old/test_Pressure_Gradient_pb_periox\")\n",
    "a.add(x[0],x[1],label=\"EF_stab { old }\")\n",
    "\n",
    "x = plot.loadText(\"test_ef_stab_old/test_Pressure_Gradient_pb_periox\")\n",
    "y=x[0]*0+0.03\n",
    "\n",
    "a.add(x[0],y,label=\"analytical\")\n",
    "\n",
    "a.label(\"Time\",\"dP/dt\")\n"
   ]
  }
 ],
 "metadata": {},
 "nbformat": 4,
 "nbformat_minor": 5
}
