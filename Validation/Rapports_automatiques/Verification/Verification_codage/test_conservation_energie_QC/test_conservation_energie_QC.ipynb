{
 "cells": [
  {
   "cell_type": "markdown",
   "id": "inappropriate-lingerie",
   "metadata": {},
   "source": [
    "# Verification option conservation energie en QC"
   ]
  },
  {
   "cell_type": "code",
   "execution_count": 1,
   "id": "3ecdb3d9",
   "metadata": {},
   "outputs": [
    {
     "data": {
      "text/markdown": [
       "## Introduction \n",
       " Validation made by : A. Gerschenfeld, Y. Gorsse\n"
      ],
      "text/plain": [
       "<IPython.core.display.Markdown object>"
      ]
     },
     "metadata": {},
     "output_type": "display_data"
    },
    {
     "data": {
      "text/markdown": [
       "\n",
       " Report generated 27/01/2022"
      ],
      "text/plain": [
       "<IPython.core.display.Markdown object>"
      ]
     },
     "metadata": {},
     "output_type": "display_data"
    },
    {
     "data": {
      "text/markdown": [
       "### Description \n",
       "Calculs menes en VDF et VEF."
      ],
      "text/plain": [
       "<IPython.core.display.Markdown object>"
      ]
     },
     "metadata": {},
     "output_type": "display_data"
    },
    {
     "data": {
      "text/markdown": [
       "### TRUST parameters \n",
       " * Version TRUST: 1.8.0\n",
       " * Binary used: /volatile/catA/ll258196/trust-code/exec/TRUST_mpi_opt (built on TRUST /volatile/catA/ll258196/trust-code/Validation/Rapports_automatiques/jupyter/Verification_codage/test_conservation_energie_QC/build)"
      ],
      "text/plain": [
       "<IPython.core.display.Markdown object>"
      ]
     },
     "metadata": {},
     "output_type": "display_data"
    }
   ],
   "source": [
    "from trustutils import run  \n",
    "\n",
    "run.introduction(\"A. Gerschenfeld, Y. Gorsse\")\n",
    "run.description(\"Calculs menes en VDF et VEF.\")\n",
    "run.TRUST_parameters(\"1.8.0\")"
   ]
  },
  {
   "cell_type": "code",
   "execution_count": 2,
   "id": "0868e968-9777-4954-80f4-46b58fe1b126",
   "metadata": {
    "tags": []
   },
   "outputs": [
    {
     "data": {
      "text/markdown": [
       "### Test cases \n",
       "* vdf_ancien/test.data : \n",
       "* vdf_divuT_moins_Tdivu/test.data : \n",
       "* vdf_divrhouT_moins_Tdivrhou/test.data : \n",
       "* vef_ancien/test.data : \n",
       "* vef_divuT_moins_Tdivu/test.data : \n",
       "* vef_divrhouT_moins_Tdivrhou/test.data : \n"
      ],
      "text/plain": [
       "<IPython.core.display.Markdown object>"
      ]
     },
     "metadata": {},
     "output_type": "display_data"
    },
    {
     "name": "stdout",
     "output_type": "stream",
     "text": [
      "Running **with Sserver**...\n",
      "  => A total of 6 cases were (successfully) run in 18.8s.\n"
     ]
    }
   ],
   "source": [
    "from trustutils import run  \n",
    "run.reset()\n",
    "run.addCase(\"vdf_ancien\",\"test.data\")  \n",
    "run.addCase(\"vdf_divuT_moins_Tdivu\",\"test.data\")  \n",
    "run.addCase(\"vdf_divrhouT_moins_Tdivrhou\",\"test.data\")  \n",
    "run.addCase(\"vef_ancien\",\"test.data\")  \n",
    "run.addCase(\"vef_divuT_moins_Tdivu\",\"test.data\")  \n",
    "run.addCase(\"vef_divrhouT_moins_Tdivrhou\",\"test.data\")   \n",
    "run.printCases()\n",
    "run.runCases()"
   ]
  },
  {
   "cell_type": "markdown",
   "id": "ede014b2-7fd7-40e0-9c93-990d096cc3e2",
   "metadata": {},
   "source": [
    "## Bilan de Convection de chaleur en VEF"
   ]
  },
  {
   "cell_type": "code",
   "execution_count": 3,
   "id": "e62452b3-5cef-49f5-80bb-71de7ed68bb0",
   "metadata": {},
   "outputs": [
    {
     "data": {
      "text/html": [
       "<div>\n",
       "<style scoped>\n",
       "    .dataframe tbody tr th:only-of-type {\n",
       "        vertical-align: middle;\n",
       "    }\n",
       "\n",
       "    .dataframe tbody tr th {\n",
       "        vertical-align: top;\n",
       "    }\n",
       "\n",
       "    .dataframe thead th {\n",
       "        text-align: right;\n",
       "    }\n",
       "</style>\n",
       "<table border=\"1\" class=\"dataframe\">\n",
       "  <thead>\n",
       "    <tr style=\"text-align: right;\">\n",
       "      <th></th>\n",
       "      <th>in1</th>\n",
       "      <th>in2</th>\n",
       "      <th>out</th>\n",
       "      <th>somme/3*in1</th>\n",
       "    </tr>\n",
       "  </thead>\n",
       "  <tbody>\n",
       "    <tr>\n",
       "      <th>theorie</th>\n",
       "      <td>1.752638e+09</td>\n",
       "      <td>3.505275e+09</td>\n",
       "      <td>-5.257912e+09</td>\n",
       "      <td>0.000000</td>\n",
       "    </tr>\n",
       "    <tr>\n",
       "      <th>vef_divrhouT_moins_Tdivrhou</th>\n",
       "      <td>1.752638e+09</td>\n",
       "      <td>3.505275e+09</td>\n",
       "      <td>-5.257912e+09</td>\n",
       "      <td>0.000000</td>\n",
       "    </tr>\n",
       "    <tr>\n",
       "      <th>vef_ancien</th>\n",
       "      <td>1.752638e+09</td>\n",
       "      <td>3.505275e+09</td>\n",
       "      <td>-5.613749e+09</td>\n",
       "      <td>-0.067676</td>\n",
       "    </tr>\n",
       "    <tr>\n",
       "      <th>vef_divuT_moins_Tdivu</th>\n",
       "      <td>1.752638e+09</td>\n",
       "      <td>3.505275e+09</td>\n",
       "      <td>-5.613749e+09</td>\n",
       "      <td>-0.067676</td>\n",
       "    </tr>\n",
       "  </tbody>\n",
       "</table>\n",
       "</div>"
      ],
      "text/plain": [
       "                                      in1           in2           out  \\\n",
       "theorie                      1.752638e+09  3.505275e+09 -5.257912e+09   \n",
       "vef_divrhouT_moins_Tdivrhou  1.752638e+09  3.505275e+09 -5.257912e+09   \n",
       "vef_ancien                   1.752638e+09  3.505275e+09 -5.613749e+09   \n",
       "vef_divuT_moins_Tdivu        1.752638e+09  3.505275e+09 -5.613749e+09   \n",
       "\n",
       "                             somme/3*in1  \n",
       "theorie                         0.000000  \n",
       "vef_divrhouT_moins_Tdivrhou     0.000000  \n",
       "vef_ancien                     -0.067676  \n",
       "vef_divuT_moins_Tdivu          -0.067676  "
      ]
     },
     "execution_count": 3,
     "metadata": {},
     "output_type": "execute_result"
    }
   ],
   "source": [
    "from trustutils import plot\n",
    "\n",
    "Tableau=plot.Table([\"in1\",\"in2\",\"out\",\"somme/3*in1\"]) \n",
    "Tableau.addLigne([[1752637500.0,3505275000.0,-5257912500.0,0.0]],\"theorie\")\n",
    "\n",
    "data=plot.loadText(\"vef_divrhouT_moins_Tdivrhou/test_pb_plenum_Convection_chaleur.out\",transpose=False,skiprows=1586)\n",
    "data[4]=(data[1]+data[2]+data[3])/(3*data[1])\n",
    "Tableau.addLigne([data[1:5]],\"vef_divrhouT_moins_Tdivrhou\")\n",
    "\n",
    "data=plot.loadText(\"vef_ancien/test_pb_plenum_Convection_chaleur.out\",transpose=False,skiprows=608)\n",
    "data[4]=(data[1]+data[2]+data[3])/(3*data[1])\n",
    "Tableau.addLigne([data[1:5]],\"vef_ancien\")\n",
    "\n",
    "data=plot.loadText(\"vef_divuT_moins_Tdivu/test_pb_plenum_Convection_chaleur.out\",transpose=False,skiprows=559)\n",
    "data[4]=(data[1]+data[2]+data[3])/(3*data[1])\n",
    "Tableau.addLigne([data[1:5]],\"vef_divuT_moins_Tdivu\")\n",
    "\n",
    "Tableau.df"
   ]
  },
  {
   "cell_type": "markdown",
   "id": "a6dc187b-f0e3-4f5a-9e35-6bc297eed37b",
   "metadata": {},
   "source": [
    "## Bilan de Convection de chaleur en VDF"
   ]
  },
  {
   "cell_type": "code",
   "execution_count": 4,
   "id": "3f41ca0e-e92f-42d2-96ed-de5214d18055",
   "metadata": {},
   "outputs": [
    {
     "data": {
      "text/html": [
       "<div>\n",
       "<style scoped>\n",
       "    .dataframe tbody tr th:only-of-type {\n",
       "        vertical-align: middle;\n",
       "    }\n",
       "\n",
       "    .dataframe tbody tr th {\n",
       "        vertical-align: top;\n",
       "    }\n",
       "\n",
       "    .dataframe thead th {\n",
       "        text-align: right;\n",
       "    }\n",
       "</style>\n",
       "<table border=\"1\" class=\"dataframe\">\n",
       "  <thead>\n",
       "    <tr style=\"text-align: right;\">\n",
       "      <th></th>\n",
       "      <th>in1</th>\n",
       "      <th>in2</th>\n",
       "      <th>out</th>\n",
       "      <th>somme/3*in1</th>\n",
       "    </tr>\n",
       "  </thead>\n",
       "  <tbody>\n",
       "    <tr>\n",
       "      <th>theorie</th>\n",
       "      <td>1.752638e+09</td>\n",
       "      <td>3.505275e+09</td>\n",
       "      <td>-5.257912e+09</td>\n",
       "      <td>0.000000</td>\n",
       "    </tr>\n",
       "    <tr>\n",
       "      <th>vdf_divrhouT_moins_Tdivrhou</th>\n",
       "      <td>1.752638e+09</td>\n",
       "      <td>3.505275e+09</td>\n",
       "      <td>-5.257912e+09</td>\n",
       "      <td>0.000000</td>\n",
       "    </tr>\n",
       "    <tr>\n",
       "      <th>vdf_ancien</th>\n",
       "      <td>1.752638e+09</td>\n",
       "      <td>3.505275e+09</td>\n",
       "      <td>-5.442076e+09</td>\n",
       "      <td>-0.035026</td>\n",
       "    </tr>\n",
       "    <tr>\n",
       "      <th>vdf_divuT_moins_Tdivu</th>\n",
       "      <td>1.752638e+09</td>\n",
       "      <td>3.505275e+09</td>\n",
       "      <td>-5.442076e+09</td>\n",
       "      <td>-0.035026</td>\n",
       "    </tr>\n",
       "  </tbody>\n",
       "</table>\n",
       "</div>"
      ],
      "text/plain": [
       "                                      in1           in2           out  \\\n",
       "theorie                      1.752638e+09  3.505275e+09 -5.257912e+09   \n",
       "vdf_divrhouT_moins_Tdivrhou  1.752638e+09  3.505275e+09 -5.257912e+09   \n",
       "vdf_ancien                   1.752638e+09  3.505275e+09 -5.442076e+09   \n",
       "vdf_divuT_moins_Tdivu        1.752638e+09  3.505275e+09 -5.442076e+09   \n",
       "\n",
       "                             somme/3*in1  \n",
       "theorie                         0.000000  \n",
       "vdf_divrhouT_moins_Tdivrhou     0.000000  \n",
       "vdf_ancien                     -0.035026  \n",
       "vdf_divuT_moins_Tdivu          -0.035026  "
      ]
     },
     "execution_count": 4,
     "metadata": {},
     "output_type": "execute_result"
    }
   ],
   "source": [
    "Tableau=plot.Table([\"in1\",\"in2\",\"out\",\"somme/3*in1\"]) \n",
    "Tableau.addLigne([[1752637500.0,3505275000.0,-5257912500.0,0.0]],\"theorie\")\n",
    "\n",
    "data=plot.loadText(\"vdf_divrhouT_moins_Tdivrhou/test_pb_plenum_Convection_chaleur.out\",transpose=False,skiprows=52)\n",
    "data[4]=(data[1]+data[2]+data[3])/(3*data[1])\n",
    "Tableau.addLigne([data[1:5]],\"vdf_divrhouT_moins_Tdivrhou\")\n",
    "\n",
    "data=plot.loadText(\"vdf_ancien/test_pb_plenum_Convection_chaleur.out\",transpose=False,skiprows=51)\n",
    "data[4]=(data[1]+data[2]+data[3])/(3*data[1])\n",
    "Tableau.addLigne([data[1:5]],\"vdf_ancien\")\n",
    "\n",
    "data=plot.loadText(\"vdf_divuT_moins_Tdivu/test_pb_plenum_Convection_chaleur.out\",transpose=False,skiprows=51)\n",
    "data[4]=(data[1]+data[2]+data[3])/(3*data[1])\n",
    "Tableau.addLigne([data[1:5]],\"vdf_divuT_moins_Tdivu\")\n",
    "\n",
    "Tableau.df"
   ]
  },
  {
   "cell_type": "markdown",
   "id": "b14edec9-3a21-411a-8a58-031c9faed5c3",
   "metadata": {},
   "source": [
    "## Computer performance"
   ]
  },
  {
   "cell_type": "code",
   "execution_count": 5,
   "id": "13623f0b-3715-4338-9f4b-352378e09fa6",
   "metadata": {},
   "outputs": [
    {
     "data": {
      "text/html": [
       "<div>\n",
       "<style scoped>\n",
       "    .dataframe tbody tr th:only-of-type {\n",
       "        vertical-align: middle;\n",
       "    }\n",
       "\n",
       "    .dataframe tbody tr th {\n",
       "        vertical-align: top;\n",
       "    }\n",
       "\n",
       "    .dataframe thead th {\n",
       "        text-align: right;\n",
       "    }\n",
       "</style>\n",
       "<table border=\"1\" class=\"dataframe\">\n",
       "  <thead>\n",
       "    <tr style=\"text-align: right;\">\n",
       "      <th></th>\n",
       "      <th>host</th>\n",
       "      <th>system</th>\n",
       "      <th>Total CPU Time</th>\n",
       "      <th>CPU time/step</th>\n",
       "      <th>number of cells</th>\n",
       "    </tr>\n",
       "  </thead>\n",
       "  <tbody>\n",
       "    <tr>\n",
       "      <th>vdf_ancien/test</th>\n",
       "      <td>is244522</td>\n",
       "      <td>Linux</td>\n",
       "      <td>0.099779</td>\n",
       "      <td>0.0018912</td>\n",
       "      <td>100</td>\n",
       "    </tr>\n",
       "    <tr>\n",
       "      <th>vdf_divuT_moins_Tdivu/test</th>\n",
       "      <td>is244522</td>\n",
       "      <td>Linux</td>\n",
       "      <td>0.104737</td>\n",
       "      <td>0.00197647</td>\n",
       "      <td>100</td>\n",
       "    </tr>\n",
       "    <tr>\n",
       "      <th>vdf_divrhouT_moins_Tdivrhou/test</th>\n",
       "      <td>is244522</td>\n",
       "      <td>Linux</td>\n",
       "      <td>0.094985</td>\n",
       "      <td>0.0017543</td>\n",
       "      <td>100</td>\n",
       "    </tr>\n",
       "    <tr>\n",
       "      <th>vef_ancien/test</th>\n",
       "      <td>is244522</td>\n",
       "      <td>Linux</td>\n",
       "      <td>7.019880</td>\n",
       "      <td>0.0115515</td>\n",
       "      <td>400</td>\n",
       "    </tr>\n",
       "    <tr>\n",
       "      <th>vef_divuT_moins_Tdivu/test</th>\n",
       "      <td>is244522</td>\n",
       "      <td>Linux</td>\n",
       "      <td>6.840200</td>\n",
       "      <td>0.0122511</td>\n",
       "      <td>400</td>\n",
       "    </tr>\n",
       "    <tr>\n",
       "      <th>vef_divrhouT_moins_Tdivrhou/test</th>\n",
       "      <td>is244522</td>\n",
       "      <td>Linux</td>\n",
       "      <td>12.026700</td>\n",
       "      <td>0.00757913</td>\n",
       "      <td>400</td>\n",
       "    </tr>\n",
       "    <tr>\n",
       "      <th>Total</th>\n",
       "      <td></td>\n",
       "      <td></td>\n",
       "      <td>26.186281</td>\n",
       "      <td></td>\n",
       "      <td></td>\n",
       "    </tr>\n",
       "  </tbody>\n",
       "</table>\n",
       "</div>"
      ],
      "text/plain": [
       "                                      host system  Total CPU Time  \\\n",
       "vdf_ancien/test                   is244522  Linux        0.099779   \n",
       "vdf_divuT_moins_Tdivu/test        is244522  Linux        0.104737   \n",
       "vdf_divrhouT_moins_Tdivrhou/test  is244522  Linux        0.094985   \n",
       "vef_ancien/test                   is244522  Linux        7.019880   \n",
       "vef_divuT_moins_Tdivu/test        is244522  Linux        6.840200   \n",
       "vef_divrhouT_moins_Tdivrhou/test  is244522  Linux       12.026700   \n",
       "Total                                                   26.186281   \n",
       "\n",
       "                                 CPU time/step number of cells  \n",
       "vdf_ancien/test                      0.0018912             100  \n",
       "vdf_divuT_moins_Tdivu/test          0.00197647             100  \n",
       "vdf_divrhouT_moins_Tdivrhou/test     0.0017543             100  \n",
       "vef_ancien/test                      0.0115515             400  \n",
       "vef_divuT_moins_Tdivu/test           0.0122511             400  \n",
       "vef_divrhouT_moins_Tdivrhou/test    0.00757913             400  \n",
       "Total                                                           "
      ]
     },
     "execution_count": 5,
     "metadata": {},
     "output_type": "execute_result"
    }
   ],
   "source": [
    "run.tablePerf()"
   ]
  }
 ],
 "metadata": {
  "kernelspec": {
   "display_name": "Python 3",
   "language": "python",
   "name": "python3"
  },
  "language_info": {
   "codemirror_mode": {
    "name": "ipython",
    "version": 3
   },
   "file_extension": ".py",
   "mimetype": "text/x-python",
   "name": "python",
   "nbconvert_exporter": "python",
   "pygments_lexer": "ipython3",
   "version": "3.7.9"
  }
 },
 "nbformat": 4,
 "nbformat_minor": 5
}
