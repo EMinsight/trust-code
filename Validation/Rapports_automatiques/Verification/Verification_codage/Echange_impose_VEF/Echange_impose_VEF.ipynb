{
 "cells": [
  {
   "cell_type": "markdown",
   "id": "gross-patent",
   "metadata": {},
   "source": [
    "# Echange_impose VEF 2D calculation"
   ]
  },
  {
   "cell_type": "code",
   "execution_count": null,
   "id": "53a6c01f",
   "metadata": {},
   "outputs": [],
   "source": [
    "from trustutils import run \n",
    "\n",
    "run.introduction(\"Pierre LEDAC\",\"13/04/2021\")"
   ]
  },
  {
   "cell_type": "markdown",
   "id": "perfect-entrepreneur",
   "metadata": {},
   "source": [
    "### Description \n",
    "\n",
    "Boundary exchange heat flux in VEF: HeatFlux=h(Tp-Text)\n",
    "\n",
    "Check the obtained wall temperature: it should be 5 degrees.\n",
    "\n",
    "Use explicit and implicit schemes."
   ]
  },
  {
   "cell_type": "code",
   "execution_count": null,
   "id": "ef4d061f",
   "metadata": {},
   "outputs": [],
   "source": [
    "run.TRUST_parameters(\"1.8.0\")"
   ]
  },
  {
   "cell_type": "code",
   "execution_count": null,
   "id": "15189bb2-352d-48f9-85fa-64c4323e0f88",
   "metadata": {},
   "outputs": [],
   "source": [
    "run.addCase(\".\" ,\"Echange_impose_VEF_explicite.data\")\n",
    "run.addCase(\".\" ,\"Echange_impose_VEF_implicite.data\")\n",
    "run.printCases()\n",
    "run.runCases()"
   ]
  },
  {
   "cell_type": "markdown",
   "id": "2b813f3c-e933-430b-baf7-769736e8fffd",
   "metadata": {},
   "source": [
    "## Convergence"
   ]
  },
  {
   "cell_type": "code",
   "execution_count": null,
   "id": "d53c1113-32be-4e96-bb8c-18d506ef3108",
   "metadata": {},
   "outputs": [],
   "source": [
    "from trustutils import plot\n",
    "\n",
    "a = plot.Graph(\"Residuals\")\n",
    "a.addResidu(\"Echange_impose_VEF_explicite.dt_ev\",marker=\"-|\")\n",
    "a.addResidu(\"Echange_impose_VEF_implicite.dt_ev\",marker=\"-x\")\n",
    "a.scale('log','log')"
   ]
  },
  {
   "cell_type": "markdown",
   "id": "b0d191ed-446d-4b69-9dd6-6aa44c8d4d26",
   "metadata": {},
   "source": [
    "## Visualization\n",
    "\n",
    "### SONDE_T"
   ]
  },
  {
   "cell_type": "code",
   "execution_count": null,
   "id": "376eb04a-f947-468d-8fe6-f5dbcb6297c1",
   "metadata": {},
   "outputs": [],
   "source": [
    "Graphique=plot.Graph(\"Sonde T\")\n",
    "Graphique.addPoint(\"Echange_impose_VEF_explicite_SONDE_T.son\", marker='|-')\n",
    "Graphique.addPoint(\"Echange_impose_VEF_implicite_SONDE_T.son\", marker='x-')"
   ]
  }
 ],
 "metadata": {
  "kernelspec": {
   "display_name": "Python 3 (ipykernel)",
   "language": "python",
   "name": "python3"
  },
  "language_info": {
   "codemirror_mode": {
    "name": "ipython",
    "version": 3
   },
   "file_extension": ".py",
   "mimetype": "text/x-python",
   "name": "python",
   "nbconvert_exporter": "python",
   "pygments_lexer": "ipython3",
   "version": "3.7.9"
  }
 },
 "nbformat": 4,
 "nbformat_minor": 5
}
