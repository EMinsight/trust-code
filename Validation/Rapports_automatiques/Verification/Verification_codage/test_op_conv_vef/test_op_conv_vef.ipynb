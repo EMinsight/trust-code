{
 "cells": [
  {
   "cell_type": "markdown",
   "id": "efficient-potter",
   "metadata": {},
   "source": [
    "# Convergence du calcul"
   ]
  },
  {
   "cell_type": "code",
   "execution_count": null,
   "id": "55fc0d34",
   "metadata": {},
   "outputs": [],
   "source": [
    "from trustutils import run \n",
    "\n",
    "run.introduction('G.F.')\n",
    "run.description(\"Cas test periodique, pour tester convergence en maillage des opérateurs de convection.\")\n",
    "run.TRUST_parameters()"
   ]
  },
  {
   "cell_type": "code",
   "execution_count": null,
   "id": "d4aa0983-fce6-4734-8b73-fde1b97fc6f9",
   "metadata": {},
   "outputs": [],
   "source": [
    "from trustutils import run \n",
    "\n",
    "list = [10,20,40,80,160]\n",
    "cas=['amont','muscl','ef_stab','amont_old','centre']\n",
    "\n",
    "for d in cas:\n",
    "    for l in list:\n",
    "        run.addCase(\"./%s_%d\" % (d, l), \"cas.data\", nbProcs=1)\n",
    "\n",
    "run.printCases()\n",
    "run.runCases()\n",
    "run.executeScript(\"extract_convergence\")"
   ]
  },
  {
   "cell_type": "markdown",
   "id": "22667946-fbce-4d7a-8e4d-ac9a9e690304",
   "metadata": {},
   "source": [
    "## Convergence en maillage en vitesse\n",
    "### convergence de la convection vitesse en maillage"
   ]
  },
  {
   "cell_type": "code",
   "execution_count": null,
   "id": "ff02edc4-8ead-4fac-a38d-5a5348c1bb80",
   "metadata": {},
   "outputs": [],
   "source": [
    "from trustutils import plot\n",
    "import numpy as np\n",
    "\n",
    "a = plot.Graph(\"Convergence de la convection vitesse en maillage\")\n",
    "\n",
    "x,y=plot.loadText(\"./conv_glob_amont_qdm\")\n",
    "a.add(x,y,label=\"amont\",marker='-|')\n",
    "x,y=plot.loadText(\"./conv_glob_muscl_qdm\")\n",
    "a.add(x,y,label=\"muscl\",marker='-x')\n",
    "x,y=plot.loadText(\"./conv_glob_ef_stab_qdm\")\n",
    "a.add(x,y,label=\"ef stab\",marker='-*')\n",
    "x,y=plot.loadText(\"./conv_glob_amont_old_qdm\")\n",
    "a.add(x,y,label=\"amont old\",marker='-s')\n",
    "x,y=plot.loadText(\"./conv_glob_centre_qdm\")\n",
    "a.add(x,y,label=\"centre\",marker='-o')\n",
    "\n",
    "x=np.linspace(10,160,400)\n",
    "y=1/x\n",
    "a.add(x,y,label=\"N^-1\")\n",
    "x=np.linspace(10,160,400)\n",
    "y=1/(x*x)\n",
    "a.add(x,y,label=\"N^-2\")\n",
    "\n",
    "a.scale(xscale='log',yscale='log')"
   ]
  },
  {
   "cell_type": "markdown",
   "id": "5f448e50-01ac-4695-ac7c-aee2ff3f594d",
   "metadata": {},
   "source": [
    "## Convergence en maillage scalaire\n",
    "### convergence de la convection T en maillage"
   ]
  },
  {
   "cell_type": "code",
   "execution_count": null,
   "id": "b6a1f54f-f061-491a-9e13-26bed33e36e7",
   "metadata": {},
   "outputs": [],
   "source": [
    "a = plot.Graph(\"Convergence de la convection T en maillage\")\n",
    "\n",
    "x,y=plot.loadText(\"./conv_glob_amont_T\")\n",
    "a.add(x,y,label=\"amont\",marker='-|')\n",
    "x,y=plot.loadText(\"./conv_glob_muscl_T\")\n",
    "a.add(x,y,label=\"muscl\",marker='-x')\n",
    "x,y=plot.loadText(\"./conv_glob_ef_stab_T\")\n",
    "a.add(x,y,label=\"ef stab\",marker='-*')\n",
    "x,y=plot.loadText(\"./conv_glob_amont_old_T\")\n",
    "a.add(x,y,label=\"amont old\",marker='-s')\n",
    "x,y=plot.loadText(\"./conv_glob_centre_T\")\n",
    "a.add(x,y,label=\"centre\",marker='-o')\n",
    "\n",
    "x=np.linspace(10,160,400)\n",
    "y=1/x\n",
    "a.add(x,y,label=\"N^-1\")\n",
    "x=np.linspace(10,160,400)\n",
    "y=1/(x*x)\n",
    "a.add(x,y,label=\"N^-2\")\n",
    "\n",
    "a.scale(xscale='log',yscale='log')\n"
   ]
  },
  {
   "cell_type": "markdown",
   "id": "possible-albany",
   "metadata": {},
   "source": [
    "## Data Files\n",
    "### cas"
   ]
  },
  {
   "cell_type": "code",
   "execution_count": null,
   "id": "structural-swedish",
   "metadata": {
    "tags": []
   },
   "outputs": [],
   "source": [
    "run.dumpDataset(\"./muscl_10/cas.data\") "
   ]
  }
 ],
 "metadata": {
  "kernelspec": {
   "display_name": "Python 3 (ipykernel)",
   "language": "python",
   "name": "python3"
  },
  "language_info": {
   "codemirror_mode": {
    "name": "ipython",
    "version": 3
   },
   "file_extension": ".py",
   "mimetype": "text/x-python",
   "name": "python",
   "nbconvert_exporter": "python",
   "pygments_lexer": "ipython3",
   "version": "3.7.9"
  },
  "toc-autonumbering": true
 },
 "nbformat": 4,
 "nbformat_minor": 5
}
