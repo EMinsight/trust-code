{
 "cells": [
  {
   "cell_type": "markdown",
   "id": "boolean-earth",
   "metadata": {},
   "source": [
    "# Verification drho/dt en QC"
   ]
  },
  {
   "cell_type": "code",
   "execution_count": null,
   "id": "b7bb57cf",
   "metadata": {},
   "outputs": [],
   "source": [
    "from trustutils import run\n",
    "\n",
    "run.introduction(\"G.F\")\n",
    "run.description(\"Calculs menes en VDF et VEF laminaire.\")\n",
    "run.TRUST_parameters()"
   ]
  },
  {
   "cell_type": "code",
   "execution_count": null,
   "id": "balanced-boating",
   "metadata": {},
   "outputs": [],
   "source": [
    "from trustutils import run\n",
    "run.addCase(\"Conservation_of_mass_VDF_QC\" ,\"Conservation_of_mass_VDF_QC.data\") \n",
    "run.addCase(\"Conservation_of_mass_VEF_QC\" ,\"Conservation_of_mass_VEF_QC.data\") \n",
    "run.addCase(\"Conserv_Masse_QC_rho_u\" ,\"Conserv_Masse_QC_rho_u.data\") \n",
    "run.addCase(\"Conserv_Masse_QC_rho_u_Piso\" ,\"Conserv_Masse_QC_rho_u_Piso.data\") \n",
    "\n",
    "run.printCases()\n",
    "run.runCases()"
   ]
  },
  {
   "cell_type": "markdown",
   "id": "9a7e2ff9",
   "metadata": {},
   "source": [
    "## Evolution de la temperature\n",
    "Voir fiche de validation Conservation_of_mass_QC.\n",
    "### Temperature \n"
   ]
  },
  {
   "cell_type": "code",
   "execution_count": null,
   "id": "alert-shock",
   "metadata": {},
   "outputs": [],
   "source": [
    "from trustutils import plot\n",
    "import numpy as np\n",
    "\n",
    "Graphique=plot.Graph(\"Temperature\")\n",
    "Graphique.addPoint(\"./Conservation_of_mass_VDF_QC/Conservation_of_mass_VDF_QC_TEMPERATURE.son\",marker='-|',label=\"VDF\")\n",
    "Graphique.addPoint(\"./Conservation_of_mass_VEF_QC/Conservation_of_mass_VEF_QC_TEMPERATURE.son\",marker='-x',label=\"VEF\")\n",
    "\n",
    "x=np.linspace(0,15,100)\n",
    "y=1000*np.exp(x*x/60)\n",
    "Graphique.add(x,y,label=\"Analytique\")\n"
   ]
  },
  {
   "cell_type": "markdown",
   "id": "8f69815f",
   "metadata": {},
   "source": [
    "Description des courbes ?"
   ]
  },
  {
   "cell_type": "markdown",
   "id": "buried-worse",
   "metadata": {},
   "source": [
    "### Erreur sur la Temperature"
   ]
  },
  {
   "cell_type": "code",
   "execution_count": null,
   "id": "df68c2c5",
   "metadata": {},
   "outputs": [],
   "source": [
    "Graphique=plot.Graph(\"Erreur sur la Temperature\")\n",
    "\n",
    "x = plot.loadText(\"./Conservation_of_mass_VDF_QC/Conservation_of_mass_VDF_QC_TEMPERATURE.son\")\n",
    "y = (1000*np.exp(x[0]*x[0]/60)-x[1])*100/(1000*np.exp(x[0]*x[0]/60))\n",
    "Graphique.add(x[0],y,label=\"VDF\",marker='-|')\n",
    "\n",
    "x = plot.loadText(\"./Conservation_of_mass_VEF_QC/Conservation_of_mass_VEF_QC_TEMPERATURE.son\")\n",
    "y = (1000*np.exp(x[0]*x[0]/60)-x[1])*100/(1000*np.exp(x[0]*x[0]/60))\n",
    "Graphique.add(x[0],y,label=\"VEF\",marker='-x')\n",
    "\n",
    "Graphique.label(\"Time (s)\", \"Erreur relative (%)\")"
   ]
  },
  {
   "cell_type": "markdown",
   "id": "satisfied-classification",
   "metadata": {},
   "source": [
    "## Evolution de la masse volumique\n",
    "Voir fiche de validation Conservation_of_mass_QC."
   ]
  },
  {
   "cell_type": "markdown",
   "id": "smoking-replica",
   "metadata": {},
   "source": [
    "### rho"
   ]
  },
  {
   "cell_type": "code",
   "execution_count": null,
   "id": "465556bb",
   "metadata": {},
   "outputs": [],
   "source": [
    "Graphique=plot.Graph(\"Density\")\n",
    "Graphique.addPoint(\"./Conservation_of_mass_VDF_QC/Conservation_of_mass_VDF_QC_RHO.son\",marker='-|',label=\"VDF\")\n",
    "Graphique.addPoint(\"./Conservation_of_mass_VEF_QC/Conservation_of_mass_VEF_QC_RHO.son\",marker='-x',label=\"VEF\")\n",
    "\n",
    "x=np.linspace(0,15,100)\n",
    "y=np.exp(-x*x/60)\n",
    "Graphique.add(x,y,label=\"Analytique\")"
   ]
  },
  {
   "cell_type": "markdown",
   "id": "laden-return",
   "metadata": {},
   "source": [
    "### Erreur sur rho"
   ]
  },
  {
   "cell_type": "code",
   "execution_count": null,
   "id": "judicial-breach",
   "metadata": {},
   "outputs": [],
   "source": [
    "Graphique=plot.Graph(\"Erreur sur rho\")\n",
    "\n",
    "x = plot.loadText(\"./Conservation_of_mass_VDF_QC/Conservation_of_mass_VDF_QC_RHO.son\")\n",
    "y = -(np.exp(-x[0]*x[0]/60)-x[1])*100/(np.exp(-x[0]*x[0]/60))\n",
    "Graphique.add(x[0],y,label=\"VDF\",marker='-|')\n",
    "\n",
    "x = plot.loadText(\"./Conservation_of_mass_VEF_QC/Conservation_of_mass_VEF_QC_RHO.son\")\n",
    "y = -(np.exp(-x[0]*x[0]/60)-x[1])*100/(np.exp(-x[0]*x[0]/60))\n",
    "Graphique.add(x[0],y,label=\"VEF\",marker='-x')\n",
    "\n",
    "Graphique.label(\"Time (s)\", \"Erreur relative (%)\")"
   ]
  },
  {
   "cell_type": "markdown",
   "id": "backed-throw",
   "metadata": {},
   "source": [
    "## Evolution de vitesse verticale\n",
    "\n",
    "voir fiche de validation Conservation_of_mass_QC\n",
    "\n",
    "### vitesse suivant y"
   ]
  },
  {
   "cell_type": "code",
   "execution_count": null,
   "id": "protective-camcorder",
   "metadata": {},
   "outputs": [],
   "source": [
    "Graphique=plot.Graph(\"Vitesse suivant y\")\n",
    "Graphique.addPoint(\"./Conservation_of_mass_VDF_QC/Conservation_of_mass_VDF_QC_VITESSE.son\",marker='-|',compo=1,label=\"VDF\")\n",
    "Graphique.addPoint(\"./Conservation_of_mass_VEF_QC/Conservation_of_mass_VEF_QC_VITESSE.son\",marker='-x',compo=1,label=\"VEF\")\n",
    "\n",
    "x=np.linspace(0,15,100)\n",
    "y=x/30.\n",
    "Graphique.add(x,y,label=\"Analytique\")"
   ]
  },
  {
   "cell_type": "markdown",
   "id": "wrong-morris",
   "metadata": {},
   "source": [
    "### Erreur sur la vitesse verticale"
   ]
  },
  {
   "cell_type": "code",
   "execution_count": null,
   "id": "express-regression",
   "metadata": {},
   "outputs": [],
   "source": [
    "Graphique=plot.Graph(\"Erreur sur la vitesse verticale\")\n",
    "\n",
    "x = plot.loadText(\"./Conservation_of_mass_VDF_QC/Conservation_of_mass_VDF_QC_VITESSE.son\",skiprows=5)\n",
    "y = (x[0]/30.-x[2])*100/(x[0]/30.)\n",
    "Graphique.add(x[0],y,label=\"VDF\",marker='-|')\n",
    "\n",
    "x = plot.loadText(\"./Conservation_of_mass_VEF_QC/Conservation_of_mass_VEF_QC_VITESSE.son\",skiprows=5)\n",
    "y = (x[0]/30.-x[2])*100/(x[0]/30.)\n",
    "Graphique.add(x[0],y,label=\"VEF\",marker='-x')\n",
    "\n",
    "Graphique.label(\"Time (s)\", \"Erreur relative (%)\")"
   ]
  },
  {
   "cell_type": "markdown",
   "id": "victorian-dependence",
   "metadata": {},
   "source": [
    "## Evolution de la pression\n",
    "voir fiche de validation Conservation_of_mass_QC\n",
    "### Pression de sortie"
   ]
  },
  {
   "cell_type": "code",
   "execution_count": null,
   "id": "contemporary-egyptian",
   "metadata": {},
   "outputs": [],
   "source": [
    "Graphique=plot.Graph(\"Pression de sortie\")\n",
    "Graphique.addPoint(\"./Conservation_of_mass_VDF_QC/Conservation_of_mass_VDF_QC_PRESSION.son\",marker='-|',label=\"VDF\")\n",
    "Graphique.addPoint(\"./Conservation_of_mass_VEF_QC/Conservation_of_mass_VEF_QC_PRESSION.son\",marker='-x',label=\"VEF\")\n",
    "\n",
    "x=np.linspace(0,15,100)\n",
    "y=(1./60*(1+1./30*x*x))*1*np.exp(-x*x/60)*(1-0.55*0.55)\n",
    "Graphique.add(x,y,label=\"Analytique pour VDF\")\n",
    "y=(1./60*(1+1./30*x*x))*1*np.exp(-x*x/60)*(1-0.5*0.5)\n",
    "Graphique.add(x,y,label=\"Analytique pour VEF\")"
   ]
  },
  {
   "cell_type": "markdown",
   "id": "spare-allergy",
   "metadata": {},
   "source": [
    "### Erreur sur P"
   ]
  },
  {
   "cell_type": "code",
   "execution_count": null,
   "id": "hollywood-board",
   "metadata": {},
   "outputs": [],
   "source": [
    "Graphique=plot.Graph(\"Erreur sur P\")\n",
    "\n",
    "def error_VDF(x,y): \n",
    "    return (((1./60*(1+1./30*x*x))*np.exp(-x*x/60)*(1-0.55*0.55))-y)*100/((1./60*(1+1./30*x*x))*np.exp(-x*x/60)*(1-0.55*0.55))\n",
    "\n",
    "def error_VEF(x,y): \n",
    "    return (((1./60*(1+1./30*x*x))*np.exp(-x*x/60)*(1-0.5*0.5))-y)*100/((1./60*(1+1./30*x*x))*np.exp(-x*x/60)*(1-0.5*0.5))\n",
    "\n",
    "Graphique.addPoint(\"./Conservation_of_mass_VDF_QC/Conservation_of_mass_VDF_QC_PRESSION.son\",label=\"VDF\",marker='-|',func=error_VDF)\n",
    "Graphique.addPoint(\"./Conservation_of_mass_VEF_QC/Conservation_of_mass_VEF_QC_PRESSION.son\",label=\"VEF\",marker='-x',func=error_VEF)\n",
    "\n",
    "Graphique.label(\"Time (s)\", \"Erreur relative (%)\")\n",
    "Graphique.visu(1,16,0,16)"
   ]
  },
  {
   "cell_type": "markdown",
   "id": "cordless-tanzania",
   "metadata": {},
   "source": [
    "## Profil de pression a t=10s\n",
    "voir fiche de validation Conservation_of_mass_QC\n",
    "### Pression de sortie"
   ]
  },
  {
   "cell_type": "code",
   "execution_count": null,
   "id": "super-yorkshire",
   "metadata": {},
   "outputs": [],
   "source": [
    "Graphique=plot.Graph(\"Pression de sortie\")\n",
    "\n",
    "Graphique.addSegment(\"./Conservation_of_mass_VDF_QC/Conservation_of_mass_VDF_QC_SONDE_P.son\",label=\"VDF\",time=10,marker='-|')\n",
    "Graphique.addSegment(\"./Conservation_of_mass_VEF_QC/Conservation_of_mass_VEF_QC_SONDE_P.son\",label=\"VEF\",time=10,marker='-x')\n",
    "\n",
    "x=np.linspace(0,1,100)\n",
    "y=1./60*(1+1./30*10.*10.)*np.exp(-10.*10./60)*(1-x*x)\n",
    "Graphique.add(x,y,label=\"Analytique\")"
   ]
  },
  {
   "cell_type": "markdown",
   "id": "dramatic-slope",
   "metadata": {},
   "source": [
    "### Erreur sur P\n",
    "\n",
    "La pression ne marche pas bien. Pourquoi ? La solution analytique est elle juste ?"
   ]
  },
  {
   "cell_type": "code",
   "execution_count": null,
   "id": "earned-therapist",
   "metadata": {},
   "outputs": [],
   "source": [
    "Graphique=plot.Graph(\"Erreur sur P\")\n",
    "\n",
    "def error(x,y):\n",
    "    return ((1./60*(1+1./30*10.*10.))*np.exp(-10.*10./60)*(1-x*x)-y)/((1./60*(1+1./30*10.*10.))*np.exp(-10.*10./60)*(1-x*x))*100\n",
    "\n",
    "Graphique.addSegment(\"./Conservation_of_mass_VDF_QC/Conservation_of_mass_VDF_QC_SONDE_P.son\",label=\"VDF\",time=10.,marker='-|',func=error)\n",
    "Graphique.addSegment(\"./Conservation_of_mass_VEF_QC/Conservation_of_mass_VEF_QC_SONDE_P.son\",label=\"VEF\",time=10.,marker='-x',func=error)\n",
    "\n",
    "Graphique.label(\"Temps (s)\", \"Erreur relative (%)\")\n",
    "Graphique.visu(0,1,0,20)\n"
   ]
  },
  {
   "cell_type": "markdown",
   "id": "previous-airplane",
   "metadata": {},
   "source": [
    "## Verification de la conservation de masse avec debit impose \n",
    "### Evolution de rho_moyen"
   ]
  },
  {
   "cell_type": "code",
   "execution_count": null,
   "id": "3489d7f7",
   "metadata": {},
   "outputs": [],
   "source": [
    "Graphique=plot.Graph(\"Evolution de rho moyen\")\n",
    "\n",
    "x = plot.loadText(\"./Conserv_Masse_QC_rho_u/Conserv_Masse_QC_rho_u_pb.evol_glob\")\n",
    "Graphique.add(x[0],x[2],label=\"rho_moyen\",marker='-|')\n",
    "\n",
    "x = plot.loadText(\"./Conserv_Masse_QC_rho_u_Piso/Conserv_Masse_QC_rho_u_Piso_pb.evol_glob\")\n",
    "Graphique.add(x[0],x[2],label=\"rho_moyen en Piso\",marker='-|')\n",
    "\n",
    "x = plot.loadText(\"./Conserv_Masse_QC_rho_u_Piso/Conserv_Masse_QC_rho_u_Piso_pb.evol_glob\")\n",
    "y = 0.833834+0.1*x[0]*(100*x[0]-9)\n",
    "Graphique.add(x[0],y,label=\"analytique a $t_n$\",marker='-x')\n",
    "\n",
    "y = 0.833834+(0.1*x[0]-0.001)*(100*x[0]-10)\n",
    "Graphique.add(x[0],y,label=\"analytique a $t_{n-1}$\",marker='-s')\n",
    "\n",
    "y = (0.833834+0.1*x[0]*(100*x[0]-9)+(0.833834+(0.1*x[0]-0.001)*(100*x[0]-10)))/2\n",
    "Graphique.add(x[0],y,label=\"analytique a $t_{n-1/2}$\",marker='-o')\n",
    "\n",
    "Graphique.label(\"Time (s)\", r\"$\\rho$ (kg/m3)\")\n"
   ]
  },
  {
   "cell_type": "markdown",
   "id": "characteristic-pledge",
   "metadata": {},
   "source": [
    "### Evolution du debit"
   ]
  },
  {
   "cell_type": "code",
   "execution_count": null,
   "id": "considerable-sleeve",
   "metadata": {},
   "outputs": [],
   "source": [
    "Graphique=plot.Graph(\"Evolution de rho moyen\")\n",
    "\n",
    "x = plot.loadText(\"./Conserv_Masse_QC_rho_u/Conserv_Masse_QC_rho_u_pb_Debit.out\")\n",
    "Graphique.add(x[0],x[3],label=\"rho_moyen\",marker='-|')\n",
    "\n",
    "x = plot.loadText(\"./Conserv_Masse_QC_rho_u_Piso/Conserv_Masse_QC_rho_u_Piso_pb_Debit.out\")\n",
    "Graphique.add(x[0],x[3],label=\"rho_moyen en Piso\",marker='-|')\n",
    "\n",
    "x = plot.loadText(\"./Conserv_Masse_QC_rho_u_Piso/Conserv_Masse_QC_rho_u_Piso_pb.evol_glob\")\n",
    "y = -(20.*x[0]-1.)\n",
    "Graphique.add(x[0],y,label=\"analytique\",marker='-x')\n",
    "\n",
    "Graphique.label(\"Time (s)\", r\"$Q$ (kg/s)\")"
   ]
  },
  {
   "cell_type": "markdown",
   "id": "patent-fancy",
   "metadata": {},
   "source": [
    "### Bilan de masse par maille"
   ]
  },
  {
   "cell_type": "code",
   "execution_count": null,
   "id": "59f7f5cd",
   "metadata": {},
   "outputs": [],
   "source": [
    "Graphique=plot.Graph(\"Evolution de rho moyen\")\n",
    "\n",
    "x = plot.loadText(\"./Conserv_Masse_QC_rho_u/cons_mass.out\")\n",
    "Graphique.add(x[0],x[1],label=\"rho_moyen\",marker='-|')\n",
    "\n",
    "x = plot.loadText(\"./Conserv_Masse_QC_rho_u_Piso/cons_mass.out\")\n",
    "Graphique.add(x[0],x[1],label=\"rho_moyen en Piso\",marker='-|')\n",
    "\n",
    "Graphique.label(\"Pas de temps\", r\"Erreur (kg/s)\")"
   ]
  }
 ],
 "metadata": {
  "kernelspec": {
   "display_name": "Python 3 (ipykernel)",
   "language": "python",
   "name": "python3"
  },
  "language_info": {
   "codemirror_mode": {
    "name": "ipython",
    "version": 3
   },
   "file_extension": ".py",
   "mimetype": "text/x-python",
   "name": "python",
   "nbconvert_exporter": "python",
   "pygments_lexer": "ipython3",
   "version": "3.7.9"
  },
  "toc-autonumbering": true
 },
 "nbformat": 4,
 "nbformat_minor": 5
}
