{
 "cells": [
  {
   "cell_type": "markdown",
   "id": "involved-chapel",
   "metadata": {},
   "source": [
    "# Check Darcy/Forcheimer source terms in VDF/VEF"
   ]
  },
  {
   "cell_type": "code",
   "execution_count": null,
   "id": "2ed2c0b9",
   "metadata": {},
   "outputs": [],
   "source": [
    "from trustutils import run\n",
    "run.introduction(\"Pierre LEDAC (CS)\")"
   ]
  },
  {
   "cell_type": "markdown",
   "id": "affecting-still",
   "metadata": {},
   "source": [
    "### Description"
   ]
  },
  {
   "cell_type": "markdown",
   "id": "distant-recorder",
   "metadata": {},
   "source": [
    "Solve a Darcy flow in a conic geometry. \\\n",
    "Velocity field (0.2m/s) is imposed at the inlet (smallest area). \\\n",
    "Pressure field (0 Pa) is imposed at the outlet (buggest area). \\\n",
    "Solve dU/dt=-grad(P/rho)-nu.U/K-Cf.U|U|/sqrt(K1) \\\n",
    "by using Navier Stokes equation and neglecting convection and diffusion terms. \\\n",
    "The first source term is Darcy term and the second one, the inertial Forchheimer term. \\\n",
    "See http://en.wikipedia.org/wiki/Darcy's_law \\\n",
    "At the convergence, we have grad(P/rho)=nu.U/K+Cf.U|U|/sqrt(K1) \\\n",
    "The time step is set to 0.001s and should be carefully cherry picked to avoid non convergence."
   ]
  },
  {
   "cell_type": "code",
   "execution_count": null,
   "id": "cb810e73",
   "metadata": {},
   "outputs": [],
   "source": [
    "run.TRUST_parameters()"
   ]
  },
  {
   "cell_type": "code",
   "execution_count": null,
   "id": "virtual-minute",
   "metadata": {},
   "outputs": [],
   "source": [
    "from trustutils import run\n",
    "for i in [\"VDF\", \"QC_VDF\", \"VEF\", \"QC_VEF\"]:\n",
    "    run.addCase(\".\",f\"DarcyFlow_{i}.data\")\n",
    "\n",
    "run.printCases()\n",
    "run.runCases()"
   ]
  },
  {
   "cell_type": "markdown",
   "id": "eleven-market",
   "metadata": {},
   "source": [
    "## 3D results\n",
    "\n"
   ]
  },
  {
   "cell_type": "markdown",
   "id": "filled-conservative",
   "metadata": {},
   "source": [
    "### Pressure (Incompressible model, VDF discretisation)"
   ]
  },
  {
   "cell_type": "code",
   "execution_count": null,
   "id": "cellular-stick",
   "metadata": {
    "tags": []
   },
   "outputs": [],
   "source": [
    "from trustutils import visit \n",
    "visit.showField(\"./DarcyFlow_VDF.lata\",\"Pseudocolor\",\"PRESSION_PA_ELEM_dom\")"
   ]
  },
  {
   "cell_type": "markdown",
   "id": "chicken-identifier",
   "metadata": {},
   "source": [
    "### Pressure (Quasi compressible model, VDF discretisation)"
   ]
  },
  {
   "cell_type": "code",
   "execution_count": null,
   "id": "republican-compromise",
   "metadata": {},
   "outputs": [],
   "source": [
    "from trustutils import visit \n",
    "visit.showField(\"./DarcyFlow_QC_VDF.lata\",\"Pseudocolor\",\"PRESSION_PA_ELEM_dom\") "
   ]
  },
  {
   "cell_type": "markdown",
   "id": "21c8088e",
   "metadata": {},
   "source": [
    "### Pressure (Incompressible model, VEF discretisation)"
   ]
  },
  {
   "cell_type": "code",
   "execution_count": null,
   "id": "a571a9ec",
   "metadata": {},
   "outputs": [],
   "source": [
    "from trustutils import visit \n",
    "visit.showField(\"./DarcyFlow_VEF.lata\",\"Pseudocolor\",\"PRESSION_PA_ELEM_dom\") "
   ]
  },
  {
   "cell_type": "markdown",
   "id": "oriental-examination",
   "metadata": {},
   "source": [
    "### Pressure (Quasi compressible model, VEF discretisation)"
   ]
  },
  {
   "cell_type": "code",
   "execution_count": null,
   "id": "atmospheric-banana",
   "metadata": {
    "tags": []
   },
   "outputs": [],
   "source": [
    "from trustutils import visit \n",
    "visit.showField(\"./DarcyFlow_QC_VEF.lata\",\"Pseudocolor\",\"PRESSION_PA_ELEM_dom\") "
   ]
  },
  {
   "cell_type": "markdown",
   "id": "negative-outside",
   "metadata": {},
   "source": [
    "## 1D results"
   ]
  },
  {
   "cell_type": "markdown",
   "id": "effective-litigation",
   "metadata": {},
   "source": [
    "### Convergence of the axial velocity"
   ]
  },
  {
   "cell_type": "code",
   "execution_count": null,
   "id": "quality-dancing",
   "metadata": {},
   "outputs": [],
   "source": [
    "from trustutils.jupyter import plot\n",
    "\n",
    "graphique=plot.Graph(\"Plot\") \n",
    "\n",
    "graphique.addPoint('./DarcyFlow_VDF_SONDE_VITESSE.son'   ,marker=\"-|\",color='r'     ,compo=1 ,label=\"Incompressible model, VDF discretisation\")\n",
    "graphique.addPoint('./DarcyFlow_QC_VDF_SONDE_VITESSE.son',marker=\"-x\",color='g'     ,compo=1 ,label=\"Quasi compressible model, VDF discretisation\")\n",
    "\n",
    "graphique.addPoint('./DarcyFlow_VEF_SONDE_VITESSE.son'   ,marker=\"-v\",color='b'     ,compo=1,label=\"Incompressible model, VEF discretisation\")\n",
    "graphique.addPoint('./DarcyFlow_QC_VEF_SONDE_VITESSE.son',marker=\"-^\",color='violet',compo=1,label=\"Quasi compressible model, VEF discretisation\")\n",
    "graphique.label(\"Time (s)\", \"Velocity (m/s)\")\n"
   ]
  },
  {
   "cell_type": "markdown",
   "id": "chief-forward",
   "metadata": {},
   "source": [
    "### Pressure profile"
   ]
  },
  {
   "cell_type": "code",
   "execution_count": null,
   "id": "female-jerusalem",
   "metadata": {},
   "outputs": [],
   "source": [
    "from trustutils import plot \n",
    "\n",
    "a = plot.Graph('Pressure profile')\n",
    "\n",
    "x=plot.loadText(\"./DarcyFlow_VDF_SEGMENT_PRESSION.coupe\")\n",
    "a.add(x[0],x[1],\"-|\",label=\"Incompressible model, VDF discretisation\",color='r')\n",
    "\n",
    "x=plot.loadText(\"./DarcyFlow_QC_VDF_SEGMENT_PRESSION.coupe\")\n",
    "a.add(x[0],x[1],\"-x\",label=\"Quasi compressible model, VDF discretisation\",color='g' )\n",
    "\n",
    "x=plot.loadText(\"./DarcyFlow_VEF_SEGMENT_PRESSION.coupe\")\n",
    "a.add(x[0],x[1],\"-v\",label=\"Incompressible model, VEF discretisation\",color='b' )\n",
    "\n",
    "x=plot.loadText(\"./DarcyFlow_QC_VEF_SEGMENT_PRESSION.coupe\")\n",
    "a.add(x[0],x[1],\"-^\",label=\"Quasi compressible model, VEF discretisation\",color='violet')\n",
    "\n",
    "a.label(\"Y (m)\", \"Pressure (Pa)\")\n"
   ]
  },
  {
   "cell_type": "markdown",
   "id": "fantastic-henry",
   "metadata": {},
   "source": [
    "## Conclusion\n",
    "\n",
    "I) Isotherm flow has been specified for the quasi compressible model \\\n",
    "so the results should match whith the incompressible model. \\\n",
    "II) The more refined the mesh, the smaller the VDF/VEF differences for pressure and velocity fields.\n"
   ]
  },
  {
   "cell_type": "markdown",
   "id": "wireless-demand",
   "metadata": {},
   "source": [
    "## Data Files"
   ]
  },
  {
   "cell_type": "markdown",
   "id": "funded-payroll",
   "metadata": {},
   "source": [
    "### DarcyFlow_VDF"
   ]
  },
  {
   "cell_type": "code",
   "execution_count": null,
   "id": "decent-canvas",
   "metadata": {
    "tags": []
   },
   "outputs": [],
   "source": [
    "from trustutils import run \n",
    "run.dumpDataset(\"./DarcyFlow_VDF.data\") "
   ]
  },
  {
   "cell_type": "markdown",
   "id": "intimate-ecology",
   "metadata": {},
   "source": [
    "### DarcyFlow_QC_VDF"
   ]
  },
  {
   "cell_type": "code",
   "execution_count": null,
   "id": "found-shift",
   "metadata": {
    "tags": []
   },
   "outputs": [],
   "source": [
    "from trustutils import run \n",
    "run.dumpDataset(\"./DarcyFlow_QC_VDF.data\") "
   ]
  },
  {
   "cell_type": "markdown",
   "id": "designing-configuration",
   "metadata": {},
   "source": [
    "### DarcyFlow_VEF"
   ]
  },
  {
   "cell_type": "code",
   "execution_count": null,
   "id": "static-praise",
   "metadata": {
    "tags": []
   },
   "outputs": [],
   "source": [
    "from trustutils import run \n",
    "run.dumpDataset(\"./DarcyFlow_VEF.data\") "
   ]
  },
  {
   "cell_type": "markdown",
   "id": "future-departure",
   "metadata": {},
   "source": [
    "### DarcyFlow_QC_VEF"
   ]
  },
  {
   "cell_type": "code",
   "execution_count": null,
   "id": "colored-grant",
   "metadata": {
    "tags": []
   },
   "outputs": [],
   "source": [
    "from trustutils import run \n",
    "run.dumpDataset(\"./DarcyFlow_QC_VEF.data\") "
   ]
  }
 ],
 "metadata": {
  "kernelspec": {
   "display_name": "Python 3 (ipykernel)",
   "language": "python",
   "name": "python3"
  },
  "language_info": {
   "codemirror_mode": {
    "name": "ipython",
    "version": 3
   },
   "file_extension": ".py",
   "mimetype": "text/x-python",
   "name": "python",
   "nbconvert_exporter": "python",
   "pygments_lexer": "ipython3",
   "version": "3.7.9"
  },
  "toc-autonumbering": true
 },
 "nbformat": 4,
 "nbformat_minor": 5
}
