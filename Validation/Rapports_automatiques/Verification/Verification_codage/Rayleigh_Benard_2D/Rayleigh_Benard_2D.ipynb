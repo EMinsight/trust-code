{
 "cells": [
  {
   "cell_type": "markdown",
   "id": "boolean-earth",
   "metadata": {},
   "source": [
    "# Rayleigh-Benard convection"
   ]
  },
  {
   "cell_type": "code",
   "execution_count": null,
   "id": "c50babfc",
   "metadata": {},
   "outputs": [],
   "source": [
    "from trustutils import run\n",
    "\n",
    "run.introduction(\"Yannick Gorsse, Elie Saikali\")\n",
    "run.description(\"\")\n",
    "run.TRUST_parameters()"
   ]
  },
  {
   "cell_type": "code",
   "execution_count": null,
   "id": "balanced-boating",
   "metadata": {
    "scrolled": false
   },
   "outputs": [],
   "source": [
    "from trustutils import run\n",
    "import os, sys\n",
    "\n",
    "# Load MEDCoupling environment\n",
    "run.useMEDCoupling()\n",
    "\n",
    "# Trigger the copy of the src directory into the build directory:\n",
    "run.initBuildDirectory()\n",
    "\n",
    "# Path of weird mesh Python module\n",
    "sys.path.append(os.environ[\"TRUST_ROOT\"] + \"/Validation/Rapports_automatiques/Verification/PolyMAC/share/maquette_decapoly/src/\")\n",
    "\n",
    "# Invoke prepare_python.py (which structures the directories), and copy post_run script\n",
    "origin, build_dir = os.getcwd(), run.BUILD_DIRECTORY\n",
    "os.chdir(build_dir)\n",
    "exec(open( \"prepare_python.py\").read())  #  the various run.addCase() are called there\n",
    "os.chdir(origin)\n",
    "\n",
    "for i in [\"NCa\", \"NCr\", \"cartesian\"]:\n",
    "    for j in [\"PolyMAC_P0\", \"PolyMAC_P0P1NC\"]:\n",
    "        run.addCase(f\"{i}/{j}\",\"jdd.data\")\n",
    "\n",
    "run.addCase(\"cartesian/VDF\",\"jdd.data\")\n",
    "\n",
    "run.printCases()\n",
    "run.runCases()"
   ]
  },
  {
   "cell_type": "markdown",
   "id": "9a7e2ff9",
   "metadata": {},
   "source": [
    "## Comparisons"
   ]
  },
  {
   "cell_type": "markdown",
   "id": "58af2bd8",
   "metadata": {},
   "source": [
    "### Comparison - vx"
   ]
  },
  {
   "cell_type": "code",
   "execution_count": null,
   "id": "alert-shock",
   "metadata": {},
   "outputs": [],
   "source": [
    "from trustutils import plot\n",
    "\n",
    "a=plot.Graph(\"Comparaison vx\")\n",
    "\n",
    "for i in [\"NCa\", \"NCr\", \"cartesian\"]:\n",
    "    for j in [\"PolyMAC_P0\", \"PolyMAC_P0P1NC\"]:\n",
    "        a.addSegment(f\"{i}/{j}/jdd_VX.son\",label=f\"{i}/{j}\",compo=0)\n",
    "\n",
    "a.addSegment(\"cartesian/VDF/jdd_VX.son\",label=\"cartesian/VDF\",compo=0)\n",
    "a.label(\"Position\", \"Vx\")\n"
   ]
  },
  {
   "cell_type": "markdown",
   "id": "79159216",
   "metadata": {},
   "source": [
    "### Comparison - vy"
   ]
  },
  {
   "cell_type": "code",
   "execution_count": null,
   "id": "594b533f",
   "metadata": {},
   "outputs": [],
   "source": [
    "from trustutils import plot\n",
    "\n",
    "a=plot.Graph(\"Comparaison vy\")\n",
    "\n",
    "for i in [\"NCa\",\"NCr\", \"cartesian\"]:\n",
    "    for j in [\"PolyMAC_P0\", \"PolyMAC_P0P1NC\"]:\n",
    "        a.addSegment(f\"{i}/{j}/jdd_VY.son\",label=f\"{i}/{j}\",compo=1)\n",
    "\n",
    "a.addSegment(\"cartesian/VDF/jdd_VY.son\",label=\"cartesian/VDF\",compo=1)\n",
    "a.label(\"Position\", \"Vy\")"
   ]
  }
 ],
 "metadata": {
  "kernelspec": {
   "display_name": "Python 3 (ipykernel)",
   "language": "python",
   "name": "python3"
  },
  "language_info": {
   "codemirror_mode": {
    "name": "ipython",
    "version": 3
   },
   "file_extension": ".py",
   "mimetype": "text/x-python",
   "name": "python",
   "nbconvert_exporter": "python",
   "pygments_lexer": "ipython3",
   "version": "3.7.9"
  },
  "toc-autonumbering": true
 },
 "nbformat": 4,
 "nbformat_minor": 5
}
