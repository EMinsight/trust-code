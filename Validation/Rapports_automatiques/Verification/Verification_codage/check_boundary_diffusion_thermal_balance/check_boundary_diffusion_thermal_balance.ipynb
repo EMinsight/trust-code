{
 "cells": [
  {
   "cell_type": "markdown",
   "id": "gross-patent",
   "metadata": {},
   "source": [
    "# Verification :\n",
    "\n",
    "Flux_bord of op_diff_elem in jdd_pb_diffusion_chaleur.out and reduction_0D fields (to check if PolyMAC_P0P1NC's auxiliary variables don't mess up the results)"
   ]
  },
  {
   "cell_type": "code",
   "execution_count": null,
   "id": "50d4a841",
   "metadata": {},
   "outputs": [],
   "source": [
    "from trustutils.jupyter import run\n",
    "import os\n",
    "\n",
    "run.introduction(\"Yannick Gorsse\")\n",
    "run.description(\"Driven cavity with cosine thermal power and thermal exchange with uniform external temperature\")\n",
    "run.TRUST_parameters()"
   ]
  },
  {
   "cell_type": "code",
   "execution_count": null,
   "id": "15189bb2-352d-48f9-85fa-64c4323e0f88",
   "metadata": {},
   "outputs": [],
   "source": [
    "from trustutils.jupyter import run\n",
    "\n",
    "run.reset()\n",
    "dis = {\"VDF\" : \"x\", \"PolyMAC_P0P1NC\" : \"+\", \"PolyMAC_P0\" : \"-\"}\n",
    "for d in dis:\n",
    "    run.addCaseFromTemplate(\"jdd.data\", d, {\"dis\" : d})\n",
    "    os.system(f\"cp {run.BUILD_DIRECTORY}/verifie* {run.BUILD_DIRECTORY}/{d}\")\n",
    "\n",
    "run.printCases()\n",
    "run.runCases()\n",
    "run.tablePerf()"
   ]
  },
  {
   "cell_type": "code",
   "execution_count": null,
   "id": "a4e5dc4c",
   "metadata": {},
   "outputs": [],
   "source": [
    "from trustutils import plot\n",
    "\n",
    "a = plot.Graph(\"Residuals\")\n",
    "for d, m in dis.items():\n",
    "    a.addResidu(f\"{d}/jdd.dt_ev\", label=d, marker=m)\n",
    "a.scale(yscale=\"log\")"
   ]
  },
  {
   "cell_type": "code",
   "execution_count": null,
   "id": "b4d2c7df",
   "metadata": {},
   "outputs": [],
   "source": [
    "import pandas as pd\n",
    "\n",
    "for b in [\"TMIN\", \"TMOY\", \"TMOYP\", \"TMAX\"]:\n",
    "    a = plot.Graph(b)\n",
    "    for d, m in dis.items():\n",
    "        a.addPoint(f\"{run.BUILD_DIRECTORY}/{d}/jdd_{b}.son\", label=d, marker=m)\n",
    "        data = plot.read_csv(f\"{run.BUILD_DIRECTORY}/{d}/jdd_{b}.son\")"
   ]
  },
  {
   "cell_type": "code",
   "execution_count": null,
   "id": "92a2bdd6",
   "metadata": {},
   "outputs": [],
   "source": [
    "for b in [\"haut\", \"droite\", \"bas\", \"gauche\"]:\n",
    "    a = plot.Graph(b)\n",
    "    for d, m in dis.items():\n",
    "        data = plot.read_csv(f\"{run.BUILD_DIRECTORY}/{d}/jdd_pb_Diffusion_chaleur.out\")\n",
    "        a.add(data[\"Time\"], data[b], label=d, marker=m, title=b)"
   ]
  }
 ],
 "metadata": {
  "kernelspec": {
   "display_name": "Python 3 (ipykernel)",
   "language": "python",
   "name": "python3"
  },
  "language_info": {
   "codemirror_mode": {
    "name": "ipython",
    "version": 3
   },
   "file_extension": ".py",
   "mimetype": "text/x-python",
   "name": "python",
   "nbconvert_exporter": "python",
   "pygments_lexer": "ipython3",
   "version": "3.7.16"
  },
  "vscode": {
   "interpreter": {
    "hash": "b782577cff7740386d5a4408bd06491b01e7449d0be1e4e757afd3bc68462014"
   }
  }
 },
 "nbformat": 4,
 "nbformat_minor": 5
}
