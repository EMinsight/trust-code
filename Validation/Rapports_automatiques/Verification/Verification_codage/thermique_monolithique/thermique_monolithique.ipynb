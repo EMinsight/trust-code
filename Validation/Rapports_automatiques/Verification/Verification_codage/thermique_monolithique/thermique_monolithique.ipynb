{
 "cells": [
  {
   "cell_type": "markdown",
   "id": "inappropriate-lingerie",
   "metadata": {},
   "source": [
    "# Resolution thermique monolithique"
   ]
  },
  {
   "cell_type": "code",
   "execution_count": null,
   "id": "4ce52ddc",
   "metadata": {},
   "outputs": [],
   "source": [
    "from trustutils import run  \n",
    "\n",
    "run.introduction(\"A. Gerschenfeld, Y. Gorsse.\")"
   ]
  },
  {
   "cell_type": "markdown",
   "id": "imperial-shield",
   "metadata": {},
   "source": [
    "### Description\n",
    "\n",
    "Comparaison des resultats obtenus en VDF et PolyMAC sur un couplage ThHyd/ThSol selon differents algos de couplage :  couplage sequentiel (avec et sans iteration),  resolution monolithique (avec et sans iteration).  On s'attend a avoir des resultats identique entre sequentiel avec iteration,  et monolithique avec ou sans iteration."
   ]
  },
  {
   "cell_type": "code",
   "execution_count": null,
   "id": "e12a96d5",
   "metadata": {},
   "outputs": [],
   "source": [
    "run.TRUST_parameters(\"1.8.0\")"
   ]
  },
  {
   "cell_type": "code",
   "execution_count": null,
   "id": "0868e968-9777-4954-80f4-46b58fe1b126",
   "metadata": {
    "tags": []
   },
   "outputs": [],
   "source": [
    "from trustutils import run  \n",
    "#     Prerequis ./Curve.sh\n",
    "run.addCase(\"VDF\",\"mono_avec_iteration.data\")   \n",
    "run.addCase(\"VDF\",\"mono_sans_iteration.data\")   \n",
    "run.addCase(\"VDF\",\"seq_avec_iteration.data\")   \n",
    "run.addCase(\"VDF\",\"seq_sans_iteration.data\")   \n",
    "run.addCase(\"PolyMAC\",\"mono_avec_iteration.data\")   \n",
    "run.addCase(\"PolyMAC\",\"mono_sans_iteration.data\")   \n",
    "run.addCase(\"PolyMAC\",\"seq_avec_iteration.data\")   \n",
    "run.addCase(\"PolyMAC\",\"seq_sans_iteration.data\") \n",
    "run.addCase(\"CoviMAC\",\"mono_avec_iteration.data\")   \n",
    "run.addCase(\"CoviMAC\",\"mono_sans_iteration.data\")   \n",
    "run.addCase(\"CoviMAC\",\"seq_avec_iteration.data\")   \n",
    "run.addCase(\"CoviMAC\",\"seq_sans_iteration.data\") \n",
    "run.printCases()\n",
    "run.runCases()"
   ]
  },
  {
   "cell_type": "markdown",
   "id": "252b40f8-8741-4546-8369-d6f0aa3eeb28",
   "metadata": {},
   "source": [
    "## Resultats\n",
    "### Difference entre le flux calcule dans le pb1 et le flux calcule dans le pb2au bord couple Droit1"
   ]
  },
  {
   "cell_type": "code",
   "execution_count": null,
   "id": "8b4cdcd9",
   "metadata": {},
   "outputs": [],
   "source": [
    "run.executeScript(\"Curve.sh\")"
   ]
  },
  {
   "cell_type": "code",
   "execution_count": null,
   "id": "d0ab5ba9-2dcb-4c13-b9bc-78434ba75dd1",
   "metadata": {},
   "outputs": [],
   "source": [
    "from trustutils import plot\n",
    "import numpy as np\n",
    "\n",
    "a = plot.Graph(\"Difference entre le flux calcule dans le pb1 et le flux calcule dans le pb2 au bord couple Droit1\",size=[15,8])\n",
    "\n",
    "x= plot.loadText(\"VDF/mono_avec_iteration_pb1pb2_Diffusion_chaleur.out\")\n",
    "y = x[6] + x[14]\n",
    "a.add(x[0],y,label=\"VDF - mono - avec iteration\",marker='-|')\n",
    "\n",
    "x= plot.loadText(\"VDF/mono_sans_iteration_pb1pb2_Diffusion_chaleur.out\")\n",
    "y = x[6] + x[14]\n",
    "a.add(x[0],y,label=\"VDF - mono - sans iteration\",marker='-x')\n",
    "\n",
    "x= plot.loadText(\"VDF/seq_avec_iteration_pb1pb2_Diffusion_chaleur.out\")\n",
    "y = x[6] + x[14]\n",
    "a.add(x[0],y,label=\"VDF - seq - avec iteration\",marker='-*')\n",
    "\n",
    "x= plot.loadText(\"VDF/seq_sans_iteration_pb1pb2_Diffusion_chaleur.out\")\n",
    "y = x[6] + x[14]\n",
    "a.add(x[0],y,label=\"VDF - seq - sans iteration\",marker='-s',markerfacecolor=\"None\")\n",
    "\n",
    "x= plot.loadText(\"PolyMAC/mono_avec_iteration_pb1pb2_Diffusion_chaleur.out\")\n",
    "y = x[6] + x[14]\n",
    "a.add(x[0],y,label=\"PolyMAC - mono - avec iteration\",marker='-s')\n",
    "\n",
    "x= plot.loadText(\"PolyMAC/mono_sans_iteration_pb1pb2_Diffusion_chaleur.out\")\n",
    "y = x[6] + x[14]\n",
    "a.add(x[0],y,label=\"PolyMAC - mono - sans iteration\",marker='-o',markerfacecolor=\"None\")\n",
    "\n",
    "x= plot.loadText(\"PolyMAC/seq_avec_iteration_pb1pb2_Diffusion_chaleur.out\")\n",
    "y = x[6] + x[14]\n",
    "a.add(x[0],y,label=\"PolyMAC - seq - avec iteration\",marker='-o')\n",
    "\n",
    "x= plot.loadText(\"PolyMAC/seq_sans_iteration_pb1pb2_Diffusion_chaleur.out\")\n",
    "y = x[6] + x[14]\n",
    "a.add(x[0],y,label=\"PolyMAC - seq - sans iteration\",marker='-^',markerfacecolor=\"None\")\n",
    "\n",
    "x= plot.loadText(\"CoviMAC/mono_avec_iteration_pb1pb2_Diffusion_chaleur.out\")\n",
    "y = x[6] + x[14]\n",
    "a.add(x[0],y,label=\"CoviMAC - mono - avec iteration\",marker='-^')\n",
    "\n",
    "x= plot.loadText(\"CoviMAC/mono_sans_iteration_pb1pb2_Diffusion_chaleur.out\")\n",
    "y = x[6] + x[14]\n",
    "a.add(x[0],y,label=\"CoviMAC - mono - sans iteration\",marker='-v',markerfacecolor=\"None\")\n",
    "\n",
    "x= plot.loadText(\"CoviMAC/seq_avec_iteration_pb1pb2_Diffusion_chaleur.out\")\n",
    "y = x[6] + x[14]\n",
    "a.add(x[0],y,label=\"CoviMAC - seq - avec iteration\",marker='-v')\n",
    "\n",
    "x= plot.loadText(\"CoviMAC/seq_sans_iteration_pb1pb2_Diffusion_chaleur.out\")\n",
    "y = x[6] + x[14]\n",
    "a.add(x[0],y,label=\"CoviMAC - seq - sans iteration\",marker='-D',markerfacecolor=\"None\")\n",
    "\n",
    "a.label(\"time\",\"Erreur dans l'echange de chaleur a l'interface [W]\")\n",
    "\n",
    "a.legend(loc='upper center', bbox_to_anchor=(0.5, -0.1),\n",
    "          fancybox=True, shadow=True, ncol=2)\n",
    "a.visu()"
   ]
  },
  {
   "cell_type": "markdown",
   "id": "f8937b9d-7cdb-4fb6-9f45-322ba3ffef8f",
   "metadata": {},
   "source": [
    "### Nombre d’iterations"
   ]
  },
  {
   "cell_type": "code",
   "execution_count": null,
   "id": "8ec9a16b-7f7a-4031-8ec5-810aef389e94",
   "metadata": {},
   "outputs": [],
   "source": [
    "a = plot.Graph(\"Difference entre le flux calcule dans le pb1 et le flux calcule dans le pb2 au bord couple Droit1\",size=[15,8])\n",
    "\n",
    "x= plot.loadText(\"VDF/mono_avec_iteration.txt\")\n",
    "y = range(len(x))\n",
    "a.add(y,x,label=\"VDF - mono - avec iteration\",marker='-|')\n",
    "\n",
    "x= plot.loadText(\"VDF/mono_sans_iteration.txt\")\n",
    "y = range(len(x))\n",
    "a.add(y,x,label=\"VDF - mono - sans iteration\",marker='-x')\n",
    "\n",
    "x= plot.loadText(\"VDF/seq_avec_iteration.txt\")\n",
    "y = range(len(x))\n",
    "a.add(y,x,label=\"VDF - seq - avec iteration\",marker='-*')\n",
    "\n",
    "x= plot.loadText(\"VDF/seq_sans_iteration.txt\")\n",
    "y = range(len(x))\n",
    "a.add(y,x,label=\"VDF - seq - sans iteration\",marker='-s',markerfacecolor=\"None\")\n",
    "\n",
    "x= plot.loadText(\"PolyMAC/mono_avec_iteration.txt\")\n",
    "y = range(len(x))\n",
    "a.add(y,x,label=\"PolyMAC - mono - avec iteration\",marker='-s')\n",
    "\n",
    "x= plot.loadText(\"PolyMAC/mono_sans_iteration.txt\")\n",
    "y = range(len(x))\n",
    "a.add(y,x,label=\"PolyMAC - mono - sans iteration\",marker='-o',markerfacecolor=\"None\")\n",
    "\n",
    "x= plot.loadText(\"PolyMAC/seq_avec_iteration.txt\")\n",
    "y = range(len(x))\n",
    "a.add(y,x,label=\"PolyMAC - seq - avec iteration\",marker='-o')\n",
    "\n",
    "x= plot.loadText(\"PolyMAC/seq_sans_iteration.txt\")\n",
    "y = range(len(x))\n",
    "a.add(y,x,label=\"PolyMAC - seq - sans iteration\",marker='-^',markerfacecolor=\"None\")\n",
    "\n",
    "x= plot.loadText(\"CoviMAC/mono_avec_iteration.txt\")\n",
    "y = range(len(x))\n",
    "a.add(y,x,label=\"CoviMAC - mono - avec iteration\",marker='-^')\n",
    "\n",
    "x= plot.loadText(\"CoviMAC/mono_sans_iteration.txt\")\n",
    "y = range(len(x))\n",
    "a.add(y,x,label=\"CoviMAC - mono - sans iteration\",marker='-v',markerfacecolor=\"None\")\n",
    "\n",
    "x= plot.loadText(\"CoviMAC/seq_avec_iteration.txt\")\n",
    "y = range(len(x))\n",
    "a.add(y,x,label=\"CoviMAC - seq - avec iteration\",marker='-v')\n",
    "\n",
    "x= plot.loadText(\"CoviMAC/seq_sans_iteration.txt\")\n",
    "y = range(len(x))\n",
    "a.add(y,x,label=\"CoviMAC - seq - sans iteration\",marker='-D',markerfacecolor=\"None\")\n",
    "\n",
    "a.label(\"numero pas de temps\",\"Nombre d'iterations\")\n",
    "\n",
    "a.legend(loc='upper center', bbox_to_anchor=(0.5, -0.1),\n",
    "          fancybox=True, shadow=True, ncol=2)\n",
    "a.visu()\n"
   ]
  }
 ],
 "metadata": {
  "kernelspec": {
   "display_name": "Python 3 (ipykernel)",
   "language": "python",
   "name": "python3"
  },
  "language_info": {
   "codemirror_mode": {
    "name": "ipython",
    "version": 3
   },
   "file_extension": ".py",
   "mimetype": "text/x-python",
   "name": "python",
   "nbconvert_exporter": "python",
   "pygments_lexer": "ipython3",
   "version": "3.7.9"
  }
 },
 "nbformat": 4,
 "nbformat_minor": 5
}
