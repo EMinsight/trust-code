{
 "cells": [
  {
   "cell_type": "markdown",
   "id": "inappropriate-lingerie",
   "metadata": {},
   "source": [
    "# Vérification du transposé du gradient de vitesse dans le tenseur des contraintes visqueuses en 3D"
   ]
  },
  {
   "cell_type": "code",
   "execution_count": null,
   "id": "ead923e3",
   "metadata": {},
   "outputs": [],
   "source": [
    "from trustutils import run \n",
    "\n",
    "run.introduction(\"D. Jamet\")\n",
    "run.description(\"On impose un champ de vitesse à divergence nulle particulier dans tout le domaine. On choisit une viscosité variable en espace. Pour ces deux champs, il est possible de déterminer la solution analytique de la force visqueuse. On impose alors un terme source égal à l'opposé de cette force. Le champ de pression doit ainsi être nul\")\n",
    "run.TRUST_parameters()"
   ]
  },
  {
   "cell_type": "code",
   "execution_count": null,
   "id": "6729c231-27f7-4fc9-9b61-4dc58e90721b",
   "metadata": {},
   "outputs": [],
   "source": [
    "from trustutils import run \n",
    "import os\n",
    "c1 = run.addCase(\".\",\"grad_u_transpose_3d_2d.data\")\n",
    "run.printCases()\n",
    "run.runCases()"
   ]
  },
  {
   "cell_type": "markdown",
   "id": "growing-hundred",
   "metadata": {},
   "source": [
    "## Champ de pression\n",
    "On vérifie que le champ de pression calculé est bien nul.\n",
    "### Champs de pression calculé \n",
    "Le champ de pression 3D calculé par GENEPI est tracé.  Ce champ doit être nul."
   ]
  },
  {
   "cell_type": "code",
   "execution_count": null,
   "id": "3d153261-0a30-493d-a78d-fc5a9ed9d392",
   "metadata": {},
   "outputs": [],
   "source": [
    "from trustutils import visit\n",
    "\n",
    "Graphique=visit.Show(\"./grad_u_transpose_3d_2d.lata\",\"Pseudocolor\",\"PRESSION_PA_ELEM_dom\")\n",
    "Graphique.plot()"
   ]
  },
  {
   "cell_type": "markdown",
   "id": "da1e2235-770b-4f30-a430-eda253dc0531",
   "metadata": {},
   "source": [
    "## Data Files\n",
    "### grad_u_transpose_2d_source"
   ]
  },
  {
   "cell_type": "code",
   "execution_count": null,
   "id": "15fd47b5-5015-41c4-b5b5-1a2ec787d071",
   "metadata": {
    "scrolled": true
   },
   "outputs": [],
   "source": [
    "from trustutils import run\n",
    "\n",
    "run.dumpDataset(\"./grad_u_transpose_3d_2d.data\")"
   ]
  }
 ],
 "metadata": {
  "kernelspec": {
   "display_name": "Python 3 (ipykernel)",
   "language": "python",
   "name": "python3"
  },
  "language_info": {
   "codemirror_mode": {
    "name": "ipython",
    "version": 3
   },
   "file_extension": ".py",
   "mimetype": "text/x-python",
   "name": "python",
   "nbconvert_exporter": "python",
   "pygments_lexer": "ipython3",
   "version": "3.7.9"
  }
 },
 "nbformat": 4,
 "nbformat_minor": 5
}
