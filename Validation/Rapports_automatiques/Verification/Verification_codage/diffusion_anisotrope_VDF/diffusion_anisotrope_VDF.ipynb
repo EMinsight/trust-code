{
 "cells": [
  {
   "cell_type": "markdown",
   "id": "inappropriate-lingerie",
   "metadata": {},
   "source": [
    "# Anisotropic diffusion operator for the VDF discretization in TRUST"
   ]
  },
  {
   "cell_type": "code",
   "execution_count": null,
   "id": "6f95d420",
   "metadata": {},
   "outputs": [],
   "source": [
    "from trustutils import run\n",
    "\n",
    "run.introduction(\"Elie Saikali and Thomas Galie.\",\"27/05/2021\")"
   ]
  },
  {
   "cell_type": "markdown",
   "id": "imperial-shield",
   "metadata": {},
   "source": [
    "### Description\n",
    "\n",
    "This document presents a validation regarding the implementation of the anisotropic diffusion operator in the TRUST platform. Only the VDF discretisation is considered in the present work. Different simulations are performed and numerical results at steady-state are compared to analytical solutions for validations. Two test cases are investigated in this work. The first one is to validate a 2D heat conduction problem with an anisotropic discontinuous conductivity tensor, while the second with an anisotropic non-uniform conductivity tensor. For the second test case, the sensitivity of the mesh and the influence of the anisotropy ratio is also reported. The reader is kindly invited to check PH. Mairea and J. Breil for a detailed discussion concerning the studied test cases, (https://hal.archives-ouvertes.fr/hal-00605548/document).\n",
    "\n",
    "The 2D heat conduction equation is expressed as\n",
    "\\begin{equation}\\label{cond}\n",
    "\\rho c_p \\frac{\\partial T}{\\partial t} - \\nabla\\cdot (\\kappa\\nabla T)=\\dot{q_v}.\n",
    "\\end{equation}\n",
    "$\\rho$ [kg.m$^{-3}$] denotes the density field, $c_p$ [J.kg$^{-1}$.K$^{-1}$] the specific heat capacity, $\\kappa$ [W.K$^{-1}$.m$^{-1}$] the heat conductivity tensor and $\\dot{q_v}$ [W.m$^{-3}$] the volumetric heat source term. The domain considerd is $\\Omega=[0,1]^2 \\in \\mathbb{R}^2$. Both $\\rho$ and $c_p$ fields are assumed constant and uniform; their values are set to unity. \n",
    "\n",
    "Regarding the source term $\\dot{q_v}$ and the conductivity tensor, the employed formulations are dependant of the treated test case and will be discussed later in each section. The SYMPY library from python3 is used to define the exact source term based on the known analytical solution (see the validation file diffusion anisotrope VEF for further information). \n"
   ]
  },
  {
   "cell_type": "code",
   "execution_count": null,
   "id": "50e8ea4f",
   "metadata": {},
   "outputs": [],
   "source": [
    "run.TRUST_parameters(\"1.8.3\")"
   ]
  },
  {
   "cell_type": "code",
   "execution_count": null,
   "id": "0868e968-9777-4954-80f4-46b58fe1b126",
   "metadata": {
    "tags": []
   },
   "outputs": [],
   "source": [
    "from trustutils import run \n",
    "\n",
    "c1 = run.addCase(\"TC1\",\"TC1.data\"    ,nbProcs=1)\n",
    "\n",
    "for i in [\"Ar1\", \"Ar1_iso\", \"Ar10\", \"Ar100\", \"Ar1000\"]:\n",
    "    for (j, nbp) in zip([\"M1\", \"M2\", \"M3\"], [1,2,4]):\n",
    "        suff = {\"Ar1_iso\": \"_iso\"}.get(i, \"\")\n",
    "        run.addCase(f\"TC2/{i}/{j}\",f\"TC2{suff}.data\",nbProcs=f\"{nbp}\")\n",
    "\n",
    "run.printCases()\n",
    "run.runCases()"
   ]
  },
  {
   "cell_type": "markdown",
   "id": "e6c2c033-3d3d-40dd-9853-7ac2384d69d1",
   "metadata": {},
   "source": [
    "## Test case 1 :  anisotropic and discontinuous $\\kappa$\n",
    "\n",
    "For this test case, the source term is set to zero; $\\dot{q_v}=0$. The heat conductivity tensor is anisotropic and discontinuous, defined $\\forall (x,y)\\in \\Omega$ as \n",
    "\n",
    "\\begin{equation}\\label{tensor_c1}\n",
    "\\kappa(x,y)=\n",
    "\\left\\{\n",
    "\\begin{aligned}\n",
    "&\\displaystyle\\left(\\begin{matrix} 1 & 0 \\\\ 0 & 4 \\end{matrix}\\right) \\quad : \\quad x\\in[0,0.5], \\\\\n",
    "&\\displaystyle\\left(\\begin{matrix} 10 & 0 \\\\ 0 & 2 \\end{matrix}    \\right) \\quad : \\quad x\\in[0.5,1].\n",
    "\\end{aligned}\n",
    "\\right.\n",
    "\\end{equation}\n",
    "\n",
    "For such a $\\kappa$ distribution, the analytical solution $T_{exact}$ is one-dimensional. With the Dirichlet boundary conditions defined as $T_{exact}(x=0)=0$ and $T_{exact}(x=1)=1$, the solution reads as\n",
    "\\begin{equation}\n",
    "\\label{sol_c1}\n",
    "T_{exact}(x)=\\left\\{\n",
    "\\begin{aligned}\n",
    "&\\displaystyle \\frac{20 x}{11} \\quad &: \\quad x\\in[0,0.5], \\\\\n",
    "&\\displaystyle\\frac{9}{11} + \\frac{2x}{11}\\quad &: \\quad x\\in[0.5,1].\n",
    "\\end{aligned}\n",
    "\\right.\n",
    "\\end{equation}\n",
    "\n",
    "The mesh uniform formed of 51 $\\times$ 51 squares. The boundary conditions at the left and at the right walls are set to $T=0$ and 1 K respectively. At the top and the bottom boundaries, a Dirichlet condition is prescribed satisfying the equation \\eqref{sol_c1}.\n",
    "\n",
    "The components of the conductivity tensor are illustrated in figures 2.2-2.4 where the discontinuity of the fields is clearly noted. Figure 2.5 depicts the temperature distribution at the steady state (physical time about 0.75 s). The error relative to the exact solution is considered in figure 2.6. It is clear how the difference between the numerical and exact solution is very small. "
   ]
  },
  {
   "cell_type": "markdown",
   "id": "acd35467-0d7f-4498-b87f-25809e19200d",
   "metadata": {},
   "source": [
    "### Mesh\n"
   ]
  },
  {
   "cell_type": "code",
   "execution_count": null,
   "id": "25006fd8",
   "metadata": {
    "scrolled": false
   },
   "outputs": [],
   "source": [
    "from trustutils import visit\n",
    "\n",
    "a = visit.Show(\"TC1/TC1.lata\", 'Mesh',\"DOM\")\n",
    "a.visuOptions(['no_databaseinfo','no_legend'])\n",
    "a.plot()"
   ]
  },
  {
   "cell_type": "markdown",
   "id": "5505a3a5",
   "metadata": {},
   "source": [
    "### Conductivity tensor : component 1"
   ]
  },
  {
   "cell_type": "markdown",
   "id": "f3fbcba0",
   "metadata": {},
   "source": [
    "### Mesh"
   ]
  },
  {
   "cell_type": "code",
   "execution_count": null,
   "id": "9a5a5f8a",
   "metadata": {},
   "outputs": [],
   "source": [
    "a = visit.Show(\"TC1/TC1_VOLUME.lata\",\"Pseudocolor\",\"DIFFUSIVITE_THERMIQUE_X_ELEM_DOM\",plotmesh=False)\n",
    "a.visuOptions(['no_databaseinfo'])\n",
    "a.plot()"
   ]
  },
  {
   "cell_type": "markdown",
   "id": "d82b4a18",
   "metadata": {},
   "source": [
    "### Conductivity tensor : component 2"
   ]
  },
  {
   "cell_type": "code",
   "execution_count": null,
   "id": "1f8804d3",
   "metadata": {},
   "outputs": [],
   "source": [
    "a = visit.Show(\"TC1/TC1_VOLUME.lata\",\"Pseudocolor\",\"DIFFUSIVITE_THERMIQUE_Y_ELEM_DOM\",plotmesh=False)\n",
    "a.visuOptions(['no_databaseinfo'])\n",
    "a.plot()"
   ]
  },
  {
   "cell_type": "markdown",
   "id": "6af72c52",
   "metadata": {},
   "source": [
    "### Temperature at steady state"
   ]
  },
  {
   "cell_type": "code",
   "execution_count": null,
   "id": "86384c65",
   "metadata": {},
   "outputs": [],
   "source": [
    "visit.showField(\"TC1/TC1_VOLUME.lata\",\"Pseudocolor\",\"TEMPERATURE_ELEM_DOM\",plotmesh=False)"
   ]
  },
  {
   "cell_type": "markdown",
   "id": "dfa345f2",
   "metadata": {},
   "source": [
    "### Difference from analytical solution"
   ]
  },
  {
   "cell_type": "code",
   "execution_count": null,
   "id": "c1196900",
   "metadata": {},
   "outputs": [],
   "source": [
    "visit.showField(\"TC1/TC1.lata\",\"Pseudocolor\",\"ERROR_ELEM_ELEM_DOM\",plotmesh=False)"
   ]
  },
  {
   "cell_type": "markdown",
   "id": "4666c66a-924e-4e1f-8c44-822c339fa5b7",
   "metadata": {},
   "source": [
    "## Test case 2 :  anisotropic and non-uniform $\\kappa$\n",
    "\n",
    "The conductivity tensor for this case is anisotropic and non-uniform in $\\Omega$, expressed as\n",
    "\\begin{equation}\\label{tensor_c2}\n",
    "\\kappa(x,y)=\\left(\\begin{matrix} \\eta x^2 +y^2 & -(1-\\eta)xy \\\\ -(1-\\eta)xy & x^2 + \\eta y^2 \\end{matrix}\\right). \n",
    "\\end{equation}\n",
    "Here $\\eta$ is a positive parameter characterizing the level of anisotropy. We note the anisotropy ratio as\n",
    "\\begin{equation}\n",
    "A_r=\\frac{1}{\\eta}.\n",
    "\\end{equation}\n",
    "\n",
    "Moreover, a thermal source term $\\dot{q_v}$ is applied to the system in this test case. Its formulation is defined so that the analytical solution of the problem is \n",
    "\n",
    "\\begin{equation}\\label{sol_c2}\n",
    "T_{exact}(x,y)=\\sin^2(\\pi x)\\sin^2(\\pi y).\n",
    "\\end{equation}\n",
    "\n",
    "On the boundaries $\\partial \\Omega$, a Dirichlet boundary condition $T(x,y,t)=0$ is prescribed. \n",
    "\n",
    "In order to highlight the inflence of the anisotropy, four values of $A_r$ are investigated; respectively 1, 10, 100 and 1000. This leads not only to different values in the components of the $\\kappa$ tensor, but also to different source term that verifies the exact solution \\eqref{sol_c2}. In this work, we use the SYMPY library to derive the expression of $\\dot{q_v}$ depending on the considered $A_r$. Recall that SYMPY is a library provided with python3 and TRUST. It allows manipulating mathematical operartions with symbolic variables; here the term $-\\nabla.(\\kappa \\nabla T=\\dot{q_v}$ (at steady state). See the document *useful\\_scripts.pdf* for further information on evaluating the expression of $\\dot{q_v}$.\n",
    "\n",
    "We denote by $\\dot{q_v}^1$ the source term corresponding to $A_r=1$ ($\\eta=1$). Similarly, $\\dot{q_v}^{10}$ is referred to for the case of $A_r=10$ ($\\eta=0.1$), $\\dot{q_v}^{100}$ for $A_r=100$ ($\\eta=0.01$) and $\\dot{q_v}^{1000}$ for $A_r=1000$ ($\\eta=0.001$). Following these notations, the imposed source terms are respectively expressed as\n",
    "\n",
    "\\begin{multline}\n",
    "\\dot{q_v}^1=- 4.0 \\pi x \\sin{\\left(\\pi x \\right)} \\sin^{2}{\\left(\\pi y \\right)} \\cos{\\left(\\pi x \\right)}     - 4.0 \\pi y \\sin^{2}{\\left(\\pi x \\right)} \\sin{\\left(\\pi y \\right)} \\cos{\\left(\\pi y \\right)} +\\\\ 2     \\pi^{2} \\left(x^{2} + 1.0 y^{2}\\right) \\sin^{2}{\\left(\\pi x \\right)} \\sin^{2}{\\left(\\pi y \\right    )} - 2 \\pi^{2} \\left(x^{2} + 1.0 y^{2}\\right) \\sin^{2}{\\left(\\pi x \\right)} \\cos^{2}{\\left(\\pi y     \\right)} +\\\\ 2 \\pi^{2} \\left(1.0 x^{2} + y^{2}\\right) \\sin^{2}{\\left(\\pi x \\right)} \\sin^{2}{\\left(    \\pi y \\right)} - 2 \\pi^{2} \\left(1.0 x^{2} + y^{2}\\right) \\sin^{2}{\\left(\\pi y \\right)} \\cos^{2}{    \\left(\\pi x \\right)} \n",
    "\\end{multline}\n",
    "\n",
    "\\begin{multline}\n",
    "\\dot{q_v}^{10}=7.2 \\pi^{2} x y \\sin{\\left(\\pi x \\right)} \\sin{\\left(\\pi y \\right)} \\cos{\\left(\\pi x \\right)} \\cos{\\left(\\pi y \\right)} + 1.4 \\pi x \\sin{\\left(\\pi x \\right)} \\sin^{2}{\\left(\\pi y \\right)} \\cos{\\left(\\pi x \\right)} +\\\\ 1.4 \\pi y \\sin^{2}{\\left(\\pi x \\right)} \\sin{\\left(\\pi y \\right)} \\cos{\\left(\\pi y \\right)} + 2 \\pi^{2} \\left(0.1 x^{2} + y^{2}\\right) \\sin^{2}{\\left(\\pi x \\right)} \\sin^{2}{\\left(\\pi y \\right)} -\\\\ 2 \\pi^{2} \\left(0.1 x^{2} + y^{2}\\right) \\sin^{2}{\\left(\\pi y \\right)} \\cos^{2}{\\left(\\pi x \\right)} + 2 \\pi^{2} \\left(x^{2} + 0.1 y^{2}\\right) \\sin^{2}{\\left(\\pi x \\right)} \\sin^{2}{\\left(\\pi y \\right)} -\\\\ 2 \\pi^{2} \\left(x^{2} + 0.1 y^{2}\\right) \\sin^{2}{\\left(\\pi x \\right)} \\cos^{2}{\\left(\\pi y \\right)} \\quad \\quad \\quad \\quad\n",
    "\\end{multline}\n",
    "\n",
    "\\begin{multline}\n",
    "\\dot{q_v}^{100}=7.92 \\pi^{2} x y \\sin{\\left(\\pi x \\right)} \\sin{\\left(\\pi y \\right)} \\cos{\\left(\\pi x \\right)} \\cos{\\left(\\pi y \\right)} + 1.94 \\pi x \\sin{\\left(\\pi x \\right)} \\sin^{2}{\\left(\\pi y \\right)} \\cos{\\left(\\pi x \\right)} +\\\\ 1.94 \\pi y \\sin^{2}{\\left(\\pi x \\right)} \\sin{\\left(\\pi y \\right)} \\cos{\\left(\\pi y \\right)} + 2 \\pi^{2} \\left(0.01 x^{2} + y^{2}\\right) \\sin^{2}{\\left(\\pi x \\right)} \\sin^{2}{\\left(\\pi y \\right)} -\\\\ 2 \\pi^{2} \\left(0.01 x^{2} + y^{2}\\right) \\sin^{2}{\\left(\\pi y \\right)} \\cos^{2}{\\left(\\pi x \\right)} + 2 \\pi^{2} \\left(x^{2} + 0.01 y^{2}\\right) \\sin^{2}{\\left(\\pi x \\right)} \\sin^{2}{\\left(\\pi y \\right)} -\\\\ 2 \\pi^{2} \\left(x^{2} + 0.01 y^{2}\\right) \\sin^{2}{\\left(\\pi x \\right)} \\cos^{2}{\\left(\\pi y \\right)} \\quad \\quad \\quad \\quad\n",
    "\\end{multline}\n",
    "\n",
    "\\begin{multline}\n",
    "\\dot{q_v}^{1000}=7.992 \\pi^{2} x y \\sin{\\left(\\pi x \\right)} \\sin{\\left(\\pi y \\right)} \\cos{\\left(\\pi x \\right)} \\cos{\\left(\\pi y \\right)} + 1.994 \\pi x \\sin{\\left(\\pi x \\right)} \\sin^{2}{\\left(\\pi y \\right)} \\cos{\\left(\\pi x \\right)} +\\\\ 1.994 \\pi y \\sin^{2}{\\left(\\pi x \\right)} \\sin{\\left(\\pi y \\right)} \\cos{\\left(\\pi y \\right)} + 2 \\pi^{2} \\left(0.001 x^{2} + y^{2}\\right) \\sin^{2}{\\left(\\pi x \\right)} \\sin^{2}{\\left(\\pi y \\right)} -\\\\ 2 \\pi^{2} \\left(0.001 x^{2} + y^{2}\\right) \\sin^{2}{\\left(\\pi y \\right)} \\cos^{2}{\\left(\\pi x \\right)} + 2 \\pi^{2} \\left(x^{2} + 0.001 y^{2}\\right) \\sin^{2}{\\left(\\pi x \\right)} \\sin^{2}{\\left(\\pi y \\right)} -\\\\ 2 \\pi^{2} \\left(x^{2} + 0.001 y^{2}\\right) \\sin^{2}{\\left(\\pi x \\right)} \\cos^{2}{\\left(\\pi y \\right)} \\quad \\quad \\quad \\quad\n",
    "\\end{multline}\n",
    "\n",
    "Finally, to correctly investigate the influence of the anisotropy ratio on the quality of the numerical solution, three meshes are considered for this test case. They are respectively referred to by M1, M2 and M3. M1 is the coarsest one and consists of 4802 triangles (edge length between 0.02-0.04). M2 is here an intermediate resolution mesh and consists of 15842 triangles computed over 2 MPI procs are used for this computational domain (edge length between 0.01-0.03). The finest one is M3 with 64082 triangles computed over 4 MPI procs are used for this computational domain (edge length between 0.005-0.007). We imphasize here that the idea is **not to perform a mesh convergence analysis**, but analyze the influence of the mesh by showing how a fine resolution is required when $A_r$ becomes important. Figures 3.1-3.3 depict the three meshes used for this test case. Numerical results, at steady state, are discussed and compared to the analytical solution \\eqref{sol_c2} in sections 4 to 7.\n",
    "\n",
    "\n"
   ]
  },
  {
   "cell_type": "markdown",
   "id": "b9dfe8c3",
   "metadata": {},
   "source": [
    "### The Mesh M1"
   ]
  },
  {
   "cell_type": "code",
   "execution_count": null,
   "id": "96015e3f",
   "metadata": {},
   "outputs": [],
   "source": [
    "a = visit.Show(\"TC2/Ar100/M1/TC2.lata\", \"Mesh\", \"DOM\")\n",
    "a.visuOptions(['no_databaseinfo','no_legend'])\n",
    "a.plot()"
   ]
  },
  {
   "cell_type": "markdown",
   "id": "772c881d",
   "metadata": {},
   "source": [
    "### The Mesh M2"
   ]
  },
  {
   "cell_type": "code",
   "execution_count": null,
   "id": "23e7461e",
   "metadata": {},
   "outputs": [],
   "source": [
    "a = visit.Show(\"TC2/Ar100/M2/TC2.lata\", 'Mesh',\"DOM\")\n",
    "a.visuOptions(['no_databaseinfo','no_legend'])\n",
    "a.plot()"
   ]
  },
  {
   "cell_type": "markdown",
   "id": "d4a2f6ea",
   "metadata": {},
   "source": [
    "### The Mesh M3"
   ]
  },
  {
   "cell_type": "code",
   "execution_count": null,
   "id": "7971c4ef",
   "metadata": {},
   "outputs": [],
   "source": [
    "a = visit.Show(\"TC2/Ar100/M3/TC2.lata\",\"Mesh\",\"DOM\")\n",
    "a.visuOptions(['no_databaseinfo','no_legend'])\n",
    "a.plot()"
   ]
  },
  {
   "cell_type": "markdown",
   "id": "7cac7005-9c4e-4e12-b92b-f1875baef081",
   "metadata": {},
   "source": [
    "## Results of test case 2 with $Ar= 1$\n",
    "\n",
    "The conductivity components are identical for this case (see distribution in figure 4.1). We note that the conductivity is diagonally distributed in the domain; highest values at the top right corner, and diffuses symmetrically to the facing corner where it takes the smallest value. The obtained temperature distribution at steady state with mesh M1 (physical time about 12.5 s) is shown in figure 4.2 and the difference from the analytical solution is illustrated in figure 4.3. It can be stated that the solution is not far from the exact solution, although the error values are not too small compared to test case 1; here the difference can reach to about $9.10^{−4}$ K. With M2, the resolution is improved and the time required to reach a steady state is reduced (10.3 s of physical time). This can be illustrated in figures 4.4 and 4.5. Moreover, better improvements are recorded with M3: steady state reaches at 7.2 s, and absolute error about $7.6\\cdot10^{−5}$ K at maximum (see figures 4.6 and 4.7). Same results are obtained on all meshes with an isotropic conductivity which confirms the results (figures 4.8 to 4.13).\n"
   ]
  },
  {
   "cell_type": "markdown",
   "id": "f0abaaea",
   "metadata": {},
   "source": [
    "### Conductivity tensor : component 1"
   ]
  },
  {
   "cell_type": "code",
   "execution_count": null,
   "id": "67801af2",
   "metadata": {},
   "outputs": [],
   "source": [
    "a = visit.Show(\"TC2/Ar1/M1/TC2_VOLUME.lata\",\"Pseudocolor\",\"DIFFUSIVITE_THERMIQUE_X_ELEM_DOM\",plotmesh=False)\n",
    "a.visuOptions(['no_databaseinfo'])\n",
    "a.plot()"
   ]
  },
  {
   "cell_type": "markdown",
   "id": "e5bd5e80",
   "metadata": {},
   "source": [
    "### Temperature at steady state : M1"
   ]
  },
  {
   "cell_type": "code",
   "execution_count": null,
   "id": "d179ca29",
   "metadata": {},
   "outputs": [],
   "source": [
    "a = visit.Show(\"TC2/Ar1/M1/TC2_VOLUME.lata\",\"Pseudocolor\",\"TEMPERATURE_ELEM_DOM\",plotmesh=False)\n",
    "a.plot()"
   ]
  },
  {
   "cell_type": "markdown",
   "id": "93232d57",
   "metadata": {},
   "source": [
    "### Difference from analytical solution: M1"
   ]
  },
  {
   "cell_type": "code",
   "execution_count": null,
   "id": "fa5688ce",
   "metadata": {},
   "outputs": [],
   "source": [
    "visit.showField(\"TC2/Ar1/M1/TC2.lata\",\"Pseudocolor\",\"ERROR_ELEM_ELEM_DOM\",plotmesh=False)"
   ]
  },
  {
   "cell_type": "markdown",
   "id": "67f8eced",
   "metadata": {},
   "source": [
    "### Temperature at steady state : M2"
   ]
  },
  {
   "cell_type": "code",
   "execution_count": null,
   "id": "59696803",
   "metadata": {},
   "outputs": [],
   "source": [
    "visit.showField(\"TC2/Ar1/M2/TC2_VOLUME.lata\",\"Pseudocolor\",\"TEMPERATURE_ELEM_DOM\",plotmesh=False)"
   ]
  },
  {
   "cell_type": "markdown",
   "id": "74baa11e",
   "metadata": {},
   "source": [
    "### Difference from analytical solution: M2"
   ]
  },
  {
   "cell_type": "code",
   "execution_count": null,
   "id": "70cc1928",
   "metadata": {},
   "outputs": [],
   "source": [
    "visit.showField(\"TC2/Ar1/M2/TC2.lata\",\"Pseudocolor\",\"ERROR_ELEM_ELEM_DOM\",plotmesh=False)"
   ]
  },
  {
   "cell_type": "markdown",
   "id": "f2926dc5",
   "metadata": {},
   "source": [
    "### Temperature at steady state : M3"
   ]
  },
  {
   "cell_type": "code",
   "execution_count": null,
   "id": "4475df0e",
   "metadata": {
    "scrolled": false
   },
   "outputs": [],
   "source": [
    "visit.showField(\"TC2/Ar1/M3/TC2_VOLUME.lata\",\"Pseudocolor\",\"TEMPERATURE_ELEM_DOM\",plotmesh=False)"
   ]
  },
  {
   "cell_type": "markdown",
   "id": "80c2aa7f",
   "metadata": {},
   "source": [
    "### Difference from analytical solution (absolute value) : M3"
   ]
  },
  {
   "cell_type": "code",
   "execution_count": null,
   "id": "7b48c78b",
   "metadata": {},
   "outputs": [],
   "source": [
    "visit.showField(\"TC2/Ar1/M3/TC2.lata\",\"Pseudocolor\",\"ERROR_ELEM_ELEM_DOM\",plotmesh=False)"
   ]
  },
  {
   "cell_type": "markdown",
   "id": "e9c5ae90",
   "metadata": {},
   "source": [
    "### Temperature at steady state (Isotropic conductivity) : M1"
   ]
  },
  {
   "cell_type": "code",
   "execution_count": null,
   "id": "41d677f7",
   "metadata": {},
   "outputs": [],
   "source": [
    "visit.showField(\"TC2/Ar1_iso/M1/TC2_iso_VOLUME.lata\",\"Pseudocolor\",\"TEMPERATURE_ELEM_DOM\",plotmesh=False)"
   ]
  },
  {
   "cell_type": "markdown",
   "id": "eebae90f",
   "metadata": {},
   "source": [
    "### Difference from analytical solution (Isotropic) : M1"
   ]
  },
  {
   "cell_type": "code",
   "execution_count": null,
   "id": "2361dda8",
   "metadata": {},
   "outputs": [],
   "source": [
    "visit.showField(\"TC2/Ar1_iso/M1/TC2_iso.lata\",\"Pseudocolor\",\"ERROR_ELEM_ELEM_DOM\",plotmesh=False)"
   ]
  },
  {
   "cell_type": "markdown",
   "id": "92cbf0f9",
   "metadata": {},
   "source": [
    "### Temperature at steady state (Isotropic conductivity) : M2"
   ]
  },
  {
   "cell_type": "code",
   "execution_count": null,
   "id": "010f85c5",
   "metadata": {
    "scrolled": false
   },
   "outputs": [],
   "source": [
    "visit.showField(\"TC2/Ar1_iso/M2/TC2_iso_VOLUME.lata\",\"Pseudocolor\",\"TEMPERATURE_ELEM_DOM\",plotmesh=False)"
   ]
  },
  {
   "cell_type": "markdown",
   "id": "28fce434",
   "metadata": {},
   "source": [
    "### Difference from analytical solution (Isotropic) : M2"
   ]
  },
  {
   "cell_type": "code",
   "execution_count": null,
   "id": "3e973bfe",
   "metadata": {
    "scrolled": false
   },
   "outputs": [],
   "source": [
    "visit.showField(\"TC2/Ar1_iso/M2/TC2_iso.lata\",\"Pseudocolor\",\"ERROR_ELEM_ELEM_DOM\",plotmesh=False)"
   ]
  },
  {
   "cell_type": "markdown",
   "id": "3a490c8e",
   "metadata": {},
   "source": [
    "### Temperature at steady state (Isotropic conductivity) : M3"
   ]
  },
  {
   "cell_type": "code",
   "execution_count": null,
   "id": "dd827a6d",
   "metadata": {},
   "outputs": [],
   "source": [
    "visit.showField(\"TC2/Ar1_iso/M3/TC2_iso_VOLUME.lata\",\"Pseudocolor\",\"TEMPERATURE_ELEM_DOM\",plotmesh=False)"
   ]
  },
  {
   "cell_type": "markdown",
   "id": "e8aad36b",
   "metadata": {},
   "source": [
    "### Difference from analytical solution (Isotropic) : M3"
   ]
  },
  {
   "cell_type": "code",
   "execution_count": null,
   "id": "7fe12e5f",
   "metadata": {},
   "outputs": [],
   "source": [
    "visit.showField(\"TC2/Ar1_iso/M3/TC2_iso.lata\",\"Pseudocolor\",\"ERROR_ELEM_ELEM_DOM\",plotmesh=False)"
   ]
  },
  {
   "cell_type": "markdown",
   "id": "04f14d99-ee54-427c-a1a4-1aa4c1791c3a",
   "metadata": {},
   "source": [
    "## Results of test case 2 with $Ar= 10$\n",
    "\n",
    "Figures 5.1-5.2 depict the distribution of the conductivity diagonal components. We note for mesh M1 that the time required to achieve a steady state is a bit long (physical time of 17 s). This is surely the effect of the increase in the anisotropic ratio. The obtained temperature distribution is shown in figure 5.3 and the difference from the analytical solution is considered in figure 5.4. Again, the difference between the numerical solution and the exact solution takes a maximum value of about $1.10^{−3}$ K near theboundary $\\partial \\Omega$. The numerical resolution improves and the  time required to attain a steady state reduces by refining the mesh. See figures 5.5 and 5.6 for M2, figures 5.7 and 5.8 for M3."
   ]
  },
  {
   "cell_type": "markdown",
   "id": "2e86003c",
   "metadata": {},
   "source": [
    "### Conductivity tensor : component 1"
   ]
  },
  {
   "cell_type": "code",
   "execution_count": null,
   "id": "65ba5fbd",
   "metadata": {},
   "outputs": [],
   "source": [
    "a = visit.Show(\"TC2/Ar10/M1/TC2_VOLUME.lata\",\"Pseudocolor\",\"DIFFUSIVITE_THERMIQUE_X_ELEM_DOM\",plotmesh=False)\n",
    "a.visuOptions(['no_databaseinfo'])\n",
    "a.plot()"
   ]
  },
  {
   "cell_type": "markdown",
   "id": "cca71325",
   "metadata": {},
   "source": [
    "### Conductivity tensor : component 2"
   ]
  },
  {
   "cell_type": "code",
   "execution_count": null,
   "id": "5f01e6d1",
   "metadata": {},
   "outputs": [],
   "source": [
    "a = visit.Show(\"TC2/Ar10/M1/TC2_VOLUME.lata\",\"Pseudocolor\",\"DIFFUSIVITE_THERMIQUE_Y_ELEM_DOM\",plotmesh=False)\n",
    "a.visuOptions(['no_databaseinfo'])\n",
    "a.plot()"
   ]
  },
  {
   "cell_type": "markdown",
   "id": "94715044",
   "metadata": {},
   "source": [
    "### Temperature at steady state : M1"
   ]
  },
  {
   "cell_type": "code",
   "execution_count": null,
   "id": "1efa0b77",
   "metadata": {},
   "outputs": [],
   "source": [
    "visit.showField(\"TC2/Ar10/M1/TC2_VOLUME.lata\",\"Pseudocolor\",\"TEMPERATURE_ELEM_DOM\",plotmesh=False)"
   ]
  },
  {
   "cell_type": "markdown",
   "id": "592bdaa7",
   "metadata": {},
   "source": [
    "### Difference from analytical solution (absolute value) : M1"
   ]
  },
  {
   "cell_type": "code",
   "execution_count": null,
   "id": "226681a7",
   "metadata": {},
   "outputs": [],
   "source": [
    "visit.showField(\"TC2/Ar10/M1/TC2.lata\",\"Pseudocolor\",\"ERROR_ELEM_ELEM_DOM\",plotmesh=False)"
   ]
  },
  {
   "cell_type": "markdown",
   "id": "d0053ea8",
   "metadata": {},
   "source": [
    "### Temperature at steady state : M2"
   ]
  },
  {
   "cell_type": "code",
   "execution_count": null,
   "id": "1dbc0551",
   "metadata": {},
   "outputs": [],
   "source": [
    "visit.showField(\"TC2/Ar10/M2/TC2_VOLUME.lata\",\"Pseudocolor\",\"TEMPERATURE_ELEM_DOM\",plotmesh=False)"
   ]
  },
  {
   "cell_type": "markdown",
   "id": "c1c3162e",
   "metadata": {},
   "source": [
    "### Difference from analytical solution: M2"
   ]
  },
  {
   "cell_type": "code",
   "execution_count": null,
   "id": "91a46985",
   "metadata": {},
   "outputs": [],
   "source": [
    "visit.showField(\"TC2/Ar10/M2/TC2.lata\",\"Pseudocolor\",\"ERROR_ELEM_ELEM_DOM\",plotmesh=False)"
   ]
  },
  {
   "cell_type": "markdown",
   "id": "05d26528",
   "metadata": {},
   "source": [
    "### Temperature at steady state : M3"
   ]
  },
  {
   "cell_type": "code",
   "execution_count": null,
   "id": "cd609da8",
   "metadata": {
    "scrolled": false
   },
   "outputs": [],
   "source": [
    "visit.showField(\"TC2/Ar10/M3/TC2_VOLUME.lata\",\"Pseudocolor\",\"TEMPERATURE_ELEM_DOM\",plotmesh=False)"
   ]
  },
  {
   "cell_type": "markdown",
   "id": "4f127135",
   "metadata": {},
   "source": [
    "### Difference from analytical solution: M3"
   ]
  },
  {
   "cell_type": "code",
   "execution_count": null,
   "id": "a5e4d398",
   "metadata": {},
   "outputs": [],
   "source": [
    "visit.showField(\"TC2/Ar10/M3/TC2.lata\",\"Pseudocolor\",\"ERROR_ELEM_ELEM_DOM\",plotmesh=False)"
   ]
  },
  {
   "cell_type": "markdown",
   "id": "9bb1864e-17ba-4ea5-9cf6-fbf1f14552cd",
   "metadata": {},
   "source": [
    "## Results of test case 2 with $Ar= 100$\n",
    "\n",
    "Figures 6.1-6.2 show the distribution of the $\\kappa$ components when the anisotropy ratio is set to 100. With mesh M1, the obtained temperature distribution (at steady state) is shown in figure 6.3 and the difference from the  analytical solution in figure 6.4. As expected, the resolution is improved by refining the mesh (figures 6.5 to 6.8). No issues of convergence are noticed here, unlike the VEF case (see the validation file of VEF)! This is a good result!"
   ]
  },
  {
   "cell_type": "markdown",
   "id": "ab187e32",
   "metadata": {},
   "source": [
    "### Conductivity tensor : component 1"
   ]
  },
  {
   "cell_type": "code",
   "execution_count": null,
   "id": "132de34c",
   "metadata": {},
   "outputs": [],
   "source": [
    "a = visit.Show(\"TC2/Ar100/M1/TC2_VOLUME.lata\",\"Pseudocolor\",\"DIFFUSIVITE_THERMIQUE_X_ELEM_DOM\",plotmesh=False)\n",
    "a.visuOptions(['no_databaseinfo'])\n",
    "a.plot()"
   ]
  },
  {
   "cell_type": "markdown",
   "id": "a216e0cb",
   "metadata": {},
   "source": [
    "### Conductivity tensor : component 2"
   ]
  },
  {
   "cell_type": "code",
   "execution_count": null,
   "id": "5ba1de40",
   "metadata": {},
   "outputs": [],
   "source": [
    "a = visit.Show(\"TC2/Ar100/M1/TC2_VOLUME.lata\",\"Pseudocolor\",\"DIFFUSIVITE_THERMIQUE_Y_ELEM_DOM\",plotmesh=False)\n",
    "a.visuOptions(['no_databaseinfo'])\n",
    "a.plot()"
   ]
  },
  {
   "cell_type": "markdown",
   "id": "aa085182",
   "metadata": {},
   "source": [
    "### Temperature at steady state : M1"
   ]
  },
  {
   "cell_type": "code",
   "execution_count": null,
   "id": "1416a5dc",
   "metadata": {},
   "outputs": [],
   "source": [
    "visit.showField(\"TC2/Ar100/M1/TC2_VOLUME.lata\",\"Pseudocolor\",\"TEMPERATURE_ELEM_DOM\",plotmesh=False)"
   ]
  },
  {
   "cell_type": "markdown",
   "id": "1abc43be",
   "metadata": {},
   "source": [
    "### Difference from analytical solution (absolute value) : M1"
   ]
  },
  {
   "cell_type": "code",
   "execution_count": null,
   "id": "965f1d14",
   "metadata": {},
   "outputs": [],
   "source": [
    "visit.showField(\"TC2/Ar100/M1/TC2.lata\",\"Pseudocolor\",\"ERROR_ELEM_ELEM_DOM\",plotmesh=False)"
   ]
  },
  {
   "cell_type": "markdown",
   "id": "d42c963f",
   "metadata": {},
   "source": [
    "### Temperature at steady state : M2"
   ]
  },
  {
   "cell_type": "code",
   "execution_count": null,
   "id": "446ca8d6",
   "metadata": {},
   "outputs": [],
   "source": [
    "visit.showField(\"TC2/Ar100/M2/TC2_VOLUME.lata\",\"Pseudocolor\",\"TEMPERATURE_ELEM_DOM\",plotmesh=False)"
   ]
  },
  {
   "cell_type": "markdown",
   "id": "800d9dfa",
   "metadata": {},
   "source": [
    "### Difference from analytical solution (absolute value) : M2"
   ]
  },
  {
   "cell_type": "code",
   "execution_count": null,
   "id": "5dcfc46a",
   "metadata": {},
   "outputs": [],
   "source": [
    "visit.showField(\"TC2/Ar100/M2/TC2.lata\",\"Pseudocolor\",\"ERROR_ELEM_ELEM_DOM\",plotmesh=False)"
   ]
  },
  {
   "cell_type": "markdown",
   "id": "48bdefb7",
   "metadata": {},
   "source": [
    "### Temperature at steady state : M3"
   ]
  },
  {
   "cell_type": "code",
   "execution_count": null,
   "id": "5615ce06",
   "metadata": {
    "scrolled": false
   },
   "outputs": [],
   "source": [
    "visit.showField(\"TC2/Ar100/M3/TC2_VOLUME.lata\",\"Pseudocolor\",\"TEMPERATURE_ELEM_DOM\",plotmesh=False)"
   ]
  },
  {
   "cell_type": "markdown",
   "id": "b552ac62",
   "metadata": {},
   "source": [
    "### Difference from analytical solution (absolute value) : M3"
   ]
  },
  {
   "cell_type": "code",
   "execution_count": null,
   "id": "b3835b68",
   "metadata": {},
   "outputs": [],
   "source": [
    "visit.showField(\"TC2/Ar100/M3/TC2.lata\",\"Pseudocolor\",\"ERROR_ELEM_ELEM_DOM\",plotmesh=False)"
   ]
  },
  {
   "cell_type": "markdown",
   "id": "50ea4b00-3b3d-4d02-b194-35e7d9ce4d5f",
   "metadata": {},
   "source": [
    "## Test case 2 : $Ar= 1000$\n",
    "\n",
    "Same when the anisotropic ratio is increased to $Ar = 1000$. The resolution is improved by refining the\n",
    "mesh and no convergence issues are reported."
   ]
  },
  {
   "cell_type": "markdown",
   "id": "40f0ec2d",
   "metadata": {},
   "source": [
    "### Conductivity tensor : component 1"
   ]
  },
  {
   "cell_type": "code",
   "execution_count": null,
   "id": "1d380cfe",
   "metadata": {},
   "outputs": [],
   "source": [
    "a = visit.Show(\"TC2/Ar1000/M1/TC2_VOLUME.lata\",\"Pseudocolor\",\"DIFFUSIVITE_THERMIQUE_X_ELEM_DOM\",plotmesh=False)\n",
    "a.visuOptions(['no_databaseinfo'])\n",
    "a.plot()"
   ]
  },
  {
   "cell_type": "markdown",
   "id": "8a44f832",
   "metadata": {},
   "source": [
    "### Conductivity tensor : component 2"
   ]
  },
  {
   "cell_type": "code",
   "execution_count": null,
   "id": "7c6e70ce",
   "metadata": {},
   "outputs": [],
   "source": [
    "a = visit.Show(\"TC2/Ar1000/M1/TC2_VOLUME.lata\",\"Pseudocolor\",\"DIFFUSIVITE_THERMIQUE_Y_ELEM_DOM\",plotmesh=False)\n",
    "a.visuOptions(['no_databaseinfo'])\n",
    "a.plot()"
   ]
  },
  {
   "cell_type": "markdown",
   "id": "cc472199",
   "metadata": {},
   "source": [
    "### Temperature at steady state : M1"
   ]
  },
  {
   "cell_type": "code",
   "execution_count": null,
   "id": "c3fb893e",
   "metadata": {},
   "outputs": [],
   "source": [
    "visit.showField(\"TC2/Ar1000/M1/TC2_VOLUME.lata\",\"Pseudocolor\",\"TEMPERATURE_ELEM_DOM\",plotmesh=False)"
   ]
  },
  {
   "cell_type": "markdown",
   "id": "f76c8176",
   "metadata": {},
   "source": [
    "### Difference from analytical solution (absolute value) : M1"
   ]
  },
  {
   "cell_type": "code",
   "execution_count": null,
   "id": "c49b4903",
   "metadata": {},
   "outputs": [],
   "source": [
    "visit.showField(\"TC2/Ar1000/M1/TC2.lata\",\"Pseudocolor\",\"ERROR_ELEM_ELEM_DOM\",plotmesh=False)"
   ]
  },
  {
   "cell_type": "markdown",
   "id": "dcae4b86",
   "metadata": {},
   "source": [
    "### Temperature at steady state : M2"
   ]
  },
  {
   "cell_type": "code",
   "execution_count": null,
   "id": "579c01b5",
   "metadata": {},
   "outputs": [],
   "source": [
    "visit.showField(\"TC2/Ar1000/M2/TC2_VOLUME.lata\",\"Pseudocolor\",\"TEMPERATURE_ELEM_DOM\",plotmesh=False)"
   ]
  },
  {
   "cell_type": "markdown",
   "id": "2d01075f",
   "metadata": {},
   "source": [
    "### Difference from analytical solution (absolute value) : M2"
   ]
  },
  {
   "cell_type": "code",
   "execution_count": null,
   "id": "8bd83860",
   "metadata": {},
   "outputs": [],
   "source": [
    "visit.showField(\"TC2/Ar1000/M2/TC2.lata\",\"Pseudocolor\",\"ERROR_ELEM_ELEM_DOM\",plotmesh=False)"
   ]
  },
  {
   "cell_type": "markdown",
   "id": "7f911878",
   "metadata": {},
   "source": [
    "### Temperature at steady state : M3"
   ]
  },
  {
   "cell_type": "code",
   "execution_count": null,
   "id": "81b383a6",
   "metadata": {
    "scrolled": false
   },
   "outputs": [],
   "source": [
    "visit.showField(\"TC2/Ar1000/M3/TC2_VOLUME.lata\",\"Pseudocolor\",\"TEMPERATURE_ELEM_DOM\",plotmesh=False)"
   ]
  },
  {
   "cell_type": "markdown",
   "id": "8b887c03",
   "metadata": {},
   "source": [
    "### Difference from analytical solution (absolute value) : M3"
   ]
  },
  {
   "cell_type": "code",
   "execution_count": null,
   "id": "3624886d",
   "metadata": {},
   "outputs": [],
   "source": [
    "visit.showField(\"TC2/Ar1000/M3/TC2.lata\",\"Pseudocolor\",\"ERROR_ELEM_ELEM_DOM\",plotmesh=False)"
   ]
  },
  {
   "cell_type": "markdown",
   "id": "d3133aba",
   "metadata": {},
   "source": [
    "## Max and average error\n",
    "\n",
    "The table below summarizes the maximum and average error values we obtained in all cases at the steady state. The influence of the mesh refinement (for test case 2) is evident."
   ]
  },
  {
   "cell_type": "code",
   "execution_count": null,
   "id": "7a0443f5",
   "metadata": {},
   "outputs": [],
   "source": [
    "from trustutils import plot\n",
    "\n",
    "Cas1 = plot.loadText(\"./TC1/Error_values.txt\", dtype=str)\n",
    "Cas2_Ar1_M1 = plot.loadText(\"./TC2/Ar1/M1/Error_values.txt\", dtype=str)\n",
    "Cas2_Ar10_M1 = plot.loadText(\"./TC2/Ar10/M1/Error_values.txt\", dtype=str)\n",
    "Cas2_Ar100_M1 = plot.loadText(\"./TC2/Ar100/M1/Error_values.txt\", dtype=str)\n",
    "Cas2_Ar1000_M1 = plot.loadText(\"./TC2/Ar1000/M1/Error_values.txt\", dtype=str)\n",
    "Cas2_Ar1_M2 = plot.loadText(\"./TC2/Ar1/M2/Error_values.txt\", dtype=str)\n",
    "Cas2_Ar10_M2 = plot.loadText(\"./TC2/Ar10/M2/Error_values.txt\", dtype=str)\n",
    "Cas2_Ar100_M2 = plot.loadText(\"./TC2/Ar100/M2/Error_values.txt\", dtype=str)\n",
    "Cas2_Ar1000_M2 = plot.loadText(\"./TC2/Ar1000/M2/Error_values.txt\", dtype=str)\n",
    "Cas2_Ar1_M3 = plot.loadText(\"./TC2/Ar1/M3/Error_values.txt\", dtype=str)\n",
    "Cas2_Ar10_M3 = plot.loadText(\"./TC2/Ar10/M3/Error_values.txt\", dtype=str)\n",
    "Cas2_Ar100_M3 = plot.loadText(\"./TC2/Ar100/M3/Error_values.txt\", dtype=str)\n",
    "Cas2_Ar1000_M3 = plot.loadText(\"./TC2/Ar1000/M3/Error_values.txt\", dtype=str)\n",
    "\n",
    "a = plot.Table([\"Max value\", \"Average Value\"])\n",
    "a.addLine([Cas1[0:2]],\"Test Case 1\")\n",
    "a.addLine([Cas2_Ar1_M1[0:2]],'Test Case 2, Ar=1 : M1')\n",
    "a.addLine([Cas2_Ar10_M1[0:2]],'Test Case 2, Ar=10 : M1')\n",
    "a.addLine([Cas2_Ar100_M1[0:2]],'Test Case 2, Ar=100 : M1')\n",
    "a.addLine([Cas2_Ar1000_M1[0:2]],'Test Case 2, Ar=1000 : M1')\n",
    "a.addLine([Cas2_Ar1_M2[0:2]],'Test Case 2, Ar=1 : M2')\n",
    "a.addLine([Cas2_Ar10_M2[0:2]],'Test Case 2, Ar=10 : M2')\n",
    "a.addLine([Cas2_Ar100_M2[0:2]],'Test Case 2, Ar=100 : M2')\n",
    "a.addLine([Cas2_Ar1000_M2[0:2]],'Test Case 2, Ar=1000 : M2')\n",
    "a.addLine([Cas2_Ar1_M3[0:2]],'Test Case 2, Ar=1 : M3')\n",
    "a.addLine([Cas2_Ar10_M3[0:2]],'Test Case 2, Ar=10 : M3')\n",
    "a.addLine([Cas2_Ar100_M3[0:2]],'Test Case 2, Ar=100 : M3')\n",
    "a.addLine([Cas2_Ar1000_M3[0:2]],'Test Case 2, Ar=1000 : M3')\n",
    "\n",
    "display(a)"
   ]
  },
  {
   "cell_type": "markdown",
   "id": "71f2c26f-f163-425b-8064-e5cd050721a5",
   "metadata": {},
   "source": [
    "## Concluding remarks\n",
    "\n",
    "In this report, a validation study concerning the implementation of a VDF anisotropic diffusion operator\n",
    "for in the TRUST platform is documented. Different simulations are performed and numerical results at\n",
    "steady-state are compared to analytical solutions for validations. Two test cases are investigated, either\n",
    "with an anisotropic discontinuous conductivity tensor or a non-uniform one. The mesh sensitivity is\n",
    "highlighted where numerical results show that TRUST can handle high anisotropic ratios if a fine mesh is\n",
    "used. We advise the user to perform a grid convergence study before starting the physical interpretation\n",
    "of the numerical data. Till present, we have only one limitation for the VDF anisotropic operator: **the\n",
    "conductivity tensor should be diagonal**."
   ]
  },
  {
   "cell_type": "markdown",
   "id": "9ddaef89-0ec1-48a8-ab01-00401ea551d0",
   "metadata": {},
   "source": [
    "## Computer performance"
   ]
  },
  {
   "cell_type": "code",
   "execution_count": null,
   "id": "897cbf88-bd23-4566-b96c-ba73f7e97103",
   "metadata": {
    "tags": []
   },
   "outputs": [],
   "source": [
    "run.tablePerf()"
   ]
  }
 ],
 "metadata": {
  "kernelspec": {
   "display_name": "Python 3 (ipykernel)",
   "language": "python",
   "name": "python3"
  },
  "language_info": {
   "codemirror_mode": {
    "name": "ipython",
    "version": 3
   },
   "file_extension": ".py",
   "mimetype": "text/x-python",
   "name": "python",
   "nbconvert_exporter": "python",
   "pygments_lexer": "ipython3",
   "version": "3.7.16"
  }
 },
 "nbformat": 4,
 "nbformat_minor": 5
}
