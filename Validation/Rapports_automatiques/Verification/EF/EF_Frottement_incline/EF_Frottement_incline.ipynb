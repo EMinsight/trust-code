{
 "cells": [
  {
   "cell_type": "markdown",
   "id": "inappropriate-lingerie",
   "metadata": {},
   "source": [
    "# Ecoulement avec force de frottement en volume"
   ]
  },
  {
   "cell_type": "code",
   "execution_count": null,
   "id": "b6e55701",
   "metadata": {},
   "outputs": [],
   "source": [
    "from trustutils import run \n",
    "\n",
    "run.introduction('D. Jamet')"
   ]
  },
  {
   "cell_type": "markdown",
   "id": "adopted-auditor",
   "metadata": {},
   "source": [
    "### Description"
   ]
  },
  {
   "cell_type": "markdown",
   "id": "imperial-shield",
   "metadata": {},
   "source": [
    "On considère un problème de conduction thermique stationnaire unidimensionnel simple.  Afin de tester le  codage  en  trois  dimensions,  ce  problème  est  résolu  sur  un  parallélépipède  rectangles  dont  les  axes principaux ne sont pas alignés avec les axes du repère.  La solution numérique du problème est comparée à sa solution analytique.  Le calcul est fait en trois dimensions bien que le problème soit unidimensionne la fin de détecter des erreurs éventuelles de codage."
   ]
  },
  {
   "cell_type": "code",
   "execution_count": null,
   "id": "bf327d3b",
   "metadata": {},
   "outputs": [],
   "source": [
    "run.TRUST_parameters()"
   ]
  },
  {
   "cell_type": "code",
   "execution_count": null,
   "id": "6729c231-27f7-4fc9-9b61-4dc58e90721b",
   "metadata": {},
   "outputs": [],
   "source": [
    "from trustutils import run \n",
    "import os\n",
    "c1 = run.addCase(\".\",\"frottement_incline.data\") \n",
    "run.printCases()\n",
    "run.runCases()"
   ]
  },
  {
   "cell_type": "markdown",
   "id": "growing-hundred",
   "metadata": {},
   "source": [
    "## Champs de vitesse et de pression \n",
    "### Erreurs des champs de pression et de vitesse calculés\n",
    "L'erreur des champs de pression et de vitesse calculés par GENEPI par rapport à la solution analytique est tracée."
   ]
  },
  {
   "cell_type": "code",
   "execution_count": null,
   "id": "3d153261-0a30-493d-a78d-fc5a9ed9d392",
   "metadata": {},
   "outputs": [],
   "source": [
    "from trustutils import visit\n",
    "\n",
    "Graphique=visit.Show(\"./frottement_incline.lata\",\"Mesh\",\"dom\",plotmesh=False)\n",
    "Graphique.visitCommand(\"DefineScalarExpression(\\\"P_ANALYTIQUE_ELEM_dom\\\",\\\"((sqrt(3.)/4.)*coord(dom)[0]-7./4.*coord(dom)[1])\\\") \")\n",
    "Graphique.visitCommand(\"DefineScalarExpression(\\\"ERREUR_P_ELEM_dom\\\",\\\"(PRESSION_PA_ELEM_dom-P_ANALYTIQUE_ELEM_dom)\\\") \")\n",
    "Graphique.visitCommand(\"DefineVectorExpression(\\\"V_ANALYTIQUE_SOM_dom\\\",\\\"{(0.),(1.)}\\\") \")\n",
    "Graphique.visitCommand(\"DefineVectorExpression(\\\"ERREUR_V_SOM_dom\\\",\\\"(VITESSE_SOM_dom-V_ANALYTIQUE_SOM_dom)\\\") \")\n",
    "Graphique.addField(\"./frottement_incline.lata\",\"Pseudocolor\",\"ERREUR_P_ELEM_dom\")\n",
    "Graphique.addField(\"./frottement_incline.lata\",\"Vector\",\"ERREUR_V_SOM_dom\")\n",
    "Graphique.plot() "
   ]
  },
  {
   "cell_type": "markdown",
   "id": "da1e2235-770b-4f30-a430-eda253dc0531",
   "metadata": {},
   "source": [
    "## Data Files\n",
    "### frottement_incline"
   ]
  },
  {
   "cell_type": "code",
   "execution_count": null,
   "id": "15fd47b5-5015-41c4-b5b5-1a2ec787d071",
   "metadata": {},
   "outputs": [],
   "source": [
    "from trustutils import run\n",
    "\n",
    "run.dumpDataset(\"./frottement_incline.data\")"
   ]
  },
  {
   "cell_type": "code",
   "execution_count": null,
   "id": "2b6398c2",
   "metadata": {},
   "outputs": [],
   "source": []
  }
 ],
 "metadata": {
  "kernelspec": {
   "display_name": "Python 3 (ipykernel)",
   "language": "python",
   "name": "python3"
  },
  "language_info": {
   "codemirror_mode": {
    "name": "ipython",
    "version": 3
   },
   "file_extension": ".py",
   "mimetype": "text/x-python",
   "name": "python",
   "nbconvert_exporter": "python",
   "pygments_lexer": "ipython3",
   "version": "3.7.9"
  }
 },
 "nbformat": 4,
 "nbformat_minor": 5
}
