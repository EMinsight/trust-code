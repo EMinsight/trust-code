{
 "cells": [
  {
   "cell_type": "markdown",
   "id": "inappropriate-lingerie",
   "metadata": {},
   "source": [
    "# Champ_front_xyz_debit verification"
   ]
  },
  {
   "cell_type": "code",
   "execution_count": null,
   "id": "2a212e01",
   "metadata": {},
   "outputs": [],
   "source": [
    "from trustutils import run\n",
    "\n",
    "run.introduction(\"TMA TRUST team (MR)\")\n",
    "\n",
    "run.TRUST_parameters(\"1.7.8_beta\")"
   ]
  },
  {
   "cell_type": "markdown",
   "id": "47bbf66d",
   "metadata": {},
   "source": [
    "### Description: \n",
    "\n",
    "This report presents the use of the class Champ_front_xyz_debit. It allows users to impose a velocity profil in addition of a flow rate on a boundary."
   ]
  },
  {
   "cell_type": "code",
   "execution_count": null,
   "id": "designed-palace",
   "metadata": {
    "tags": []
   },
   "outputs": [],
   "source": [
    "from trustutils import run\n",
    "for i in range(5):\n",
    "    run.addCase(\"Champ_front_xyz_debit_%d\" % i,\"Champ_front_xyz_debit_%d.data\" % i)\n",
    "run.printCases()\n",
    "run.runCases()"
   ]
  },
  {
   "cell_type": "markdown",
   "id": "growing-hundred",
   "metadata": {},
   "source": [
    "## Visualization for 2D VEF test case, uniforme fields\n",
    "\n",
    "### Boundary conditions "
   ]
  },
  {
   "cell_type": "code",
   "execution_count": null,
   "id": "coated-fields",
   "metadata": {
    "tags": []
   },
   "outputs": [],
   "source": [
    "from trustutils import run \n",
    "run.dumpText(\"./Champ_front_xyz_debit_0/BC.txt\") "
   ]
  },
  {
   "cell_type": "markdown",
   "id": "therapeutic-converter",
   "metadata": {},
   "source": [
    "### Mesh "
   ]
  },
  {
   "cell_type": "code",
   "execution_count": null,
   "id": "adequate-twist",
   "metadata": {},
   "outputs": [],
   "source": [
    "from trustutils import visit\n",
    "\n",
    "a = visit.Show(\"./Champ_front_xyz_debit_0/Champ_front_xyz_debit_0.lata\", \"Mesh\", \"dom\")\n",
    "a.addField(\"Champ_front_xyz_debit_0/Champ_front_xyz_debit_0_PROFIL_VITX.son\", \"Mesh\", \"MESH\")\n",
    "a.zoom2D([-0.1715194150583894,5.134657491393821,-0.1087717572213625,2.064149271803881])\n",
    "a.plot()\n"
   ]
  },
  {
   "cell_type": "markdown",
   "id": "complete-exhibition",
   "metadata": {},
   "source": [
    "### PROFIL_VITX"
   ]
  },
  {
   "cell_type": "code",
   "execution_count": null,
   "id": "interim-jerusalem",
   "metadata": {},
   "outputs": [],
   "source": [
    "from trustutils import plot \n",
    "import numpy as np\n",
    "\n",
    "a=plot.Graph(\"PROFIL VITX\") \n",
    "x=np.linspace(0.1,1.9,100)\n",
    "y=x*0+4\n",
    "a.add(x,y,color=\"r\",label=\"User Ux=4\")\n",
    "a.addSegment(\"./Champ_front_xyz_debit_0/Champ_front_xyz_debit_0_PROFIL_VITX.son\",time=0.0 ,marker=\"-|\",label=\"t=0\")  \n",
    "a.addSegment(\"./Champ_front_xyz_debit_0/Champ_front_xyz_debit_0_PROFIL_VITX.son\",time=5.87567891e+01,marker=\"x\",label=\"t end\")  \n",
    "\n",
    "a.visu(0,2,0.5,4.5)"
   ]
  },
  {
   "cell_type": "markdown",
   "id": "single-gospel",
   "metadata": {},
   "source": [
    "### PROFIL_VITY"
   ]
  },
  {
   "cell_type": "code",
   "execution_count": null,
   "id": "standing-timeline",
   "metadata": {},
   "outputs": [],
   "source": [
    "from trustutils import plot \n",
    "import numpy as np\n",
    "\n",
    "a=plot.Graph(\"PROFIL VITY\") \n",
    "x=np.linspace(0.1,1.9,100)\n",
    "y=x*0+1\n",
    "a.add(x,y,color=\"r\",label=\"User Ux=4\")\n",
    "a.addSegment(\"./Champ_front_xyz_debit_0/Champ_front_xyz_debit_0_PROFIL_VITY.son\",time=0.0 ,marker=\"-|\",color=\"g\",label=\"t=0\") \n",
    "a.addSegment(\"./Champ_front_xyz_debit_0/Champ_front_xyz_debit_0_PROFIL_VITY.son\",time=5.87567891e+01,marker=\"x\",color=\"b\",label=\"t end\") \n",
    " \n",
    "a.visu(0,2,0.2,1.2)"
   ]
  },
  {
   "cell_type": "markdown",
   "id": "revised-pressure",
   "metadata": {},
   "source": [
    "## Visualization for 2D VEF test case \n",
    "\n",
    "### Boundary conditions"
   ]
  },
  {
   "cell_type": "code",
   "execution_count": null,
   "id": "demonstrated-classroom",
   "metadata": {},
   "outputs": [],
   "source": [
    "from trustutils import run \n",
    "run.dumpText(\"./Champ_front_xyz_debit_1/BC.txt\") "
   ]
  },
  {
   "cell_type": "markdown",
   "id": "8dc91a47",
   "metadata": {},
   "source": [
    "### Mesh "
   ]
  },
  {
   "cell_type": "code",
   "execution_count": null,
   "id": "enclosed-lending",
   "metadata": {},
   "outputs": [],
   "source": [
    "from trustutils import visit\n",
    "a = visit.Show(\"./Champ_front_xyz_debit_1/Champ_front_xyz_debit_1.lata\", \"Mesh\", \"dom\")\n",
    "a.addField(\"Champ_front_xyz_debit_1/Champ_front_xyz_debit_1_PROFIL_VITX.son\", \"Mesh\", \"MESH\")\n",
    "a.zoom2D([-0.1715194150583894,5.134657491393821,-0.1087717572213625,2.064149271803881])\n",
    "a.plot()\n"
   ]
  },
  {
   "cell_type": "markdown",
   "id": "f8a1a5b0",
   "metadata": {},
   "source": [
    "### PROFIL VITX"
   ]
  },
  {
   "cell_type": "code",
   "execution_count": null,
   "id": "demonstrated-hardware",
   "metadata": {},
   "outputs": [],
   "source": [
    "from trustutils import plot \n",
    "import numpy as np\n",
    "\n",
    "a=plot.Graph(\"PROFIL VITX\") \n",
    "x=np.linspace(0.1,1.9,100)\n",
    "y=x*(x-2)\n",
    "a.add(x,y,color=\"r\",label=\"User Ux=x*(x-2)\")\n",
    "a.addSegment(\"./Champ_front_xyz_debit_1/Champ_front_xyz_debit_1_PROFIL_VITX.son\",time=0.0 ,marker=\"-x\",color=\"g\",label=\"t=0\")   \n",
    "a.addSegment(\"./Champ_front_xyz_debit_1/Champ_front_xyz_debit_1_PROFIL_VITX.son\",time=18.1,marker=\"x\",color=\"b\" ,label=\"t end\")   \n",
    " \n",
    "a.visu(0,2,-1,0)"
   ]
  },
  {
   "cell_type": "markdown",
   "id": "periodic-beads",
   "metadata": {},
   "source": [
    "### PROFIL_VITY"
   ]
  },
  {
   "cell_type": "code",
   "execution_count": null,
   "id": "functional-savannah",
   "metadata": {},
   "outputs": [],
   "source": [
    "from trustutils import plot \n",
    "import numpy as np\n",
    "\n",
    "a=plot.Graph(\"PROFIL VITY\") \n",
    "x=np.linspace(0.1,1.9,100)\n",
    "y=2*x\n",
    "a.add(x,y,color=\"r\",label=\"User Ux=2*x\")\n",
    "a.addSegment(\"./Champ_front_xyz_debit_1/Champ_front_xyz_debit_1_PROFIL_VITY.son\",time=0.0 ,marker=\"-x\",color=\"g\",label=\"t=0\")  \n",
    "a.addSegment(\"./Champ_front_xyz_debit_1/Champ_front_xyz_debit_1_PROFIL_VITY.son\",time=18.1,marker=\"x\",color=\"b\",label=\"t end\")   \n",
    " \n",
    "a.visu(0,2,0,4)"
   ]
  },
  {
   "cell_type": "markdown",
   "id": "scenic-international",
   "metadata": {},
   "source": [
    "## Visualization for 2D VEF test case: flow rate depending of time"
   ]
  },
  {
   "cell_type": "code",
   "execution_count": null,
   "id": "metallic-costa",
   "metadata": {},
   "outputs": [],
   "source": [
    "from trustutils import run \n",
    "run.dumpText(\"./Champ_front_xyz_debit_4/BC.txt\") "
   ]
  },
  {
   "cell_type": "markdown",
   "id": "3710b62f",
   "metadata": {},
   "source": [
    "### Mesh "
   ]
  },
  {
   "cell_type": "code",
   "execution_count": null,
   "id": "extensive-vitamin",
   "metadata": {},
   "outputs": [],
   "source": [
    "from trustutils import visit\n",
    "a = visit.Show(\"./Champ_front_xyz_debit_4/Champ_front_xyz_debit_4.lata\", \"Mesh\", \"dom\")\n",
    "a.addField(\"Champ_front_xyz_debit_4/Champ_front_xyz_debit_4_PROFIL_VITX.son\", \"Mesh\", \"MESH\")\n",
    "a.zoom2D([-0.1715194150583894,5.134657491393821,-0.1087717572213625,2.064149271803881])\n",
    "a.plot()\n"
   ]
  },
  {
   "cell_type": "markdown",
   "id": "emotional-popularity",
   "metadata": {},
   "source": [
    "### PROFIL_VITX"
   ]
  },
  {
   "cell_type": "code",
   "execution_count": null,
   "id": "cultural-tribute",
   "metadata": {},
   "outputs": [],
   "source": [
    "from trustutils import plot \n",
    "import numpy as np\n",
    "\n",
    "a=plot.Graph(\"PROFIL VITX\") \n",
    "x=np.linspace(0.1,1.9,100)\n",
    "y=x*0+1\n",
    "a.add(x,y,color=\"r\",label=\"User Ux=1\")\n",
    "a.addSegment(\"./Champ_front_xyz_debit_4/Champ_front_xyz_debit_4_PROFIL_VITX.son\",time=0.0 ,marker=\"-x\",color=\"g\",label=\"t=0\") \n",
    "a.addSegment(\"./Champ_front_xyz_debit_4/Champ_front_xyz_debit_4_PROFIL_VITX.son\",time=2.11517462e+00 ,marker=\"x\",color=\"b\",label=\"t=2\")   \n",
    "a.addSegment(\"./Champ_front_xyz_debit_4/Champ_front_xyz_debit_4_PROFIL_VITX.son\",time=4.02447360e+00,marker=\"s\",color=\"violet\",label=\"t end\")   \n",
    " \n",
    "a.visu(0,2,0,14)"
   ]
  },
  {
   "cell_type": "markdown",
   "id": "assumed-catholic",
   "metadata": {},
   "source": [
    "### PROFIL_VITY"
   ]
  },
  {
   "cell_type": "code",
   "execution_count": null,
   "id": "accessible-engineer",
   "metadata": {},
   "outputs": [],
   "source": [
    "from trustutils import plot \n",
    "import numpy as np\n",
    "\n",
    "a=plot.Graph(\"PROFIL VITY\") \n",
    "x=np.linspace(0.1,1.9,100)\n",
    "y=x*0+2\n",
    "a.add(x,y,color=\"r\",label=\"User Uy=2\")\n",
    "a.addSegment(\"./Champ_front_xyz_debit_4/Champ_front_xyz_debit_4_PROFIL_VITY.son\",time=0.0 ,marker=\"-x\",color=\"g\",label=\"t=0\") \n",
    "a.addSegment(\"./Champ_front_xyz_debit_4/Champ_front_xyz_debit_4_PROFIL_VITY.son\",time=2.11517462e+00 ,marker=\"x\",color=\"b\",label=\"t=2\")   \n",
    "a.addSegment(\"./Champ_front_xyz_debit_4/Champ_front_xyz_debit_4_PROFIL_VITY.son\",time=4.02447360e+00,marker=\"s\",color=\"violet\",label=\"t end\")   \n",
    " \n",
    "a.visu(0,2,0,28)"
   ]
  },
  {
   "cell_type": "markdown",
   "id": "tired-plastic",
   "metadata": {},
   "source": [
    "## Visualization for 2D VEF inclined test case "
   ]
  },
  {
   "cell_type": "markdown",
   "id": "needed-funds",
   "metadata": {},
   "source": [
    "### Boundary conditions\n"
   ]
  },
  {
   "cell_type": "code",
   "execution_count": null,
   "id": "flush-nigeria",
   "metadata": {},
   "outputs": [],
   "source": [
    "from trustutils import run \n",
    "run.dumpText(\"./Champ_front_xyz_debit_2/BC.txt\") "
   ]
  },
  {
   "cell_type": "markdown",
   "id": "b33d0c54",
   "metadata": {},
   "source": [
    "### Mesh"
   ]
  },
  {
   "cell_type": "code",
   "execution_count": null,
   "id": "technical-pension",
   "metadata": {},
   "outputs": [],
   "source": [
    "from trustutils import visit\n",
    "a = visit.Show(\"./Champ_front_xyz_debit_2/Champ_front_xyz_debit_2.lata\", \"Mesh\", \"dom\")\n",
    "a.addField(\"Champ_front_xyz_debit_2/Champ_front_xyz_debit_2_PROFIL_VITX.son\", \"Mesh\", \"MESH\")\n",
    "a.zoom2D([-0.05532703340923462,6.03351035222293,-0.04819041337808283,2.03430709664459])\n",
    "a.plot()\n"
   ]
  },
  {
   "cell_type": "markdown",
   "id": "established-first",
   "metadata": {},
   "source": [
    "### PROFIL_VITX"
   ]
  },
  {
   "cell_type": "code",
   "execution_count": null,
   "id": "blind-steel",
   "metadata": {},
   "outputs": [],
   "source": [
    "from trustutils import plot \n",
    "import numpy as np\n",
    "\n",
    "a=plot.Graph(\"PROFIL VITX\") \n",
    "x=np.linspace(0.1,1.9,100)\n",
    "y=np.linspace(0.1,1.9,100)\n",
    "y[x<2  ]=-0.5 +y[x<2  ]*0\n",
    "y[x<1.5]=-0.75+y[x<1.5]*0\n",
    "y[x<1  ]=-0.25+y[x<1  ]*0\n",
    "y[x<0.5]=0    +y[x<0.5]*0\n",
    "\n",
    "a.add(x,y,color=\"r\",label=\"User Ux=f(x)\")\n",
    "a.addSegment(\"./Champ_front_xyz_debit_2/Champ_front_xyz_debit_2_PROFIL_VITX.son\",time=0.0 ,marker=\"-x\",color=\"g\",label=\"t=0\") \n",
    "a.addSegment(\"./Champ_front_xyz_debit_2/Champ_front_xyz_debit_2_PROFIL_VITX.son\",time=1.39776975e+00  ,marker=\"x\",color=\"b\",label=\"t end\")   \n",
    "a.label(\"Y Axis\", \"VITESSEX\")  \n",
    "a.visu(0,2,-0.8,0.1)"
   ]
  },
  {
   "cell_type": "markdown",
   "id": "applicable-container",
   "metadata": {},
   "source": [
    "### PROFIL_VITY"
   ]
  },
  {
   "cell_type": "code",
   "execution_count": null,
   "id": "baking-salem",
   "metadata": {},
   "outputs": [],
   "source": [
    "from trustutils import plot \n",
    "import numpy as np \n",
    "\n",
    "a=plot.Graph(\"PROFIL VITY\") \n",
    "x=np.linspace(0.1,1.9,100)\n",
    "y=np.ones(100)*2\n",
    "\n",
    "a.add(x,y,marker=\"|\",color=\"r\",label=\"User Uy=2\")\n",
    "a.addSegment(\"./Champ_front_xyz_debit_2/Champ_front_xyz_debit_2_PROFIL_VITY.son\",time=0.0 ,marker=\"-x\",color=\"g\",label=\"t=0\") \n",
    "a.addSegment(\"./Champ_front_xyz_debit_2/Champ_front_xyz_debit_2_PROFIL_VITY.son\",time=1.39776975e+00  ,marker=\"x\",color=\"b\",label=\"t end\")  \n",
    "a.label(\"Y Axis\", \"VITESSEY\")  \n",
    "a.visu(0,2.5,1.8,2)"
   ]
  },
  {
   "cell_type": "markdown",
   "id": "piano-opposition",
   "metadata": {},
   "source": [
    "## Visualisation for 3D VDF"
   ]
  },
  {
   "cell_type": "markdown",
   "id": "married-journey",
   "metadata": {},
   "source": [
    "### Boundary conditions"
   ]
  },
  {
   "cell_type": "code",
   "execution_count": null,
   "id": "embedded-colleague",
   "metadata": {},
   "outputs": [],
   "source": [
    "from trustutils import run \n",
    "run.dumpText(\"./Champ_front_xyz_debit_3/BC.txt\") "
   ]
  },
  {
   "cell_type": "markdown",
   "id": "incoming-people",
   "metadata": {},
   "source": [
    "### Mesh"
   ]
  },
  {
   "cell_type": "code",
   "execution_count": null,
   "id": "authentic-breakfast",
   "metadata": {},
   "outputs": [],
   "source": [
    "from trustutils import visit\n",
    "a=visit.Show(\"./Champ_front_xyz_debit_3/Champ_front_xyz_debit_3.lata\", \"Mesh\", \"dom\")\n",
    "a.normal3D([0.3759122273803819,0.1964758316262978,0.9055866854656571])\n",
    "a.up3D([-0.07150280348325952,0.9805002704125454,-0.1830479959326514])\n",
    "a.plot()"
   ]
  },
  {
   "cell_type": "markdown",
   "id": "native-stranger",
   "metadata": {},
   "source": [
    "### Vitesse X SOM"
   ]
  },
  {
   "cell_type": "code",
   "execution_count": null,
   "id": "material-watershed",
   "metadata": {},
   "outputs": [],
   "source": [
    "from trustutils import visit\n",
    "a = visit.Show(\"./Champ_front_xyz_debit_3/Champ_front_xyz_debit_3.lata\", \"Pseudocolor\", \"VITESSE_X_SOM_dom\", plotmesh=False)\n",
    "a.normal3D([0.815,0.284,0.504]) \n",
    "a.plot()"
   ]
  },
  {
   "cell_type": "markdown",
   "id": "regular-australian",
   "metadata": {},
   "source": [
    "### Vitesse Y SOM"
   ]
  },
  {
   "cell_type": "code",
   "execution_count": null,
   "id": "turned-skating",
   "metadata": {},
   "outputs": [],
   "source": [
    "from trustutils import visit\n",
    "a = visit.Show(\"./Champ_front_xyz_debit_3/Champ_front_xyz_debit_3.lata\", \"Pseudocolor\", \"VITESSE_Y_SOM_dom\", plotmesh=False)\n",
    "a.normal3D([0.815,0.284,0.504]) \n",
    "a.plot()"
   ]
  },
  {
   "cell_type": "markdown",
   "id": "increased-productivity",
   "metadata": {},
   "source": [
    "### Vitesse Z SOM"
   ]
  },
  {
   "cell_type": "code",
   "execution_count": null,
   "id": "alternate-bench",
   "metadata": {
    "tags": []
   },
   "outputs": [],
   "source": [
    "from trustutils import visit\n",
    "a = visit.Show(\"./Champ_front_xyz_debit_3/Champ_front_xyz_debit_3.lata\", \"Pseudocolor\", \"VITESSE_Z_SOM_dom\", plotmesh=False)\n",
    "a.normal3D([0.815,0.284,0.504])\n",
    "a.plot()"
   ]
  },
  {
   "cell_type": "markdown",
   "id": "cardiac-student",
   "metadata": {},
   "source": [
    "### Checking flow rate value at the end of the simulation "
   ]
  },
  {
   "cell_type": "markdown",
   "id": "organic-overall",
   "metadata": {},
   "source": [
    "## Flow rate value"
   ]
  },
  {
   "cell_type": "code",
   "execution_count": null,
   "id": "47888e74",
   "metadata": {},
   "outputs": [],
   "source": [
    "from trustutils import plot\n",
    "\n",
    "columns=[\"User's value\",\"TRUST probe\",\"*Debit.out\"]\n",
    "\n",
    "a = plot.Table(columns)\n",
    "for i in range(5):\n",
    "    a.load(\"Champ_front_xyz_debit_%d/propertiesGeometry.dat\" % i,\"Cas%d\" % i)\n",
    "\n",
    "display(a)\n"
   ]
  },
  {
   "cell_type": "code",
   "execution_count": null,
   "id": "418bedbe",
   "metadata": {},
   "outputs": [],
   "source": []
  }
 ],
 "metadata": {},
 "nbformat": 4,
 "nbformat_minor": 5
}
