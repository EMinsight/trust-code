{
 "cells": [
  {
   "cell_type": "markdown",
   "id": "gross-patent",
   "metadata": {},
   "source": [
    "# Multiphase VDF / PolyMAC_P0\n",
    "Cas simplifié avec conv et diff qdm negligeable, 1 seule phase, fluiude réel(T, P)"
   ]
  },
  {
   "cell_type": "code",
   "execution_count": null,
   "id": "50d4a841",
   "metadata": {},
   "outputs": [],
   "source": [
    "from trustutils.jupyter import run\n",
    "\n",
    "run.introduction(\"Yannick Gorsse\")\n",
    "run.description(\"Comparaison a une solution analytique, voir STMF/LMEC/NT/15-044, paragraphe 6.2\")\n",
    "run.TRUST_parameters()"
   ]
  },
  {
   "cell_type": "code",
   "execution_count": null,
   "id": "15189bb2-352d-48f9-85fa-64c4323e0f88",
   "metadata": {},
   "outputs": [],
   "source": [
    "from trustutils.jupyter import run\n",
    "\n",
    "dis_dic = {\"VDF\" : \"VDF dis Option_VDF { p_imposee_aux_faces oui }\", \"PolyMAC_P0\" : \"PolyMAC_P0 dis\"}\n",
    "\n",
    "for dis, dis_str in dis_dic.items():\n",
    "    for reduc_p in [0, 1]:\n",
    "        d = {\"dis\" : dis_str, \"reduc_p\" : reduc_p}\n",
    "        run.addCaseFromTemplate(\"jdd.data\", f\"{dis}/reduc_p_{reduc_p}\", d)\n",
    "\n",
    "run.printCases()\n",
    "run.runCases()\n",
    "run.tablePerf()"
   ]
  },
  {
   "cell_type": "markdown",
   "id": "1e4513bc",
   "metadata": {},
   "source": [
    "## Résidus"
   ]
  },
  {
   "cell_type": "code",
   "execution_count": null,
   "id": "1a0370fa",
   "metadata": {},
   "outputs": [],
   "source": [
    "from trustutils import plot\n",
    "\n",
    "mark = {\"VDF\" : \"-\", \"PolyMAC_P0\" : \"x\"}\n",
    "\n",
    "Graph=plot.Graph(\"Residuals\", size=[15, 8])\n",
    "for dis in dis_dic:\n",
    "    for reduc_p in [0, 1]:\n",
    "        Graph.addResidu(f\"{dis}/reduc_p_{reduc_p}/jdd.dt_ev\", label=f\"{dis}, reduction p {reduc_p}\", marker=mark[dis])\n",
    "\n",
    "Graph.scale(yscale=\"log\")\n"
   ]
  },
  {
   "cell_type": "markdown",
   "id": "2b813f3c-e933-430b-baf7-769736e8fffd",
   "metadata": {},
   "source": [
    "## Comparaison a la solution analytique"
   ]
  },
  {
   "cell_type": "code",
   "execution_count": null,
   "id": "025147b0",
   "metadata": {},
   "outputs": [],
   "source": [
    "from trustutils import plot\n",
    "\n",
    "a = plot.Graph(\"\", nY=2)\n",
    "for dis in dis_dic:\n",
    "    for reduc_p in [0, 1]:\n",
    "        a.addPlot(0)\n",
    "        a.addSegment(f\"{dis}/reduc_p_{reduc_p}/jdd_V.son\", compo=1, label=f\"{dis}, reduction p {reduc_p}\", marker=mark[dis])\n",
    "        a.addPlot(1)\n",
    "        a.addSegment(f\"{dis}/reduc_p_{reduc_p}/jdd_T.son\",label=f\"{dis}, reduction p {reduc_p}\", marker=mark[dis])\n"
   ]
  }
 ],
 "metadata": {
  "kernelspec": {
   "display_name": "Python 3.7.9 ('base')",
   "language": "python",
   "name": "python3"
  },
  "language_info": {
   "codemirror_mode": {
    "name": "ipython",
    "version": 3
   },
   "file_extension": ".py",
   "mimetype": "text/x-python",
   "name": "python",
   "nbconvert_exporter": "python",
   "pygments_lexer": "ipython3",
   "version": "3.7.9"
  },
  "vscode": {
   "interpreter": {
    "hash": "b782577cff7740386d5a4408bd06491b01e7449d0be1e4e757afd3bc68462014"
   }
  }
 },
 "nbformat": 4,
 "nbformat_minor": 5
}
