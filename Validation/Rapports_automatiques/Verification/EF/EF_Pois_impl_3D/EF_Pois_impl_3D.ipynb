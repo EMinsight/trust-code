{
 "cells": [
  {
   "cell_type": "markdown",
   "id": "inappropriate-lingerie",
   "metadata": {},
   "source": [
    "# Poiseuille en EF"
   ]
  },
  {
   "cell_type": "code",
   "execution_count": null,
   "id": "c8995ccb",
   "metadata": {},
   "outputs": [],
   "source": [
    "from trustutils import run \n",
    "\n",
    "run.introduction('D. Jamet')\n",
    "run.description(\"Calculs menés en EF, delta p imposé\")\n",
    "run.TRUST_parameters()"
   ]
  },
  {
   "cell_type": "code",
   "execution_count": null,
   "id": "6729c231-27f7-4fc9-9b61-4dc58e90721b",
   "metadata": {},
   "outputs": [],
   "source": [
    "run.addCase(\".\",\"Pois_impl_3D.data\")\n",
    "run.printCases()\n",
    "run.runCases()"
   ]
  },
  {
   "cell_type": "markdown",
   "id": "growing-hundred",
   "metadata": {},
   "source": [
    "## Resultats\n",
    " \n",
    "### vitesse_x "
   ]
  },
  {
   "cell_type": "code",
   "execution_count": null,
   "id": "3d153261-0a30-493d-a78d-fc5a9ed9d392",
   "metadata": {},
   "outputs": [],
   "source": [
    "from trustutils import visit\n",
    "\n",
    "Graphique=visit.showField(\"./Pois_impl_3D.lata\",\"Pseudocolor\",\"VITESSE_X_SOM_dom\") "
   ]
  },
  {
   "cell_type": "markdown",
   "id": "01d7e2c3-cb14-4ab2-b69e-8e9a3e6a8f58",
   "metadata": {},
   "source": [
    "### Différence entre champ de pression calculé et champ de pression analytique\n",
    "\n",
    "Ce champ doit être nul."
   ]
  },
  {
   "cell_type": "code",
   "execution_count": null,
   "id": "b277b996-407a-4263-9817-4c8fd5bdd5f3",
   "metadata": {},
   "outputs": [],
   "source": [
    "from trustutils import visit\n",
    "\n",
    "Graphique=visit.Show(\"./Pois_impl_3D.lata\",\"Mesh\",\"dom\") \n",
    "Graphique.visitCommand(\"DefineVectorExpression(\\\"erreur_SOM_dom\\\",\\\"VITESSE_SOM_dom-{(coord(dom)[1])*(0.22-coord(dom)[1]),0,0}\\\")\")\n",
    "Graphique.visitCommand(\"DefineScalarExpression(\\\"sol_p_ELEM_dom\\\",\\\"PRESSION_PA_ELEM_dom*0-(coord(dom)[0]-0.1)*6\\\")\")\n",
    "Graphique.visitCommand(\"DefineScalarExpression(\\\"erreur_p_ELEM_dom\\\",\\\"PRESSION_PA_ELEM_dom-sol_p_ELEM_dom\\\")\")\n",
    "Graphique.addField(\"./Pois_impl_3D.lata\",\"Vector\",\"erreur_SOM_dom\")\n",
    "Graphique.addField(\"./Pois_impl_3D.lata\",\"Pseudocolor\",\"erreur_p_ELEM_dom\")\n",
    "Graphique.plot()"
   ]
  },
  {
   "cell_type": "markdown",
   "id": "da1e2235-770b-4f30-a430-eda253dc0531",
   "metadata": {},
   "source": [
    "## Data Files\n",
    "\n",
    "### Pois_impl_3D"
   ]
  },
  {
   "cell_type": "code",
   "execution_count": null,
   "id": "15fd47b5-5015-41c4-b5b5-1a2ec787d071",
   "metadata": {},
   "outputs": [],
   "source": [
    "run.dumpDataset(\"./Pois_impl_3D.data\")"
   ]
  }
 ],
 "metadata": {
  "kernelspec": {
   "display_name": "Python 3 (ipykernel)",
   "language": "python",
   "name": "python3"
  },
  "language_info": {
   "codemirror_mode": {
    "name": "ipython",
    "version": 3
   },
   "file_extension": ".py",
   "mimetype": "text/x-python",
   "name": "python",
   "nbconvert_exporter": "python",
   "pygments_lexer": "ipython3",
   "version": "3.7.9"
  }
 },
 "nbformat": 4,
 "nbformat_minor": 5
}
