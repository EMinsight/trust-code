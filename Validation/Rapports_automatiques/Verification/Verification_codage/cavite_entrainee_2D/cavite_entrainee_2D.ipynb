{
 "cells": [
  {
   "cell_type": "markdown",
   "id": "boolean-earth",
   "metadata": {},
   "source": [
    "# Cavite entrainee - Re = 400"
   ]
  },
  {
   "cell_type": "code",
   "execution_count": null,
   "id": "c50babfc",
   "metadata": {},
   "outputs": [],
   "source": [
    "from trustutils import run\n",
    "\n",
    "run.introduction(\"Yannick Gorsse\")\n",
    "run.description(\"\")\n",
    "run.TRUST_parameters()"
   ]
  },
  {
   "cell_type": "code",
   "execution_count": null,
   "id": "balanced-boating",
   "metadata": {
    "scrolled": false
   },
   "outputs": [],
   "source": [
    "from trustutils import run\n",
    "import os, sys\n",
    "\n",
    "# Load MEDCoupling environment\n",
    "run.useMEDCoupling()\n",
    "\n",
    "# Trigger the copy of the src directory into the build directory:\n",
    "run.defaultSuite_ = run.TRUSTSuite(runPrepare=False)\n",
    "\n",
    "# Path of weird mesh Python module\n",
    "sys.path.append(os.environ[\"TRUST_ROOT\"] + \"/Validation/Rapports_automatiques/Verification/PolyMAC/share/maquette_decapoly/src/\")\n",
    "\n",
    "# Invoke prepare_python.py (which structures the directories), and copy post_run script\n",
    "origin, build_dir = os.getcwd(), run.defaultSuite_.getBuildDirectory()\n",
    "os.chdir(build_dir)\n",
    "exec(open( \"prepare_python.py\").read())  #  the various run.addCase() are called there\n",
    "os.chdir(origin)\n",
    "\n",
    "for i in [\"NCa\", \"NCr\", \"cartesian\", \"triangle\"]:\n",
    "    for j in [\"CoviMAC\", \"PolyMAC\"]:\n",
    "        run.addCase(f\"{i}/{j}\",\"jdd.data\")\n",
    "\n",
    "run.addCase(\"cartesian/VDF\",\"jdd.data\")\n",
    "run.addCase(\"triangle/VEFPreP1B\",\"jdd.data\")\n",
    "    \n",
    "run.printCases()\n",
    "run.runCases()\n"
   ]
  },
  {
   "cell_type": "markdown",
   "id": "8977eb20",
   "metadata": {},
   "source": [
    "**Reference : The lid-driven square cavity flow: numerical solution with a 1024 x 1024 grid, Marchi et al., Journal of the Brazilian Society of Mechanical Sciences and Engineering, 2009**"
   ]
  },
  {
   "cell_type": "markdown",
   "id": "9a7e2ff9",
   "metadata": {},
   "source": [
    "## Comparisons"
   ]
  },
  {
   "cell_type": "markdown",
   "id": "58af2bd8",
   "metadata": {},
   "source": [
    "### Comparison - vx"
   ]
  },
  {
   "cell_type": "code",
   "execution_count": null,
   "id": "alert-shock",
   "metadata": {},
   "outputs": [],
   "source": [
    "from trustutils import plot\n",
    "\n",
    "a=plot.Graph(\"Comparaison vx\")\n",
    "\n",
    "data=plot.loadText(\"./ref_vx.txt\")\n",
    "a.add(data[0],data[1],marker=\"*\",label=\"vx, reference\")\n",
    "\n",
    "for i in [\"NCa\", \"NCr\", \"cartesian\", \"triangle\"]:\n",
    "    for j in [\"CoviMAC\", \"PolyMAC\"]:\n",
    "        a.addSegment(f\"{i}/{j}/jdd_VX.son\",label=f\"{i}/{j}\",compo=0)\n",
    "\n",
    "a.addSegment(\"cartesian/VDF/jdd_VX.son\",label=\"cartesian/VDF\",compo=0)\n",
    "a.addSegment(\"triangle/VEFPreP1B/jdd_VX.son\",label=\"triangle/VEFPreP1B\",compo=0)\n",
    "a.label(\"Position\", \"Vx\")\n"
   ]
  },
  {
   "cell_type": "markdown",
   "id": "79159216",
   "metadata": {},
   "source": [
    "### Comparison - vy"
   ]
  },
  {
   "cell_type": "code",
   "execution_count": null,
   "id": "594b533f",
   "metadata": {},
   "outputs": [],
   "source": [
    "from trustutils import plot\n",
    "\n",
    "a=plot.Graph(\"Comparaison vy\")\n",
    "\n",
    "data=plot.loadText(\"./ref_vy.txt\")\n",
    "a.add(data[0],data[1],marker=\"*\",label=\"vy, reference\")\n",
    "\n",
    "for i in [\"NCa\", \"NCr\", \"cartesian\", \"triangle\"]:\n",
    "    for j in [\"CoviMAC\", \"PolyMAC\"]:\n",
    "        a.addSegment(f\"{i}/{j}/jdd_VY.son\",label=f\"{i}/{j}\",compo=1)\n",
    "\n",
    "a.addSegment(\"cartesian/VDF/jdd_VY.son\",label=\"cartesian/VDF\",compo=1)\n",
    "a.addSegment(\"triangle/VEFPreP1B/jdd_VY.son\",label=\"triangle/VEFPreP1B\",compo=1)\n",
    "a.label(\"Position\", \"Vy\")"
   ]
  }
 ],
 "metadata": {
  "kernelspec": {
   "display_name": "Python 3 (ipykernel)",
   "language": "python",
   "name": "python3"
  },
  "language_info": {
   "codemirror_mode": {
    "name": "ipython",
    "version": 3
   },
   "file_extension": ".py",
   "mimetype": "text/x-python",
   "name": "python",
   "nbconvert_exporter": "python",
   "pygments_lexer": "ipython3",
   "version": "3.7.9"
  },
  "toc-autonumbering": true
 },
 "nbformat": 4,
 "nbformat_minor": 5
}
