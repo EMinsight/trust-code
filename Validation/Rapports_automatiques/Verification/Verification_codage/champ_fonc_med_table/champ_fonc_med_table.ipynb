{
 "cells": [
  {
   "cell_type": "markdown",
   "id": "gross-patent",
   "metadata": {},
   "source": [
    "# Champ_Fonc_MED_Table"
   ]
  },
  {
   "cell_type": "code",
   "execution_count": null,
   "id": "50d4a841",
   "metadata": {},
   "outputs": [],
   "source": [
    "from trustutils import run\n",
    "import sys, os\n",
    "run.introduction(\"Yannick Gorsse\")\n",
    "run.TRUST_parameters()"
   ]
  },
  {
   "cell_type": "code",
   "execution_count": null,
   "id": "71cf6da7",
   "metadata": {},
   "outputs": [],
   "source": [
    "run.useMEDCoupling()\n",
    "import medcoupling as mc\n",
    "sys.path.append(os.environ[\"TRUST_ROOT\"] + \"/Validation/Rapports_automatiques/Verification/PolyMAC/share/maquette_decapoly/src\")\n",
    "from weird_mesh import getWeirdMesh\n",
    "\n",
    "def build_power_field(n, folder):\n",
    "    mm = getWeirdMesh(0, 1, 0, 1, list(range(n + 1)), list(range(n + 1)), \"o\", unpo=True)\n",
    "    mm.write(f\"{folder}/mesh.med\", 2)\n",
    "    m = mm.getMeshAtLevel(0)\n",
    "    bc = m.computeIsoBarycenterOfNodesPerCell()\n",
    "    p = m.getMeasureField(True)\n",
    "    p_a = p.getArray()\n",
    "    p_a.applyLin(0, 0)\n",
    "    for i, b in enumerate(bc):\n",
    "        if b[0] > 0.5: p_a[i] = 1e8\n",
    "    p.setArray(p_a)\n",
    "    p.setName(\"power\")\n",
    "    mc.WriteField(f\"{folder}/power.med\", p, True)\n"
   ]
  },
  {
   "cell_type": "code",
   "execution_count": null,
   "id": "15189bb2-352d-48f9-85fa-64c4323e0f88",
   "metadata": {
    "scrolled": true
   },
   "outputs": [],
   "source": [
    "from trustutils.jupyter import run\n",
    "\n",
    "med_syntax = \"use_existing_domain file ../power.med domain mesh field power loc elem time 0\"\n",
    "ch_ch = {\"champ_fonc_txyz\" : (\"champ_fonc_txyz mesh 1 1e8*(x>0.5)*(t+1)\", \"+\"),\n",
    "              \"champ_fonc_med_table\" : (f\"champ_fonc_med_table_temps {{ table_temps {{ 2 0 10 1 11 }} {med_syntax} }}\", \"x\"),\n",
    "              \"champ_fonc_med_table_lue\" : (f\"champ_fonc_med_table_temps {{ table_temps_lue ../power_evolution.txt {med_syntax} }}\", \"-\")\n",
    "              }\n",
    "\n",
    "run.reset()\n",
    "for ch, (chtrust, _) in ch_ch.items():\n",
    "    run.addCaseFromTemplate(f\"jdd.data\", ch, {\"power\" : chtrust})\n",
    "\n",
    "with open(f\"{run.BUILD_DIRECTORY}/power_evolution.txt\", \"w\") as f:\n",
    "    f.write(\"0 1\\n10 11\")\n",
    "\n",
    "n = 30\n",
    "\n",
    "build_power_field(n, run.BUILD_DIRECTORY)\n",
    "\n",
    "run.printCases()\n",
    "run.runCases()\n",
    "run.tablePerf()"
   ]
  },
  {
   "cell_type": "code",
   "execution_count": null,
   "id": "a4e5dc4c",
   "metadata": {
    "scrolled": false
   },
   "outputs": [],
   "source": [
    "from trustutils import plot\n",
    "import numpy as np\n",
    "\n",
    "a = plot.Graph(\"Time steps\")\n",
    "\n",
    "for ch, (chtrust, m) in ch_ch.items():\n",
    "    s = \"\"\n",
    "    if ch.startswith(\"champ_fonc_med_table\"): s = \"_power\"\n",
    "    out = plot.loadText(f\"{run.BUILD_DIRECTORY}/{ch}/jdd_pbt_Puissance_Thermique{s}.out\",transpose=False)\n",
    "    a.add(out[:, 0], out[:, 1], label=f\"{ch}\", marker=m, markersize=12)"
   ]
  }
 ],
 "metadata": {
  "kernelspec": {
   "display_name": "Python 3 (ipykernel)",
   "language": "python",
   "name": "python3"
  },
  "language_info": {
   "codemirror_mode": {
    "name": "ipython",
    "version": 3
   },
   "file_extension": ".py",
   "mimetype": "text/x-python",
   "name": "python",
   "nbconvert_exporter": "python",
   "pygments_lexer": "ipython3",
   "version": "3.7.16"
  },
  "vscode": {
   "interpreter": {
    "hash": "b782577cff7740386d5a4408bd06491b01e7449d0be1e4e757afd3bc68462014"
   }
  }
 },
 "nbformat": 4,
 "nbformat_minor": 5
}
