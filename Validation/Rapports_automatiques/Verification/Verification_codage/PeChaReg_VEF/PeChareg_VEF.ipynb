{
 "cells": [
  {
   "cell_type": "markdown",
   "id": "virtual-vacuum",
   "metadata": {},
   "source": [
    "# Verification des pertes de charge regulieres  en VEF"
   ]
  },
  {
   "cell_type": "code",
   "execution_count": null,
   "id": "7a5394e5",
   "metadata": {},
   "outputs": [],
   "source": [
    "from trustutils import run\n",
    "\n",
    "run.introduction(\"P.Q. + G.F.\")\n",
    "\n",
    "run.TRUST_parameters(\"\")"
   ]
  },
  {
   "cell_type": "markdown",
   "id": "b4dc0967",
   "metadata": {},
   "source": [
    "### Description: \n",
    "\n",
    "Calculs menes en VEF"
   ]
  },
  {
   "cell_type": "code",
   "execution_count": null,
   "id": "imported-albania",
   "metadata": {
    "tags": []
   },
   "outputs": [],
   "source": [
    "for cas in [\"2D_perio\", \"2D_sym\", \"3D_perio\", \"3D_sym\", \"3D_sym_inout\"]:\n",
    "    run.addCase(f\"{cas}\"    ,\"test.data\")\n",
    " \n",
    "run.addCase(\"3D_sym_inout\",\"test_poreux.data\")  \n",
    "run.addCase(\"3D_sym_inout\",\"test_rotation.data\") \n",
    "run.printCases()\n",
    "run.runCases()"
   ]
  },
  {
   "cell_type": "markdown",
   "id": "01182db4",
   "metadata": {},
   "source": [
    "### Evolution de la vitesse \n",
    "\n",
    "$Dp/Dy = 0.5 \\rho \\lambda(Re) U2/Dh$ \\\n",
    "$Dp/Dy = 1$ \\\n",
    "$\\rho = 5$ (solution independante de rho) \\\n",
    "$\\mu = 4$ \\\n",
    "$Dh = 2$ \\\n",
    "Vitesse ciblee : $U = 2 Dh2/\\mu = 2$\n",
    "\n",
    "### Evolution temporelle de la vitesse"
   ]
  },
  {
   "cell_type": "code",
   "execution_count": null,
   "id": "provincial-affiliate",
   "metadata": {},
   "outputs": [],
   "source": [
    "from trustutils import plot\n",
    "import numpy as np\n",
    "\n",
    "g=plot.Graph(\"Evolution temporelle de la vitesse\") \n",
    "\n",
    "g.addPoint('./2D_perio/test_VIT.son'   ,marker=\"-|\",color='r'     ,compo=0 ,label=\"2D perio\")\n",
    "g.addPoint('./2D_sym/test_VIT.son',marker=\"-x\",color='g'     ,compo=0 ,label=\"2D sym\")\n",
    "g.addPoint('./3D_perio/test_VIT.son'   ,marker=\"-x\",color='b'     ,compo=2,label=\"3D perio\")\n",
    "g.addPoint('./3D_sym/test_VIT.son',marker=\"-x\",color='purple',compo=2,label=\"3D sym\") \n",
    "g.add(np.linspace(0,100,100),2*np.ones(100), 'cyan',label=\"analytique\")\n",
    "#g.label(['Temps (s)'],['Vitesse (m/s)'])\n",
    "g.visu(0,120,1.95,2.01)"
   ]
  },
  {
   "cell_type": "markdown",
   "id": "spectacular-motion",
   "metadata": {},
   "source": [
    "## Verification invariance rotation et effet porosite\n",
    "$Dp/Dy = 0.5 \\rho \\lambda(Re) U2/Dh$ \\\n",
    "$\\lambda(Re)=Re^{-3}$ \\\n",
    "$\\rho = 5$ (solution independante de rho) \\\n",
    "$\\mu = 4$ \\\n",
    "$Dh = 2$ \\\n",
    "$U = 2$ \\\n",
    "P vise en entree : $P = 1/2 \\rho/Re^3 U^2/D=1/25=4.10^{-2}$\n",
    "### Valeur de la pression en entree"
   ]
  },
  {
   "cell_type": "code",
   "execution_count": null,
   "id": "undefined-founder",
   "metadata": {},
   "outputs": [],
   "source": [
    "from trustutils import plot\n",
    "\n",
    "columns=[\"pression\"]\n",
    "t=plot.Table(columns)  \n",
    "t.addLine([[0.04]],\"theorie\") \n",
    "t.loadPoint(\"3D_sym_inout/test_P.son\",\"standard\")\n",
    "t.loadPoint(\"3D_sym_inout/test_poreux_P.son\",\"poreux\")\n",
    "t.loadPoint(\"3D_sym_inout/test_rotation_P.son\",\"rotation\")\n",
    "\n",
    "display(t)"
   ]
  },
  {
   "cell_type": "markdown",
   "id": "generic-adrian",
   "metadata": {},
   "source": [
    "## test.data  "
   ]
  },
  {
   "cell_type": "code",
   "execution_count": null,
   "id": "current-mississippi",
   "metadata": {
    "tags": []
   },
   "outputs": [],
   "source": [
    "run.dumpDataset(\"2D_perio/test.data\")   "
   ]
  },
  {
   "cell_type": "markdown",
   "id": "disabled-proxy",
   "metadata": {
    "tags": []
   },
   "source": [
    "## test.data  "
   ]
  },
  {
   "cell_type": "code",
   "execution_count": null,
   "id": "bibliographic-librarian",
   "metadata": {
    "tags": []
   },
   "outputs": [],
   "source": [
    "run.dumpDataset(\"2D_sym/test.data\")   "
   ]
  },
  {
   "cell_type": "markdown",
   "id": "linear-lesson",
   "metadata": {
    "tags": []
   },
   "source": [
    "## test.data  "
   ]
  },
  {
   "cell_type": "code",
   "execution_count": null,
   "id": "different-kingdom",
   "metadata": {
    "tags": []
   },
   "outputs": [],
   "source": [
    "run.dumpDataset(\"3D_perio/test.data\")   "
   ]
  },
  {
   "cell_type": "markdown",
   "id": "breathing-kingston",
   "metadata": {
    "tags": []
   },
   "source": [
    "## test.data  "
   ]
  },
  {
   "cell_type": "code",
   "execution_count": null,
   "id": "preceding-separation",
   "metadata": {
    "tags": []
   },
   "outputs": [],
   "source": [
    "run.dumpDataset(\"3D_sym/test.data\")   "
   ]
  },
  {
   "cell_type": "markdown",
   "id": "copyrighted-python",
   "metadata": {
    "tags": []
   },
   "source": [
    "## test.data "
   ]
  },
  {
   "cell_type": "code",
   "execution_count": null,
   "id": "shared-nursery",
   "metadata": {
    "tags": []
   },
   "outputs": [],
   "source": [
    "run.dumpDataset(\"3D_sym_inout/test.data\")   "
   ]
  },
  {
   "cell_type": "markdown",
   "id": "sticky-scroll",
   "metadata": {
    "tags": []
   },
   "source": [
    "## test_poreux.data "
   ]
  },
  {
   "cell_type": "code",
   "execution_count": null,
   "id": "corrected-foundation",
   "metadata": {
    "tags": []
   },
   "outputs": [],
   "source": [
    "run.dumpDataset(\"3D_sym_inout/test_poreux.data\")   "
   ]
  },
  {
   "cell_type": "markdown",
   "id": "social-gateway",
   "metadata": {
    "tags": []
   },
   "source": [
    "## test_rotation.data "
   ]
  },
  {
   "cell_type": "code",
   "execution_count": null,
   "id": "geographic-pendant",
   "metadata": {
    "tags": []
   },
   "outputs": [],
   "source": [
    "run.dumpDataset(\"3D_sym_inout/test_rotation.data\")   "
   ]
  }
 ],
 "metadata": {},
 "nbformat": 4,
 "nbformat_minor": 5
}
