{
 "cells": [
  {
   "attachments": {},
   "cell_type": "markdown",
   "id": "gross-patent",
   "metadata": {},
   "source": [
    "# Twho phase conduction"
   ]
  },
  {
   "cell_type": "code",
   "execution_count": null,
   "id": "a910a35c",
   "metadata": {},
   "outputs": [],
   "source": [
    "from trustutils.jupyter import run\n",
    "\n",
    "run.introduction(\"Yannick Gorsse\")\n",
    "\n",
    "run.TRUST_parameters()"
   ]
  },
  {
   "cell_type": "markdown",
   "id": "da2ce28a",
   "metadata": {},
   "source": [
    "### Description: \n",
    "\n",
    "Driven cavity with cosine thermal power and thermal exchange with uniform external temperature"
   ]
  },
  {
   "cell_type": "code",
   "execution_count": null,
   "id": "15189bb2-352d-48f9-85fa-64c4323e0f88",
   "metadata": {},
   "outputs": [],
   "source": [
    "from trustutils.jupyter import run\n",
    "\n",
    "run.reset()\n",
    "liste_dis = [\"VDF\", \"PolyMAC_P0\"]\n",
    "for dis in liste_dis:\n",
    "    run.addCaseFromTemplate(f\"jdd.data\", dis, {\"dis\" : dis})\n",
    "\n",
    "run.printCases()\n",
    "run.runCases()\n",
    "run.tablePerf()"
   ]
  },
  {
   "cell_type": "code",
   "execution_count": null,
   "id": "a4e5dc4c",
   "metadata": {},
   "outputs": [],
   "source": [
    "from trustutils import plot\n",
    "import numpy as np\n",
    "\n",
    "a = plot.Graph(\"Time steps\")\n",
    "for dis in liste_dis:\n",
    "    dt_ev = np.loadtxt(f\"{run.BUILD_DIRECTORY}/{dis}/jdd.dt_ev\")\n",
    "    a.add(dt_ev[:, 0], dt_ev[:, 1], label=dis)"
   ]
  },
  {
   "cell_type": "code",
   "execution_count": null,
   "id": "92a2bdd6",
   "metadata": {},
   "outputs": [],
   "source": [
    "a = plot.Graph(\"\", nY=2)\n",
    "for phase in [0, 1]:\n",
    "    a.addPlot(phase, f\"Phase {phase}\")\n",
    "    for dis in liste_dis:\n",
    "        a.addSegment(f\"{run.BUILD_DIRECTORY}/{dis}/jdd_T.son\", label=dis, compo=phase, marker=\"o\" if dis == \"VDF\" else \"-\")\n"
   ]
  }
 ],
 "metadata": {},
 "nbformat": 4,
 "nbformat_minor": 5
}
