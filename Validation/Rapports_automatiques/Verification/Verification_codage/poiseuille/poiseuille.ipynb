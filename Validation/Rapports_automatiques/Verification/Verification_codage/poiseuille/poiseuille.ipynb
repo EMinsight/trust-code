{
 "cells": [
  {
   "cell_type": "markdown",
   "id": "boolean-earth",
   "metadata": {},
   "source": [
    "# Ecoulement mixte Poiseuille Couette plan."
   ]
  },
  {
   "cell_type": "code",
   "execution_count": null,
   "id": "c50babfc",
   "metadata": {},
   "outputs": [],
   "source": [
    "from trustutils import run\n",
    "\n",
    "run.introduction(\"Yannick Gorsse\")\n",
    "run.description(\"\")\n",
    "run.TRUST_parameters()"
   ]
  },
  {
   "cell_type": "code",
   "execution_count": null,
   "id": "balanced-boating",
   "metadata": {
    "scrolled": false
   },
   "outputs": [],
   "source": [
    "from trustutils import run\n",
    "import os, sys\n",
    "\n",
    "# Load MEDCoupling environment\n",
    "run.useMEDCoupling()\n",
    "\n",
    "# Trigger the copy of the src directory into the build directory:\n",
    "run.defaultSuite_ = run.TRUSTSuite(runPrepare=False)\n",
    "\n",
    "# Path of weird mesh Python module\n",
    "sys.path.append(os.environ[\"TRUST_ROOT\"] + \"/Validation/Rapports_automatiques/Verification/PolyMAC/share/maquette_decapoly/src/\")\n",
    "\n",
    "# Invoke prepare_python.py (which structures the directories), and copy post_run script\n",
    "origin, build_dir = os.getcwd(), run.BUILD_DIRECTORY\n",
    "os.chdir(build_dir)\n",
    "exec(open( \"prepare_python.py\").read())  #  the various run.addCase() are called there\n",
    "!for cas in */*/maillage_* ; do cp post_run ${cas}/. ; done\n",
    "os.chdir(origin)\n",
    "\n",
    "run.printCases()\n",
    "run.runCases()\n",
    "run.executeScript(\"extract_convergence\")"
   ]
  },
  {
   "cell_type": "markdown",
   "id": "9a7e2ff9",
   "metadata": {},
   "source": [
    "## Ordres de convergence"
   ]
  },
  {
   "cell_type": "markdown",
   "id": "58af2bd8",
   "metadata": {},
   "source": [
    "### Ordres de convergence - v"
   ]
  },
  {
   "cell_type": "code",
   "execution_count": null,
   "id": "alert-shock",
   "metadata": {},
   "outputs": [],
   "source": [
    "from trustutils import plot\n",
    "\n",
    "a=plot.Graph(\"Ordres de convergence - v\")\n",
    "\n",
    "x = plot.loadText(\"NCa/PolyMAC_P0/conv_glob_v\")\n",
    "a.add(x[0],x[1],marker='-|',label=\"NCa/PolyMAC_P0\")\n",
    "\n",
    "x = plot.loadText(\"NCa/PolyMAC/conv_glob_v\")\n",
    "a.add(x[0],x[1],marker='-x',label=\"NCa/PolyMAC\")\n",
    "\n",
    "x = plot.loadText(\"NCr/PolyMAC_P0/conv_glob_v\")\n",
    "a.add(x[0],x[1],marker='-*',label=\"NCr/PolyMAC_P0\")\n",
    "\n",
    "x = plot.loadText(\"NCr/PolyMAC/conv_glob_v\")\n",
    "a.add(x[0],x[1],marker='-s',markerfacecolor='None',label=\"NCr/PolyMAC\")\n",
    "\n",
    "x = plot.loadText(\"cartesian/PolyMAC_P0/conv_glob_v\")\n",
    "a.add(x[0],x[1],marker='-s',label=\"cartesian/PolyMAC_P0\")\n",
    "\n",
    "x = plot.loadText(\"cartesian/PolyMAC/conv_glob_v\")\n",
    "a.add(x[0],x[1],marker='-D',markerfacecolor='None',label=\"cartesian/PolyMAC\")\n",
    "\n",
    "x = plot.loadText(\"cartesian/VDF/conv_glob_v\")\n",
    "a.add(x[0],x[1],marker='-D',label=\"cartesian/VDF\")\n",
    "\n",
    "x = plot.loadText(\"triangle/PolyMAC_P0/conv_glob_v\")\n",
    "a.add(x[0],x[1],marker='-v',markerfacecolor='None',label=\"triangle/PolyMAC_P0\")\n",
    "\n",
    "x = plot.loadText(\"triangle/PolyMAC/conv_glob_v\")\n",
    "a.add(x[0],x[1],marker='-v',label=\"triangle/PolyMAC\")\n",
    "\n",
    "x = plot.loadText(\"triangle/VEFPreP1B/conv_glob_v\")\n",
    "a.add(x[0],x[1],marker='-^',label=\"triangle/VEFPreP1B\")\n",
    "\n",
    "a.label(r\"$Ne^{-1/2}$\",\"erreur L2\")\n",
    "a.scale(xscale='log',yscale='log')\n"
   ]
  },
  {
   "cell_type": "markdown",
   "id": "79159216",
   "metadata": {},
   "source": [
    "### Ordres de convergence - p"
   ]
  },
  {
   "cell_type": "code",
   "execution_count": null,
   "id": "594b533f",
   "metadata": {},
   "outputs": [],
   "source": [
    "a=plot.Graph(\"Ordres de convergence - p\")\n",
    "\n",
    "x = plot.loadText(\"NCa/PolyMAC_P0/conv_glob_p\")\n",
    "a.add(x[0],x[1],marker='-|',label=\"NCa/PolyMAC_P0\")\n",
    "\n",
    "x = plot.loadText(\"NCa/PolyMAC/conv_glob_p\")\n",
    "a.add(x[0],x[1],marker='-x',label=\"NCa/PolyMAC\")\n",
    "\n",
    "x = plot.loadText(\"NCr/PolyMAC_P0/conv_glob_p\")\n",
    "a.add(x[0],x[1],marker='-*',label=\"NCr/PolyMAC_P0\")\n",
    "\n",
    "x = plot.loadText(\"NCr/PolyMAC/conv_glob_p\")\n",
    "a.add(x[0],x[1],marker='-s',markerfacecolor='None',label=\"NCr/PolyMAC\")\n",
    "\n",
    "x = plot.loadText(\"cartesian/PolyMAC_P0/conv_glob_p\")\n",
    "a.add(x[0],x[1],marker='-s',label=\"cartesian/PolyMAC_P0\")\n",
    "\n",
    "x = plot.loadText(\"cartesian/PolyMAC/conv_glob_p\")\n",
    "a.add(x[0],x[1],marker='-D',markerfacecolor='None',label=\"cartesian/PolyMAC\")\n",
    "\n",
    "x = plot.loadText(\"cartesian/VDF/conv_glob_p\")\n",
    "a.add(x[0],x[1],marker='-D',label=\"cartesian/VDF\")\n",
    "\n",
    "x = plot.loadText(\"triangle/PolyMAC_P0/conv_glob_p\")\n",
    "a.add(x[0],x[1],marker='-v',markerfacecolor='None',label=\"triangle/PolyMAC_P0\")\n",
    "\n",
    "x = plot.loadText(\"triangle/PolyMAC/conv_glob_p\")\n",
    "a.add(x[0],x[1],marker='-v',label=\"triangle/PolyMAC\")\n",
    "\n",
    "x = plot.loadText(\"triangle/VEFPreP1B/conv_glob_p\")\n",
    "a.add(x[0],x[1],marker='-^',label=\"triangle/VEFPreP1B\")\n",
    "\n",
    "a.label(r\"$Ne^{-1/2}$\",\"erreur L2\")\n",
    "a.scale(xscale='log',yscale='log')"
   ]
  }
 ],
 "metadata": {
  "kernelspec": {
   "display_name": "Python 3 (ipykernel)",
   "language": "python",
   "name": "python3"
  },
  "language_info": {
   "codemirror_mode": {
    "name": "ipython",
    "version": 3
   },
   "file_extension": ".py",
   "mimetype": "text/x-python",
   "name": "python",
   "nbconvert_exporter": "python",
   "pygments_lexer": "ipython3",
   "version": "3.7.9"
  },
  "toc-autonumbering": true
 },
 "nbformat": 4,
 "nbformat_minor": 5
}
