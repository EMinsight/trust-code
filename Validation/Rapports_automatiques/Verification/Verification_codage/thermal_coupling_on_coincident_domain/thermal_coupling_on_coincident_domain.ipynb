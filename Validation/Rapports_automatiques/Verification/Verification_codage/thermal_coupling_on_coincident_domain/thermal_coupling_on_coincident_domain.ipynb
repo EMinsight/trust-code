{
 "cells": [
  {
   "attachments": {},
   "cell_type": "markdown",
   "id": "gross-patent",
   "metadata": {},
   "source": [
    "# Thermal coupling on coincident domains\n",
    "\n",
    "Heat exchange between two domains initially at different temperatures with :\n",
    "- same domain `dom` used for both problems, with `PolyMAC_P0P1NC` discretization for both problems (no interpolator)\n",
    "- different domains `dom1` and `dom2` used for each problem, with `PolyMAC_P0P1NC` discretization for both problems\n",
    "    - using `metis` independently on each domain, and using `OverlapDEC`\n",
    "    - using the `med` partitionner (coincident partition for both domains)\n",
    "        - with `OverlapDEC`\n",
    "        - with local `remapper`\n",
    "- different domains `dom1` and `dom2` used for each problem, with `PolyMAC_P0P1NC` for `pb1`, and `VEF` for `pb2`\n",
    "    - using `metis` independently on each domain, and using `OverlapDEC`\n",
    "    - using the `med` partitionner (coincident partition for both domains)\n",
    "        - with `OverlapDEC`\n",
    "        - with local `remapper`"
   ]
  },
  {
   "cell_type": "code",
   "execution_count": null,
   "id": "50d4a841",
   "metadata": {},
   "outputs": [],
   "source": [
    "from trustutils.jupyter import run\n",
    "\n",
    "run.introduction(\"Yannick Gorsse\")\n",
    "run.TRUST_parameters()"
   ]
  },
  {
   "cell_type": "code",
   "execution_count": null,
   "id": "15189bb2-352d-48f9-85fa-64c4323e0f88",
   "metadata": {},
   "outputs": [],
   "source": [
    "run.reset()\n",
    "run.initBuildDirectory()\n",
    "\n",
    "part_med = \"partitionneur fichier_med { file dom1_0000.med }\"\n",
    "part_met = \"partitionneur metis { nb_parts 2 }\"\n",
    "np = 2\n",
    "nx = 50\n",
    "\n",
    "# single domain case\n",
    "tc = run.addCaseFromTemplate(\"jdd_single_dom.data\", \"single_domain\", {\"N\" : nx}, nbProcs=np)\n",
    "tc.partition()\n",
    "\n",
    "# dual domain cases\n",
    "for meshname, mesht in ((\"same\", \"\"), (\"different\", \"trianguler_h dom2\")):\n",
    "    for pn, part in ((\"metis\", part_met), (\"med\", part_med)):\n",
    "        for dec in [0, 1]:\n",
    "            if part == part_met and not dec: continue\n",
    "            tc = run.addCaseFromTemplate(\"jdd_two_dom.data\", f\"{meshname}meshes/part{pn}/dec{dec}\", {\"N\" : nx, \"option_maillage_t\" : mesht, \"part\" : part, \"dec\" : \"\" if dec else \"without_dec\"}, nbProcs=np)\n",
    "            tc.partition()\n",
    "# dual domain cases (VEF)\n",
    "for meshname, mesh1, mesh2 in ((\"same\", \"trianguler_h dom1\", \"\"), (\"different\", \"\", \"\")): # raffiner_simplexes dom2\n",
    "    for pn, part in ((\"metis\", part_met), (\"med\", part_med)):\n",
    "        for dec in [0, 1]:\n",
    "            if part == part_met and not dec: continue\n",
    "            tc = run.addCaseFromTemplate(\"jdd_poly_vef.data\", f\"VEF/{meshname}meshes/part{pn}/dec{dec}\", {\"N\" : nx, \"option_maillage1\" : mesh1, \"option_maillage2\" : mesh2, \"part\" : part, \"dec\" : \"\" if dec else \"without_dec\"}, nbProcs=np)\n",
    "            tc.partition()\n",
    "\n",
    "run.runCases()\n",
    "run.tablePerf()"
   ]
  },
  {
   "cell_type": "code",
   "execution_count": null,
   "id": "a4e5dc4c",
   "metadata": {},
   "outputs": [],
   "source": [
    "from trustutils import plot\n",
    "\n",
    "a = plot.Graph(\"Residuals\")\n",
    "a.addResidu(\"single_domain/PAR_jdd_single_dom.dt_ev\", label=\"single domain\")\n",
    "for meshname, _ in ((\"same\", \"\"), (\"different\", \"trianguler_h domt\")):\n",
    "    for pn, part in ((\"metis\", part_met), (\"med\", part_med)):\n",
    "        for dec in [0, 1]:\n",
    "            if part == part_met and not dec: continue\n",
    "            a.addResidu(f\"{meshname}meshes/part{pn}/dec{dec}/PAR_jdd_two_dom.dt_ev\", label=f\"{meshname}meshes/part{pn}/dec{dec}\")\n",
    "            a.addResidu(f\"VEF/{meshname}meshes/part{pn}/dec{dec}/PAR_jdd_poly_vef.dt_ev\", label=f\"VEF/{meshname}meshes/part{pn}/dec{dec}\")\n",
    "\n",
    "a.scale(yscale=\"log\")"
   ]
  },
  {
   "cell_type": "code",
   "execution_count": null,
   "id": "92a2bdd6",
   "metadata": {},
   "outputs": [],
   "source": [
    "a = plot.Graph(f\"Single domain\")\n",
    "for pb in [1, 2]:\n",
    "    a.addPoint(f\"{run.BUILD_DIRECTORY}/single_domain/PAR_jdd_single_dom_T{pb}.son\", label=f\"pb {pb}\")\n",
    "for meshname, mesht in ((\"same\", \"\"), (\"different\", \"trianguler_h domt\")):\n",
    "    for pn, part in ((\"metis\", part_met), (\"med\", part_med)):\n",
    "        for dec in [0, 1]:\n",
    "            if part == part_met and not dec: continue\n",
    "            a = plot.Graph(f\"{meshname}meshes/part{pn}/dec{dec}\")\n",
    "            for pb in [1, 2]:\n",
    "                a.addPoint(f\"{run.BUILD_DIRECTORY}/{meshname}meshes/part{pn}/dec{dec}/PAR_jdd_two_dom_T{pb}.son\", label=f\"pb {pb}\")\n",
    "                a.addPoint(f\"{run.BUILD_DIRECTORY}/VEF/{meshname}meshes/part{pn}/dec{dec}/PAR_jdd_poly_vef_T{pb}.son\", label=f\"VEF - pb {pb}\", marker=\"x\")\n"
   ]
  }
 ],
 "metadata": {
  "kernelspec": {
   "display_name": "Python 3",
   "language": "python",
   "name": "python3"
  },
  "language_info": {
   "codemirror_mode": {
    "name": "ipython",
    "version": 3
   },
   "file_extension": ".py",
   "mimetype": "text/x-python",
   "name": "python",
   "nbconvert_exporter": "python",
   "pygments_lexer": "ipython3",
   "version": "3.7.16"
  },
  "vscode": {
   "interpreter": {
    "hash": "b782577cff7740386d5a4408bd06491b01e7449d0be1e4e757afd3bc68462014"
   }
  }
 },
 "nbformat": 4,
 "nbformat_minor": 5
}
