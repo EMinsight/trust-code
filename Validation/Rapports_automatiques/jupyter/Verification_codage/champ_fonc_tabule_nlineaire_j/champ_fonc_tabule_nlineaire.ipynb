{
 "cells": [
  {
   "cell_type": "markdown",
   "id": "f00c33c7",
   "metadata": {},
   "source": [
    "# Vérification du codage des champ_fonc_tabule\n",
    "## Introduction\n",
    "Cette fiche utilise le nouveau codage des champ_fonc_tabule, accepant un nombre arbitraire de champs paramètre. La formule d'interpolation n-linéaire codée est expliquée ici par exemple :\n",
    "https://paulusolaus.com/blog/n-linear-interpolation/"
   ]
  },
  {
   "cell_type": "code",
   "execution_count": 1,
   "id": "electoral-rebound",
   "metadata": {},
   "outputs": [
    {
     "data": {
      "text/markdown": [
       "## Introduction \n",
       " Validation made by : Yannick Gorsse\n",
       " \n",
       " Report generated 12/01/2022"
      ],
      "text/plain": [
       "<IPython.core.display.Markdown object>"
      ]
     },
     "metadata": {},
     "output_type": "display_data"
    },
    {
     "data": {
      "text/markdown": [
       "### Description \n",
       "La formule générale est vérifiée avec la formule analytique pour 2 paramètres (interpolation bilinéaire), et de facon qualitative pour 3 paramètres (interpolation trilinéaire)."
      ],
      "text/plain": [
       "<IPython.core.display.Markdown object>"
      ]
     },
     "metadata": {},
     "output_type": "display_data"
    },
    {
     "data": {
      "text/markdown": [
       "### TRUST parameters \n",
       " * Version TRUST: 1.8.4\n",
       " * Binary used: /volatile/catA/ll258196/trust-code/exec/TRUST_mpi_opt (built on TRUST /volatile/catA/ll258196/trust-code/Validation/Rapports_automatiques/jupyter/Verification_codage/champ_fonc_tabule_nlineaire_j/build)"
      ],
      "text/plain": [
       "<IPython.core.display.Markdown object>"
      ]
     },
     "metadata": {},
     "output_type": "display_data"
    }
   ],
   "source": [
    "from trustutils import run\n",
    "\n",
    "run.introduction(\"Yannick Gorsse\")\n",
    "run.description(\"La formule générale est vérifiée avec la formule analytique pour 2 paramètres (interpolation bilinéaire), et de facon qualitative pour 3 paramètres (interpolation trilinéaire).\")\n",
    "run.TRUST_parameters()"
   ]
  },
  {
   "cell_type": "markdown",
   "id": "invisible-subscriber",
   "metadata": {},
   "source": [
    "## Fontion Jupyter-Run"
   ]
  },
  {
   "cell_type": "code",
   "execution_count": 5,
   "id": "wired-celtic",
   "metadata": {
    "tags": []
   },
   "outputs": [
    {
     "name": "stdout",
     "output_type": "stream",
     "text": [
      "!!!!!!!!!!!!!!!!!!!!!!!!!!!!!!!!!!!!!!!!!!!!!!!!!!!!!!!!!!!!!!!!!!!!!!!!!!!!!!!!!!!!!!\n",
      "Case './jdd_bilineaire.data' FAILED !! Here are the last 20 lines of the .err file:\n",
      "!!!!!!!!!!!!!!!!!!!!!!!!!!!!!!!!!!!!!!!!!!!!!!!!!!!!!!!!!!!!!!!!!!!!!!!!!!!!!!!!!!!!!!\n",
      "in the readOn of Solveur_Implicite\n",
      "******************************************************************************************\n",
      "Commands lines possible for Petsc Release Version 3.14.1, Nov 03, 2020 :\n",
      "-ksp_view : to have some informations on the solver/preconditioner used by PETSc.\n",
      "-info : to have among other informations on storage of matrices of PETSc.\n",
      "-log_summary : to have at the end of the calculation, informations about performances and memory.\n",
      "-log_all : trace all PETSc calls.\n",
      "-malloc_dump : to have at the end of the calculation the memory not deallocated by PETSc.\n",
      "-help : to know all the commands lines of PETSc including those related to the solver/preconditioner selected.\n",
      "******************************************************************************************\n",
      "NB: if you want to disable the wrinting of the *_petsc.TU file then specify the disable_TU flag in your datafile before reading the block of schema in time.\n",
      "Option Petsc: -log_view :jdd_bilineaire_petsc.TU\n",
      "Reading of the Petsc commands:\n",
      "The next backup, by security, will take place after 23 hours of calculation.\n",
      "Reading of data for a Fluide_Incompressible medium\n",
      "Error reading from an object of type Champ_Fonc_Tabule\n",
      "We expected keyword } instead of 1\n",
      "=========================================\n",
      "TRUST has caused an error and will stop.\n",
      "Unexpected error during TRUST calculation.\n",
      "\n",
      "!!!!!!!!!!!!!!!!!!!!!!!!!!!!!!!!!!!!!!!!!!!!!!!!!!!!!!!!!!!!!!!!!!!!!!!!!!!!!!!!!!!!!!\n",
      "Case './jdd_trilineaire.data' FAILED !! Here are the last 20 lines of the .err file:\n",
      "!!!!!!!!!!!!!!!!!!!!!!!!!!!!!!!!!!!!!!!!!!!!!!!!!!!!!!!!!!!!!!!!!!!!!!!!!!!!!!!!!!!!!!\n",
      "Reading of the maximum number of time steps\n",
      "in the readOn of Solveur_Implicite\n",
      "******************************************************************************************\n",
      "Commands lines possible for Petsc Release Version 3.14.1, Nov 03, 2020 :\n",
      "-ksp_view : to have some informations on the solver/preconditioner used by PETSc.\n",
      "-info : to have among other informations on storage of matrices of PETSc.\n",
      "-log_summary : to have at the end of the calculation, informations about performances and memory.\n",
      "-log_all : trace all PETSc calls.\n",
      "-malloc_dump : to have at the end of the calculation the memory not deallocated by PETSc.\n",
      "-help : to know all the commands lines of PETSc including those related to the solver/preconditioner selected.\n",
      "******************************************************************************************\n",
      "NB: if you want to disable the wrinting of the *_petsc.TU file then specify the disable_TU flag in your datafile before reading the block of schema in time.\n",
      "Option Petsc: -log_view :jdd_trilineaire_petsc.TU\n",
      "Reading of the Petsc commands:\n",
      "The next backup, by security, will take place after 23 hours of calculation.\n",
      "Reading of data for a Fluide_Incompressible medium\n",
      "Error converting a string to type long : string = mu\n",
      "=========================================\n",
      "TRUST has caused an error and will stop.\n",
      "Unexpected error during TRUST calculation.\n",
      "\n"
     ]
    }
   ],
   "source": [
    "from trustutils import run\n",
    "\n",
    "run.reset()\n",
    "# Ici on ajoute un cas qu'on veut lancer, en specifiant le nombre de processeurs qu'on veut (valeur par defaut=1)\n",
    "casS=run.addCase(\".\",\"jdd_bilineaire.data\",nbProcs=1)\n",
    "casT=run.addCase(\".\",\"jdd_trilineaire.data\",nbProcs=1)\n",
    "\n",
    "# Methode pour lancer les cas tests\n",
    "run.runCases()"
   ]
  },
  {
   "cell_type": "code",
   "execution_count": 3,
   "id": "arbitrary-basket",
   "metadata": {
    "scrolled": false,
    "tags": []
   },
   "outputs": [
    {
     "ename": "FileNotFoundError",
     "evalue": "[Errno 2] No such file or directory: '/volatile/catA/ll258196/trust-code/Validation/Rapports_automatiques/jupyter/Verification_codage/champ_fonc_tabule_nlineaire_j/build//jdd_bilineaire.lata'",
     "output_type": "error",
     "traceback": [
      "\u001b[0;31m---------------------------------------------------------------------------\u001b[0m",
      "\u001b[0;31mFileNotFoundError\u001b[0m                         Traceback (most recent call last)",
      "\u001b[0;32m<ipython-input-3-7aff7cc44a54>\u001b[0m in \u001b[0;36m<module>\u001b[0;34m\u001b[0m\n\u001b[1;32m      1\u001b[0m \u001b[0;32mfrom\u001b[0m \u001b[0mtrustutils\u001b[0m \u001b[0;32mimport\u001b[0m \u001b[0mvisit\u001b[0m\u001b[0;34m\u001b[0m\u001b[0;34m\u001b[0m\u001b[0m\n\u001b[1;32m      2\u001b[0m \u001b[0;34m\u001b[0m\u001b[0m\n\u001b[0;32m----> 3\u001b[0;31m \u001b[0mp\u001b[0m \u001b[0;34m=\u001b[0m \u001b[0mvisit\u001b[0m\u001b[0;34m.\u001b[0m\u001b[0mShow\u001b[0m\u001b[0;34m(\u001b[0m\u001b[0;34m\"jdd_bilineaire.lata\"\u001b[0m\u001b[0;34m,\u001b[0m\u001b[0;34m\"Pseudocolor\"\u001b[0m\u001b[0;34m,\u001b[0m\u001b[0;34m\"DILATABILITE_ELEM_dom\"\u001b[0m\u001b[0;34m,\u001b[0m\u001b[0mplotmesh\u001b[0m\u001b[0;34m=\u001b[0m\u001b[0;32mFalse\u001b[0m\u001b[0;34m,\u001b[0m \u001b[0mnY\u001b[0m\u001b[0;34m=\u001b[0m\u001b[0;36m1\u001b[0m\u001b[0;34m,\u001b[0m\u001b[0mnX\u001b[0m\u001b[0;34m=\u001b[0m\u001b[0;36m2\u001b[0m\u001b[0;34m)\u001b[0m\u001b[0;34m\u001b[0m\u001b[0;34m\u001b[0m\u001b[0m\n\u001b[0m\u001b[1;32m      4\u001b[0m \u001b[0mp\u001b[0m\u001b[0;34m.\u001b[0m\u001b[0madd\u001b[0m\u001b[0;34m(\u001b[0m\u001b[0;34m\"jdd_bilineaire.lata\"\u001b[0m\u001b[0;34m,\u001b[0m\u001b[0;34m\"Pseudocolor\"\u001b[0m\u001b[0;34m,\u001b[0m \u001b[0;34m\"ERREUR_INTERP_ELEM_dom\"\u001b[0m\u001b[0;34m,\u001b[0m\u001b[0;36m1\u001b[0m\u001b[0;34m)\u001b[0m\u001b[0;34m\u001b[0m\u001b[0;34m\u001b[0m\u001b[0m\n\u001b[1;32m      5\u001b[0m \u001b[0mp\u001b[0m\u001b[0;34m.\u001b[0m\u001b[0mplot\u001b[0m\u001b[0;34m(\u001b[0m\u001b[0;34m)\u001b[0m\u001b[0;34m\u001b[0m\u001b[0;34m\u001b[0m\u001b[0m\n",
      "\u001b[0;32m/volatile/catA/ll258196/trust-code/Outils/IHM/TRUST_STATS_JUPYTER/trustutils/visitutils/tools_for_visit.py\u001b[0m in \u001b[0;36m__init__\u001b[0;34m(self, fichier, field, name, nX, nY, dim, mesh, plotmesh, time, empty, size, max, min, active, visitLog, verbose, **kwargs)\u001b[0m\n\u001b[1;32m    277\u001b[0m \u001b[0;34m\u001b[0m\u001b[0m\n\u001b[1;32m    278\u001b[0m         \u001b[0mname\u001b[0m \u001b[0;34m=\u001b[0m \u001b[0mname\u001b[0m\u001b[0;34m.\u001b[0m\u001b[0mreplace\u001b[0m\u001b[0;34m(\u001b[0m\u001b[0;34m\"/\"\u001b[0m\u001b[0;34m,\u001b[0m\u001b[0;34m\"_\"\u001b[0m\u001b[0;34m)\u001b[0m \u001b[0;31m#avoid error when / in name\u001b[0m\u001b[0;34m\u001b[0m\u001b[0;34m\u001b[0m\u001b[0m\n\u001b[0;32m--> 279\u001b[0;31m         \u001b[0msaveFile\u001b[0m\u001b[0;34m(\u001b[0m\u001b[0mfichier\u001b[0m\u001b[0;34m,\u001b[0m\u001b[0mfield\u001b[0m\u001b[0;34m,\u001b[0m\u001b[0mname\u001b[0m\u001b[0;34m,\u001b[0m\u001b[0mactive\u001b[0m\u001b[0;34m)\u001b[0m\u001b[0;34m\u001b[0m\u001b[0;34m\u001b[0m\u001b[0m\n\u001b[0m\u001b[1;32m    280\u001b[0m \u001b[0;34m\u001b[0m\u001b[0m\n\u001b[1;32m    281\u001b[0m         \u001b[0mself\u001b[0m\u001b[0;34m.\u001b[0m\u001b[0m_reset\u001b[0m\u001b[0;34m(\u001b[0m\u001b[0;34m**\u001b[0m\u001b[0mkwargs\u001b[0m\u001b[0;34m)\u001b[0m\u001b[0;34m\u001b[0m\u001b[0;34m\u001b[0m\u001b[0m\n",
      "\u001b[0;32m/volatile/catA/ll258196/trust-code/Outils/IHM/TRUST_STATS_JUPYTER/trustutils/visitutils/tools_for_visit.py\u001b[0m in \u001b[0;36msaveFile\u001b[0;34m(file, field, name, active)\u001b[0m\n\u001b[1;32m    114\u001b[0m         \u001b[0;32melse\u001b[0m\u001b[0;34m:\u001b[0m\u001b[0;34m\u001b[0m\u001b[0;34m\u001b[0m\u001b[0m\n\u001b[1;32m    115\u001b[0m             \u001b[0mfield\u001b[0m\u001b[0;34m,\u001b[0m \u001b[0mloc\u001b[0m\u001b[0;34m,\u001b[0m \u001b[0mdom\u001b[0m \u001b[0;34m=\u001b[0m \u001b[0mFileAccumulator\u001b[0m\u001b[0;34m.\u001b[0m\u001b[0mParseDirectName\u001b[0m\u001b[0;34m(\u001b[0m\u001b[0mname\u001b[0m\u001b[0;34m)\u001b[0m\u001b[0;34m\u001b[0m\u001b[0;34m\u001b[0m\u001b[0m\n\u001b[0;32m--> 116\u001b[0;31m             \u001b[0mFileAccumulator\u001b[0m\u001b[0;34m.\u001b[0m\u001b[0mAppendVisuComplex\u001b[0m\u001b[0;34m(\u001b[0m\u001b[0mpath\u001b[0m\u001b[0;34m+\u001b[0m\u001b[0;34m\"/\"\u001b[0m\u001b[0;34m+\u001b[0m\u001b[0mfile\u001b[0m\u001b[0;34m,\u001b[0m\u001b[0mdom\u001b[0m\u001b[0;34m,\u001b[0m \u001b[0mfield\u001b[0m\u001b[0;34m,\u001b[0m \u001b[0mloc\u001b[0m\u001b[0;34m)\u001b[0m\u001b[0;34m\u001b[0m\u001b[0;34m\u001b[0m\u001b[0m\n\u001b[0m\u001b[1;32m    117\u001b[0m             \u001b[0mFileAccumulator\u001b[0m\u001b[0;34m.\u001b[0m\u001b[0mWriteToFile\u001b[0m\u001b[0;34m(\u001b[0m\u001b[0;34m\"used_files\"\u001b[0m\u001b[0;34m,\u001b[0m \u001b[0mmode\u001b[0m\u001b[0;34m=\u001b[0m\u001b[0;34m\"a\"\u001b[0m\u001b[0;34m)\u001b[0m\u001b[0;34m\u001b[0m\u001b[0;34m\u001b[0m\u001b[0m\n\u001b[1;32m    118\u001b[0m \u001b[0;34m\u001b[0m\u001b[0m\n",
      "\u001b[0;32m/volatile/catA/ll258196/trust-code/Outils/IHM/TRUST_STATS_JUPYTER/trustutils/jupyter/filelist.py\u001b[0m in \u001b[0;36mAppendVisuComplex\u001b[0;34m(cls, file, dom, var, loc, cycles)\u001b[0m\n\u001b[1;32m    193\u001b[0m         \u001b[0;31m# Append domain first:\u001b[0m\u001b[0;34m\u001b[0m\u001b[0;34m\u001b[0m\u001b[0;34m\u001b[0m\u001b[0m\n\u001b[1;32m    194\u001b[0m         \u001b[0mdom\u001b[0m \u001b[0;34m=\u001b[0m \u001b[0mcls\u001b[0m\u001b[0;34m.\u001b[0m\u001b[0m_GetRealDomName\u001b[0m\u001b[0;34m(\u001b[0m\u001b[0mdom\u001b[0m\u001b[0;34m)\u001b[0m\u001b[0;34m\u001b[0m\u001b[0;34m\u001b[0m\u001b[0m\n\u001b[0;32m--> 195\u001b[0;31m         \u001b[0mcls\u001b[0m\u001b[0;34m.\u001b[0m\u001b[0mAppendVisuMesh\u001b[0m\u001b[0;34m(\u001b[0m\u001b[0mfile\u001b[0m\u001b[0;34m,\u001b[0m \u001b[0mdom\u001b[0m\u001b[0;34m)\u001b[0m\u001b[0;34m\u001b[0m\u001b[0;34m\u001b[0m\u001b[0m\n\u001b[0m\u001b[1;32m    196\u001b[0m         \u001b[0mtab\u001b[0m \u001b[0;34m=\u001b[0m \u001b[0mfile\u001b[0m\u001b[0;34m.\u001b[0m\u001b[0msplit\u001b[0m\u001b[0;34m(\u001b[0m\u001b[0;34m\".\"\u001b[0m\u001b[0;34m)\u001b[0m\u001b[0;34m\u001b[0m\u001b[0;34m\u001b[0m\u001b[0m\n\u001b[1;32m    197\u001b[0m         \u001b[0mext\u001b[0m \u001b[0;34m=\u001b[0m \u001b[0mtab\u001b[0m\u001b[0;34m[\u001b[0m\u001b[0;34m-\u001b[0m\u001b[0;36m1\u001b[0m\u001b[0;34m]\u001b[0m\u001b[0;34m\u001b[0m\u001b[0;34m\u001b[0m\u001b[0m\n",
      "\u001b[0;32m/volatile/catA/ll258196/trust-code/Outils/IHM/TRUST_STATS_JUPYTER/trustutils/jupyter/filelist.py\u001b[0m in \u001b[0;36mAppendVisuMesh\u001b[0;34m(cls, file, dom_name)\u001b[0m\n\u001b[1;32m    158\u001b[0m             \u001b[0;31m# Extract first \"Geometrie\" from LATA - this domain is always needed by VisIt for example in case of Front Tracking\u001b[0m\u001b[0;34m\u001b[0m\u001b[0;34m\u001b[0m\u001b[0;34m\u001b[0m\u001b[0m\n\u001b[1;32m    159\u001b[0m             \u001b[0mdirec\u001b[0m \u001b[0;34m=\u001b[0m \u001b[0;34m\"/\"\u001b[0m\u001b[0;34m.\u001b[0m\u001b[0mjoin\u001b[0m\u001b[0;34m(\u001b[0m\u001b[0mfile\u001b[0m\u001b[0;34m.\u001b[0m\u001b[0msplit\u001b[0m\u001b[0;34m(\u001b[0m\u001b[0;34m\"/\"\u001b[0m\u001b[0;34m)\u001b[0m\u001b[0;34m[\u001b[0m\u001b[0;34m:\u001b[0m\u001b[0;34m-\u001b[0m\u001b[0;36m1\u001b[0m\u001b[0;34m]\u001b[0m\u001b[0;34m)\u001b[0m\u001b[0;34m\u001b[0m\u001b[0;34m\u001b[0m\u001b[0m\n\u001b[0;32m--> 160\u001b[0;31m             \u001b[0;32mwith\u001b[0m \u001b[0mopen\u001b[0m\u001b[0;34m(\u001b[0m\u001b[0mfile\u001b[0m\u001b[0;34m)\u001b[0m \u001b[0;32mas\u001b[0m \u001b[0mf\u001b[0m\u001b[0;34m:\u001b[0m\u001b[0;34m\u001b[0m\u001b[0;34m\u001b[0m\u001b[0m\n\u001b[0m\u001b[1;32m    161\u001b[0m                 \u001b[0;32mfor\u001b[0m \u001b[0ml\u001b[0m \u001b[0;32min\u001b[0m \u001b[0mf\u001b[0m\u001b[0;34m.\u001b[0m\u001b[0mreadlines\u001b[0m\u001b[0;34m(\u001b[0m\u001b[0;34m)\u001b[0m\u001b[0;34m:\u001b[0m\u001b[0;34m\u001b[0m\u001b[0;34m\u001b[0m\u001b[0m\n\u001b[1;32m    162\u001b[0m                     \u001b[0;32mif\u001b[0m \u001b[0ml\u001b[0m\u001b[0;34m.\u001b[0m\u001b[0mstartswith\u001b[0m\u001b[0;34m(\u001b[0m\u001b[0;34m\"Geometrie \"\u001b[0m\u001b[0;34m)\u001b[0m\u001b[0;34m:\u001b[0m\u001b[0;34m\u001b[0m\u001b[0;34m\u001b[0m\u001b[0m\n",
      "\u001b[0;31mFileNotFoundError\u001b[0m: [Errno 2] No such file or directory: '/volatile/catA/ll258196/trust-code/Validation/Rapports_automatiques/jupyter/Verification_codage/champ_fonc_tabule_nlineaire_j/build//jdd_bilineaire.lata'"
     ]
    }
   ],
   "source": [
    "from trustutils import visit\n",
    "\n",
    "p = visit.Show(\"jdd_bilineaire.lata\",\"Pseudocolor\",\"DILATABILITE_ELEM_dom\",plotmesh=False, nY=1,nX=2)\n",
    "p.add(\"jdd_bilineaire.lata\",\"Pseudocolor\", \"ERREUR_INTERP_ELEM_dom\",1)\n",
    "p.plot()"
   ]
  },
  {
   "cell_type": "code",
   "execution_count": null,
   "id": "32ff8b9d",
   "metadata": {},
   "outputs": [],
   "source": [
    "from trustutils import visit\n",
    "\n",
    "p = visit.Show(\"jdd_trilineaire.lata\",\"Pseudocolor\",\"DILATABILITE_ELEM_dom\",dim=3,plotmesh=False, rotx=30, rotz=20)\n",
    "#p.add(\"jdd_bilineaire.lata\",\"Pseudocolor\", \"ERREUR_INTERP_ELEM_dom\",1)\n",
    "p.plot()"
   ]
  },
  {
   "cell_type": "code",
   "execution_count": null,
   "id": "83889f3d",
   "metadata": {},
   "outputs": [],
   "source": []
  }
 ],
 "metadata": {
  "kernelspec": {
   "display_name": "Python 3",
   "language": "python",
   "name": "python3"
  },
  "language_info": {
   "codemirror_mode": {
    "name": "ipython",
    "version": 3
   },
   "file_extension": ".py",
   "mimetype": "text/x-python",
   "name": "python",
   "nbconvert_exporter": "python",
   "pygments_lexer": "ipython3",
   "version": "3.7.9"
  },
  "toc-autonumbering": true
 },
 "nbformat": 4,
 "nbformat_minor": 5
}
