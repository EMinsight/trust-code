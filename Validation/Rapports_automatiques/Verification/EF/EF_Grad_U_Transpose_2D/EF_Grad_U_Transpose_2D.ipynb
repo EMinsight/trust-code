{
 "cells": [
  {
   "cell_type": "markdown",
   "id": "inappropriate-lingerie",
   "metadata": {},
   "source": [
    "# Vérification du transposé du gradient de vitesse dans le tenseur des contraintes visqueuses"
   ]
  },
  {
   "cell_type": "code",
   "execution_count": null,
   "id": "c174154f",
   "metadata": {},
   "outputs": [],
   "source": [
    "from trustutils import run \n",
    "\n",
    "run.introduction('D. Jamet')"
   ]
  },
  {
   "cell_type": "markdown",
   "id": "adopted-auditor",
   "metadata": {},
   "source": [
    "### Description"
   ]
  },
  {
   "cell_type": "markdown",
   "id": "imperial-shield",
   "metadata": {},
   "source": [
    "On  impose un champ de vitesse à divergence  nulle  particulier  dans  tout  le  domaine. On  choisit une viscosité variable en espace.  Pour ces deux champs, il est possible de déterminer la solution analytique de la force visqueuse. Dans le cas particulier considéré, cette force est un gradient et doit être pris encompte par la pression. On compare donc la pression analytique à la pression calculée par GENEPI."
   ]
  },
  {
   "cell_type": "code",
   "execution_count": null,
   "id": "2171ef5d",
   "metadata": {},
   "outputs": [],
   "source": [
    "run.TRUST_parameters()"
   ]
  },
  {
   "cell_type": "code",
   "execution_count": null,
   "id": "6729c231-27f7-4fc9-9b61-4dc58e90721b",
   "metadata": {},
   "outputs": [],
   "source": [
    "from trustutils import run \n",
    "import os\n",
    "c1 = run.addCase(\".\",\"grad_u_transpose_2d.data\") \n",
    "run.printCases()\n",
    "run.runCases()"
   ]
  },
  {
   "cell_type": "markdown",
   "id": "growing-hundred",
   "metadata": {},
   "source": [
    "## Champ de pression\n",
    "Dans cette partie, on compare le champ de pression calculé par GENEPI et le champ de pression analytique.\n",
    "### Champs de pression calculé et analytique\n",
    "Le champ de pression calculé par GENEPI est tracé et le champ de pression analytique est donné par des isovaleurs."
   ]
  },
  {
   "cell_type": "code",
   "execution_count": null,
   "id": "3d153261-0a30-493d-a78d-fc5a9ed9d392",
   "metadata": {},
   "outputs": [],
   "source": [
    "from trustutils import visit\n",
    "\n",
    "Graphique=visit.Show(\"./grad_u_transpose_2d.lata\",\"Pseudocolor\",\"PRESSION_PA_ELEM_dom\")\n",
    "Graphique.visitCommand(\"DefineScalarExpression(\\\"P_ANALYTIQUE_ELEM_dom\\\",\\\"(4+2*coord(dom)[0]-2*coord(dom)[1])\\\")\")\n",
    "Graphique.addField(\"./grad_u_transpose_2d.lata\",\"Contour\",\"P_ANALYTIQUE_ELEM_dom\")\n",
    "Graphique.plot() "
   ]
  },
  {
   "cell_type": "markdown",
   "id": "therapeutic-converter",
   "metadata": {},
   "source": [
    "### Erreur sur le champ de pression\n",
    "\n",
    "On trace l'erreur entre le champ de pression calculé par GENEPI et le champ de pression analytique. Sont tracés le champ de l'erreur et les iso-valeurs de l'erreur."
   ]
  },
  {
   "cell_type": "code",
   "execution_count": null,
   "id": "adequate-twist",
   "metadata": {},
   "outputs": [],
   "source": [
    "from trustutils import visit\n",
    "\n",
    "Graphique=visit.Show(\"./grad_u_transpose_2d.lata\",\"Mesh\",\"dom\",plotmesh=False)\n",
    "Graphique.visitCommand(\"DefineScalarExpression(\\\"ERREUR_ELEM_dom\\\",\\\"PRESSION_PA_ELEM_dom-(4+2*coord(dom)[0]-2*coord(dom)[1])\\\")\")\n",
    "Graphique.addField(\"./grad_u_transpose_2d.lata\",\"Pseudocolor\",\"ERREUR_ELEM_dom\")\n",
    "Graphique.addField(\"./grad_u_transpose_2d.lata\",\"Contour\",\"ERREUR_ELEM_dom\")\n",
    "Graphique.plot() "
   ]
  },
  {
   "cell_type": "markdown",
   "id": "da1e2235-770b-4f30-a430-eda253dc0531",
   "metadata": {},
   "source": [
    "## Data Files\n",
    "### grad_u_transpose_2d"
   ]
  },
  {
   "cell_type": "code",
   "execution_count": null,
   "id": "15fd47b5-5015-41c4-b5b5-1a2ec787d071",
   "metadata": {},
   "outputs": [],
   "source": [
    "from trustutils import run\n",
    "\n",
    "run.dumpDataset(\"./grad_u_transpose_2d.data\")"
   ]
  }
 ],
 "metadata": {
  "kernelspec": {
   "display_name": "Python 3 (ipykernel)",
   "language": "python",
   "name": "python3"
  },
  "language_info": {
   "codemirror_mode": {
    "name": "ipython",
    "version": 3
   },
   "file_extension": ".py",
   "mimetype": "text/x-python",
   "name": "python",
   "nbconvert_exporter": "python",
   "pygments_lexer": "ipython3",
   "version": "3.7.9"
  }
 },
 "nbformat": 4,
 "nbformat_minor": 5
}
