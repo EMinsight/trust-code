{
 "cells": [
  {
   "cell_type": "markdown",
   "id": "inappropriate-lingerie",
   "metadata": {},
   "source": [
    "# Cas test debit"
   ]
  },
  {
   "cell_type": "code",
   "execution_count": null,
   "id": "69d6d858",
   "metadata": {},
   "outputs": [],
   "source": [
    "from trustutils import run\n",
    "\n",
    "run.introduction(\"G. F.\")\n",
    "run.description(\"Calculs menes en VEF ou VDF.\")\n",
    "run.TRUST_parameters()"
   ]
  },
  {
   "cell_type": "code",
   "execution_count": null,
   "id": "1181ad13-5719-4d65-aff3-a6f95a002976",
   "metadata": {},
   "outputs": [],
   "source": [
    "from trustutils import run \n",
    "run.addCase(\".\",\"test_opt.data\")\n",
    "run.addCase(\".\",\"test_opt2.data\")\n",
    "run.addCase(\".\",\"test_opt3.data\")\n",
    "run.addCase(\".\",\"Champ_front_debit.data\")\n",
    "run.addCase(\".\",\"champ_normal_var.data\")\n",
    "run.printCases()\n",
    "run.runCases()"
   ]
  },
  {
   "cell_type": "markdown",
   "id": "7acf203c-c772-4788-9dc0-5ec609412431",
   "metadata": {},
   "source": [
    "### References\n",
    "* moi_meme"
   ]
  },
  {
   "cell_type": "markdown",
   "id": "55ab7e2f-905c-4260-8e54-0e30f96da064",
   "metadata": {},
   "source": [
    "## VEF test:  calculated flow rate"
   ]
  },
  {
   "cell_type": "code",
   "execution_count": null,
   "id": "c8f7a6e0",
   "metadata": {},
   "outputs": [],
   "source": [
    "from trustutils import plot\n",
    "import numpy as np\n",
    "\n",
    "columns=[\"temps\",'debit']\n",
    "Tableau=plot.Table(columns)  \n",
    "\n",
    "data=plot.loadText(\"test_opt_pb_Debit.out\",transpose=False)\n",
    "data[-1][4] = -data[-1][4]\n",
    "Tableau.addLigne([data[-1][0:5:4]],\"Calcul\")\n",
    "\n",
    "data=plot.loadText(\"test_opt2_pb_Debit.out\",transpose=False)\n",
    "data[-1][4] = -data[-1][4]\n",
    "Tableau.addLigne([data[-1][0:5:4]],\"Calcul avec champ_input\")\n",
    "\n",
    "data=plot.loadText(\"test_opt3_pb_Debit.out\",transpose=False)\n",
    "data[-1][4] = -data[-1][4]\n",
    "Tableau.addLigne([data[-1][0:5:4]],\"Calcul avec champ_front_fonc_txyz\")\n",
    "\n",
    "data=plot.loadText(\"champ_normal_var_pb_Debit.out\",transpose=False)\n",
    "data[-1][4] = -data[-1][4]\n",
    "Tableau.addLigne([data[-1][0:5:4]],\"Calcul avec Boundary_field_inward variable\")\n",
    "\n",
    "Tableau.addLigne([[10,5.]],\"voulu\") \n",
    "display(Tableau)"
   ]
  },
  {
   "cell_type": "markdown",
   "id": "growing-hundred",
   "metadata": {},
   "source": [
    "### Visualization of the velocity field on boundary IN \n",
    "\n",
    "The velocity should be uniform even if the surfaces are different."
   ]
  },
  {
   "cell_type": "code",
   "execution_count": null,
   "id": "coated-fields",
   "metadata": {
    "tags": []
   },
   "outputs": [],
   "source": [
    "from trustutils import visit \n",
    "\n",
    "a = visit.Show(\"./test_opt.lata\",\"Vector\",\"VITESSE_ELEM_IN\",mesh=\"IN\")\n",
    "a.normal3D([-0.0543768,-0.677396,0.733606])\n",
    "a.up3D([-0.407612, 0.685749,0.602993])\n",
    "a.plot()"
   ]
  },
  {
   "cell_type": "code",
   "execution_count": null,
   "id": "25a44dd1-d08c-46fd-93fa-8c5da290a5b7",
   "metadata": {},
   "outputs": [],
   "source": [
    "from trustutils import plot\n",
    "import numpy as np\n",
    "\n",
    "Graphique=plot.Graph()\n",
    "data=plot.loadText(\"test_opt3_pb_Debit.out\")\n",
    "Graphique.add(data[0],-data[4],marker=\"-|\",color=\"r\",label=\"Calculation with imposed flow rate\")\n",
    "data=plot.loadText(\"champ_normal_var_pb_Debit.out\")\n",
    "Graphique.add(data[0],-data[4],marker=\"-x\",color=\"g\",label=\"Calculation with imposed velocity\")\n",
    "x=np.linspace(0,10,10)\n",
    "y = 1.+4.*x/10.\n",
    "Graphique.add(x,y,marker=\"-\",color=\"b\",label=\"(1+4*x/10)\")\n",
    "Graphique.label(\"t\",\"debit\")\n"
   ]
  },
  {
   "cell_type": "markdown",
   "id": "applicable-container",
   "metadata": {},
   "source": [
    "### VDF test:  calculated flow rate"
   ]
  },
  {
   "cell_type": "code",
   "execution_count": null,
   "id": "1d629754-466a-4170-a37e-060b21a6213d",
   "metadata": {},
   "outputs": [],
   "source": [
    "from trustutils import plot\n",
    "\n",
    "columns=[\"temps\",'debit']\n",
    "Tableau=plot.Table(columns)  \n",
    "data=plot.loadText(\"Champ_front_debit_pb_Debit.out\",transpose=False)\n",
    "data[2][1] = -data[2][1]\n",
    "Tableau.addLigne([data[2][0:2]],\"Calculation with imposed flow rate\")\n",
    "data=plot.loadText(\"testCL_pb_Debit.out\",transpose=False) \n",
    "data[2][1] = -data[2][1]\n",
    "Tableau.addLigne([data[2][0:2]],\"Calculation with imposed velocity\") \n",
    "Tableau.addLigne([[1.2,5.]],\"voulu\") \n",
    "display(Tableau)"
   ]
  },
  {
   "cell_type": "markdown",
   "id": "4b6d10b4-98be-49ec-a817-af18c36bbdd1",
   "metadata": {},
   "source": [
    "## Data Files\n",
    "\n",
    "### test_opt"
   ]
  },
  {
   "cell_type": "code",
   "execution_count": null,
   "id": "embedded-colleague",
   "metadata": {
    "scrolled": true
   },
   "outputs": [],
   "source": [
    "run.dumpDataset(\"./test_opt.data\") "
   ]
  }
 ],
 "metadata": {
  "kernelspec": {
   "display_name": "Python 3 (ipykernel)",
   "language": "python",
   "name": "python3"
  },
  "language_info": {
   "codemirror_mode": {
    "name": "ipython",
    "version": 3
   },
   "file_extension": ".py",
   "mimetype": "text/x-python",
   "name": "python",
   "nbconvert_exporter": "python",
   "pygments_lexer": "ipython3",
   "version": "3.7.9"
  },
  "toc-autonumbering": true
 },
 "nbformat": 4,
 "nbformat_minor": 5
}
