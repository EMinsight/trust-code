{
 "cells": [
  {
   "cell_type": "markdown",
   "id": "boolean-earth",
   "metadata": {},
   "source": [
    "# FVCA"
   ]
  },
  {
   "cell_type": "code",
   "execution_count": null,
   "id": "c50babfc",
   "metadata": {},
   "outputs": [],
   "source": [
    "from trustutils import run\n",
    "\n",
    "run.introduction(\"Yannick Gorsse\")\n",
    "run.description(\"\")\n",
    "run.TRUST_parameters()"
   ]
  },
  {
   "cell_type": "code",
   "execution_count": null,
   "id": "balanced-boating",
   "metadata": {
    "scrolled": false
   },
   "outputs": [],
   "source": [
    "from trustutils import run\n",
    "from string import Template\n",
    "import os, sys\n",
    "run.useMEDCoupling()\n",
    "import medcoupling as mc\n",
    "\n",
    "nb_meshes_max = 2 # mettre a 10 si on veut faire tous les maillages\n",
    "\n",
    "run.reset()\n",
    "m2d = {\n",
    "    # 2D meshes\n",
    "    \"Cartesian\":      ([\"PolyMAC\", \"PolyMAC_P0\"], 7), \n",
    "    \"Triangles\":      ([\"PolyMAC\", \"PolyMAC_P0\"], 6),\n",
    "    \"Locally_Refined\":([\"PolyMAC\", \"PolyMAC_P0\"], 7),\n",
    "    \"Quadrangles\":    ([\"PolyMAC\", \"PolyMAC_P0\"], 7),\n",
    "    \"Kershaw2D\":      ([\"PolyMAC\", \"PolyMAC_P0\"], 6),\n",
    "    \"Polygons\":       ([\"PolyMAC\", \"PolyMAC_P0\"], 6),\n",
    "}\n",
    "m3d = {\n",
    "    # 3D meshes\n",
    "    \"Hexa\":           ([\"PolyMAC\", \"PolyMAC_P0\"], 5), # TODO : ajouter VDF, mais veut pas unpolyze...\n",
    "    \"Tetra\":          ([\"PolyMAC\", \"PolyMAC_P0\"], 7),\n",
    "    \"Prism\":          ([\"PolyMAC\", \"PolyMAC_P0\"], 4),\n",
    "    \"Kershaw\":        ([\"PolyMAC\", \"PolyMAC_P0\"], 4),\n",
    "    \"CheckerBoard\":   ([\"PolyMAC\", \"PolyMAC_P0\"], 5),\n",
    "    \"PrismHexa\":      ([\"PolyMAC\", \"PolyMAC_P0\"], 4),\n",
    "    \"Random\":         ([\"PolyMAC\", \"PolyMAC_P0\"], 4),\n",
    "    \"LocRaf\":         ([\"PolyMAC\", \"PolyMAC_P0\"], 5),\n",
    "    \"Voronoi\":        ([\"PolyMAC\", \"PolyMAC_P0\"], 5),\n",
    "}\n",
    "\n",
    "meshes = {**m2d, **m3d}\n",
    "\n",
    "meshes_dir = os.environ[\"TRUST_ROOT\"] + \"/Validation/Rapports_automatiques/Verification/PolyMAC/share/meshes\"\n",
    "\n",
    "# Trigger the copy of the src directory into the build directory:\n",
    "run.defaultSuite_ = run.TRUSTSuite(runPrepare=False)\n",
    "origin, build_dir = os.getcwd(), run.defaultSuite_.getBuildDirectory()\n",
    "os.chdir(build_dir)\n",
    "list_dis = []\n",
    "for m, (dis, ns) in meshes.items():\n",
    "    for d in dis:\n",
    "        for n in range(1, min(ns, nb_meshes_max) + 1):\n",
    "            os.system(f\"mkdir -p {m}/{d}/jdd_{n}\")\n",
    "            jdd = \"jdd_2d.data\" if m in m2d else \"jdd_3d.data\"\n",
    "            with open(jdd, \"r\") as file: filedata = Template(file.read())\n",
    "            result = filedata.substitute({\"dis\" : d})\n",
    "            with open(f\"{m}/{d}/jdd_{n}/jdd.data\", \"w\") as file: file.write(result)  \n",
    "            if not d.startswith(\"Poly\"):\n",
    "                os.system(f\"gunzip -c {meshes_dir}/{m}/jdd_{n}/mesh.med.gz >{m}/{d}/jdd_{n}/mesh.med\")\n",
    "                meshname = f\"{m}/{d}/jdd_{n}/mesh.med\"\n",
    "                mfum = mc.MEDFileUMesh(meshname)\n",
    "                mfum.getMeshAtLevel(0).unPolyze()\n",
    "                mfum.write(f\"{m}/{d}/jdd_{n}/mesh.med\", 2)\n",
    "            else: os.system(f\"gunzip -c {meshes_dir}/{m}/jdd_{n}/mesh.med.gz >{m}/{d}/jdd_{n}/mesh.med\")\n",
    "            os.system(f\"cp post_run {m}/{d}/jdd_{n}/\")\n",
    "            #echo $mesh/jdd_${n}/cas.data >> ll\n",
    "            if not m.startswith(\"Prism\") or n!= 2 :\n",
    "                run.addCase(f\"{m}/{d}/jdd_{n}\", \"jdd.data\")\n",
    "                list_dis.append(f\"{m}/{d}\")\n",
    "\n",
    "with open(\"extract_convergence\", \"r\") as file: fileconv = Template(file.read())\n",
    "result = fileconv.safe_substitute(list_dis=\" \".join(sorted(list(set(list(list_dis))))))\n",
    "with open(\"extract_convergence\", \"w\") as file: file.write(result)\n",
    "os.chdir(origin)\n",
    "\n",
    "run.printCases()\n",
    "run.runCases()\n",
    "run.executeScript(\"extract_convergence\")"
   ]
  },
  {
   "cell_type": "code",
   "execution_count": null,
   "id": "f027b633",
   "metadata": {},
   "outputs": [],
   "source": [
    "from trustutils import plot\n",
    "import matplotlib.colors as mcolors\n",
    "import pandas as pd\n",
    "c = list(mcolors.TABLEAU_COLORS.keys())\n",
    "linestyle = {\"PolyMAC\": (\"solid\", \"o\"), \"VDF\" : (\"dotted\", \"*\"), \"PolyMAC_P0\" : (\"dashed\", \"v\"), \"VEFPreP1B\" : (\"dashdot\", \"s\")}\n",
    "\n",
    "df = run.tablePerf()\n",
    "\n",
    "for dim, dic in [(2, m2d), (3, m3d)]:\n",
    "    a = plot.Graph(f\"Temps de calcul {dim}D\", nY=2)\n",
    "    for k, (m, (dis, _)) in enumerate(dic.items()):\n",
    "        df_m = df[df.index.map(lambda s: m in s)]\n",
    "        for d in dis:\n",
    "            df_md = df_m[df_m.index.map(lambda s: d in s)]\n",
    "            for i, metrique in enumerate([\"CPU time/step\", \"Total CPU Time\"]):\n",
    "                a.addPlot(i)\n",
    "                nbc = [float(n) for n in df_md[\"number of cells\"].tolist()]\n",
    "                tcpu = [float(t) for t in df_md[metrique].tolist()]\n",
    "                a.add(nbc, tcpu, title=f\"Maillages {dim}D\", label=f\"{m}-{d}\", color=c[k], linestyle=None, marker=linestyle[d][1], markersize=12)\n",
    "                a.label(f\"Number of cells\", metrique)\n"
   ]
  },
  {
   "cell_type": "markdown",
   "id": "9a7e2ff9",
   "metadata": {},
   "source": [
    "## Ordres de convergence"
   ]
  },
  {
   "cell_type": "code",
   "execution_count": null,
   "id": "alert-shock",
   "metadata": {
    "scrolled": false
   },
   "outputs": [],
   "source": [
    "import numpy as np\n",
    "from scipy.optimize import curve_fit\n",
    "\n",
    "def func(x, a, b): return a * x ** b\n",
    "\n",
    "for dim, dic in [(2, m2d), (3, m3d)]:\n",
    "    a = plot.Graph(f\"Maillages {dim}D\", nY=2)\n",
    "    for k, (m, (dis, ns)) in enumerate(dic.items()):\n",
    "        for d in dis:\n",
    "            for i, var in enumerate([\"v\", \"p\"]):\n",
    "                a.addPlot(i)\n",
    "                x_ = plot.loadText(f\"{m}/{d}/conv_glob_{var}\")\n",
    "                x, y = (np.power(x_[0], -1.0 / dim)).tolist(), x_[1].tolist()\n",
    "                try: (_, b), _ = curve_fit(func, x, y)\n",
    "                except: b = 0\n",
    "                a.add(x, y, label=f\"{m}-{d}, order={b:.2f}\", color=c[k], linestyle=linestyle[d][0], marker=linestyle[d][1], markersize=12)\n",
    "\n",
    "                a.label(f\"$Ne^{{-1/{dim}}}$\",f\"erreur L2 - {var}\")\n",
    "                a.scale(xscale='log',yscale='log')\n"
   ]
  },
  {
   "cell_type": "code",
   "execution_count": null,
   "id": "a301a576",
   "metadata": {},
   "outputs": [],
   "source": [
    "for dim, dic in [(2, m2d), (3, m3d)]:\n",
    "    a = plot.Graph(f\"Maillages {dim}D\", nY=2)\n",
    "    for k, (m, (dis, _)) in enumerate(dic.items()):\n",
    "        for d in dis:\n",
    "            for i, var in enumerate([\"v\", \"p\"]):\n",
    "                a.addPlot(i)\n",
    "                x_ = plot.loadText(f\"{m}/{d}/conv_glob_{var}\")\n",
    "                x, y = x_[2].tolist(), x_[1].tolist()\n",
    "                a.add(x, y, label=f\"{m}-{d}\", color=c[k], linestyle=linestyle[d][0], marker=linestyle[d][1], markersize=12)\n",
    "\n",
    "                a.label(f\"Temps de calcul\", f\"erreur L2 - {var}\")\n",
    "                a.scale(xscale='log',yscale='log')\n"
   ]
  }
 ],
 "metadata": {
  "kernelspec": {
   "display_name": "Python 3 (ipykernel)",
   "language": "python",
   "name": "python3"
  },
  "language_info": {
   "codemirror_mode": {
    "name": "ipython",
    "version": 3
   },
   "file_extension": ".py",
   "mimetype": "text/x-python",
   "name": "python",
   "nbconvert_exporter": "python",
   "pygments_lexer": "ipython3",
   "version": "3.7.9"
  },
  "toc-autonumbering": true
 },
 "nbformat": 4,
 "nbformat_minor": 5
}
