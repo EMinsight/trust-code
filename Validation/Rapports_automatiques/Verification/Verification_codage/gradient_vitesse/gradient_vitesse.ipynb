{
 "cells": [
  {
   "cell_type": "markdown",
   "id": "inappropriate-lingerie",
   "metadata": {},
   "source": [
    "# Check velocity gradient postprocessing"
   ]
  },
  {
   "cell_type": "code",
   "execution_count": null,
   "id": "1d1466f0",
   "metadata": {},
   "outputs": [],
   "source": [
    "from trustutils import run  \n",
    "\n",
    "run.introduction(\"Stephane Veys\")"
   ]
  },
  {
   "cell_type": "markdown",
   "id": "imperial-shield",
   "metadata": {},
   "source": [
    "### Description\n",
    "\n",
    "Here is checked the use of the keyword gradient\\_vitesse to visualize to velocity gradient for both VEF and VDF discretizations.\n",
    "We will see that the cross terms derivatives are wrong at corners when using VDF discretization, and the reasons will be explained.\n",
    "In 2D, the domain is the square $\\Omega_{2D} = [0;2] \\times [0;2]$ and in 3D the domain is the cube $\\Omega_{3D} = [0;2] \\times [0;2] \\times [0;2]$."
   ]
  },
  {
   "cell_type": "code",
   "execution_count": null,
   "id": "c5dc6942",
   "metadata": {},
   "outputs": [],
   "source": [
    "run.TRUST_parameters(\"1.8.0\")"
   ]
  },
  {
   "cell_type": "code",
   "execution_count": null,
   "id": "0868e968-9777-4954-80f4-46b58fe1b126",
   "metadata": {
    "tags": []
   },
   "outputs": [],
   "source": [
    "from trustutils import run  \n",
    "\n",
    "for dis in [\"VDF\", \"VEF\"]:\n",
    "    for d in [\"2D\", \"3D\"]:\n",
    "        run.addCase(\".\",f\"{d}_{dis}.data\")     \n",
    "\n",
    "run.printCases()\n",
    "run.runCases()"
   ]
  },
  {
   "cell_type": "markdown",
   "id": "e6c2c033-3d3d-40dd-9853-7ac2384d69d1",
   "metadata": {},
   "source": [
    "## 2D VDF discretization\n",
    "Let's consider the 2D velocity field\n",
    "$\\textbf{u} = \\left( \n",
    "\\begin{matrix} \n",
    "u \\\\ \n",
    "v \n",
    "\\end{matrix} \n",
    "\\right) \n",
    "= \n",
    "\\left( \\begin{matrix} x+2y \\\\ 1/2~x^2+1/2~y^2 \\end{matrix} \\right)$ \n",
    "\n",
    "So can write the gradient matrix as following  : \n",
    "$$\\nabla \\textbf{v} = \\left( \\begin{matrix} \\partial u / \\partial x & \\partial u / \\partial y \\\\  \\partial v / \\partial x & \\partial v / \\partial y \\end{matrix} \\right) = \\left( \\begin{matrix} 1 & 2 \\\\ x & y \\end{matrix} \\right)$$"
   ]
  },
  {
   "cell_type": "markdown",
   "id": "a75037eb-7e2c-42c0-9844-b0359e4fae71",
   "metadata": {},
   "source": [
    "###  Visualization of $\\partial u/\\partial x$"
   ]
  },
  {
   "cell_type": "code",
   "execution_count": null,
   "id": "e17ba39f-321c-4127-b8ba-bb91b943f614",
   "metadata": {
    "tags": []
   },
   "outputs": [],
   "source": [
    "from trustutils import visit\n",
    "visit.showField(\"2D_VDF.lata\",\"Pseudocolor\",\"DU_DX_ELEM_dom\")"
   ]
  },
  {
   "cell_type": "markdown",
   "id": "b16e09a9-f19a-4ef3-a578-0ab8d06f61dd",
   "metadata": {},
   "source": [
    "###  Visualization of $\\partial u/\\partial y$"
   ]
  },
  {
   "cell_type": "code",
   "execution_count": null,
   "id": "f27afe1e-8cbd-4d29-88ca-050dbb867562",
   "metadata": {
    "tags": []
   },
   "outputs": [],
   "source": [
    "from trustutils import visit\n",
    "visit.showField(\"2D_VDF.lata\",\"Pseudocolor\",\"DU_DY_ELEM_dom\")"
   ]
  },
  {
   "cell_type": "markdown",
   "id": "4d226b5f-934e-46d2-80b9-3c27adc31fb3",
   "metadata": {},
   "source": [
    "###  Visualization of $\\partial v/\\partial x$"
   ]
  },
  {
   "cell_type": "code",
   "execution_count": null,
   "id": "8ae2c127-07bf-4888-8df7-60ba76297318",
   "metadata": {
    "tags": []
   },
   "outputs": [],
   "source": [
    "from trustutils import visit\n",
    "visit.showField(\"2D_VDF.lata\",\"Pseudocolor\",\"DV_DX_ELEM_dom\")"
   ]
  },
  {
   "cell_type": "markdown",
   "id": "9481a6c5-e184-4784-9adb-e1221966a127",
   "metadata": {},
   "source": [
    "###  Visualization of $\\partial v/\\partial y$"
   ]
  },
  {
   "cell_type": "code",
   "execution_count": null,
   "id": "79037618-d9c9-4a13-8484-09c67376b741",
   "metadata": {
    "tags": []
   },
   "outputs": [],
   "source": [
    "from trustutils import visit\n",
    "visit.showField(\"2D_VDF.lata\",\"Pseudocolor\",\"DV_DY_ELEM_dom\")"
   ]
  },
  {
   "cell_type": "markdown",
   "id": "67e7342b-d2e7-459d-822b-1a9d699d78f9",
   "metadata": {},
   "source": [
    "## 2D VEF discretization \n",
    "As for the 2D VDF discretization, let's consider the 2D velocity field $\\textbf{u} = \\left( \\begin{matrix} u \\\\ v \\end{matrix} \\right) = \\left( \\begin{matrix} x+2y \\\\ 1/2~x^2+1/2~y^2 \\end{matrix} \\right)$ \n",
    "\n",
    "So can write the gradient matrix as following  : \n",
    "$$\\nabla \\textbf v = \\left( \\begin{matrix} \\partial u / \\partial x & \\partial u / \\partial y \\\\  \\partial v / \\partial x & \\partial v / \\partial y \\end{matrix} \\right) = \\left( \\begin{matrix} 1 & 2 \\\\ x & y \\end{matrix} \\right)$$"
   ]
  },
  {
   "cell_type": "markdown",
   "id": "9cdc0d86-e778-441c-82eb-7e8882b3b4c3",
   "metadata": {},
   "source": [
    "### Visualization of $\\partial u / \\partial x$"
   ]
  },
  {
   "cell_type": "code",
   "execution_count": null,
   "id": "11390978-9b50-4133-9a49-ebd163352a42",
   "metadata": {
    "tags": []
   },
   "outputs": [],
   "source": [
    "from trustutils import visit\n",
    "visit.showField(\"2D_VDF.lata\",\"Pseudocolor\",\"DU_DX_ELEM_dom\")"
   ]
  },
  {
   "cell_type": "markdown",
   "id": "5a2d4c19-23d7-4eab-afdd-24f5a712bd3a",
   "metadata": {},
   "source": [
    "### Visualization of $\\partial u / \\partial y$"
   ]
  },
  {
   "cell_type": "code",
   "execution_count": null,
   "id": "c70f7ec5-bdd3-4008-b179-62fb61bd9585",
   "metadata": {
    "tags": []
   },
   "outputs": [],
   "source": [
    "from trustutils import visit\n",
    "visit.showField(\"2D_VDF.lata\",\"Pseudocolor\",\"DU_DY_ELEM_dom\")"
   ]
  },
  {
   "cell_type": "markdown",
   "id": "4bf05bc9-efea-4910-87a4-a65820d719c3",
   "metadata": {},
   "source": [
    "### Visualization of $\\partial v / \\partial y$"
   ]
  },
  {
   "cell_type": "code",
   "execution_count": null,
   "id": "400989bf-c8eb-4103-8e6f-14b71fe7ecb4",
   "metadata": {
    "tags": []
   },
   "outputs": [],
   "source": [
    "from trustutils import visit\n",
    "visit.showField(\"2D_VDF.lata\",\"Pseudocolor\",\"DV_DX_ELEM_dom\")"
   ]
  },
  {
   "cell_type": "markdown",
   "id": "00f226ec-9765-4de7-8ed4-6cf53b10178e",
   "metadata": {},
   "source": [
    "### Visualization of $\\partial v / \\partial y$"
   ]
  },
  {
   "cell_type": "code",
   "execution_count": null,
   "id": "a4bf1207-5d58-4543-9257-d0a0eb484876",
   "metadata": {
    "tags": []
   },
   "outputs": [],
   "source": [
    "from trustutils import visit\n",
    "visit.showField(\"2D_VDF.lata\",\"Pseudocolor\",\"DV_DY_ELEM_dom\")"
   ]
  },
  {
   "cell_type": "markdown",
   "id": "e66d98ba-b0f0-41bc-9be9-e6d3efe6715d",
   "metadata": {},
   "source": [
    "## 3D VDF discretization\n",
    "Let's consider the 3D velocity field $\\textbf{u} = \\left( \\begin{matrix} u \\\\ v \\\\ w \\end{matrix} \\right) = \\left( \\begin{matrix} x+2y+3*z \\\\ 1/2~x^2+1/2~y^2+1/2~z^2 \\\\ 1/3~x^3+1/3~y^3+1/3~z^3 \\end{matrix} \\right)$\n",
    "\n",
    "So can write the gradient matrix as following: \n",
    "\n",
    "$$\\nabla \\textbf v = \\left( \\begin{matrix} \\partial u / \\partial x & \\partial u / \\partial y & \\partial u / \\partial z \\\\  \\partial v / \\partial x & \\partial v / \\partial y & \\partial v / \\partial z \\\\ \\partial w / \\partial x & \\partial w / \\partial y / & \\partial w / \\partial z \\end{matrix} \\right) = \\left( \\begin{matrix} 1 & 2 & 3 \\\\ x & y & z \\\\ x^2 & y^2 & z^2 \\end{matrix} \\right)$$"
   ]
  },
  {
   "cell_type": "markdown",
   "id": "1b981550-d8ab-4aae-8b00-74cf71cc5a13",
   "metadata": {},
   "source": [
    "### Visualization of $\\partial u / \\partial x$"
   ]
  },
  {
   "cell_type": "code",
   "execution_count": null,
   "id": "d9a75155-4653-4262-b3f4-b75b9b9680a7",
   "metadata": {
    "tags": []
   },
   "outputs": [],
   "source": [
    "from trustutils import visit\n",
    "a = visit.Show(\"3D_VDF.lata\",\"Pseudocolor\",\"DU_DX_ELEM_dom\",plotmesh=False)\n",
    "a.normal3D([0.5,0.25,0.5])\n",
    "a.plot()"
   ]
  },
  {
   "cell_type": "markdown",
   "id": "a896e3be-0011-4d72-bcb5-172a2e730e30",
   "metadata": {},
   "source": [
    "### Visualization of $\\partial u / \\partial y$"
   ]
  },
  {
   "cell_type": "code",
   "execution_count": null,
   "id": "b34dae59-5208-42f4-837b-522c54ac77dd",
   "metadata": {
    "tags": []
   },
   "outputs": [],
   "source": [
    "from trustutils import visit\n",
    "a = visit.Show(\"3D_VDF.lata\",\"Pseudocolor\",\"DU_DY_ELEM_dom\",plotmesh=False)\n",
    "a.normal3D([0.5,0.25,0.5])\n",
    "a.plot()\n"
   ]
  },
  {
   "cell_type": "markdown",
   "id": "83256ee6-34e9-450d-a4f4-8451c42c06d7",
   "metadata": {},
   "source": [
    "### Visualization of $\\partial u / \\partial y$"
   ]
  },
  {
   "cell_type": "code",
   "execution_count": null,
   "id": "04721fe8-e108-4ca0-8b74-7406c89a62a7",
   "metadata": {
    "tags": []
   },
   "outputs": [],
   "source": [
    "from trustutils import visit\n",
    "a = visit.Show(\"3D_VDF.lata\",\"Pseudocolor\",\"DU_DZ_ELEM_dom\",plotmesh=False)\n",
    "a.normal3D([0.5,0.25,0.5])\n",
    "a.plot()\n"
   ]
  },
  {
   "cell_type": "markdown",
   "id": "4a82eb2b-9ffb-4245-8483-bfaf4137c735",
   "metadata": {},
   "source": [
    "### Visualization of $\\partial v / \\partial x$"
   ]
  },
  {
   "cell_type": "code",
   "execution_count": null,
   "id": "5e395e8e-4c9d-4d68-a527-1986333a0db6",
   "metadata": {},
   "outputs": [],
   "source": [
    "from trustutils import visit\n",
    "a = visit.Show(\"3D_VDF.lata\",\"Pseudocolor\",\"DV_DX_ELEM_dom\",plotmesh=False)\n",
    "a.normal3D([0.5,0.25,0.5])\n",
    "a.plot()"
   ]
  },
  {
   "cell_type": "markdown",
   "id": "552d278f-46c2-46da-a3b5-2ca476b701d3",
   "metadata": {},
   "source": [
    "### Visualization of $\\partial v / \\partial y$"
   ]
  },
  {
   "cell_type": "code",
   "execution_count": null,
   "id": "b0e7973d-4ad5-4ea2-9fcb-488e21e65ede",
   "metadata": {},
   "outputs": [],
   "source": [
    "a = visit.Show(\"3D_VDF.lata\",\"Pseudocolor\",\"DV_DY_ELEM_dom\",plotmesh=False)\n",
    "a.normal3D([0.5,0.25,0.5])\n",
    "a.plot()"
   ]
  },
  {
   "cell_type": "markdown",
   "id": "9b579dea-a8bc-4d23-b4be-741e4eca005a",
   "metadata": {},
   "source": [
    "### Visualization of $\\partial v / \\partial z$"
   ]
  },
  {
   "cell_type": "code",
   "execution_count": null,
   "id": "b71a1cce-1ebb-475a-9f4a-eeb2ef6dbbf4",
   "metadata": {
    "tags": []
   },
   "outputs": [],
   "source": [
    "a = visit.Show(\"3D_VDF.lata\",\"Pseudocolor\",\"DV_DZ_ELEM_dom\",plotmesh=False)\n",
    "a.normal3D([0.5,0.25,0.5])\n",
    "a.plot()"
   ]
  },
  {
   "cell_type": "markdown",
   "id": "c9a0765d-3a26-4fb9-8cfa-c9fc7ab0537d",
   "metadata": {},
   "source": [
    "### Visualization of $\\partial w / \\partial x$"
   ]
  },
  {
   "cell_type": "code",
   "execution_count": null,
   "id": "9223c738-7b7c-4f41-ba5e-0fcea8824908",
   "metadata": {
    "tags": []
   },
   "outputs": [],
   "source": [
    "a = visit.Show(\"3D_VDF.lata\",\"Pseudocolor\",\"DW_DX_ELEM_dom\",plotmesh=False)\n",
    "a.normal3D([0.5,0.25,0.5])\n",
    "a.plot()"
   ]
  },
  {
   "cell_type": "markdown",
   "id": "8d12d96f-71e8-4d30-a2a4-5558abf7ce58",
   "metadata": {},
   "source": [
    "### Visualization of $\\partial w / \\partial y$"
   ]
  },
  {
   "cell_type": "code",
   "execution_count": null,
   "id": "1fdbe07f-88b0-4f5d-b32c-a78df969b0ed",
   "metadata": {
    "tags": []
   },
   "outputs": [],
   "source": [
    "a = visit.Show(\"3D_VDF.lata\",\"Pseudocolor\",\"DW_DY_ELEM_dom\",plotmesh=False)\n",
    "a.normal3D([0.5,0.25,0.5])\n",
    "a.plot()"
   ]
  },
  {
   "cell_type": "markdown",
   "id": "8501d828-50a1-4e10-b8c2-a1ab2de7b3be",
   "metadata": {},
   "source": [
    "### Visualization of $\\partial w / \\partial z$"
   ]
  },
  {
   "cell_type": "code",
   "execution_count": null,
   "id": "68fc082b-4e17-4964-ab86-b417a1abf706",
   "metadata": {
    "tags": []
   },
   "outputs": [],
   "source": [
    "a = visit.Show(\"3D_VDF.lata\",\"Pseudocolor\",\"DW_DZ_ELEM_dom\",plotmesh=False)\n",
    "a.normal3D([0.5,0.25,0.5])\n",
    "a.plot()"
   ]
  },
  {
   "cell_type": "markdown",
   "id": "d5fc3d39-e472-4218-b63c-02b2846abbc0",
   "metadata": {
    "tags": []
   },
   "source": [
    "## 3D VEF discretization\n",
    "As for the 3D VDF discretization, let's consider the 3D velocity field $\\textbf{u} = \\left( \\begin{matrix} u \\\\ v \\\\ w \\end{matrix} \\right) = \\left( \\begin{matrix} x+2y+3*z \\\\ 1/2~x^2+1/2~y^2+1/2~z^2 \\\\ 1/3~x^3+1/3~y^3+1/3~z^3 \\end{matrix} \\right)$\n",
    "\n",
    "So can write the gradient matrix as following: \n",
    "$$\\nabla \\textbf v = \\left( \\begin{matrix} \\partial u / \\partial x & \\partial u / \\partial y & \\partial u / \\partial z \\\\  \\partial v / \\partial x & \\partial v / \\partial y & \\partial v / \\partial z \\\\ \\partial w / \\partial x & \\partial w / \\partial y / & \\partial w / \\partial z \\end{matrix} \\right) = \\left( \\begin{matrix} 1 & 2 & 3 \\\\ x & y & z \\\\ x^2 & y^2 & z^2 \\end{matrix} \\right)$$"
   ]
  },
  {
   "cell_type": "markdown",
   "id": "95c94714-79ea-46ad-bcf2-5265387bf8f4",
   "metadata": {},
   "source": [
    "### Visualization of $\\partial u / \\partial x$"
   ]
  },
  {
   "cell_type": "code",
   "execution_count": null,
   "id": "90f973dc-3fa3-4bce-bd14-7316c2e5bc91",
   "metadata": {
    "tags": []
   },
   "outputs": [],
   "source": [
    "a = visit.Show(\"3D_VEF.lata\",\"Pseudocolor\",\"DU_DX_ELEM_dom\",plotmesh=False)\n",
    "a.normal3D([0.5,0.25,0.5])\n",
    "a.plot()"
   ]
  },
  {
   "cell_type": "markdown",
   "id": "90f628cd-facf-4eb8-b777-3d473fc24982",
   "metadata": {},
   "source": [
    "### Visualization of $\\partial u / \\partial y$"
   ]
  },
  {
   "cell_type": "code",
   "execution_count": null,
   "id": "73fb5b25-c03c-44fe-a25b-fff3521bfd8d",
   "metadata": {
    "tags": []
   },
   "outputs": [],
   "source": [
    "a = visit.Show(\"3D_VEF.lata\",\"Pseudocolor\",\"DU_DY_ELEM_dom\",plotmesh=False)\n",
    "a.normal3D([0.5,0.25,0.5])\n",
    "a.plot()"
   ]
  },
  {
   "cell_type": "markdown",
   "id": "9db11ac0-8b81-4bda-b2e9-f231f24b6cd6",
   "metadata": {},
   "source": [
    "### Visualization of $\\partial u / \\partial z$"
   ]
  },
  {
   "cell_type": "code",
   "execution_count": null,
   "id": "28324785-9f09-48f6-95d3-cb798b175c10",
   "metadata": {
    "tags": []
   },
   "outputs": [],
   "source": [
    "a = visit.Show(\"3D_VEF.lata\",\"Pseudocolor\",\"DU_DZ_ELEM_dom\",plotmesh=False)\n",
    "a.normal3D([0.5,0.25,0.5])\n",
    "a.plot()"
   ]
  },
  {
   "cell_type": "markdown",
   "id": "3cd309f9-a0d0-4527-89f4-1bb82f2b7d7c",
   "metadata": {},
   "source": [
    "### Visualization of $\\partial v / \\partial x$"
   ]
  },
  {
   "cell_type": "code",
   "execution_count": null,
   "id": "b3c8b092-f688-49b4-8f0e-57785034200b",
   "metadata": {
    "tags": []
   },
   "outputs": [],
   "source": [
    "a = visit.Show(\"3D_VEF.lata\",\"Pseudocolor\",\"DV_DX_ELEM_dom\",plotmesh=False)\n",
    "a.normal3D([0.5,0.25,0.5])\n",
    "a.plot()"
   ]
  },
  {
   "cell_type": "markdown",
   "id": "cb4fd44d-a545-49af-9976-a214ad5349a7",
   "metadata": {},
   "source": [
    "### Visualization of $\\partial v / \\partial y$"
   ]
  },
  {
   "cell_type": "code",
   "execution_count": null,
   "id": "c689af04-7af7-4f75-af45-530ae417c4bf",
   "metadata": {
    "tags": []
   },
   "outputs": [],
   "source": [
    "a = visit.Show(\"3D_VEF.lata\",\"Pseudocolor\",\"DV_DY_ELEM_dom\",plotmesh=False)\n",
    "a.normal3D([0.5,0.25,0.5])\n",
    "a.plot()"
   ]
  },
  {
   "cell_type": "markdown",
   "id": "04b01d47-790e-4a04-8a8b-277aa40d141c",
   "metadata": {},
   "source": [
    "### Visualization of $\\partial v / \\partial z$"
   ]
  },
  {
   "cell_type": "code",
   "execution_count": null,
   "id": "844ef0d4-e655-4b80-9a28-ef0f559bb726",
   "metadata": {
    "tags": []
   },
   "outputs": [],
   "source": [
    "a = visit.Show(\"3D_VEF.lata\",\"Pseudocolor\",\"DV_DZ_ELEM_dom\",plotmesh=False)\n",
    "a.normal3D([0.5,0.25,0.5])\n",
    "a.plot()"
   ]
  },
  {
   "cell_type": "markdown",
   "id": "4569e7c6-5602-47e3-b273-09e5ee0a4f2d",
   "metadata": {},
   "source": [
    "### Visualization of $\\partial w / \\partial x$"
   ]
  },
  {
   "cell_type": "code",
   "execution_count": null,
   "id": "b8b20bd2-76a6-41cb-be41-68e9fd754389",
   "metadata": {
    "tags": []
   },
   "outputs": [],
   "source": [
    "a = visit.Show(\"3D_VEF.lata\",\"Pseudocolor\",\"DW_DX_ELEM_dom\",plotmesh=False)\n",
    "a.normal3D([0.5,0.25,0.5])\n",
    "a.plot()"
   ]
  },
  {
   "cell_type": "markdown",
   "id": "4a1491b8-daf8-4e5d-befc-60cafd63e775",
   "metadata": {},
   "source": [
    "### Visualization of $\\partial w / \\partial y$"
   ]
  },
  {
   "cell_type": "code",
   "execution_count": null,
   "id": "02ed37d6-31bb-4d38-a427-9155128e9a69",
   "metadata": {
    "tags": []
   },
   "outputs": [],
   "source": [
    "a = visit.Show(\"3D_VEF.lata\",\"Pseudocolor\",\"DW_DY_ELEM_dom\",plotmesh=False)\n",
    "a.normal3D([0.5,0.25,0.5])\n",
    "a.plot()"
   ]
  },
  {
   "cell_type": "markdown",
   "id": "ed4d29a1-8255-4286-9c77-4ee1b51a1acc",
   "metadata": {},
   "source": [
    "### Visualization of $\\partial w / \\partial z$"
   ]
  },
  {
   "cell_type": "code",
   "execution_count": null,
   "id": "0cb68bc9-0d27-4bc3-b4b9-b956d4e2dd0e",
   "metadata": {
    "tags": []
   },
   "outputs": [],
   "source": [
    "a = visit.Show(\"3D_VEF.lata\",\"Pseudocolor\",\"DW_DZ_ELEM_dom\",plotmesh=False)\n",
    "a.normal3D([0.5,0.25,0.5])\n",
    "a.plot()"
   ]
  },
  {
   "cell_type": "markdown",
   "id": "5da0b7d1-2c4c-40b0-9735-554ce794787f",
   "metadata": {},
   "source": [
    "### Explanations \n",
    "\n",
    "![](src/explanation_duidxj.jpg)\n",
    "\n",
    "As we can see on figures, the values of cross terms are wrong at corners of $\\Omega_{2D}$  or $\\Omega_{3D}$  when VDF discretization is considered.\n",
    "In 2D these terms are $\\partial u / \\partial y$  and $\\partial v / \\partial x$.\n",
    "In 3D these terms are $\\partial u / \\partial y$ , $\\partial u / \\partial z$ , $\\partial v / \\partial x$ , $\\partial v / \\partial z$ , $\\partial w / \\partial x$  and $\\partial w / \\partial y$.\n",
    "When the keywork gradient_vitesse is used to postprocess the velocity gradient in VDF, the method Champ_Face::calcul_grad_u is called. This method calls Champ_Face::calcul_duidxj to compute derivatives.\n",
    "To compute cross terms, a loop over vertices in 2D (resp. edges in 3D) is performed, whereas a loop over elements is used to compute other terms.\n",
    "In the following, only the 2D case is considered for simplicity but the reasoning remains valid in 3D.\n",
    "\n",
    "Let's explain how is computed a derivative and where is it located.\n",
    "On the figure 1, only the first component u of the velocity field computed at the blue point is considered for simplicity. The control volume associated to this unknown is the grey part. \n",
    "Cross terms, in red on the figure 1, are computed at vertices, whereas other derivatives, in blue on the figure 1, are computed at the center of elements.\n",
    "Cross terms are then interpolated at the center of elements. To compute $\\partial u/\\partial x$  at point A, values of $u$  and  $u_L$ , while  $u$  and  $u_R$  are used to compute this $\\partial u/\\partial x$  at point C. In the same way, to compute $\\partial u/\\partial y$  at point B, $u$  and  $u_T$ , while  $u$  and  $u_B$  are used to compute this $\\partial u/\\partial y$  at point D.\" \n",
    "Considering one direction for the derivative (for example $\\partial u/\\partial y$ ), each element has 4 vertices in 2D, or edges in 3D, where are located these derivatives, that is why the contribution of each vertex (resp. edge) is weighted by 0.25.\n",
    "\t\n",
    "As detected by the visulaization, the problem appears when computing derivatives on vertices located at the corner of the domain. Indeed, when dealing with non-periodic conditions, vertices located at corners don't contribute in the computation of derivatives, that is why at corner elements, cross terms derivatives are under-evaluated.\n",
    "The question that remains outstanding is : how to compute these vertices contribution ?\n",
    "\n",
    "\t\n",
    "First of all, let's have a look on vertices located at boundaries of the domain, how is computed these vertices contribution. As illustrated by the figure 2, an important information is missing to compute $\\partial u/\\partial y$ . On the boundary we have only access to the second velocity field component at points $v_L$ and $v_R$ . To bypass this problem, we recover the value of the first component using given boundary conditions via Champ_Face::val_imp_face_bord_private. Thanks to this, we get values of the first component of the velocity located at points $v_L$ and $v_R$ , and then an average is performed to have the value of $u_T$ . Now, it is possible to compute  compute $\\partial u/\\partial y$  on the boundary using $u$ and $u_T$ .\n",
    "\n",
    "\n",
    "Now, let's consider a vertex located on a corner. By restricting us to (only) edges associated to this vertex, it is impossible to compute derivatives. Indeed, we have only access to one value of the field in each direction ( $u_0$ and $v_0$  on figure 3 ) and the only thing that we can do is approximate components of the velocity field by constant whereas the field is linear, so it is clearly not sufficient !\n",
    "An idea to compute derivatives at corners is to extend what is done on boundaries. To do that, we need also to consider edges of neighbours to have access to $u_1$ and $v_1$ . By doing this, we can perform an extrapolation to have values of the velocity field at the corner. For the first component we use $u_0$ and $u_1$  and logically we use $v_0$ and $v_1$  to deal with the second component. Now, the value of $u$  at the corner can be deduced by $u = u_0+(u_0-u_1)/2$ . In the same way the value of $v$  at the corner can be deduced by $v = v_0+(v_0-v_1)/2$ . Then, cross terms can be computed using $u$ and $u_0$  on the one hand, and $v$ and $v_0$  on the other hand.\n",
    "\n",
    "\n",
    "Today, the computation of derivatives at corners is not corrected because of lack of time and resources."
   ]
  }
 ],
 "metadata": {
  "kernelspec": {
   "display_name": "Python 3 (ipykernel)",
   "language": "python",
   "name": "python3"
  },
  "language_info": {
   "codemirror_mode": {
    "name": "ipython",
    "version": 3
   },
   "file_extension": ".py",
   "mimetype": "text/x-python",
   "name": "python",
   "nbconvert_exporter": "python",
   "pygments_lexer": "ipython3",
   "version": "3.7.9"
  }
 },
 "nbformat": 4,
 "nbformat_minor": 5
}
