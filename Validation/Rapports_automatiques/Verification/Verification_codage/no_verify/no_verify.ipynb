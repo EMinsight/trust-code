{
 "cells": [
  {
   "cell_type": "markdown",
   "id": "inappropriate-lingerie",
   "metadata": {},
   "source": [
    "# Check no_verify option"
   ]
  },
  {
   "cell_type": "code",
   "execution_count": null,
   "id": "496d5cac",
   "metadata": {},
   "outputs": [],
   "source": [
    "from trustutils import run  \n",
    "\n",
    "run.introduction(\"Stephane Veys\")\n",
    "\n",
    "run.TRUST_parameters(\"1.8.0\")"
   ]
  },
  {
   "cell_type": "markdown",
   "id": "f4633196",
   "metadata": {},
   "source": [
    "### Description: \n",
    "\n",
    "This is to check no verify option."
   ]
  },
  {
   "cell_type": "code",
   "execution_count": null,
   "id": "0868e968-9777-4954-80f4-46b58fe1b126",
   "metadata": {
    "tags": []
   },
   "outputs": [],
   "source": [
    "from trustutils import run  \n",
    "run.addCase(\".\",\"no_verify.data\")\n",
    "run.printCases()\n",
    "run.runCases()"
   ]
  },
  {
   "cell_type": "markdown",
   "id": "e6c2c033-3d3d-40dd-9853-7ac2384d69d1",
   "metadata": {},
   "source": [
    "## How the option is verified \n",
    "The command-line option no_verify is introduced to allow to read data files without checking obsolete keywords.It can be interesting when dealing with a very long data file.\n",
    "The usage is the following : trust MyJDD.data -no_verify.\n",
    "The special obsolete keyword Read_MED_For_Testing_No_Verify_Option, that is equivalent to Read_MED keyword, was introduced in order to check the good behavior of this option.\n",
    "The test consists in reading a MED file using the obsolete keyword Read_MED_For_Testing_No_Verify_Option. First, the data file is read whithout the option no_verify so TRUST detects the obsolete keywords and stops the run. Then the option no_verify is used and all is ok."
   ]
  },
  {
   "cell_type": "markdown",
   "id": "d6135dc9-7cbf-4d82-af2f-91e07f1cdb7b",
   "metadata": {},
   "source": [
    "## Shared log file in HDF5 format "
   ]
  },
  {
   "cell_type": "code",
   "execution_count": null,
   "id": "ad299aa8-d5fe-4fcd-b2da-8431917819d9",
   "metadata": {},
   "outputs": [],
   "source": [
    "run.dumpText(\"my_text1\")"
   ]
  },
  {
   "cell_type": "code",
   "execution_count": null,
   "id": "fab0e346",
   "metadata": {},
   "outputs": [],
   "source": [
    "run.dumpText(\"my_text2\")"
   ]
  }
 ],
 "metadata": {},
 "nbformat": 4,
 "nbformat_minor": 5
}
