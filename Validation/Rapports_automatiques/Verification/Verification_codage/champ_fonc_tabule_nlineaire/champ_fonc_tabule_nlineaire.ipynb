{
 "cells": [
  {
   "cell_type": "markdown",
   "id": "f00c33c7",
   "metadata": {},
   "source": [
    "# Vérification du codage des champ_fonc_tabule\n",
    "## Introduction\n",
    "Cette fiche utilise le nouveau codage des champ_fonc_tabule, accepant un nombre arbitraire de champs paramètre. La formule d'interpolation n-linéaire codée est expliquée ici par exemple :\n",
    "https://paulusolaus.com/blog/n-linear-interpolation/"
   ]
  },
  {
   "cell_type": "code",
   "execution_count": null,
   "id": "electoral-rebound",
   "metadata": {},
   "outputs": [],
   "source": [
    "from trustutils import run\n",
    "\n",
    "run.introduction(\"Yannick Gorsse\")\n",
    "run.description(\"La formule générale est vérifiée avec la formule analytique pour 2 paramètres (interpolation bilinéaire), et de facon qualitative pour 3 paramètres (interpolation trilinéaire).\")\n",
    "run.TRUST_parameters()"
   ]
  },
  {
   "cell_type": "markdown",
   "id": "invisible-subscriber",
   "metadata": {},
   "source": [
    "## Fontion Jupyter-Run"
   ]
  },
  {
   "cell_type": "code",
   "execution_count": null,
   "id": "wired-celtic",
   "metadata": {
    "tags": []
   },
   "outputs": [],
   "source": [
    "from trustutils import run\n",
    "\n",
    "# Ici on ajoute un cas qu'on veut lancer, en specifiant le nombre de processeurs qu'on veut (valeur par defaut=1)\n",
    "casS=run.addCase(\".\",\"jdd_bilineaire.data\")\n",
    "casT=run.addCase(\".\",\"jdd_trilineaire.data\")\n",
    "\n",
    "# Methode pour lancer les cas tests\n",
    "run.runCases()"
   ]
  },
  {
   "cell_type": "code",
   "execution_count": null,
   "id": "arbitrary-basket",
   "metadata": {
    "scrolled": false,
    "tags": []
   },
   "outputs": [],
   "source": [
    "from trustutils import visit\n",
    "\n",
    "p = visit.Show(\"jdd_bilineaire.lata\",\"Pseudocolor\",\"DILATABILITE_ELEM_dom\",plotmesh=False, nY=2)\n",
    "p.add(\"jdd_bilineaire.lata\",\"Pseudocolor\", \"ERREUR_INTERP_ELEM_dom\",1)\n",
    "p.plot()"
   ]
  },
  {
   "cell_type": "code",
   "execution_count": null,
   "id": "32ff8b9d",
   "metadata": {},
   "outputs": [],
   "source": [
    "from trustutils import visit\n",
    "\n",
    "p = visit.Show(\"jdd_trilineaire.lata\",\"Pseudocolor\",\"DILATABILITE_ELEM_dom\",plotmesh=False)\n",
    "p.rotation3D([30,0,20])\n",
    "p.visuOptions([\"no_axes\"])\n",
    "p.plot()"
   ]
  }
 ],
 "metadata": {
  "kernelspec": {
   "display_name": "Python 3 (ipykernel)",
   "language": "python",
   "name": "python3"
  },
  "language_info": {
   "codemirror_mode": {
    "name": "ipython",
    "version": 3
   },
   "file_extension": ".py",
   "mimetype": "text/x-python",
   "name": "python",
   "nbconvert_exporter": "python",
   "pygments_lexer": "ipython3",
   "version": "3.7.9"
  },
  "toc-autonumbering": true
 },
 "nbformat": 4,
 "nbformat_minor": 5
}
