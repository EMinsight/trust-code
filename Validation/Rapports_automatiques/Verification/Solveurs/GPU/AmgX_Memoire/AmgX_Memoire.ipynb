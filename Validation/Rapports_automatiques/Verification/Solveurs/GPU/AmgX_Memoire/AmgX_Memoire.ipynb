{
 "cells": [
  {
   "cell_type": "markdown",
   "id": "gross-patent",
   "metadata": {},
   "source": [
    "# Memory needs on GPU devices for different AmgX solvers"
   ]
  },
  {
   "cell_type": "markdown",
   "id": "perfect-entrepreneur",
   "metadata": {},
   "source": [
    "### Description \n",
    "Several AmgX multigrid solvers are tested.\n"
   ]
  },
  {
   "cell_type": "code",
   "execution_count": null,
   "id": "53528cf8",
   "metadata": {},
   "outputs": [],
   "source": [
    "from trustutils import run  \n",
    "run.TRUST_parameters()\n",
    "run.introduction('Pierre LEDAC')\n",
    "meshes=[\"16x16x16\",\"11x11x11\",\"6x6x6\"]\n",
    "cases=[(\"amgx_gc_c-amg\",\"AmgX CG/C-AMG\"),(\"amgx_gc_sa-amg\",\"AmgX CG/SA-AMG\"),(\"tuned_amgx_gc_c-amg\",\"Tuned AmgX CG/C-AMG\")]\n",
    "for mesh in meshes:\n",
    "    for case,label in cases:\n",
    "        run.addCase(mesh ,\"%s.data\" % case, 2)\n",
    "run.printCases()"
   ]
  },
  {
   "cell_type": "code",
   "execution_count": null,
   "id": "15189bb2-352d-48f9-85fa-64c4323e0f88",
   "metadata": {},
   "outputs": [],
   "source": [
    "run.runCases()"
   ]
  },
  {
   "cell_type": "markdown",
   "id": "c417736c",
   "metadata": {},
   "source": [
    "# Solver convergence on different meshes"
   ]
  },
  {
   "cell_type": "code",
   "execution_count": null,
   "id": "533d18d7",
   "metadata": {
    "scrolled": true
   },
   "outputs": [],
   "source": [
    "from trustutils import plot\n",
    "    \n",
    "for mesh in meshes:\n",
    "    a = plot.Graph(\"Mesh 40x\"+mesh+\": ||Ax(it)-b||/||Ax(0)-b|| during the fist time step:\",\"\",1,1,[10,5])\n",
    "    for case,label in cases:\n",
    "        cols = plot.loadText(mesh+\"/%s.res\" % case)\n",
    "        a.add(cols[0],cols[1],label=\"%s\" % label)\n",
    "    a.label(\"Iteration\",\"Residual\")\n",
    "    a.subplot.set_yscale('log')"
   ]
  },
  {
   "cell_type": "markdown",
   "id": "48ce152f",
   "metadata": {},
   "source": [
    "# Memory needed on GPU"
   ]
  },
  {
   "cell_type": "code",
   "execution_count": null,
   "id": "660df883",
   "metadata": {},
   "outputs": [],
   "source": [
    "headers=[\"Setup[GB]\",\"Solve[GB]\"]\n",
    "for mesh in [\"6x6x6\"]:\n",
    "    print(\"Mesh 40x\"+mesh+\":\")\n",
    "    a = plot.Table(headers)\n",
    "    for case,label in cases:\n",
    "        a.load(mesh+\"/%s.mem\" % case,\"%s\" % label)\n",
    "        print(a)\n",
    "a.print()\n",
    "meshes=[\"11x11x11\"]\n",
    "for mesh in meshes:\n",
    "    print(\"Mesh 40x\"+mesh+\":\")\n",
    "    b = plot.Table(headers)\n",
    "    for case,label in cases:\n",
    "        b.load(mesh+\"/%s.mem\" % case,\"%s\" % label)\n",
    "print(b)"
   ]
  },
  {
   "cell_type": "markdown",
   "id": "d27efb55",
   "metadata": {},
   "source": [
    "# Time needed on GPU"
   ]
  },
  {
   "cell_type": "code",
   "execution_count": null,
   "id": "f5945ca5",
   "metadata": {},
   "outputs": [],
   "source": [
    "headers=[\"Copy[s]\",\"Solve[s]\"]\n",
    "for mesh in meshes:\n",
    "    print(\"Mesh 40x\"+mesh+\":\")\n",
    "    a = plot.Table(headers)\n",
    "    for case,label in cases:\n",
    "        a.load(mesh+\"/%s.cpu\" % case,\"%s\" % label)\n",
    "    a.print()"
   ]
  },
  {
   "cell_type": "markdown",
   "id": "db57dabc",
   "metadata": {},
   "source": [
    "# Conclusions\n",
    "Classical multigrid (C-AMG) generally offer faster convergence but at a higher memory cost. Switch to SA-AMG preconditioner in case of memory issues.\n"
   ]
  },
  {
   "cell_type": "markdown",
   "id": "e8e31da8",
   "metadata": {},
   "source": [
    "### Computer performance:"
   ]
  },
  {
   "cell_type": "code",
   "execution_count": null,
   "id": "5505bee8",
   "metadata": {},
   "outputs": [],
   "source": [
    "run.tablePerf()"
   ]
  }
 ],
 "metadata": {
  "kernelspec": {
   "display_name": "Python 3 (ipykernel)",
   "language": "python",
   "name": "python3"
  },
  "language_info": {
   "codemirror_mode": {
    "name": "ipython",
    "version": 3
   },
   "file_extension": ".py",
   "mimetype": "text/x-python",
   "name": "python",
   "nbconvert_exporter": "python",
   "pygments_lexer": "ipython3",
   "version": "3.7.9"
  }
 },
 "nbformat": 4,
 "nbformat_minor": 5
}
