{
 "cells": [
  {
   "cell_type": "markdown",
   "id": "inappropriate-lingerie",
   "metadata": {},
   "source": [
    "# Verification option conservation energie en QC"
   ]
  },
  {
   "cell_type": "code",
   "execution_count": null,
   "id": "3ecdb3d9",
   "metadata": {},
   "outputs": [],
   "source": [
    "from trustutils import run  \n",
    "\n",
    "run.introduction(\"A. Gerschenfeld, Y. Gorsse\")\n",
    "run.description(\"Calculs menes en VDF et VEF.\")\n",
    "run.TRUST_parameters(\"1.8.0\")"
   ]
  },
  {
   "cell_type": "code",
   "execution_count": null,
   "id": "0868e968-9777-4954-80f4-46b58fe1b126",
   "metadata": {
    "tags": []
   },
   "outputs": [],
   "source": [
    "from trustutils import run\n",
    "\n",
    "for dis in [\"vdf\", \"vef\"]:\n",
    "    for c in [\"ancien\", \"divuT_moins_Tdivu\", \"divrhouT_moins_Tdivrhou\"]:\n",
    "        run.addCase(f\"{dis}_{c}\", \"test.data\")\n",
    "\n",
    "run.printCases()\n",
    "run.runCases()"
   ]
  },
  {
   "cell_type": "markdown",
   "id": "ede014b2-7fd7-40e0-9c93-990d096cc3e2",
   "metadata": {},
   "source": [
    "## Bilan de Convection de chaleur en VEF"
   ]
  },
  {
   "cell_type": "code",
   "execution_count": null,
   "id": "e62452b3-5cef-49f5-80bb-71de7ed68bb0",
   "metadata": {},
   "outputs": [],
   "source": [
    "from trustutils import plot\n",
    "\n",
    "t=plot.Table([\"in1\",\"in2\",\"out\",\"somme/3*in1\"]) \n",
    "t.addLine([[1752637500.0,3505275000.0,-5257912500.0,0.0]],\"theorie\")\n",
    "\n",
    "data=plot.loadText(\"vef_divrhouT_moins_Tdivrhou/test_pb_plenum_Convection_chaleur.out\",transpose=False,skiprows=1586)\n",
    "data[4]=(data[1]+data[2]+data[3])/(3*data[1])\n",
    "t.addLine([data[1:5]],\"vef_divrhouT_moins_Tdivrhou\")\n",
    "\n",
    "data=plot.loadText(\"vef_ancien/test_pb_plenum_Convection_chaleur.out\",transpose=False,skiprows=608)\n",
    "data[4]=(data[1]+data[2]+data[3])/(3*data[1])\n",
    "t.addLine([data[1:5]],\"vef_ancien\")\n",
    "\n",
    "data=plot.loadText(\"vef_divuT_moins_Tdivu/test_pb_plenum_Convection_chaleur.out\",transpose=False,skiprows=559)\n",
    "data[4]=(data[1]+data[2]+data[3])/(3*data[1])\n",
    "t.addLine([data[1:5]],\"vef_divuT_moins_Tdivu\")\n",
    "\n",
    "display(t)"
   ]
  },
  {
   "cell_type": "markdown",
   "id": "a6dc187b-f0e3-4f5a-9e35-6bc297eed37b",
   "metadata": {},
   "source": [
    "## Bilan de Convection de chaleur en VDF"
   ]
  },
  {
   "cell_type": "code",
   "execution_count": null,
   "id": "3f41ca0e-e92f-42d2-96ed-de5214d18055",
   "metadata": {},
   "outputs": [],
   "source": [
    "t=plot.Table([\"in1\",\"in2\",\"out\",\"somme/3*in1\"]) \n",
    "t.addLine([[1752637500.0,3505275000.0,-5257912500.0,0.0]],\"theorie\")\n",
    "\n",
    "data=plot.loadText(\"vdf_divrhouT_moins_Tdivrhou/test_pb_plenum_Convection_chaleur.out\",transpose=False,skiprows=52)\n",
    "data[4]=(data[1]+data[2]+data[3])/(3*data[1])\n",
    "t.addLine([data[1:5]],r\"vdf_divrhouT_moins_Tdivrhou\")\n",
    "\n",
    "data=plot.loadText(\"vdf_ancien/test_pb_plenum_Convection_chaleur.out\",transpose=False,skiprows=51)\n",
    "data[4]=(data[1]+data[2]+data[3])/(3*data[1])\n",
    "t.addLine([data[1:5]],r\"vdf_ancien\")\n",
    "\n",
    "data=plot.loadText(\"vdf_divuT_moins_Tdivu/test_pb_plenum_Convection_chaleur.out\",transpose=False,skiprows=51)\n",
    "data[4]=(data[1]+data[2]+data[3])/(3*data[1])\n",
    "t.addLine([data[1:5]],r\"vdf_divuT_moins_Tdivu\")\n",
    "\n",
    "display(t)"
   ]
  },
  {
   "cell_type": "markdown",
   "id": "b14edec9-3a21-411a-8a58-031c9faed5c3",
   "metadata": {},
   "source": [
    "## Computer performance"
   ]
  },
  {
   "cell_type": "code",
   "execution_count": null,
   "id": "13623f0b-3715-4338-9f4b-352378e09fa6",
   "metadata": {},
   "outputs": [],
   "source": [
    "run.tablePerf()"
   ]
  }
 ],
 "metadata": {
  "kernelspec": {
   "display_name": "Python 3 (ipykernel)",
   "language": "python",
   "name": "python3"
  },
  "language_info": {
   "codemirror_mode": {
    "name": "ipython",
    "version": 3
   },
   "file_extension": ".py",
   "mimetype": "text/x-python",
   "name": "python",
   "nbconvert_exporter": "python",
   "pygments_lexer": "ipython3",
   "version": "3.7.9"
  }
 },
 "nbformat": 4,
 "nbformat_minor": 5
}
