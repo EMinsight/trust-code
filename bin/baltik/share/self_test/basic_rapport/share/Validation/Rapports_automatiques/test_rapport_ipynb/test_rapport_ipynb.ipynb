{
 "cells": [
  {
   "cell_type": "markdown",
   "id": "12268173",
   "metadata": {},
   "source": [
    "### TRUST parameters\n",
    " \n",
    "* Version TRUST :  \n"
   ]
  },
  {
   "cell_type": "code",
   "execution_count": null,
   "id": "f4fee36d",
   "metadata": {},
   "outputs": [],
   "source": [
    "from trustutils import run\n",
    " \n",
    "run.addCase(\".\",\"Ecr_fic.data\")\n",
    "run.printCases()\n",
    "run.runCases()"
   ]
  },
  {
   "cell_type": "markdown",
   "id": "a6694e6c",
   "metadata": {},
   "source": [
    "## on ne fait rien ...\n",
    " \n"
   ]
  },
  {
   "cell_type": "markdown",
   "id": "8cffdee6",
   "metadata": {},
   "source": [
    "## Data Files"
   ]
  }
 ],
 "metadata": {},
 "nbformat": 4,
 "nbformat_minor": 5
}
