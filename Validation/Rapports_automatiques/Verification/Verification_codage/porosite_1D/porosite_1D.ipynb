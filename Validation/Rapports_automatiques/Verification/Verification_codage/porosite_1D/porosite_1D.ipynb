{
 "cells": [
  {
   "cell_type": "markdown",
   "id": "boolean-earth",
   "metadata": {},
   "source": [
    "# Ecoulement avec saut de porosite en 1D"
   ]
  },
  {
   "cell_type": "code",
   "execution_count": null,
   "id": "3bf0c69f",
   "metadata": {},
   "outputs": [],
   "source": [
    "from trustutils import run\n",
    "\n",
    "run.introduction(\"Y. Gorsse\")\n",
    "run.description(\"Ecoulement unidirectional, sans diffusion. Le domaine est 1D. On compare VDF, PolyMAC, CoviMAC à la solution qui satisfait la conservation de la charge\")\n",
    "run.TRUST_parameters()"
   ]
  },
  {
   "cell_type": "code",
   "execution_count": null,
   "id": "balanced-boating",
   "metadata": {
    "scrolled": false
   },
   "outputs": [],
   "source": [
    "from trustutils import run\n",
    "for dis in [\"VDF\", \"PolyMAC\", \"CoviMAC\"]:\n",
    "  run.addCase(dis ,\"jdd.data\")\n",
    "\n",
    "run.printCases()\n",
    "run.runCases()"
   ]
  },
  {
   "cell_type": "markdown",
   "id": "f03de334",
   "metadata": {},
   "source": [
    "## Residuals"
   ]
  },
  {
   "cell_type": "code",
   "execution_count": null,
   "id": "alert-shock",
   "metadata": {
    "scrolled": false
   },
   "outputs": [],
   "source": [
    "from trustutils import plot\n",
    "\n",
    "a=plot.Graph(\"Residus\")\n",
    "a.addResidu(\"VDF/jdd.dt_ev\",label=\"VDF\")\n",
    "a.addResidu(\"PolyMAC/jdd.dt_ev\",label=\"PolyMAC\")\n",
    "a.addResidu(\"CoviMAC/jdd.dt_ev\",label=\"CoviMAC\")\n",
    "\n",
    "a.scale(yscale='log')\n",
    "a.visu()\n"
   ]
  },
  {
   "cell_type": "code",
   "execution_count": null,
   "id": "78364c0e",
   "metadata": {},
   "outputs": [],
   "source": [
    "a=plot.Graph(\"Vitesse\",nY=2)\n",
    "a.addSegment(\"VDF/jdd_V_EX.son\",label=\"Analytic\",compo=1,marker='D',markerfacecolor='none')\n",
    "a.addSegment(\"VDF/jdd_V.son\",label=\"VDF\",compo=1)\n",
    "a.addSegment(\"PolyMAC/jdd_V.son\",label=\"PolyMAC\",compo=1)\n",
    "a.addSegment(\"CoviMAC/jdd_V.son\",label=\"CoviMAC\",compo=1)\n",
    "\n",
    "a.addPlot(1,\"Pression\")\n",
    "a.addSegment(\"VDF/jdd_P_EX.son\",label=\"Analytic\",marker='D',markerfacecolor='none')\n",
    "a.addSegment(\"VDF/jdd_P.son\",label=\"VDF\")\n",
    "a.addSegment(\"PolyMAC/jdd_P.son\",label=\"PolyMAC\")\n",
    "a.addSegment(\"CoviMAC/jdd_P.son\",label=\"CoviMAC\")\n",
    "\n",
    "a.visu()"
   ]
  }
 ],
 "metadata": {
  "kernelspec": {
   "display_name": "Python 3 (ipykernel)",
   "language": "python",
   "name": "python3"
  },
  "language_info": {
   "codemirror_mode": {
    "name": "ipython",
    "version": 3
   },
   "file_extension": ".py",
   "mimetype": "text/x-python",
   "name": "python",
   "nbconvert_exporter": "python",
   "pygments_lexer": "ipython3",
   "version": "3.7.9"
  },
  "toc-autonumbering": true
 },
 "nbformat": 4,
 "nbformat_minor": 5
}
