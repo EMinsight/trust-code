{
 "cells": [
  {
   "cell_type": "code",
   "execution_count": null,
   "id": "d1b348e3",
   "metadata": {},
   "outputs": [],
   "source": [
    "from trustutils import run\n",
    "\n",
    "run.introduction(\"Elie Saikali\", \"07/05/2024\")"
   ]
  },
  {
   "cell_type": "code",
   "execution_count": null,
   "id": "f7a23adc",
   "metadata": {},
   "outputs": [],
   "source": [
    "import os\n",
    "\n",
    "run.reset()\n",
    "run.initBuildDirectory()\n",
    "\n",
    "cases = {\"pb_multi\" : \"+-\" }\n",
    "cases_trust = {\"pb_trust\" : \"+-\" }\n",
    "dis = {\"vdf\" : \"\", \"polymac_p0\" : \"Polyedriser dom\"}\n",
    "mod_trust = { \"sous_maille_smago\" : \" Cs 0.2\"}\n",
    "\n",
    "for c in cases:\n",
    "    for d, o in dis.items():\n",
    "        run.addCaseFromTemplate(f\"{c}.data\", d, {\"dis\" : d, \"poly\" : o })\n",
    "\n",
    "for c in cases_trust:\n",
    "    for d, o in mod_trust.items():\n",
    "        run.addCaseFromTemplate(f\"{c}.data\", d, {\"mod\" : d, \"cst\" : o })\n",
    "\n",
    "run.runCases()\n",
    "run.tablePerf()"
   ]
  },
  {
   "cell_type": "code",
   "execution_count": null,
   "id": "c3ec63f0",
   "metadata": {},
   "outputs": [],
   "source": [
    "from trustutils import plot\n",
    "import matplotlib.colors as mcolors\n",
    "c = list(mcolors.TABLEAU_COLORS.keys())\n",
    "plots = { \"nu_t\" : \"NU_TURBULENTE_LIQUIDE_EAU\" ,\"mu_t\" : \"VISCOSITE_TURBULENTE\" ,  \"alpha_t\" : \"DIFFUSIVITE_TURBULENTE\" }\n",
    "#plots = {\"nu_t\" : \"NU_TURBULENTE_LIQUIDE_EAU\" , \"mu_t\" : \"VISCOSITE_TURBULENTE_LIQUIDE_EAU\" , \"lambda_t\" : \"CONDUCTIVITE_TURBULENTE_LIQUIDE_EAU\" , \"alpha_t\" : \"DIFFUSIVITE_TURBULENTE_LIQUIDE_EAU\" }\n",
    "\n",
    "for ic, ii in plots.items():\n",
    "    fig = plot.Graph(f\"{ii}\")\n",
    "    for i, d in enumerate(dis):\n",
    "        for name, marker in cases.items():\n",
    "            son_name = f\"{d}/{name}_{ic}.son\"\n",
    "            compo = 0\n",
    "            fig.addSegment(son_name, label=f\"{d} {name}\", marker=marker, compo=compo, color=c[i], markersize=10)\n",
    "\n",
    "    if (ic == \"nu_t\"):\n",
    "        ic = \"mu_t\"\n",
    "    son_name2 = f\"sous_maille_smago/pb_trust_{ic}.son\"\n",
    "    fig.addSegment(son_name2, label=f\"vdf pb_TRUST\", marker=marker, compo=0, color=c[0], markersize=10)\n",
    "            "
   ]
  },
  {
   "cell_type": "code",
   "execution_count": null,
   "id": "b181a208",
   "metadata": {},
   "outputs": [],
   "source": [
    "fig = plot.Graph()\n",
    "\n",
    "for i, d in enumerate(dis):\n",
    "    for name in cases:\n",
    "        if d == \"vdf\" :\n",
    "            fig.addResidu(f\"{d}/{name}.dt_ev\", label=f\"{d} {name}\", marker=\"+\", markersize=15)\n",
    "        else:\n",
    "            fig.addResidu(f\"{d}/{name}.dt_ev\", label=f\"{d} {name}\")"
   ]
  }
 ],
 "metadata": {
  "kernelspec": {
   "display_name": "Python 3 (ipykernel)",
   "language": "python",
   "name": "python3"
  },
  "language_info": {
   "codemirror_mode": {
    "name": "ipython",
    "version": 3
   },
   "file_extension": ".py",
   "mimetype": "text/x-python",
   "name": "python",
   "nbconvert_exporter": "python",
   "pygments_lexer": "ipython3",
   "version": "3.8.19"
  }
 },
 "nbformat": 4,
 "nbformat_minor": 5
}
