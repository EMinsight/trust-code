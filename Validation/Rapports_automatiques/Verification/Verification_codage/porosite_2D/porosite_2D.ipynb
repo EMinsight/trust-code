{
 "cells": [
  {
   "cell_type": "markdown",
   "id": "boolean-earth",
   "metadata": {},
   "source": [
    "# Ecoulement avec saut de porosite en 2D"
   ]
  },
  {
   "cell_type": "code",
   "execution_count": null,
   "id": "3bf0c69f",
   "metadata": {},
   "outputs": [],
   "source": [
    "from trustutils import run\n",
    "\n",
    "run.introduction(\"Yannick Gorsse\")\n",
    "run.description(\"Ecoulement unidirectional, sans diffusion. Le domaine est discretise en 2D. Le calcul est mene sur differents maillages (cartesien conforme, triangles et non conforme).\")\n",
    "run.TRUST_parameters()"
   ]
  },
  {
   "cell_type": "code",
   "execution_count": null,
   "id": "balanced-boating",
   "metadata": {
    "scrolled": false
   },
   "outputs": [],
   "source": [
    "from trustutils import run\n",
    "import os, sys\n",
    "\n",
    "# We will need MEDCoupling - so load it in the Python path:\n",
    "run.useMEDCoupling()\n",
    "\n",
    "# Trigger the copy of the src directory into the build directory:\n",
    "run.defaultSuite_ = run.TRUSTSuite(runPrepare=False)\n",
    "\n",
    "# Path of weird mesh Python module\n",
    "sys.path.append(os.environ[\"TRUST_ROOT\"] + \"/Validation/Rapports_automatiques/Verification/PolyMAC/share/maquette_decapoly/src/\")\n",
    "\n",
    "# Invoke prepare_python.py (which structures the directories), and copy post_run script\n",
    "origin, build_dir = os.getcwd(), run.defaultSuite_.getBuildDirectory()\n",
    "os.chdir(build_dir)\n",
    "exec(open( \"prepare_python.py\").read())  #  the various run.addCase() are called there\n",
    "!for cas in */*/maillage_* ; do cp post_run ${cas}/. ; done\n",
    "os.chdir(origin)\n",
    "\n",
    "run.printCases()\n",
    "run.runCases()\n",
    "run.executeScript(\"extract_convergence\")"
   ]
  },
  {
   "cell_type": "markdown",
   "id": "f03de334",
   "metadata": {},
   "source": [
    "## Results"
   ]
  },
  {
   "cell_type": "code",
   "execution_count": null,
   "id": "alert-shock",
   "metadata": {},
   "outputs": [],
   "source": [
    "from trustutils import plot\n",
    "\n",
    "a=plot.Graph(\"Residus\")\n",
    "for j in [\"NCa\",\"NCr\"]:\n",
    "    for i in [\"PolyMAC_P0\",\"PolyMAC\"]:\n",
    "        a.addResidu(f\"{j}/{i}/maillage_20x30/jdd.dt_ev\",label=f\"{j}/{i} maillage 20x30\")\n",
    "\n",
    "for i in [\"PolyMAC_P0\",\"PolyMAC\",\"VDF\"]:\n",
    "    a.addResidu(f\"cartesian/{i}/maillage_20x30/jdd.dt_ev\",label=f\"cartesian/{i} maillage 20x30\")\n",
    "\n",
    "for i in [\"PolyMAC_P0\",\"PolyMAC\",\"VEFPreP1B\"]:\n",
    "    a.addResidu(f\"triangle/{i}/maillage_20x30/jdd.dt_ev\",label=f\"triangle/{i} maillage 20x30\")\n",
    "\n",
    "a.scale(yscale='log')\n",
    "a.legend(loc='upper center', bbox_to_anchor=(0.5, -0.1),\n",
    "          fancybox=True, shadow=True, ncol=3)\n"
   ]
  },
  {
   "cell_type": "code",
   "execution_count": null,
   "id": "78364c0e",
   "metadata": {},
   "outputs": [],
   "source": [
    "a=plot.Graph(\"Vitesse\")\n",
    "\n",
    "for j in [\"NCa\",\"NCr\"]:\n",
    "    for i in [\"PolyMAC_P0\",\"PolyMAC\"]:\n",
    "        a.addSegment(f\"{j}/{i}/maillage_20x30/jdd_V.son\",label=f\"{j}/{i}\",compo=1)\n",
    "\n",
    "for i in [\"PolyMAC_P0\",\"PolyMAC\",\"VDF\"]:\n",
    "    a.addSegment(f\"cartesian/{i}/maillage_20x30/jdd_V.son\",label=f\"cartesian/{i}\",compo=1)\n",
    "    \n",
    "for i in [\"PolyMAC_P0\",\"PolyMAC\",\"VEFPreP1B\"]:\n",
    "    a.addSegment(f\"triangle/{i}/maillage_20x30/jdd_V.son\",label=f\"triangle/{i}\",compo=1)\n",
    "\n",
    "a.legend(loc='upper center', bbox_to_anchor=(0.5, -0.1),\n",
    "          fancybox=True, shadow=True, ncol=3)"
   ]
  },
  {
   "cell_type": "markdown",
   "id": "c637d70e",
   "metadata": {},
   "source": [
    "## Ordres de convergence"
   ]
  },
  {
   "cell_type": "markdown",
   "id": "9c9fc4ff",
   "metadata": {},
   "source": [
    "### Ordres de convergence - v"
   ]
  },
  {
   "cell_type": "code",
   "execution_count": null,
   "id": "22bc19e8",
   "metadata": {},
   "outputs": [],
   "source": [
    "a=plot.Graph(\"Ordres de convergence - v\")\n",
    "\n",
    "x = plot.loadText(\"NCa/PolyMAC_P0/conv_glob_v\")\n",
    "a.add(x[0],x[1],marker='-|',label=\"NCa/PolyMAC_P0\")\n",
    "\n",
    "x = plot.loadText(\"NCa/PolyMAC/conv_glob_v\")\n",
    "a.add(x[0],x[1],marker='-x',label=\"NCa/PolyMAC\")\n",
    "\n",
    "x = plot.loadText(\"NCr/PolyMAC_P0/conv_glob_v\")\n",
    "a.add(x[0],x[1],marker='-*',label=\"NCr/PolyMAC_P0\")\n",
    "\n",
    "x = plot.loadText(\"NCr/PolyMAC/conv_glob_v\")\n",
    "a.add(x[0],x[1],marker='-s',markerfacecolor='None',label=\"NCr/PolyMAC\")\n",
    "\n",
    "x = plot.loadText(\"cartesian/PolyMAC_P0/conv_glob_v\")\n",
    "a.add(x[0],x[1],marker='-s',label=\"cartesian/PolyMAC_P0\")\n",
    "\n",
    "x = plot.loadText(\"cartesian/PolyMAC/conv_glob_v\")\n",
    "a.add(x[0],x[1],marker='-D',markerfacecolor='None',label=\"cartesian/PolyMAC\")\n",
    "\n",
    "x = plot.loadText(\"cartesian/VDF/conv_glob_v\")\n",
    "a.add(x[0],x[1],marker='-D',label=\"cartesian/VDF\")\n",
    "\n",
    "x = plot.loadText(\"triangle/PolyMAC_P0/conv_glob_v\")\n",
    "a.add(x[0],x[1],marker='-v',markerfacecolor='None',label=\"triangle/PolyMAC_P0\")\n",
    "\n",
    "x = plot.loadText(\"triangle/PolyMAC/conv_glob_v\")\n",
    "a.add(x[0],x[1],marker='-v',label=\"triangle/PolyMAC\")\n",
    "\n",
    "x = plot.loadText(\"triangle/VEFPreP1B/conv_glob_v\")\n",
    "a.add(x[0],x[1],marker='-^',label=\"triangle/VEFPreP1B\")\n",
    "\n",
    "a.label(r\"$Ne^{-1/2}$\",\"erreur L2\")\n",
    "a.scale(xscale='log',yscale='log')\n",
    "\n",
    "a.legend(loc='upper center', bbox_to_anchor=(0.5, -0.1),\n",
    "          fancybox=True, shadow=True, ncol=3)"
   ]
  },
  {
   "cell_type": "markdown",
   "id": "f0ce0e79",
   "metadata": {},
   "source": [
    "### Ordres de convergence - p"
   ]
  },
  {
   "cell_type": "code",
   "execution_count": null,
   "id": "223ad821",
   "metadata": {},
   "outputs": [],
   "source": [
    "a=plot.Graph(\"Ordres de convergence - p\")\n",
    "\n",
    "x = plot.loadText(\"NCa/PolyMAC_P0/conv_glob_p\")\n",
    "a.add(x[0],x[1],marker='-|',label=\"NCa/PolyMAC_P0\")\n",
    "\n",
    "x = plot.loadText(\"NCa/PolyMAC/conv_glob_p\")\n",
    "a.add(x[0],x[1],marker='-x',label=\"NCa/PolyMAC\")\n",
    "\n",
    "x = plot.loadText(\"NCr/PolyMAC_P0/conv_glob_p\")\n",
    "a.add(x[0],x[1],marker='-*',label=\"NCr/PolyMAC_P0\")\n",
    "\n",
    "x = plot.loadText(\"NCr/PolyMAC/conv_glob_p\")\n",
    "a.add(x[0],x[1],marker='-s',markerfacecolor='None',label=\"NCr/PolyMAC\")\n",
    "\n",
    "x = plot.loadText(\"cartesian/PolyMAC_P0/conv_glob_p\")\n",
    "a.add(x[0],x[1],marker='-s',label=\"cartesian/PolyMAC_P0\")\n",
    "\n",
    "x = plot.loadText(\"cartesian/PolyMAC/conv_glob_p\")\n",
    "a.add(x[0],x[1],marker='-D',markerfacecolor='None',label=\"cartesian/PolyMAC\")\n",
    "\n",
    "x = plot.loadText(\"cartesian/VDF/conv_glob_p\")\n",
    "a.add(x[0],x[1],marker='-D',label=\"cartesian/VDF\")\n",
    "\n",
    "x = plot.loadText(\"triangle/PolyMAC_P0/conv_glob_p\")\n",
    "a.add(x[0],x[1],marker='-v',markerfacecolor='None',label=\"triangle/PolyMAC_P0\")\n",
    "\n",
    "x = plot.loadText(\"triangle/PolyMAC/conv_glob_p\")\n",
    "a.add(x[0],x[1],marker='-v',label=\"triangle/PolyMAC\")\n",
    "\n",
    "x = plot.loadText(\"triangle/VEFPreP1B/conv_glob_p\")\n",
    "a.add(x[0],x[1],marker='-^',label=\"triangle/VEFPreP1B\")\n",
    "\n",
    "a.label(r\"$Ne^{-1/2}$\",\"erreur L2\")\n",
    "a.scale(xscale='log',yscale='log')\n",
    "\n",
    "a.legend(loc='upper center', bbox_to_anchor=(0.5, -0.1),\n",
    "          fancybox=True, shadow=True, ncol=3)"
   ]
  }
 ],
 "metadata": {
  "env": {
   "project_directory": "{TRUST_ROOT}/Validation/Rapports_automatiques/Verification/PolyMAC"
  },
  "kernelspec": {
   "display_name": "Python 3 (ipykernel)",
   "language": "python",
   "name": "python3"
  },
  "language_info": {
   "codemirror_mode": {
    "name": "ipython",
    "version": 3
   },
   "file_extension": ".py",
   "mimetype": "text/x-python",
   "name": "python",
   "nbconvert_exporter": "python",
   "pygments_lexer": "ipython3",
   "version": "3.7.9"
  },
  "toc-autonumbering": true
 },
 "nbformat": 4,
 "nbformat_minor": 5
}
