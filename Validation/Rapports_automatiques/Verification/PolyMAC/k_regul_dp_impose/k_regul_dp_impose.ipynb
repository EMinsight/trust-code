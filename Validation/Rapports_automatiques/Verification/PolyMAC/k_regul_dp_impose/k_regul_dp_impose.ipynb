{
 "cells": [
  {
   "cell_type": "markdown",
   "id": "czech-cloud",
   "metadata": {},
   "source": [
    "# Test des fonctionnalités DP_impose et K regul"
   ]
  },
  {
   "cell_type": "code",
   "execution_count": null,
   "id": "3a41df38",
   "metadata": {},
   "outputs": [],
   "source": [
    "from trustutils import run\n",
    "run.introduction(\"A. Gerschenfeld, Y. Gorsse\")\n",
    "run.description(\"\")\n",
    "run.TRUST_parameters()"
   ]
  },
  {
   "cell_type": "code",
   "execution_count": null,
   "id": "70d9a8e0",
   "metadata": {},
   "outputs": [],
   "source": [
    "from trustutils import run\n",
    "import os\n",
    "run.useMEDCoupling()\n",
    "\n",
    "run.reset()\n",
    "dis = [\"PolyMAC_P0P1NC\", \"PolyMAC_P0\"]\n",
    "pbs = [\"ns\", \"multi\"]\n",
    "\n",
    "# Trigger the copy of the src directory into the build directory:\n",
    "run.initBuildDirectory()\n",
    "origin, build_dir = os.getcwd(), run.BUILD_DIRECTORY\n",
    "os.chdir(build_dir)\n",
    "for d in dis:\n",
    "    for pb in pbs:\n",
    "        run.addCaseFromTemplate(f\"jdd_{pb}.data\", f\"{pb}/{d}\", {\"dis\" : d})\n",
    "\n",
    "os.chdir(origin)\n",
    "\n",
    "run.printCases()\n",
    "run.runCases()"
   ]
  },
  {
   "cell_type": "markdown",
   "id": "governing-honolulu",
   "metadata": {},
   "source": [
    "## Description\n",
    "Domaine fermé avec une frontiere interne (en gris sur la figure), et deux surfaces permettant d'imposer les termes source testés. En bleu, la régulation sur le débit, et en orange le DP imposé. Une circulation du fluide apparait, et le débit généré se régule sur la valeur cible.\n",
    "\n",
    "![](src/domaine.png)"
   ]
  },
  {
   "cell_type": "code",
   "execution_count": null,
   "id": "moderate-cream",
   "metadata": {},
   "outputs": [],
   "source": [
    "from trustutils import plot\n",
    "\n",
    "Graphique=plot.Graph(nX=2,nY=len(dis))\n",
    "for i, d in enumerate(dis):\n",
    "    for pb in pbs:\n",
    "        Graphique.addPlot([0, i], d)\n",
    "        data = plot.loadText(f\"{pb}/{d}/jdd_{pb}_pb_K_surf1.out\", skiprows=3)\n",
    "        Graphique.add(data[0], data[1] ,label=f\"K - {pb}\")\n",
    "        Graphique.add(data[0],-data[2] ,label=f\"debit calcule - {pb}\")\n",
    "        if (i == 0 and pb == \"ns\"): Graphique.add(data[0], data[3] ,label=\"debit cible\")\n",
    "        Graphique.label(\"Time\", \"Delta de pression\")\n",
    "\n",
    "        Graphique.addPlot([1, i], d)\n",
    "        data = plot.loadText(f\"{pb}/{d}/jdd_{pb}_pb_DP_surf2.out\", skiprows=3)\n",
    "        if (i == 0 and pb == \"ns\"): Graphique.add(data[0], data[1], label=\"DP impose\")\n",
    "        data1 = plot.loadText(f\"{pb}/{d}/jdd_{pb}_P1.son\", skiprows=5)\n",
    "        data2 = plot.loadText(f\"{pb}/{d}/jdd_{pb}_P2.son\", skiprows=5)\n",
    "\n",
    "        Graphique.add(data[0], data1[1] - data2[1],label=f\"DP mesure - {pb}\")\n",
    "\n",
    "Graphique.visu()"
   ]
  }
 ],
 "metadata": {
  "kernelspec": {
   "display_name": "Python 3 (ipykernel)",
   "language": "python",
   "name": "python3"
  },
  "language_info": {
   "codemirror_mode": {
    "name": "ipython",
    "version": 3
   },
   "file_extension": ".py",
   "mimetype": "text/x-python",
   "name": "python",
   "nbconvert_exporter": "python",
   "pygments_lexer": "ipython3",
   "version": "3.7.16"
  },
  "toc-autonumbering": true
 },
 "nbformat": 4,
 "nbformat_minor": 5
}
