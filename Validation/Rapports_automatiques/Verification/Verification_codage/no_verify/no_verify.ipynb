{
 "cells": [
  {
   "cell_type": "markdown",
   "id": "inappropriate-lingerie",
   "metadata": {},
   "source": [
    "# Check no_verify option"
   ]
  },
  {
   "cell_type": "code",
   "execution_count": 5,
   "id": "1cb03f54",
   "metadata": {},
   "outputs": [
    {
     "data": {
      "text/markdown": [
       "## Introduction \n",
       " Validation made by : Stephane Veys\n"
      ],
      "text/plain": [
       "<IPython.core.display.Markdown object>"
      ]
     },
     "metadata": {},
     "output_type": "display_data"
    },
    {
     "data": {
      "text/markdown": [
       "\n",
       " Report generated 27/01/2022"
      ],
      "text/plain": [
       "<IPython.core.display.Markdown object>"
      ]
     },
     "metadata": {},
     "output_type": "display_data"
    },
    {
     "data": {
      "text/markdown": [
       "### Description \n",
       "This is to check no verify option."
      ],
      "text/plain": [
       "<IPython.core.display.Markdown object>"
      ]
     },
     "metadata": {},
     "output_type": "display_data"
    },
    {
     "data": {
      "text/markdown": [
       "### TRUST parameters \n",
       " * Version TRUST: 1.8.0\n",
       " * Binary used: /volatile/catA/ll258196/trust-code/exec/TRUST_mpi_opt (built on TRUST /volatile/catA/ll258196/trust-code/Validation/Rapports_automatiques/jupyter/Verification_codage/no_verify/build)"
      ],
      "text/plain": [
       "<IPython.core.display.Markdown object>"
      ]
     },
     "metadata": {},
     "output_type": "display_data"
    }
   ],
   "source": [
    "from trustutils import run  \n",
    "\n",
    "run.introduction(\"Stephane Veys\")\n",
    "run.description(\"This is to check no verify option.\")\n",
    "run.TRUST_parameters(\"1.8.0\")"
   ]
  },
  {
   "cell_type": "code",
   "execution_count": 1,
   "id": "0868e968-9777-4954-80f4-46b58fe1b126",
   "metadata": {
    "tags": []
   },
   "outputs": [
    {
     "name": "stdout",
     "output_type": "stream",
     "text": [
      "  => A total of 1 cases were (successfully) run in 0.3s.\n"
     ]
    }
   ],
   "source": [
    "from trustutils import run  \n",
    "run.reset()\n",
    "c1 = run.addCase(\".\",\"no_verify.data\")\n",
    "run.printCases()\n",
    "run.runCases()"
   ]
  },
  {
   "cell_type": "markdown",
   "id": "e6c2c033-3d3d-40dd-9853-7ac2384d69d1",
   "metadata": {},
   "source": [
    "## How the option is verified \n",
    "The command-line option no_verify is introduced to allow to read data files without checking obsolete keywords.It can be interesting when dealing with a very long data file.\n",
    "The usage is the following : trust MyJDD.data -no_verify.\n",
    "The special obsolete keyword Read_MED_For_Testing_No_Verify_Option, that is equivalent to Read_MED keyword, was introduced in order to check the good behavior of this option.\n",
    "The test consists in reading a MED file using the obsolete keyword Read_MED_For_Testing_No_Verify_Option. First, the data file is read whithout the option no_verify so TRUST detects the obsolete keywords and stops the run. Then the option no_verify is used and all is ok."
   ]
  },
  {
   "cell_type": "markdown",
   "id": "d6135dc9-7cbf-4d82-af2f-91e07f1cdb7b",
   "metadata": {},
   "source": [
    "## Shared log file in HDF5 format "
   ]
  },
  {
   "cell_type": "code",
   "execution_count": 2,
   "id": "ad299aa8-d5fe-4fcd-b2da-8431917819d9",
   "metadata": {},
   "outputs": [
    {
     "name": "stdout",
     "output_type": "stream",
     "text": [
      " First test ok (without no_verify option) the obsolete keyword is recognized.\n",
      "\n"
     ]
    }
   ],
   "source": [
    "run.dumpData(\"my_text1\")"
   ]
  },
  {
   "cell_type": "code",
   "execution_count": 3,
   "id": "fab0e346",
   "metadata": {},
   "outputs": [
    {
     "name": "stdout",
     "output_type": "stream",
     "text": [
      " Second test ok (using no_verify option) the obsolete keyword is ignored.\n",
      "\n"
     ]
    }
   ],
   "source": [
    "run.dumpData(\"my_text2\")"
   ]
  }
 ],
 "metadata": {
  "kernelspec": {
   "display_name": "Python 3",
   "language": "python",
   "name": "python3"
  },
  "language_info": {
   "codemirror_mode": {
    "name": "ipython",
    "version": 3
   },
   "file_extension": ".py",
   "mimetype": "text/x-python",
   "name": "python",
   "nbconvert_exporter": "python",
   "pygments_lexer": "ipython3",
   "version": "3.7.9"
  }
 },
 "nbformat": 4,
 "nbformat_minor": 5
}
