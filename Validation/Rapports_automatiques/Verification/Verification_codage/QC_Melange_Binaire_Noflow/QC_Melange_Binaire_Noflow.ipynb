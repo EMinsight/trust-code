{
 "cells": [
  {
   "cell_type": "markdown",
   "id": "boolean-earth",
   "metadata": {},
   "source": [
    "# Test of the conservation of the mass of a binary mixture"
   ]
  },
  {
   "cell_type": "code",
   "execution_count": null,
   "id": "b313d442",
   "metadata": {},
   "outputs": [],
   "source": [
    "from trustutils import run\n",
    "\n",
    "run.introduction(\"Ulrich Bieder and Elie Saikali\")\n",
    "run.description(\"Mixing of binary species without chemical reactions. QC with binary mixture EOS and WC with multi mixture EOS.\")\n",
    "run.TRUST_parameters(\"1.8.4\")"
   ]
  },
  {
   "cell_type": "code",
   "execution_count": null,
   "id": "balanced-boating",
   "metadata": {},
   "outputs": [],
   "source": [
    "from trustutils import run\n",
    "run.addCase(\".\",\"NoFlow.data\") \n",
    "run.addCase(\".\",\"NoFlow_WC.data\") \n",
    "\n",
    "run.printCases()\n",
    "run.runCases()"
   ]
  },
  {
   "cell_type": "markdown",
   "id": "9a7e2ff9",
   "metadata": {},
   "source": [
    "## Initial conditions\n",
    "\n",
    "### Mass fraction specie 1 at initial state\n",
    "\n",
    "* Dimensions : x=1m, y=1m, z=1m\n",
    "* Upper half: mass fraction specie 1 = 0.2 mass fraction specie 2 = 0.8\n",
    "* Lower half: mass fraction specie 1 = 0.7 mass fraction specie 2 = 0.3\n",
    "* molar mass specie 1 = 0.01\n",
    "* molar mass specie 2 = 10"
   ]
  },
  {
   "cell_type": "code",
   "execution_count": null,
   "id": "alert-shock",
   "metadata": {},
   "outputs": [],
   "source": [
    "from trustutils import visit\n",
    "\n",
    "a=visit.Show(\"NoFlow.lata\",\"Pseudocolor\",\"FRACTION_MASSIQUE_ELEM_dom\",time=0,plotmesh=False)\n",
    "a.normal3D([0.6,0.6,0.6])\n",
    "a.zoom3D([0.01,0.01,0.8])\n",
    "a.plot()"
   ]
  },
  {
   "cell_type": "markdown",
   "id": "2e5e4072",
   "metadata": {},
   "source": [
    "### Mass fraction specie 2 at initial state"
   ]
  },
  {
   "cell_type": "code",
   "execution_count": null,
   "id": "c1c12586",
   "metadata": {},
   "outputs": [],
   "source": [
    "a = visit.Show(\"NoFlow.lata\",\"Pseudocolor\",\"FRACTION_MASSIQUE1_ELEM_dom\",time=0,plotmesh=False)\n",
    "a.normal3D([0.6,0.6,0.6])\n",
    "a.zoom3D([0.01,0.01,0.8])\n",
    "a.plot()"
   ]
  },
  {
   "cell_type": "markdown",
   "id": "buried-worse",
   "metadata": {},
   "source": [
    "## Final conditions\n",
    "\n",
    "* analytical solution mass fraction specie 1 = 0.311\n",
    "* analytical solution mass fraction specie 2 = 0.688\n",
    "* analytical solution density of the mixture = 1.193\n"
   ]
  },
  {
   "cell_type": "markdown",
   "id": "c2a39d88",
   "metadata": {},
   "source": [
    "### Temporal variation of the mass fraction species 1"
   ]
  },
  {
   "cell_type": "code",
   "execution_count": null,
   "id": "465556bb",
   "metadata": {},
   "outputs": [],
   "source": [
    "from trustutils import plot\n",
    "\n",
    "a = plot.Graph(\"Temporal variation of the mass fraction species 1\")\n",
    "a.addPoint(\"NoFlow_FRACTION_MASSIQUE0.son\",label=\"mass fraction species 1 QC binaire\",marker=\"-|\")\n",
    "a.addPoint(\"NoFlow_WC_FRACTION_MASSIQUE00.son\",label=\"mass fraction species 1 WC multi\",marker=\"-|\")\n",
    "\n",
    "x = plot.loadText(\"exact.d\")\n",
    "a.add(x[0],x[1],label='Analytical solution')\n",
    "\n",
    "a.visu()"
   ]
  },
  {
   "cell_type": "markdown",
   "id": "1a6b8575",
   "metadata": {},
   "source": [
    "### Temporal variation of the mass fraction species 2"
   ]
  },
  {
   "cell_type": "code",
   "execution_count": null,
   "id": "3a250c9f",
   "metadata": {},
   "outputs": [],
   "source": [
    "a = plot.Graph(\"Temporal variation of the mass fraction species 2\")\n",
    "a.addPoint(\"NoFlow_FRACTION_MASSIQUE1.son\",label=\"mass fraction species 2 QC binaire\",marker=\"-|\")\n",
    "a.addPoint(\"NoFlow_WC_FRACTION_MASSIQUE11.son\",label=\"mass fraction species 2 WC multi\",marker=\"-|\")\n",
    "\n",
    "x = plot.loadText(\"exact.d\")\n",
    "a.add(x[0],x[2],label='Analytical solution')\n",
    "\n",
    "a.visu()"
   ]
  },
  {
   "cell_type": "markdown",
   "id": "75fc247b",
   "metadata": {},
   "source": [
    "### Temporal variation of the mixture's density\n",
    "\n",
    "Variation of the mixture's density in the center of the cavity"
   ]
  },
  {
   "cell_type": "code",
   "execution_count": null,
   "id": "1bb8be77",
   "metadata": {},
   "outputs": [],
   "source": [
    "a = plot.Graph(\"Temporal variation of the mixture's density\")\n",
    "a.addPoint(\"NoFlow_MASSE_VOLUMIQUE.son\",label=\"Sensity QC binaire\",marker=\"-|\")\n",
    "a.addPoint(\"NoFlow_WC_MASSE_VOLUMIQUE.son\",label=\"Density WC multi\",marker=\"-|\")\n",
    "\n",
    "x = plot.loadText(\"exact.d\")\n",
    "a.add(x[0],x[3],label='Analytical solution')\n",
    "\n",
    "a.visu()"
   ]
  },
  {
   "cell_type": "markdown",
   "id": "laden-return",
   "metadata": {},
   "source": [
    "### Mass fractions specie 1 at final state "
   ]
  },
  {
   "cell_type": "code",
   "execution_count": null,
   "id": "judicial-breach",
   "metadata": {},
   "outputs": [],
   "source": [
    "a = visit.Show(\"NoFlow.lata\",\"Pseudocolor\",\"FRACTION_MASSIQUE_ELEM_dom\",time=10,plotmesh=False)\n",
    "a.normal3D([0.6,0.6,0.6])\n",
    "a.zoom3D([0.01,0.01,0.8])\n",
    "a.plot()"
   ]
  },
  {
   "cell_type": "markdown",
   "id": "4972975c",
   "metadata": {},
   "source": [
    "### Mass fractions specie 2 at final state "
   ]
  },
  {
   "cell_type": "code",
   "execution_count": null,
   "id": "77fc6606",
   "metadata": {},
   "outputs": [],
   "source": [
    "a=visit.Show(\"NoFlow.lata\",\"Pseudocolor\",\"FRACTION_MASSIQUE1_ELEM_dom\",time=10,plotmesh=False)\n",
    "a.normal3D([0.6,0.6,0.6])\n",
    "a.zoom3D([0.01,0.01,0.8])\n",
    "a.plot()"
   ]
  },
  {
   "cell_type": "markdown",
   "id": "a78f5520",
   "metadata": {},
   "source": [
    "### Density at final state "
   ]
  },
  {
   "cell_type": "code",
   "execution_count": null,
   "id": "98816798",
   "metadata": {},
   "outputs": [],
   "source": [
    "a = visit.Show(\"NoFlow.lata\",\"Pseudocolor\",\"MASSE_VOLUMIQUE_ELEM_dom\",time=10,plotmesh=False)\n",
    "a.normal3D([0.6,0.6,0.6])\n",
    "a.zoom3D([0.01,0.01,0.8])\n",
    "a.plot()"
   ]
  },
  {
   "cell_type": "code",
   "execution_count": null,
   "id": "f379e7bf",
   "metadata": {},
   "outputs": [],
   "source": [
    "run.tablePerf()"
   ]
  }
 ],
 "metadata": {
  "kernelspec": {
   "display_name": "Python 3 (ipykernel)",
   "language": "python",
   "name": "python3"
  },
  "language_info": {
   "codemirror_mode": {
    "name": "ipython",
    "version": 3
   },
   "file_extension": ".py",
   "mimetype": "text/x-python",
   "name": "python",
   "nbconvert_exporter": "python",
   "pygments_lexer": "ipython3",
   "version": "3.7.9"
  },
  "toc-autonumbering": true
 },
 "nbformat": 4,
 "nbformat_minor": 5
}
