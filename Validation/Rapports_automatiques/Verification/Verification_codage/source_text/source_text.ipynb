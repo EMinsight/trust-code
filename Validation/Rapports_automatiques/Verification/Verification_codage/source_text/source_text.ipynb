{
 "cells": [
  {
   "cell_type": "markdown",
   "id": "inappropriate-lingerie",
   "metadata": {},
   "source": [
    "# Therme source volumique d'échange avec une température extérieure"
   ]
  },
  {
   "cell_type": "code",
   "execution_count": null,
   "id": "1cb4230d",
   "metadata": {},
   "outputs": [],
   "source": [
    "from trustutils import run  \n",
    "\n",
    "run.introduction(\"A. Gerschenfeld, Y. Gorsse\")"
   ]
  },
  {
   "cell_type": "markdown",
   "id": "imperial-shield",
   "metadata": {},
   "source": [
    "### Description\n",
    "\n",
    "Cette fiche teste le terme source Terme_Puissance_Thermique_Echange_Impose en VEF et PolyMAC. Ce terme est utilisé en pratique pour calculer un échangeur : la partir primaire est calculée en CFD poreuse, et le secondaire est imposé dans le jdd ou bien calculé en couplage. Le test consiste en une cavité au repos, à 30degres initialement. Le terme source d'échange est appliqué avec une température externe à 10degres. On s'attend à voir la puissance échangée tendre vers zéro avec le temps."
   ]
  },
  {
   "cell_type": "code",
   "execution_count": null,
   "id": "1b79b86a",
   "metadata": {},
   "outputs": [],
   "source": [
    "run.TRUST_parameters()"
   ]
  },
  {
   "cell_type": "code",
   "execution_count": null,
   "id": "0868e968-9777-4954-80f4-46b58fe1b126",
   "metadata": {
    "tags": []
   },
   "outputs": [],
   "source": [
    "from trustutils import run\n",
    "\n",
    "run.reset()\n",
    "power = -1000\n",
    "Text = 10\n",
    "regul_str = f\"PID_controler_on_targer_power {{ target_power {power} Kp 1e-6 Ki 1e-1 Kd 0 }}\"\n",
    "dic_dis = {\"VEFPreP1B\" : \"trianguler_h dom_fluide\", \"PolyMAC\" : \"\", \"PolyMAC_P0\" : \"\", \"VDF\" : \"\"}\n",
    "for dis, tri in dic_dis.items():\n",
    "    run.addCaseFromTemplate(\"base.data\", directory=dis, d={\"dis\": dis, \"tri\" : tri, \"text\" : Text})\n",
    "    run.addCaseFromTemplate(\"regul.data\", directory=dis, d={\"dis\": dis, \"tri\" : tri, \"regul\" : \"\", \"text\" : Text})\n",
    "    if dis != \"VEFPreP1B\": run.addCaseFromTemplate(\"regul.data\", directory=f\"{dis}/regul\", d={\"dis\": dis, \"tri\" : tri, \"regul\" : regul_str, \"text\" : Text})\n",
    "run.printCases()\n",
    "run.runCases()\n",
    "run.tablePerf()"
   ]
  },
  {
   "cell_type": "markdown",
   "id": "e6c2c033-3d3d-40dd-9853-7ac2384d69d1",
   "metadata": {},
   "source": [
    "## Resultats \n",
    "### Puissance échangée via le terme source"
   ]
  },
  {
   "cell_type": "code",
   "execution_count": null,
   "id": "29094d5b-cc45-4fa7-8b9e-d9acbdaef5bc",
   "metadata": {},
   "outputs": [],
   "source": [
    "from trustutils import plot\n",
    "import numpy as np\n",
    "\n",
    "d_m = {\"VEFPreP1B\" : \"-|\", \"PolyMAC\" : \"-x\", \"PolyMAC_P0\" : \"-\", \"VDF\" : \"-*\"}\n",
    "\n",
    "a = plot.Graph(\"Power\")\n",
    "b = plot.Graph(\"Text\")\n",
    "for d, m in d_m.items():\n",
    "    x = plot.loadText(f\"{d}/base_pb_Terme_Puissance_Thermique_Echange_Impose.out\")\n",
    "    a.add(x[0],x[1],marker=m,label=f\"{d} closed cavity\", color=\"blue\")\n",
    "    if d != \"VEFPreP1B\": b.add(x[0],[Text + DT for DT in x[2]],marker=m,label=f\"{d} closed cavity\", color=\"blue\")\n",
    "    x = plot.loadText(f\"{d}/regul_pb_Terme_Puissance_Thermique_Echange_Impose.out\")\n",
    "    a.add(x[0],x[1],marker=m,label=f\"{d} open cavity\", color=\"green\")\n",
    "    if d != \"VEFPreP1B\": b.add(x[0],[Text + DT for DT in x[2]],marker=m,label=f\"{d} open cavity\", color=\"green\")\n",
    "    if d != \"VEFPreP1B\":\n",
    "        x = plot.loadText(f\"{d}/regul/regul_pb_Terme_Puissance_Thermique_Echange_Impose.out\")\n",
    "        a.add(x[0],x[1],marker=m,label=f\"{d} open cavity with regulation\", color=\"red\")\n",
    "        b.add(x[0],[Text + DT for DT in x[2]],marker=m,label=f\"{d} open cavity with regulation\", color=\"red\")\n",
    "\n",
    "a.label(\"Time [s]\",\"Puissance [W]\")\n",
    "b.label(\"Time [s]\",\"Text\")\n",
    "a.visu()"
   ]
  }
 ],
 "metadata": {
  "kernelspec": {
   "display_name": "Python 3.7.9 ('base')",
   "language": "python",
   "name": "python3"
  },
  "language_info": {
   "codemirror_mode": {
    "name": "ipython",
    "version": 3
   },
   "file_extension": ".py",
   "mimetype": "text/x-python",
   "name": "python",
   "nbconvert_exporter": "python",
   "pygments_lexer": "ipython3",
   "version": "3.7.9"
  },
  "vscode": {
   "interpreter": {
    "hash": "b782577cff7740386d5a4408bd06491b01e7449d0be1e4e757afd3bc68462014"
   }
  }
 },
 "nbformat": 4,
 "nbformat_minor": 5
}
