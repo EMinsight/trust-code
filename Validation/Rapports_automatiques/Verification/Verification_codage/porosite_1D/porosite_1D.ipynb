{
 "cells": [
  {
   "cell_type": "markdown",
   "id": "boolean-earth",
   "metadata": {},
   "source": [
    "# Ecoulement avec saut de porosite en 1D"
   ]
  },
  {
   "cell_type": "code",
   "execution_count": null,
   "id": "adde1bab",
   "metadata": {},
   "outputs": [],
   "source": [
    "from trustutils import run\n",
    "\n",
    "run.introduction(\"Yannick Gorsse\")\n",
    "\n",
    "run.TRUST_parameters()"
   ]
  },
  {
   "cell_type": "markdown",
   "id": "f993c59d",
   "metadata": {},
   "source": [
    "### Description: \n",
    "\n",
    "Ecoulement unidirectional, sans diffusion. Le domaine est 1D. On compare VDF, PolyMAC_P0P1NC, PolyMAC_P0 à la solution qui satisfait la conservation de la charge"
   ]
  },
  {
   "cell_type": "code",
   "execution_count": null,
   "id": "balanced-boating",
   "metadata": {
    "scrolled": false
   },
   "outputs": [],
   "source": [
    "from trustutils import run\n",
    "for dis in [\"VDF\", \"PolyMAC_P0P1NC\", \"PolyMAC_P0\"]:\n",
    "  run.addCase(dis ,\"jdd.data\")\n",
    "\n",
    "run.printCases()\n",
    "run.runCases()"
   ]
  },
  {
   "cell_type": "markdown",
   "id": "f03de334",
   "metadata": {},
   "source": [
    "## Residuals"
   ]
  },
  {
   "cell_type": "code",
   "execution_count": null,
   "id": "alert-shock",
   "metadata": {
    "scrolled": false
   },
   "outputs": [],
   "source": [
    "from trustutils import plot\n",
    "\n",
    "a=plot.Graph(\"Residus\")\n",
    "for i in [\"VDF\", \"PolyMAC_P0P1NC\", \"PolyMAC_P0\"]:\n",
    "    a.addResidu(f\"{i}/jdd.dt_ev\",label=f\"{i}\")\n",
    "\n",
    "a.scale(yscale='log')\n",
    "a.visu()"
   ]
  },
  {
   "cell_type": "code",
   "execution_count": null,
   "id": "78364c0e",
   "metadata": {},
   "outputs": [],
   "source": [
    "a=plot.Graph(\"Vitesse\",nY=2)\n",
    "a.addSegment(\"VDF/jdd_V_EX.son\",label=\"Analytic\",compo=1,marker='D',markerfacecolor='none')\n",
    "for i in [\"VDF\", \"PolyMAC_P0P1NC\", \"PolyMAC_P0\"]:\n",
    "    a.addSegment(f\"{i}/jdd_V.son\",label=f\"{i}\",compo=1)\n",
    "\n",
    "a.addPlot(1,\"Pression\")\n",
    "a.addSegment(\"VDF/jdd_P_EX.son\",label=\"Analytic\",marker='D',markerfacecolor='none')\n",
    "for i in [\"VDF\", \"PolyMAC_P0P1NC\", \"PolyMAC_P0\"]:\n",
    "    a.addSegment(f\"{i}/jdd_P.son\",label=f\"{i}\")\n",
    "\n",
    "a.visu()"
   ]
  }
 ],
 "metadata": {},
 "nbformat": 4,
 "nbformat_minor": 5
}
