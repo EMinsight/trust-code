{
 "cells": [
  {
   "cell_type": "markdown",
   "id": "efficient-potter",
   "metadata": {},
   "source": [
    "# Conduction couplee implicite"
   ]
  },
  {
   "cell_type": "code",
   "execution_count": null,
   "id": "62e8057a",
   "metadata": {},
   "outputs": [],
   "source": [
    "from trustutils import run \n",
    "\n",
    "run.introduction(\"G.F\")\n",
    "run.description(\"Calculs menes en VDF/VEF avec/sans paroi fictive.\")\n",
    "run.TRUST_parameters()"
   ]
  },
  {
   "cell_type": "markdown",
   "id": "frequent-melissa",
   "metadata": {},
   "source": [
    "### Test Cases\n",
    "Substituer par le lancement des cas trust.\n",
    "* cond_coup_fictif_vdf_impl/cond_coup_fictif_vdf_impl.data\n",
    "* cond_coup_fictif_vef_impl/cond_coup_fictif_vef_impl.data\n",
    "* cond_couple_vef_impl/cond_couple_vef_impl.data\n",
    "* cond_couple_vdf_impl/cond_couple_vdf_impl.data"
   ]
  },
  {
   "cell_type": "code",
   "execution_count": null,
   "id": "faabdf90-6eb2-46d1-a0d9-449de6ffade1",
   "metadata": {},
   "outputs": [],
   "source": [
    "from trustutils import run \n",
    "run.addCase(\"cond_coup_fictif_vdf_impl\",\"cond_coup_fictif_vdf_impl.data\")\n",
    "run.addCase(\"cond_coup_fictif_vef_impl\",\"cond_coup_fictif_vef_impl.data\")\n",
    "run.addCase(\"cond_couple_vef_impl\",\"cond_couple_vef_impl.data\")\n",
    "run.addCase(\"cond_couple_vdf_impl\",\"cond_couple_vdf_impl.data\")\n",
    "run.printCases()\n",
    "run.runCases()"
   ]
  },
  {
   "cell_type": "markdown",
   "id": "204068e2-c6d2-49b6-8b94-86e4f77284dc",
   "metadata": {},
   "source": [
    "## Sans paroi fictive\n",
    "\n",
    "Probleme couple solide/fluide en implicite.  La solution est comparee a la solution analytique au cours dutemps.  La solution analytique n’existe que pour une famille particuliere de values de conductivite."
   ]
  },
  {
   "cell_type": "markdown",
   "id": "4713444b-16e1-4164-8367-b61cd7c4d5de",
   "metadata": {},
   "source": [
    "### Trace de l'erreur au cours du temps"
   ]
  },
  {
   "cell_type": "code",
   "execution_count": null,
   "id": "84d41765-43da-4a04-8595-0389e001b028",
   "metadata": {},
   "outputs": [],
   "source": [
    "from trustutils import plot\n",
    "\n",
    "Graphique=plot.Graph(\"Trace de l'erreur  au cours du temps\")\n",
    "Graphique.addPoint(\"./cond_couple_vdf_impl/cond_couple_vdf_impl_ERREUR.son\",label=\"VDF\",marker=\"-|\")\n",
    "Graphique.addPoint(\"./cond_couple_vef_impl/cond_couple_vef_impl_ERREUR.son\",label=\"VEF\",marker=\"-x\")"
   ]
  },
  {
   "cell_type": "markdown",
   "id": "377d8dcf-e0aa-4f93-842f-2b4b9f4e13ae",
   "metadata": {},
   "source": [
    "### Trace du profil de T dans le fluide a t=0.5 et t=2.5"
   ]
  },
  {
   "cell_type": "code",
   "execution_count": null,
   "id": "16e09f15-c05f-40b5-8a34-c4cb65dca439",
   "metadata": {},
   "outputs": [],
   "source": [
    "from trustutils import plot\n",
    "import numpy as np\n",
    "\n",
    "Graphique=plot.Graph(\"Trace du profil de T dans le fluide a t=0.5 et t=2.5\")\n",
    "Graphique.addSegment(\"./cond_couple_vdf_impl/cond_couple_vdf_impl_T_FLUIDE.son\",label=\"VDF t=0.5\",marker=\"-|\",value=0.5) \n",
    "Graphique.addSegment(\"./cond_couple_vef_impl/cond_couple_vef_impl_T_FLUIDE.son\",label=\"VEF t=0.5\",marker=\"-x\",value=0.5)  \n",
    "x=np.linspace(0,0.05,100)\n",
    "Graphique.add(x,((18.31179308*np.sin(30.79992798*x-1.539996399)*np.exp(-0.9486355639*0.5)+20.00-400.*x)),label=\"Solution analytique t=0.5\")\n",
    "\n",
    "Graphique.addSegment(\"./cond_couple_vdf_impl/cond_couple_vdf_impl_T_FLUIDE.son\",label=\"VDF t=2.5\",marker=\"-s\",mfc='None',value=2.5) \n",
    "Graphique.addSegment(\"./cond_couple_vef_impl/cond_couple_vef_impl_T_FLUIDE.son\",label=\"VEF t=2.5\",marker=\"-s\",value=2.5) \n",
    "x=np.linspace(0,0.05,100)\n",
    "Graphique.add(x,((18.31179308*np.sin(30.79992798*x-1.539996399)*np.exp(-0.9486355639*2.5)+20.00-400.*x)),label=\"Solution analytique t=2.5\")"
   ]
  },
  {
   "cell_type": "markdown",
   "id": "0334a49f-43e6-4296-a858-7f629d103c6e",
   "metadata": {},
   "source": [
    "### Trace du profil de T dans le solide a t=0.5 et t=2.5"
   ]
  },
  {
   "cell_type": "code",
   "execution_count": null,
   "id": "72260873-2ded-42a9-937b-4fe16e43bf8f",
   "metadata": {},
   "outputs": [],
   "source": [
    "from trustutils import plot\n",
    "import numpy as np\n",
    "\n",
    "Graphique=plot.Graph(\"Trace du profil de T dans le solide a t=0.5 et t=2.5\")\n",
    "Graphique.addSegment(\"./cond_couple_vdf_impl/cond_couple_vdf_impl_T_SOLIDE_GAUCHE.son\",label=\"VDF t=0.5\",marker=\"-|\",value=0.5) \n",
    "Graphique.addSegment(\"./cond_couple_vef_impl/cond_couple_vef_impl_T_SOLIDE_GAUCHE.son\",label=\"VEF t=0.5\",marker=\"-x\",value=0.5)  \n",
    "x=np.linspace(-0.0075,-0.0025,100)\n",
    "y = -18.31179308*np.cos(3.079992798*x+.3079992798e-1)*np.exp(-0.9486355639*0.5)+20.00-40.*x\n",
    "Graphique.add(x,y,label=\"Solution analytique t=0.5\")\n",
    "\n",
    "Graphique.addSegment(\"./cond_couple_vdf_impl/cond_couple_vdf_impl_T_SOLIDE_GAUCHE.son\",label=\"VDF t=2.5\",marker=\"-s\",mfc='None',value=2.5) \n",
    "Graphique.addSegment(\"./cond_couple_vef_impl/cond_couple_vef_impl_T_SOLIDE_GAUCHE.son\",label=\"VEF t=2.5\",marker=\"-s\",value=2.5) \n",
    "x=np.linspace(-0.0075,-0.0025,100)\n",
    "y = -18.31179308*np.cos(3.079992798*x+.3079992798e-1)*np.exp(-0.9486355639*2.5)+20.00-40.*x\n",
    "Graphique.add(x,y,label=\"Solution analytique t=2.5\")\n"
   ]
  },
  {
   "cell_type": "markdown",
   "id": "be64f97a",
   "metadata": {},
   "source": [
    "### Trace du profil de T au stationnaire"
   ]
  },
  {
   "cell_type": "code",
   "execution_count": null,
   "id": "e83a357d-0f54-44a1-a77b-c0b9a8b79085",
   "metadata": {},
   "outputs": [],
   "source": [
    "from trustutils import plot\n",
    "import numpy as np\n",
    "\n",
    "Graphique=plot.Graph(\"Trace du profil de T au stationnaire\")\n",
    "Graphique.addSegment(\"./cond_couple_vdf_impl/cond_couple_vdf_impl_T_SOLIDE_GAUCHE.son\",label=\"VDF\",marker=\"-|\") \n",
    "Graphique.addSegment(\"./cond_couple_vef_impl/cond_couple_vef_impl_T_SOLIDE_GAUCHE.son\",label=\"VEF\",marker=\"-x\")  \n",
    "x=np.linspace(-0.0075,-0.0025,100)\n",
    "y = 20-40*x\n",
    "Graphique.add(x,y,label=\"Solution analytique\")\n",
    "\n",
    "Graphique.addSegment(\"./cond_couple_vdf_impl/cond_couple_vdf_impl_T_FLUIDE.son\",label=\"VDF\",marker=\"-s\",mfc='None') \n",
    "Graphique.addSegment(\"./cond_couple_vef_impl/cond_couple_vef_impl_T_FLUIDE.son\",label=\"VEF\",marker=\"-s\") \n",
    "x=np.linspace(0,0.05,100)\n",
    "y = 20-400*x\n",
    "Graphique.add(x,y,label=\"Solution analytique\")\n"
   ]
  },
  {
   "cell_type": "markdown",
   "id": "2ffa9990-00d0-4099-9d1c-0a3404e51c97",
   "metadata": {},
   "source": [
    "## Avec paroi fictive\n",
    " A refaire Caracteristique : T1>T2 \\\n",
    " Maillage1 : 14 400 mailles, Y+ = 12 \\\n",
    " Maillage2 :  9 000 mailles, Y+ = 44 \\\n",
    " Maillage3 :  10 080 mailles, Y+ = 43.75"
   ]
  },
  {
   "cell_type": "markdown",
   "id": "2872316e-f334-43ef-b996-e46f023d43c9",
   "metadata": {},
   "source": [
    "### Trace du profil de T au stationnaire"
   ]
  },
  {
   "cell_type": "code",
   "execution_count": null,
   "id": "43f8d0db-2a5d-4461-9f57-649373b6b345",
   "metadata": {},
   "outputs": [],
   "source": [
    "from trustutils import plot\n",
    "import numpy as np\n",
    "\n",
    "Graphique=plot.Graph(\"Trace du profil de T au stationnaire\")\n",
    "Graphique.addSegment(\"./cond_coup_fictif_vdf_impl/cond_coup_fictif_vdf_impl_T_SOLIDE_GAUCHE.son\",label=\"VDF\",marker=\"-|\") \n",
    "Graphique.addSegment(\"./cond_coup_fictif_vef_impl/cond_coup_fictif_vef_impl_T_SOLIDE_GAUCHE.son\",label=\"VEF\",marker=\"-x\")  \n",
    "x=np.linspace(-0.0075,-0.0025,100)\n",
    "y = 28-40*x\n",
    "Graphique.add(x,y,label=\"Solution analytique\")\n",
    "\n",
    "Graphique.addSegment(\"./cond_coup_fictif_vdf_impl/cond_coup_fictif_vdf_impl_T_FLUIDE.son\",label=\"VDF\",marker=\"-s\",mfc='None') \n",
    "Graphique.addSegment(\"./cond_coup_fictif_vef_impl/cond_coup_fictif_vef_impl_T_FLUIDE.son\",label=\"VEF\",marker=\"-s\") \n",
    "x=np.linspace(0,0.05,100)\n",
    "y = 20-400*x\n",
    "Graphique.add(x,y,label=\"Solution analytique\")"
   ]
  },
  {
   "cell_type": "markdown",
   "id": "c8ca2cd7-6100-470c-93e5-54a3810be8d6",
   "metadata": {},
   "source": [
    "### Trace de l’erreur T-Tana au stationnaire"
   ]
  },
  {
   "cell_type": "code",
   "execution_count": null,
   "id": "b7e6b0a1-ae4a-4734-afc1-c26159717be8",
   "metadata": {},
   "outputs": [],
   "source": [
    "from trustutils import plot\n",
    "import numpy as np\n",
    "\n",
    "Graphique=plot.Graph(\"Trace du profil de T au stationnaire\")\n",
    "Graphique.addSegment(\"./cond_coup_fictif_vdf_impl/cond_coup_fictif_vdf_impl_ERREUR_S.son\",marker=\"-|\",label=\"VDF erreur solide\") \n",
    "Graphique.addSegment(\"./cond_coup_fictif_vef_impl/cond_coup_fictif_vef_impl_ERREUR_S.son\",marker=\"-x\",label=\"VEF erreur solide\")   \n",
    "Graphique.addSegment(\"./cond_coup_fictif_vdf_impl/cond_coup_fictif_vdf_impl_ERREUR_F.son\",marker=\"-*\",label=\"VDF erreur fluide\") \n",
    "Graphique.addSegment(\"./cond_coup_fictif_vef_impl/cond_coup_fictif_vef_impl_ERREUR_F.son\",marker=\"-s\",mfc='None',label=\"VEF erreur fluide\")  \n",
    "Graphique.visu()"
   ]
  }
 ],
 "metadata": {
  "kernelspec": {
   "display_name": "Python 3 (ipykernel)",
   "language": "python",
   "name": "python3"
  },
  "language_info": {
   "codemirror_mode": {
    "name": "ipython",
    "version": 3
   },
   "file_extension": ".py",
   "mimetype": "text/x-python",
   "name": "python",
   "nbconvert_exporter": "python",
   "pygments_lexer": "ipython3",
   "version": "3.7.9"
  },
  "toc-autonumbering": true
 },
 "nbformat": 4,
 "nbformat_minor": 5
}
