{
 "cells": [
  {
   "cell_type": "markdown",
   "id": "efficient-potter",
   "metadata": {},
   "source": [
    "# Verification de l'evolution de la pression et de Sutherland en QC"
   ]
  },
  {
   "cell_type": "code",
   "execution_count": null,
   "id": "0ed29989",
   "metadata": {},
   "outputs": [],
   "source": [
    "from trustutils import run \n",
    "\n",
    "run.introduction(\"G.F.\")\n",
    "run.description(\"Calculs menes en VDF et VEF laminaire.\")\n",
    "run.TRUST_parameters()"
   ]
  },
  {
   "cell_type": "code",
   "execution_count": null,
   "id": "768f69cf-e077-4388-88c0-7f356a29f211",
   "metadata": {},
   "outputs": [],
   "source": [
    "from trustutils import run\n",
    "\n",
    "for dis in [\"VDF\", \"S_VDF\", \"VEF\", \"S_VEF\"]:\n",
    "    for i in range(1,10):\n",
    "        run.addCase(dis,\"eps_0.%d.data\" % i)\n",
    "\n",
    "run.printCases()\n",
    "run.runCases()\n",
    "\n",
    "run.executeScript(\"./Genere_courbe_err VDF sol_Pc\")\n",
    "run.executeScript(\"./Genere_courbe_err VEF sol_Pc\")\n",
    "run.executeScript(\"./Genere_courbe_err S_VDF sol_Pc\")\n",
    "run.executeScript(\"./Genere_courbe_err S_VEF sol_Pc\")"
   ]
  },
  {
   "cell_type": "markdown",
   "id": "underlying-anatomy",
   "metadata": {},
   "source": [
    "## Evolution de la pression totale en VAHL DAVIS infiniment allonge\n",
    "voir article\n",
    "### Cas mu et lambda constants"
   ]
  },
  {
   "cell_type": "code",
   "execution_count": null,
   "id": "692649fe-79dd-4b77-bd63-8c445d0f0b16",
   "metadata": {},
   "outputs": [],
   "source": [
    "from trustutils import plot\n",
    "\n",
    "a = plot.Graph(\"Cas mu et lambda constants\")\n",
    "\n",
    "x=plot.loadText(\"./VDF/erreur_pression\")\n",
    "a.add(x[0],x[1],\"-|\",label=\"VDF\")\n",
    "\n",
    "x=plot.loadText(\"./VEF/erreur_pression\")\n",
    "a.add(x[0],x[1],\"-x\",label=\"VEF\")\n",
    "\n",
    "x=plot.loadText(\"./sol_Pc\")\n",
    "a.add(x[0],x[1],\"--\",label=\"Analytique\")\n",
    "\n",
    "a.label(\"epsilon\",'residu')\n"
   ]
  },
  {
   "cell_type": "markdown",
   "id": "ebe76fc6-ffb0-456a-8cd9-3b1217b7d060",
   "metadata": {},
   "source": [
    "### Erreur Cas mu et lambda constants"
   ]
  },
  {
   "cell_type": "code",
   "execution_count": null,
   "id": "63e38e5c-2d66-46e8-abe3-b9dfb4558954",
   "metadata": {},
   "outputs": [],
   "source": [
    "from trustutils import plot\n",
    "\n",
    "a = plot.Graph(\"Erreur cas mu et lambda constants\")\n",
    "\n",
    "x=plot.loadText(\"./VDF/erreur_pression\")\n",
    "y=x[3]*100\n",
    "a.add(x[0],y,\"-|\",label=\"VDF\")\n",
    "\n",
    "x=plot.loadText(\"./VEF/erreur_pression\")\n",
    "y=x[3]*100\n",
    "a.add(x[0],y,\"-x\",label=\"VEF\")\n",
    "\n",
    "a.label(\"epsilon\",'erreur en %')"
   ]
  },
  {
   "cell_type": "markdown",
   "id": "150db9fe-b240-4ef9-8b8b-a617bc347849",
   "metadata": {},
   "source": [
    "### Cas mu et lambda constants, convergence"
   ]
  },
  {
   "cell_type": "code",
   "execution_count": null,
   "id": "fd94e6a5-d945-4b5a-b3de-96aa57709f00",
   "metadata": {},
   "outputs": [],
   "source": [
    "a = plot.Graph(\"Cas mu et lambda constants, convergence\")\n",
    "\n",
    "x=plot.loadText(\"./VDF/convergence\")\n",
    "a.add(x[0],x[1],\"-|\",label=\"VDF\")\n",
    "\n",
    "x=plot.loadText(\"./VEF/convergence\")\n",
    "a.add(x[0],x[1],\"-x\",label=\"VEF\")\n",
    "\n",
    "a.scale(yscale='log')\n",
    "\n",
    "a.label(\"epsilon\",'residu')"
   ]
  },
  {
   "cell_type": "markdown",
   "id": "62b676fe-e5f9-46f4-9ca4-889551c931b3",
   "metadata": {},
   "source": [
    "### Cas mu et lambda sutherland"
   ]
  },
  {
   "cell_type": "code",
   "execution_count": null,
   "id": "8ef30198-c3be-41d8-be94-27c457a8683f",
   "metadata": {},
   "outputs": [],
   "source": [
    "a = plot.Graph(\"Cas mu et lambda sutherland\")\n",
    "\n",
    "x=plot.loadText(\"./S_VDF/erreur_pression\")\n",
    "a.add(x[0],x[1],\"-|\",label=\"VDF\")\n",
    "\n",
    "x=plot.loadText(\"./S_VEF/erreur_pression\")\n",
    "a.add(x[0],x[1],\"-x\",label=\"VEF\")\n",
    "\n",
    "x=plot.loadText(\"./S_sol_Pc\")\n",
    "a.add(x[0],x[1],\"--\",label=\"Analytique\")\n",
    "\n",
    "a.label(\"epsilon\",'residu')"
   ]
  },
  {
   "cell_type": "markdown",
   "id": "13706f23-96b5-4105-a80e-24526d732612",
   "metadata": {},
   "source": [
    "### Erreur Cas mu et lambda sutherland"
   ]
  },
  {
   "cell_type": "code",
   "execution_count": null,
   "id": "aec0ff0c-520c-45be-977e-9c28c01a3903",
   "metadata": {},
   "outputs": [],
   "source": [
    "from trustutils import plot\n",
    "\n",
    "a = plot.Graph(\"Erreur cas mu et lambda sutherland\")\n",
    "\n",
    "x=plot.loadText(\"./S_VDF/erreur_pression\")\n",
    "y=x[3]*100\n",
    "a.add(x[0],y,\"-|\",label=\"VDF\")\n",
    "\n",
    "x=plot.loadText(\"./S_VEF/erreur_pression\")\n",
    "y=x[3]*100\n",
    "a.add(x[0],y,\"-x\",label=\"VEF\")\n",
    "\n",
    "a.label(\"epsilon\",'erreur en %')"
   ]
  },
  {
   "cell_type": "markdown",
   "id": "296adebc-3345-4dc6-8894-b9d9819b3e13",
   "metadata": {},
   "source": [
    "### Cas mu et lambda sutherland, convergence"
   ]
  },
  {
   "cell_type": "code",
   "execution_count": null,
   "id": "46d9d147-cf24-4d51-a755-53335ac05ab1",
   "metadata": {},
   "outputs": [],
   "source": [
    "a = plot.Graph(\"Cas mu et lambda sutherland, convergence\")\n",
    "\n",
    "x=plot.loadText(\"./S_VDF/convergence\")\n",
    "a.add(x[0],x[1],\"-|\",label=\"VDF\")\n",
    "\n",
    "x=plot.loadText(\"./S_VEF/convergence\")\n",
    "a.add(x[0],x[1],\"-x\",label=\"VEF\")\n",
    "\n",
    "a.scale(yscale='log')\n",
    "\n",
    "a.label(\"epsilon\",'residu')"
   ]
  }
 ],
 "metadata": {
  "kernelspec": {
   "display_name": "Python 3 (ipykernel)",
   "language": "python",
   "name": "python3"
  },
  "language_info": {
   "codemirror_mode": {
    "name": "ipython",
    "version": 3
   },
   "file_extension": ".py",
   "mimetype": "text/x-python",
   "name": "python",
   "nbconvert_exporter": "python",
   "pygments_lexer": "ipython3",
   "version": "3.7.9"
  },
  "toc-autonumbering": true
 },
 "nbformat": 4,
 "nbformat_minor": 5
}
