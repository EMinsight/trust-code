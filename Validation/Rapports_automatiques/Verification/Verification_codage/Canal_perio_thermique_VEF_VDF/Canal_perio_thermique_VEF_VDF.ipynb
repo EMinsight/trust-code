{
 "cells": [
  {
   "cell_type": "markdown",
   "id": "inappropriate-lingerie",
   "metadata": {},
   "source": [
    "# Periodic channel with thermic balance - VDF - VEF"
   ]
  },
  {
   "cell_type": "code",
   "execution_count": null,
   "id": "777e5c11",
   "metadata": {},
   "outputs": [],
   "source": [
    "from trustutils import run\n",
    "\n",
    "run.introduction(\"A. Bruneton\")\n",
    "\n",
    "run.TRUST_parameters()"
   ]
  },
  {
   "cell_type": "markdown",
   "id": "916823c0",
   "metadata": {},
   "source": [
    "### Description: \n",
    "\n",
    "Validation of periodic compensation source term for Convection_Diffusion_std equation. Both for VDF VEF."
   ]
  },
  {
   "cell_type": "code",
   "execution_count": null,
   "id": "687d21fd-6887-4818-a9f4-ed42aa1dae65",
   "metadata": {},
   "outputs": [],
   "source": [
    "for dis in [\"VEF\", \"VDF\"]:\n",
    "    for o in [\"\", \"_ref\"]:\n",
    "        run.addCase(f\"{dis}{o}\",f\"canal_perio_{dis}{o}.data\")\n",
    "\n",
    "run.printCases()\n",
    "run.runCases()"
   ]
  },
  {
   "cell_type": "markdown",
   "id": "growing-hundred",
   "metadata": {},
   "source": [
    "## Comparison mean temperature, max temperature\n",
    "\n",
    "### Comparison"
   ]
  },
  {
   "cell_type": "code",
   "execution_count": null,
   "id": "1ee5d4c3",
   "metadata": {},
   "outputs": [],
   "source": [
    "from trustutils import plot\n",
    "\n",
    "a=plot.Graph(\"Comparison\")\n",
    "a.addPoint('VEF_ref/canal_perio_VEF_ref_TEMPERATURE_MOYENNE.son',marker='-|',label=\"VEF ref\")\n",
    "a.addPoint('VDF_ref/canal_perio_VDF_ref_TEMPERATURE_MOYENNE.son',marker='-x',label=\"VDF ref\")\n",
    "a.addPoint('VEF/canal_perio_VEF_TEMPERATURE_MOYENNE.son',marker='-*',label=\"VEF\")\n",
    "a.addPoint('VDF/canal_perio_VDF_TEMPERATURE_MOYENNE.son',marker='-s',label=\"VDF\",mfc='none')\n",
    "a.visu()"
   ]
  }
 ],
 "metadata": {},
 "nbformat": 4,
 "nbformat_minor": 5
}
