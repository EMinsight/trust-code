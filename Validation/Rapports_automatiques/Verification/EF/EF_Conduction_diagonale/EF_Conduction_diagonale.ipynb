{
 "cells": [
  {
   "cell_type": "markdown",
   "id": "inappropriate-lingerie",
   "metadata": {},
   "source": [
    "# Conduction stationnaire unidimensionnelle sur un domaine non aligné avec les axes du repère"
   ]
  },
  {
   "cell_type": "code",
   "execution_count": null,
   "id": "1e720b29",
   "metadata": {},
   "outputs": [],
   "source": [
    "from trustutils import run\n",
    "\n",
    "run.introduction(\"D. Jamet\")"
   ]
  },
  {
   "cell_type": "markdown",
   "id": "adopted-auditor",
   "metadata": {},
   "source": [
    "### Description"
   ]
  },
  {
   "cell_type": "markdown",
   "id": "imperial-shield",
   "metadata": {},
   "source": [
    "On considère un problème de conduction thermique stationnaire unidimensionnel simple.  Afin de tester le  codage  en  trois  dimensions,  ce  problème  est  résolu  sur  un  parallélépipède  rectangles  dont  les  axes principaux ne sont pas alignés avec les axes du repère.  La solution numérique du problème est comparée à sa solution analytique.  Le calcul est fait en trois dimension bien que le problème soit unidimensionne la fin de détecter des erreurs éventuelles de codage."
   ]
  },
  {
   "cell_type": "code",
   "execution_count": null,
   "id": "0d7c00b5",
   "metadata": {},
   "outputs": [],
   "source": [
    "run.TRUST_parameters()"
   ]
  },
  {
   "cell_type": "code",
   "execution_count": null,
   "id": "6729c231-27f7-4fc9-9b61-4dc58e90721b",
   "metadata": {},
   "outputs": [],
   "source": [
    "run.addCase(\".\",\"conduction_diagonale.data\")\n",
    "run.printCases()\n",
    "run.runCases()"
   ]
  },
  {
   "cell_type": "markdown",
   "id": "growing-hundred",
   "metadata": {},
   "source": [
    "## Champ de température calculé\n",
    "\n",
    "On compare les champs de température calculé par GENEPI et analytique. Cette comparaison se fait sur le champ de température tridimensionnel.\n",
    "\n",
    "### Champ calculé\n",
    "\n",
    "On trace le champ calculé par GENEPI."
   ]
  },
  {
   "cell_type": "code",
   "execution_count": null,
   "id": "3d153261-0a30-493d-a78d-fc5a9ed9d392",
   "metadata": {},
   "outputs": [],
   "source": [
    "from trustutils import visit\n",
    "\n",
    "visit.showField(\"./conduction_diagonale.lata\",\"Pseudocolor\",\"TEMPERATURE_SOM_dom\")"
   ]
  },
  {
   "cell_type": "markdown",
   "id": "therapeutic-converter",
   "metadata": {},
   "source": [
    "### Comparaison des champs calculé et analytique\n",
    "\n",
    "On trace la différence entre le champ calculé par GENEPI et le champ analytique."
   ]
  },
  {
   "cell_type": "code",
   "execution_count": null,
   "id": "adequate-twist",
   "metadata": {},
   "outputs": [],
   "source": [
    "Graph=visit.Show(\"./conduction_diagonale.lata\",\"Mesh\",\"dom\",plotmesh=False)\n",
    "Graph.visitCommand(\"DefineScalarExpression(\\\"ERREUR_T_SOM_dom\\\",\\\"TEMPERATURE_SOM_dom-(coord(dom)[0]/2.0+sqrt(2.0)*coord(dom)[1]/2.0+coord(dom)[2]/2.0+2.0)\\\") \")\n",
    "Graph.addField(\"./conduction_diagonale.lata\",\"Pseudocolor\",\"ERREUR_T_SOM_dom\")\n",
    "Graph.plot()"
   ]
  },
  {
   "cell_type": "markdown",
   "id": "da1e2235-770b-4f30-a430-eda253dc0531",
   "metadata": {},
   "source": [
    "## Data Files\n",
    "\n",
    "### conduction_diagonale"
   ]
  },
  {
   "cell_type": "code",
   "execution_count": null,
   "id": "15fd47b5-5015-41c4-b5b5-1a2ec787d071",
   "metadata": {},
   "outputs": [],
   "source": [
    "run.dumpData(\"./conduction_diagonale.data\")"
   ]
  }
 ],
 "metadata": {
  "kernelspec": {
   "display_name": "Python 3 (ipykernel)",
   "language": "python",
   "name": "python3"
  },
  "language_info": {
   "codemirror_mode": {
    "name": "ipython",
    "version": 3
   },
   "file_extension": ".py",
   "mimetype": "text/x-python",
   "name": "python",
   "nbconvert_exporter": "python",
   "pygments_lexer": "ipython3",
   "version": "3.7.9"
  }
 },
 "nbformat": 4,
 "nbformat_minor": 5
}
