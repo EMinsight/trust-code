{
 "cells": [
  {
   "cell_type": "markdown",
   "id": "inappropriate-lingerie",
   "metadata": {},
   "source": [
    "# Testing advanced facsec settings "
   ]
  },
  {
   "cell_type": "code",
   "execution_count": null,
   "id": "cbf69cb8",
   "metadata": {},
   "outputs": [],
   "source": [
    "from trustutils import run\n",
    "\n",
    "run.introduction(\"Anida Khizar\")\n",
    "\n",
    "run.TRUST_parameters()"
   ]
  },
  {
   "cell_type": "markdown",
   "id": "f0e26f08",
   "metadata": {},
   "source": [
    "### Description: \n",
    "\n",
    "Computing safety factor according to advanced parameters defined by user. Only available for with Euler implicit time scheme."
   ]
  },
  {
   "cell_type": "code",
   "execution_count": null,
   "id": "687d21fd-6887-4818-a9f4-ed42aa1dae65",
   "metadata": {},
   "outputs": [],
   "source": [
    "from trustutils import run \n",
    "import os\n",
    "run.reset()\n",
    "run.addCase(\".\",\"facsec_function_of_time.data\")\n",
    "run.addCase(\".\",\"facsec_options.data\") \n",
    "run.printCases()\n",
    "run.runCases()"
   ]
  },
  {
   "cell_type": "markdown",
   "id": "growing-hundred",
   "metadata": {},
   "source": [
    "## Computation timesteps\n"
   ]
  },
  {
   "cell_type": "markdown",
   "id": "be9b2294",
   "metadata": {},
   "source": [
    "At the end of each iteration, we have to compute the next time step, which depends on the safety factor $f$.\n",
    "\n",
    "In the first computation, it is set as a function of time: $f(t) = min(100, 20+e^{100t})$. \n",
    "\n",
    "In the second computation, it is multiplied by $\\sqrt{2}$ (but bounded by $100$) in either of the following cases:\n",
    "\n",
    "$\\bullet$ the residual at previous time step is at least two times greater than the current residual.\n",
    "\n",
    "$\\bullet$ the safety factor hasn't changed for $20$ iterations.\n"
   ]
  },
  {
   "cell_type": "code",
   "execution_count": null,
   "id": "0aa74573",
   "metadata": {},
   "outputs": [],
   "source": [
    "from trustutils import plot \n",
    "import numpy as np \n",
    "\n",
    "dt_ev_func = plot.loadText(\"./facsec_function_of_time.dt_ev\", 0, nb_column=7, transpose=True, dtype=\"float\", skiprows=1)\n",
    "dt_func = dt_ev_func[0]\n",
    "iterations_func = [i for i in range(len(dt_func))]\n",
    "\n",
    "dt_ev_opt = plot.loadText(\"./facsec_options.dt_ev\", 0, nb_column=7, transpose=True, dtype=\"float\", skiprows=1)\n",
    "dt_opt = dt_ev_opt[0]\n",
    "iterations_opt = [i for i in range(len(dt_opt))]\n",
    "\n",
    "Graph=plot.Graph(\"Time step evolution according to different facsec definitions\",size=[15,8])\n",
    "Graph.add(iterations_func,dt_func,label=\"timestep with facsec as a function of time\")\n",
    "Graph.add(iterations_opt,dt_opt,label=\"timestep with facsec set with custom options\")\n"
   ]
  }
 ],
 "metadata": {},
 "nbformat": 4,
 "nbformat_minor": 5
}
