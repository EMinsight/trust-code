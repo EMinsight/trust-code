{
 "cells": [
  {
   "cell_type": "markdown",
   "id": "corrected-identifier",
   "metadata": {},
   "source": [
    "# Using keywords 'gravcl' and 'segmentfaces'"
   ]
  },
  {
   "cell_type": "code",
   "execution_count": null,
   "id": "65fac207",
   "metadata": {},
   "outputs": [],
   "source": [
    "from trustutils import run \n",
    "\n",
    "run.introduction(\"A.Bruneton\")"
   ]
  },
  {
   "cell_type": "markdown",
   "id": "amino-peoples",
   "metadata": {},
   "source": [
    "## Introduction\n",
    "Validation made by: A.Bruneton. \\\n",
    "Report generated (date)"
   ]
  },
  {
   "cell_type": "markdown",
   "id": "adjustable-boating",
   "metadata": {},
   "source": [
    "### Description \n",
    "This note describes the usage of the new post-processing keywords 'gravcl' and 'segmentfaces{x—y—z}' inside the definition of a probe.  All the results are presented on the Convection test case for which the domain is U-shaped with imposed input velocity, and imposed output pressure."
   ]
  },
  {
   "cell_type": "code",
   "execution_count": null,
   "id": "36704212",
   "metadata": {},
   "outputs": [],
   "source": [
    "run.TRUST_parameters()"
   ]
  },
  {
   "cell_type": "markdown",
   "id": "formal-alarm",
   "metadata": {},
   "source": [
    "### Parameters TRUST\n",
    "* Version TRUST:  \n",
    "* Binary()"
   ]
  },
  {
   "cell_type": "code",
   "execution_count": null,
   "id": "alpine-township",
   "metadata": {},
   "outputs": [],
   "source": [
    "run.addCase(\".\" ,\"Convection.data\")\n",
    "run.printCases()\n",
    "run.runCases()"
   ]
  },
  {
   "cell_type": "markdown",
   "id": "expensive-server",
   "metadata": {},
   "source": [
    "## Keyword 'gravcl'\n",
    "\n",
    "As  a  reminder  the  final  position  of  a  probe  can  be  be  shifted  using  keywords  'som',  'chsom',  'grav',or  'nodes'.   The  new  keyword  'gravcl'  behaves  exactly  like  'grav',  but  will  also  include  the  boundary condition value in the postprocessing if one (or the two) extreme point(s) of the probe is located on the center of gravity of the boundary face.  For example for the pressure in VDF (naturally located at the element center), this keyword will add the boundary value of the pressure.Note that this only works if the extreme point is located on the face center of gravity (within epsilon). Note also that this doesn't work for some BC, typically 'symmetry' is not supported.\n",
    "\n",
    "\n",
    "The  left  handside  is  not  covered  because  it  is  a  'symmetry'  BC.  Trying  to  extend  the  probe  there  will trigger an error."
   ]
  },
  {
   "cell_type": "code",
   "execution_count": null,
   "id": "hearing-source",
   "metadata": {},
   "outputs": [],
   "source": [
    "from trustutils import plot\n",
    "\n",
    "Graphique=plot.Graph(\"Pressure\")\n",
    "Graphique.addSegment(\"Convection_SONDE_PRESSION_GRAV.son\",label=\"grav\",marker='-|')\n",
    "Graphique.addSegment(\"Convection_SONDE_PRESSION_GRAVCL.son\",label=\"gravcl\",marker='-x')"
   ]
  },
  {
   "cell_type": "markdown",
   "id": "tough-finding",
   "metadata": {},
   "source": [
    "## Keyword 'segmentfaces'\n",
    "\n",
    "The probe type 'segmentfacesx' (resp.  'segmentfacesy', 'segmentfacesz') is typically used in VDF with the velocity field.  It forces the code to move the probe location to the closest discretisation point of the fieldfor the given direction.  Hence for the velocity in VDF, specifying 'segmentfacesx' (instead of 'segment') will  shift  the  probe  location  to  the  closest  discretisation  point  where  the  X  component  is  computed, corresponding to a face aligned with the Oy axis."
   ]
  },
  {
   "cell_type": "code",
   "execution_count": null,
   "id": "frozen-congo",
   "metadata": {},
   "outputs": [],
   "source": [
    "Graphique=plot.Graph(\"Velocity\")\n",
    "Graphique.addSegment(\"Convection_SONDE_VITESSE.son\",label=\"segment\",marker='-|')\n",
    "Graphique.addSegment(\"Convection_SONDE_VITESSE_SX.son\",label=\"segmentfacesx\",marker='-x')"
   ]
  },
  {
   "cell_type": "markdown",
   "id": "absent-tolerance",
   "metadata": {},
   "source": [
    "## Dataset illustrating the usage of ’gravcl’ and ’segmentfacesx’"
   ]
  },
  {
   "cell_type": "code",
   "execution_count": null,
   "id": "greatest-complexity",
   "metadata": {},
   "outputs": [],
   "source": [
    "run.dumpDataset(\"Convection.data\",[ \"probe\", \" gravcl\", \"segmentfacesx\"]) "
   ]
  }
 ],
 "metadata": {
  "kernelspec": {
   "display_name": "Python 3 (ipykernel)",
   "language": "python",
   "name": "python3"
  },
  "language_info": {
   "codemirror_mode": {
    "name": "ipython",
    "version": 3
   },
   "file_extension": ".py",
   "mimetype": "text/x-python",
   "name": "python",
   "nbconvert_exporter": "python",
   "pygments_lexer": "ipython3",
   "version": "3.7.9"
  }
 },
 "nbformat": 4,
 "nbformat_minor": 5
}
