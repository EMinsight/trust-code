{
 "cells": [
  {
   "cell_type": "markdown",
   "id": "gross-patent",
   "metadata": {},
   "source": [
    "# Imposed convective heat flux BC in VEF"
   ]
  },
  {
   "cell_type": "code",
   "execution_count": null,
   "id": "9e552569",
   "metadata": {
    "execution": {
     "iopub.execute_input": "2022-01-07T08:25:57.615261Z",
     "iopub.status.busy": "2022-01-07T08:25:57.614985Z",
     "iopub.status.idle": "2022-01-07T08:25:57.915893Z",
     "shell.execute_reply": "2022-01-07T08:25:57.915594Z"
    }
   },
   "outputs": [],
   "source": [
    "from trustutils import run\n",
    "\n",
    "run.introduction(\"N. DJATI (CS)\")"
   ]
  },
  {
   "cell_type": "markdown",
   "id": "perfect-entrepreneur",
   "metadata": {},
   "source": [
    "### Description \n",
    "**Paroi_echange_externe_impose** is a keyword allowing to impose a convective heat flux (and an external temperature) on a given boundary when dealing with energy equation. Before TRUST V1.8.0, computed stability time steps did not take into account the value of the heat flux on the boundary in VEF disrectization. This makes the computation diverging if the Biot number (which is the ratio of heat transfer by convection to heat transfer by conduction) is greater than unity.\\\n",
    "The current verification form aims to validate the new time-step computation in VEF in 2D and 3D configurations."
   ]
  },
  {
   "cell_type": "code",
   "execution_count": null,
   "id": "41c6fe32",
   "metadata": {
    "execution": {
     "iopub.execute_input": "2022-01-07T08:25:57.918246Z",
     "iopub.status.busy": "2022-01-07T08:25:57.917992Z",
     "iopub.status.idle": "2022-01-07T08:25:57.919930Z",
     "shell.execute_reply": "2022-01-07T08:25:57.919718Z"
    }
   },
   "outputs": [],
   "source": [
    "run.TRUST_parameters(\"1.8.0\")"
   ]
  },
  {
   "cell_type": "code",
   "execution_count": null,
   "id": "accepting-pickup",
   "metadata": {
    "execution": {
     "iopub.execute_input": "2022-01-07T08:25:57.922351Z",
     "iopub.status.busy": "2022-01-07T08:25:57.922128Z",
     "iopub.status.idle": "2022-01-07T08:26:07.754969Z",
     "shell.execute_reply": "2022-01-07T08:26:07.755172Z"
    }
   },
   "outputs": [],
   "source": [
    "from trustutils import run \n",
    "run.addCase(\"conduc2D\"   ,\"Conduc2D_h_imp.data\"          )\n",
    "run.addCase(\"conduc3D\"   ,\"Conduc3D_h_imp.data\"          ) \n",
    "run.addCase(\"conduc2Dimp\",\"Conduc2D_h_imp_implicite.data\")\n",
    "run.addCase(\"conduc3Dimp\",\"Conduc3D_h_imp_implicite.data\")\n",
    "run.printCases()"
   ]
  },
  {
   "cell_type": "code",
   "execution_count": null,
   "id": "c45bbb74",
   "metadata": {},
   "outputs": [],
   "source": [
    "run.runCases()"
   ]
  },
  {
   "cell_type": "markdown",
   "id": "agreed-feeling",
   "metadata": {},
   "source": [
    "## Introduction\n",
    "Before TRUST 1.8.0, the diffusive time step was computed as\n",
    "\n",
    "\\begin{equation} \n",
    "\\Delta t = \\beta \\frac{(\\Delta x)^{2}}{D} \n",
    "\\end{equation} \n",
    "\n",
    "Since the version 1.8.0, in VEF discretization, we compute Biot number given by \n",
    "\n",
    "\\begin{equation*} \n",
    "Bi = \\frac{h \\Delta x}{\\lambda} \n",
    "\\end{equation*}\n",
    "\n",
    "and we use expression (1) if Bi<1 and :\n",
    "\n",
    "\\begin{equation} \n",
    "\\Delta t = \\beta \\frac{\\lambda \\Delta x}{h D} \n",
    "\\end{equation} \n",
    "\n",
    "in the case where Bi > 1"
   ]
  },
  {
   "cell_type": "markdown",
   "id": "automated-gates",
   "metadata": {},
   "source": [
    "## One-dimensional heat conduction within a 2D solid medium with uniform thermophysical properties\n",
    "The first test case of this validation form concerns a problem of type **pb_conduction** as shown hereafter.\\\n",
    "We consider that the solid of size 1x1 has a density of 2 kg.m-3, a thermal conductivity of 0.1 W.m-1.K-1 and a Cp of 0.5 J.kg-1.K. We set the temperature at the left wall to 0 and we impose a heat flux of 20 W.m-2.K on the other side. We consider also that the outer temperature is equal to 100.\n",
    "\n",
    "At the steady state, the heat flux equilibrium at the right boundary can be expressed by:\n",
    "\n",
    "\\begin{equation}\n",
    "h (T_{ext} - T_W ) = - \\frac{\\lambda (T_W - T_{left})}{L}\n",
    "\\end{equation} \n",
    "\n",
    "which yields\n",
    "\n",
    "\\begin{equation}\n",
    "T_W  = \\left(T_{ext} + \\frac{\\lambda}{hL} T_{left} \\right) \\left/ \\left(1 + \\frac{\\lambda}{hL}\\right) \\right.\n",
    "\\end{equation} \n",
    "\n",
    "Since   $T_{left} = 0$, equation (4) can be simplified to \n",
    "\n",
    "\\begin{equation} \n",
    "T_W  = \\frac{T_{ext}} {\\left(1 + \\frac{\\lambda}{hL}\\right)} = \\frac{100}{\\left(1 + \\frac{0.1}{20} \\right)} = 99.5\n",
    "\\end{equation} \n",
    "\n",
    "We treat this problem using an explicit and implicit time schemes in order to check that everything is okay. We will plot the residual of energy equation, the mean temperature at the wall with imposed heat flux BC and we will draw the temperature profile inside the domain.\n",
    "\n",
    "In both, implicit and explicit time schemes, equation residuals decrease and wall temperature converges to the analytical value of 99.5 as shown on figures below. \n",
    "\n",
    "![](src/pb_conduction.PNG)"
   ]
  },
  {
   "cell_type": "markdown",
   "id": "seeing-complexity",
   "metadata": {},
   "source": [
    "### Equation residuals"
   ]
  },
  {
   "cell_type": "code",
   "execution_count": null,
   "id": "95376c6d",
   "metadata": {
    "execution": {
     "iopub.execute_input": "2022-01-07T08:26:08.988146Z",
     "iopub.status.busy": "2022-01-07T08:26:08.981222Z",
     "iopub.status.idle": "2022-01-07T08:26:09.545612Z",
     "shell.execute_reply": "2022-01-07T08:26:09.545816Z"
    },
    "scrolled": false
   },
   "outputs": [],
   "source": [
    "from trustutils import plot\n",
    "\n",
    "a = plot.Graph(nY=2,size=[8,10])\n",
    "\n",
    "x = plot.loadText('conduc2D/Conduc2D_h_imp.dt_ev')\n",
    "a.add(x[0],x[5],'r+',title='Explicit time scheme')\n",
    "a.label('time','Residual = max|dT/dx|')\n",
    "a.scale(yscale='log')\n",
    "\n",
    "x = plot.loadText('conduc2Dimp/Conduc2D_h_imp_implicite.dt_ev')\n",
    "a.add(x[0],x[5],'r+',title='Implicit time scheme',yIndice=1)\n",
    "a.label('time','Residual = max|dT/dx|')\n",
    "a.scale(yscale='log')\n"
   ]
  },
  {
   "cell_type": "markdown",
   "id": "primary-uncertainty",
   "metadata": {},
   "source": [
    "### Temperature profile"
   ]
  },
  {
   "cell_type": "code",
   "execution_count": null,
   "id": "occupied-assist",
   "metadata": {
    "execution": {
     "iopub.execute_input": "2022-01-07T08:26:09.548245Z",
     "iopub.status.busy": "2022-01-07T08:26:09.548018Z",
     "iopub.status.idle": "2022-01-07T08:26:12.535633Z",
     "shell.execute_reply": "2022-01-07T08:26:12.535877Z"
    }
   },
   "outputs": [],
   "source": [
    "from trustutils import visit \n",
    "\n",
    "fig=visit.Show(\"./conduc2D/Conduc2D_h_imp.lata\",\"Pseudocolor\",\"TEMPERATURE_SOM_dom\",nY=2)\n",
    "fig.add(\"./conduc2Dimp/Conduc2D_h_imp_implicite.lata\",\"Pseudocolor\",\"TEMPERATURE_SOM_dom\",yIndice=1)\n",
    "fig.plot()"
   ]
  },
  {
   "cell_type": "markdown",
   "id": "premium-private",
   "metadata": {},
   "source": [
    "### Mean wall temperature"
   ]
  },
  {
   "cell_type": "code",
   "execution_count": null,
   "id": "medieval-direction",
   "metadata": {
    "execution": {
     "iopub.execute_input": "2022-01-07T08:26:12.554562Z",
     "iopub.status.busy": "2022-01-07T08:26:12.545406Z",
     "iopub.status.idle": "2022-01-07T08:26:12.682690Z",
     "shell.execute_reply": "2022-01-07T08:26:12.682472Z"
    }
   },
   "outputs": [],
   "source": [
    "from trustutils import plot\n",
    "import numpy as np\n",
    "\n",
    "a=plot.Graph(\"Explicit Computation\",size=[8,10],nY=2)\n",
    "a.addPoint(\"./conduc2D/Conduc2D_h_imp_TMEAN.son\", marker=\"+\",color=\"r\",label=\"Max residual\")\n",
    "a.add(np.linspace(0,10,100),99.5*np.ones(100), color='g',label=\"analytique\")\n",
    "a.visu(0,10,95,100.1)\n",
    "\n",
    "a.addPlot(1,\"Implicit_Computation\")\n",
    "a.addPoint(\"./conduc2Dimp/Conduc2D_h_imp_implicite_TMEAN.son\",marker=\"+\",color=\"r\",label=\"Max residual\")\n",
    "a.add(np.linspace(0,10,100),99.5*np.ones(100), color='g',label=\"analytique\")\n",
    "a.visu(0,10,95,100.1)\n"
   ]
  },
  {
   "cell_type": "markdown",
   "id": "solar-sweet",
   "metadata": {},
   "source": [
    "## One-dimensional heat conduction within a 3D solid medium with uniform thermophysical properties\n",
    "The second test case of this validation form is similar to the first one, except that it is in 3D and the imposed heat flux and external temperature are different. \\\n",
    "We consider that the solid of size 10x2x10 has a density of 2 kg.m-3, a thermal conductivity of 0.1 W.m-1.K-1 and a Cp of 0.5 J.kg-1.K. We set the temperature at the left wall to 0 and we impose a heat flux of 5 W.m-2.K on the other side. We consider also that the outer temperature is equal to 30.06. \\\n",
    "\n",
    "At the steady state, the heat flux equilibrium at the right boundary can be expressed by: \\\n",
    "\n",
    "\\begin{equation}\n",
    "h (T_{ext} - T_W ) = - \\frac{\\lambda (T_W - T_{left})}{L} \n",
    "\\end{equation}\n",
    "\n",
    "\n",
    "which yields \n",
    "\n",
    "\\begin{equation} \n",
    "T_W  = (T_{ext} + \\frac{\\lambda}{hL} T_{left} ) / (1 + \\frac{\\lambda}{hL}) \n",
    "\\end{equation} \n",
    "\n",
    "Since $T_{left} = 0$, equation (7) can be simplified to :\n",
    "\n",
    "\\begin{equation} \n",
    "T_W  = T_{ext} / (1 + \\frac{\\lambda}{hL}) = 30.06 / (1 + \\frac{0.1}{5\\times 10} ) = 30 \n",
    "\\end{equation} \n",
    "        \n",
    "We treat this problem using an explicit and implicit time schemes in order to check that everything is okay. We will plot the residual of energy equation, the mean temperature at the wall with imposed heat flux BC and we will draw the temperature profile inside the domain.\n",
    "\n",
    "In both, implicit and explicit time schemes, equation residuals decrease and wall temperature converges to the analytical value of 30 as shown on figures below.\n"
   ]
  },
  {
   "cell_type": "markdown",
   "id": "educated-genealogy",
   "metadata": {},
   "source": [
    "### Equation residuals"
   ]
  },
  {
   "cell_type": "code",
   "execution_count": null,
   "id": "boxed-domestic",
   "metadata": {
    "execution": {
     "iopub.execute_input": "2022-01-07T08:26:12.724289Z",
     "iopub.status.busy": "2022-01-07T08:26:12.723395Z",
     "iopub.status.idle": "2022-01-07T08:26:13.521066Z",
     "shell.execute_reply": "2022-01-07T08:26:13.520807Z"
    }
   },
   "outputs": [],
   "source": [
    "from trustutils import plot\n",
    "\n",
    "a = plot.Graph(nY=2,size=[8,10])\n",
    "\n",
    "x = plot.loadText('conduc3D/Conduc3D_h_imp.dt_ev')\n",
    "a.add(x[0],x[5],marker='r+',title='Explicit time scheme')\n",
    "a.label('time','Residual = max|dT/dx|')\n",
    "a.scale(yscale='log')\n",
    "\n",
    "x = plot.loadText('conduc3Dimp/Conduc3D_h_imp_implicite.dt_ev')\n",
    "a.add(x[0],x[5],marker='r+',title='Implicit time scheme',yIndice=1)\n",
    "a.label('time','Residual = max|dT/dx|')\n",
    "a.scale(yscale='log')\n"
   ]
  },
  {
   "cell_type": "markdown",
   "id": "pressing-harmony",
   "metadata": {},
   "source": [
    "### Temperature profile"
   ]
  },
  {
   "cell_type": "code",
   "execution_count": null,
   "id": "essential-austria",
   "metadata": {
    "execution": {
     "iopub.execute_input": "2022-01-07T08:26:13.524315Z",
     "iopub.status.busy": "2022-01-07T08:26:13.523914Z",
     "iopub.status.idle": "2022-01-07T08:26:16.763416Z",
     "shell.execute_reply": "2022-01-07T08:26:16.763146Z"
    }
   },
   "outputs": [],
   "source": [
    "from trustutils import visit  \n",
    "\n",
    "fig=visit.Show(\"./conduc3D/Conduc3D_h_imp.lata\",\"Pseudocolor\",\"TEMPERATURE_SOM_dom\",nY=2)\n",
    "fig.normal3D([0.454,0.477,0.733])\n",
    "fig.add(\"./conduc3Dimp/Conduc3D_h_imp_implicite.lata\",\"Pseudocolor\",\"TEMPERATURE_SOM_dom\",yIndice=1)\n",
    "fig.normal3D([0.454,0.477,0.733])\n",
    "fig.plot()"
   ]
  },
  {
   "cell_type": "markdown",
   "id": "subjective-breakdown",
   "metadata": {},
   "source": [
    "### Mean wall temperature"
   ]
  },
  {
   "cell_type": "code",
   "execution_count": null,
   "id": "4ebffad7",
   "metadata": {
    "execution": {
     "iopub.execute_input": "2022-01-07T08:26:16.772553Z",
     "iopub.status.busy": "2022-01-07T08:26:16.772318Z",
     "iopub.status.idle": "2022-01-07T08:26:16.970107Z",
     "shell.execute_reply": "2022-01-07T08:26:16.969834Z"
    },
    "scrolled": false
   },
   "outputs": [],
   "source": [
    "a=plot.Graph(\"Explicit Computation\",size=[8,10],nY=2)\n",
    "a.addPoint(\"./conduc3D/Conduc3D_h_imp_TMEAN.son\",marker=\"+\",color=\"r\",label=\"Mean wall temperature\")\n",
    "a.add(np.linspace(0,200,100),30*np.ones(100), color='g',label=\"Analytical solution\")\n",
    "a.visu(0,200,29,30.1)\n",
    "\n",
    "a.addPlot(1,\"Implicit_Computation\")\n",
    "a.addPoint(\"./conduc3Dimp/Conduc3D_h_imp_implicite_TMEAN.son\",marker=\"+\",color=\"r\",label=\"Max residual\")\n",
    "a.add(np.linspace(0,200,100),30*np.ones(100), color='g',label=\"analytique\")\n",
    "a.visu(0,200,29,30.1)"
   ]
  },
  {
   "cell_type": "markdown",
   "id": "lined-collar",
   "metadata": {},
   "source": [
    "## Conclusion\n",
    "We see that with the implicit and explicit computations converge to the analytical solution in both 2D and 3D configurations."
   ]
  }
 ],
 "metadata": {
  "kernelspec": {
   "display_name": "Python 3 (ipykernel)",
   "language": "python",
   "name": "python3"
  },
  "language_info": {
   "codemirror_mode": {
    "name": "ipython",
    "version": 3
   },
   "file_extension": ".py",
   "mimetype": "text/x-python",
   "name": "python",
   "nbconvert_exporter": "python",
   "pygments_lexer": "ipython3",
   "version": "3.7.9"
  }
 },
 "nbformat": 4,
 "nbformat_minor": 5
}
