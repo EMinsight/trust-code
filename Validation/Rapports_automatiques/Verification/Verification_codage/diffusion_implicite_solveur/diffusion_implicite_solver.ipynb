{
 "cells": [
  {
   "cell_type": "markdown",
   "id": "inappropriate-lingerie",
   "metadata": {},
   "source": [
    "# Solveur option pour le schema Euler explicite avec diffusion implicite"
   ]
  },
  {
   "cell_type": "code",
   "execution_count": null,
   "id": "0311bb7e",
   "metadata": {},
   "outputs": [],
   "source": [
    "from trustutils import run\n",
    "\n",
    "run.introduction(\"Pierre LEDAC\")\n",
    "run.description(\"\")\n",
    "run.TRUST_parameters(\"1.8.3\")"
   ]
  },
  {
   "cell_type": "code",
   "execution_count": null,
   "id": "0868e968-9777-4954-80f4-46b58fe1b126",
   "metadata": {
    "tags": []
   },
   "outputs": [],
   "source": [
    "from trustutils import run  \n",
    "\n",
    "c1 = run.addCase(\".\",\"matrix_free_gc.data\",nbProcs=2)  \n",
    "c2 = run.addCase(\".\",\"matrix_free_gcp_diag.data\",nbProcs=2)  \n",
    "c3 = run.addCase(\".\",\"matrix_petsc_gcp_ilu0.data\",nbProcs=2)  \n",
    "\n",
    "run.printCases()\n",
    "run.runCases()"
   ]
  },
  {
   "cell_type": "markdown",
   "id": "e6c2c033-3d3d-40dd-9853-7ac2384d69d1",
   "metadata": {},
   "source": [
    "## Geometry\n",
    "### Partitioned mesh (2 MPI)"
   ]
  },
  {
   "cell_type": "code",
   "execution_count": null,
   "id": "99cfbb88-a376-499f-b4e3-e7be34571270",
   "metadata": {
    "scrolled": false
   },
   "outputs": [],
   "source": [
    "from trustutils import visit\n",
    "\n",
    "a = visit.Show(\"mesh.lata\",\"Pseudocolor\",\"PARTITION_ELEM_dom\")\n",
    "a.normal3D([-0.75,-0.38,0.53])\n",
    "a.up3D([-0.25,-0.57,-0.77])\n",
    "a.visuOptions([\"no_databaseinfo\"])\n",
    "a.plot()\n"
   ]
  },
  {
   "cell_type": "markdown",
   "id": "fbc380d8-b416-40a6-aff3-626088fe762e",
   "metadata": {},
   "source": [
    "### Convergence with current free-matrix method and new matrix solver method\n",
    "\n",
    "Residual NormL2(Ax-b) during the fist time step where convergence may be slow on some mesh:"
   ]
  },
  {
   "cell_type": "code",
   "execution_count": null,
   "id": "9159ba2f-604c-477b-9b5e-65ec5e8ef290",
   "metadata": {},
   "outputs": [],
   "source": [
    "from trustutils import plot \n",
    "\n",
    "a = plot.Graph(\"Residuals\")\n",
    "\n",
    "x = plot.loadText(\"matrix_free_gc.res\")\n",
    "a.add(x[0],x[1],marker='-|',label=\"matrix_free_gc\")\n",
    "a.label(\"Iteration\",\"Residual\")\n",
    "\n",
    "x = plot.loadText(\"matrix_free_gcp_diag.res\")\n",
    "a.add(x[0],x[1],marker='x-',label=\"matrix_free_gcp_diag\")\n",
    "\n",
    "x = plot.loadText(\"matrix_petsc_gcp_ilu0.res\")\n",
    "a.add(x[0],x[1],marker='*-',label=\"matrix_petsc_gcp_ilu\")\n",
    "\n",
    "a.scale(yscale='log')"
   ]
  },
  {
   "cell_type": "markdown",
   "id": "4616744c-7d37-4fe8-b4d5-e2767d7349fa",
   "metadata": {},
   "source": [
    "## Result with current free-matrix method and new matrix solver method\n"
   ]
  },
  {
   "cell_type": "code",
   "execution_count": null,
   "id": "b6484591-bbad-4af2-b1da-62bde475d1c6",
   "metadata": {},
   "outputs": [],
   "source": [
    "a = plot.Graph(\"Temperature probe\")\n",
    "a.addPoint(\"matrix_free_gc_TEMPERATURE.son\",marker='-|',label=\"matrix_free_gc\")\n",
    "a.addPoint(\"matrix_free_gcp_diag_TEMPERATURE.son\",marker='-x',label=\"matrix_free_gcp_diag\")\n",
    "a.addPoint(\"matrix_petsc_gcp_ilu0_TEMPERATURE.son\",marker='-*',label=\"matrix_petsc_gcp_ilu0\")\n",
    "\n",
    "a.visu()\n"
   ]
  },
  {
   "cell_type": "code",
   "execution_count": null,
   "id": "09da448f",
   "metadata": {},
   "outputs": [],
   "source": [
    "run.tablePerf()"
   ]
  }
 ],
 "metadata": {
  "kernelspec": {
   "display_name": "Python 3 (ipykernel)",
   "language": "python",
   "name": "python3"
  },
  "language_info": {
   "codemirror_mode": {
    "name": "ipython",
    "version": 3
   },
   "file_extension": ".py",
   "mimetype": "text/x-python",
   "name": "python",
   "nbconvert_exporter": "python",
   "pygments_lexer": "ipython3",
   "version": "3.7.9"
  }
 },
 "nbformat": 4,
 "nbformat_minor": 5
}
