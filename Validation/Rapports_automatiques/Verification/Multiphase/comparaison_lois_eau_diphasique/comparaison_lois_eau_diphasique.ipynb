{
 "cells": [
  {
   "attachments": {},
   "cell_type": "markdown",
   "id": "inappropriate-lingerie",
   "metadata": {},
   "source": [
    "# Comparaison EOS diphasique"
   ]
  },
  {
   "cell_type": "code",
   "execution_count": null,
   "id": "f08aed89",
   "metadata": {},
   "outputs": [],
   "source": [
    "from trustutils import run\n",
    "\n",
    "run.introduction(\"Yannick Gorsse\")\n",
    "run.description(\"\")\n",
    "run.TRUST_parameters()"
   ]
  },
  {
   "cell_type": "code",
   "execution_count": null,
   "id": "1fb992d4",
   "metadata": {},
   "outputs": [],
   "source": [
    "import os\n",
    "from string import Template\n",
    "\n",
    "run.reset()\n",
    "run.initBuildDirectory()\n",
    "origin, build_dir = os.getcwd(), run.BUILD_DIRECTORY\n",
    "\n",
    "fluids_template = Template(\"liquide_eau Fluide_generique_$lib { model $model fluid $liq } gaz_eau Fluide_generique_$lib { model $model fluid $vap } saturation_eau saturation_generique_$lib { model $model fluid $sat }\")\n",
    "\n",
    "models = {\n",
    "    \"EOS\": {\"liq\": \"waterliquid\", \"vap\": \"watervapor\", \"sat\": \"waterliquid\", \"models\": [\"cathare2\", \"refprop10\"], \"symbol\" : \"o\"},\n",
    "    \"CoolProp\": {\n",
    "        \"liq\": \"water phase liquid\",\n",
    "        \"vap\": \"water phase vapor\",\n",
    "        \"sat\": \"water phase liquid\",\n",
    "        \"models\": [\"TTSE&HEOS\", \"refprop\"],\n",
    "        # \"models\": [\"BICUBIC&HEOS\", \"TTSE&HEOS\", \"refprop\"], # BICUBIC&HEOS ne marche pas bien!\n",
    "        \"symbol\" : \"-\"\n",
    "    },\n",
    "}\n",
    "\n",
    "for lib, dict_mods in models.items():\n",
    "    for model in dict_mods[\"models\"]:\n",
    "        fluids = fluids_template.substitute({\"lib\": lib, \"model\": model, \"liq\": dict_mods[\"liq\"], \"vap\": dict_mods[\"vap\"], \"sat\": dict_mods[\"sat\"]})\n",
    "        run.addCaseFromTemplate(\"jdd.data\", f\"{lib}/{model.replace('&', '_')}\", {\"fluids\": fluids})\n",
    "\n",
    "run.runCases()\n",
    "run.tablePerf()\n"
   ]
  },
  {
   "cell_type": "code",
   "execution_count": null,
   "id": "a6079d41",
   "metadata": {},
   "outputs": [],
   "source": [
    "from trustutils import plot\n",
    "\n",
    "a = plot.Graph(f\"Residus\")\n",
    "for lib, dict_mods in models.items():\n",
    "    for model in dict_mods[\"models\"]:\n",
    "        a.addResidu(f\"{build_dir}/{lib}/{model.replace('&', '_')}/jdd.dt_ev\", label=f\"{lib} - {model}\", marker=dict_mods[\"symbol\"])\n",
    "\n",
    "a.scale(yscale='log')"
   ]
  },
  {
   "cell_type": "code",
   "execution_count": null,
   "id": "0f880f81",
   "metadata": {},
   "outputs": [],
   "source": [
    "from trustutils import plot\n",
    "\n",
    "vars = {\"V\" : [2, 3], \"P\" : [0], \"RHO\" : [0, 1], \"EINT\" : [0, 1], \"ALPHA\" : [0], \"T\" : [0, 1]}\n",
    "\n",
    "for var, compos in vars.items():\n",
    "    a = plot.Graph(var, nY=len(compos))\n",
    "    for lib, dict_mods in models.items():\n",
    "        for model in dict_mods[\"models\"]:\n",
    "            for i, c in enumerate(compos):\n",
    "                a.addPlot(i)\n",
    "                a.addSegment(f\"{build_dir}/{lib}/{model.replace('&', '_')}/jdd_{var}.son\", label=f\"{lib} - {model}\", marker=dict_mods[\"symbol\"], compo=c)\n"
   ]
  }
 ],
 "metadata": {
  "kernelspec": {
   "display_name": "Python 3 (ipykernel)",
   "language": "python",
   "name": "python3"
  },
  "language_info": {
   "codemirror_mode": {
    "name": "ipython",
    "version": 3
   },
   "file_extension": ".py",
   "mimetype": "text/x-python",
   "name": "python",
   "nbconvert_exporter": "python",
   "pygments_lexer": "ipython3",
   "version": "3.7.9"
  },
  "vscode": {
   "interpreter": {
    "hash": "b782577cff7740386d5a4408bd06491b01e7449d0be1e4e757afd3bc68462014"
   }
  }
 },
 "nbformat": 4,
 "nbformat_minor": 5
}
