{
 "cells": [
  {
   "cell_type": "markdown",
   "id": "gross-patent",
   "metadata": {},
   "source": [
    "# Verification des pertes de charge circulaire en VEF"
   ]
  },
  {
   "cell_type": "code",
   "execution_count": 1,
   "id": "bf11a4fd",
   "metadata": {},
   "outputs": [
    {
     "data": {
      "text/markdown": [
       "## Introduction \n",
       " Validation made by : G.F.\n"
      ],
      "text/plain": [
       "<IPython.core.display.Markdown object>"
      ]
     },
     "metadata": {},
     "output_type": "display_data"
    },
    {
     "data": {
      "text/markdown": [
       "\n",
       " Report generated 27/01/2022"
      ],
      "text/plain": [
       "<IPython.core.display.Markdown object>"
      ]
     },
     "metadata": {},
     "output_type": "display_data"
    },
    {
     "data": {
      "text/markdown": [
       "### Description \n",
       "Calculs menes en VEF"
      ],
      "text/plain": [
       "<IPython.core.display.Markdown object>"
      ]
     },
     "metadata": {},
     "output_type": "display_data"
    },
    {
     "data": {
      "text/markdown": [
       "### TRUST parameters \n",
       " * Version TRUST: 1.8.4\n",
       " * Binary used: /volatile/catA/ll258196/trust-code/exec/TRUST_mpi_opt (built on TRUST /volatile/catA/ll258196/trust-code/Validation/Rapports_automatiques/jupyter/Verification_codage/Perte_Charge_Circulaire_VEF/build)"
      ],
      "text/plain": [
       "<IPython.core.display.Markdown object>"
      ]
     },
     "metadata": {},
     "output_type": "display_data"
    }
   ],
   "source": [
    "from trustutils import run\n",
    "\n",
    "run.introduction(\"G.F.\")\n",
    "run.description(\"Calculs menes en VEF\")\n",
    "run.TRUST_parameters(\"\")"
   ]
  },
  {
   "cell_type": "code",
   "execution_count": 2,
   "id": "15189bb2-352d-48f9-85fa-64c4323e0f88",
   "metadata": {},
   "outputs": [
    {
     "data": {
      "text/markdown": [
       "### Test cases \n",
       "* ./Perte_Charge_Circulaire.data : \n",
       "* ./Perte_Charge_Circulaire_Y.data : \n",
       "* ./impl_Perte_Charge_Circulaire.data : \n",
       "* ./impl_Perte_Charge_Circulaire_Y.data : \n"
      ],
      "text/plain": [
       "<IPython.core.display.Markdown object>"
      ]
     },
     "metadata": {},
     "output_type": "display_data"
    },
    {
     "name": "stdout",
     "output_type": "stream",
     "text": [
      "Running **with Sserver**...\n",
      "  => A total of 4 cases were (successfully) run in 0.4s.\n"
     ]
    }
   ],
   "source": [
    "from trustutils import run \n",
    "run.addCase(\".\" ,\"Perte_Charge_Circulaire.data\") \n",
    "run.addCase(\".\" ,\"Perte_Charge_Circulaire_Y.data\") \n",
    "run.addCase(\".\" ,\"impl_Perte_Charge_Circulaire.data\") \n",
    "run.addCase(\".\" ,\"impl_Perte_Charge_Circulaire_Y.data\")\n",
    "run.printCases()\n",
    "run.runCases()"
   ]
  },
  {
   "cell_type": "markdown",
   "id": "f31c6d0f-d50c-4b57-9d77-499686cc88dc",
   "metadata": {},
   "source": [
    "## Verification du gradient de pression cas direction 1 0"
   ]
  },
  {
   "cell_type": "code",
   "execution_count": 3,
   "id": "089cbb5c-12dd-471e-ad62-19d5dc43b8df",
   "metadata": {},
   "outputs": [
    {
     "data": {
      "text/html": [
       "<div>\n",
       "<style scoped>\n",
       "    .dataframe tbody tr th:only-of-type {\n",
       "        vertical-align: middle;\n",
       "    }\n",
       "\n",
       "    .dataframe tbody tr th {\n",
       "        vertical-align: top;\n",
       "    }\n",
       "\n",
       "    .dataframe thead th {\n",
       "        text-align: right;\n",
       "    }\n",
       "</style>\n",
       "<table border=\"1\" class=\"dataframe\">\n",
       "  <thead>\n",
       "    <tr style=\"text-align: right;\">\n",
       "      <th></th>\n",
       "      <th>pression</th>\n",
       "    </tr>\n",
       "  </thead>\n",
       "  <tbody>\n",
       "    <tr>\n",
       "      <th>theorie</th>\n",
       "      <td>-5</td>\n",
       "    </tr>\n",
       "    <tr>\n",
       "      <th>standard</th>\n",
       "      <td>-5.0</td>\n",
       "    </tr>\n",
       "    <tr>\n",
       "      <th>implicite</th>\n",
       "      <td>-5.0</td>\n",
       "    </tr>\n",
       "  </tbody>\n",
       "</table>\n",
       "</div>"
      ],
      "text/plain": [
       "          pression\n",
       "theorie         -5\n",
       "standard      -5.0\n",
       "implicite     -5.0"
      ]
     },
     "execution_count": 3,
     "metadata": {},
     "output_type": "execute_result"
    }
   ],
   "source": [
    "from trustutils import plot\n",
    "import numpy as np\n",
    " \n",
    "Tableau=plot.Table([\"pression\"]) \n",
    "Tableau.addLigne([[-5]],\"theorie\")\n",
    "Tableau.loadPoint(\"Perte_Charge_Circulaire_MIN_GRADIENT.son\",\"standard\")\n",
    "Tableau.loadPoint(\"impl_Perte_Charge_Circulaire_MIN_GRADIENT.son\",\"implicite\")\n",
    "\n",
    "Tableau.df"
   ]
  },
  {
   "cell_type": "markdown",
   "id": "9683c0d3-97a1-4b25-9e9e-1d291ad53dfe",
   "metadata": {},
   "source": [
    "Verification du gradient de pression cas direction 0 1"
   ]
  },
  {
   "cell_type": "code",
   "execution_count": 4,
   "id": "565f70f0-9abb-4545-9a81-f9d2bb1d3f66",
   "metadata": {},
   "outputs": [
    {
     "data": {
      "text/html": [
       "<div>\n",
       "<style scoped>\n",
       "    .dataframe tbody tr th:only-of-type {\n",
       "        vertical-align: middle;\n",
       "    }\n",
       "\n",
       "    .dataframe tbody tr th {\n",
       "        vertical-align: top;\n",
       "    }\n",
       "\n",
       "    .dataframe thead th {\n",
       "        text-align: right;\n",
       "    }\n",
       "</style>\n",
       "<table border=\"1\" class=\"dataframe\">\n",
       "  <thead>\n",
       "    <tr style=\"text-align: right;\">\n",
       "      <th></th>\n",
       "      <th>pression</th>\n",
       "    </tr>\n",
       "  </thead>\n",
       "  <tbody>\n",
       "    <tr>\n",
       "      <th>theorie</th>\n",
       "      <td>-3.44890</td>\n",
       "    </tr>\n",
       "    <tr>\n",
       "      <th>standard</th>\n",
       "      <td>-3.44899</td>\n",
       "    </tr>\n",
       "    <tr>\n",
       "      <th>implicite</th>\n",
       "      <td>-3.44899</td>\n",
       "    </tr>\n",
       "  </tbody>\n",
       "</table>\n",
       "</div>"
      ],
      "text/plain": [
       "           pression\n",
       "theorie    -3.44890\n",
       "standard   -3.44899\n",
       "implicite  -3.44899"
      ]
     },
     "execution_count": 4,
     "metadata": {},
     "output_type": "execute_result"
    }
   ],
   "source": [
    "Tableau=plot.Table([\"pression\"]) \n",
    "Tableau.addLigne([[-3.4489]],\"theorie\")\n",
    "Tableau.loadPoint(\"Perte_Charge_Circulaire_Y_MIN_GRADIENT.son\",\"standard\")\n",
    "Tableau.loadPoint(\"impl_Perte_Charge_Circulaire_Y_MIN_GRADIENT.son\",\"implicite\")\n",
    "\n",
    "Tableau.df"
   ]
  },
  {
   "cell_type": "markdown",
   "id": "64fde24d-a89a-411f-8dbc-2f4ac38206b1",
   "metadata": {},
   "source": [
    "## Data Files\n",
    "### Perte_Charge_Circulaire"
   ]
  },
  {
   "cell_type": "code",
   "execution_count": 5,
   "id": "d8b4dba3-657e-4856-a7db-3ef5f826079c",
   "metadata": {},
   "outputs": [
    {
     "name": "stdout",
     "output_type": "stream",
     "text": [
      " \u001b[38;5;88m# test perte_charge_circuaire_vef #\n",
      "\u001b[0;0m \u001b[38;5;88m# PARALLEL OK #\n",
      "\u001b[0;0m dimension 2\n",
      "\u001b[38;5;28m Domaine \u001b[0;0mdom\n",
      " \n",
      " \u001b[38;5;88m# BEGIN MESH #\n",
      "\u001b[0;0m\u001b[38;5;28m Mailler \u001b[0;0mdom {\n",
      " \t\u001b[38;5;28m Pave \u001b[0;0mCavite {\n",
      " \t \t\u001b[38;5;28m Origine \u001b[0;0m0 0\n",
      "      \t \t Nombre_de_Noeuds 16 6\n",
      " \t \t Longueurs 30. 10.\n",
      " \t } {\n",
      " \t \t\u001b[38;5;28m Bord \u001b[0;0mHaut Y\u001b[38;5;28m = \u001b[0;0m10   0\u001b[38;5;28m <= \u001b[0;0mX\u001b[38;5;28m <= \u001b[0;0m30\n",
      " \t \t\u001b[38;5;28m Bord \u001b[0;0mBas Y\u001b[38;5;28m = \u001b[0;0m0     0\u001b[38;5;28m <= \u001b[0;0mX\u001b[38;5;28m <= \u001b[0;0m30\n",
      " \t \t\u001b[38;5;28m Bord \u001b[0;0mEntree X\u001b[38;5;28m = \u001b[0;0m0 0\u001b[38;5;28m <= \u001b[0;0mY\u001b[38;5;28m <= \u001b[0;0m10\n",
      " \t \t\u001b[38;5;28m Bord \u001b[0;0mSortie X\u001b[38;5;28m = \u001b[0;0m30  0\u001b[38;5;28m <= \u001b[0;0mY\u001b[38;5;28m <= \u001b[0;0m10\n",
      " \t }\n",
      " }\n",
      " Trianguler_H dom\n",
      " \n",
      " Sous_Zone zone1\n",
      "\u001b[38;5;28m Associate \u001b[0;0mzone1 dom\n",
      "\u001b[38;5;28m \u001b[38;5;4mRead\u001b[0;0m \u001b[0;0mzone1 {\n",
      "    Rectangle\n",
      "      \u001b[38;5;28m Origine \u001b[0;0m0 0\n",
      "      \u001b[38;5;28m Cotes \u001b[0;0m  30 10\n",
      " }\n",
      " \n",
      " \u001b[38;5;88m# END MESH #\n",
      "\u001b[0;0m \n",
      " \u001b[38;5;88m# BEGIN PARTITION\n",
      "\u001b[0;0m\u001b[38;5;28m \u001b[38;5;4mPartition\u001b[0;0m \u001b[0;0mdom\n",
      " {\n",
      " \t\u001b[38;5;28m \u001b[38;5;4mPartition\u001b[0;0m_tool \u001b[0;0mtranche {\u001b[38;5;28m tranches \u001b[0;0m2 1 }\n",
      " \t Larg_joint 2\n",
      " \t\u001b[38;5;28m zones_name \u001b[0;0mDOM\n",
      " }\n",
      " End\n",
      " END PARTITION #\n",
      " \n",
      " \u001b[38;5;88m# BEGIN SCATTER\n",
      "\u001b[0;0m\u001b[38;5;28m Scatter \u001b[0;0mDOM.Zones dom\n",
      " Sous_Zone  zone1\n",
      "\u001b[38;5;28m Associate \u001b[0;0mzone1 dom\n",
      "\u001b[38;5;28m \u001b[38;5;4mRead\u001b[0;0m \u001b[0;0mzone1 { Fichier zone1.ssz }\n",
      " END SCATTER #\n",
      " \n",
      " \n",
      " \u001b[38;5;88m# Le schema en temps #\n",
      "\u001b[0;0m\u001b[38;5;28m Scheme_euler_explicit \u001b[0;0msch\n",
      "\u001b[38;5;28m \u001b[38;5;4mRead\u001b[0;0m \u001b[0;0msch {\n",
      " \t\u001b[38;5;28m tinit \u001b[0;0m  0\n",
      " \t\u001b[38;5;28m tmax \u001b[0;0m   10.\n",
      " \t\u001b[38;5;28m dt_min \u001b[0;0m 1e-12\n",
      " \t\u001b[38;5;28m dt_max \u001b[0;0m 1\n",
      " \t\u001b[38;5;28m dt_impr \u001b[0;0m1\n",
      " \t\u001b[38;5;28m dt_sauv \u001b[0;0m100\n",
      " \t\u001b[38;5;28m seuil_statio \u001b[0;0m1e-10\n",
      " }\n",
      "\u001b[38;5;28m Scheme_euler_implicit \u001b[0;0msch_impl\n",
      "\u001b[38;5;28m \u001b[38;5;4mRead\u001b[0;0m \u001b[0;0msch_impl {\n",
      " \t\u001b[38;5;28m tinit \u001b[0;0m  0\n",
      " \t\u001b[38;5;28m tmax \u001b[0;0m   10.\n",
      " \t\u001b[38;5;28m dt_min \u001b[0;0m 1e-12\n",
      " \t\u001b[38;5;28m dt_max \u001b[0;0m 1\n",
      " \t\u001b[38;5;28m dt_impr \u001b[0;0m1\n",
      " \t\u001b[38;5;28m dt_sauv \u001b[0;0m100\n",
      " \t\u001b[38;5;28m seuil_statio \u001b[0;0m1e-10\n",
      " \t solveur\u001b[38;5;28m implicite \u001b[0;0m{\u001b[38;5;28m seuil_convergence_solveur \u001b[0;0m1e-3 }\n",
      " }\n",
      " \n",
      " VEFPreP1B dis\n",
      " \n",
      " \u001b[38;5;88m# Le Fluide #\n",
      "\u001b[0;0m Fluide_Incompressible eau\n",
      "\u001b[38;5;28m \u001b[38;5;4mRead\u001b[0;0m \u001b[0;0meau {\n",
      " \t\u001b[38;5;28m mu \u001b[0;0mChamp_Uniforme 1 0.001\n",
      " \t\u001b[38;5;28m rho \u001b[0;0mChamp_Uniforme 1 1000\n",
      " }\n",
      " \n",
      " \n",
      " \u001b[38;5;88m# Le Probleme #\n",
      "\u001b[0;0m\u001b[38;5;28m Pb_hydraulique \u001b[0;0mpb\n",
      " \n",
      "\u001b[38;5;28m Associate \u001b[0;0mpb dom\n",
      "\u001b[38;5;28m Associate \u001b[0;0mpb sch\n",
      "\u001b[38;5;28m Associate \u001b[0;0mpb eau\n",
      "\u001b[38;5;28m Discretize \u001b[0;0mpb dis\n",
      " \n",
      " \n",
      " \n",
      " \n",
      "\u001b[38;5;28m \u001b[38;5;4mRead\u001b[0;0m \u001b[0;0mpb {\n",
      " \n",
      " \t Navier_Stokes_standard {\n",
      " \t \t\u001b[38;5;28m methode_calcul_pression_initiale \u001b[0;0mavec_sources\t \n",
      " \t \t solveur_pression\u001b[38;5;28m GCP \u001b[0;0m{\n",
      " \t \t \t\u001b[38;5;28m precond \u001b[0;0mssor {\u001b[38;5;28m omega \u001b[0;0m1.5 }\n",
      " \t \t \t\u001b[38;5;28m seuil \u001b[0;0m1.e-10\n",
      " \t \t }\n",
      " \t \t \n",
      " \t \t\u001b[38;5;28m Sources \u001b[0;0m{\n",
      " \t \t \t\u001b[38;5;28m Perte_charge_circulaire \u001b[0;0m{\n",
      " \t \t \t \t diam_hydr\u001b[38;5;28m champ_uniforme \u001b[0;0m1 0.01\n",
      " \t \t \t \t diam_hydr_ortho\u001b[38;5;28m champ_uniforme \u001b[0;0m1 0.02\n",
      " \t \t \t \t\u001b[38;5;28m lambda \u001b[0;0m96/Re_tot*0+1.*(Re_long)^(-0.25)\n",
      " \t \t \t \t\u001b[38;5;28m lambda_ortho \u001b[0;0m96/Re_tot*0+2.*(Re_ortho)^(-0.27)\n",
      " \t \t \t \t\u001b[38;5;28m sous_zone \u001b[0;0mzone1\n",
      " \t \t \t \t direction\u001b[38;5;28m champ_uniforme \u001b[0;0m2 1 0\n",
      " \t \t \t }\n",
      " \t \t }\n",
      " \t \t \n",
      " \t \t\u001b[38;5;28m convection \u001b[0;0m{\u001b[38;5;28m amont \u001b[0;0m}\n",
      " \t \t\u001b[38;5;28m \u001b[38;5;4mdiffusion\u001b[0;0m \u001b[0;0m{ }\n",
      " \t \t\u001b[38;5;28m \u001b[38;5;4minitial_conditions\u001b[0;0m \u001b[0;0m{\n",
      " \t \t \t\u001b[38;5;28m vitesse \u001b[0;0mChamp_Uniforme 2 0 0\n",
      " \t \t }\n",
      " \t \t \n",
      " \t \t\u001b[38;5;28m \u001b[38;5;4mboundary_conditions\u001b[0;0m \u001b[0;0m{\n",
      " \t \t \t Haut   symetrie\n",
      " \t \t \t Bas    symetrie\n",
      " \t \t \t Entree frontiere_ouverte_vitesse_imposee Champ_Front_Uniforme 2 1. 0.\n",
      " \t \t \t Sortie frontiere_ouverte_pression_imposee champ_front_uniforme 1 0.\n",
      " \t \t }\n",
      " \n",
      " \t }\n",
      " \n",
      " \t\u001b[38;5;28m \u001b[38;5;4mPost_processing\u001b[0;0m \u001b[0;0m{\n",
      " \t     Definition_champs {\n",
      " \t min_gradient Reduction_0D {\u001b[38;5;28m methode \u001b[0;0mmin\n",
      " \t \t\u001b[38;5;28m source \u001b[0;0mrefChamp {\u001b[38;5;28m pb_champ \u001b[0;0mpb gradient_pression  }\n",
      " \t \t }\n",
      " \t }\n",
      " \t \t\u001b[38;5;28m \u001b[38;5;4mProbes\u001b[0;0m \u001b[0;0m\n",
      " \t \t {  \n",
      " \t \t    min_gradient min_gradient\u001b[38;5;28m periode \u001b[0;0m1.e-9 numero_elem_sur_maitre 0\n",
      " \t \t    sonde_vitesse vitesse\u001b[38;5;28m periode \u001b[0;0m0.1 point 1 15 5\n",
      " \t \t      sonde_gradient_pression gradient_pression\u001b[38;5;28m periode \u001b[0;0m0.1 point 1 15 5\t \n",
      " \t \t }\n",
      " \t \t \u001b[38;5;4mfields\u001b[0;0m\u001b[38;5;28m dt_post \u001b[0;0m1 {\n",
      " \t \t \t pression_pa elem\n",
      " \t \t \t\u001b[38;5;28m pression \u001b[0;0melem\n",
      " \t \t \t\u001b[38;5;28m vitesse \u001b[0;0melem\n",
      " \t \t \t gradient_pressionX elem\n",
      " \t \t }\n",
      " \t }\n",
      " }\n",
      " \n",
      "\u001b[38;5;28m Solve \u001b[0;0mpb\n",
      " \n",
      " End\n",
      " \n",
      " \n",
      " \n",
      " \n",
      " \n",
      " Autres exemples :\n",
      " \n",
      " \n",
      " \n",
      " \t \t \t\u001b[38;5;28m Perte_charge_directionnelle \u001b[0;0m{\n",
      " \t \t \t \t diam_hydr\u001b[38;5;28m champ_uniforme \u001b[0;0m1 0.02\n",
      " \t \t \t \t\u001b[38;5;28m lambda \u001b[0;0m96/Re\n",
      " \t \t \t \t\u001b[38;5;28m sous_zone \u001b[0;0mzone1\n",
      " \t \t \t \t direction\u001b[38;5;28m champ_uniforme \u001b[0;0m2 1 1\n",
      " \t \t \t }\n",
      " \n",
      " \n",
      " \t \t \t\u001b[38;5;28m Perte_charge_isotrope \u001b[0;0m{\n",
      " \t \t \t \t diam_hydr\u001b[38;5;28m champ_uniforme \u001b[0;0m1 0.1\n",
      " \t \t \t \t\u001b[38;5;28m lambda \u001b[0;0m64/Re\n",
      " \t \t \t }\n",
      " \n",
      " \n",
      " \t \t \t\u001b[38;5;28m Perte_charge_isotrope \u001b[0;0m{\n",
      " \t \t \t \t diam_hydr\u001b[38;5;28m champ_uniforme \u001b[0;0m1 0.1\n",
      " \t \t \t \t\u001b[38;5;28m lambda \u001b[0;0m96/Re\n",
      " \t \t \t \t\u001b[38;5;28m sous_zone \u001b[0;0mzone1\n",
      " \t \t \t }\n",
      " \n",
      " \n",
      " \t \t \t\u001b[38;5;28m Perte_charge_anisotrope \u001b[0;0m{\n",
      " \t \t \t \t diam_hydr\u001b[38;5;28m champ_uniforme \u001b[0;0m1 0.01\n",
      " \t \t \t \t\u001b[38;5;28m lambda_ortho \u001b[0;0m64/Re\n",
      " \t \t \t \t\u001b[38;5;28m lambda \u001b[0;0m64/Re\n",
      " \t \t \t \t\u001b[38;5;28m sous_zone \u001b[0;0mzone1\n",
      " \t \t \t \t direction\u001b[38;5;28m champ_uniforme \u001b[0;0m2 1 1\n",
      " \t \t \t }\n",
      " \n",
      "\n"
     ]
    }
   ],
   "source": [
    "run.dumpDataset(\"Perte_Charge_Circulaire.data\")"
   ]
  }
 ],
 "metadata": {
  "kernelspec": {
   "display_name": "Python 3",
   "language": "python",
   "name": "python3"
  },
  "language_info": {
   "codemirror_mode": {
    "name": "ipython",
    "version": 3
   },
   "file_extension": ".py",
   "mimetype": "text/x-python",
   "name": "python",
   "nbconvert_exporter": "python",
   "pygments_lexer": "ipython3",
   "version": "3.7.9"
  }
 },
 "nbformat": 4,
 "nbformat_minor": 5
}
