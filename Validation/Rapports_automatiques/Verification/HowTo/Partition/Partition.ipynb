{
 "cells": [
  {
   "cell_type": "markdown",
   "id": "519d45f3",
   "metadata": {},
   "source": [
    "# Partition tests"
   ]
  },
  {
   "cell_type": "code",
   "execution_count": null,
   "id": "674eaa19",
   "metadata": {},
   "outputs": [],
   "source": [
    "from trustutils import run \n",
    "\n",
    "run.introduction(\"Pierre LEDAC\")"
   ]
  },
  {
   "cell_type": "markdown",
   "id": "066bf644",
   "metadata": {},
   "source": [
    "### Description\n",
    "\n",
    "Testing Metis and Tranche partitioner tools with/without reordering (order option set to 0 or 1). \n",
    "\n",
    "NB: TRUST has a strong hypothesis: cell 0 should be on master (process 0).\n",
    "\n",
    "Order option reduces the distance between neighbours."
   ]
  },
  {
   "cell_type": "code",
   "execution_count": null,
   "id": "57409341",
   "metadata": {},
   "outputs": [],
   "source": [
    "run.TRUST_parameters(\"1.8.3\")"
   ]
  },
  {
   "cell_type": "code",
   "execution_count": null,
   "id": "d56dd707",
   "metadata": {},
   "outputs": [],
   "source": [
    "from trustutils import run \n",
    "c1 = run.addCase(\".\",\"dec.data\") \n",
    "run.printCases()\n",
    "run.runCases()"
   ]
  },
  {
   "cell_type": "markdown",
   "id": "b26a3011",
   "metadata": {},
   "source": [
    "## Partition with Metis"
   ]
  },
  {
   "cell_type": "code",
   "execution_count": null,
   "id": "933fe2a3",
   "metadata": {},
   "outputs": [],
   "source": [
    "from trustutils import visit\n",
    "\n",
    "a=visit.Show(\"metis_00000.lata\",\"Pseudocolor\",\"PARTITION_ELEM_dom\",plotmesh=False,title=\"No reordering\",nY=2)\n",
    "a.add(\"metis_reorder_00000.lata\",\"Pseudocolor\",\"PARTITION_ELEM_dom\",plotmesh=False,title=\"Reordering\",yIndice=1)\n",
    "a.plot()"
   ]
  },
  {
   "cell_type": "markdown",
   "id": "a02ea0ef",
   "metadata": {},
   "source": [
    "## Partition with Tranche"
   ]
  },
  {
   "cell_type": "code",
   "execution_count": null,
   "id": "9cb8ba6d",
   "metadata": {},
   "outputs": [],
   "source": [
    "from trustutils import visit\n",
    "\n",
    "a=visit.Show(\"tranche_00000.lata\",\"Pseudocolor\",\"PARTITION_ELEM_dom\",plotmesh=False,title=\"No reordering\",nY=2)\n",
    "a.add(\"tranche_reorder_00000.lata\",\"Pseudocolor\",\"PARTITION_ELEM_dom\",plotmesh=False,title=\"Reordering\",yIndice=1)\n",
    "a.plot()"
   ]
  }
 ],
 "metadata": {
  "kernelspec": {
   "display_name": "Python 3 (ipykernel)",
   "language": "python",
   "name": "python3"
  },
  "language_info": {
   "codemirror_mode": {
    "name": "ipython",
    "version": 3
   },
   "file_extension": ".py",
   "mimetype": "text/x-python",
   "name": "python",
   "nbconvert_exporter": "python",
   "pygments_lexer": "ipython3",
   "version": "3.7.9"
  }
 },
 "nbformat": 4,
 "nbformat_minor": 5
}
