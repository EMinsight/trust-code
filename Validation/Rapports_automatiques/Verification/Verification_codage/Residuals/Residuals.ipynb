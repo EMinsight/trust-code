{
 "cells": [
  {
   "cell_type": "markdown",
   "id": "inappropriate-lingerie",
   "metadata": {},
   "source": [
    "# Testing different norms for residue"
   ]
  },
  {
   "cell_type": "code",
   "execution_count": null,
   "id": "4205c255",
   "metadata": {},
   "outputs": [],
   "source": [
    "from trustutils import run\n",
    "\n",
    "run.introduction(\"Anida Khizar\")\n",
    "run.description(\"Running trust calculations by taking into account the norm of the residue defined by the user. The residue is then post-processed to check the results.\")\n",
    "run.TRUST_parameters()"
   ]
  },
  {
   "cell_type": "markdown",
   "id": "obvious-arrangement",
   "metadata": {},
   "source": [
    "### Test Cases\n",
    "* ./Residus_norm_max.data :\n",
    "* ./Residus_norm_L2.data :"
   ]
  },
  {
   "cell_type": "code",
   "execution_count": null,
   "id": "687d21fd-6887-4818-a9f4-ed42aa1dae65",
   "metadata": {},
   "outputs": [],
   "source": [
    "from trustutils import run \n",
    "import os\n",
    "run.addCase(\".\",\"Residus_norm_max.data\")\n",
    "run.addCase(\".\",\"Residus_norm_L2.data\") \n",
    "run.runCases()"
   ]
  },
  {
   "cell_type": "markdown",
   "id": "growing-hundred",
   "metadata": {},
   "source": [
    "## Visualization of residuals\n",
    "\n",
    "### Norm max"
   ]
  },
  {
   "cell_type": "code",
   "execution_count": null,
   "id": "de6f9473-acdd-47c6-a8de-477bfc52a36a",
   "metadata": {},
   "outputs": [],
   "source": [
    "from trustutils import visit\n",
    "\n",
    "fig=visit.Show(\"./Residus_norm_max.lata\",\"Pseudocolor\",\"TEMPERATURE_RESIDU_ELEM_dom\",plotmesh=True,title=\"Residuals\",nY=2,nX=2)\n",
    "fig.add(\"./Residus_norm_max.lata\",\"Pseudocolor\",\"CONCENTRATION_ELEM_dom\",plotmesh=True,xIndice=0,yIndice=1)\n",
    "fig.add(\"./Residus_norm_max.lata\",\"Pseudocolor\",\"VITESSE_RESIDU_X_ELEM_dom\",plotmesh=True,xIndice=1,yIndice=0)\n",
    "fig.add(\"./Residus_norm_max.lata\",\"Pseudocolor\",\"VITESSE_RESIDU_Y_ELEM_dom\",plotmesh=True,xIndice=1,yIndice=1)\n",
    "\n",
    "fig.plot()"
   ]
  },
  {
   "cell_type": "markdown",
   "id": "1e22bfee-1a08-42b6-b05f-65558908559c",
   "metadata": {},
   "source": [
    "### Norm L2"
   ]
  },
  {
   "cell_type": "code",
   "execution_count": null,
   "id": "227ea8c5-9474-4499-b778-d6c43f328482",
   "metadata": {},
   "outputs": [],
   "source": [
    "from trustutils import visit\n",
    "\n",
    "fig=visit.Show(\"./Residus_norm_L2.lata\",\"Pseudocolor\",\"TEMPERATURE_RESIDU_ELEM_dom\",plotmesh=True,title=\"Residuals\",nY=2,nX=2)\n",
    "fig.add(\"./Residus_norm_L2.lata\",\"Pseudocolor\",\"CONCENTRATION_RESIDU_ELEM_dom\",plotmesh=True,xIndice=0,yIndice=1)\n",
    "fig.add(\"./Residus_norm_L2.lata\",\"Pseudocolor\",\"VITESSE_RESIDU_X_ELEM_dom\",plotmesh=True,xIndice=1,yIndice=0)\n",
    "fig.add(\"./Residus_norm_L2.lata\",\"Pseudocolor\",\"VITESSE_RESIDU_Y_ELEM_dom\",plotmesh=True,xIndice=1,yIndice=1)\n",
    "fig.plot()"
   ]
  },
  {
   "cell_type": "code",
   "execution_count": null,
   "id": "2f2d4ede",
   "metadata": {},
   "outputs": [],
   "source": []
  }
 ],
 "metadata": {
  "kernelspec": {
   "display_name": "Python 3 (ipykernel)",
   "language": "python",
   "name": "python3"
  },
  "language_info": {
   "codemirror_mode": {
    "name": "ipython",
    "version": 3
   },
   "file_extension": ".py",
   "mimetype": "text/x-python",
   "name": "python",
   "nbconvert_exporter": "python",
   "pygments_lexer": "ipython3",
   "version": "3.7.9"
  }
 },
 "nbformat": 4,
 "nbformat_minor": 5
}
