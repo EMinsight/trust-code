{
 "cells": [
  {
   "cell_type": "markdown",
   "id": "inappropriate-lingerie",
   "metadata": {},
   "source": [
    "# Test de champ_tabule_temps"
   ]
  },
  {
   "cell_type": "code",
   "execution_count": null,
   "id": "c6b901c8",
   "metadata": {},
   "outputs": [],
   "source": [
    "from trustutils import run\n",
    "\n",
    "run.introduction(\"Fauchet\")\n",
    "run.description(\"On regarde si le champs de comporte correctement.\")\n",
    "run.TRUST_parameters()"
   ]
  },
  {
   "cell_type": "code",
   "execution_count": null,
   "id": "0c2d6847-53c4-42d1-8b31-1fb3abd1631e",
   "metadata": {},
   "outputs": [],
   "source": [
    "run.addCase(\".\",\"champ_tabule_temps.data\")\n",
    "run.addCase(\".\",\"champ_tabule_med.data\"  ) \n",
    "run.printCases()\n",
    "run.runCases()"
   ]
  },
  {
   "cell_type": "markdown",
   "id": "growing-hundred",
   "metadata": {},
   "source": [
    "## Champ_tabule\n",
    "\n",
    "On regarde directement le champ via la puissance volumique.\n",
    "\n",
    "Attention le champ de puissance lu est généré via champ_tabule."
   ]
  },
  {
   "cell_type": "code",
   "execution_count": null,
   "id": "interim-jerusalem",
   "metadata": {},
   "outputs": [],
   "source": [
    "from trustutils import plot \n",
    "\n",
    "a=plot.Graph(\" \") \n",
    "x=plot.loadText(\"Puissance.dat\")\n",
    "a.add(x[0],x[1],\"-x\",color=\"r\",label=\"theorie\") \n",
    "a.addPoint(\"./champ_tabule_temps_P.son\",color=\"g\",label=\"champ tabule temps\")\n",
    "a.addPoint(\"./champ_tabule_med_P.son\"  ,color=\"b\",label=\"champ tabule med\")\n",
    "a.label(\"time\",\"V\")\n",
    "a.visu()"
   ]
  }
 ],
 "metadata": {
  "kernelspec": {
   "display_name": "Python 3 (ipykernel)",
   "language": "python",
   "name": "python3"
  },
  "language_info": {
   "codemirror_mode": {
    "name": "ipython",
    "version": 3
   },
   "file_extension": ".py",
   "mimetype": "text/x-python",
   "name": "python",
   "nbconvert_exporter": "python",
   "pygments_lexer": "ipython3",
   "version": "3.7.9"
  }
 },
 "nbformat": 4,
 "nbformat_minor": 5
}
