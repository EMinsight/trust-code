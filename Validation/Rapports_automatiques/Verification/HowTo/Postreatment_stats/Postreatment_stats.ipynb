{
 "cells": [
  {
   "cell_type": "markdown",
   "id": "519d45f3",
   "metadata": {},
   "source": [
    "# Python package for postprocessing the TRUST son files"
   ]
  },
  {
   "cell_type": "code",
   "execution_count": null,
   "id": "3d9390e2",
   "metadata": {},
   "outputs": [],
   "source": [
    "from trustutils import run \n",
    "\n",
    "run.introduction(\"Morad Ben Tayeb\")\n",
    "run.description(\"\")\n",
    "run.TRUST_parameters(\"1.8.3\")"
   ]
  },
  {
   "cell_type": "code",
   "execution_count": null,
   "id": "d56dd707",
   "metadata": {},
   "outputs": [],
   "source": [
    "from trustutils import run\n",
    "\n",
    "run.reset()\n",
    "\n",
    "c1 = run.addCaseFromTemplate(\"Cas.data\",\"sim_1\",{\"CASE\": \"sim_1\"})\n",
    "c1.runCase()\n",
    "\n",
    "c2 = run.addCaseFromTemplate(\"Cas.data\",\"sim_2\",{\"CASE\": \"sim_2\"})\n",
    "c2.substitute(\"/* resume_last_time binaire ../sim_2/sim_2.sauv */\", \"resume_last_time binaire ../sim_1/sim_1.sauv\" )\n",
    "!cp build/sim_1/Cas_Channel_Flow_Rate_* build/sim_2/\n",
    "c2.runCase()\n",
    "\n",
    "c3 = run.addCaseFromTemplate(\"Cas.data\",\"sim_3\",{\"CASE\": \"sim_3\"})\n",
    "c3.substitute(\"/* resume_last_time binaire ../sim_3/sim_3.sauv */\", \"resume_last_time binaire ../sim_2/sim_2.sauv\" )\n",
    "!cp build/sim_2/Cas_Channel_Flow_Rate_* build/sim_3/\n",
    "c3.runCase()\n",
    "\n",
    "\n",
    "run.printCases()\n",
    "#run.runCases()"
   ]
  },
  {
   "cell_type": "markdown",
   "id": "bbb33042",
   "metadata": {},
   "source": [
    "## Test case\n",
    "\n",
    "<figure>\n",
    "    <center>\n",
    "    <img src=\"src/canal.png\" width=\"600\" alt=\"computational_domain\">\n",
    "    <figcaption>Description of the computational domain depicting the probes position\n",
    "</figcaption>\n",
    "    </center>\n",
    "</figure>\n",
    "\n"
   ]
  },
  {
   "cell_type": "markdown",
   "id": "3be7ade4",
   "metadata": {},
   "source": [
    "## Configuration\n",
    "\n",
    "This validation file was made to show what can be done with the Python post processing code. In this\n",
    "test case, we have three folders named sim 1, sim 2, sim 3 with sim 2 the continuation of sim 1 and sim 3\n",
    "the continuation of sim 2. The goal is to do statistical post processing of the results coming from the\n",
    ".son and .dt ev files."
   ]
  },
  {
   "cell_type": "code",
   "execution_count": null,
   "id": "51cc453d",
   "metadata": {},
   "outputs": [],
   "source": [
    "from stats import TemporalPostProcessing\n",
    "\n",
    "obj = TemporalPostProcessing()"
   ]
  },
  {
   "cell_type": "code",
   "execution_count": null,
   "id": "737d9292",
   "metadata": {},
   "outputs": [],
   "source": [
    "%cd build"
   ]
  },
  {
   "cell_type": "markdown",
   "id": "89a0bb97",
   "metadata": {},
   "source": [
    "## Step time\n",
    "\n",
    "In this section, we will plot simulation step time. Other quantities can be displayed from .dt ev files as\n",
    "long as the correct keyword is given. "
   ]
  },
  {
   "cell_type": "code",
   "execution_count": null,
   "id": "40a6cd84",
   "metadata": {},
   "outputs": [],
   "source": [
    "dtev1 = \"sim_1/Cas.dt_ev\"\n",
    "dtev2 = \"sim_2/Cas.dt_ev\"\n",
    "dtev3 = \"sim_3/Cas.dt_ev\"\n",
    "\n",
    "dtev = [dtev1,dtev2,dtev3]\n",
    "\n",
    "t, dt = obj.getdtValues(dtev)\n",
    "obj.plot(t,dt,\"dt\",title = \"Time step evolution\",xlabel=\"time\",ylabel=\"time step\")\n"
   ]
  },
  {
   "cell_type": "markdown",
   "id": "c57cb8ab",
   "metadata": {},
   "source": [
    "## Velocity \n",
    "\n",
    "Plots the instantaneous probes evolution of velocity field and fluctuations."
   ]
  },
  {
   "cell_type": "code",
   "execution_count": null,
   "id": "4e0df040",
   "metadata": {},
   "outputs": [],
   "source": [
    "son_vit1 = \"sim_1/Cas_SONDE_VIT.son\"\n",
    "son_vit2 = \"sim_2/Cas_SONDE_VIT.son\"\n",
    "son_vit3 = \"sim_3/Cas_SONDE_VIT.son\"\n",
    "\n",
    "son_vit = [son_vit1,son_vit2,son_vit3]\n",
    "\n",
    "son_vitPoint1 = \"sim_1/Cas_SONDE_VIT_POINT.son\"\n",
    "son_vitPoint2 = \"sim_2/Cas_SONDE_VIT_POINT.son\"\n",
    "son_vitPoint3 = \"sim_3/Cas_SONDE_VIT_POINT.son\"\n",
    "\n",
    "son_vit_point = [son_vitPoint1,son_vitPoint2,son_vitPoint3]\n",
    "\n",
    "# Instantaneous and fluctuation velocity \n",
    "t, vit, labelx = obj.instantaneousValues(son_vit,0,0,0,component=\"x\")\n",
    "t2, vit2,labelx2 = obj.instantaneousValues(son_vit_point,0,0,0)\n",
    "\n",
    "obj.plot(\n",
    "     x1 = t, y1 = vit, label1 = labelx,\n",
    "     x2 = t2, y2 = vit2, label2 = labelx2,\n",
    "     title = \"Instantaneous\", xlabel = \"Time\", ylabel = \"Velocities\"\n",
    "    )\n",
    "\n",
    "t, fluc, label = obj.temporalFluctuations(son_vit,0,0,0,startTime=0.5)\n",
    "obj.plot(t,fluc,label,title = \"Fluctuation\",xlabel=\"time\",ylabel=\"Velocity fluctuation\")"
   ]
  },
  {
   "cell_type": "markdown",
   "id": "d437fcae",
   "metadata": {},
   "source": [
    "## Density\n",
    "\n",
    "An example with an other field: the instantaneous density evolution. \n"
   ]
  },
  {
   "cell_type": "code",
   "execution_count": null,
   "id": "0a25501e",
   "metadata": {},
   "outputs": [],
   "source": [
    "son_rho1 = \"sim_1/Cas_SONDE_RHO.son\"\n",
    "son_rho2 = \"sim_2/Cas_SONDE_RHO.son\"\n",
    "son_rho3 = \"sim_3/Cas_SONDE_RHO.son\"\n",
    "\n",
    "son_rho = [son_rho1,son_rho2,son_rho3]\n",
    "\n",
    "t, rho, label = obj.instantaneousValues(son_rho,0,0,0)\n",
    "obj.plot(t,rho,label,title = \"Density\",xlabel=\"time\",ylabel=\"Density\")"
   ]
  },
  {
   "cell_type": "markdown",
   "id": "453a3de5",
   "metadata": {},
   "source": [
    "## Pressure\n",
    "\n",
    "Displaying the pressure evolution, fluctuations and finally spatial mean over the segment."
   ]
  },
  {
   "cell_type": "code",
   "execution_count": null,
   "id": "26916f93",
   "metadata": {},
   "outputs": [],
   "source": [
    "son_press1 = \"sim_1/Cas_SONDE_PRESS.son\"\n",
    "son_press2 = \"sim_2/Cas_SONDE_PRESS.son\"\n",
    "son_press3 = \"sim_3/Cas_SONDE_PRESS.son\"\n",
    "\n",
    "son_press = [son_press1,son_press2,son_press3]\n",
    "\n",
    "t, press1, label1 = obj.instantaneousValues(son_press,4.69e-2,0.,2.34e-2)\n",
    "t2, press2, label2 = obj.instantaneousValues(son_press,4.69e-2,2e-2,2.34e-2)\n",
    "\n",
    "obj.plot(\n",
    "    x1 = t, y1 = press1, label1 = label1,\n",
    "    x2 = t2, y2 = press2, label2=label2,\n",
    "    title = \"Instantaneous\", xlabel = \"Time\", ylabel = \"Pressure\"\n",
    ")"
   ]
  },
  {
   "cell_type": "code",
   "execution_count": null,
   "id": "bb997df7",
   "metadata": {},
   "outputs": [],
   "source": [
    "t, press, label = obj.temporalFluctuations(son_press,4.69e-2,0.,2.34e-2,startTime=0.5)\n",
    "obj.plot(t,press,label,title = \"Pressure\",xlabel=\"time\",ylabel=\"Pressure\")"
   ]
  },
  {
   "cell_type": "code",
   "execution_count": null,
   "id": "1a9f5fa0",
   "metadata": {},
   "outputs": [],
   "source": [
    "\n",
    "t, press, label = obj.temporalSegmentSpatialMean(son_press)\n",
    "obj.plot(t,press,label,title = \"Pressure\",xlabel=\"time\",ylabel=\"Pressure\")"
   ]
  },
  {
   "cell_type": "markdown",
   "id": "988fd347",
   "metadata": {},
   "source": [
    "## Average windows on velocity\n",
    "\n",
    "Example of window averaging"
   ]
  },
  {
   "cell_type": "code",
   "execution_count": null,
   "id": "98121283",
   "metadata": {},
   "outputs": [],
   "source": [
    "t1 , avg1, label1 = obj.temporalAverageWindows(son_press,0,0,0,component = \"magnitude\", startTime = 0.5, endTime = 1.5, window = 0.1, mode = \"average\")\n",
    "t2 , avg2, label2 = obj.temporalAverageWindows(son_press,0,0,0,component = \"magnitude\", startTime = 0.5, endTime = 1.5, window = 0.1, mode = \"mean\")\n",
    "t3 , avg3, label3 = obj.temporalAverageWindows(son_press,0,0,0,component = \"magnitude\", startTime = 0.5, endTime = 1.5, window = 0.1, mode = \"convergence\")\n",
    "\n",
    "obj.plot(\n",
    "    x1 = t1, y1 = avg1, label1 = \"window averaging \",\n",
    "    x2 = t2, y2 = avg2, label2 = \"mean \",\n",
    "    x3 = t3, y3 = avg3, label3 = \"statistical convergence \",\n",
    "    title = \"Instantaneous \"+ label1, xlabel = \"Time\", ylabel = \"Windows averaging\"\n",
    ")\n"
   ]
  },
  {
   "cell_type": "markdown",
   "id": "e62f18d5",
   "metadata": {},
   "source": [
    "## Autocorrelation and Spectrum\n",
    "\n",
    "We can perform an autocorrelation of the velocity signal, the root of parabola fit gives us the taylor micro\n",
    "scale. After that, the energy spectrum is computed using welch method."
   ]
  },
  {
   "cell_type": "code",
   "execution_count": null,
   "id": "01997201",
   "metadata": {},
   "outputs": [],
   "source": [
    "t, autocorr, label, t2, parab  = obj.temporalAutoCorrelation(son_vit,0,0,0,component = \"magnitude\", startTime = 0.5, max_lag = .1, fit = True)\n",
    "\n",
    "obj.plot(\n",
    "    t, autocorr, label,\n",
    "    x2 = t2, y2 = parab, label2 = \"Parabola\",\n",
    "    title = \"Autocorrolation\" ,xlabel=\"time\" ,ylabel=\"Autocorrelation\",\n",
    ")\n"
   ]
  },
  {
   "cell_type": "code",
   "execution_count": null,
   "id": "42945717",
   "metadata": {},
   "outputs": [],
   "source": [
    "freq, spec, label = obj.energySpectrum(son_vit,0,0,0, startTime = 0.5)\n",
    "lin = 0.1 * (freq ** (-5/3))\n",
    "\n",
    "obj.plot(\n",
    "    x1 = freq, y1 = lin, label1 = \"-5/3\" ,\n",
    "    x2 = freq, y2 = spec ,label2=label ,\n",
    "    title = \"Welch\", xlabel=\"frequencies\" ,ylabel=\"Autocorrelation\", xscale = \"log\", yscale = \"log\"\n",
    ")"
   ]
  },
  {
   "cell_type": "code",
   "execution_count": null,
   "id": "250ed06c",
   "metadata": {},
   "outputs": [],
   "source": [
    "%cd ../"
   ]
  },
  {
   "cell_type": "markdown",
   "id": "b26a3011",
   "metadata": {},
   "source": [
    "## Taylor Micro Scale\n",
    "\n",
    "Root of parabola fit of autocorrelation"
   ]
  },
  {
   "cell_type": "code",
   "execution_count": null,
   "id": "933fe2a3",
   "metadata": {},
   "outputs": [],
   "source": [
    "from trustutils import plot\n",
    "\n",
    "data = plot.loadText('Roots_1.txt')\n",
    "a=plot.Table([\"Valeur\"])\n",
    "a.addLine([data],\"Taylor micro scale\")\n",
    "display(a)"
   ]
  },
  {
   "cell_type": "markdown",
   "id": "efa53ff2",
   "metadata": {},
   "source": [
    "## Computer performance"
   ]
  },
  {
   "cell_type": "code",
   "execution_count": null,
   "id": "73924b8f",
   "metadata": {},
   "outputs": [],
   "source": [
    "run.tablePerf()"
   ]
  }
 ],
 "metadata": {
  "kernelspec": {
   "display_name": "Python 3 (ipykernel)",
   "language": "python",
   "name": "python3"
  },
  "language_info": {
   "codemirror_mode": {
    "name": "ipython",
    "version": 3
   },
   "file_extension": ".py",
   "mimetype": "text/x-python",
   "name": "python",
   "nbconvert_exporter": "python",
   "pygments_lexer": "ipython3",
   "version": "3.7.9"
  }
 },
 "nbformat": 4,
 "nbformat_minor": 5
}
