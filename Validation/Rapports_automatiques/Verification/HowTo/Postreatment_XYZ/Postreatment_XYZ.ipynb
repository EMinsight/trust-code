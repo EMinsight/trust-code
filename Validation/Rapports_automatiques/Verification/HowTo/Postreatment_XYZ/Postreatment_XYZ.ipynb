{
 "cells": [
  {
   "cell_type": "markdown",
   "id": "inappropriate-lingerie",
   "metadata": {},
   "source": [
    "# Example of use of the keywords champ_front_lu and champ_don_lu with fields post-processed in xyz format"
   ]
  },
  {
   "cell_type": "code",
   "execution_count": null,
   "id": "02f9d3e4",
   "metadata": {},
   "outputs": [],
   "source": [
    "from trustutils import run \n",
    "\n",
    "run.introduction('A.L.')"
   ]
  },
  {
   "cell_type": "markdown",
   "id": "adopted-auditor",
   "metadata": {},
   "source": [
    "### Description\n",
    "\n",
    "This validation form aims is to check the new postprocessing format **xyz** .\n",
    "The files generated when the keyword **format xyz** is in the **post_processing** block could be\n",
    "used as boundary conditions or initial conditions with the keywords : champ front lu or champ don lu,\n",
    "respectively. For that the localisation of the postprocessing must be on the elements.\n"
   ]
  },
  {
   "cell_type": "code",
   "execution_count": null,
   "id": "e87549c8",
   "metadata": {},
   "outputs": [],
   "source": [
    "run.TRUST_parameters()"
   ]
  },
  {
   "cell_type": "markdown",
   "id": "obvious-arrangement",
   "metadata": {},
   "source": [
    "### Test Cases\n",
    "* ./ChFrontLu_read_file/champ_front_lu_xyz.data\n",
    "* ./ChDonLu_read_file/champ_don_lu_xyz.data "
   ]
  },
  {
   "cell_type": "code",
   "execution_count": null,
   "id": "92a102a9-cc72-4659-83ad-86da685eab62",
   "metadata": {},
   "outputs": [],
   "source": [
    "from trustutils import run \n",
    "c1 = run.addCase(\"ChFrontLu_read_file\",\"champ_front_lu_xyz.data\")\n",
    "c2 = run.addCase(\"ChDonLu_read_file\",\"champ_don_lu_xyz.data\") \n",
    "run.printCases()\n",
    "run.runCases()"
   ]
  },
  {
   "cell_type": "markdown",
   "id": "199564bf-9cb4-408a-8e61-41423a0c6dc4",
   "metadata": {},
   "source": [
    "## Example of the use of the keyword champ_front_lu"
   ]
  },
  {
   "cell_type": "markdown",
   "id": "56ec903b-5fc3-454a-a40e-49a6ac2d88d9",
   "metadata": {},
   "source": [
    "First, the data file ChFront_Lu_gen_file is modified to obtain the same file as with the keyword :\\\n",
    "**Ecrire_fichier_xyz_valeur vitesse 100.  bords 1 PERIO** .\\\n",
    "For that, we use the following block :\\\n",
    "**Post_processing**\\\n",
    "{\\\n",
    "$\\qquad$ **format xyz**\\\n",
    "$\\qquad$ **domaine** DOM_EXTR_boundaries_PERIO\\\n",
    "$\\qquad$ **fields dt_post** 10.\\\n",
    "$\\qquad$ {\\\n",
    "$\\qquad$ **vitesse elem**\\\n",
    "$\\qquad$ }\\\n",
    "}\\\n",
    "The previous pb is solved :\n",
    " "
   ]
  },
  {
   "cell_type": "code",
   "execution_count": null,
   "id": "35f2718d-a99a-4488-95ed-c2369503e892",
   "metadata": {},
   "outputs": [],
   "source": [
    "run.dumpText(\"my_text11\")"
   ]
  },
  {
   "cell_type": "markdown",
   "id": "ac4a0742-e2ed-48c1-8fa1-d1179f757f7c",
   "metadata": {},
   "source": [
    "Then  the  data  file  ChFrontLu_read_file  is  modified  to  define  the  PERIO  boundary  condition  with  the generated **xyz** file.  The end of the new problem resolution : "
   ]
  },
  {
   "cell_type": "code",
   "execution_count": null,
   "id": "cbb4a367-6e16-4ac2-bfc3-168ad2a0d290",
   "metadata": {},
   "outputs": [],
   "source": [
    "run.dumpText(\"my_text12\")"
   ]
  },
  {
   "cell_type": "markdown",
   "id": "5433bc9a-6a23-427d-8fda-a5b1179f5005",
   "metadata": {},
   "source": [
    "Finaly we compare the results with those of the test case ChFrontLu_read_file: "
   ]
  },
  {
   "cell_type": "code",
   "execution_count": null,
   "id": "7b8cd496-3b2e-49f9-a216-1a6630f8b7ba",
   "metadata": {},
   "outputs": [],
   "source": [
    "run.dumpText(\"my_text13\")"
   ]
  },
  {
   "cell_type": "markdown",
   "id": "84123cd2-f6d5-4aa1-81ab-8f377964580c",
   "metadata": {},
   "source": [
    "## Example of the use of the keyword champ_don_lu\n"
   ]
  },
  {
   "cell_type": "markdown",
   "id": "b7f2d9f4-61bf-461e-9e64-cc30ded2ce33",
   "metadata": {},
   "source": [
    "Now, the data file ChFront_Lu_gen_file is modified to postprocess in the xyz format:\\\n",
    "For that, we use the following block :\\\n",
    "**Postprocessing**\n",
    "{\n",
    "\n",
    "> **format xyz**\\\n",
    "> **fields dtpost** 10.\\\n",
    "> {\n",
    "\n",
    ">> **vitesse elem**\n",
    "\n",
    "> }\n",
    "\n",
    "}\n",
    "\n",
    "The previous pb is solved :  "
   ]
  },
  {
   "cell_type": "code",
   "execution_count": null,
   "id": "8c42b2c7-7038-41a3-b71e-36419d3ffab8",
   "metadata": {},
   "outputs": [],
   "source": [
    "run.dumpText(\"my_text21\")"
   ]
  },
  {
   "cell_type": "markdown",
   "id": "6a1b8169-da8c-46ed-9831-e25dc435db6a",
   "metadata": {},
   "source": [
    "Then the data file ChFront_Lu_read_file is modified to define the initial condition with the generated **xyz** file.  The end of the new problem resolution : "
   ]
  },
  {
   "cell_type": "code",
   "execution_count": null,
   "id": "dbe035e4-bdb4-46ff-a73d-d6b4b652cdb1",
   "metadata": {},
   "outputs": [],
   "source": [
    "run.dumpText(\"my_text22\")"
   ]
  },
  {
   "cell_type": "markdown",
   "id": "8c385297-7a15-41ba-a4bc-92074957c14a",
   "metadata": {},
   "source": [
    "The existant test cases that use the keyword champ_don_lu don’t generated the inital condition file so we can’t compare the results !"
   ]
  }
 ],
 "metadata": {
  "kernelspec": {
   "display_name": "Python 3 (ipykernel)",
   "language": "python",
   "name": "python3"
  },
  "language_info": {
   "codemirror_mode": {
    "name": "ipython",
    "version": 3
   },
   "file_extension": ".py",
   "mimetype": "text/x-python",
   "name": "python",
   "nbconvert_exporter": "python",
   "pygments_lexer": "ipython3",
   "version": "3.7.9"
  },
  "toc-autonumbering": true
 },
 "nbformat": 4,
 "nbformat_minor": 5
}
