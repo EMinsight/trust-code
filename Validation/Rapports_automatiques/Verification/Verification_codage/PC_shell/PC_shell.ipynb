{
 "cells": [
  {
   "cell_type": "markdown",
   "id": "inappropriate-lingerie",
   "metadata": {},
   "source": [
    "# Test PC_shell fonctionality"
   ]
  },
  {
   "cell_type": "code",
   "execution_count": null,
   "id": "69d6d858",
   "metadata": {},
   "outputs": [],
   "source": [
    "from trustutils import run\n",
    "\n",
    "run.introduction(\"Luc Lecointre\", \"03/05/2023\")\n",
    "run.description(\"Test of the pc_shell functionality allowing to create a personal preconditioner in petsc by inheriting PC_shell_base. An example is given here using pc_jacobi which simply reproduces Jacobi's preconditioner\")\n",
    "run.TRUST_parameters(\"1.9.2\")"
   ]
  },
  {
   "cell_type": "code",
   "execution_count": null,
   "id": "1181ad13-5719-4d65-aff3-a6f95a002976",
   "metadata": {},
   "outputs": [],
   "source": [
    "from trustutils import run\n",
    "import os\n",
    "\n",
    "cas1 = run.addCase(\".\",\"paroi_defilante.data\")\n",
    "\n",
    "cas2 = cas1.copy(\"pc_shell.data\")\n",
    "cas2.substitute(\"precond jacobi { }\", \"pcshell pc_jacobi\")\n",
    "run.addCase(cas2)\n",
    "\n",
    "run.printCases()\n",
    "run.runCases()"
   ]
  },
  {
   "cell_type": "code",
   "execution_count": null,
   "id": "a3e710bd",
   "metadata": {},
   "outputs": [],
   "source": [
    "run.executeCommand(\"compare_lata pc_shell.lata paroi_defilante.lata > compare_lata\")\n",
    "run.dumpText(\"compare_lata\")"
   ]
  },
  {
   "cell_type": "code",
   "execution_count": null,
   "id": "dba20b6a",
   "metadata": {},
   "outputs": [],
   "source": [
    "run.tablePerf()"
   ]
  },
  {
   "cell_type": "markdown",
   "id": "4b6d10b4-98be-49ec-a817-af18c36bbdd1",
   "metadata": {},
   "source": [
    "## Data Files"
   ]
  },
  {
   "cell_type": "code",
   "execution_count": null,
   "id": "embedded-colleague",
   "metadata": {
    "scrolled": true
   },
   "outputs": [],
   "source": [
    "run.dumpDataset(\"./pc_shell.data\") "
   ]
  }
 ],
 "metadata": {
  "kernelspec": {
   "display_name": "Python 3 (ipykernel)",
   "language": "python",
   "name": "python3"
  },
  "language_info": {
   "codemirror_mode": {
    "name": "ipython",
    "version": 3
   },
   "file_extension": ".py",
   "mimetype": "text/x-python",
   "name": "python",
   "nbconvert_exporter": "python",
   "pygments_lexer": "ipython3",
   "version": "3.7.9"
  },
  "toc-autonumbering": true
 },
 "nbformat": 4,
 "nbformat_minor": 5
}
