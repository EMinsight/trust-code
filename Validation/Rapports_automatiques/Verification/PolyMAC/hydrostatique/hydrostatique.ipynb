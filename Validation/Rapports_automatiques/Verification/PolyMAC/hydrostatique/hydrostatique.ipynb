{
 "cells": [
  {
   "cell_type": "markdown",
   "id": "9b8d9cf0-4b50-46ae-a69a-3ee6c355b2ab",
   "metadata": {},
   "source": [
    "# Verification hydrostatique"
   ]
  },
  {
   "cell_type": "code",
   "execution_count": null,
   "id": "fd504980",
   "metadata": {},
   "outputs": [],
   "source": [
    "from trustutils import run\n",
    "\n",
    "run.introduction('Y.G')\n",
    "run.description('Calcul sans diffusion ni convection de QDM. On verifie l’absence de vitesses parasites, et que le profil de pression est exact. Le calcul est mene sur differents maillages (cartesien conforme, triangles et non conforme).')\n",
    "run.TRUST_parameters()"
   ]
  },
  {
   "cell_type": "code",
   "execution_count": null,
   "id": "7d75e90c",
   "metadata": {},
   "outputs": [],
   "source": [
    "from trustutils import run \n",
    "c1 = run.addCase(\"cartesian\"    ,\"jdd.data\")\n",
    "c2 = run.addCase(\"triangle\"     ,\"jdd.data\")\n",
    "c3 = run.addCase(\"non_conformal\",\"jdd.data\")\n",
    "run.printCases()\n",
    "run.runCases()"
   ]
  },
  {
   "cell_type": "markdown",
   "id": "435b0ded-ac41-4c49-82fe-680555e11ad7",
   "metadata": {},
   "source": [
    "## Hydrostatique PolyMAC\n",
    "\n",
    "### Maillage cartesien"
   ]
  },
  {
   "cell_type": "code",
   "execution_count": null,
   "id": "2675af2f-fd66-4885-9e4d-b77f9e4b2b7a",
   "metadata": {},
   "outputs": [],
   "source": [
    "from trustutils import visit\n",
    "plot=visit.Show(\"./cartesian/jdd.lata\",\"Pseudocolor\",\"PRESSION_ELEM_dom\")\n",
    "plot.addField(\"./cartesian/jdd.lata\",\"Vector\",\"VITESSE_ELEM_dom\")\n",
    "plot.plot()"
   ]
  },
  {
   "cell_type": "markdown",
   "id": "b9e1be04-d9ec-4212-b1c5-407a6f54c303",
   "metadata": {},
   "source": [
    "### Maillage de triangles"
   ]
  },
  {
   "cell_type": "code",
   "execution_count": null,
   "id": "45eb2cfd-fd5b-4626-b474-70ee5650c494",
   "metadata": {},
   "outputs": [],
   "source": [
    "from trustutils import visit\n",
    "plot=visit.Show(\"./triangle/jdd.lata\",\"Pseudocolor\",\"PRESSION_ELEM_dom\")\n",
    "plot.addField(\"./triangle/jdd.lata\",\"Vector\",\"VITESSE_ELEM_dom\")\n",
    "plot.plot()"
   ]
  },
  {
   "cell_type": "markdown",
   "id": "e7bba966-5f1d-4a8f-813d-1a0cdb15c03a",
   "metadata": {},
   "source": [
    "### Maillage non conforme"
   ]
  },
  {
   "cell_type": "code",
   "execution_count": null,
   "id": "254e49ed-490e-4aca-9594-850a34af88ed",
   "metadata": {},
   "outputs": [],
   "source": [
    "from trustutils import visit\n",
    "plot=visit.Show(\"./non_conformal/jdd.lata\",\"Pseudocolor\",\"PRESSION_ELEM_dom\")\n",
    "plot.addField(\"./non_conformal/jdd.lata\",\"Vector\",\"VITESSE_ELEM_dom\")\n",
    "plot.plot()"
   ]
  },
  {
   "cell_type": "markdown",
   "id": "eaa67cda-4e46-4557-b681-71be8852c87b",
   "metadata": {},
   "source": [
    "### Comparaison theorie/numerique"
   ]
  },
  {
   "cell_type": "code",
   "execution_count": null,
   "id": "3c2a0f97-69c4-4f5c-a041-76458b966571",
   "metadata": {},
   "outputs": [],
   "source": [
    "from trustutils.jupyter import plot\n",
    "import numpy as np\n",
    "\n",
    "columns=[\"$$\\| P\\|_\\infty$$\",\"$$\\| \\overrightarrow{v}\\|_\\infty$$\"]\n",
    "Table=plot.Table(columns) \n",
    "Table.addLigne([plot.loadText(\"cartesian/erreurs.txt\")],\"Cartesien\") \n",
    "Table.addLigne([plot.loadText(\"triangle/erreurs.txt\")],\"Triangles\") \n",
    "Table.addLigne([plot.loadText(\"non_conformal/erreurs.txt\")],\"Non conforme\") \n",
    "Table.df"
   ]
  }
 ],
 "metadata": {
  "kernelspec": {
   "display_name": "Python 3 (ipykernel)",
   "language": "python",
   "name": "python3"
  },
  "language_info": {
   "codemirror_mode": {
    "name": "ipython",
    "version": 3
   },
   "file_extension": ".py",
   "mimetype": "text/x-python",
   "name": "python",
   "nbconvert_exporter": "python",
   "pygments_lexer": "ipython3",
   "version": "3.7.9"
  },
  "toc-autonumbering": true
 },
 "nbformat": 4,
 "nbformat_minor": 5
}
