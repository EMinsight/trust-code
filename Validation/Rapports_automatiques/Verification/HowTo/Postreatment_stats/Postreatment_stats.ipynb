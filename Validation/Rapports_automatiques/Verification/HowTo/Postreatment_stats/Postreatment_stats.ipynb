{
 "cells": [
  {
   "cell_type": "markdown",
   "id": "519d45f3",
   "metadata": {},
   "source": [
    "# Python package for postprocessing the TRUST son files"
   ]
  },
  {
   "cell_type": "code",
   "execution_count": 1,
   "id": "3d9390e2",
   "metadata": {},
   "outputs": [
    {
     "data": {
      "text/markdown": [
       "## Introduction \n",
       " Validation made by : Morad Ben Tayeb\n"
      ],
      "text/plain": [
       "<IPython.core.display.Markdown object>"
      ]
     },
     "metadata": {},
     "output_type": "display_data"
    },
    {
     "data": {
      "text/markdown": [
       "\n",
       " Report generated 26/01/2022"
      ],
      "text/plain": [
       "<IPython.core.display.Markdown object>"
      ]
     },
     "metadata": {},
     "output_type": "display_data"
    },
    {
     "data": {
      "text/markdown": [
       "### Description \n"
      ],
      "text/plain": [
       "<IPython.core.display.Markdown object>"
      ]
     },
     "metadata": {},
     "output_type": "display_data"
    },
    {
     "data": {
      "text/markdown": [
       "### TRUST parameters \n",
       " * Version TRUST: 1.8.3\n",
       " * Binary used: /volatile/catA/ll258196/trust-code/exec/TRUST_mpi_opt (built on TRUST /volatile/catA/ll258196/trust-code/Validation/Rapports_automatiques/jupyter/HowTo/Postreatment_stats/build)"
      ],
      "text/plain": [
       "<IPython.core.display.Markdown object>"
      ]
     },
     "metadata": {},
     "output_type": "display_data"
    }
   ],
   "source": [
    "from trustutils import run \n",
    "\n",
    "run.introduction(\"Morad Ben Tayeb\")\n",
    "run.description(\"\")\n",
    "run.TRUST_parameters(\"1.8.3\")"
   ]
  },
  {
   "cell_type": "code",
   "execution_count": 2,
   "id": "d56dd707",
   "metadata": {},
   "outputs": [
    {
     "data": {
      "text/markdown": [
       "### Test cases \n",
       "* sim_1/Cas.data : \n"
      ],
      "text/plain": [
       "<IPython.core.display.Markdown object>"
      ]
     },
     "metadata": {},
     "output_type": "display_data"
    },
    {
     "name": "stdout",
     "output_type": "stream",
     "text": [
      "Running **with Sserver**...\n",
      "  => A total of 1 cases were (successfully) run in 49.8s.\n"
     ]
    }
   ],
   "source": [
    "from trustutils import run \n",
    "c1 = run.addCase(\"sim_1\",\"Cas.data\") \n",
    "run.printCases()\n",
    "run.runCases()"
   ]
  },
  {
   "cell_type": "markdown",
   "id": "bbb33042",
   "metadata": {},
   "source": [
    "## Test case\n",
    "\n",
    "<figure>\n",
    "    <center>\n",
    "    <img src=\"build/canal.png\" width=\"600\" alt=\"computational_domain\">\n",
    "    <figcaption>Description of the computational domain depicting the probes position\n",
    "</figcaption>\n",
    "    </center>\n",
    "</figure>\n",
    "\n"
   ]
  },
  {
   "cell_type": "markdown",
   "id": "3be7ade4",
   "metadata": {},
   "source": [
    "## Configuration\n",
    "\n",
    "This validation file was made to show what can be done with the Python post processing code. In this\n",
    "test case, we have three folders named sim 1, sim 2, sim 3 with sim 2 the continuation of sim 1 and sim 3\n",
    "the continuation of sim 2. The goal is to do statistical post processing of the results coming from the\n",
    ".son and .dt ev files."
   ]
  },
  {
   "cell_type": "markdown",
   "id": "9e134369",
   "metadata": {},
   "source": [
    "## Step time\n",
    "\n",
    "In this section, we will plot simulation step time. Other quantities can be displayed from .dt ev files as\n",
    "long as the correct keyword is given. \n",
    "\n",
    "<figure>\n",
    "    <center>\n",
    "    <img src=\"build/sim_3/results/fig_1.png\" width=\"500\">\n",
    "    <figcaption>Evolution of step time\n",
    "</figcaption>\n",
    "    </center>\n",
    "</figure>\n"
   ]
  },
  {
   "cell_type": "markdown",
   "id": "c57cb8ab",
   "metadata": {},
   "source": [
    "## Velocity \n",
    "\n",
    "Plots the instantaneous probes evolution of velocity field and fluctuations.\n",
    "\n",
    "<figure>\n",
    "    <center>\n",
    "    <img src=\"build/sim_3/results/fig_2.png\" width=\"500\">\n",
    "    <figcaption>velocity</figcaption>\n",
    "     <img src=\"build/sim_3/results/fig_3.png\" width=\"500\">\n",
    "    <figcaption>Velocity fluctuation</figcaption>\n",
    "    </center>\n",
    "</figure>\n"
   ]
  },
  {
   "cell_type": "markdown",
   "id": "d437fcae",
   "metadata": {},
   "source": [
    "## Density\n",
    "\n",
    "An example with an other field: the instantaneous density evolution. \n",
    "\n",
    "<figure>\n",
    "    <center>\n",
    "    <img src=\"build/sim_3/results/fig_4.png\" width=\"500\">\n",
    "    <figcaption>density instantaneous</figcaption>\n",
    "    </center>\n",
    "</figure>\n"
   ]
  },
  {
   "cell_type": "markdown",
   "id": "453a3de5",
   "metadata": {},
   "source": [
    "## Pressure\n",
    "\n",
    "Displaying the pressure evolution, fluctuations and finally spatial mean over the segment.\n",
    "\n",
    "<figure>\n",
    "    <center>\n",
    "    <img src=\"build/sim_3/results/fig_5.png\" width=\"500\">\n",
    "    <figcaption>Pressure instantaneous</figcaption>\n",
    "     <img src=\"build/sim_3/results/fig_6.png\" width=\"500\">\n",
    "    <figcaption>Spatial mean pressure</figcaption>\n",
    "     <img src=\"build/sim_3/results/fig_7.png\" width=\"500\">\n",
    "    <figcaption>Spatial mean pressure</figcaption>\n",
    "    </center>\n",
    "</figure>"
   ]
  },
  {
   "cell_type": "markdown",
   "id": "988fd347",
   "metadata": {},
   "source": [
    "## Average windows on velocity\n",
    "\n",
    "Example of window averaging\n",
    "\n",
    "<figure>\n",
    "    <center>\n",
    "    <img src=\"build/sim_3/results/fig_8.png\" width=\"500\">\n",
    "    <figcaption>Average windows</figcaption>\n",
    "    </center>\n",
    "</figure>"
   ]
  },
  {
   "cell_type": "markdown",
   "id": "e62f18d5",
   "metadata": {},
   "source": [
    "## Autocorrelation and Spectrum\n",
    "\n",
    "We can perform an autocorrelation of the velocity signal, the root of parabola fit gives us the taylor micro\n",
    "scale. After that, the energy spectrum is computed using welch method.\n",
    "\n",
    "<figure>\n",
    "    <center>\n",
    "    <img src=\"build/sim_3/results/fig_9.png\" width=\"500\">\n",
    "    <figcaption>Autocorrelation and parabola fit</figcaption>\n",
    "            <img src=\"build/sim_3/results/fig_10.png\" width=\"500\">\n",
    "    <figcaption>Energy spectrum</figcaption>\n",
    "    </center>\n",
    "</figure>\n"
   ]
  },
  {
   "cell_type": "markdown",
   "id": "b26a3011",
   "metadata": {},
   "source": [
    "## Taylor Micro Scale\n",
    "\n",
    "Root of parabola fit of autocorrelation"
   ]
  },
  {
   "cell_type": "code",
   "execution_count": 4,
   "id": "933fe2a3",
   "metadata": {},
   "outputs": [
    {
     "data": {
      "text/html": [
       "<div>\n",
       "<style scoped>\n",
       "    .dataframe tbody tr th:only-of-type {\n",
       "        vertical-align: middle;\n",
       "    }\n",
       "\n",
       "    .dataframe tbody tr th {\n",
       "        vertical-align: top;\n",
       "    }\n",
       "\n",
       "    .dataframe thead th {\n",
       "        text-align: right;\n",
       "    }\n",
       "</style>\n",
       "<table border=\"1\" class=\"dataframe\">\n",
       "  <thead>\n",
       "    <tr style=\"text-align: right;\">\n",
       "      <th></th>\n",
       "      <th>Valeur</th>\n",
       "    </tr>\n",
       "  </thead>\n",
       "  <tbody>\n",
       "    <tr>\n",
       "      <th>Taylor micro scale</th>\n",
       "      <td>0.00984</td>\n",
       "    </tr>\n",
       "  </tbody>\n",
       "</table>\n",
       "</div>"
      ],
      "text/plain": [
       "                     Valeur\n",
       "Taylor micro scale  0.00984"
      ]
     },
     "execution_count": 4,
     "metadata": {},
     "output_type": "execute_result"
    }
   ],
   "source": [
    "from trustutils import plot\n",
    "\n",
    "data = plot.loadText('./sim_3/script_postprocess.py_Roots_1.txt')\n",
    "a=plot.Table([\"Valeur\"])\n",
    "a.addLigne([data],\"Taylor micro scale\")\n",
    "a.df"
   ]
  },
  {
   "cell_type": "markdown",
   "id": "efa53ff2",
   "metadata": {},
   "source": [
    "## Computer performance"
   ]
  },
  {
   "cell_type": "code",
   "execution_count": 5,
   "id": "73924b8f",
   "metadata": {},
   "outputs": [
    {
     "data": {
      "text/html": [
       "<div>\n",
       "<style scoped>\n",
       "    .dataframe tbody tr th:only-of-type {\n",
       "        vertical-align: middle;\n",
       "    }\n",
       "\n",
       "    .dataframe tbody tr th {\n",
       "        vertical-align: top;\n",
       "    }\n",
       "\n",
       "    .dataframe thead th {\n",
       "        text-align: right;\n",
       "    }\n",
       "</style>\n",
       "<table border=\"1\" class=\"dataframe\">\n",
       "  <thead>\n",
       "    <tr style=\"text-align: right;\">\n",
       "      <th></th>\n",
       "      <th>host</th>\n",
       "      <th>system</th>\n",
       "      <th>Total CPU Time</th>\n",
       "      <th>CPU time/step</th>\n",
       "      <th>number of cells</th>\n",
       "    </tr>\n",
       "  </thead>\n",
       "  <tbody>\n",
       "    <tr>\n",
       "      <th>sim_1/Cas</th>\n",
       "      <td>is244522</td>\n",
       "      <td>Linux</td>\n",
       "      <td>15.1492</td>\n",
       "      <td>0.0151244</td>\n",
       "      <td>3375</td>\n",
       "    </tr>\n",
       "    <tr>\n",
       "      <th>Total</th>\n",
       "      <td></td>\n",
       "      <td></td>\n",
       "      <td>15.1492</td>\n",
       "      <td></td>\n",
       "      <td></td>\n",
       "    </tr>\n",
       "  </tbody>\n",
       "</table>\n",
       "</div>"
      ],
      "text/plain": [
       "               host system  Total CPU Time CPU time/step number of cells\n",
       "sim_1/Cas  is244522  Linux         15.1492     0.0151244            3375\n",
       "Total                              15.1492                              "
      ]
     },
     "execution_count": 5,
     "metadata": {},
     "output_type": "execute_result"
    }
   ],
   "source": [
    "run.tablePerf()"
   ]
  },
  {
   "cell_type": "markdown",
   "id": "41246f25",
   "metadata": {},
   "source": [
    "## Python"
   ]
  },
  {
   "cell_type": "code",
   "execution_count": 9,
   "id": "c4f39fc7",
   "metadata": {},
   "outputs": [
    {
     "name": "stdout",
     "output_type": "stream",
     "text": [
      " \u001b[38;5;88m# -*- coding: utf-8 -*-\n",
      "\u001b[0;0m \"\"\"\n",
      " @author : Morad BenTayeb\n",
      " CEA Saclay\n",
      " \n",
      " Mars 2021\n",
      " \"\"\"\n",
      " \n",
      " import time \n",
      " from trustutils.stats import TemporalPostProcessing\n",
      " \n",
      " if __name__=='__main__':\n",
      "     start = time.time()\n",
      " \n",
      "     # File managment \n",
      "     dtev1 = \"../sim_1/Cas.dt_ev\"\n",
      "     dtev2 = \"../sim_2/Cas.dt_ev\"\n",
      "     dtev3 = \"../sim_3/Cas.dt_ev\"\n",
      " \n",
      "     dtev = [dtev1,dtev2,dtev3]\n",
      " \n",
      "     son_vit1 = \"../sim_1/Cas_SONDE_VIT.son\"\n",
      "     son_vit2 = \"../sim_2/Cas_SONDE_VIT.son\"\n",
      "     son_vit3 = \"../sim_3/Cas_SONDE_VIT.son\"\n",
      " \n",
      "     son_vit = [son_vit1,son_vit2,son_vit3]\n",
      "     \n",
      "     son_vitPoint1 = \"../sim_1/Cas_SONDE_VIT_POINT.son\"\n",
      "     son_vitPoint2 = \"../sim_2/Cas_SONDE_VIT_POINT.son\"\n",
      "     son_vitPoint3 = \"../sim_3/Cas_SONDE_VIT_POINT.son\"\n",
      " \n",
      "     son_vit_point = [son_vitPoint1,son_vitPoint2,son_vitPoint3]\n",
      " \n",
      "     son_rho1 = \"../sim_1/Cas_SONDE_RHO.son\"\n",
      "     son_rho2 = \"../sim_2/Cas_SONDE_RHO.son\"\n",
      "     son_rho3 = \"../sim_3/Cas_SONDE_RHO.son\"\n",
      "     \n",
      "     son_rho = [son_rho1,son_rho2,son_rho3]\n",
      " \n",
      "     son_press1 = \"../sim_1/Cas_SONDE_PRESS.son\"\n",
      "     son_press2 = \"../sim_2/Cas_SONDE_PRESS.son\"\n",
      "     son_press3 = \"../sim_3/Cas_SONDE_PRESS.son\"\n",
      " \n",
      "     son_press = [son_press1,son_press2,son_press3]\n",
      " \n",
      "     # Object (the only instance) \n",
      "     obj = TemporalPostProcessing()\n",
      "     \n",
      "     # DTEV plots\n",
      "     t, dt = obj.getdtValues(dtev)\n",
      "     obj.plot(t,dt,\"dt\",title = \"Time step evolution\",xlabel=\"time\",ylabel=\"time step\")\n",
      " \n",
      "     # Instantaneous and fluctuation velocity \n",
      "     t, vit, labelx = obj.instantaneousValues(son_vit,0,0,0,component=\"x\")\n",
      "     t2, vit2,labelx2 = obj.instantaneousValues(son_vit_point,0,0,0)\n",
      " \n",
      "     obj.plot(\n",
      "         x1 = t, y1 = vit, label1 = labelx,\n",
      "         x2 = t2, y2 = vit2, label2 = labelx2,\n",
      "         title = \"Instantaneous\", xlabel = \"Time\", ylabel = \"Velocities\"\n",
      "     )\n",
      " \n",
      " \n",
      "     t, fluc, label = obj.temporalFluctuations(son_vit,0,0,0,startTime=0.5)\n",
      "     obj.plot(t,fluc,label,title = \"Fluctuation\",xlabel=\"time\",ylabel=\"Velocity fluctuation\")\n",
      " \n",
      "     # Density \n",
      "     t, rho, label = obj.instantaneousValues(son_rho,0,0,0)\n",
      "     obj.plot(t,rho,label,title = \"Density\",xlabel=\"time\",ylabel=\"Density\")\n",
      " \n",
      "     # Pressure\n",
      "     t, press1, label1 = obj.instantaneousValues(son_press,4.69e-2,0.,2.34e-2)\n",
      "     t2, press2, label2 = obj.instantaneousValues(son_press,4.69e-2,2e-2,2.34e-2)\n",
      " \n",
      "     obj.plot(\n",
      "         x1 = t, y1 = press1, label1 = label1,\n",
      "         x2 = t2, y2 = press2, label2=label2,\n",
      "         title = \"Instantaneous\", xlabel = \"Time\", ylabel = \"Pressure\"\n",
      "     )\n",
      " \n",
      " \n",
      "     t, press, label = obj.temporalFluctuations(son_press,4.69e-2,0.,2.34e-2,startTime=0.5)\n",
      "     obj.plot(t,press,label,title = \"Pressure\",xlabel=\"time\",ylabel=\"Pressure\")\n",
      " \n",
      " \n",
      "     t, press, label = obj.temporalSegmentSpatialMean(son_press)\n",
      "     obj.plot(t,press,label,title = \"Pressure\",xlabel=\"time\",ylabel=\"Pressure\")\n",
      "     \n",
      "     # Average windows\n",
      "     t1 , avg1, label1 = obj.temporalAverageWindows(son_press,0,0,0,component = \"magnitude\", startTime = 0.5, endTime = 1.5, window = 0.1, mode = \"average\")\n",
      "     t2 , avg2, label2 = obj.temporalAverageWindows(son_press,0,0,0,component = \"magnitude\", startTime = 0.5, endTime = 1.5, window = 0.1, mode = \"mean\")\n",
      "     t3 , avg3, label3 = obj.temporalAverageWindows(son_press,0,0,0,component = \"magnitude\", startTime = 0.5, endTime = 1.5, window = 0.1, mode = \"convergence\")\n",
      " \n",
      "     obj.plot(\n",
      "         x1 = t1, y1 = avg1, label1 = \"window averaging \",\n",
      "         x2 = t2, y2 = avg2, label2 = \"mean \",\n",
      "         x3 = t3, y3 = avg3, label3 = \"statistical convergence \",\n",
      "         title = \"Instantaneous \"+ label1, xlabel = \"Time\", ylabel = \"Windows averaging\"\n",
      "     )\n",
      "     \n",
      "     # Autocorrelation\n",
      "     t, autocorr, label, t2, parab  = obj.temporalAutoCorrelation(son_vit,0,0,0,component = \"magnitude\", startTime = 0.5, max_lag = .1, fit = True)\n",
      " \n",
      "     obj.plot(\n",
      "         t, autocorr, label,\n",
      "         x2 = t2, y2 = parab, label2 = \"Parabola\",\n",
      "         title = \"Autocorrolation\" ,xlabel=\"time\" ,ylabel=\"Autocorrelation\",\n",
      "     )\n",
      " \n",
      "     \n",
      "     freq, spec, label = obj.energySpectrum(son_vit,0,0,0, startTime = 0.5)\n",
      "     lin = 0.1 * (freq ** (-5/3))\n",
      " \n",
      "     obj.plot(\n",
      "         x1 = freq, y1 = lin, label1 = \"-5/3\" ,\n",
      "         x2 = freq, y2 = spec ,label2=label ,\n",
      "         title = \"Welch\", xlabel=\"frequencies\" ,ylabel=\"Autocorrelation\", xscale = \"log\", yscale = \"log\"\n",
      "     )\n",
      "\n"
     ]
    }
   ],
   "source": [
    "run.dumpData(\"script_postprocess.py\")"
   ]
  }
 ],
 "metadata": {
  "kernelspec": {
   "display_name": "Python 3",
   "language": "python",
   "name": "python3"
  },
  "language_info": {
   "codemirror_mode": {
    "name": "ipython",
    "version": 3
   },
   "file_extension": ".py",
   "mimetype": "text/x-python",
   "name": "python",
   "nbconvert_exporter": "python",
   "pygments_lexer": "ipython3",
   "version": "3.7.9"
  }
 },
 "nbformat": 4,
 "nbformat_minor": 5
}
