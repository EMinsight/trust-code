{
 "cells": [
  {
   "cell_type": "markdown",
   "id": "inappropriate-lingerie",
   "metadata": {},
   "source": [
    "# Testing different norms for residual"
   ]
  },
  {
   "cell_type": "code",
   "execution_count": null,
   "id": "4205c255",
   "metadata": {},
   "outputs": [],
   "source": [
    "from trustutils import run\n",
    "\n",
    "run.introduction(\"Anida Khizar\")\n",
    "run.description(\"Running trust calculations by taking into account the norm of the residual defined by the user.\")\n",
    "run.TRUST_parameters()"
   ]
  },
  {
   "cell_type": "markdown",
   "id": "obvious-arrangement",
   "metadata": {},
   "source": [
    "### Test Cases\n",
    "* ./Residus_norm_max.data :\n",
    "* ./Residus_norm_L2.data :"
   ]
  },
  {
   "cell_type": "code",
   "execution_count": null,
   "id": "687d21fd-6887-4818-a9f4-ed42aa1dae65",
   "metadata": {},
   "outputs": [],
   "source": [
    "from trustutils import run \n",
    "import os\n",
    "run.addCase(\".\",\"Residus_norm_max.data\")\n",
    "run.addCase(\".\",\"Residus_norm_L2.data\") \n",
    "run.runCases()"
   ]
  },
  {
   "cell_type": "markdown",
   "id": "growing-hundred",
   "metadata": {},
   "source": [
    "## Visualization of residuals\n"
   ]
  },
  {
   "cell_type": "markdown",
   "id": "be9b2294",
   "metadata": {},
   "source": [
    "Here are the residual fields for each unknown $U_i$ at last time step (ie $\\frac{dU_i}{dt}$).\n"
   ]
  },
  {
   "cell_type": "code",
   "execution_count": null,
   "id": "20280f64",
   "metadata": {},
   "outputs": [],
   "source": [
    "from trustutils import visit\n",
    "\n",
    "\n",
    "fig=visit.Show(\"./Residuals.lata\",\"Pseudocolor\",\"VITESSE_RESIDU_X_ELEM_dom\",plotmesh=True,title=\"Residuals\",nY=2,nX=2)\n",
    "fig.add(\"./Residuals.lata\",\"Pseudocolor\",\"VITESSE_RESIDU_Y_ELEM_dom\",plotmesh=True,xIndice=0,yIndice=1)\n",
    "fig.add(\"./Residuals.lata\",\"Pseudocolor\",\"TEMPERATURE_RESIDU_ELEM_dom\",plotmesh=True,xIndice=1,yIndice=0)\n",
    "fig.add(\"./Residuals.lata\",\"Pseudocolor\",\"CONCENTRATION_RESIDU_ELEM_dom\",plotmesh=True,xIndice=1,yIndice=1)\n",
    "fig.plot()"
   ]
  },
  {
   "cell_type": "markdown",
   "id": "02fde4b9",
   "metadata": {},
   "source": [
    "At the end of each time step, we compute the residual of each unknown U of the problem using either the max norm (ie $R_U = max_{i} |\\frac{dU_i}{dt}|$) or the L2-norm (ie $R_U = \\sqrt{\\sum\\nolimits_{i}{\\frac{dUi}{dt}}^2})$).\n",
    "We thus have as many residuals as there are unknowns in the problem. \n",
    "\n",
    "Here, we display the highest residual over time (ie $max_{U} |R_U| $)."
   ]
  },
  {
   "cell_type": "code",
   "execution_count": null,
   "id": "0aa74573",
   "metadata": {},
   "outputs": [],
   "source": [
    "from trustutils import plot \n",
    "\n",
    "Graph=plot.Graph(\"Max residual among residuals computed with different norms over time\",size=[15,8])\n",
    "Graph.addResidu(\"./Residus_norm_max.dt_ev\",label=\"Norm max\")\n",
    "Graph.addResidu(\"./Residus_norm_L2.dt_ev\",label=\"Norm L2\")\n",
    "\n",
    "Graph.scale(xscale='log',yscale='log')"
   ]
  },
  {
   "cell_type": "code",
   "execution_count": null,
   "id": "2f2d4ede",
   "metadata": {},
   "outputs": [],
   "source": []
  }
 ],
 "metadata": {
  "kernelspec": {
   "display_name": "Python 3 (ipykernel)",
   "language": "python",
   "name": "python3"
  },
  "language_info": {
   "codemirror_mode": {
    "name": "ipython",
    "version": 3
   },
   "file_extension": ".py",
   "mimetype": "text/x-python",
   "name": "python",
   "nbconvert_exporter": "python",
   "pygments_lexer": "ipython3",
   "version": "3.7.9"
  }
 },
 "nbformat": 4,
 "nbformat_minor": 5
}
