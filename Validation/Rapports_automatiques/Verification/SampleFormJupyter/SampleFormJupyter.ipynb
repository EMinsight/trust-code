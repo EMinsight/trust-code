{
 "cells": [
  {
   "cell_type": "markdown",
   "id": "f00c33c7",
   "metadata": {},
   "source": [
    "# Exemple de fiche Jupyter\n",
    "## Introduction\n",
    "Cette fiche présente les différentes possibilités offertes par les notebooks Jupyter et l'API du module Python \"trustutils\" pour réaliser des fiches de validation.\n",
    "Pour fonctionner correctement, les notebooks nécessitent un environnement particulier décrit dans le fichier README à la racine des fiches Jupyter dans TRUST."
   ]
  },
  {
   "cell_type": "markdown",
   "id": "accomplished-curtis",
   "metadata": {},
   "source": [
    "## Fonctions de présentation\n",
    "\n",
    "Voici quelques méthodes utiles pour créer des fiches de validation. Cependant si vous voulez personaliser vos fiches de validation, vous pouvez vous aider de ces links pour les créer:\n",
    "\n",
    "* https://towardsdatascience.com/write-markdown-latex-in-the-jupyter-notebook-10985edb91fd un lien qui explique bien la syntaxe markdown\n",
    "* https://github.com/jupyter/jupyter/wiki/A-gallery-of-interesting-Jupyter-Notebooks#entire-books-or-other-large-collections-of-notebooks-on-a-topic une liste exhaustive d'exemples de notebook.\n",
    "* https://visit-sphinx-github-user-manual.readthedocs.io/en/develop/cli_manual/index.html pour controler Visit avec une interface python"
   ]
  },
  {
   "cell_type": "markdown",
   "id": "0e7d598d",
   "metadata": {},
   "source": [
    "### Paramètres généraux\n",
    "\n",
    "Les blocks introductifs peuvent être générés automatiquement"
   ]
  },
  {
   "cell_type": "code",
   "execution_count": null,
   "id": "electoral-rebound",
   "metadata": {},
   "outputs": [],
   "source": [
    "from trustutils import run\n",
    "\n",
    "#declaration of name and date (optional)\n",
    "run.introduction(\"Funky Francis\",\"21/11/2021\") \n",
    "run.description(\"Some description of the case here\")\n",
    "#declaration de la version de trust \n",
    "run.TRUST_parameters(\"1.8.0\")"
   ]
  },
  {
   "cell_type": "markdown",
   "id": "05f2b28d",
   "metadata": {},
   "source": [
    "## Sauvegarde des sorties du notebook / Export PDF"
   ]
  },
  {
   "cell_type": "markdown",
   "id": "7c38aefc",
   "metadata": {},
   "source": [
    "Par défaut, les sorties du notebooks (texte, courbes et images VisIt) ne sont pas sauvegardées pour éviter de polluer le système de gesion de version (git). Cela peut être changé en utilisant l'instruction ci-dessous.\n",
    "\n",
    "Cette option doit notamment être activée si vous souhaitez exporter votre notebook au format PDF (File -> Download as ...) avec les résultats des cellules de code."
   ]
  },
  {
   "cell_type": "code",
   "execution_count": null,
   "id": "0a862d5e",
   "metadata": {},
   "outputs": [],
   "source": [
    "# This will allow the outputs of the notebook to be saved. By default outputs are stripped when saving.\n",
    "#run.saveFormOutput()"
   ]
  },
  {
   "cell_type": "markdown",
   "id": "invisible-subscriber",
   "metadata": {},
   "source": [
    "## Fonctions Jupyter-Run"
   ]
  },
  {
   "cell_type": "markdown",
   "id": "26871eb6",
   "metadata": {},
   "source": [
    "Les cas tests qui doivent être exécutées dans la fiche peuvent être ajoutés via l'API offerte par le module <code>run</code>:"
   ]
  },
  {
   "cell_type": "code",
   "execution_count": null,
   "id": "acf60c91",
   "metadata": {},
   "outputs": [],
   "source": [
    "from trustutils import run"
   ]
  },
  {
   "cell_type": "markdown",
   "id": "62e7d75f",
   "metadata": {},
   "source": [
    "Ensuite, la méthode <code>addCase</code> permet de créer un objet de type <code>TRUSTCase</code> qui dispose de méthode pour copier et/ou modifier le jeu de données.\n",
    "Par défaut, lors du 1er appel, cela:\n",
    "\n",
    "* copie l'ensemble du répertoire <code>src</code> dans <code>build</code>\n",
    "* invoque le script <code>prepare</code> s'il existe (sur des nouvelles fiches, les utilisateurs sont encouragés à effectuer les manips habituellement faites dans le prepare directement dans une cellule Jupyter Shell)\n",
    "\n",
    "Voir la classe <code>run.TRUSTSuite</code> pour contrôler cela plus finement."
   ]
  },
  {
   "cell_type": "code",
   "execution_count": null,
   "id": "wired-celtic",
   "metadata": {
    "tags": []
   },
   "outputs": [],
   "source": [
    "# Au départ, ou pour la mise au point, il peut être utile de tout remettre à 0. Cela supprime le répertoire\n",
    "# de build, et vide la liste des cas à exécuter:\n",
    "run.reset()\n",
    "\n",
    "# Ici on ajoute un cas qu'on veut lancer, en specifiant le nombre de proceseurs qu'on veut (valeur par defaut=1)\n",
    "run.addCase(\".\",\"Loi_Fermeture_Test.data\")\n",
    "\n",
    "# Un autre cas, en gardant dans une variable l'objet TRUSTCase ainsi créé pour pouvoir le manipuler:\n",
    "casT = run.addCase(\".\",\"grad_u_transpose_3d.data\")\n",
    "\n",
    "# Méthodes pour copier simplement un cas - le nom sera \"Copy_XXXX\", et le cas sera dans le même dossier\n",
    "casS = casT.copy(\"NouveauNom1.data\")\n",
    "# Remarque: On peut utiliser les options pour mieux gerer l'arborescence des fichiers dans le build\n",
    "cas_notUsed = casT.copy(\"NouveauNom2.data\", directory=\"NouveauRep\")\n",
    "\n",
    "# Le cas peut ensuite être ajouté à la liste à exécuter avec addCase\n",
    "run.addCase(casS)\n",
    "\n",
    "# Méthode pour substituer un morceau de code, cela fait une substitution en place:\n",
    "casS.substitute(\"Mailler dom\",\"Mailler dom \\n# un commentaire bidon #\")"
   ]
  },
  {
   "cell_type": "markdown",
   "id": "ba664a83",
   "metadata": {},
   "source": [
    "Pour avoir accès à la liste des cas tests qui vont être exécutés:"
   ]
  },
  {
   "cell_type": "code",
   "execution_count": null,
   "id": "05d2d2ee",
   "metadata": {
    "tags": []
   },
   "outputs": [],
   "source": [
    "run.printCases()"
   ]
  },
  {
   "cell_type": "markdown",
   "id": "454228d3",
   "metadata": {},
   "source": [
    "L'environnement MEDCoupling peut automatiquement être chargé avec:"
   ]
  },
  {
   "cell_type": "code",
   "execution_count": null,
   "id": "ad90d59a",
   "metadata": {},
   "outputs": [],
   "source": [
    "run.useMEDCoupling()\n",
    "# Let's test it!\n",
    "import medcoupling as mc\n",
    "mc.DataArrayDouble([1,2,3])"
   ]
  },
  {
   "cell_type": "markdown",
   "id": "3ec32c05",
   "metadata": {},
   "source": [
    "Le jeu de données peut être affiché avec:"
   ]
  },
  {
   "cell_type": "code",
   "execution_count": null,
   "id": "159204c6",
   "metadata": {},
   "outputs": [],
   "source": [
    "casS.dumpDataset([\"dom\"])  # mise en surbrillance d'un mot spécifique"
   ]
  },
  {
   "cell_type": "markdown",
   "id": "77ef217f",
   "metadata": {},
   "source": [
    "La méthode dumpDataset est spécifique au fichier \\*.data, pour afficher un fichier general, on utilisera la méthode run.dumpData('nom_du_fichier',list_keywords=[ ])"
   ]
  },
  {
   "cell_type": "markdown",
   "id": "8e8fbede",
   "metadata": {},
   "source": [
    "Ensuite le lancement des cas se fait avec la méthode <code>runCases</code>. \n",
    "\n",
    "* le script <code>prepare</code> (s'il existe) est exécuté, \n",
    "* et ensuite pour chaque cas\n",
    " * le script <code>pre_run</code> est exécuté, \n",
    " * puis le cas test \n",
    " * et enfin le script <code>post_run</code>\n",
    " \n",
    " Si un cas test plante, les 20 dernières lignes du fichier .err sont automatiquement affichées (vous pouvez par ex essayer de modifier le <code>substitute()</code> précédent pour faire planter un cas)."
   ]
  },
  {
   "cell_type": "code",
   "execution_count": null,
   "id": "e3f30c59",
   "metadata": {
    "scrolled": true
   },
   "outputs": [],
   "source": [
    "# Methode pour lancer les cas tests\n",
    "run.runCases()\n",
    "# L'option 'verbose' permet d'afficher la sortie de TRUST\n",
    "# Ce qui n'est en general pas voulu car cela est deja dans le terminal\n",
    "#run.runCases(verbose=True)\n",
    "# L'option 'preventConcurrent=True' permet de s'assurer que les cas seront executes dans l'ordre\n",
    "# ou ils ont ete enregistres. Sinon, si le Sserver est actif, celui-ci sera automatiquement utilise.\n",
    "#run.runCases(preventConcurrent=True)"
   ]
  },
  {
   "cell_type": "code",
   "execution_count": null,
   "id": "b9e80442",
   "metadata": {},
   "outputs": [],
   "source": [
    "# Le lancement d'une commande ou d'un script bash supplementaire\n",
    "# run.executeScript(\"calcul_nb_mailles\") #TODO\n",
    "# run.dumpData(\"fin_total\")"
   ]
  },
  {
   "cell_type": "markdown",
   "id": "d92765af",
   "metadata": {},
   "source": [
    "Et enfin on peut afficher la table des performances pour tous les cas test exécutés:"
   ]
  },
  {
   "cell_type": "code",
   "execution_count": null,
   "id": "favorite-sullivan",
   "metadata": {},
   "outputs": [],
   "source": [
    "# Methodes pour afficher le tableau de performance\n",
    "run.tablePerf()"
   ]
  },
  {
   "cell_type": "markdown",
   "id": "accessory-onion",
   "metadata": {},
   "source": [
    "## Fonctions Jupyter-Plot\n",
    "Le module 'trustutils.plot' permet d'afficher des courbes et autres graphiques à partir des fichiers sondes de TRUST, ou à partir des fichiers LATA. Elle est basée sur matplotlib."
   ]
  },
  {
   "cell_type": "code",
   "execution_count": null,
   "id": "inside-slovakia",
   "metadata": {
    "scrolled": false,
    "tags": []
   },
   "outputs": [],
   "source": [
    "from trustutils import plot\n",
    "import numpy as np\n",
    "\n",
    "# Graphe simple\n",
    "Graph=plot.Graph(\"Titre 1\",size=[15,8])\n",
    "Graph.addPoint(\"Loi_Fermeture_Test_SONDE.son\")\n",
    "\n",
    "# Graphe plus complexe\n",
    "Graph=plot.Graph(\"Titre 2\",size=[15,8])\n",
    "Graph.addPoint(\"Loi_Fermeture_Test_SONDE.son\",label=\"Name\",color=\"r\",marker=\"--\")\n",
    "\n",
    "# Pour ajouter une courbe quelconque il faut utiliser la methode \n",
    "# \"add\". Si on veut charger un fichier semblable\n",
    "# a une fichier texte, on peut se servir de la methode \n",
    "# plot.loadText(\"direction_du_fichier.txt\")\n",
    "x=np.linspace(0,2,100)\n",
    "y=-100*(x-1)*(x-1)+4\n",
    "Graph.add(x,y,label=\"Plot\")\n",
    "\n",
    "# Les fonctions add, addPoint et addSegment prennent en options \n",
    "# les arguments de matplotlib.pyplot.plot\n",
    "y = np.exp(x)\n",
    "Graph.add(x,y,label=\"exp\",linewidth=3.,marker='s',mfc='none')\n",
    "\n",
    "# La fonction legend les arguments de matplotlib.pyplot.legend\n",
    "Graph.legend(loc='upper center', bbox_to_anchor=(0.5, -0.1),\n",
    "          fancybox=True, shadow=True, ncol=2)\n",
    "\n",
    "# Methode pour changer les titres des axes.\n",
    "Graph.label(\"x\",\"y\")\n",
    "\n",
    "\n",
    "# Methode pour cadrer le plot.\n",
    "# Tous les parametres ne sont pas obligatoires:\n",
    "Graph.visu(xmin=0,xmax=3,ymin=0,ymax=3)\n"
   ]
  },
  {
   "cell_type": "code",
   "execution_count": null,
   "id": "b9e5a54a",
   "metadata": {},
   "outputs": [],
   "source": [
    "from trustutils import plot\n",
    "\n",
    "# Possibilite de tracer les variables des sondes de type segments avec \n",
    "# la valeur du temps (dernier pas de temps par defaut) et de la coordonnee a tracer \n",
    "# si il s'agit d'un vecteur a plusieurs dimensions (par ex la vitesse)\n",
    "Graph=plot.Graph(\"Titre 3\",size=[15,8])\n",
    "Graph.addSegment(\"grad_u_transpose_3d_SONDE_V.son\",compo=1,value=0.)\n",
    "\n",
    "# Possibilite d'ajouter une fonction Y=f(X,Y) dans addSegment et addPoint (peut permettre de calculer par exemple une erreur)\n",
    "\n",
    "def substraction(x,y):\n",
    "    return y - 2.*x\n",
    "\n",
    "Graph.addSegment(\"grad_u_transpose_3d_SONDE_V.son\",compo=1,label='test function',func=substraction)\n",
    "\n",
    "# Plot des Residus\n",
    "Graph=plot.Graph(\"Titre 4\",size=[15,8])\n",
    "Graph.addResidu(\"grad_u_transpose_3d.dt_ev\",label=\"Residu\")\n",
    "\n",
    "# Methode pour modifier les echelles des axes\n",
    "Graph.scale(yscale='log')"
   ]
  },
  {
   "cell_type": "code",
   "execution_count": null,
   "id": "cubic-distributor",
   "metadata": {
    "scrolled": false
   },
   "outputs": [],
   "source": [
    "from trustutils import plot\n",
    "import numpy as np \n",
    "\n",
    "# Multiplot carre\n",
    "Graph=plot.Graph(title=\"title\",subtitle=\"GRAND TITRE\",nX=2,nY=2)\n",
    "Graph.addPoint(\"Loi_Fermeture_Test_SONDE.son\")\n",
    "Graph.addPlot([1,1])\n",
    "Graph.addPoint(\"Loi_Fermeture_Test_SONDE.son\") \n",
    "Graph.addPlot([1,0])\n",
    "\n",
    "x=np.linspace(-1,1,100)\n",
    "y=-x*x+10\n",
    "Graph.add(x,y,label=\"Plot\")\n",
    "Graph.add(x,y,label=\"Plot\",title=\"Fonction\",xIndice=0,yIndice=1)\n",
    "\n",
    "# Multiplot horizontal\n",
    "Graph=plot.Graph(\"Titre\",nX=1,nY=2) # nX=1 est la valeur par defaut -- peut etre omise\n",
    "Graph.addPoint(\"Loi_Fermeture_Test_SONDE.son\")\n",
    "Graph.addPlot(1)\n",
    "Graph.addPoint(\"Loi_Fermeture_Test_SONDE.son\")\n",
    "\n",
    "# Multiplot vertical\n",
    "Graph=plot.Graph(\"Titre\",nX=2,nY=1)\n",
    "Graph.addPoint(\"Loi_Fermeture_Test_SONDE.son\")\n",
    "Graph.addPlot(1)\n",
    "Graph.addPoint(\"Loi_Fermeture_Test_SONDE.son\")\n"
   ]
  },
  {
   "cell_type": "markdown",
   "id": "large-colony",
   "metadata": {},
   "source": [
    "## Fonction visitutils\n",
    "Visitutils est un module dont le but est d'aider l'utilisateur à obtenir des plots VisIt."
   ]
  },
  {
   "cell_type": "code",
   "execution_count": null,
   "id": "arbitrary-basket",
   "metadata": {
    "scrolled": false,
    "tags": []
   },
   "outputs": [],
   "source": [
    "from trustutils import visit\n",
    "\n",
    "# Comande simple pour visualiser le champ ou le maillage\n",
    "visit.showField(\"Loi_Fermeture_Test.lata\",\"Pseudocolor\",\"TEST_TIME_ELEM_dom\",plotmesh=False)\n",
    "visit.showMesh(\"Loi_Fermeture_Test.lata\")\n",
    "\n",
    "fig=visit.Show(\"Loi_Fermeture_Test.lata\",\"Pseudocolor\",\"TEST_TIME_ELEM_dom\")\n",
    "fig.addField(\"Loi_Fermeture_Test.lata\",\"Pseudocolor\",\"TEST_TIME_SOM_dom\")\n",
    "# possibilite d'ajouter une liste d'options de visualisation\n",
    "fig.visuOptions(['no_databaseinfo','no_legend'])\n",
    "\n",
    "#Toujours finir avec l'initialisation visit.Show()\n",
    "fig.plot()"
   ]
  },
  {
   "cell_type": "code",
   "execution_count": null,
   "id": "interstate-environment",
   "metadata": {
    "scrolled": false,
    "tags": []
   },
   "outputs": [],
   "source": [
    "from trustutils import visit\n",
    "\n",
    "# Multiplot carré\n",
    "fig=visit.Show(\"Loi_Fermeture_Test.lata\",\"Pseudocolor\",\"TEST_TIME_ELEM_dom\",nY=2,nX=2)\n",
    "fig.addField(\"Loi_Fermeture_Test.lata\",\"Pseudocolor\",\"TEST_TIME_SOM_dom\") \n",
    "fig.add(\"Loi_Fermeture_Test.lata\",\"Pseudocolor\",\"TEST_TIME_ELEM_dom\",xIndice=1,yIndice=1) \n",
    "fig.plot()\n",
    "\n",
    "# Multiplot horizontal\n",
    "fig=visit.Show(\"Loi_Fermeture_Test.lata\",\"Pseudocolor\",\"TEST_TIME_ELEM_dom\",nY=1,nX=2)\n",
    "fig.add(\"Loi_Fermeture_Test.lata\",\"Pseudocolor\",\"TEST_TIME_ELEM_dom\",1)\n",
    "fig.plot()\n",
    "\n",
    "# Multiplot vertical\n",
    "fig=visit.Show(\"Loi_Fermeture_Test.lata\",\"Pseudocolor\",\"TEST_TIME_ELEM_dom\",nY=2,nX=1)\n",
    "fig.add(\"Loi_Fermeture_Test.lata\",\"Pseudocolor\",\"TEST_TIME_ELEM_dom\",1)\n",
    "fig.plot()"
   ]
  },
  {
   "cell_type": "code",
   "execution_count": null,
   "id": "f02e1cf4",
   "metadata": {},
   "outputs": [],
   "source": [
    "#Cas 3D\n",
    "from trustutils import visit\n",
    "\n",
    "plot=visit.Show(\"./grad_u_transpose_3d.lata\", \"Mesh\", \"dom\", plotmesh=True,nY=2,time=0,title=\"Mesh\")\n",
    "# Possibilite de faire varier la perspective avec rotation3D, normal3D, up3D, zoom3D et zoom2D\n",
    "plot.rotation3D([45,45,45])\n",
    "plot.visuOptions([\"no_axes\",\"no_bounding_box\",\"no_triad\"])\n",
    "\n",
    "plot.add(\"./grad_u_transpose_3d.lata\", \"Pseudocolor\", \"PRESSION_PA_ELEM_dom\",plotmesh=True,yIndice=1,title=\"Zoom\")\n",
    "plot.normal3D([0.5,0.5,0.5])\n",
    "plot.up3D([0,0,1])\n",
    "plot.zoom3D([0.,0.,1.5])\n",
    "plot.plot()\n"
   ]
  },
  {
   "cell_type": "code",
   "execution_count": null,
   "id": "9baff76c",
   "metadata": {},
   "outputs": [],
   "source": [
    "plot=visit.Show(\"./grad_u_transpose_3d.lata\", \"Pseudocolor\", \"PRESSION_PA_ELEM_dom\",plotmesh=True)\n",
    "plot.addField(\"./grad_u_transpose_3d.lata\", \"Vector\", \"VITESSE_SOM_dom\",plotmesh=True)\n",
    "plot.rotation3D([45,45,45])\n",
    "\n",
    "# Options disponibles\n",
    "plot.blackVector()\n",
    "plot.meshColor(\"red\")\n",
    "\n",
    "plot.plot()\n",
    "\n",
    "plot = visit.Show(\"./grad_u_transpose_3d.lata\", \"Contour\", \"PRESSION_PA_ELEM_dom\",title=\"Isovalues\")\n",
    "plot.rotation3D([45,45,45])\n",
    "plot.meshTrans()\n",
    "# Reproduction des commandes visit\n",
    "plot.visitCommand(\"ContourAtts = ContourAttributes()\")\n",
    "plot.visitCommand(\"ContourAtts.lineWidth = 2\")\n",
    "plot.visitCommand(\"ContourAtts.wireframe = 1\")\n",
    "plot.visitCommand(\"ContourAtts.contourNLevels = 15\")\n",
    "plot.visitCommand(\"SetPlotOptions(ContourAtts)\")\n",
    "\n",
    "plot.plot()\n",
    "\n",
    "# Il est egalement d'utiliser l'option empty=True \n",
    "# pour contruire sur une base initialement vide\n",
    "a=visit.Show(time=0,empty=True,title=\"slice2D\")\n",
    "a.visitCommand(\"OpenDatabase('grad_u_transpose_3d.lata', 0)\")\n",
    "a.visitCommand(\"DefineVectorExpression('v_proj_obli45', '{VITESSE_X_SOM_dom/2+VITESSE_Z_SOM_dom/2,VITESSE_Y_SOM_dom,VITESSE_X_SOM_dom/2+VITESSE_Z_SOM_dom/2}')\")\n",
    "a.visitCommand(\"AddPlot('Vector', 'v_proj_obli45', 1, 0)\")\n",
    "\n",
    "# Formation d'une slice2D\n",
    "a.slice(origin=[0,0,0],normal=[1,1,1.],type_op='slice_2D')\n",
    "a.visitCommand(\"VectorAtts = VectorAttributes()\")\n",
    "a.visitCommand(\"VectorAtts.useStride = 1\")\n",
    "a.visitCommand(\"VectorAtts.stride = 1\")\n",
    "a.visitCommand(\"VectorAtts.autoScale = 0\")\n",
    "a.visitCommand(\"VectorAtts.scale = 0.3\")\n",
    "a.visitCommand(\"SetPlotOptions(VectorAtts)\")\n",
    "a.visitCommand(\"DrawPlots()\")\n",
    "a.plot()\n",
    "\n"
   ]
  },
  {
   "cell_type": "markdown",
   "id": "595dad55",
   "metadata": {},
   "source": [
    "En cas de difficulté, l'historique des commandes cli d'une visu est enregistré dans le fichier tmp_visit.py et peut être rejoué avec <code>visit -cli -s tmp_visit.py</code>"
   ]
  },
  {
   "cell_type": "markdown",
   "id": "competent-actor",
   "metadata": {},
   "source": [
    "## Fonction Jupyter-Widget\n",
    "<code>trustutils.widget</code> est un module qui permet de créer un widget interfactif dans le notebook.\n",
    "Cela peut typiquement être utilisé pour mettre au point une visualisation. Une fois que tous les paramètres sont fixés, on peut garder dans le notebook final que la commande <code>visit.Show</code> correspondante pour alléger la fiche (moins lourd que le widget, et plus portable)."
   ]
  },
  {
   "cell_type": "code",
   "execution_count": null,
   "id": "cosmetic-vegetable",
   "metadata": {
    "scrolled": false,
    "tags": []
   },
   "outputs": [],
   "source": [
    "# A seulement utiliser pour la mise au point de la fiche, pas pour sa version finale !!\n",
    "from trustutils import widget\n",
    "\n",
    "# Version alpha\n",
    "widget.interface(\"./grad_u_transpose_3d.lata\",\"Pseudocolor\",\"PRESSION_PA_ELEM_dom\") "
   ]
  }
 ],
 "metadata": {
  "kernelspec": {
   "display_name": "Python 3 (ipykernel)",
   "language": "python",
   "name": "python3"
  },
  "language_info": {
   "codemirror_mode": {
    "name": "ipython",
    "version": 3
   },
   "file_extension": ".py",
   "mimetype": "text/x-python",
   "name": "python",
   "nbconvert_exporter": "python",
   "pygments_lexer": "ipython3",
   "version": "3.7.9"
  },
  "toc-autonumbering": true
 },
 "nbformat": 4,
 "nbformat_minor": 5
}
