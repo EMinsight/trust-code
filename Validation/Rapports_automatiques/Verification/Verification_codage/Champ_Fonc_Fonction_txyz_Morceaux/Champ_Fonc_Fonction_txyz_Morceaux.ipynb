{
 "cells": [
  {
   "cell_type": "markdown",
   "id": "inappropriate-lingerie",
   "metadata": {},
   "source": [
    "# Verification of Champ_Fonc_Fonction_txyz_Morceaux"
   ]
  },
  {
   "cell_type": "code",
   "execution_count": 1,
   "id": "dacd9347",
   "metadata": {},
   "outputs": [
    {
     "data": {
      "text/markdown": [
       "## Introduction \n",
       " Validation made by : A.Bruneton\n"
      ],
      "text/plain": [
       "<IPython.core.display.Markdown object>"
      ]
     },
     "metadata": {},
     "output_type": "display_data"
    },
    {
     "data": {
      "text/markdown": [
       "\n",
       " Report generated 26/01/2022"
      ],
      "text/plain": [
       "<IPython.core.display.Markdown object>"
      ]
     },
     "metadata": {},
     "output_type": "display_data"
    },
    {
     "data": {
      "text/markdown": [
       "### Description \n",
       "This note tests the field Champ_Fonc_Fonction_txyz_Morceaux which allows to define a field per zone. On each zone the value is defined as a function of x,y,z,t and of scalar value taken from a parameter field. This values is associated to thevariable ’val’ in the expression."
      ],
      "text/plain": [
       "<IPython.core.display.Markdown object>"
      ]
     },
     "metadata": {},
     "output_type": "display_data"
    },
    {
     "data": {
      "text/markdown": [
       "### TRUST parameters \n",
       " * Version TRUST: 1.8.4\n",
       " * Binary used: /volatile/catA/ll258196/trust-code/exec/TRUST_mpi_opt (built on TRUST /volatile/catA/ll258196/trust-code/Validation/Rapports_automatiques/jupyter/Verification_codage/Champ_Fonc_Fonction_txyz_Morceaux/build)"
      ],
      "text/plain": [
       "<IPython.core.display.Markdown object>"
      ]
     },
     "metadata": {},
     "output_type": "display_data"
    }
   ],
   "source": [
    "from trustutils import run\n",
    "\n",
    "run.introduction(\"A.Bruneton\")\n",
    "run.description(\"This note tests the field Champ_Fonc_Fonction_txyz_Morceaux which allows to define a field per zone. On each zone the value is defined as a function of x,y,z,t and of scalar value taken from a parameter field. This values is associated to thevariable ’val’ in the expression.\")\n",
    "run.TRUST_parameters()"
   ]
  },
  {
   "cell_type": "code",
   "execution_count": 2,
   "id": "a013fdde-5a2e-4415-9247-ffb3ad9439e0",
   "metadata": {},
   "outputs": [
    {
     "data": {
      "text/markdown": [
       "### Test cases \n",
       "* ./champ_txyz_morc.data : \n"
      ],
      "text/plain": [
       "<IPython.core.display.Markdown object>"
      ]
     },
     "metadata": {},
     "output_type": "display_data"
    },
    {
     "name": "stdout",
     "output_type": "stream",
     "text": [
      "Running **with Sserver**...\n",
      "  => A total of 1 cases were (successfully) run in 0.3s.\n"
     ]
    }
   ],
   "source": [
    "from trustutils import run \n",
    "run.reset()\n",
    "c1 = run.addCase(\".\",\"champ_txyz_morc.data\",nbProcs=1)\n",
    "run.printCases()\n",
    "run.runCases()"
   ]
  },
  {
   "cell_type": "markdown",
   "id": "growing-hundred",
   "metadata": {},
   "source": [
    "## Field check\n",
    "The resulting plot should be flat."
   ]
  },
  {
   "cell_type": "code",
   "execution_count": 3,
   "id": "145f7fc8-59d0-46c6-81a9-371940119d77",
   "metadata": {
    "scrolled": true,
    "tags": []
   },
   "outputs": [
    {
     "name": "stdout",
     "output_type": "stream",
     "text": [
      " \u001b[38;5;88m# Hydraulique 2D laminaire avec \"trou\" dans le maillage #\n",
      "\u001b[0;0m \u001b[38;5;88m# PARALLEL OK 8 #\n",
      "\u001b[0;0m dimension 2\n",
      "\u001b[38;5;28m Pb_conduction \u001b[0;0mpb\n",
      "\u001b[38;5;28m Domaine \u001b[0;0mdom\n",
      " \u001b[38;5;88m# BEGIN MESH #\n",
      "\u001b[0;0m\u001b[38;5;28m Mailler \u001b[0;0mdom \n",
      " {\n",
      "    \u001b[38;5;28m Pave \u001b[0;0mCavite\n",
      "     {\n",
      "        \u001b[38;5;28m Origine \u001b[0;0m0. 0.\n",
      "         Nombre_de_Noeuds 5 2\n",
      "         Longueurs 4. 1.\n",
      "     }\n",
      "     {\n",
      "        \u001b[38;5;28m Bord \u001b[0;0mGauche X\u001b[38;5;28m = \u001b[0;0m0. 0.\u001b[38;5;28m <= \u001b[0;0mY\u001b[38;5;28m <= \u001b[0;0m1.\n",
      "        \u001b[38;5;28m Bord \u001b[0;0mHaut   Y\u001b[38;5;28m = \u001b[0;0m1. 0.\u001b[38;5;28m <= \u001b[0;0mX\u001b[38;5;28m <= \u001b[0;0m4.\n",
      "        \u001b[38;5;28m Bord \u001b[0;0mBas    Y\u001b[38;5;28m = \u001b[0;0m0. 0.\u001b[38;5;28m <= \u001b[0;0mX\u001b[38;5;28m <= \u001b[0;0m4.\n",
      "        \u001b[38;5;28m Bord \u001b[0;0mDroit  X\u001b[38;5;28m = \u001b[0;0m4. 0.\u001b[38;5;28m <= \u001b[0;0mY\u001b[38;5;28m <= \u001b[0;0m1.\n",
      "     }\n",
      " }\n",
      " \n",
      " Postraiter_domaine\n",
      " {\n",
      "   \u001b[38;5;28m fichier \u001b[0;0mmesh.lata\n",
      "   \u001b[38;5;28m format \u001b[0;0mlata\n",
      "   \u001b[38;5;28m domaine \u001b[0;0mdom\n",
      " }\n",
      " \n",
      " \u001b[38;5;88m# END MESH #\n",
      "\u001b[0;0m \u001b[38;5;88m# BEGIN PARTITION  \n",
      "\u001b[0;0m\u001b[38;5;28m \u001b[38;5;4mPartition\u001b[0;0m \u001b[0;0mdom\n",
      " {\n",
      " \t\u001b[38;5;28m \u001b[38;5;4mPartition\u001b[0;0m_tool \u001b[0;0mtranche {\u001b[38;5;28m tranches \u001b[0;0m2 1 }\n",
      " \t Larg_joint 1\n",
      " \t\u001b[38;5;28m zones_name \u001b[0;0mDOM\n",
      " }\n",
      " End\n",
      "  END PARTITION #\n",
      " \n",
      " \u001b[38;5;88m# BEGIN SCATTER\n",
      "\u001b[0;0m\u001b[38;5;28m Scatter \u001b[0;0mDOM.Zones dom\n",
      " END SCATTER #\n",
      " \n",
      "\u001b[38;5;28m Sous_zone \u001b[0;0msz1\n",
      "\u001b[38;5;28m Associate \u001b[0;0msz1 dom\n",
      "\u001b[38;5;28m \u001b[38;5;4mRead\u001b[0;0m \u001b[0;0msz1 { \n",
      "  rectangle\n",
      "      \u001b[38;5;28m Origine \u001b[0;0m0.0 0.0 \n",
      "      \u001b[38;5;28m Cotes \u001b[0;0m2.0 1.0\n",
      "  }\n",
      "\u001b[38;5;28m Sous_zone \u001b[0;0msz2\n",
      "\u001b[38;5;28m Associate \u001b[0;0msz2 dom\n",
      "\u001b[38;5;28m \u001b[38;5;4mRead\u001b[0;0m \u001b[0;0msz2 {  \n",
      "    Rectangle\n",
      "      \u001b[38;5;28m Origine \u001b[0;0m2. 0.0\n",
      "      \u001b[38;5;28m Cotes \u001b[0;0m2.0 1.0\n",
      " } \n",
      " \n",
      " \n",
      " VDF dis\n",
      " \n",
      " /*\u001b[38;5;28m Scheme_euler_implicit \u001b[0;0msch */\n",
      "\u001b[38;5;28m Scheme_euler_explicit \u001b[0;0msch\n",
      "\u001b[38;5;28m \u001b[38;5;4mRead\u001b[0;0m \u001b[0;0msch\n",
      " {\n",
      " \t\u001b[38;5;28m tinit \u001b[0;0m0\n",
      " \t\u001b[38;5;28m tmax \u001b[0;0m1.0\n",
      "  \u001b[38;5;28m nb_pas_dt_max \u001b[0;0m0\n",
      " }\n",
      " \n",
      "\u001b[38;5;28m Solide \u001b[0;0msol\n",
      "\u001b[38;5;28m \u001b[38;5;4mRead\u001b[0;0m \u001b[0;0msol\n",
      " {\n",
      "    \u001b[38;5;28m rho \u001b[0;0mChamp_Uniforme 1 50\n",
      "    \u001b[38;5;28m lambda \u001b[0;0mChamp_Uniforme 1 0.01\n",
      "    \u001b[38;5;28m Cp \u001b[0;0mChamp_Uniforme 1 0.5\n",
      " }\n",
      " \n",
      " \n",
      "\u001b[38;5;28m Associate \u001b[0;0mpb dom\n",
      "\u001b[38;5;28m Associate \u001b[0;0mpb sch\n",
      "\u001b[38;5;28m Associate \u001b[0;0mpb sol\n",
      " \n",
      "\u001b[38;5;28m Discretize \u001b[0;0mpb dis\n",
      " \n",
      "\u001b[38;5;28m \u001b[38;5;4mRead\u001b[0;0m \u001b[0;0mpb\n",
      " {\n",
      "   \u001b[38;5;4mConduction\u001b[0;0m\n",
      " \t {\n",
      "        \u001b[38;5;28m \u001b[38;5;4mdiffusion\u001b[0;0m \u001b[0;0m{ }\n",
      "        \u001b[38;5;28m \u001b[38;5;4minitial_conditions\u001b[0;0m \u001b[0;0m{\n",
      "             \n",
      "            \u001b[38;5;28m temperature \u001b[0;0mChamp_Fonc_Fonction_txyz_Morceaux pb\u001b[38;5;28m rho \u001b[0;0m1\n",
      "                 { \n",
      "                   defaut 3000.0\n",
      "                   sz1 val+3\n",
      "                   sz2 val*2+2\n",
      "                 }\n",
      "             \n",
      "         }\n",
      "         \n",
      "        \u001b[38;5;28m \u001b[38;5;4mboundary_conditions\u001b[0;0m \u001b[0;0m{\n",
      "             Haut paroi_adiabatique\n",
      "             Bas  paroi_adiabatique\n",
      "             Droit paroi_adiabatique\n",
      "             Gauche paroi_adiabatique\n",
      "         }\n",
      " \t }\n",
      " \t \n",
      "  \u001b[38;5;28m \u001b[38;5;4mPost_processing\u001b[0;0m \u001b[0;0m\n",
      " \t {\n",
      " \t      \u001b[38;5;28m definition_champs \u001b[0;0m\n",
      " \t       {\n",
      " \t            ma_comparaison Transformation \n",
      " \t             {\n",
      " \t                   \u001b[38;5;28m methode \u001b[0;0mformule\u001b[38;5;28m expression \u001b[0;0m1 temperature_natif_dom+10.0\n",
      " \t                   \u001b[38;5;28m source \u001b[0;0mrefChamp { Pb_champ pb\u001b[38;5;28m temperature \u001b[0;0m}\n",
      " \t             }\n",
      " \t       }\n",
      " \t      \u001b[38;5;28m format \u001b[0;0mlata \n",
      " \t \t     \u001b[38;5;4mfields\u001b[0;0m\u001b[38;5;28m dt_post \u001b[0;0m1.\n",
      " \t \t     {\n",
      "            ma_comparaison\n",
      " \t \t       \u001b[38;5;28m temperature \u001b[0;0melem\n",
      " \t \t     }\n",
      " \t }\n",
      " \n",
      " \t \n",
      " }\n",
      " \n",
      "\u001b[38;5;28m Solve \u001b[0;0mpb\n",
      " End\n",
      " \n",
      "\n"
     ]
    }
   ],
   "source": [
    "c1.dumpDataset() "
   ]
  }
 ],
 "metadata": {
  "kernelspec": {
   "display_name": "Python 3",
   "language": "python",
   "name": "python3"
  },
  "language_info": {
   "codemirror_mode": {
    "name": "ipython",
    "version": 3
   },
   "file_extension": ".py",
   "mimetype": "text/x-python",
   "name": "python",
   "nbconvert_exporter": "python",
   "pygments_lexer": "ipython3",
   "version": "3.7.9"
  }
 },
 "nbformat": 4,
 "nbformat_minor": 5
}
