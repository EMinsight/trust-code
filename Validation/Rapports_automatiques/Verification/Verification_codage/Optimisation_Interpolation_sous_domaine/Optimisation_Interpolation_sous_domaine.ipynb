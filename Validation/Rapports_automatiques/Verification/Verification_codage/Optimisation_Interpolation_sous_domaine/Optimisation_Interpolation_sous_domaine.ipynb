{
 "cells": [
  {
   "cell_type": "markdown",
   "id": "gross-patent",
   "metadata": {},
   "source": [
    "# Optimisation Interpolation sous_domaine"
   ]
  },
  {
   "cell_type": "code",
   "execution_count": null,
   "id": "c4ec935c",
   "metadata": {},
   "outputs": [],
   "source": [
    "from trustutils import run \n",
    "\n",
    "run.introduction(\"G.F.\",\"13/04/2021\")\n",
    "run.description(\"Test de l'optimisation de l'interpolation sur des sous maillages.\")\n",
    "run.TRUST_parameters(\"1.8.0\")"
   ]
  },
  {
   "cell_type": "code",
   "execution_count": null,
   "id": "15189bb2-352d-48f9-85fa-64c4323e0f88",
   "metadata": {},
   "outputs": [],
   "source": [
    "from trustutils import run \n",
    "run.addCase(\".\" ,\"Optimisation_force.data\") \n",
    "run.addCase(\".\" ,\"Optimisation_no.data\") \n",
    "run.addCase(\".\" ,\"Optimisation_default.data\") \n",
    "run.printCases()\n",
    "run.runCases()"
   ]
  },
  {
   "cell_type": "markdown",
   "id": "2b813f3c-e933-430b-baf7-769736e8fffd",
   "metadata": {},
   "source": [
    "## Verification\n",
    "\n",
    "On verifie que les resultats ne sont pas dependants du choix, et que les performances sont au rendez vous"
   ]
  },
  {
   "cell_type": "code",
   "execution_count": null,
   "id": "ea873754-f777-46f2-bbfe-b89b52ac5bf0",
   "metadata": {},
   "outputs": [],
   "source": [
    "from trustutils import run \n",
    "\n",
    "run.dumpText(\"diff_Optimisation_no.out\")\n",
    "run.dumpText(\"diff_Optimisation_default.out\")\n",
    "\n",
    "run.tablePerf()"
   ]
  }
 ],
 "metadata": {
  "kernelspec": {
   "display_name": "Python 3 (ipykernel)",
   "language": "python",
   "name": "python3"
  },
  "language_info": {
   "codemirror_mode": {
    "name": "ipython",
    "version": 3
   },
   "file_extension": ".py",
   "mimetype": "text/x-python",
   "name": "python",
   "nbconvert_exporter": "python",
   "pygments_lexer": "ipython3",
   "version": "3.7.9"
  }
 },
 "nbformat": 4,
 "nbformat_minor": 5
}
