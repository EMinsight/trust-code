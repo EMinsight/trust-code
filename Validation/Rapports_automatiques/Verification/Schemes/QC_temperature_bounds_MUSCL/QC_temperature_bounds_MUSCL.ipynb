{
 "cells": [
  {
   "cell_type": "markdown",
   "id": "boolean-earth",
   "metadata": {},
   "source": [
    "# Verification of the physical bounds of temperature with two MUSCL formulations of the convective term"
   ]
  },
  {
   "cell_type": "code",
   "execution_count": null,
   "id": "90334874",
   "metadata": {},
   "outputs": [],
   "source": [
    "from trustutils import run\n",
    "\n",
    "run.introduction(\"Pierre-Emmanuel Angeli\")"
   ]
  },
  {
   "cell_type": "markdown",
   "id": "objective-detection",
   "metadata": {},
   "source": [
    "## Description \n",
    "Quasi-compressible case in VEF with temperature-dependent density. Simplified version of the \"Cold Leg Mixing\" benchmark case with a very coarse mesh (see: https://link.springer.com/article/10.1007/s10494-021-00272-z). The objective is to check in with extent does the temperature field remain in the physical bounds [0;1] with the use of two MUSCL convection schemes: the standard formulation called MUSCL, and the new formulation called \"MUSCL_NEW\"."
   ]
  },
  {
   "cell_type": "code",
   "execution_count": null,
   "id": "125b375c",
   "metadata": {},
   "outputs": [],
   "source": [
    "run.TRUST_parameters(\"1.9.1\")"
   ]
  },
  {
   "cell_type": "code",
   "execution_count": null,
   "id": "balanced-boating",
   "metadata": {},
   "outputs": [],
   "source": [
    "from trustutils import run \n",
    "run.addCase(f\"MUSCL\" ,\"Cas.data\")\n",
    "run.addCase(f\"MUSCL_NEW\" ,\"Cas.data\")\n",
    "\n",
    "run.printCases()\n",
    "run.runCases()"
   ]
  },
  {
   "cell_type": "code",
   "execution_count": null,
   "id": "f02e1cf4",
   "metadata": {},
   "outputs": [],
   "source": [
    "# Cas 3D\n",
    "from trustutils import visit\n",
    "\n",
    "fig=visit.Show(\"./MUSCL/Cas.lata\", \"Mesh\", \"dom\", plotmesh=True,title=\"Temperature field at the last time\")\n",
    "fig.add(\"./MUSCL/Cas.lata\",\"Pseudocolor\",\"TEMPERATURE_ELEM_dom\",1)\n",
    "fig.visuOptions([\"no_databaseinfo\"])\n",
    "fig.rotation3D([45,50,45])\n",
    "\n",
    "fig.plot()\n"
   ]
  },
  {
   "cell_type": "code",
   "execution_count": null,
   "id": "58aab711",
   "metadata": {},
   "outputs": [],
   "source": [
    "from trustutils import plot\n",
    "import numpy as np\n",
    "\n",
    "# Graphe simple\n",
    "Graph=plot.Graph(\"Temperature bounds (linear scale)\",size=[15,8])\n",
    "Graph.addPoint(\"./MUSCL/Cas_TMAX.son\",label=\"Tmax (MUSCL)\",color=\"r\",marker=\"-\")\n",
    "Graph.addPoint(\"./MUSCL_NEW/Cas_TMAX.son\",label=\"Tmax (MUSCL_NEW)\",color=\"b\",marker=\"-\")\n",
    "Graph.addPoint(\"./MUSCL/Cas_TMIN.son\",label=\"Tmin (MUSCL)\",color=\"r\",marker=\"--\")\n",
    "Graph.addPoint(\"./MUSCL_NEW/Cas_TMIN.son\",label=\"Tmin (MUSCL_NEW)\",color=\"b\",marker=\"--\")\n",
    "Graph.label(\"Time [s]\",\"Temperature [-]\")"
   ]
  },
  {
   "cell_type": "markdown",
   "id": "d2a1f586",
   "metadata": {},
   "source": [
    "## Comments\n",
    "The temperature should physically remain between 0 and 1. With the MUSCL scheme, the temperature goes significantly beyond the physical bounds. With the MUSCL_NEW scheme, the temperature remains in the physical bounds. Therefore, MUSCL_NEW ensures a better physical consistency."
   ]
  },
  {
   "cell_type": "markdown",
   "id": "1ad0e31a",
   "metadata": {},
   "source": [
    "## Computer performance"
   ]
  },
  {
   "cell_type": "code",
   "execution_count": null,
   "id": "09351c81",
   "metadata": {},
   "outputs": [],
   "source": [
    "run.tablePerf()"
   ]
  }
 ],
 "metadata": {
  "kernelspec": {
   "display_name": "Python 3 (ipykernel)",
   "language": "python",
   "name": "python3"
  },
  "language_info": {
   "codemirror_mode": {
    "name": "ipython",
    "version": 3
   },
   "file_extension": ".py",
   "mimetype": "text/x-python",
   "name": "python",
   "nbconvert_exporter": "python",
   "pygments_lexer": "ipython3",
   "version": "3.7.9"
  },
  "toc-autonumbering": true
 },
 "nbformat": 4,
 "nbformat_minor": 5
}
