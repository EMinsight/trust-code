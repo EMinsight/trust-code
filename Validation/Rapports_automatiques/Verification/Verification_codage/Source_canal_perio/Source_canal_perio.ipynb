{
 "cells": [
  {
   "cell_type": "markdown",
   "id": "asian-satin",
   "metadata": {},
   "source": [
    "# Check the debit_impose option of canal_perio keyword"
   ]
  },
  {
   "cell_type": "markdown",
   "id": "disabled-working",
   "metadata": {},
   "source": [
    "## Introduction\n",
    "Validation made by: G.F.. \\\n",
    "Report generated 13/04/2021"
   ]
  },
  {
   "cell_type": "markdown",
   "id": "dependent-rugby",
   "metadata": {},
   "source": [
    "### Description "
   ]
  },
  {
   "cell_type": "code",
   "execution_count": null,
   "id": "17326df2",
   "metadata": {},
   "outputs": [],
   "source": [
    "from trustutils import run\n",
    "\n",
    "run.TRUST_parameters()"
   ]
  },
  {
   "cell_type": "code",
   "execution_count": null,
   "id": "proof-recipient",
   "metadata": {},
   "outputs": [],
   "source": [
    "from trustutils import run \n",
    "run.addCase(\".\" ,\"std.data\") \n",
    "run.addCase(\".\" ,\"debit.data\") \n",
    "run.addCase(\".\" ,\"debit2.data\") \n",
    "run.addCase(\".\" ,\"debit3.data\") \n",
    "\n",
    "run.printCases()\n",
    "run.runCases()"
   ]
  },
  {
   "cell_type": "markdown",
   "id": "chief-huntington",
   "metadata": {},
   "source": [
    "## Comparison between flow rate specified by debitimpose op-tion and computed flow rate by the initial condition on velocity\n",
    "Data files differences:"
   ]
  },
  {
   "cell_type": "code",
   "execution_count": null,
   "id": "vocational-bristol",
   "metadata": {},
   "outputs": [],
   "source": [
    "run.dumpData(\"diff_deb.out\")"
   ]
  },
  {
   "cell_type": "markdown",
   "id": "sharp-israel",
   "metadata": {},
   "source": [
    "In the first data file, the flow rate will be 2 m3/s (Uo=1 m/s and S=2m).  In the second one, flow rate is4 m3/s, and then will decrease to 2 m3/s."
   ]
  },
  {
   "cell_type": "code",
   "execution_count": null,
   "id": "popular-tuesday",
   "metadata": {},
   "outputs": [],
   "source": [
    "from trustutils import plot\n",
    "import numpy as np\n",
    "\n",
    "a = plot.Graph('')\n",
    "\n",
    "x = plot.loadText(\"std_pb_Debit.out\")\n",
    "a.add(x[0],x[1],label=\"std\")\n",
    "\n",
    "x = plot.loadText(\"debit_pb_Debit.out\")\n",
    "a.add(x[0],x[1],label=\"debit_impose\")\n",
    "\n",
    "\n",
    "a.label(\"time\",\"debit\")\n",
    "a.visu()"
   ]
  },
  {
   "cell_type": "markdown",
   "id": "faced-allergy",
   "metadata": {},
   "source": [
    "## Initial  velocity  is  inclined  into  2  directions,  with  a  verticalflow rate which should be 0.\n",
    "When converged, the velocity profile reaches horizontality."
   ]
  },
  {
   "cell_type": "code",
   "execution_count": null,
   "id": "affecting-hungary",
   "metadata": {
    "scrolled": false
   },
   "outputs": [],
   "source": [
    "from trustutils import visit\n",
    "\n",
    "Graphique=visit.Show(\"debit2.lata\",\"Vector\",\"VITESSE_SOM_dom\",nY=2,time=0,plotmesh=False)\n",
    "Graphique.blackVector()\n",
    "Graphique.add(\"debit2.lata\",\"Vector\",\"VITESSE_SOM_dom\",yIndice=1)\n",
    "Graphique.plot()"
   ]
  },
  {
   "cell_type": "markdown",
   "id": "subsequent-klein",
   "metadata": {},
   "source": [
    "## Initial  velocity  is  inclined  into  2  directions,  with  a  verticalflow rate which should be 0.\n",
    "When converged, the velocity profile reaches horizontality to 4 (due to the porosity) ."
   ]
  },
  {
   "cell_type": "code",
   "execution_count": null,
   "id": "least-portugal",
   "metadata": {},
   "outputs": [],
   "source": [
    "from trustutils import visit\n",
    "\n",
    "Graphique=visit.Show(\"debit3.lata\",\"Vector\",\"VITESSE_SOM_dom\",nY=2,time=0,plotmesh=False)\n",
    "Graphique.add(\"debit3.lata\",\"Vector\",\"VITESSE_SOM_dom\",yIndice=1)\n",
    "Graphique.plot()"
   ]
  }
 ],
 "metadata": {
  "kernelspec": {
   "display_name": "Python 3 (ipykernel)",
   "language": "python",
   "name": "python3"
  },
  "language_info": {
   "codemirror_mode": {
    "name": "ipython",
    "version": 3
   },
   "file_extension": ".py",
   "mimetype": "text/x-python",
   "name": "python",
   "nbconvert_exporter": "python",
   "pygments_lexer": "ipython3",
   "version": "3.7.9"
  }
 },
 "nbformat": 4,
 "nbformat_minor": 5
}
