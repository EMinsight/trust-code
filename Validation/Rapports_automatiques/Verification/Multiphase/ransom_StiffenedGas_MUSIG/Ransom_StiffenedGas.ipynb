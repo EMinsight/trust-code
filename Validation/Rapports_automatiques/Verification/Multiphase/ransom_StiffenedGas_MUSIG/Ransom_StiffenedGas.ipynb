{
 "cells": [
  {
   "cell_type": "markdown",
   "id": "gross-patent",
   "metadata": {},
   "source": [
    "# Robinet de Ransom 2D homogène"
   ]
  },
  {
   "cell_type": "code",
   "execution_count": null,
   "id": "b13e1235",
   "metadata": {},
   "outputs": [],
   "source": [
    "from trustutils import run\n",
    "\n",
    "run.introduction('A. Drouillet (TMA), J. Francescatto (CEA)')\n",
    "run.description(\"Cas tests du robinet de Ramson avec découpage des phases GAZ et LIQUIDE.\")\n"
   ]
  },
  {
   "cell_type": "markdown",
   "id": "perfect-entrepreneur",
   "metadata": {},
   "source": [
    "## Description du cas test\n",
    "Le probléme de Ransom 1D a été présenté par V.H. Ransom dans. Ce cas test \"raide\" permet de tester la stabilité du schéma, sa précision et l'interaction avec des termes sources simples. Il représente l'écoulement 1D d'une colonne d'eau verticale soumise à la force de gravité. L'eau accélérant sous l'effet de la gravité, le diamétre du jet doit diminue pour assurer la conservation du débit. Le cas test consiste en une collone de 12 m de hauteur et 1 m de largeur contenant de l'eau et de l'air, traités comme des fluides incompressibles. Ces fluides obeissent à la loi d'état Stiffened Gas avec pour :\n",
    "* l'air : Pinf=0 et gamma = 1.4\n",
    "* l'eau : Pinf=6 10^8 et gamma = 4.4\n",
    "\n",
    "\n",
    "Dans cette fiche de validation, il est regardé les résultats obtenus lorsque chaque phase (GAZ et LIQUIDE) est séparée en plusieurs sous-phases (4 pour GAZ et 8 pour LIQUIDE). Cela permet de valider la programmation informatique de la définition de sous phases dans le jeu de données. Cette base informatique servira pour la mise en place de d'une méthode multi groupes de type MUSIG."
   ]
  },
  {
   "cell_type": "code",
   "execution_count": null,
   "id": "a61057b9",
   "metadata": {},
   "outputs": [],
   "source": [
    "run.TRUST_parameters()"
   ]
  },
  {
   "cell_type": "code",
   "execution_count": null,
   "id": "15189bb2-352d-48f9-85fa-64c4323e0f88",
   "metadata": {
    "scrolled": false
   },
   "outputs": [],
   "source": [
    "from trustutils import run, plot\n",
    "import os\n",
    "\n",
    "run.reset()\n",
    "\n",
    "\n",
    "\n",
    "run.defaultSuite_ = run.TRUSTSuite(runPrepare=False)\n",
    "\n",
    "\n",
    "origin, build_dir = os.getcwd(), run.BUILD_DIRECTORY\n",
    "os.chdir(build_dir)\n",
    "exec(open(\"mainParameter.py\").read())\n",
    "\n",
    "\n",
    "\n",
    "os.chdir(origin)\n",
    "\n",
    "for case in names:\n",
    "    if(TCs[case][\"nombre procs\"] > 1):\n",
    "        run.addCase(\"%s\" % (case) ,\"%s.data\" %case,nbProcs=TCs[case][\"nombre procs\"])\n",
    "    else :\n",
    "        run.addCase(\"%s\" % (case) ,\"%s.data\" %case)\n",
    "    \n",
    "run.printCases()\n",
    "run.runCases()"
   ]
  },
  {
   "cell_type": "code",
   "execution_count": null,
   "id": "11f15c09",
   "metadata": {},
   "outputs": [],
   "source": [
    "run.tablePerf()"
   ]
  },
  {
   "cell_type": "code",
   "execution_count": null,
   "id": "93b7705a",
   "metadata": {
    "scrolled": true
   },
   "outputs": [],
   "source": [
    "display(tab)"
   ]
  },
  {
   "cell_type": "code",
   "execution_count": null,
   "id": "7533f3b2",
   "metadata": {},
   "outputs": [],
   "source": [
    "# Approximate exact solution \n",
    "import math\n",
    "import numpy as np\n",
    "\n",
    "def exactAlphaGas(x,t):\n",
    "    g = 10\n",
    "    L = 12\n",
    "    U0 = 10\n",
    "    alpha0 = 0.2\n",
    "    if(x<U0*t+0.5*g*t*t):\n",
    "        return 1-((1-alpha0)*U0)/(math.sqrt(U0*U0+2*g*x))\n",
    "    else:\n",
    "        return alpha0\n",
    "\n",
    "def exactVitesseLiquid(x,t):\n",
    "    g = 10\n",
    "    L = 12\n",
    "    U0 = 10\n",
    "    alpha0 = 0.2\n",
    "    if(x<U0*t+0.5*g*t*t):\n",
    "        return -math.sqrt(U0*U0+2*g*x)\n",
    "    else:\n",
    "        return -(U0+g*t)\n",
    "    \n",
    "def writeSolution(fichierName, Dt, function, N):\n",
    "    L = 12\n",
    "    xRange = np.linspace(0,L,N)\n",
    "    fichier = open(fichierName, \"w\")\n",
    "    for i in xRange :\n",
    "        x=L-i\n",
    "        ligne = str(x) + \" \" + str(function(i, Dt)) + \" \\n\" \n",
    "        fichier.write(ligne)\n",
    "    fichier.close()"
   ]
  },
  {
   "cell_type": "code",
   "execution_count": null,
   "id": "eedefb50",
   "metadata": {
    "scrolled": false
   },
   "outputs": [],
   "source": [
    "import time\n",
    "from trustutils import plot\n",
    "import matplotlib.pyplot as plt\n",
    "\n",
    "#time step\n",
    "timeStep = [0.3, 0.6, 0.8]\n",
    "Ncases = len(timeStep)\n",
    "for Dt in timeStep : \n",
    "    fichierNameAlpha = run.BUILD_DIRECTORY + \"/AlphaExact\" + str(Dt) + \".txt\"\n",
    "    fichierNameVitesse = run.BUILD_DIRECTORY+\"/VitesseExact\" + str(Dt) + \".txt\"\n",
    "    writeSolution(fichierNameAlpha, Dt, exactAlphaGas, 50)\n",
    "    writeSolution(fichierNameVitesse, Dt, exactVitesseLiquid, 50)\n",
    "    \n",
    "a = plot.Graph(\"Resultats\", nX=Ncases, nY=2)\n",
    "    \n",
    "line = 0\n",
    "for t in timeStep:\n",
    "    a.addPlot([line,0],\"Taux de vide à t = %s\" %t)\n",
    "    \n",
    "    a.addSegment(\"ransom_StiffenedGas/ransom_StiffenedGas_SONDE_ALPHA_GAZ_HELIUM.son\",lw=3,time=t,label=\"ransom nbPhases %s\" %TCs[\"ransom_StiffenedGas\"][\"nb_Phases\"])\n",
    "    a.addSegment(\"ransom_StiffenedGasMUSIG/ransom_StiffenedGasMUSIG_SONDE_ALPHA_GAZ_HELIUM_0.son\",lw=3,time=t,label=\"ransom nbPhases %s\" %TCs[\"ransom_StiffenedGasMUSIG\"][\"nb_Phases\"])\n",
    "    a.addSegment(\"ransom_StiffenedGasMUSIG/ransom_StiffenedGasMUSIG_SONDE_ALPHA_GAZ_HELIUM_1.son\",lw=3,time=t,label=\"ransom nbPhases %s\" %TCs[\"ransom_StiffenedGasMUSIG\"][\"nb_Phases\"])\n",
    "    a.addSegment(\"ransom_StiffenedGasMUSIG/ransom_StiffenedGasMUSIG_SONDE_ALPHA_GAZ_HELIUM_2.son\",lw=3,time=t,label=\"ransom nbPhases %s\" %TCs[\"ransom_StiffenedGasMUSIG\"][\"nb_Phases\"])\n",
    "    a.addSegment(\"ransom_StiffenedGasMUSIG/ransom_StiffenedGasMUSIG_SONDE_ALPHA_GAZ_HELIUM_3.son\",lw=3,time=t,label=\"ransom nbPhases %s\" %TCs[\"ransom_StiffenedGasMUSIG\"][\"nb_Phases\"])\n",
    "\n",
    "    data = plot.loadText(\"AlphaExact\" + str(t) + \".txt\")\n",
    "    a.add(data[0],data[1],label=\"Analytique\",lw=3,marker='o',color='k')\n",
    "    a.label(\"y en m\",\"Taux de vide\")\n",
    "    \n",
    "    a.addPlot([line,1],\"Vitesse du fluide à t = %s\" %t)\n",
    "    \n",
    "    a.addSegment(\"ransom_StiffenedGas/ransom_StiffenedGas_SONDE_VITESSE_LIQUIDE_SODIUM.son\",lw=3,compo=1,time=t,label=\"ransom nbPhases %s\" %TCs[\"ransom_StiffenedGas\"][\"nb_Phases\"])\n",
    "    a.addSegment(\"ransom_StiffenedGasMUSIG/ransom_StiffenedGasMUSIG_SONDE_VITESSE_LIQUIDE_SODIUM_0.son\",lw=3,compo=1,time=t,label=\"ransom nbPhases %s\" %TCs[\"ransom_StiffenedGasMUSIG\"][\"nb_Phases\"])\n",
    "    a.addSegment(\"ransom_StiffenedGasMUSIG/ransom_StiffenedGasMUSIG_SONDE_VITESSE_LIQUIDE_SODIUM_1.son\",lw=3,compo=1,time=t,label=\"ransom nbPhases %s\" %TCs[\"ransom_StiffenedGasMUSIG\"][\"nb_Phases\"])\n",
    "    a.addSegment(\"ransom_StiffenedGasMUSIG/ransom_StiffenedGasMUSIG_SONDE_VITESSE_LIQUIDE_SODIUM_2.son\",lw=3,compo=1,time=t,label=\"ransom nbPhases %s\" %TCs[\"ransom_StiffenedGasMUSIG\"][\"nb_Phases\"])\n",
    "    a.addSegment(\"ransom_StiffenedGasMUSIG/ransom_StiffenedGasMUSIG_SONDE_VITESSE_LIQUIDE_SODIUM_3.son\",lw=3,compo=1,time=t,label=\"ransom nbPhases %s\" %TCs[\"ransom_StiffenedGasMUSIG\"][\"nb_Phases\"])\n",
    "    a.addSegment(\"ransom_StiffenedGasMUSIG/ransom_StiffenedGasMUSIG_SONDE_VITESSE_LIQUIDE_SODIUM_4.son\",lw=3,compo=1,time=t,label=\"ransom nbPhases %s\" %TCs[\"ransom_StiffenedGasMUSIG\"][\"nb_Phases\"])\n",
    "    a.addSegment(\"ransom_StiffenedGasMUSIG/ransom_StiffenedGasMUSIG_SONDE_VITESSE_LIQUIDE_SODIUM_5.son\",lw=3,compo=1,time=t,label=\"ransom nbPhases %s\" %TCs[\"ransom_StiffenedGasMUSIG\"][\"nb_Phases\"])\n",
    "    a.addSegment(\"ransom_StiffenedGasMUSIG/ransom_StiffenedGasMUSIG_SONDE_VITESSE_LIQUIDE_SODIUM_6.son\",lw=3,compo=1,time=t,label=\"ransom nbPhases %s\" %TCs[\"ransom_StiffenedGasMUSIG\"][\"nb_Phases\"])\n",
    "    a.addSegment(\"ransom_StiffenedGasMUSIG/ransom_StiffenedGasMUSIG_SONDE_VITESSE_LIQUIDE_SODIUM_7.son\",lw=3,compo=1,time=t,label=\"ransom nbPhases %s\" %TCs[\"ransom_StiffenedGasMUSIG\"][\"nb_Phases\"])\n",
    "\n",
    "    \n",
    "    data = plot.loadText(\"VitesseExact\" + str(t) + \".txt\")\n",
    "    a.add(data[0],data[1],label=\"Analytique\",lw=3,marker='o',color='k')\n",
    "    a.label(\"y en m\",\"Vitesse du fluide m/s\")\n",
    "    line += 1    \n",
    "    \n",
    "plt.savefig(build_dir + \"/ransom.png\", bbox_inches='tight', facecolor='white')"
   ]
  },
  {
   "cell_type": "code",
   "execution_count": null,
   "id": "ba3f95ec",
   "metadata": {},
   "outputs": [],
   "source": []
  }
 ],
 "metadata": {
  "kernelspec": {
   "display_name": "Python 3 (ipykernel)",
   "language": "python",
   "name": "python3"
  },
  "language_info": {
   "codemirror_mode": {
    "name": "ipython",
    "version": 3
   },
   "file_extension": ".py",
   "mimetype": "text/x-python",
   "name": "python",
   "nbconvert_exporter": "python",
   "pygments_lexer": "ipython3",
   "version": "3.7.9"
  }
 },
 "nbformat": 4,
 "nbformat_minor": 5
}
