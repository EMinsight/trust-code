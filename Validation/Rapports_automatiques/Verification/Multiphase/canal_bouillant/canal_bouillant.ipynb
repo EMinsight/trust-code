{
 "cells": [
  {
   "cell_type": "markdown",
   "id": "gross-patent",
   "metadata": {},
   "source": [
    "# Canal bouillant 1D"
   ]
  },
  {
   "cell_type": "code",
   "execution_count": null,
   "id": "15146516",
   "metadata": {},
   "outputs": [],
   "source": [
    "from trustutils.jupyter import run\n",
    "\n",
    "run.introduction(\"Yannick Gorsse\")\n",
    "\n",
    "run.TRUST_parameters()"
   ]
  },
  {
   "cell_type": "markdown",
   "id": "2245df68",
   "metadata": {},
   "source": [
    "### Description: \n",
    "\n",
    "Comparaison a une solution analytique, voir STMF/LMEC/NT/15-044, paragraphe 6.2"
   ]
  },
  {
   "cell_type": "code",
   "execution_count": null,
   "id": "15189bb2-352d-48f9-85fa-64c4323e0f88",
   "metadata": {},
   "outputs": [],
   "source": [
    "from trustutils.jupyter import run\n",
    "\n",
    "run.reset()\n",
    "for dis in [\"PolyMAC_P0\", \"VDF\"]:\n",
    "    run.addCase(\".\", f\"canal_{dis}.data\")\n",
    "    run.addCase(\".\", f\"canal_sodium_{dis}.data\")\n",
    "run.printCases()\n",
    "run.runCases()"
   ]
  },
  {
   "cell_type": "markdown",
   "id": "8c26e9e2",
   "metadata": {},
   "source": [
    "## Residuals"
   ]
  },
  {
   "cell_type": "code",
   "execution_count": null,
   "id": "eb260ff2",
   "metadata": {},
   "outputs": [],
   "source": [
    "from trustutils import plot\n",
    "\n",
    "a = plot.Graph(\"Residuals\")\n",
    "for dis, m in [(\"PolyMAC_P0\", \"x\"), (\"VDF\", \"-\")]:\n",
    "    a.addResidu(f\"{run.BUILD_DIRECTORY}/canal_{dis}.dt_ev\",label=f\"{dis} - incompressible\", marker=m)\n",
    "    a.addResidu(f\"{run.BUILD_DIRECTORY}/canal_sodium_{dis}.dt_ev\",label=f\"{dis} - real fluid\", marker=m)\n",
    "\n",
    "a.scale(yscale='log')"
   ]
  },
  {
   "cell_type": "markdown",
   "id": "2b813f3c-e933-430b-baf7-769736e8fffd",
   "metadata": {},
   "source": [
    "## Results"
   ]
  },
  {
   "cell_type": "code",
   "execution_count": null,
   "id": "025147b0",
   "metadata": {},
   "outputs": [],
   "source": [
    "a = plot.Graph(\"Comparison to analytical solution\", nY=2)\n",
    "for i, var in enumerate([\"H_M\", \"ALPHA\"]):\n",
    "    a.addPlot(i)\n",
    "    a.addSegment(f\"canal_PolyMAC_P0_{var}_ANALYTIQUE.son\",label=\"analytique\")\n",
    "    for dis, m in [(\"PolyMAC_P0\", \"x\"), (\"VDF\", \"-\")]:\n",
    "        a.addSegment(f\"canal_{dis}_{var}_TRUST.son\", label=dis, marker=m)\n",
    "\n",
    "a = plot.Graph(\"Other variables\", nY=2)\n",
    "for i, var in enumerate([\"TEMPERATURE_L\", \"TEMPERATURE_G\"]):\n",
    "    a.addPlot(i)\n",
    "    for dis, m in [(\"PolyMAC_P0\", \"x\"), (\"VDF\", \"-\")]:\n",
    "        a.addSegment(f\"canal_{dis}_{var}_TRUST.son\", label=f\"{dis} - incompressible\", marker=m)\n",
    "        a.addSegment(f\"canal_sodium_{dis}_{var}_TRUST.son\", label=f\"{dis} - real fluid\", marker=m)\n",
    "\n",
    "a = plot.Graph(\"Other variables\", nY=2)\n",
    "for i, var in enumerate([\"PRESSION\", \"RHO_M\"]):\n",
    "    a.addPlot(i)\n",
    "    for dis, m in [(\"PolyMAC_P0\", \"x\"), (\"VDF\", \"-\")]:\n",
    "        a.addSegment(f\"canal_{dis}_{var}_TRUST.son\", label=f\"{dis} - incompressible\", marker=m)\n",
    "        a.addSegment(f\"canal_sodium_{dis}_{var}_TRUST.son\", label=f\"{dis} - real fluid\", marker=m)\n",
    "\n",
    "a = plot.Graph(\"Other variables\", nY=2)\n",
    "for i, (var, k) in enumerate([(\"ERREUR_H\", 0), (\"VITESSE_L\", 1)]):\n",
    "    a.addPlot(i)\n",
    "    for dis, m in [(\"PolyMAC_P0\", \"x\"), (\"VDF\", \"-\")]:\n",
    "        a.addSegment(f\"canal_{dis}_{var}_TRUST.son\", compo=k, label=f\"{dis} - incompressible\", marker=m)\n",
    "        a.addSegment(f\"canal_sodium_{dis}_{var}_TRUST.son\", compo=k, label=f\"{dis} - real fluid\", marker=m)\n"
   ]
  }
 ],
 "metadata": {},
 "nbformat": 4,
 "nbformat_minor": 5
}
