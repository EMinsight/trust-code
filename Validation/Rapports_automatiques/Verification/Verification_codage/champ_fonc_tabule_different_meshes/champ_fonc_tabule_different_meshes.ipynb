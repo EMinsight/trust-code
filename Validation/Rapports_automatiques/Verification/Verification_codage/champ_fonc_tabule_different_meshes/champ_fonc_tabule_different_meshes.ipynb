{
 "cells": [
  {
   "attachments": {},
   "cell_type": "markdown",
   "id": "gross-patent",
   "metadata": {},
   "source": [
    "# Couplage sur domaines coincidents avec maillages différents"
   ]
  },
  {
   "cell_type": "code",
   "execution_count": null,
   "id": "157af87f",
   "metadata": {},
   "outputs": [],
   "source": [
    "from trustutils.jupyter import run\n",
    "\n",
    "run.introduction(\"Yannick Gorsse\")\n",
    "\n",
    "run.TRUST_parameters()"
   ]
  },
  {
   "cell_type": "markdown",
   "id": "9fda1ed3",
   "metadata": {},
   "source": [
    "### Description: \n",
    "\n",
    "Driven cavity with cosine thermal power and thermal exchange with uniform external temperature"
   ]
  },
  {
   "cell_type": "code",
   "execution_count": null,
   "id": "15189bb2-352d-48f9-85fa-64c4323e0f88",
   "metadata": {},
   "outputs": [],
   "source": [
    "from trustutils.jupyter import run\n",
    "\n",
    "run.reset()\n",
    "calcs = {\"two_dom\" : [30, 10]}\n",
    "for dom, liste_n in calcs.items():\n",
    "    for n in liste_n:\n",
    "        run.addCaseFromTemplate(f\"jdd.data\", f\"{dom}/N{n}\", {\"N\" : n + 1})\n",
    "\n",
    "run.printCases()\n",
    "run.runCases()\n",
    "run.tablePerf()"
   ]
  },
  {
   "cell_type": "code",
   "execution_count": null,
   "id": "a4e5dc4c",
   "metadata": {},
   "outputs": [],
   "source": [
    "from trustutils import plot\n",
    "\n",
    "a = plot.Graph(\"Residuals\")\n",
    "for dom, liste_n in calcs.items():\n",
    "    for n in liste_n:\n",
    "        a.addResidu(f\"{dom}/N{n}/jdd.dt_ev\", label=f\"{dom} N{n}\")\n",
    "a.scale(yscale=\"log\")"
   ]
  },
  {
   "cell_type": "code",
   "execution_count": null,
   "id": "92a2bdd6",
   "metadata": {},
   "outputs": [],
   "source": [
    "for dom, liste_n in calcs.items():\n",
    "    for n in liste_n:\n",
    "        a = plot.Graph(f\"{dom} N{n}\")\n",
    "        for pb in [1, 2]:\n",
    "            a.addPoint(f\"{run.BUILD_DIRECTORY}/{dom}/N{n}/jdd_T{pb}.son\", label=f\"{dom} N{n} - pb {pb}\")\n"
   ]
  }
 ],
 "metadata": {},
 "nbformat": 4,
 "nbformat_minor": 5
}
