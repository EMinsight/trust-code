{
 "cells": [
  {
   "cell_type": "markdown",
   "id": "boolean-earth",
   "metadata": {},
   "source": [
    "# Verification Solveur 2D Calcul TRUST."
   ]
  },
  {
   "cell_type": "code",
   "execution_count": null,
   "id": "c50babfc",
   "metadata": {
    "scrolled": false
   },
   "outputs": [],
   "source": [
    "from trustutils import run\n",
    "\n",
    "run.introduction(\"T. Dumas, Y. Gorsse\")\n",
    "run.description(\"\")\n",
    "run.TRUST_parameters()"
   ]
  },
  {
   "cell_type": "markdown",
   "id": "85a084c3",
   "metadata": {},
   "source": [
    "# Description des cas test\n",
    "\n",
    "## Cas 1\n",
    "\n",
    "Vitesse à direction oblique :\n",
    "\n",
    "$V_x = V_y = e^{x-y}$\n",
    "\n",
    "Domaine : \n",
    "\n",
    "           Entrée : x = -1 ; 0 <= y <= 2 et -1 <= x <= 1 ; y = 0\n",
    "\n",
    "           Sortie : x = 1 ; 0 <= y <= 2 et -1 <= x <= 1 ; y = 2\n",
    "\n",
    "## Cas 2\n",
    "\n",
    "Vitesse à direction horizontale :\n",
    "\n",
    "$V_x = 2 \\sin(45°)e^{-2\\cos(45°)x}$\n",
    "\n",
    "$V_y = 0$\n",
    "\n",
    "Domaine : \n",
    "           \n",
    "           Entrée : x = -1 ; 0 <= y <= 2\n",
    "\n",
    "           Sortie : x = 1 ; 0 <= y <= 2\n",
    "           \n",
    "           Paroi : -1 <= x <= 1 ; y = 0 et -1 <= x <= 1 ; y = 2\n",
    "           \n",
    "## Cas 3\n",
    "\n",
    "Vitesse à direction horizontale :\n",
    "\n",
    "$V_x = 2 \\sin(45°)e^{-2\\cos(45°)x}$\n",
    "\n",
    "$V_y = 0$\n",
    "\n",
    "Domaine : \n",
    "\n",
    "           Entrée : x = -1 ; 0 <= y <= 2 et -1 <= x <= 1 ; y = 0\n",
    "\n",
    "           Sortie : x = 1 ; 0 <= y <= 2 et -1 <= x <= 1 ; y = 2\n",
    "\n",
    "## Cas 4\n",
    "\n",
    "Vitesse à direction oblique :\n",
    "\n",
    "$V_x = [\\cos(40°)+sin(40°)]e^{[(\\cos(40°)-\\sin(40°))x - (\\cos(40°)+\\sin(40°))y]}$\n",
    "\n",
    "$V_y = [\\cos(40°)-sin(40°)]e^{[(\\cos(40°)-\\sin(40°))x - (\\cos(40°)+\\sin(40°))y]}$\n",
    "\n",
    "Domaine : \n",
    "\n",
    "           Entrée : x = -1 ; 0 <= y <= 2 et -1 <= x <= 1 ; y = 0\n",
    "\n",
    "           Sortie : x = 1 ; 0 <= y <= 2 et -1 <= x <= 1 ; y = 2\n",
    "\n",
    "\n",
    "NB : Tous les cas sont en condition initiale proche"
   ]
  },
  {
   "cell_type": "code",
   "execution_count": null,
   "id": "balanced-boating",
   "metadata": {
    "scrolled": false
   },
   "outputs": [],
   "source": [
    "import os, sys\n",
    "import copy\n",
    "from string import Template\n",
    "\n",
    "\n",
    "run.reset()\n",
    "liste_maillage = [\"11\", \"21\", \"41\", \"81\"]\n",
    "liste_dis = [\"VDF\", \"PolyMAC_P0P1NC\", \"PolyMAC_P0\"]\n",
    "vxf = \"(cos($theta)+sin($theta))*exp((cos($theta)-sin($theta))*x-(sin($theta)+cos($theta))*y)\"\n",
    "vyf = \"(cos($theta)-sin($theta))*exp((cos($theta)-sin($theta))*x-(sin($theta)+cos($theta))*y)\"\n",
    "cases = {\n",
    "    \"cas1\" : {\"theta\" :         \"0\", \"cl_down\" : \"frontiere_ouverte_vitesse_imposee champ_front_fonc_txyz 2 exp(x-y) exp(x-y)\", \"cl_up\" : \"frontiere_ouverte_pression_imposee champ_front_uniforme 1 0\"},\n",
    "    \"cas2\" : {\"theta\" :      \"pi/4\", \"cl_down\" : \"symetrie\", \"cl_up\" : \"symetrie\"},\n",
    "    \"cas3\" : {\"theta\" :      \"pi/4\", \"cl_down\" : \"frontiere_ouverte_vitesse_imposee champ_front_fonc_txyz 2 2*sin(pi/4)*exp(-2*sin(pi/4)*y) 0\", \"cl_up\" : \"frontiere_ouverte_pression_imposee champ_front_uniforme 1 0\"},\n",
    "    \"cas4\" : {\"theta\" : \"40*pi/180\", \"cl_down\" : \"frontiere_ouverte_vitesse_imposee champ_front_fonc_txyz 2 (cos(40*pi/180)+sin(40*pi/180))*exp((cos(40*pi/180)-sin(40*pi/180))*x-(sin(40*pi/180)+cos(40*pi/180))*y) (cos(40*pi/180)-sin(40*pi/180))*exp((cos(40*pi/180)-sin(40*pi/180))*x-(sin(40*pi/180)+cos(40))*y)\", \"cl_up\" : \"frontiere_ouverte_pression_imposee champ_front_uniforme 1 0\"},\n",
    "}\n",
    "\n",
    "for dis in liste_dis:\n",
    "    for case, data in cases.items():\n",
    "        for n in liste_maillage:\n",
    "            d = copy.deepcopy(data)\n",
    "            d[\"nx\"] = n\n",
    "            d[\"ny\"] = n\n",
    "            d[\"dis\"] = dis\n",
    "            run.addCaseFromTemplate(\"jdd.data\", f\"{dis}/{case}/maillage_{n}\", d)\n",
    "\n",
    "run.runCases()\n",
    "run.tablePerf()"
   ]
  },
  {
   "cell_type": "markdown",
   "id": "ebe653ba",
   "metadata": {},
   "source": [
    "## Vérification Convergence"
   ]
  },
  {
   "cell_type": "code",
   "execution_count": null,
   "id": "55ef1c6f",
   "metadata": {
    "scrolled": false
   },
   "outputs": [],
   "source": [
    "from trustutils import plot\n",
    "import numpy as np\n",
    "from scipy.optimize import curve_fit\n",
    "import matplotlib.colors as mcolors\n",
    "c = list(mcolors.TABLEAU_COLORS.keys())\n",
    "\n",
    "def func(x, a, b): return a * x ** b\n",
    "\n",
    "length = 2.0\n",
    "dz = [length / ((float(x) - 1.0)) for x in liste_maillage]\n",
    "dirs = [\"X\", \"Y\"]\n",
    "norms = [\"L2\", \"LMAX\"]\n",
    "linestyle = {\"PolyMAC_P0P1NC\": (\"solid\", \"o\"), \"VDF\" : (\"dotted\", \"*\"), \"PolyMAC_P0\" : (\"dashed\", \"v\")}\n",
    "\n",
    "for case, data in cases.items():\n",
    "    error = {dis : {norm : {d: [] for d in dirs} for norm in norms} for dis in liste_dis}\n",
    "    for n in liste_maillage:\n",
    "        for norm in norms:\n",
    "            for d in dirs:\n",
    "                for dis in liste_dis:\n",
    "                    x = plot.loadText(f\"{dis}/{case}/maillage_{n}/jdd_{norm}_{d}.son\")\n",
    "                    error[dis][norm][d].append(x[-1][-1])\n",
    "    Graph = plot.Graph(f\"Vérification de Convergence {case}\")\n",
    "    for k, (dis, norm_data) in enumerate(error.items()):\n",
    "        for norm, dirs_data in norm_data.items():\n",
    "            for d, err in dirs_data.items():\n",
    "                (_, b), _ = curve_fit(func, dz, err)\n",
    "                Graph.add(dz, err, label=f\"{dis} {norm}_{d}, order={b:.2f}\", color=c[k], linestyle=linestyle[dis][0], marker=linestyle[dis][1], markersize=12)\n",
    "    Graph.scale(xscale='log',yscale='log')\n",
    "    Graph.label(r\"$aNe^{-1/2}$\",\"erreur\")"
   ]
  }
 ],
 "metadata": {
  "kernelspec": {
   "display_name": "Python 3 (ipykernel)",
   "language": "python",
   "name": "python3"
  },
  "language_info": {
   "codemirror_mode": {
    "name": "ipython",
    "version": 3
   },
   "file_extension": ".py",
   "mimetype": "text/x-python",
   "name": "python",
   "nbconvert_exporter": "python",
   "pygments_lexer": "ipython3",
   "version": "3.7.9"
  },
  "toc-autonumbering": true
 },
 "nbformat": 4,
 "nbformat_minor": 5
}
