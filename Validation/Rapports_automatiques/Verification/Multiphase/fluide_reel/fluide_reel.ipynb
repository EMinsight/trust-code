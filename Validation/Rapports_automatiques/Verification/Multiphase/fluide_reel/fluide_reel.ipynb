{
 "cells": [
  {
   "cell_type": "markdown",
   "id": "gross-patent",
   "metadata": {},
   "source": [
    "# Fluide reel"
   ]
  },
  {
   "cell_type": "code",
   "execution_count": null,
   "id": "a8bd1fc2",
   "metadata": {},
   "outputs": [],
   "source": [
    "from trustutils.jupyter import run\n",
    "\n",
    "run.introduction(\"Yannick Gorsse\")\n",
    "\n",
    "run.TRUST_parameters()"
   ]
  },
  {
   "cell_type": "markdown",
   "id": "91341980",
   "metadata": {},
   "source": [
    "### Description: \n",
    "\n",
    "Utilisation d'un fluide a (P, T) fixes comme un fluide incompressible dans un Pb_Thermohydraulique"
   ]
  },
  {
   "cell_type": "code",
   "execution_count": null,
   "id": "15189bb2-352d-48f9-85fa-64c4323e0f88",
   "metadata": {},
   "outputs": [],
   "source": [
    "from trustutils.jupyter import run\n",
    "\n",
    "run.reset()\n",
    "liste_dis = [\"VDF\", \"PolyMAC_P0P1NC\", \"PolyMAC_P0\"]\n",
    "for dis in liste_dis:\n",
    "    run.addCaseFromTemplate(\"jdd.data\", dis, {\"dis\" : dis})\n",
    "\n",
    "run.printCases()\n",
    "run.runCases()"
   ]
  },
  {
   "cell_type": "code",
   "execution_count": null,
   "id": "92a2bdd6",
   "metadata": {},
   "outputs": [],
   "source": [
    "from trustutils import plot\n",
    "from math import ceil\n",
    "\n",
    "vars = (\"V\", \"P\", \"RHO\", \"MU\", \"NU\", \"LAMBDA\", \"CP\")\n",
    "a = plot.Graph(\"comparaison\", nX=len(vars))\n",
    "\n",
    "for i, var in enumerate(vars):\n",
    "    a.addPlot(i, f\"Variable {var}\")\n",
    "    for dis in liste_dis:\n",
    "        a.addSegment(f\"{run.BUILD_DIRECTORY}/{dis}/jdd_{var}.son\", label=dis, compo=(1 if var == \"V\" else 0))\n"
   ]
  }
 ],
 "metadata": {},
 "nbformat": 4,
 "nbformat_minor": 5
}
