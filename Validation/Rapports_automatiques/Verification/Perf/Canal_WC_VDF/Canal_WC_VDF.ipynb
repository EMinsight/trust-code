{
 "cells": [
  {
   "cell_type": "markdown",
   "id": "gross-patent",
   "metadata": {},
   "source": [
    "# Canal_WC_VDF"
   ]
  },
  {
   "cell_type": "code",
   "execution_count": null,
   "id": "7a7e8911",
   "metadata": {},
   "outputs": [],
   "source": [
    "from trustutils.jupyter import run\n",
    "run.introduction('Elie Saikali')"
   ]
  },
  {
   "cell_type": "markdown",
   "id": "perfect-entrepreneur",
   "metadata": {},
   "source": [
    "### Description \n",
    "We run a WC problem in a channel of 21x100x21  cells (44100 cells). Two test cases are considered: case 1 with an iterative pressure solver (GCP), while case 2 with a direct solver (Cholesky).  We test the scaling by running 10 iterations on 1,2,4,8,16, 32 and 64 procs. Similar cases (case 3 and case 4) are carried out with a channel of 42x25x42 cells (44100 cells)."
   ]
  },
  {
   "cell_type": "code",
   "execution_count": null,
   "id": "a61057b9",
   "metadata": {},
   "outputs": [],
   "source": [
    "run.TRUST_parameters()"
   ]
  },
  {
   "cell_type": "code",
   "execution_count": null,
   "id": "15189bb2-352d-48f9-85fa-64c4323e0f88",
   "metadata": {},
   "outputs": [],
   "source": [
    "run.addCase(\"SEQ_C1\" ,\"Cas.data\",1)\n",
    "run.addCase(\"PAR_2_C1\" ,\"PAR_Cas.data\",2)\n",
    "run.addCase(\"PAR_4_C1\" ,\"PAR_Cas.data\",4)\n",
    "run.addCase(\"PAR_8_C1\" ,\"PAR_Cas.data\",8)\n",
    "run.addCase(\"PAR_16_C1\" ,\"PAR_Cas.data\",16)\n",
    "run.addCase(\"PAR_32_C1\" ,\"PAR_Cas.data\",32)\n",
    "\n",
    "run.addCase(\"SEQ_C2\" ,\"Cas2.data\",1)\n",
    "run.addCase(\"PAR_2_C2\" ,\"PAR_Cas2.data\",2)\n",
    "run.addCase(\"PAR_4_C2\" ,\"PAR_Cas2.data\",4)\n",
    "run.addCase(\"PAR_8_C2\" ,\"PAR_Cas2.data\",8)\n",
    "run.addCase(\"PAR_16_C2\" ,\"PAR_Cas2.data\",16)\n",
    "run.addCase(\"PAR_32_C2\" ,\"PAR_Cas2.data\",32)\n",
    "\n",
    "run.addCase(\"SEQ_C3\" ,\"Cas.data\",1)\n",
    "run.addCase(\"PAR_2_C3\" ,\"PAR_Cas.data\",2)\n",
    "run.addCase(\"PAR_4_C3\" ,\"PAR_Cas.data\",4)\n",
    "run.addCase(\"PAR_8_C3\" ,\"PAR_Cas.data\",8)\n",
    "run.addCase(\"PAR_16_C3\" ,\"PAR_Cas.data\",16)\n",
    "run.addCase(\"PAR_32_C3\" ,\"PAR_Cas.data\",32)\n",
    "\n",
    "run.addCase(\"SEQ_C4\" ,\"Cas2.data\",1)\n",
    "run.addCase(\"PAR_2_C4\" ,\"PAR_Cas2.data\",2)\n",
    "run.addCase(\"PAR_4_C4\" ,\"PAR_Cas2.data\",4)\n",
    "run.addCase(\"PAR_8_C4\" ,\"PAR_Cas2.data\",8)\n",
    "run.addCase(\"PAR_16_C4\" ,\"PAR_Cas2.data\",16)\n",
    "run.addCase(\"PAR_32_C4\" ,\"PAR_Cas2.data\",32)\n",
    "\n",
    "run.printCases()\n",
    "run.runCases()"
   ]
  },
  {
   "cell_type": "markdown",
   "id": "c417736c",
   "metadata": {},
   "source": [
    "### Case 1 : pressure with PetSC GCP"
   ]
  },
  {
   "cell_type": "code",
   "execution_count": null,
   "id": "533d18d7",
   "metadata": {},
   "outputs": [],
   "source": [
    "from trustutils import plot\n",
    "\n",
    "a = plot.Graph(\"pressure with PetSC GCP\")\n",
    "\n",
    "x,y = plot.loadText(\"PAR_32_C1/Cas_all.perf.txt\")\n",
    "a.add(x,y,label=\"perf\",marker='-x')\n",
    "\n",
    "a.label(\"PROC NUMBER\", \"Time [s]\")"
   ]
  },
  {
   "cell_type": "markdown",
   "id": "495e409f",
   "metadata": {},
   "source": [
    "### Case 2 : pressure with PetSC Cholesky"
   ]
  },
  {
   "cell_type": "code",
   "execution_count": null,
   "id": "37737d63",
   "metadata": {},
   "outputs": [],
   "source": [
    "from trustutils import plot\n",
    "\n",
    "a = plot.Graph(\"pressure with PetSC Cholesky\")\n",
    "\n",
    "x,y = plot.loadText(\"PAR_32_C2/Cas_all2.perf.txt\")\n",
    "a.add(x,y,label=\"perf\",marker='-x')\n",
    "\n",
    "a.label(\"PROC NUMBER\", \"Time [s]\")"
   ]
  },
  {
   "cell_type": "markdown",
   "id": "ed1701e9",
   "metadata": {},
   "source": [
    "### Case 3 : pressure with PetSC GCP"
   ]
  },
  {
   "cell_type": "code",
   "execution_count": null,
   "id": "590c208d",
   "metadata": {},
   "outputs": [],
   "source": [
    "from trustutils import plot\n",
    "\n",
    "a = plot.Graph(\"pressure with PetSC GCP\")\n",
    "\n",
    "x,y = plot.loadText(\"PAR_32_C3/Cas_all.perf.txt\")\n",
    "a.add(x,y,label=\"perf\",marker='-x')\n",
    "\n",
    "a.label(\"PROC NUMBER\", \"Time [s]\")"
   ]
  },
  {
   "cell_type": "markdown",
   "id": "96a2582a",
   "metadata": {},
   "source": [
    "### Case 4 : pressure with PetSC Cholesky"
   ]
  },
  {
   "cell_type": "code",
   "execution_count": null,
   "id": "695fe6a1",
   "metadata": {},
   "outputs": [],
   "source": [
    "from trustutils import plot\n",
    "\n",
    "a = plot.Graph(\"pressure with PetSC Cholesky\")\n",
    "\n",
    "x,y = plot.loadText(\"PAR_32_C4/Cas_all2.perf.txt\")\n",
    "a.add(x,y,label=\"perf\",marker='-x')\n",
    "\n",
    "a.label(\"PROC NUMBER\", \"Time [s]\")"
   ]
  },
  {
   "cell_type": "markdown",
   "id": "db57dabc",
   "metadata": {},
   "source": [
    "## Conclusions\n",
    "\n",
    "Case 1 : good scaling up to 8 procs (5625 cell / proc, acceleration of about 75 %). Above that MPI communications become significant! Case 2 : good scaling up to 16 procs (2812 cell / proc, acceleration of about 57 %). 16 procs for case 3 and case 4."
   ]
  },
  {
   "cell_type": "markdown",
   "id": "e8e31da8",
   "metadata": {},
   "source": [
    "## Computer performance"
   ]
  },
  {
   "cell_type": "code",
   "execution_count": null,
   "id": "5505bee8",
   "metadata": {},
   "outputs": [],
   "source": [
    "run.tablePerf()"
   ]
  }
 ],
 "metadata": {
  "kernelspec": {
   "display_name": "Python 3 (ipykernel)",
   "language": "python",
   "name": "python3"
  },
  "language_info": {
   "codemirror_mode": {
    "name": "ipython",
    "version": 3
   },
   "file_extension": ".py",
   "mimetype": "text/x-python",
   "name": "python",
   "nbconvert_exporter": "python",
   "pygments_lexer": "ipython3",
   "version": "3.7.9"
  }
 },
 "nbformat": 4,
 "nbformat_minor": 5
}
