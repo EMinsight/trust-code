{
 "cells": [
  {
   "cell_type": "markdown",
   "id": "2b5fbf83",
   "metadata": {},
   "source": [
    "# Hello World example for trustpy Python package"
   ]
  },
  {
   "cell_type": "markdown",
   "id": "21b37db1",
   "metadata": {},
   "source": [
    "This is a simple hello world notebook illustrating what can be done with trustpy.\n",
    "\n",
    "The TRAD2 has already been generated and is provided in the same folder as this notebook\n",
    "(if you care, it was generated with an intermediate TRUST version somewhere between 1.9.2 \n",
    "and 1.9.3).\n",
    "\n",
    "The example detailed here:\n",
    "- generates the Python data model from this TRAD2 file -> Python module 'hello_gen.py' is produced.\n",
    "- and then illustrates how an actual dataset (coherent with the TRAD2 provided) can be loaded, and manipulated. \n",
    "\n",
    "To run this notebook properly, you should ensure that the Python environment has been properly loaded\n",
    "with\n",
    "\n",
    "```\n",
    "    source $TRUST_ROOT/env_for_python.sh\n",
    "```\n",
    "\n",
    "**Note** : this dataset might not be valid anymore as TRUST versions evolve, but it is coherent \n",
    "with the TRAD2 file provided in this folder.\n"
   ]
  },
  {
   "cell_type": "markdown",
   "id": "75ce9de2",
   "metadata": {},
   "source": [
    "## Setup"
   ]
  },
  {
   "cell_type": "markdown",
   "id": "e3ef6ccd",
   "metadata": {},
   "source": [
    "We will need the following imports:"
   ]
  },
  {
   "cell_type": "code",
   "execution_count": null,
   "id": "53f9e603",
   "metadata": {},
   "outputs": [],
   "source": [
    "import trustpy.baseTru as BTRU\n",
    "import xyzpy.classFactoryXyz as CLFX"
   ]
  },
  {
   "cell_type": "markdown",
   "id": "0f344428",
   "metadata": {},
   "source": [
    "Let's turn the loggin level a bit down since otherwise the process is a bit verbose:"
   ]
  },
  {
   "cell_type": "code",
   "execution_count": null,
   "id": "06306a39",
   "metadata": {},
   "outputs": [],
   "source": [
    "import trustpy.trust_utilities as tu\n",
    "tu._log_level = 1 # Keep only errors (by default, we have warns and infos ...)"
   ]
  },
  {
   "cell_type": "markdown",
   "id": "be77cbbc",
   "metadata": {},
   "source": [
    "## Python data model generation"
   ]
  },
  {
   "cell_type": "markdown",
   "id": "a15ba778",
   "metadata": {},
   "source": [
    "This step can be skipped if you are working with a stable TRUST version and are not interested in modifying the TRUST grammar (i.e. you are not changing any syntax of a keyword, or not adding a new keyword, a new attribute for a keyword, etc.)\n",
    "\n",
    "Here we generate the Python data model from the TRAD2 file. This produces a Python module (hello_gen.py) which encodes all the grammar of the TRUST keywords, i.e. what parameter they take, with what type, etc..."
   ]
  },
  {
   "cell_type": "code",
   "execution_count": null,
   "id": "1c23de1d",
   "metadata": {},
   "outputs": [],
   "source": [
    "import trustpy.trad2_code_gen as T2C\n",
    "\n",
    "trad2 = \"TRAD2_example\"\n",
    "th = T2C.Trad2Handler(file_in=trad2, file_out=\"hello_gen.py\")\n",
    "ok = th.trad2xyz()\n",
    "print(\"Automatic generation OK:\", ok)"
   ]
  },
  {
   "cell_type": "markdown",
   "id": "e650e357",
   "metadata": {},
   "source": [
    "## Dataset parsing and manipulation"
   ]
  },
  {
   "cell_type": "markdown",
   "id": "54b0fc42",
   "metadata": {},
   "source": [
    "We are now ready to parse and manipulate our first dataset!\n",
    "\n",
    "First we import what was generated (again very verbose, but not to worry), and initialize some stuff (warnings can be ignored ...)"
   ]
  },
  {
   "cell_type": "code",
   "execution_count": null,
   "id": "ab812693",
   "metadata": {},
   "outputs": [],
   "source": [
    "import hello_gen as hg  # you can replace this with the official TRUST generated module if you didn't take previous step\n",
    "\n",
    "BTRU.initXyzClasses()\n",
    "hg.initXyzClasses()    "
   ]
  },
  {
   "cell_type": "markdown",
   "id": "9f5ea897",
   "metadata": {},
   "source": [
    "Now we invoke the parser to load a TRUST dataset. The parser splits the dataset (a .data file) to produce a stream of tokens (=a somewhat clever list of strings, if you want). This stream will be next passed to the data model constructor.\n",
    "\n",
    "The parser (and the associated stream it produces) deals with the comments and other formatting elements."
   ]
  },
  {
   "cell_type": "code",
   "execution_count": null,
   "id": "d4054472",
   "metadata": {},
   "outputs": [],
   "source": [
    "from trustpy.trust_parser import TRUSTParser, TRUSTStream\n",
    "\n",
    "fNam = \"upwind_simplified.data\"\n",
    "with open(fNam) as f:\n",
    "    data_ex = f.read()\n",
    "\n",
    "tp = TRUSTParser()\n",
    "tp.tokenize(data_ex)\n",
    "stream = TRUSTStream(tp)"
   ]
  },
  {
   "cell_type": "code",
   "execution_count": null,
   "id": "1749fac8",
   "metadata": {},
   "outputs": [],
   "source": [
    "print(stream)"
   ]
  },
  {
   "cell_type": "markdown",
   "id": "22fbac78",
   "metadata": {},
   "source": [
    "Let's print the dataset for future reference:"
   ]
  },
  {
   "cell_type": "code",
   "execution_count": null,
   "id": "6173a594",
   "metadata": {},
   "outputs": [],
   "source": [
    "print(data_ex)"
   ]
  },
  {
   "cell_type": "markdown",
   "id": "12dd265e",
   "metadata": {},
   "source": [
    "And finally we load this into the data model that we have generated above:"
   ]
  },
  {
   "cell_type": "code",
   "execution_count": null,
   "id": "19c0064f",
   "metadata": {},
   "outputs": [],
   "source": [
    "# trustpy (and pacakgepy) use a class factory mechanism. We retrieve the top level class 'DataSet_Tru' and \n",
    "# invoke the main method 'ReadFromTokens()' which will load the data into the model.\n",
    "# If you don't understand what I just said, consider this as black magic that you can copy/paste everytime :-)\n",
    "tds_cls = CLFX.getXyzClassFromName(\"DataSet_Tru\")\n",
    "ds = tds_cls.ReadFromTokens(stream)"
   ]
  },
  {
   "cell_type": "markdown",
   "id": "64c6751c",
   "metadata": {},
   "source": [
    "Now **ds** contains our TRUST dataset as a Python object and we can finally play with it! We show several examples:"
   ]
  },
  {
   "cell_type": "markdown",
   "id": "135bc0ca",
   "metadata": {},
   "source": [
    "### Example: reading/adding a time scheme attribute"
   ]
  },
  {
   "cell_type": "markdown",
   "id": "d3340076",
   "metadata": {},
   "source": [
    "What is the current final time in our dataset ? Note in the below how the Python attributes exactly corresponds to the name of the attribute in the TRUST syntax."
   ]
  },
  {
   "cell_type": "code",
   "execution_count": null,
   "id": "a852455f",
   "metadata": {},
   "outputs": [],
   "source": [
    "# Named object in the dataset are retrieved using the get() method:\n",
    "ze_time_scheme = ds.get(\"sch\")\n",
    "\n",
    "# Then attributes can be read using the option name of the TRUST keyword, here 'tmax':\n",
    "t_mx = ze_time_scheme.tmax\n",
    "print(\"tmax is %g\" % t_mx )"
   ]
  },
  {
   "cell_type": "markdown",
   "id": "8af350d2",
   "metadata": {},
   "source": [
    "If we want to inspect the list of available attributes, we can do:"
   ]
  },
  {
   "cell_type": "code",
   "execution_count": null,
   "id": "ebffe702",
   "metadata": {},
   "outputs": [],
   "source": [
    "print(ze_time_scheme._attributesList)"
   ]
  },
  {
   "cell_type": "markdown",
   "id": "b42d3466",
   "metadata": {},
   "source": [
    "Another (clearer?) possibility is:"
   ]
  },
  {
   "cell_type": "code",
   "execution_count": null,
   "id": "3699eec1",
   "metadata": {
    "scrolled": true
   },
   "outputs": [],
   "source": [
    "from pprint import pprint  # Useful Python pretty print\n",
    "pprint(ze_time_scheme._helpDict)"
   ]
  },
  {
   "cell_type": "markdown",
   "id": "43924345",
   "metadata": {},
   "source": [
    "We can now set an extra parameter:"
   ]
  },
  {
   "cell_type": "code",
   "execution_count": null,
   "id": "3a829ee7",
   "metadata": {},
   "outputs": [],
   "source": [
    "ze_time_scheme.facsec = 1.3"
   ]
  },
  {
   "cell_type": "markdown",
   "id": "448818e5",
   "metadata": {},
   "source": [
    "### Example: reading the name of the first probe\n",
    "Same story with a more complex things: the name of the first probe ..."
   ]
  },
  {
   "cell_type": "code",
   "execution_count": null,
   "id": "559c9e7e",
   "metadata": {},
   "outputs": [],
   "source": [
    "# Retrieve the problem named 'pb' in the dataset:\n",
    "ze_pb = ds.get(\"pb\")\n",
    "\n",
    "# Read the first probe in the postprocessing block:\n",
    "first_probe = ze_pb.post_processing.probes[0]\n",
    "print(first_probe.nom_sonde)"
   ]
  },
  {
   "cell_type": "markdown",
   "id": "4b7e7aa4",
   "metadata": {},
   "source": [
    "... and then the x coordinate of the first point in the first probe: notice how some attributes might be painful and very dependent on how the TRUST grammar was built. In this case for example, the somewhat cryptic 'type' intermediate argument comes from the way the TRAD2 is defined."
   ]
  },
  {
   "cell_type": "code",
   "execution_count": null,
   "id": "2eb08686",
   "metadata": {},
   "outputs": [],
   "source": [
    "y = first_probe.type.points[0].pos[0]\n",
    "print(y)"
   ]
  },
  {
   "cell_type": "markdown",
   "id": "63c7b86a",
   "metadata": {},
   "source": [
    "## Writing back the dataset\n",
    "The data can be modified ... and written back in a form of a new dataset!"
   ]
  },
  {
   "cell_type": "markdown",
   "id": "6229a951",
   "metadata": {},
   "source": [
    "Let's modify the y coordinate of the first probe:"
   ]
  },
  {
   "cell_type": "code",
   "execution_count": null,
   "id": "88db5bda",
   "metadata": {},
   "outputs": [],
   "source": [
    "first_probe.type.points[0].pos[0] = -42.1  # as simple as that!"
   ]
  },
  {
   "cell_type": "markdown",
   "id": "ffd5021a",
   "metadata": {},
   "source": [
    "Note that if you try to input an invalid type, the module will complain - try this for example:"
   ]
  },
  {
   "cell_type": "code",
   "execution_count": null,
   "id": "87cdf852",
   "metadata": {},
   "outputs": [],
   "source": [
    "# first_probe.type.points[0].pos[0] = \"some text\"  # will fail"
   ]
  },
  {
   "cell_type": "markdown",
   "id": "d94eda89",
   "metadata": {},
   "source": [
    "We can also for example delete the second probe:"
   ]
  },
  {
   "cell_type": "code",
   "execution_count": null,
   "id": "e7eabe66",
   "metadata": {},
   "outputs": [],
   "source": [
    "del(ze_pb.post_processing.probes[1])"
   ]
  },
  {
   "cell_type": "markdown",
   "id": "3cdb427f",
   "metadata": {},
   "source": [
    "Now we produce a new stream of tokens corresponding to this modified instance. This stream of tokens can then be simply joined to find back a textual dataset with the modifed data. Notice how all the other comments and formatting is kept unchanged."
   ]
  },
  {
   "cell_type": "code",
   "execution_count": null,
   "id": "f9183c9f",
   "metadata": {},
   "outputs": [],
   "source": [
    "# Convert back the data into a stream of tokens:\n",
    "newStream = ds.toDatasetTokens() \n",
    "# And write it out!\n",
    "s = ''.join(ds.toDatasetTokens())\n",
    "print(s)"
   ]
  }
 ],
 "metadata": {
  "kernelspec": {
   "display_name": "Python 3 (ipykernel)",
   "language": "python",
   "name": "python3"
  },
  "language_info": {
   "codemirror_mode": {
    "name": "ipython",
    "version": 3
   },
   "file_extension": ".py",
   "mimetype": "text/x-python",
   "name": "python",
   "nbconvert_exporter": "python",
   "pygments_lexer": "ipython3",
   "version": "3.7.16"
  }
 },
 "nbformat": 4,
 "nbformat_minor": 5
}
