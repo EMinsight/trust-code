{
 "cells": [
  {
   "cell_type": "markdown",
   "id": "inappropriate-lingerie",
   "metadata": {},
   "source": [
    "# Multi-computation with field change"
   ]
  },
  {
   "cell_type": "markdown",
   "id": "66261c13",
   "metadata": {},
   "source": [
    "**Champ_parametrique** field for chaining different scenarios in a single *datafile*. \\\n",
    "One stationary then one transitory computation are run and compared to two computations, the second one reading the save results of the first one. \\\n",
    "Each computation # is run into a **dedicated directory** named calcul# with **time reset to 0**.\n",
    "\n",
    "Validation made by P. LEDAC with TRUST 1.9.4."
   ]
  },
  {
   "cell_type": "code",
   "execution_count": null,
   "id": "687d21fd-6887-4818-a9f4-ed42aa1dae65",
   "metadata": {
    "scrolled": true
   },
   "outputs": [],
   "source": [
    "from trustutils import run \n",
    "import os\n",
    "jdd=\"cp\"\n",
    "cases=[\n",
    "    (jdd, \"champ_parametrique\", \"Champ_Uniforme 1 0.\", \"champ_parametrique { fichier champ.txt }\"),\n",
    "    (\"calcul1\", \"stationary\",   \"Champ_Uniforme 1 0.\", \"Champ_Fonc_MED { use_existing_domain file puissance.med domain dom field TEMPERATURE_ELEM_dom loc elem last_time }\"),\n",
    "    (\"calcul2\", \"transient\",    \"Champ_fonc_reprise binaire ../calcul1/calcul1_pb.sauv pb temperature last_time\", \"Champ_Fonc_MED_Table_Temps { \\\n",
    "        table_temps { 5 \\\n",
    "                      0.0 1.0 2.0 3.0 4.0 \\\n",
    "                      1.0 0.9 0.6 0.3 0.2 } \\\n",
    "        use_existing_domain file puissance.med domain dom field TEMPERATURE_ELEM_dom loc elem time 0. } \")\n",
    "]\n",
    "#    \n",
    "run.reset()\n",
    "run.initCaseSuite()\n",
    "run.executeCommand(\"echo { > champ.txt\")\n",
    "separateur=\"\"\n",
    "# Create test case:\n",
    "for case,label,init,champ in cases:\n",
    "    if label==\"champ_parametrique\":\n",
    "       rep=\".\"\n",
    "    else:\n",
    "       rep=case\n",
    "       # Build champ.txt file containing the list of fields (stationary then transient):\n",
    "       run.executeCommand(\"echo -e %s %s >> champ.txt\" % (separateur, champ), verbose=False)\n",
    "       separateur=\",\"\n",
    "    run.executeCommand(\"rep=%s;case=%s;mkdir -p $rep;cp base.data $rep/$case.data;cp puissance.med $rep;cp verifie $rep/post_run\" % (rep,case), verbose=False)\n",
    "    cas = run.addCase(rep ,\"%s.data\" % case) \n",
    "    cas.substitute(\"_init_\",init)\n",
    "    cas.substitute(\"_champ_\",champ)\n",
    "\n",
    "run.executeCommand(\"echo } >> champ.txt\")\n",
    "run.printCases()\n",
    "run.runCases(preventConcurrent=True)"
   ]
  },
  {
   "cell_type": "markdown",
   "id": "1e22bfee-1a08-42b6-b05f-65558908559c",
   "metadata": {},
   "source": [
    "## Check results\n",
    "### The computation (single or multi) should match"
   ]
  },
  {
   "cell_type": "code",
   "execution_count": null,
   "id": "227ea8c5-9474-4499-b778-d6c43f328482",
   "metadata": {},
   "outputs": [],
   "source": [
    "from trustutils import plot \n",
    "import numpy as np\n",
    "import matplotlib.pyplot as plt \n",
    "jdd=\"cp\"\n",
    "for case,label,init,champ in cases:\n",
    "    if label!=\"champ_parametrique\":\n",
    "        a=plot.Graph(\"Probes for %s\" % label,size=[15,8])\n",
    "        a.addPoint(\"%s/%s_T.son\"  % (case,case), marker='-', label=\"Temperature (Single computation)\")\n",
    "        a.addPoint(\"%s/%s_T.son\"  % (case,jdd) , marker='o', markevery=10, label=\"Temperature (Multi-computation)\")\n",
    "        a.label(\"Time\",\"Temperature\")"
   ]
  },
  {
   "cell_type": "code",
   "execution_count": null,
   "id": "aea7e0a6",
   "metadata": {},
   "outputs": [],
   "source": []
  }
 ],
 "metadata": {
  "kernelspec": {
   "display_name": "Python 3 (ipykernel)",
   "language": "python",
   "name": "python3"
  },
  "language_info": {
   "codemirror_mode": {
    "name": "ipython",
    "version": 3
   },
   "file_extension": ".py",
   "mimetype": "text/x-python",
   "name": "python",
   "nbconvert_exporter": "python",
   "pygments_lexer": "ipython3",
   "version": "3.7.16"
  }
 },
 "nbformat": 4,
 "nbformat_minor": 5
}
