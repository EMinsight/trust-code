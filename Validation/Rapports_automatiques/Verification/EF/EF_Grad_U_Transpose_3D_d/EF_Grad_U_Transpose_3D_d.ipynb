{
 "cells": [
  {
   "cell_type": "markdown",
   "id": "inappropriate-lingerie",
   "metadata": {},
   "source": [
    "# Vérification du transposé du gradient de vitesse dans le tenseur des contraintes visqueuses en 3D – Cas linéaire implicite"
   ]
  },
  {
   "cell_type": "code",
   "execution_count": null,
   "id": "6fa4799e",
   "metadata": {},
   "outputs": [],
   "source": [
    "from trustutils import run \n",
    "\n",
    "run.introduction(\"D. Jamet\")\n",
    "run.description(\"On impose un champ de vitesse à divergence nulle particulier dans tout le domaine. On choisit une viscosité variable en espace. Pour ces deux champs, il est possible de déterminer la solution analytique de la force visqueuse. Dans le cas particulier du champ de vitesse considéré, la force visqueuse peut s'écrire sous la forme d'un gradient d'un champ scalaire. Le champ de pression calculé doit donc correspondre à ce champ scalaire.\")\n",
    "run.TRUST_parameters()"
   ]
  },
  {
   "cell_type": "code",
   "execution_count": null,
   "id": "6729c231-27f7-4fc9-9b61-4dc58e90721b",
   "metadata": {},
   "outputs": [],
   "source": [
    "run.addCase(\".\",\"grad_u_transpose_partout_3d_implicite.data\")\n",
    "run.printCases()\n",
    "run.runCases()"
   ]
  },
  {
   "cell_type": "markdown",
   "id": "growing-hundred",
   "metadata": {},
   "source": [
    "## Champ de pression\n",
    "\n",
    "On vérifie que le champ de pression calculé est bien nul.\n",
    "\n",
    "### Champs de pression calculé \n",
    "\n",
    "Le champ de pression 3D calculé par GENEPI est tracé."
   ]
  },
  {
   "cell_type": "code",
   "execution_count": null,
   "id": "3d153261-0a30-493d-a78d-fc5a9ed9d392",
   "metadata": {},
   "outputs": [],
   "source": [
    "from trustutils import visit\n",
    "\n",
    "Graphique=visit.Show(\"./grad_u_transpose_partout_3d_implicite.lata\",\"Pseudocolor\",\"PRESSION_PA_ELEM_dom\")\n",
    "Graphique.normal3D([0.7,-0.5,0.5])\n",
    "Graphique.up3D([-0.4,0.3,0.9]) \n",
    "Graphique.plot()"
   ]
  },
  {
   "cell_type": "markdown",
   "id": "01d7e2c3-cb14-4ab2-b69e-8e9a3e6a8f58",
   "metadata": {},
   "source": [
    "### Différence entre champ de pression calculé et champ de pression analytique\n",
    "\n",
    "Ce champ doit être nul."
   ]
  },
  {
   "cell_type": "code",
   "execution_count": null,
   "id": "b277b996-407a-4263-9817-4c8fd5bdd5f3",
   "metadata": {
    "scrolled": false
   },
   "outputs": [],
   "source": [
    "from trustutils import visit\n",
    "\n",
    "Graphique=visit.Show(\"./grad_u_transpose_partout_3d_implicite.lata\",\"Pseudocolor\",\"PRESSION_PA_ELEM_dom\")\n",
    "Graphique.normal3D([0.7,-0.5,0.5])\n",
    "Graphique.up3D([-0.4,0.3,0.9])\n",
    "Graphique.visitCommand(\"DefineScalarExpression(\\\"P_ANALYTIQUE_ELEM_dom\\\",\\\"(4.*coord(dom)[0]-2.*coord(dom)[1]-2.*coord(dom)[2])\\\")\")\n",
    "Graphique.visitCommand(\"DefineScalarExpression(\\\"ERREUR_P_ELEM_dom\\\",\\\"PRESSION_PA_ELEM_dom-P_ANALYTIQUE_ELEM_dom\\\")\")\n",
    "Graphique.addField(\"./grad_u_transpose_partout_3d_implicite.lata\",\"Pseudocolor\",\"ERREUR_P_ELEM_dom\")\n",
    "Graphique.plot()"
   ]
  },
  {
   "cell_type": "markdown",
   "id": "da1e2235-770b-4f30-a430-eda253dc0531",
   "metadata": {},
   "source": [
    "## Data Files\n",
    "\n",
    "### grad_u_transpose_3d_implicite"
   ]
  },
  {
   "cell_type": "code",
   "execution_count": null,
   "id": "15fd47b5-5015-41c4-b5b5-1a2ec787d071",
   "metadata": {
    "scrolled": true
   },
   "outputs": [],
   "source": [
    "run.dumpDataset(\"./grad_u_transpose_partout_3d_implicite.data\")"
   ]
  }
 ],
 "metadata": {
  "kernelspec": {
   "display_name": "Python 3 (ipykernel)",
   "language": "python",
   "name": "python3"
  },
  "language_info": {
   "codemirror_mode": {
    "name": "ipython",
    "version": 3
   },
   "file_extension": ".py",
   "mimetype": "text/x-python",
   "name": "python",
   "nbconvert_exporter": "python",
   "pygments_lexer": "ipython3",
   "version": "3.7.9"
  }
 },
 "nbformat": 4,
 "nbformat_minor": 5
}
