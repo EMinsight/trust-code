{
 "cells": [
  {
   "cell_type": "markdown",
   "id": "gross-patent",
   "metadata": {},
   "source": [
    "# Optimisation Interpolation sous_domaine"
   ]
  },
  {
   "cell_type": "code",
   "execution_count": 1,
   "id": "c4ec935c",
   "metadata": {},
   "outputs": [
    {
     "data": {
      "text/markdown": [
       "## Introduction \n",
       " Validation made by : G.F.\n"
      ],
      "text/plain": [
       "<IPython.core.display.Markdown object>"
      ]
     },
     "metadata": {},
     "output_type": "display_data"
    },
    {
     "data": {
      "text/markdown": [
       "\n",
       " Report created : 13/04/2021\n"
      ],
      "text/plain": [
       "<IPython.core.display.Markdown object>"
      ]
     },
     "metadata": {},
     "output_type": "display_data"
    },
    {
     "data": {
      "text/markdown": [
       "\n",
       " Report generated 27/01/2022"
      ],
      "text/plain": [
       "<IPython.core.display.Markdown object>"
      ]
     },
     "metadata": {},
     "output_type": "display_data"
    },
    {
     "data": {
      "text/markdown": [
       "### Description \n",
       "Test de l'optimisation de l'interpolation sur des sous maillages."
      ],
      "text/plain": [
       "<IPython.core.display.Markdown object>"
      ]
     },
     "metadata": {},
     "output_type": "display_data"
    },
    {
     "data": {
      "text/markdown": [
       "### TRUST parameters \n",
       " * Version TRUST: 1.8.0\n",
       " * Binary used: /volatile/catA/ll258196/trust-code/exec/TRUST_mpi_opt (built on TRUST /volatile/catA/ll258196/trust-code/Validation/Rapports_automatiques/jupyter/Verification_codage/Optimisation_Interpolation_sous_domaine/build)"
      ],
      "text/plain": [
       "<IPython.core.display.Markdown object>"
      ]
     },
     "metadata": {},
     "output_type": "display_data"
    }
   ],
   "source": [
    "from trustutils import run \n",
    "\n",
    "run.introduction(\"G.F.\",\"13/04/2021\")\n",
    "run.description(\"Test de l'optimisation de l'interpolation sur des sous maillages.\")\n",
    "run.TRUST_parameters(\"1.8.0\")"
   ]
  },
  {
   "cell_type": "code",
   "execution_count": 2,
   "id": "15189bb2-352d-48f9-85fa-64c4323e0f88",
   "metadata": {},
   "outputs": [
    {
     "data": {
      "text/markdown": [
       "### Test cases \n",
       "* ./Optimisation_force.data : \n",
       "* ./Optimisation_no.data : \n",
       "* ./Optimisation_default.data : \n"
      ],
      "text/plain": [
       "<IPython.core.display.Markdown object>"
      ]
     },
     "metadata": {},
     "output_type": "display_data"
    },
    {
     "name": "stdout",
     "output_type": "stream",
     "text": [
      "Running **with Sserver**...\n",
      "  => A total of 3 cases were (successfully) run in 7.4s.\n"
     ]
    }
   ],
   "source": [
    "from trustutils import run \n",
    "run.addCase(\".\" ,\"Optimisation_force.data\") \n",
    "run.addCase(\".\" ,\"Optimisation_no.data\") \n",
    "run.addCase(\".\" ,\"Optimisation_default.data\") \n",
    "run.printCases()\n",
    "run.runCases()"
   ]
  },
  {
   "cell_type": "markdown",
   "id": "2b813f3c-e933-430b-baf7-769736e8fffd",
   "metadata": {},
   "source": [
    "## Verification\n",
    "\n",
    "On verifie que les resultats ne sont pas dependants du choix, et que les performances sont au rendez vous"
   ]
  },
  {
   "cell_type": "code",
   "execution_count": 3,
   "id": "ea873754-f777-46f2-bbfe-b89b52ac5bf0",
   "metadata": {},
   "outputs": [
    {
     "name": "stdout",
     "output_type": "stream",
     "text": [
      " comparaison Optimisation_no Optimisation_force\n",
      " Number of differences : 0\n",
      " Maximal relative error encountered : 0.00000e+00\n",
      "\n",
      " comparaison Optimisation_default Optimisation_force\n",
      " Number of differences : 0\n",
      " Maximal relative error encountered : 0.00000e+00\n",
      "\n"
     ]
    },
    {
     "data": {
      "text/html": [
       "<div>\n",
       "<style scoped>\n",
       "    .dataframe tbody tr th:only-of-type {\n",
       "        vertical-align: middle;\n",
       "    }\n",
       "\n",
       "    .dataframe tbody tr th {\n",
       "        vertical-align: top;\n",
       "    }\n",
       "\n",
       "    .dataframe thead th {\n",
       "        text-align: right;\n",
       "    }\n",
       "</style>\n",
       "<table border=\"1\" class=\"dataframe\">\n",
       "  <thead>\n",
       "    <tr style=\"text-align: right;\">\n",
       "      <th></th>\n",
       "      <th>host</th>\n",
       "      <th>system</th>\n",
       "      <th>Total CPU Time</th>\n",
       "      <th>CPU time/step</th>\n",
       "      <th>number of cells</th>\n",
       "    </tr>\n",
       "  </thead>\n",
       "  <tbody>\n",
       "    <tr>\n",
       "      <th>./Optimisation_force</th>\n",
       "      <td>is244522</td>\n",
       "      <td>Linux</td>\n",
       "      <td>2.50945</td>\n",
       "      <td>0.00155875</td>\n",
       "      <td>400-90</td>\n",
       "    </tr>\n",
       "    <tr>\n",
       "      <th>./Optimisation_no</th>\n",
       "      <td>is244522</td>\n",
       "      <td>Linux</td>\n",
       "      <td>2.27231</td>\n",
       "      <td>0.0014122</td>\n",
       "      <td>400-90</td>\n",
       "    </tr>\n",
       "    <tr>\n",
       "      <th>./Optimisation_default</th>\n",
       "      <td>is244522</td>\n",
       "      <td>Linux</td>\n",
       "      <td>2.07969</td>\n",
       "      <td>0.00129168</td>\n",
       "      <td>400-90</td>\n",
       "    </tr>\n",
       "    <tr>\n",
       "      <th>Total</th>\n",
       "      <td></td>\n",
       "      <td></td>\n",
       "      <td>6.86145</td>\n",
       "      <td></td>\n",
       "      <td></td>\n",
       "    </tr>\n",
       "  </tbody>\n",
       "</table>\n",
       "</div>"
      ],
      "text/plain": [
       "                            host system  Total CPU Time CPU time/step  \\\n",
       "./Optimisation_force    is244522  Linux         2.50945    0.00155875   \n",
       "./Optimisation_no       is244522  Linux         2.27231     0.0014122   \n",
       "./Optimisation_default  is244522  Linux         2.07969    0.00129168   \n",
       "Total                                           6.86145                 \n",
       "\n",
       "                       number of cells  \n",
       "./Optimisation_force            400-90  \n",
       "./Optimisation_no               400-90  \n",
       "./Optimisation_default          400-90  \n",
       "Total                                   "
      ]
     },
     "execution_count": 3,
     "metadata": {},
     "output_type": "execute_result"
    }
   ],
   "source": [
    "from trustutils import run \n",
    "\n",
    "run.dumpData(\"diff_Optimisation_no.out\")\n",
    "run.dumpData(\"diff_Optimisation_default.out\")\n",
    "\n",
    "run.tablePerf()"
   ]
  }
 ],
 "metadata": {
  "kernelspec": {
   "display_name": "Python 3",
   "language": "python",
   "name": "python3"
  },
  "language_info": {
   "codemirror_mode": {
    "name": "ipython",
    "version": 3
   },
   "file_extension": ".py",
   "mimetype": "text/x-python",
   "name": "python",
   "nbconvert_exporter": "python",
   "pygments_lexer": "ipython3",
   "version": "3.7.9"
  }
 },
 "nbformat": 4,
 "nbformat_minor": 5
}
