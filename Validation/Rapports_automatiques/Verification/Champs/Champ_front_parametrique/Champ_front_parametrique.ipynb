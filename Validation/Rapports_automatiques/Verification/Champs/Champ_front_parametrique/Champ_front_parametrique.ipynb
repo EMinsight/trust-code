{
 "cells": [
  {
   "cell_type": "markdown",
   "id": "inappropriate-lingerie",
   "metadata": {},
   "source": [
    "# Multi-computation with boundary field change"
   ]
  },
  {
   "cell_type": "markdown",
   "id": "31e89552",
   "metadata": {},
   "source": [
    "**Champ_front_parametrique** boundary field for chaining different scenarios in a single *datafile*.\n",
    "Two stationary then one transitory computation are run and compared to independent computations reading the previous computation save.\n",
    "Each computation is run into a **dedicated directory** named calcul# with **time reset to 0**.\n",
    "\n",
    "Pierre LEDAC with TRUST 1.9.4"
   ]
  },
  {
   "cell_type": "code",
   "execution_count": null,
   "id": "687d21fd-6887-4818-a9f4-ed42aa1dae65",
   "metadata": {
    "scrolled": true
   },
   "outputs": [],
   "source": [
    "from trustutils import run \n",
    "import os\n",
    "jdd=\"cfp\"\n",
    "cases=[\n",
    "    (jdd, \"champ_front_parametrique\", \"Champ_Uniforme 2 0. 0.\", \"champ_front_parametrique { fichier champ_front.txt }\"),\n",
    "    (\"calcul1\", \"stationary 1\",       \"Champ_Uniforme 2 0. 0.\", \"champ_front_uniforme 2 1.0 0.0\"),\n",
    "    (\"calcul2\", \"stationary 2\",       \"Champ_fonc_reprise binaire ../calcul1/calcul1_pb.sauv pb vitesse last_time\", \"champ_front_uniforme 2 2.0 0.0\"),\n",
    "    (\"calcul3\", \"transient\",          \"Champ_fonc_reprise binaire ../calcul2/calcul2_pb.sauv pb vitesse last_time\", \"champ_front_tabule 2 { 3   0.0 1.0 2.0   2.0 0.0  1.99 0.0  1.0 0.0 }\")\n",
    "]\n",
    "#    \n",
    "run.reset()\n",
    "run.initCaseSuite()\n",
    "run.executeCommand(\"echo { > champ_front.txt\")\n",
    "separateur=\"\"\n",
    "# Create test case:\n",
    "for case,label,init,champ in cases:\n",
    "    if label==\"champ_front_parametrique\":\n",
    "       rep=\".\"\n",
    "    else:\n",
    "       rep=case\n",
    "       # Build champ_front.txt file containing the list of boundary fields:\n",
    "       run.executeCommand(\"echo -e %s %s >> champ_front.txt\" % (separateur, champ), verbose=False)\n",
    "       separateur=\",\"\n",
    "    run.executeCommand(\"rep=%s;case=%s;mkdir -p $rep;cp base.data $rep/$case.data;cp verifie $rep/post_run\" % (rep,case), verbose=False)\n",
    "    cas = run.addCase(rep ,\"%s.data\" % case) \n",
    "    cas.substitute(\"_init_\",init)\n",
    "    cas.substitute(\"_champ_\",champ)\n",
    "\n",
    "run.executeCommand(\"echo } >> champ_front.txt\")\n",
    "run.printCases()\n",
    "run.runCases(preventConcurrent=True)"
   ]
  },
  {
   "cell_type": "markdown",
   "id": "1e22bfee-1a08-42b6-b05f-65558908559c",
   "metadata": {},
   "source": [
    "## Check results\n",
    "### The computation (single or multi) for outlet should match"
   ]
  },
  {
   "cell_type": "code",
   "execution_count": null,
   "id": "227ea8c5-9474-4499-b778-d6c43f328482",
   "metadata": {},
   "outputs": [],
   "source": [
    "from trustutils import plot \n",
    "import numpy as np\n",
    "import matplotlib.pyplot as plt \n",
    "jdd=\"cfp\"\n",
    "for case,label,init,champ in cases:\n",
    "    if label!=\"champ_front_parametrique\":\n",
    "        a=plot.Graph(\"Probes for %s\" % label,size=[15,8])\n",
    "        a.addPoint(\"%s/%s_IN.son\"   % (case,case), marker='-', label=\"Single&Multi computation (inlet)\" )\n",
    "        a.addPoint(\"%s/%s_OUT.son\"  % (case,case), marker='-', label=\"Single computation (outlet)\")\n",
    "        a.addPoint(\"%s/%s_OUT.son\"  % (case,jdd) , marker='o', markevery=10, label=\"Multi-computation (outlet)\")\n",
    "        a.label(\"Time\",\"Velocity\")"
   ]
  },
  {
   "cell_type": "code",
   "execution_count": null,
   "id": "aea7e0a6",
   "metadata": {},
   "outputs": [],
   "source": []
  }
 ],
 "metadata": {
  "kernelspec": {
   "display_name": "Python 3 (ipykernel)",
   "language": "python",
   "name": "python3"
  },
  "language_info": {
   "codemirror_mode": {
    "name": "ipython",
    "version": 3
   },
   "file_extension": ".py",
   "mimetype": "text/x-python",
   "name": "python",
   "nbconvert_exporter": "python",
   "pygments_lexer": "ipython3",
   "version": "3.7.16"
  }
 },
 "nbformat": 4,
 "nbformat_minor": 5
}
