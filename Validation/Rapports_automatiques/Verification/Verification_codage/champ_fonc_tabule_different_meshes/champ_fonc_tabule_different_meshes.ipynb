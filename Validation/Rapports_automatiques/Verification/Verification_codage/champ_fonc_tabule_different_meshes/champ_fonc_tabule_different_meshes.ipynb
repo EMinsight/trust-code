{
 "cells": [
  {
   "attachments": {},
   "cell_type": "markdown",
   "id": "gross-patent",
   "metadata": {},
   "source": [
    "# Couplage sur domaines coincidents avec maillages différents"
   ]
  },
  {
   "cell_type": "code",
   "execution_count": null,
   "id": "50d4a841",
   "metadata": {},
   "outputs": [],
   "source": [
    "from trustutils.jupyter import run\n",
    "\n",
    "run.introduction(\"Yannick Gorsse\")\n",
    "run.description(\"Driven cavity with cosine thermal power and thermal exchange with uniform external temperature\")\n",
    "run.TRUST_parameters()"
   ]
  },
  {
   "cell_type": "code",
   "execution_count": null,
   "id": "15189bb2-352d-48f9-85fa-64c4323e0f88",
   "metadata": {},
   "outputs": [],
   "source": [
    "from trustutils.jupyter import run\n",
    "\n",
    "run.reset()\n",
    "calcs = {\"two_dom\" : [30, 10]}\n",
    "for dom, liste_n in calcs.items():\n",
    "    for n in liste_n:\n",
    "        run.addCaseFromTemplate(f\"jdd.data\", f\"{dom}/N{n}\", {\"N\" : n + 1})\n",
    "\n",
    "run.printCases()\n",
    "run.runCases()\n",
    "run.tablePerf()"
   ]
  },
  {
   "cell_type": "code",
   "execution_count": null,
   "id": "a4e5dc4c",
   "metadata": {},
   "outputs": [],
   "source": [
    "from trustutils import plot\n",
    "\n",
    "a = plot.Graph(\"Residuals\")\n",
    "for dom, liste_n in calcs.items():\n",
    "    for n in liste_n:\n",
    "        a.addResidu(f\"{dom}/N{n}/jdd.dt_ev\", label=f\"{dom} N{n}\")\n",
    "a.scale(yscale=\"log\")"
   ]
  },
  {
   "cell_type": "code",
   "execution_count": null,
   "id": "92a2bdd6",
   "metadata": {},
   "outputs": [],
   "source": [
    "for dom, liste_n in calcs.items():\n",
    "    for n in liste_n:\n",
    "        a = plot.Graph(f\"{dom} N{n}\")\n",
    "        for pb in [1, 2]:\n",
    "            a.addPoint(f\"{run.BUILD_DIRECTORY}/{dom}/N{n}/jdd_T{pb}.son\", label=f\"{dom} N{n} - pb {pb}\")\n"
   ]
  }
 ],
 "metadata": {
  "kernelspec": {
   "display_name": "Python 3",
   "language": "python",
   "name": "python3"
  },
  "language_info": {
   "codemirror_mode": {
    "name": "ipython",
    "version": 3
   },
   "file_extension": ".py",
   "mimetype": "text/x-python",
   "name": "python",
   "nbconvert_exporter": "python",
   "pygments_lexer": "ipython3",
   "version": "3.7.9"
  },
  "vscode": {
   "interpreter": {
    "hash": "b782577cff7740386d5a4408bd06491b01e7449d0be1e4e757afd3bc68462014"
   }
  }
 },
 "nbformat": 4,
 "nbformat_minor": 5
}
