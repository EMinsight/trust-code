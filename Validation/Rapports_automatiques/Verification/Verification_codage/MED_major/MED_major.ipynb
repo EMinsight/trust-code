{
 "cells": [
  {
   "cell_type": "markdown",
   "id": "gross-patent",
   "metadata": {},
   "source": [
    "# Check Champ_front_normal fields"
   ]
  },
  {
   "cell_type": "code",
   "execution_count": 2,
   "id": "7911bb26",
   "metadata": {},
   "outputs": [
    {
     "data": {
      "text/markdown": [
       "## Introduction \n",
       " Validation made by : A. Bruneton\n"
      ],
      "text/plain": [
       "<IPython.core.display.Markdown object>"
      ]
     },
     "metadata": {},
     "output_type": "display_data"
    },
    {
     "data": {
      "text/markdown": [
       "\n",
       " Report created : 13/04/2021\n"
      ],
      "text/plain": [
       "<IPython.core.display.Markdown object>"
      ]
     },
     "metadata": {},
     "output_type": "display_data"
    },
    {
     "data": {
      "text/markdown": [
       "\n",
       " Report generated 27/01/2022"
      ],
      "text/plain": [
       "<IPython.core.display.Markdown object>"
      ]
     },
     "metadata": {},
     "output_type": "display_data"
    }
   ],
   "source": [
    "from trustutils import run\n",
    "\n",
    "run.introduction(\"A. Bruneton\",\"13/04/2021\")"
   ]
  },
  {
   "cell_type": "markdown",
   "id": "nominated-footage",
   "metadata": {},
   "source": [
    "## Introduction\n",
    "Validation made by:  A.Bruneton. \\\n",
    "Report generated 13/04/2021"
   ]
  },
  {
   "cell_type": "markdown",
   "id": "perfect-entrepreneur",
   "metadata": {},
   "source": [
    "### Description \n",
    "This note illustrates the use of the new keyword 'med_major' to write the post in MED file with versionnumber X.0 when the current MED version given with TRUST is X.Y. At the time of writing this allowsto write a MED file in version 3.0 when the MED version of TRUST is 3.2."
   ]
  },
  {
   "cell_type": "code",
   "execution_count": 3,
   "id": "a61057b9",
   "metadata": {},
   "outputs": [
    {
     "data": {
      "text/markdown": [
       "### TRUST parameters \n",
       " * Version TRUST: 1.8.4\n",
       " * Binary used: /volatile/catA/ll258196/trust-code/exec/TRUST_mpi_opt (built on TRUST /volatile/catA/ll258196/trust-code/Validation/Rapports_automatiques/jupyter/Verification_codage/MED_major/build)"
      ],
      "text/plain": [
       "<IPython.core.display.Markdown object>"
      ]
     },
     "metadata": {},
     "output_type": "display_data"
    }
   ],
   "source": [
    "run.TRUST_parameters()"
   ]
  },
  {
   "cell_type": "code",
   "execution_count": 2,
   "id": "15189bb2-352d-48f9-85fa-64c4323e0f88",
   "metadata": {},
   "outputs": [
    {
     "data": {
      "text/markdown": [
       "### Test cases \n",
       "* ./MED_major.data : \n"
      ],
      "text/plain": [
       "<IPython.core.display.Markdown object>"
      ]
     },
     "metadata": {},
     "output_type": "display_data"
    },
    {
     "name": "stdout",
     "output_type": "stream",
     "text": [
      "  => A total of 1 cases were (successfully) run in 0.3s.\n"
     ]
    }
   ],
   "source": [
    "run.addCase(\".\" ,\"MED_major.data\")\n",
    "run.printCases()\n",
    "run.runCases()"
   ]
  },
  {
   "cell_type": "markdown",
   "id": "2b813f3c-e933-430b-baf7-769736e8fffd",
   "metadata": {},
   "source": [
    "## File check\n",
    "A extremly reduced version of upwind is run.  The below test checks that MED file was written with themajor version number."
   ]
  },
  {
   "cell_type": "code",
   "execution_count": 4,
   "id": "ea873754-f777-46f2-bbfe-b89b52ac5bf0",
   "metadata": {},
   "outputs": [
    {
     "name": "stdout",
     "output_type": "stream",
     "text": [
      " All OK!! MED file version matching\n",
      "\n"
     ]
    }
   ],
   "source": [
    "run.dumpData(\"result.txt\")"
   ]
  }
 ],
 "metadata": {
  "kernelspec": {
   "display_name": "Python 3",
   "language": "python",
   "name": "python3"
  },
  "language_info": {
   "codemirror_mode": {
    "name": "ipython",
    "version": 3
   },
   "file_extension": ".py",
   "mimetype": "text/x-python",
   "name": "python",
   "nbconvert_exporter": "python",
   "pygments_lexer": "ipython3",
   "version": "3.7.9"
  }
 },
 "nbformat": 4,
 "nbformat_minor": 5
}
