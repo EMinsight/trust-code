{
 "cells": [
  {
   "cell_type": "markdown",
   "id": "519d45f3",
   "metadata": {},
   "source": [
    "# Python package for postprocessing the TRUST son files"
   ]
  },
  {
   "cell_type": "code",
   "execution_count": null,
   "id": "3d9390e2",
   "metadata": {},
   "outputs": [],
   "source": [
    "from trustutils import run \n",
    "\n",
    "run.introduction(\"Morad Ben Tayeb\")\n",
    "run.description(\"\")\n",
    "run.TRUST_parameters(\"1.8.3\")"
   ]
  },
  {
   "cell_type": "code",
   "execution_count": null,
   "id": "d56dd707",
   "metadata": {},
   "outputs": [],
   "source": [
    "from trustutils import run \n",
    "c1 = run.addCase(\"sim_1\",\"Cas.data\") \n",
    "run.printCases()\n",
    "run.runCases()"
   ]
  },
  {
   "cell_type": "markdown",
   "id": "bbb33042",
   "metadata": {},
   "source": [
    "## Test case\n",
    "\n",
    "<figure>\n",
    "    <center>\n",
    "    <img src=\"src/canal.png\" width=\"600\" alt=\"computational_domain\">\n",
    "    <figcaption>Description of the computational domain depicting the probes position\n",
    "</figcaption>\n",
    "    </center>\n",
    "</figure>\n",
    "\n"
   ]
  },
  {
   "cell_type": "markdown",
   "id": "3be7ade4",
   "metadata": {},
   "source": [
    "## Configuration\n",
    "\n",
    "This validation file was made to show what can be done with the Python post processing code. In this\n",
    "test case, we have three folders named sim 1, sim 2, sim 3 with sim 2 the continuation of sim 1 and sim 3\n",
    "the continuation of sim 2. The goal is to do statistical post processing of the results coming from the\n",
    ".son and .dt ev files."
   ]
  },
  {
   "cell_type": "markdown",
   "id": "9e134369",
   "metadata": {},
   "source": [
    "## Step time\n",
    "\n",
    "In this section, we will plot simulation step time. Other quantities can be displayed from .dt ev files as\n",
    "long as the correct keyword is given. \n",
    "\n",
    "<figure>\n",
    "    <center>\n",
    "    <img src=\"src/sim_3/results/fig_1.png\" width=\"500\">\n",
    "    <figcaption>Evolution of step time\n",
    "</figcaption>\n",
    "    </center>\n",
    "</figure>\n"
   ]
  },
  {
   "cell_type": "markdown",
   "id": "c57cb8ab",
   "metadata": {},
   "source": [
    "## Velocity \n",
    "\n",
    "Plots the instantaneous probes evolution of velocity field and fluctuations.\n",
    "\n",
    "<figure>\n",
    "    <center>\n",
    "    <img src=\"src/sim_3/results/fig_2.png\" width=\"500\">\n",
    "    <figcaption>velocity</figcaption>\n",
    "     <img src=\"src/sim_3/results/fig_3.png\" width=\"500\">\n",
    "    <figcaption>Velocity fluctuation</figcaption>\n",
    "    </center>\n",
    "</figure>\n"
   ]
  },
  {
   "cell_type": "markdown",
   "id": "d437fcae",
   "metadata": {},
   "source": [
    "## Density\n",
    "\n",
    "An example with an other field: the instantaneous density evolution. \n",
    "\n",
    "<figure>\n",
    "    <center>\n",
    "    <img src=\"src/sim_3/results/fig_4.png\" width=\"500\">\n",
    "    <figcaption>density instantaneous</figcaption>\n",
    "    </center>\n",
    "</figure>\n"
   ]
  },
  {
   "cell_type": "markdown",
   "id": "453a3de5",
   "metadata": {},
   "source": [
    "## Pressure\n",
    "\n",
    "Displaying the pressure evolution, fluctuations and finally spatial mean over the segment.\n",
    "\n",
    "<figure>\n",
    "    <center>\n",
    "    <img src=\"src/sim_3/results/fig_5.png\" width=\"500\">\n",
    "    <figcaption>Pressure instantaneous</figcaption>\n",
    "     <img src=\"src/sim_3/results/fig_6.png\" width=\"500\">\n",
    "    <figcaption>Spatial mean pressure</figcaption>\n",
    "     <img src=\"src/sim_3/results/fig_7.png\" width=\"500\">\n",
    "    <figcaption>Spatial mean pressure</figcaption>\n",
    "    </center>\n",
    "</figure>"
   ]
  },
  {
   "cell_type": "markdown",
   "id": "988fd347",
   "metadata": {},
   "source": [
    "## Average windows on velocity\n",
    "\n",
    "Example of window averaging\n",
    "\n",
    "<figure>\n",
    "    <center>\n",
    "    <img src=\"src/sim_3/results/fig_8.png\" width=\"500\">\n",
    "    <figcaption>Average windows</figcaption>\n",
    "    </center>\n",
    "</figure>"
   ]
  },
  {
   "cell_type": "markdown",
   "id": "e62f18d5",
   "metadata": {},
   "source": [
    "## Autocorrelation and Spectrum\n",
    "\n",
    "We can perform an autocorrelation of the velocity signal, the root of parabola fit gives us the taylor micro\n",
    "scale. After that, the energy spectrum is computed using welch method.\n",
    "\n",
    "<figure>\n",
    "    <center>\n",
    "    <img src=\"src/sim_3/results/fig_9.png\" width=\"500\">\n",
    "    <figcaption>Autocorrelation and parabola fit</figcaption>\n",
    "            <img src=\"src/sim_3/results/fig_10.png\" width=\"500\">\n",
    "    <figcaption>Energy spectrum</figcaption>\n",
    "    </center>\n",
    "</figure>\n"
   ]
  },
  {
   "cell_type": "markdown",
   "id": "b26a3011",
   "metadata": {},
   "source": [
    "## Taylor Micro Scale\n",
    "\n",
    "Root of parabola fit of autocorrelation"
   ]
  },
  {
   "cell_type": "code",
   "execution_count": null,
   "id": "933fe2a3",
   "metadata": {},
   "outputs": [],
   "source": [
    "from trustutils import plot\n",
    "\n",
    "data = plot.loadText('./sim_3/script_postprocess.py_Roots_1.txt')\n",
    "a=plot.Table([\"Valeur\"])\n",
    "a.addLigne([data],\"Taylor micro scale\")\n",
    "a.df"
   ]
  },
  {
   "cell_type": "markdown",
   "id": "efa53ff2",
   "metadata": {},
   "source": [
    "## Computer performance"
   ]
  },
  {
   "cell_type": "code",
   "execution_count": null,
   "id": "73924b8f",
   "metadata": {},
   "outputs": [],
   "source": [
    "run.tablePerf()"
   ]
  },
  {
   "cell_type": "markdown",
   "id": "41246f25",
   "metadata": {},
   "source": [
    "## Python"
   ]
  },
  {
   "cell_type": "code",
   "execution_count": null,
   "id": "c4f39fc7",
   "metadata": {},
   "outputs": [],
   "source": [
    "run.dumpData(\"script_postprocess.py\")"
   ]
  }
 ],
 "metadata": {
  "kernelspec": {
   "display_name": "Python 3 (ipykernel)",
   "language": "python",
   "name": "python3"
  },
  "language_info": {
   "codemirror_mode": {
    "name": "ipython",
    "version": 3
   },
   "file_extension": ".py",
   "mimetype": "text/x-python",
   "name": "python",
   "nbconvert_exporter": "python",
   "pygments_lexer": "ipython3",
   "version": "3.7.9"
  }
 },
 "nbformat": 4,
 "nbformat_minor": 5
}
