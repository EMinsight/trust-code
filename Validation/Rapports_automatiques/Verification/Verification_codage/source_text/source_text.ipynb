{
 "cells": [
  {
   "cell_type": "markdown",
   "id": "inappropriate-lingerie",
   "metadata": {},
   "source": [
    "# Therme source volumique d'échange avec une température extérieure"
   ]
  },
  {
   "cell_type": "code",
   "execution_count": null,
   "id": "1cb4230d",
   "metadata": {},
   "outputs": [],
   "source": [
    "from trustutils import run  \n",
    "\n",
    "run.introduction(\"A. Gerschenfeld, Y. Gorsse\")"
   ]
  },
  {
   "cell_type": "markdown",
   "id": "imperial-shield",
   "metadata": {},
   "source": [
    "### Description\n",
    "\n",
    "Cette fiche teste le terme source Terme_Puissance_Thermique_Echange_Impose en VEF et PolyMAC. Ce terme est utilisé en pratique pour calculer un échangeur : la partir primaire est calculée en CFD poreuse, et le secondaire est imposé dans le jdd ou bien calculé en couplage. Le test consiste en une cavité au repos, à 30degres initialement. Le terme source d'échange est appliqué avec une température externe à 10degres. On s'attend à voir la puissance échangée tendre vers zéro avec le temps."
   ]
  },
  {
   "cell_type": "code",
   "execution_count": null,
   "id": "1b79b86a",
   "metadata": {},
   "outputs": [],
   "source": [
    "run.TRUST_parameters()"
   ]
  },
  {
   "cell_type": "code",
   "execution_count": null,
   "id": "0868e968-9777-4954-80f4-46b58fe1b126",
   "metadata": {
    "tags": []
   },
   "outputs": [],
   "source": [
    "from trustutils import run  \n",
    "run.addCase(\"VEFPreP1B\",\"jdd.data\")  \n",
    "run.addCase(\"PolyMAC\",\"jdd.data\")\n",
    "run.addCase(\"VDF\",\"jdd.data\")   \n",
    "run.printCases()\n",
    "run.runCases()"
   ]
  },
  {
   "cell_type": "markdown",
   "id": "e6c2c033-3d3d-40dd-9853-7ac2384d69d1",
   "metadata": {},
   "source": [
    "## Resultats \n",
    "### Puissance échangée via le terme source"
   ]
  },
  {
   "cell_type": "code",
   "execution_count": null,
   "id": "29094d5b-cc45-4fa7-8b9e-d9acbdaef5bc",
   "metadata": {},
   "outputs": [],
   "source": [
    "from trustutils import plot\n",
    "import numpy as np\n",
    "\n",
    "a = plot.Graph(\"Comparaison\")\n",
    "x = plot.loadText(\"VEFPreP1B/jdd_pb_Terme_Puissance_Thermique_Echange_Impose.out\")\n",
    "a.add(x[0],x[1],marker='-|',label=\"VEF\")\n",
    "\n",
    "x = plot.loadText(\"PolyMAC/jdd_pb_Terme_Puissance_Thermique_Echange_Impose.out\")\n",
    "a.add(x[0],x[1],marker='-x',label=\"PolyMAC\")\n",
    "\n",
    "x = plot.loadText(\"VDF/jdd_pb_Terme_Puissance_Thermique_Echange_Impose.out\")\n",
    "a.add(x[0],x[1],marker='-*',label=\"VDF\")\n",
    "\n",
    "a.label(\"time\",\"Puissance [W]\")\n",
    "a.visu()"
   ]
  }
 ],
 "metadata": {
  "kernelspec": {
   "display_name": "Python 3 (ipykernel)",
   "language": "python",
   "name": "python3"
  },
  "language_info": {
   "codemirror_mode": {
    "name": "ipython",
    "version": 3
   },
   "file_extension": ".py",
   "mimetype": "text/x-python",
   "name": "python",
   "nbconvert_exporter": "python",
   "pygments_lexer": "ipython3",
   "version": "3.7.9"
  }
 },
 "nbformat": 4,
 "nbformat_minor": 5
}
