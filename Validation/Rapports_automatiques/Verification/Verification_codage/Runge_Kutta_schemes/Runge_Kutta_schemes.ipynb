{
 "cells": [
  {
   "cell_type": "markdown",
   "id": "inappropriate-lingerie",
   "metadata": {},
   "source": [
    "# Runge-Kutta time schemes convergence "
   ]
  },
  {
   "cell_type": "code",
   "execution_count": null,
   "id": "6f95d420",
   "metadata": {},
   "outputs": [],
   "source": [
    "from trustutils import run\n",
    "\n",
    "run.introduction(\"Elie Saikali and Yannick Gorsse.\",\"29/04/2022\")"
   ]
  },
  {
   "cell_type": "markdown",
   "id": "imperial-shield",
   "metadata": {},
   "source": [
    "### Description\n",
    "\n",
    "We consider a classical 2D VDF conduction problem and we look to the order of convergence of 8 implemented Runge-Kutta schemes (low storage, rational and classical methods : RK2, RK2_classique, RRK2, RK3, RK3_classique, RK4, RK4_classique, RK4_classique_3_8). For each times scheme, we consider 5 calculations where the time step is fixed to 1, 0.1, 0.01, 0.001 and 0.0001 seconds respectively.\n"
   ]
  },
  {
   "cell_type": "code",
   "execution_count": null,
   "id": "50e8ea4f",
   "metadata": {},
   "outputs": [],
   "source": [
    "run.TRUST_parameters(\"1.9.0\")"
   ]
  },
  {
   "cell_type": "code",
   "execution_count": null,
   "id": "0868e968-9777-4954-80f4-46b58fe1b126",
   "metadata": {
    "tags": []
   },
   "outputs": [],
   "source": [
    "from trustutils import run \n",
    "\n",
    "for i in [\"RK2\", \"RK2_Classique\", \"RRK2\", \"RK3\", \"RK3_Classique\", \"RK4\", \"RK4_Classique\", \"RK4_Classique_3_8\"]:\n",
    "    for j in [\"1\",\"1e_1\", \"1e_2\", \"1e_3\", \"1e_4\"]:\n",
    "        run.addCase(f\"{i}/{j}\",\"jdd.data\",nbProcs=1)\n",
    "\n",
    "run.printCases()\n",
    "run.runCases()"
   ]
  },
  {
   "cell_type": "code",
   "execution_count": null,
   "id": "7427b590",
   "metadata": {},
   "outputs": [],
   "source": [
    "run.executeScript(\"get_erreur\")"
   ]
  },
  {
   "cell_type": "markdown",
   "id": "ecef45dc",
   "metadata": {},
   "source": [
    "## Convergence\n",
    "\n",
    "It is perfect !!"
   ]
  },
  {
   "cell_type": "code",
   "execution_count": null,
   "id": "6ec29d85",
   "metadata": {},
   "outputs": [],
   "source": [
    "from trustutils import plot\n",
    "import numpy as np\n",
    "\n",
    "dt = [1,1.e-1,1.e-2,1.e-3,1.e-4]\n",
    "a = plot.Graph(\"Convergence\")\n",
    "RK2 = plot.loadText(\"erreur_RK2\")\n",
    "RK2C = plot.loadText(\"erreur_RK2_Classique\")\n",
    "RRK2 = plot.loadText(\"erreur_RRK2\")\n",
    "RK3 = plot.loadText(\"erreur_RK3\")\n",
    "RK3C = plot.loadText(\"erreur_RK3_Classique\")\n",
    "RK4 = plot.loadText(\"erreur_RK4\")\n",
    "RK4C = plot.loadText(\"erreur_RK4_Classique\")\n",
    "RK4C38 = plot.loadText(\"erreur_RK4_Classique_3_8\")\n",
    "\n",
    "a.add(dt,RK2,label=\"RK2\",marker='-|')\n",
    "a.add(dt,RK2C,label=\"RK2_Classique\",marker='-x')\n",
    "a.add(dt,RRK2,label=\"RRK2\",marker='-*')\n",
    "a.add(dt,RK3,label=\"RK3\",marker='-|')\n",
    "a.add(dt,RK3C,label=\"RK3_Classique\",marker='-x')\n",
    "a.add(dt,RK4,label=\"RK4\",marker='-|')\n",
    "a.add(dt,RK4C,label=\"RK4_Classique\",marker='-x')\n",
    "a.add(dt,RK4C38,label=\"RK4_Classique_3_8\",marker='-*')\n",
    "\n",
    "x = np.linspace(0.0001,1,100)\n",
    "y = x*x*0.01\n",
    "a.add(x,y,label=\"ordre 2\")\n",
    "y = x*x*x*0.005\n",
    "a.add(x,y,label=\"ordre 3\")\n",
    "\n",
    "y = x*x*x*x*0.001\n",
    "a.add(x,y,label=\"ordre 4\")\n",
    "\n",
    "a.label(\"dt\",\"erreur\")\n",
    "a.scale(xscale='log',yscale='log')"
   ]
  },
  {
   "cell_type": "markdown",
   "id": "9ddaef89-0ec1-48a8-ab01-00401ea551d0",
   "metadata": {},
   "source": [
    "## Computer performance"
   ]
  },
  {
   "cell_type": "code",
   "execution_count": null,
   "id": "897cbf88-bd23-4566-b96c-ba73f7e97103",
   "metadata": {
    "tags": []
   },
   "outputs": [],
   "source": [
    "from trustutils import run\n",
    "\n",
    "run.tablePerf()"
   ]
  }
 ],
 "metadata": {
  "kernelspec": {
   "display_name": "Python 3 (ipykernel)",
   "language": "python",
   "name": "python3"
  },
  "language_info": {
   "codemirror_mode": {
    "name": "ipython",
    "version": 3
   },
   "file_extension": ".py",
   "mimetype": "text/x-python",
   "name": "python",
   "nbconvert_exporter": "python",
   "pygments_lexer": "ipython3",
   "version": "3.7.9"
  }
 },
 "nbformat": 4,
 "nbformat_minor": 5
}
