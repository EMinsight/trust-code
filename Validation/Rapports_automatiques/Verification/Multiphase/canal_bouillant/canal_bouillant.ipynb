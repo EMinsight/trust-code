{
 "cells": [
  {
   "cell_type": "markdown",
   "id": "gross-patent",
   "metadata": {},
   "source": [
    "# Canal bouillant 1D"
   ]
  },
  {
   "cell_type": "code",
   "execution_count": null,
   "id": "50d4a841",
   "metadata": {},
   "outputs": [],
   "source": [
    "from trustutils.jupyter import run\n",
    "\n",
    "run.introduction(\"Y.G.\")\n",
    "run.description(\"Comparaison a une solution analytique, voir STMF/LMEC/NT/15-044, paragraphe 6.2\")\n",
    "run.TRUST_parameters()"
   ]
  },
  {
   "cell_type": "code",
   "execution_count": null,
   "id": "15189bb2-352d-48f9-85fa-64c4323e0f88",
   "metadata": {},
   "outputs": [],
   "source": [
    "from trustutils.jupyter import run\n",
    "\n",
    "run.addCase(\".\" ,\"canal.data\")\n",
    "run.printCases()\n",
    "run.runCases()"
   ]
  },
  {
   "cell_type": "markdown",
   "id": "2b813f3c-e933-430b-baf7-769736e8fffd",
   "metadata": {},
   "source": [
    "## Comparaison a la solution analytique"
   ]
  },
  {
   "cell_type": "code",
   "execution_count": null,
   "id": "025147b0",
   "metadata": {},
   "outputs": [],
   "source": [
    "from trustutils import plot\n",
    "\n",
    "a = plot.Graph(\"h_m\",nX=4,nY=2)\n",
    "a.addSegment(\"canal_H_M_TRUST.son\",label=\"trust\")\n",
    "a.addSegment(\"canal_H_M_ANALYTIQUE.son\",label=\"analytique\")\n",
    "\n",
    "a.addPlot([0,1],'alpha')\n",
    "a.addSegment(\"canal_ALPHA_TRUST.son\",label=\"trust\")\n",
    "a.addSegment(\"canal_ALPHA_ANALYTIQUE.son\",label=\"analytique\")\n",
    "\n",
    "a.addPlot([1,0],'temperature_l')\n",
    "a.addSegment(\"canal_TEMPERATURE_L_TRUST.son\")\n",
    "\n",
    "a.addPlot([1,1],'temperature_g')\n",
    "a.addSegment(\"canal_TEMPERATURE_G_TRUST.son\")\n",
    "\n",
    "a.addPlot([2,0],'pression')\n",
    "a.addSegment(\"canal_PRESSION_TRUST.son\")\n",
    "\n",
    "a.addPlot([2,1],'RHO_M')\n",
    "a.addSegment(\"canal_RHO_M_TRUST.son\")\n",
    "\n",
    "a.addPlot([3,0],'erreur_h')\n",
    "a.addSegment(\"canal_ERREUR_H_TRUST.son\")\n",
    "\n",
    "a.addPlot([3,1],'vitesse_l')\n",
    "a.addSegment(\"canal_VITESSE_L_TRUST.son\",compo=1)\n"
   ]
  }
 ],
 "metadata": {
  "kernelspec": {
   "display_name": "Python 3 (ipykernel)",
   "language": "python",
   "name": "python3"
  },
  "language_info": {
   "codemirror_mode": {
    "name": "ipython",
    "version": 3
   },
   "file_extension": ".py",
   "mimetype": "text/x-python",
   "name": "python",
   "nbconvert_exporter": "python",
   "pygments_lexer": "ipython3",
   "version": "3.7.9"
  }
 },
 "nbformat": 4,
 "nbformat_minor": 5
}
