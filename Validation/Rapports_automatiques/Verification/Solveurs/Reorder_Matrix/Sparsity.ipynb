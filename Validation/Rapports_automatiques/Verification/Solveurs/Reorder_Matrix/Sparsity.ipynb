{
 "cells": [
  {
   "cell_type": "markdown",
   "id": "gross-patent",
   "metadata": {},
   "source": [
    "# Reordering matrix option"
   ]
  },
  {
   "cell_type": "markdown",
   "id": "perfect-entrepreneur",
   "metadata": {},
   "source": [
    "### Description \n",
    "Test of a new 1.9.1 option: reordering matrix with a RCM algorithm, in order to reduce matrix bandwith and possibly improve computation intensity (in sequential) and reduce MPI communications (in parallel).\n",
    "\n",
    "The test case is a 3D flow into a channel with the P0P1 discretization (pressure unknowns on cells AND nodes).\n",
    "\n",
    "Then, the test case is run on the P0 discretization (pressure unknowns on cells only) and P1 discretization (pressure unknowns on nodes only).\n",
    "\n",
    "The 3 tests cases are using a GC/SSOR solver (relaxation 1.6) from the PETSc library."
   ]
  },
  {
   "cell_type": "code",
   "execution_count": null,
   "id": "53528cf8",
   "metadata": {
    "scrolled": true
   },
   "outputs": [],
   "source": [
    "from trustutils import run\n",
    "run.TRUST_parameters()\n",
    "run.introduction('Pierre LEDAC (CEA/DES/ISAS/DM2S/STMF/LGLS)')\n",
    "# Creation des jeux de donnees\n",
    "NP=1\n",
    "MESH=\"7 7 4\"  # 34 560 cells\n",
    "cases=[\n",
    "       (\"no_ordering\"     ,\"No ordering for sbaij matrix (default)\"   ,\"reorder_matrix 0\"),\n",
    "       (\"no_ordering_aij\" ,\"No ordering for aij matrix\"               ,\"aij reorder_matrix 0\"),\n",
    "       (\"ordering\"        ,\"Ordering for aij matrix\"               ,\"aij reorder_matrix 1\"),\n",
    "      ]\n",
    "run.reset()\n",
    "run.initCaseSuite()\n",
    "for case,label,syntax in cases:\n",
    "    # Create test case:\n",
    "    run.executeCommand(\"cas=%s;mkdir -p $cas;cd $cas;cp ../base.data $cas.data;ln -s -f ../post_run .\" % case, verbose=False)\n",
    "    cas = run.addCase(case,\"%s.data\" % case)\n",
    "    cas.substitute(\"_reorder_matrix_\",syntax)\n",
    "    cas.substitute(\"_MESH_\",MESH)\n",
    "    # Create a parallel test case:\n",
    "    if NP>1:\n",
    "        run.executeCommand(\"cas=%s;cd $cas;make_PAR.data $cas %s;exit 0\" % (case,NP), verbose=False)\n",
    "        cas = run.addCase(case,\"PAR_%s.data\" % case, NP)\n",
    "    \n",
    "run.printCases()"
   ]
  },
  {
   "cell_type": "code",
   "execution_count": null,
   "id": "15189bb2-352d-48f9-85fa-64c4323e0f88",
   "metadata": {
    "scrolled": true
   },
   "outputs": [],
   "source": [
    "run.runCases()"
   ]
  },
  {
   "cell_type": "markdown",
   "id": "a71e90d0",
   "metadata": {},
   "source": [
    "# Matrix sparsity (P0P1)"
   ]
  },
  {
   "cell_type": "code",
   "execution_count": null,
   "id": "f996db83",
   "metadata": {},
   "outputs": [],
   "source": [
    "def plot_matrix(str):\n",
    "    from PIL import Image\n",
    "    from matplotlib.pyplot import figure\n",
    "    import matplotlib.pyplot as plt\n",
    "    import re\n",
    "    fig, ax = plt.subplots(1,len(cases))\n",
    "    for i,tuple in enumerate(cases):\n",
    "        case = tuple[0]\n",
    "        label = tuple[1]\n",
    "        dir = run.BUILD_DIRECTORY+\"/\"+case\n",
    "        for line in open(dir+\"/\"+case+\".out\"):\n",
    "            for match in re.finditer(re.compile(\"PETSc\"), line):\n",
    "                rows = line.split(\" \")[6]\n",
    "        ppm = Image.open(dir+\"/matrix/matrix_0.ppm\")\n",
    "        run.saveFileAccumulator(case+\"/matrix/matrix_0.ppm\")\n",
    "        ax[i].axis('off')\n",
    "        ax[i].set_title(label+\"\\n\"+str+\":\"+rows+\" rows\")\n",
    "        ax[i].imshow(ppm)\n",
    "    fig.set_size_inches(18.5, 10.5)\n",
    "plot_matrix(\"P0P1\")    "
   ]
  },
  {
   "cell_type": "markdown",
   "id": "818473e8",
   "metadata": {},
   "source": [
    "# Convergence (P0P1)"
   ]
  },
  {
   "cell_type": "code",
   "execution_count": null,
   "id": "60506cb2",
   "metadata": {},
   "outputs": [],
   "source": [
    "from trustutils import plot\n",
    "    \n",
    "a = plot.Graph(\"Relative residual ||Ax(it)-b||/||Ax(0)-b|| during the fist time step:\",\"\",1,1,[10,5])\n",
    "\n",
    "for case,label,syntax in cases:\n",
    "    cols = plot.loadText(case+\"/%s.res\" % case)\n",
    "    a.add(cols[0],cols[1],label=\"%s\" % label, marker='o')\n",
    "    if NP>1:\n",
    "        cols = plot.loadText(case+\"/PAR_%s.res\" % case)\n",
    "        a.add(cols[0],cols[1],label=\"%s (%s MPI cores)\" % (label,NP), marker='o')\n",
    "\n",
    "a.label(\"Iteration\",\"Residual\")\n",
    "a.subplot.set_yscale('log')"
   ]
  },
  {
   "cell_type": "markdown",
   "id": "7936faa8",
   "metadata": {},
   "source": [
    "Ordering the matrix may improve slightly the convergence."
   ]
  },
  {
   "cell_type": "markdown",
   "id": "dd2c19e6",
   "metadata": {},
   "source": [
    "# Memory used (P0P1)"
   ]
  },
  {
   "cell_type": "code",
   "execution_count": null,
   "id": "9d6096bd",
   "metadata": {
    "scrolled": true
   },
   "outputs": [],
   "source": [
    "def plot_memory():\n",
    "    a = plot.Graph(\"Max RAM per core used during calculation:\",\"\",1,1,[10,5])\n",
    "    for case,label,syntax in cases:\n",
    "        cols = plot.loadText(case+\"/%s.ram\" % case)\n",
    "        a.add(cols[0],cols[1],label=\"%s\" % label)\n",
    "        if NP>1:\n",
    "            cols = plot.loadText(case+\"/PAR_%s.ram\" % case)\n",
    "            a.add(cols[0],cols[1],label=\"%s (%s MPI cores)\" % (label,NP), marker='-o')\n",
    "    a.label(\"Sample\",\"RAM [MB]\")\n",
    "plot_memory()    "
   ]
  },
  {
   "cell_type": "markdown",
   "id": "fa45b1e5",
   "metadata": {},
   "source": [
    "# CPU time (P0P1)"
   ]
  },
  {
   "cell_type": "code",
   "execution_count": null,
   "id": "c6ad72e3",
   "metadata": {
    "scrolled": true
   },
   "outputs": [],
   "source": [
    "def cpu_time():\n",
    "    a = plot.Graph(\"CPU time of pressure solve during calculation:\",\"\",1,1,[10,5])\n",
    "    for case,label,syntax in cases:\n",
    "        cols = plot.loadText(case+\"/%s.cpu\" % case)\n",
    "        a.add(cols[0],cols[1],label=\"%s\" % label)\n",
    "        if NP>1:\n",
    "            cols = plot.loadText(case+\"/PAR_%s.cpu\" % case)\n",
    "            a.add(cols[0],cols[1],label=\"%s (%s MPI cores)\" % (label,NP), marker='-o')\n",
    "    a.label(\"Time step\",\"CPU [s]\")\n",
    "cpu_time()"
   ]
  },
  {
   "cell_type": "markdown",
   "id": "a0813029",
   "metadata": {},
   "source": [
    "No gain for matrix ordering strategy on this P0P1 matrix (the default in VEF)."
   ]
  },
  {
   "cell_type": "markdown",
   "id": "e8e31da8",
   "metadata": {},
   "source": [
    "# Sparsity and run time for a P0 matrix"
   ]
  },
  {
   "cell_type": "code",
   "execution_count": null,
   "id": "3af244a1",
   "metadata": {
    "scrolled": true
   },
   "outputs": [],
   "source": [
    "for cas in run.getCases():\n",
    "    cas.substitute(\"VEFPreP1B dis\",\"VEFPreP1B dis Lire dis { P0 }\")\n",
    "run.runCases()\n",
    "plot_matrix(\"P0\")"
   ]
  },
  {
   "cell_type": "code",
   "execution_count": null,
   "id": "7de6cad1",
   "metadata": {
    "scrolled": true
   },
   "outputs": [],
   "source": [
    "cpu_time()"
   ]
  },
  {
   "cell_type": "markdown",
   "id": "db57dabc",
   "metadata": {},
   "source": [
    "# Sparsity and run time for a P1 matrix"
   ]
  },
  {
   "cell_type": "code",
   "execution_count": null,
   "id": "084a0b31",
   "metadata": {
    "scrolled": true
   },
   "outputs": [],
   "source": [
    "for cas in run.getCases():\n",
    "    cas.substitute(\"dis { P0 }\",\"dis { P1 }\")\n",
    "run.runCases()\n",
    "plot_matrix(\"P1\")"
   ]
  },
  {
   "cell_type": "code",
   "execution_count": null,
   "id": "a2e9c136",
   "metadata": {
    "scrolled": true
   },
   "outputs": [],
   "source": [
    "cpu_time()"
   ]
  },
  {
   "cell_type": "markdown",
   "id": "66468142",
   "metadata": {},
   "source": [
    "# Conclusion\n",
    "Ordering on typical matrix size for TRUST (~30 000 rows/MPI rank) doesn't increase performance. Gain appears only if matrix size increases (~300 000 rows) when probably the matrix doesn't fit completly in L3 cache."
   ]
  }
 ],
 "metadata": {
  "kernelspec": {
   "display_name": "Python 3 (ipykernel)",
   "language": "python",
   "name": "python3"
  },
  "language_info": {
   "codemirror_mode": {
    "name": "ipython",
    "version": 3
   },
   "file_extension": ".py",
   "mimetype": "text/x-python",
   "name": "python",
   "nbconvert_exporter": "python",
   "pygments_lexer": "ipython3",
   "version": "3.7.9"
  }
 },
 "nbformat": 4,
 "nbformat_minor": 5
}
