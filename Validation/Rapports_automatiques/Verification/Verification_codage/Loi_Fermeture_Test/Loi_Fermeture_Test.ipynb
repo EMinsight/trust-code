{
 "cells": [
  {
   "cell_type": "markdown",
   "id": "retired-details",
   "metadata": {},
   "source": [
    "# Loi_Fermeture_Test"
   ]
  },
  {
   "cell_type": "code",
   "execution_count": null,
   "id": "68fef64a",
   "metadata": {},
   "outputs": [],
   "source": [
    "from trustutils import run\n",
    "run.introduction(\"fauchet\",\"13/04/2021\")"
   ]
  },
  {
   "cell_type": "markdown",
   "id": "indoor-italic",
   "metadata": {},
   "source": [
    "### Description \n",
    "Cas test pour tester la prise en compte des lois de fermeture associes au probleme."
   ]
  },
  {
   "cell_type": "code",
   "execution_count": null,
   "id": "9086a027",
   "metadata": {},
   "outputs": [],
   "source": [
    "run.TRUST_parameters()"
   ]
  },
  {
   "cell_type": "markdown",
   "id": "endless-country",
   "metadata": {},
   "source": [
    "### Test cases\n",
    "* Loi_Fermeture_Test.data "
   ]
  },
  {
   "cell_type": "code",
   "execution_count": null,
   "id": "ideal-reaction",
   "metadata": {},
   "outputs": [],
   "source": [
    "from trustutils import run \n",
    "run.addCase(\".\" ,\"Loi_Fermeture_Test.data\")  \n",
    "run.runCases()"
   ]
  },
  {
   "cell_type": "markdown",
   "id": "bibliographic-actress",
   "metadata": {},
   "source": [
    "## Visualization via VisIt \n",
    "\n",
    "Au temps initial (1s), le champ doit valoir 2 partout\n",
    "\n",
    "### TEST_TIME ELEM"
   ]
  },
  {
   "cell_type": "code",
   "execution_count": null,
   "id": "associate-capitol",
   "metadata": {},
   "outputs": [],
   "source": [
    "from trustutils import visit\n",
    "\n",
    "visit.showField(\"Loi_Fermeture_Test.lata\",\"Pseudocolor\",\"TEST_TIME_ELEM_dom\",time=0,plotmesh=False)"
   ]
  },
  {
   "cell_type": "markdown",
   "id": "surrounded-vacation",
   "metadata": {},
   "source": [
    "## Visualization via Gnuplot\n",
    "\n",
    "### Sonde\n",
    "\n",
    "La variable doit varier entre 2 et 4 (le temps entre 1 et 2)"
   ]
  },
  {
   "cell_type": "code",
   "execution_count": null,
   "id": "presidential-agent",
   "metadata": {},
   "outputs": [],
   "source": [
    "from trustutils import plot \n",
    "\n",
    "Graphique=plot.Graph(\"Sonde\")\n",
    "Graphique.addPoint(\"Loi_Fermeture_Test_SONDE.son\")"
   ]
  }
 ],
 "metadata": {
  "kernelspec": {
   "display_name": "Python 3 (ipykernel)",
   "language": "python",
   "name": "python3"
  },
  "language_info": {
   "codemirror_mode": {
    "name": "ipython",
    "version": 3
   },
   "file_extension": ".py",
   "mimetype": "text/x-python",
   "name": "python",
   "nbconvert_exporter": "python",
   "pygments_lexer": "ipython3",
   "version": "3.7.9"
  }
 },
 "nbformat": 4,
 "nbformat_minor": 5
}
