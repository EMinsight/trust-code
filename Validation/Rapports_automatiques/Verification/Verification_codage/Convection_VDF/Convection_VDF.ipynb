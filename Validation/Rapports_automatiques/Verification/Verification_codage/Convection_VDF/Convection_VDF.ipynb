{
 "cells": [
  {
   "cell_type": "markdown",
   "id": "improved-telescope",
   "metadata": {},
   "source": [
    "# Analytical solution to check VDF upwind scheme"
   ]
  },
  {
   "cell_type": "code",
   "execution_count": null,
   "id": "fd3de6f1",
   "metadata": {},
   "outputs": [],
   "source": [
    "from trustutils import run\n",
    "\n",
    "run.introduction(\"Pierre LEDAC\")"
   ]
  },
  {
   "cell_type": "markdown",
   "id": "176c097e",
   "metadata": {},
   "source": [
    "### Description\n",
    "\n",
    "Check analytical solution u(x,y)=v(x,y)=exp(x-y) for Navier Stokes equations using upwind scheme:\n",
    "\n",
    "Div(u)=0 U.grad(U)=-grad(P)\n",
    "\n",
    "Boundary conditions: Dirichlet on left/bottom, Outlet (P=0) on top/right"
   ]
  },
  {
   "cell_type": "code",
   "execution_count": null,
   "id": "72e60508",
   "metadata": {},
   "outputs": [],
   "source": [
    "run.TRUST_parameters(\"1.8.3_beta\")"
   ]
  },
  {
   "cell_type": "code",
   "execution_count": null,
   "id": "northern-guide",
   "metadata": {
    "scrolled": false,
    "tags": []
   },
   "outputs": [],
   "source": [
    "from trustutils import run \n",
    "run.addCase(\".\",\"test0.data\")\n",
    "run.addCase(\".\",\"test1.data\")\n",
    "run.addCase(\".\",\"test2.data\")\n",
    "run.printCases()\n",
    "run.runCases()"
   ]
  },
  {
   "cell_type": "code",
   "execution_count": null,
   "id": "1ff8fa9f",
   "metadata": {},
   "outputs": [],
   "source": [
    "run.executeScript(\"extract_convergence\")"
   ]
  },
  {
   "cell_type": "markdown",
   "id": "streaming-avenue",
   "metadata": {},
   "source": [
    "## Meshes and analytical solution"
   ]
  },
  {
   "cell_type": "code",
   "execution_count": null,
   "id": "catholic-master",
   "metadata": {},
   "outputs": [],
   "source": [
    "from trustutils import visit\n",
    "\n",
    "fig=visit.Show(\"test0.lata\",\"Vector\",\"SOLUTION_ELEM_dom\",nY=3)\n",
    "fig.blackVector()\n",
    "fig.visuOptions(['no_databaseinfo'])\n",
    "fig.add(\"test1.lata\",\"Mesh\",\"dom\",1)\n",
    "fig.visuOptions(['no_databaseinfo'])\n",
    "fig.add(\"test2.lata\",\"Mesh\",\"dom\",2)\n",
    "fig.visuOptions(['no_databaseinfo'])\n",
    "\n",
    "\n",
    "fig.plot()"
   ]
  },
  {
   "cell_type": "markdown",
   "id": "verbal-healthcare",
   "metadata": {},
   "source": [
    "## Mesh convergence on Y velocity"
   ]
  },
  {
   "cell_type": "markdown",
   "id": "impressed-supplement",
   "metadata": {},
   "source": [
    "### Residual"
   ]
  },
  {
   "cell_type": "code",
   "execution_count": null,
   "id": "recorded-therapy",
   "metadata": {},
   "outputs": [],
   "source": [
    "from trustutils import plot \n",
    "\n",
    "a=plot.Graph(\"Residual\",size=[15,8])\n",
    "a.addResidu('test0.dt_ev',marker='-|')\n",
    "a.addResidu('test1.dt_ev',marker='-x')\n",
    "a.addResidu('test2.dt_ev',marker='-*')\n",
    "a.scale(xscale='log',yscale='log')\n",
    "\n",
    "a.visu()"
   ]
  },
  {
   "cell_type": "markdown",
   "id": "indirect-catholic",
   "metadata": {},
   "source": [
    "### Profile at Y = 0"
   ]
  },
  {
   "cell_type": "code",
   "execution_count": null,
   "id": "906ceadf",
   "metadata": {
    "scrolled": false
   },
   "outputs": [],
   "source": [
    "from trustutils import plot \n",
    "\n",
    "import numpy as np\n",
    "import math\n",
    "\n",
    "a = plot.Graph(\"Profile at Y=0\")\n",
    "\n",
    "a.addSegment(\"test0_VX.son\",marker=\"-|\",compo=0)  \n",
    "a.addSegment(\"test1_VX.son\",marker=\"-x\",compo=0)  \n",
    "a.addSegment(\"test2_VX.son\",marker=\"-*\",compo=0)\n",
    "\n",
    "x=np.linspace(-1,1,100)\n",
    "y=np.exp(x)\n",
    "a.add(x,y,label=\"Solution\")\n",
    "\n",
    "a.visu()"
   ]
  },
  {
   "cell_type": "markdown",
   "id": "4ef48a92",
   "metadata": {},
   "source": [
    "### Max error order"
   ]
  },
  {
   "cell_type": "code",
   "execution_count": null,
   "id": "94b1012f",
   "metadata": {},
   "outputs": [],
   "source": [
    "from trustutils import plot \n",
    "\n",
    "import numpy as np\n",
    "import math\n",
    "\n",
    "c0 = plot.loadText(\"test0.conv\")\n",
    "c1 = plot.loadText(\"test1.conv\")\n",
    "c2 = plot.loadText(\"test2.conv\")\n",
    "\n",
    "x =[0]*3\n",
    "y =[0]*3\n",
    "\n",
    "x[0] = 1./math.sqrt(c0[1])\n",
    "y[0] = c0[0]\n",
    "x[1] = 1./math.sqrt(c1[1])\n",
    "y[1] = c1[0]\n",
    "x[2] = 1./math.sqrt(c2[1])\n",
    "y[2] = c2[0]\n",
    "\n",
    "a = plot.Graph(\"Max error order\")\n",
    "a.add(x,y,marker='x',label='Code')\n",
    "\n",
    "x = np.linspace(0.01,1,100)\n",
    "y = x\n",
    "a.add(x,y,label='Order 1')\n",
    "\n",
    "y = x*x\n",
    "a.add(x,y,label='Order 2')\n",
    "a.scale('log','log')\n",
    "a.label(\"Mesh size\", \"Max error\")\n",
    "a.visu(0.01,1)\n"
   ]
  },
  {
   "cell_type": "markdown",
   "id": "75c4d387",
   "metadata": {},
   "source": [
    "## Max error"
   ]
  },
  {
   "cell_type": "code",
   "execution_count": null,
   "id": "c8bf0279",
   "metadata": {},
   "outputs": [],
   "source": [
    "from trustutils import visit\n",
    "\n",
    "fig=visit.Show(\"test0.lata\",\"Pseudocolor\",\"ERREUR_VY_ELEM_dom\",nY=3)\n",
    "fig.add(\"test1.lata\",\"Pseudocolor\",\"ERREUR_VY_ELEM_dom\",1)\n",
    "fig.add(\"test2.lata\",\"Pseudocolor\",\"ERREUR_VY_ELEM_dom\",2)\n",
    "\n",
    "fig.plot()"
   ]
  },
  {
   "cell_type": "markdown",
   "id": "eb20ed2c",
   "metadata": {},
   "source": [
    "## Conclusion"
   ]
  },
  {
   "cell_type": "markdown",
   "id": "18deee31",
   "metadata": {},
   "source": [
    "We notice the **first order** variation of upwind scheme. \n",
    "\n",
    "Nevertheless, an oddity appears near the right-bottom corner where Dirichlet switches to Neuman boundary condition.\n",
    "This oddity, also detected for the VDF quick scheme but not seen for VEF discretization, leads to an higher level of error there.\n",
    "\n",
    "This error level is reduced when the analytical solution is applied as a Dirichlet condition on **all** the boundaries."
   ]
  },
  {
   "cell_type": "markdown",
   "id": "aa4a56fb",
   "metadata": {},
   "source": [
    "## Computer Performance"
   ]
  },
  {
   "cell_type": "code",
   "execution_count": null,
   "id": "40a71c9b",
   "metadata": {},
   "outputs": [],
   "source": [
    "run.tablePerf()"
   ]
  }
 ],
 "metadata": {
  "kernelspec": {
   "display_name": "Python 3 (ipykernel)",
   "language": "python",
   "name": "python3"
  },
  "language_info": {
   "codemirror_mode": {
    "name": "ipython",
    "version": 3
   },
   "file_extension": ".py",
   "mimetype": "text/x-python",
   "name": "python",
   "nbconvert_exporter": "python",
   "pygments_lexer": "ipython3",
   "version": "3.7.9"
  }
 },
 "nbformat": 4,
 "nbformat_minor": 5
}
