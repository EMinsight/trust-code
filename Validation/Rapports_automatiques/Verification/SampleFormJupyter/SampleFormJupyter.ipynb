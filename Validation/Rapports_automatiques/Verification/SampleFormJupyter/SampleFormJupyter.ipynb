{
 "cells": [
  {
   "cell_type": "markdown",
   "id": "f00c33c7",
   "metadata": {},
   "source": [
    "# Example of validation form with Jupyter notebook\n",
    "\n",
    "## Introduction\n",
    "\n",
    "This document presents the different possibilities offered by Jupyter notebooks and the API of the Python module \"trustutils\" to create validation forms. \n",
    "\n",
    "To work properly, the notebooks require a particular environment set up by TRUST."
   ]
  },
  {
   "cell_type": "markdown",
   "id": "accomplished-curtis",
   "metadata": {},
   "source": [
    "## Presentation features\n",
    "\n",
    "\n",
    "This notebook presents examples of use of the main features available.\n",
    "\n",
    "Three main modules are presented here: \n",
    "\n",
    "* methods to manage validation cases with the [<code>run</code> module](#jupyter.run-module);\n",
    "* methods to plot graphs, curves and generate tables from output files with the [<code>plot</code> module](#jupyter.plot-module);\n",
    "* methods to create VisIt renderings with the [<code>visit</code> module](#Visitutils-function)\n",
    "\n",
    "The complete documentation of the tools is available in the sphinx documentation available with trust -index ?"
   ]
  },
  {
   "cell_type": "markdown",
   "id": "e4803a83",
   "metadata": {},
   "source": [
    "## Auto-Completion"
   ]
  },
  {
   "cell_type": "markdown",
   "id": "37484c44",
   "metadata": {},
   "source": [
    "**Tab** pour la complétion des fonctions des différents modules de trustutils. \n",
    "**Shift tab** pour accès à la doctring des modules."
   ]
  },
  {
   "cell_type": "markdown",
   "id": "invisible-subscriber",
   "metadata": {},
   "source": [
    "## jupyter.run module"
   ]
  },
  {
   "cell_type": "markdown",
   "id": "26871eb6",
   "metadata": {},
   "source": [
    "Test cases that need to be executed in the form can be added via the API offered by the <code>run</code> module: "
   ]
  },
  {
   "cell_type": "code",
   "execution_count": null,
   "id": "acf60c91",
   "metadata": {},
   "outputs": [],
   "source": [
    "from trustutils import run"
   ]
  },
  {
   "cell_type": "markdown",
   "id": "0e7d598d",
   "metadata": {},
   "source": [
    "### General parameters\n",
    "\n",
    "Some classical introduction blocks can be generated automatically"
   ]
  },
  {
   "cell_type": "code",
   "execution_count": null,
   "id": "electoral-rebound",
   "metadata": {},
   "outputs": [],
   "source": [
    "# declaration of name and (optionally) date \n",
    "run.introduction(\"TRUST team\",\"21/11/2021\")\n",
    "# In case of a very long description, it is better to write directly in a markdown without using this function\n",
    "run.description(\"Some description of the case here\")\n",
    "# declaration of the trust version\n",
    "run.TRUST_parameters(\"1.8.0\")"
   ]
  },
  {
   "cell_type": "markdown",
   "id": "05f2b28d",
   "metadata": {},
   "source": [
    "### Saving the notebook output / Exporting PDF"
   ]
  },
  {
   "cell_type": "markdown",
   "id": "7c38aefc",
   "metadata": {},
   "source": [
    "By default, the output of the notebooks (text, curves and VisIt images) are not saved to avoid polluting the version control system (git). This can be changed using the instruction below.\n",
    "\n",
    "This option must be activated if you want to export your notebook in PDF format (File -> Download as ...) with the results of the code cells."
   ]
  },
  {
   "cell_type": "code",
   "execution_count": null,
   "id": "0a862d5e",
   "metadata": {},
   "outputs": [],
   "source": [
    "# This allows you to save the notebook outputs. By default, these are deleted when saving.\n",
    "#run.saveFormOutput()"
   ]
  },
  {
   "cell_type": "markdown",
   "id": "cfa71ac0",
   "metadata": {},
   "source": [
    "### Management of Trust Cases"
   ]
  },
  {
   "cell_type": "markdown",
   "id": "5d864ad2",
   "metadata": {},
   "source": [
    "By default, all the following instructions are executed in the build directory. If you need to access this directory explicitly, you can refer to it with: "
   ]
  },
  {
   "cell_type": "code",
   "execution_count": null,
   "id": "caaa96ec",
   "metadata": {},
   "outputs": [],
   "source": [
    "# run.BUILD_DIRECTORY   ## Contains the absolute path of the build directory."
   ]
  },
  {
   "cell_type": "markdown",
   "id": "62e7d75f",
   "metadata": {},
   "source": [
    "Then, the <code>addCase</code> method allows to create an object of type <code>TRUSTCase</code> which has methods to copy and/or modify the data set.\n",
    "\n",
    "By default, on the 1st call, this:\n",
    "* copies the entire <code>src</code> directory into <code>build</code>\n",
    "* invokes the <code>prepare</code> script if it exists (on new forms, users are encouraged to perform the maneuvers usually done in the prepare directly in a Jupyter Shell cell)\n",
    "\n",
    "See the <code>run.TRUSTSuite</code> class to control this more finely."
   ]
  },
  {
   "cell_type": "code",
   "execution_count": null,
   "id": "wired-celtic",
   "metadata": {
    "tags": []
   },
   "outputs": [],
   "source": [
    "# At the beginning, or for fine tuning, it can be useful to reset everything to 0. This deletes the build directory, \n",
    "# and empties the list of cases to be executed:\n",
    "run.reset()\n",
    "\n",
    "# Here we add the case we want to run, specifying the number of processors we want (default value=1)\n",
    "run.addCase(\".\",\"grad_u_transpose_3d.data\",nbProcs=1)\n",
    "\n",
    "# It possible to use addCaseFromTemplate to generate test case from a template data file \n",
    "# using a dictionnary to substitute term starting with $\n",
    "run.addCaseFromTemplate(\"diffusion.data\",directory=\"coarse\",d={\"number\": 8})\n",
    "\n",
    "# Another case, by keeping in a variable the TRUSTCase object to be able to manipulate it:\n",
    "casT = run.addCaseFromTemplate(\"diffusion.data\",\"fine\",{\"number\": 32})\n",
    "\n",
    "# We can also use the options copy to manage the file tree in the build and substitute some text \n",
    "casS = casT.copy(\"NouveauNom2.data\", directory=\"NouveauRep\")\n",
    "casS.substitute(\"Nombre_de_Noeuds 32 32\",\"Nombre_de_Noeuds 16 16\")\n",
    "\n",
    "# The case can then be added to the list to be executed with addCase\n",
    "run.addCase(casS)"
   ]
  },
  {
   "cell_type": "markdown",
   "id": "ba664a83",
   "metadata": {},
   "source": [
    "To access the list of test cases that will be executed: "
   ]
  },
  {
   "cell_type": "code",
   "execution_count": null,
   "id": "05d2d2ee",
   "metadata": {
    "tags": []
   },
   "outputs": [],
   "source": [
    "run.printCases()"
   ]
  },
  {
   "cell_type": "markdown",
   "id": "8e8fbede",
   "metadata": {},
   "source": [
    "Then the launching of the cases is done with the method <code>runCases</code>. Pour chaque cas :\n",
    "\n",
    "* the <code>pre_run</code> script is executed, \n",
    "* then the test case \n",
    "* and finally the <code>post_run</code> script\n",
    " \n",
    "If a test case crashes, the last 20 lines of the .err file are automatically displayed (you can for example try to modify the previous <code>substitute()</code> to make a case crash)."
   ]
  },
  {
   "cell_type": "code",
   "execution_count": null,
   "id": "e3f30c59",
   "metadata": {
    "scrolled": true
   },
   "outputs": [],
   "source": [
    "# Method to run the test cases\n",
    "run.runCases()\n",
    "# The 'verbose' option displays the output of TRUST\n",
    "# This is usually not wanted because it is already in the terminal\n",
    "#run.runCases(verbose=True)\n",
    "# The 'preventConcurrent=True' option ensures that the cases will be executed in the order\n",
    "# in which they have been registered. Otherwise, if the Sserver is active, it will be automatically used.\n",
    "#run.runCases(preventConcurrent=True)"
   ]
  },
  {
   "cell_type": "markdown",
   "id": "3ec32c05",
   "metadata": {},
   "source": [
    "The dataset can be displayed with:"
   ]
  },
  {
   "cell_type": "code",
   "execution_count": null,
   "id": "159204c6",
   "metadata": {},
   "outputs": [],
   "source": [
    "casS.dumpDataset([\"dom\"])  # highlighting a specific word"
   ]
  },
  {
   "cell_type": "markdown",
   "id": "77ef217f",
   "metadata": {},
   "source": [
    "The method dumpDataset is specific to the file \\*.data, to display a general file, we will use the method:"
   ]
  },
  {
   "cell_type": "code",
   "execution_count": null,
   "id": "1535b8a7",
   "metadata": {},
   "outputs": [],
   "source": [
    "#run.dumpData('file_name',list_keywords=[ ])"
   ]
  },
  {
   "cell_type": "markdown",
   "id": "d92765af",
   "metadata": {},
   "source": [
    "And finally we can display the performance table for all executed test cases:"
   ]
  },
  {
   "cell_type": "code",
   "execution_count": null,
   "id": "favorite-sullivan",
   "metadata": {},
   "outputs": [],
   "source": [
    "# Methods to display the performance table\n",
    "run.tablePerf()"
   ]
  },
  {
   "cell_type": "markdown",
   "id": "9a606bc3",
   "metadata": {},
   "source": [
    "### Additional functions"
   ]
  },
  {
   "cell_type": "markdown",
   "id": "454228d3",
   "metadata": {},
   "source": [
    "The MEDCoupling environment can be automatically loaded with: "
   ]
  },
  {
   "cell_type": "code",
   "execution_count": null,
   "id": "ad90d59a",
   "metadata": {},
   "outputs": [],
   "source": [
    "run.useMEDCoupling()\n",
    "# Let's test it!\n",
    "import medcoupling as mc\n",
    "print(mc.DataArrayDouble([1,2,3]))"
   ]
  },
  {
   "cell_type": "markdown",
   "id": "c45217a4",
   "metadata": {},
   "source": [
    "Some additional script or a shell command can be executed from the notebook"
   ]
  },
  {
   "cell_type": "code",
   "execution_count": null,
   "id": "b9e80442",
   "metadata": {},
   "outputs": [],
   "source": [
    "run.executeScript(\"calcul_nb_mailles\")\n",
    "run.executeCommand(\"cat nb_mailles\")"
   ]
  },
  {
   "cell_type": "markdown",
   "id": "accessory-onion",
   "metadata": {},
   "source": [
    "## jupyter.plot module "
   ]
  },
  {
   "cell_type": "markdown",
   "id": "fd9f2aa5",
   "metadata": {},
   "source": [
    "### Graph\n",
    "\n",
    "This module allows to display curves and other graphs from the TRUST probe and output files. It is based on matplotlib. "
   ]
  },
  {
   "cell_type": "code",
   "execution_count": null,
   "id": "inside-slovakia",
   "metadata": {
    "scrolled": false,
    "tags": []
   },
   "outputs": [],
   "source": [
    "from trustutils import plot\n",
    "import numpy as np\n",
    "\n",
    "# Simple graph from point probe\n",
    "Graph=plot.Graph(\"Point Probe\",size=[15,8])\n",
    "Graph.addPoint(\"fine/diffusion_SONDE.son\")\n",
    "\n",
    "# More complex graph\n",
    "Graph=plot.Graph(\"Titre 2\",size=[15,8])\n",
    "Graph.addPoint(\"coarse/diffusion_SONDE.son\",label=\"Name\",color=\"r\",marker=\"--\")\n",
    "Graph.addPoint(\"fine/diffusion_SONDE.son\",label=\"Name\",color=\"g\",marker=\"-.\")\n",
    "\n",
    "# To add any curve, use the \"add\" method. \n",
    "x=np.linspace(0,2,100)\n",
    "y=-100*(x-1)*(x-1)+4\n",
    "Graph.add(x,y,label=\"Plot\")\n",
    "\n",
    "# The functions add, addPoint and addSegment take as options \n",
    "# the arguments of matplotlib.pyplot.plot\n",
    "y = np.exp(x)\n",
    "Graph.add(x,y,label=\"exp\",linewidth=3.,marker='s',mfc='none')\n",
    "\n",
    "# The legend function takes the arguments of matplotlib.pyplot.legend\n",
    "Graph.legend(loc='upper center', bbox_to_anchor=(0.5, -0.1),\n",
    "          fancybox=True, shadow=True, ncol=2)\n",
    "\n",
    "# Method to change the axis titles.\n",
    "Graph.label(\"x\",\"y\")\n",
    "\n",
    "# Method to frame the plot.\n",
    "# All parameters are not mandatory:\n",
    "Graph.visu(xmin=0,xmax=1.5,ymin=0,ymax=3)"
   ]
  },
  {
   "cell_type": "code",
   "execution_count": null,
   "id": "b9e5a54a",
   "metadata": {},
   "outputs": [],
   "source": [
    "from trustutils import plot\n",
    "import numpy as np\n",
    "\n",
    "# To plot the variables of the segment type probes at a given time (by default, at the last time step), \n",
    "# the graph displays the closest value in the probe file. \n",
    "# The compo keyword corresponds to the index to plot for a field with several dimensions (e.g. speed)\n",
    "Graph=plot.Graph(\"Segment probe\",size=[15,8])\n",
    "Graph.addSegment(\"grad_u_transpose_3d_SONDE_V.son\",time=0.,compo=1)\n",
    "\n",
    "# it is possible to add a function Y=f(X,Y) in addSegment and addPoint (can allow to calculate for example an error)\n",
    "\n",
    "def substraction(x,y):\n",
    "    return y - np.sin(np.pi*x)\n",
    "\n",
    "Graph.addSegment(\"fine/diffusion_TEMPERATURE_X.son\",compo=0,label='segment probe',func=substraction)\n",
    "\n",
    "# Residuals Plot\n",
    "Graph=plot.Graph(\"Residuals\",size=[15,8])\n",
    "Graph.addResidu(\"fine/diffusion.dt_ev\",label=\"Residuals\")\n",
    "\n",
    "# Method to change the axis scales\n",
    "Graph.scale(yscale='log')"
   ]
  },
  {
   "cell_type": "code",
   "execution_count": null,
   "id": "cubic-distributor",
   "metadata": {
    "scrolled": false
   },
   "outputs": [],
   "source": [
    "from trustutils import plot\n",
    "import numpy as np \n",
    "\n",
    "# We can arrange plots disposition with indice variable\n",
    "Graph=plot.Graph(title=\"Multiplot\",subtitle=\"coarse probe\",nX=2,nY=2)\n",
    "Graph.addPoint(\"coarse/diffusion_SONDE.son\")\n",
    "\n",
    "Graph.addPlot([1,0],\"fine probe\")\n",
    "Graph.addPoint(\"fine/diffusion_SONDE.son\") \n",
    "\n",
    "Graph.addPlot([0,1])\n",
    "x=np.linspace(-1,1,100)\n",
    "y=-x*x+10\n",
    "Graph.add(x,y,label=\"Plot\",title=\"Fonction\",xIndice=0,yIndice=1)\n"
   ]
  },
  {
   "cell_type": "markdown",
   "id": "916a3474",
   "metadata": {},
   "source": [
    "### Writing in a table"
   ]
  },
  {
   "cell_type": "code",
   "execution_count": null,
   "id": "49196963",
   "metadata": {},
   "outputs": [],
   "source": [
    "from trustutils import plot\n",
    "a = plot.Table([\"mesh number\", r\"time\", r\"$L_{inf}$(error)\"])\n",
    "\n",
    "# If you want to load a file similar to a text file, \n",
    "# you can use the method plot.loadText(\"direction_of_file.txt\")\n",
    "nb_maille = plot.loadText(\"nb_mailles\", index_column=1, nb_column=1, dtype=\"str\", transpose=True)\n",
    "\n",
    "data = plot.loadText(\"coarse/diffusion_NORME_LINF.son\", skiprows=0)\n",
    "a.addLigne([[nb_maille[0][1],data[0][-1],data[1][-1]]],\"coarse\")\n",
    "\n",
    "data = plot.loadText(\"fine/diffusion_NORME_LINF.son\")\n",
    "a.addLigne([[nb_maille[0][2],data[0][-1],data[1][-1]]],\"intermediary\")\n",
    "\n",
    "data = plot.loadText(\"fine/diffusion_NORME_LINF.son\")\n",
    "a.addLigne([[nb_maille[0][3],data[0][-1],data[1][-1]]],\"fine\")\n",
    "\n",
    "\n",
    "display(a)"
   ]
  },
  {
   "cell_type": "markdown",
   "id": "large-colony",
   "metadata": {},
   "source": [
    "## Visitutils function\n",
    "\n",
    "Visitutils is a module whose purpose is to help the user to obtain VisIt plots (2D or 3D results)."
   ]
  },
  {
   "cell_type": "code",
   "execution_count": null,
   "id": "arbitrary-basket",
   "metadata": {
    "scrolled": false,
    "tags": []
   },
   "outputs": [],
   "source": [
    "from trustutils import visit\n",
    "\n",
    "# Simple command to visualize a field or mesh\n",
    "visit.showField(\"fine/diffusion.lata\",\"Pseudocolor\",\"TEMPERATURE_ELEM_dom\",plotmesh=False)\n",
    "visit.showMesh(\"fine/diffusion.lata\",\"dom\")"
   ]
  },
  {
   "cell_type": "code",
   "execution_count": null,
   "id": "dad25bd3",
   "metadata": {},
   "outputs": [],
   "source": [
    "# Use Show class to apply more options\n",
    "\n",
    "fig=visit.Show(\"fine/diffusion.lata\",\"Pseudocolor\",\"TEMPERATURE_SOM_dom\")\n",
    "fig.addField(\"fine/diffusion.lata\",\"Pseudocolor\",\"ERREUR_T_ELEM_dom\")\n",
    "# to visualize probes\n",
    "fig.checkProbe(\"fine/diffusion_TEMPERATURE_DIAG.son\",sizePoint=10,color=\"black\")\n",
    "\n",
    "# to add a list of viewing options\n",
    "fig.visuOptions(['no_databaseinfo','no_legend'])\n",
    "\n",
    "# To display the visu with the initialization visit.Show()\n",
    "fig.plot()"
   ]
  },
  {
   "cell_type": "code",
   "execution_count": null,
   "id": "interstate-environment",
   "metadata": {
    "scrolled": false,
    "tags": []
   },
   "outputs": [],
   "source": [
    "from trustutils import visit\n",
    "\n",
    "# Square Multiplot\n",
    "fig=visit.Show(\"fine/diffusion.lata\",\"Pseudocolor\",\"TEMPERATURE_SOM_dom\",plotmesh=False,title=\"multiplot\",nY=2,nX=2)\n",
    "fig.add(\"fine/diffusion.lata\",\"Mesh\",\"dom\",xIndice=0,yIndice=1)\n",
    "fig.add(\"coarse/diffusion.lata\",\"Pseudocolor\",\"TEMPERATURE_SOM_dom\",plotmesh=False,xIndice=1,yIndice=0)\n",
    "fig.add(\"coarse/diffusion.lata\",\"Mesh\",\"dom\",xIndice=1,yIndice=1)\n",
    "fig.plot()"
   ]
  },
  {
   "cell_type": "code",
   "execution_count": null,
   "id": "2ab1dd38",
   "metadata": {},
   "outputs": [],
   "source": [
    "from trustutils import plot, visit \n",
    "\n",
    "# class export_lata_base to export profile or fields from lata files.\n",
    "tmp=visit.export_lata_base(\"fine/diffusion.lata\",\"Pseudocolor\",\"ERREUR_T_ELEM_dom\",\"fine\")\n",
    "tmp.maximun() # register value in Maxfine file\n",
    "tmp=visit.export_lata_base(\"coarse/diffusion.lata\",\"Pseudocolor\",\"ERREUR_T_ELEM_dom\",\"coarse\")\n",
    "tmp.maximun()  \n",
    "\n",
    "MaxFine   =plot.loadText(\"Maxfine\"   )\n",
    "MaxCoarse =plot.loadText(\"Maxcoarse\")\n",
    "\n",
    "columns=[\"Max Error\"]\n",
    "t=plot.Table(columns)      \n",
    "t.addLigne([[MaxFine]],\"fine\")    \n",
    "t.addLigne([[MaxCoarse]],\"coarse\")    \n",
    "display(t)"
   ]
  },
  {
   "cell_type": "code",
   "execution_count": null,
   "id": "f02e1cf4",
   "metadata": {
    "scrolled": false
   },
   "outputs": [],
   "source": [
    "# 3D Case\n",
    "from trustutils import visit\n",
    "\n",
    "# option time to select the frame we want to plot\n",
    "fig=visit.Show(\"./grad_u_transpose_3d.lata\", \"Mesh\", \"dom\", plotmesh=True,nY=2,time=0,title=\"Mesh\")\n",
    "# Possibility to vary the perspective with rotation3D, normal3D, up3D, zoom3D and zoom2D\n",
    "fig.rotation3D([45,45,45])\n",
    "fig.visuOptions([\"no_axes\",\"no_bounding_box\",\"no_triad\"])\n",
    "\n",
    "# Zoom on the perpective and min, max value options\n",
    "fig.add(\"./grad_u_transpose_3d.lata\", \"Pseudocolor\", \"PRESSION_PA_ELEM_dom\",plotmesh=True,min=5.,max=6.3,yIndice=1,title=\"Zoom\")\n",
    "fig.normal3D([0.5,0.5,0.5])\n",
    "fig.up3D([0,0,1])\n",
    "fig.zoom3D([0.,0.,1.5])\n",
    "fig.plot()\n"
   ]
  },
  {
   "cell_type": "code",
   "execution_count": null,
   "id": "9baff76c",
   "metadata": {
    "scrolled": false
   },
   "outputs": [],
   "source": [
    "fig=visit.Show(\"./grad_u_transpose_3d.lata\", \"Pseudocolor\", \"PRESSION_PA_ELEM_dom\",time=0,plotmesh=True)\n",
    "fig.addField(\"./grad_u_transpose_3d.lata\", \"Vector\", \"VITESSE_SOM_dom\",plotmesh=True)\n",
    "fig.rotation3D([45,45,45])\n",
    "\n",
    "# Available Options\n",
    "fig.blackVector()\n",
    "fig.meshColor(\"red\")\n",
    "\n",
    "fig.plot()\n",
    "\n",
    "fig = visit.Show(\"./grad_u_transpose_3d.lata\", \"Contour\", \"PRESSION_PA_ELEM_dom\",title=\"Isovalues\")\n",
    "fig.rotation3D([45,45,45])\n",
    "fig.meshTrans()\n",
    "# Reproduction of visit commands\n",
    "fig.visitCommand(\"ContourAtts = ContourAttributes()\")\n",
    "fig.visitCommand(\"ContourAtts.lineWidth = 2\")\n",
    "fig.visitCommand(\"ContourAtts.wireframe = 1\")\n",
    "fig.visitCommand(\"ContourAtts.contourNLevels = 15\")\n",
    "fig.visitCommand(\"SetPlotOptions(ContourAtts)\")\n",
    "\n",
    "fig.plot()\n",
    "\n",
    "# It is also possible to use the option empty=True to build on an initially empty base\n",
    "a=visit.Show(empty=True,title=\"slice2D\")\n",
    "a.visitCommand(\"OpenDatabase('grad_u_transpose_3d.lata', 0)\")\n",
    "a.visitCommand(\"DefineVectorExpression('v_proj_obli45', '{VITESSE_X_SOM_dom/2+VITESSE_Z_SOM_dom/2,VITESSE_Y_SOM_dom,VITESSE_X_SOM_dom/2+VITESSE_Z_SOM_dom/2}')\")\n",
    "a.visitCommand(\"AddPlot('Vector', 'v_proj_obli45', 1, 0)\")\n",
    "\n",
    "# Formation of a slice2D\n",
    "a.slice(origin=[0,0,0],normal=[1,1,1.],type_op='slice2d')\n",
    "a.visitCommand(\"VectorAtts = VectorAttributes()\")\n",
    "a.visitCommand(\"VectorAtts.useStride = 1\")\n",
    "a.visitCommand(\"VectorAtts.stride = 1\")\n",
    "a.visitCommand(\"VectorAtts.autoScale = 0\")\n",
    "a.visitCommand(\"VectorAtts.scale = 0.3\")\n",
    "a.visitCommand(\"SetPlotOptions(VectorAtts)\")\n",
    "a.visitCommand(\"DrawPlots()\")\n",
    "a.plot()\n"
   ]
  },
  {
   "cell_type": "markdown",
   "id": "595dad55",
   "metadata": {},
   "source": [
    "In case of difficulty, the cli (Command Line Interface) command history of a visu is saved in the file tmp_visit.py and can be replayed with <code>visit -cli -s tmp_visit.py</code>"
   ]
  },
  {
   "cell_type": "markdown",
   "id": "competent-actor",
   "metadata": {},
   "source": [
    "## Jupyter-Widget Function \n",
    "\n",
    "<code>trustutils.widget</code> is a module that allows you to create an interactive widget in the notebook.\n",
    "\n",
    "This can typically be used to fine-tune a visualization. Once all the parameters are set, we can keep in the final notebook only the corresponding <code>visit.Show</code> command to lighten the form (less heavy than the widget, and more portable)."
   ]
  },
  {
   "cell_type": "code",
   "execution_count": null,
   "id": "cosmetic-vegetable",
   "metadata": {
    "scrolled": false,
    "tags": []
   },
   "outputs": [],
   "source": [
    "# To be used only for the finalization of the form, not for its final version!\n",
    "from trustutils import widget\n",
    "\n",
    "# alpha Version\n",
    "widget.interface(\"./grad_u_transpose_3d.lata\",\"Pseudocolor\",\"PRESSION_PA_ELEM_dom\") "
   ]
  }
 ],
 "metadata": {
  "kernelspec": {
   "display_name": "Python 3 (ipykernel)",
   "language": "python",
   "name": "python3"
  },
  "language_info": {
   "codemirror_mode": {
    "name": "ipython",
    "version": 3
   },
   "file_extension": ".py",
   "mimetype": "text/x-python",
   "name": "python",
   "nbconvert_exporter": "python",
   "pygments_lexer": "ipython3",
   "version": "3.7.9"
  },
  "toc-autonumbering": true
 },
 "nbformat": 4,
 "nbformat_minor": 5
}
