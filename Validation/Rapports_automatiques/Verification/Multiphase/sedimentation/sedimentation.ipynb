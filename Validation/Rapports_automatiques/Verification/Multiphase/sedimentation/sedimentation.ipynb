{
 "cells": [
  {
   "cell_type": "markdown",
   "id": "gross-patent",
   "metadata": {},
   "source": [
    "# Sedimentation"
   ]
  },
  {
   "cell_type": "code",
   "execution_count": null,
   "id": "91dc3bba",
   "metadata": {},
   "outputs": [],
   "source": [
    "from trustutils.jupyter import run\n",
    "\n",
    "run.introduction(\"A. Gerschenfeld, Y. Gorsse\")\n",
    "\n",
    "run.TRUST_parameters()"
   ]
  },
  {
   "cell_type": "markdown",
   "id": "7efc93bb",
   "metadata": {},
   "source": [
    "### Description: \n",
    "\n",
    "Cas tests de sedimentation. Etat initial melange, et separation des phases par gravite."
   ]
  },
  {
   "cell_type": "code",
   "execution_count": null,
   "id": "15189bb2-352d-48f9-85fa-64c4323e0f88",
   "metadata": {},
   "outputs": [],
   "source": [
    "import os\n",
    "from string import Template\n",
    "run.useMEDCoupling()\n",
    "import medcoupling as mc\n",
    "\n",
    "meshes_dir = os.environ[\"TRUST_ROOT\"] + \"/Validation/Rapports_automatiques/Verification/PolyMAC/share/meshes\"\n",
    "\n",
    "cases = {(\"Cartesian\", 4) : [\"PolyMAC_P0\", \"VDF\"], (\"Triangles\", 3) : [\"PolyMAC_P0\"], (\"Quadrangles\", 3) : [\"PolyMAC_P0\"], (\"Locally_Refined\", 3) : [\"PolyMAC_P0\"]}\n",
    "virtual_mass = { \"no_vm\" : \" \", \"vm\" : \" masse_ajoutee coef_constant { beta 0.5 } \" }\n",
    "run.reset()\n",
    "run.initBuildDirectory()\n",
    "\n",
    "for (case, n_mesh), diss in cases.items():\n",
    "    for dis in diss:\n",
    "        for (vm, string_vm) in virtual_mass.items() :\n",
    "            os.system(f\"mkdir -p {run.BUILD_DIRECTORY}/{case}/{dis}/{vm}\")\n",
    "            with open(f\"{run.BUILD_DIRECTORY}/sep.data\", \"r\") as file: filedata = Template(file.read())\n",
    "            result = filedata.substitute({\"dis\" : dis, \"virtual_mass\" : string_vm})\n",
    "            with open(f\"{run.BUILD_DIRECTORY}/{case}/{dis}/{vm}/jdd.data\", \"w\") as file: file.write(result)\n",
    "            if not dis.startswith(\"Poly\"):\n",
    "                os.system(f\"gunzip -c {meshes_dir}/{case}/jdd_{n_mesh}/mesh.med.gz >{run.BUILD_DIRECTORY}/{case}/{dis}/{vm}/mesh.med\")\n",
    "                meshname = f\"{run.BUILD_DIRECTORY}/{case}/{dis}/{vm}/mesh.med\"\n",
    "                mfum = mc.MEDFileUMesh(meshname)\n",
    "                mfum.getMeshAtLevel(0).unPolyze()\n",
    "                mfum.write(meshname, 2)\n",
    "            else: os.system(f\"gunzip -c {meshes_dir}/{case}/jdd_{n_mesh}/mesh.med.gz >{run.BUILD_DIRECTORY}/{case}/{dis}/{vm}/mesh.med\")\n",
    "\n",
    "            run.addCase(f\"{case}/{dis}/{vm}\" ,\"jdd.data\")\n",
    "\n",
    "run.printCases()\n",
    "run.runCases()\n",
    "run.tablePerf()"
   ]
  },
  {
   "cell_type": "markdown",
   "id": "2b813f3c-e933-430b-baf7-769736e8fffd",
   "metadata": {},
   "source": [
    "## Resultats"
   ]
  },
  {
   "cell_type": "code",
   "execution_count": null,
   "id": "025147b0",
   "metadata": {},
   "outputs": [],
   "source": [
    "from trustutils import plot\n",
    "\n",
    "times = [1.0, 2.0, 4.0, 7.0, 10.0]\n",
    "\n",
    "for (case, _), diss in cases.items():\n",
    "    for dis in diss:\n",
    "        for vm in virtual_mass.keys() :\n",
    "            a = plot.Graph(f\"{case} - {dis} - {vm}\", nY=2)\n",
    "            for t in times:\n",
    "                a.addPlot(0, \"Alpha\")\n",
    "                a.addSegment(f\"{case}/{dis}/{vm}/jdd_ALPHA.son\", time=t, label=f\"t={t}s\")\n",
    "                a.label(\"y [m]\",\"alpha [-]\")\n",
    "                a.visu(0,1,0,1)\n",
    "\n",
    "                a.addPlot(1, \"Vg\")\n",
    "                a.addSegment(f\"{case}/{dis}/{vm}/jdd_PROFIL_VG.son\", compo=1, time=t, label=f\"t={t}s\")\n",
    "                a.label(\"y [m]\",\"vg [m/s]\")\n",
    "                a.visu(0,1,-0.2,0.2)\n"
   ]
  },
  {
   "cell_type": "code",
   "execution_count": null,
   "id": "c05e6121",
   "metadata": {},
   "outputs": [],
   "source": []
  }
 ],
 "metadata": {},
 "nbformat": 4,
 "nbformat_minor": 5
}
