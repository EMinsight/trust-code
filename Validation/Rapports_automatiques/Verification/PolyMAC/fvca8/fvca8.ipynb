{
 "cells": [
  {
   "cell_type": "markdown",
   "id": "specific-processing",
   "metadata": {
    "jupyter": {
     "outputs_hidden": true
    },
    "tags": []
   },
   "source": [
    "# Benchmark FVCA8"
   ]
  },
  {
   "cell_type": "code",
   "execution_count": null,
   "id": "b5da250c",
   "metadata": {},
   "outputs": [],
   "source": [
    "from trustutils import run \n",
    "\n",
    "run.introduction(\"A. Gerschenfeld, Y. Gorsse\")\n",
    "run.description(\"Cas tests de Stokes 2D sur les maillages FVCA8, et Navier-Stokes 3D sur maillages FVCA8-3D et FVCA6-3D.\")\n",
    "run.TRUST_parameters()"
   ]
  },
  {
   "cell_type": "code",
   "execution_count": null,
   "id": "24f132cf-441d-4152-8140-41b97c656adf",
   "metadata": {},
   "outputs": [],
   "source": [
    "from trustutils import run \n",
    "\n",
    "dico_meshes_2D = {\n",
    "    \"Cartesian\":[1,2,3,4,5,6,7], \n",
    "    \"Locally_Refined\":[1,2,3,4,5,6],\n",
    "    \"Quadrangles\":[1,2,3,4,5,6],\n",
    "    \"Triangles\":[1,2,3,4,5],\n",
    "}\n",
    "\n",
    "for m in dico_meshes_2D.keys():\n",
    "    for i in dico_meshes_2D[m]:\n",
    "        run.addCase(\"./%s/jdd_%d\" % (m, i), \"cas.data\", nbProcs=1)\n",
    "        \n",
    "dico_meshes_3D = {\n",
    "    \"Voronoi\":[1], \n",
    "    \"Prism\":[1],\n",
    "    \"Hexa\":[1],\n",
    "    \"Tetra\":[1],\n",
    "    \"PrismHexa\":[1],\n",
    "    \"Kershaw\":[1],\n",
    "    \"LocRaf\":[1],\n",
    "    \"Random\":[1],\n",
    "    \"CheckerBoard\":[1],\n",
    "}\n",
    "\n",
    "for m in dico_meshes_3D.keys():\n",
    "    for i in dico_meshes_3D[m]:\n",
    "        run.addCase(\"./%s/jdd_%d\" % (m, i), \"cas.data\", nbProcs=1)\n",
    "\n",
    "\n",
    "run.printCases()\n",
    "run.runCases()"
   ]
  },
  {
   "cell_type": "markdown",
   "id": "spatial-louis",
   "metadata": {},
   "source": [
    "## Stokes stationnaire 2D: Bercovier-Engelman."
   ]
  },
  {
   "cell_type": "code",
   "execution_count": null,
   "id": "obvious-photographer",
   "metadata": {},
   "outputs": [],
   "source": [
    "from trustutils import visit\n",
    "plot=visit.Show(\"Triangles/jdd_1/cas.lata\",field=\"Mesh\",name=\"dom\",nX=2,nY=2) \n",
    "plot.add(\"Quadrangles/jdd_1/cas.lata\",field=\"Mesh\",name=\"dom\",xIndice=0,yIndice=1) \n",
    "plot.add(\"Cartesian/jdd_1/cas.lata\",field=\"Mesh\",name=\"dom\",xIndice=1,yIndice=0) \n",
    "plot.add(\"Locally_Refined/jdd_1/cas.lata\",field=\"Mesh\",name=\"dom\",xIndice=1,yIndice=1) \n",
    "plot.plot()"
   ]
  },
  {
   "cell_type": "markdown",
   "id": "extreme-thompson",
   "metadata": {},
   "source": [
    "### Ordres de convergence vitesse"
   ]
  },
  {
   "cell_type": "code",
   "execution_count": null,
   "id": "43b0833a",
   "metadata": {},
   "outputs": [],
   "source": [
    "run.executeScript(\"extract_convergence\")"
   ]
  },
  {
   "cell_type": "code",
   "execution_count": null,
   "id": "f6e8a18d-95c1-4ccb-9c0e-5769bb94e8a4",
   "metadata": {},
   "outputs": [],
   "source": [
    "from trustutils import plot\n",
    "import numpy as np\n",
    "\n",
    "a=plot.Graph(\"Ordres de convergence vitesse\")\n",
    "\n",
    "data=plot.loadText(\"Triangles/conv_glob_v\")\n",
    "a.add(1/np.sqrt(data[0]),data[1],label=\"Triangles\",marker='-|')\n",
    "\n",
    "data=plot.loadText(\"Quadrangles/conv_glob_v\")\n",
    "a.add(1/np.sqrt(data[0]),data[1],label=\"Quadrangles\",marker='-x')\n",
    "\n",
    "data=plot.loadText(\"Cartesian/conv_glob_v\")\n",
    "a.add(1/np.sqrt(data[0]),data[1],label=\"Cartesian\",marker='-*')\n",
    "\n",
    "data=plot.loadText(\"Locally_Refined/conv_glob_v\")\n",
    "a.add(1/np.sqrt(data[0]),data[1],label=\"Locally_Refined\",marker='-s',markerfacecolor='None')\n",
    "\n",
    "x=np.linspace(0.001,0.15811388,10)\n",
    "y=x\n",
    "a.add(x,y,label=\"Order 1\")\n",
    "\n",
    "y=x*x\n",
    "a.add(x,y,label=\"Order 2\")\n",
    "\n",
    "a.label(\"N\",\"erreur_max\")\n",
    "a.scale(xscale='log',yscale='log')\n"
   ]
  },
  {
   "cell_type": "markdown",
   "id": "forward-warrior",
   "metadata": {},
   "source": [
    "### Ordres de convergence pression"
   ]
  },
  {
   "cell_type": "code",
   "execution_count": null,
   "id": "727e27e3-e740-4090-9ab5-8aea4ba206c1",
   "metadata": {},
   "outputs": [],
   "source": [
    "a=plot.Graph(\"Ordres de convergence pression\")\n",
    "\n",
    "data=plot.loadText(\"Triangles/conv_glob_p\")\n",
    "a.add(1/np.sqrt(data[0]),data[1],label=\"Triangles\",marker='-|')\n",
    "\n",
    "data=plot.loadText(\"Quadrangles/conv_glob_p\")\n",
    "a.add(1/np.sqrt(data[0]),data[1],label=\"Quadrangles\",marker='-x')\n",
    "\n",
    "data=plot.loadText(\"Cartesian/conv_glob_p\")\n",
    "a.add(1/np.sqrt(data[0]),data[1],label=\"Cartesian\",marker='-*')\n",
    "\n",
    "data=plot.loadText(\"Locally_Refined/conv_glob_p\")\n",
    "a.add(1/np.sqrt(data[0]),data[1],label=\"Locally_Refined\",marker='-s',markerfacecolor='None')\n",
    "\n",
    "x=np.linspace(0.001,0.2,10)\n",
    "y=x\n",
    "a.add(x,y,label=\"Order 1\")\n",
    "\n",
    "y=x*x\n",
    "a.add(x,y,label=\"Order 2\")\n",
    "\n",
    "a.label(\"N\",\"erreur_max\")\n",
    "a.scale(xscale='log',yscale='log')"
   ]
  },
  {
   "cell_type": "markdown",
   "id": "public-theme",
   "metadata": {},
   "source": [
    "## Navier-Stokes stationnaire 3D"
   ]
  },
  {
   "cell_type": "code",
   "execution_count": null,
   "id": "44fcd24c-812f-4e4d-839b-c8dc135277e4",
   "metadata": {},
   "outputs": [],
   "source": [
    "from trustutils import visit\n",
    "a=visit.Show(\"Voronoi/jdd_1/cas.lata\",field=\"Mesh\",name=\"dom\",nX=3,nY=3)\n",
    "a.add(\"Prism/jdd_1/cas.lata\",field=\"Mesh\",name=\"dom\",xIndice=0,yIndice=1) \n",
    "a.add(\"Hexa/jdd_1/cas.lata\",field=\"Mesh\",name=\"dom\",xIndice=0,yIndice=2)\n",
    "a.add(\"Tetra/jdd_1/cas.lata\",field=\"Mesh\",name=\"dom\",xIndice=1,yIndice=0)   \n",
    "a.add(\"PrismHexa/jdd_1/cas.lata\",field=\"Mesh\",name=\"dom\",xIndice=1,yIndice=1) \n",
    "a.add(\"Kershaw/jdd_1/cas.lata\",field=\"Mesh\",name=\"dom\",xIndice=1,yIndice=2)\n",
    "a.add(\"LocRaf/jdd_1/cas.lata\",field=\"Mesh\",name=\"dom\",xIndice=2,yIndice=0)   \n",
    "a.add(\"Random/jdd_1/cas.lata\",field=\"Mesh\",name=\"dom\",xIndice=2,yIndice=1) \n",
    "a.add(\"CheckerBoard/jdd_1/cas.lata\",field=\"Mesh\",name=\"dom\",xIndice=2,yIndice=2)\n",
    "a.plot()"
   ]
  },
  {
   "cell_type": "markdown",
   "id": "particular-split",
   "metadata": {},
   "source": [
    "### Ordres de convergence vitesse"
   ]
  },
  {
   "cell_type": "code",
   "execution_count": null,
   "id": "6bcfc732-df75-4ffc-9271-d7ff902360c2",
   "metadata": {},
   "outputs": [],
   "source": [
    "a=plot.Graph(\"Ordres de convergence vitesse\")\n",
    "\n",
    "data=plot.loadText(\"Voronoi/conv_glob_v\")\n",
    "a.add(1/data[0]**(1./3),data[1],label=\"Voronoi\",marker='-|')\n",
    "\n",
    "data=plot.loadText(\"Prism/conv_glob_v\")\n",
    "a.add(1/data[0]**(1./3),data[1],label=\"Prism\",marker='-x')\n",
    "\n",
    "data=plot.loadText(\"Hexa/conv_glob_v\")\n",
    "a.add(1/data[0]**(1./3),data[1],label=\"Hexa\",marker='-*')\n",
    "\n",
    "data=plot.loadText(\"Tetra/conv_glob_v\")\n",
    "a.add(1/data[0]**(1./3),data[1],label=\"Tetra\",marker='-s',markerfacecolor='None')\n",
    "\n",
    "data=plot.loadText(\"PrismHexa/conv_glob_v\")\n",
    "a.add(1/data[0]**(1./3),data[1],label=\"PrismHexa\",marker='-s')\n",
    "\n",
    "data=plot.loadText(\"Kershaw/conv_glob_v\")\n",
    "a.add(1/data[0]**(1./3),data[1],label=\"Kershaw\",marker='-o',markerfacecolor='None')\n",
    "\n",
    "data=plot.loadText(\"LocRaf/conv_glob_v\")\n",
    "a.add(1/data[0]**(1./3),data[1],label=\"LocRaf\",marker='-o')\n",
    "\n",
    "data=plot.loadText(\"Random/conv_glob_v\")\n",
    "a.add(1/data[0]**(1./3),data[1],label=\"Random\",marker='-D',markerfacecolor='None')\n",
    "\n",
    "data=plot.loadText(\"CheckerBoard/conv_glob_v\")\n",
    "a.add(1/data[0]**(1./3),data[1],label=\"CheckerBoard\",marker='-D')\n",
    "\n",
    "x=np.linspace(0.05330018,0.3,10)\n",
    "y=x\n",
    "a.add(x,y,label=\"Order 1\")\n",
    "\n",
    "y=x*x\n",
    "a.add(x,y,label=\"Order 2\")\n",
    "\n",
    "a.label(\"N\",\"erreur_max\")\n",
    "a.scale(xscale='log',yscale='log')"
   ]
  },
  {
   "cell_type": "markdown",
   "id": "national-bolivia",
   "metadata": {},
   "source": [
    "### Ordres de convergence pression"
   ]
  },
  {
   "cell_type": "code",
   "execution_count": null,
   "id": "712b0a96-28f8-4f04-9f96-1ed667f81dba",
   "metadata": {},
   "outputs": [],
   "source": [
    "a=plot.Graph(\"Ordres de convergence pression\")\n",
    "\n",
    "data=plot.loadText(\"Voronoi/conv_glob_p\")\n",
    "a.add(1/data[0]**(1./3),data[1],label=\"Voronoi\",marker='-|')\n",
    "\n",
    "data=plot.loadText(\"Prism/conv_glob_p\")\n",
    "a.add(1/data[0]**(1./3),data[1],label=\"Prism\",marker='-x')\n",
    "\n",
    "data=plot.loadText(\"Hexa/conv_glob_p\")\n",
    "a.add(1/data[0]**(1./3),data[1],label=\"Hexa\",marker='-*')\n",
    "\n",
    "data=plot.loadText(\"Tetra/conv_glob_p\")\n",
    "a.add(1/data[0]**(1./3),data[1],label=\"Tetra\",marker='-s',markerfacecolor='None')\n",
    "\n",
    "data=plot.loadText(\"PrismHexa/conv_glob_p\")\n",
    "a.add(1/data[0]**(1./3),data[1],label=\"PrismHexa\",marker='-s')\n",
    "\n",
    "data=plot.loadText(\"Kershaw/conv_glob_p\")\n",
    "a.add(1/data[0]**(1./3),data[1],label=\"Kershaw\",marker='-o',markerfacecolor='None')\n",
    "\n",
    "data=plot.loadText(\"LocRaf/conv_glob_p\")\n",
    "a.add(1/data[0]**(1./3),data[1],label=\"LocRaf\",marker='-o')\n",
    "\n",
    "data=plot.loadText(\"Random/conv_glob_p\")\n",
    "a.add(1/data[0]**(1./3),data[1],label=\"Random\",marker='-D',markerfacecolor='None')\n",
    "\n",
    "data=plot.loadText(\"CheckerBoard/conv_glob_p\")\n",
    "a.add(1/data[0]**(1./3),data[1],label=\"CheckerBoard\",marker='-D')\n",
    "\n",
    "x=np.linspace(0.05330018,0.8,10)\n",
    "y=x\n",
    "a.add(x,y,label=\"Order 1\")\n",
    "\n",
    "y=x*x\n",
    "a.add(x,y,label=\"Order 2\")\n",
    "\n",
    "a.label(\"N\",\"erreur_max\")\n",
    "a.scale(xscale='log',yscale='log')"
   ]
  }
 ],
 "metadata": {
  "kernelspec": {
   "display_name": "Python 3 (ipykernel)",
   "language": "python",
   "name": "python3"
  },
  "language_info": {
   "codemirror_mode": {
    "name": "ipython",
    "version": 3
   },
   "file_extension": ".py",
   "mimetype": "text/x-python",
   "name": "python",
   "nbconvert_exporter": "python",
   "pygments_lexer": "ipython3",
   "version": "3.7.9"
  }
 },
 "nbformat": 4,
 "nbformat_minor": 5
}
