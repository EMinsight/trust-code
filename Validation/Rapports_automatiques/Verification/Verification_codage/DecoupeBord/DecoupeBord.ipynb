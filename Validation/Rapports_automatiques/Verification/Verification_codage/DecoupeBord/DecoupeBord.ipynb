{
 "cells": [
  {
   "cell_type": "markdown",
   "id": "inappropriate-lingerie",
   "metadata": {},
   "source": [
    "# HowTo: split a mesh boundary"
   ]
  },
  {
   "cell_type": "code",
   "execution_count": null,
   "id": "69d6d858",
   "metadata": {},
   "outputs": [],
   "source": [
    "from trustutils import run\n",
    "\n",
    "run.introduction(\"Pierre LEDAC\")\n",
    "run.description(\"\")\n",
    "run.TRUST_parameters(\"1.8.2_beta\")"
   ]
  },
  {
   "cell_type": "code",
   "execution_count": null,
   "id": "1181ad13-5719-4d65-aff3-a6f95a002976",
   "metadata": {},
   "outputs": [],
   "source": [
    "from trustutils import run \n",
    "import os\n",
    "run.addCase(\".\",\"DecoupeBord.data\")\n",
    "run.printCases()"
   ]
  },
  {
   "cell_type": "code",
   "execution_count": null,
   "id": "940478b8",
   "metadata": {},
   "outputs": [],
   "source": [
    "run.runCases()"
   ]
  },
  {
   "cell_type": "markdown",
   "id": "55ab7e2f-905c-4260-8e54-0e30f96da064",
   "metadata": {},
   "source": [
    "## Visualization"
   ]
  },
  {
   "cell_type": "markdown",
   "id": "a7e44bd2",
   "metadata": {},
   "source": [
    "### Initial mesh with one boundary for the wall"
   ]
  },
  {
   "cell_type": "code",
   "execution_count": null,
   "id": "c8f7a6e0",
   "metadata": {},
   "outputs": [],
   "source": [
    "from trustutils import visit \n",
    "\n",
    "fig=visit.Show(\"initial_dom.lata\",\"Mesh\",\"dom\")\n",
    "fig.normal3D([0.5,0.25,0.5])\n",
    "fig.zoom3D([0.2,0,0.8])\n",
    "fig.addField(\"initial_dom.lata\",\"Subset\",\"blocks(dom_boundaries/SPAROI)\")\n",
    "fig.plot()"
   ]
  },
  {
   "cell_type": "markdown",
   "id": "a866b0f6",
   "metadata": {},
   "source": [
    "### Mesh with splitted boundaries for the wall"
   ]
  },
  {
   "cell_type": "code",
   "execution_count": null,
   "id": "fee5ec6f",
   "metadata": {},
   "outputs": [],
   "source": [
    "from trustutils import visit \n",
    "\n",
    "fig=visit.Show(\"DecoupeBord.lata\",\"Mesh\",\"dom\")\n",
    "fig.visuOptions([\"no_databaseinfo\"])\n",
    "fig.normal3D([0.5,0.25,0.5])\n",
    "fig.zoom3D([0.2,0,0.8])\n",
    "\n",
    "fig.addField(\"DecoupeBord.lata\",\"Subset\",\"blocks(dom_boundaries/SPAROI%0)\")\n",
    "fig.visitCommand(\"s = SubsetAttributes()\")\n",
    "fig.visitCommand(\"s.SetMultiColor(0, (51,102,255,255))\")\n",
    "fig.visitCommand(\"SetPlotOptions(s)\")\n",
    "\n",
    "fig.addField(\"DecoupeBord.lata\",\"Subset\",\"blocks(dom_boundaries/SPAROI%1)\")\n",
    "fig.visitCommand(\"s = SubsetAttributes()\")\n",
    "fig.visitCommand(\"s.SetMultiColor(0, (255,102,255,255))\")\n",
    "fig.visitCommand(\"SetPlotOptions(s)\")\n",
    "\n",
    "fig.addField(\"DecoupeBord.lata\",\"Subset\",\"blocks(dom_boundaries/SPAROI%2)\")\n",
    "fig.visitCommand(\"s = SubsetAttributes()\")\n",
    "fig.visitCommand(\"s.SetMultiColor(0, (255,255,0,255))\")\n",
    "fig.visitCommand(\"SetPlotOptions(s)\")\n",
    "\n",
    "fig.addField(\"DecoupeBord.lata\",\"Subset\",\"blocks(dom_boundaries/SPAROI%3)\")\n",
    "fig.visitCommand(\"s = SubsetAttributes()\")\n",
    "fig.visitCommand(\"s.SetMultiColor(0, (255,255,255,255))\")\n",
    "fig.visitCommand(\"SetPlotOptions(s)\")\n",
    "\n",
    "fig.addField(\"DecoupeBord.lata\",\"Subset\",\"blocks(dom_boundaries/SPAROI%4)\")\n",
    "fig.visitCommand(\"s = SubsetAttributes()\")\n",
    "fig.visitCommand(\"s.SetMultiColor(0, (100,255,100,255))\")\n",
    "fig.visitCommand(\"SetPlotOptions(s)\")\n",
    "\n",
    "fig.addField(\"DecoupeBord.lata\",\"Subset\",\"blocks(dom_boundaries/SPAROI%5)\")\n",
    "fig.visitCommand(\"s = SubsetAttributes()\")\n",
    "fig.visitCommand(\"s.SetMultiColor(0, (55,0,155,255))\")\n",
    "fig.visitCommand(\"SetPlotOptions(s)\")\n",
    "\n",
    "fig.addField(\"DecoupeBord.lata\",\"Subset\",\"blocks(dom_boundaries/SPAROI%6)\")\n",
    "fig.visitCommand(\"s = SubsetAttributes()\")\n",
    "fig.visitCommand(\"s.SetMultiColor(0, (55,0,155,255))\")\n",
    "fig.visitCommand(\"SetPlotOptions(s)\")\n",
    "\n",
    "fig.addField(\"DecoupeBord.lata\",\"Subset\",\"blocks(dom_boundaries/SPAROI%7)\")\n",
    "fig.visitCommand(\"s = SubsetAttributes()\")\n",
    "fig.visitCommand(\"s.SetMultiColor(0, (100,255,0,255))\")\n",
    "fig.visitCommand(\"SetPlotOptions(s)\")\n",
    "\n",
    "fig.addField(\"DecoupeBord.lata\",\"Subset\",\"blocks(dom_boundaries/SPAROI%8)\")\n",
    "fig.visitCommand(\"s = SubsetAttributes()\")\n",
    "fig.visitCommand(\"s.SetMultiColor(0, (100,12,100,255))\")\n",
    "fig.visitCommand(\"SetPlotOptions(s)\")\n",
    "\n",
    "fig.addField(\"DecoupeBord.lata\",\"Subset\",\"blocks(dom_boundaries/SPAROI%9)\")\n",
    "fig.visitCommand(\"s = SubsetAttributes()\")\n",
    "fig.visitCommand(\"s.SetMultiColor(0, (55,0,0,255))\")\n",
    "fig.visitCommand(\"SetPlotOptions(s)\")\n",
    "\n",
    "fig.plot()"
   ]
  },
  {
   "cell_type": "markdown",
   "id": "d6a86424",
   "metadata": {},
   "source": [
    "### Data File"
   ]
  },
  {
   "cell_type": "code",
   "execution_count": null,
   "id": "de9b711d",
   "metadata": {
    "scrolled": false
   },
   "outputs": [],
   "source": [
    "from trustutils import run \n",
    "run.dumpDataset(\"./DecoupeBord.data\") "
   ]
  },
  {
   "cell_type": "code",
   "execution_count": null,
   "id": "1eb88171",
   "metadata": {},
   "outputs": [],
   "source": []
  }
 ],
 "metadata": {
  "kernelspec": {
   "display_name": "Python 3 (ipykernel)",
   "language": "python",
   "name": "python3"
  },
  "language_info": {
   "codemirror_mode": {
    "name": "ipython",
    "version": 3
   },
   "file_extension": ".py",
   "mimetype": "text/x-python",
   "name": "python",
   "nbconvert_exporter": "python",
   "pygments_lexer": "ipython3",
   "version": "3.7.9"
  },
  "toc-autonumbering": true
 },
 "nbformat": 4,
 "nbformat_minor": 5
}
