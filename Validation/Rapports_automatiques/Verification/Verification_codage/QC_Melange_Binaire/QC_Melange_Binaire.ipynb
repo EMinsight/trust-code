{
 "cells": [
  {
   "cell_type": "markdown",
   "id": "boolean-earth",
   "metadata": {},
   "source": [
    "# Validation of a binary mixture flow problem with a Low Mach Number approximation"
   ]
  },
  {
   "cell_type": "code",
   "execution_count": null,
   "id": "68a004ce",
   "metadata": {},
   "outputs": [],
   "source": [
    "from trustutils import run\n",
    "\n",
    "run.introduction(\"Elie Saikali\")\n",
    "run.description(\"This document aims at validating the binary mixture flow problem of TRUST. Recall that this problem is used with a Low Mach Number (LMN) approximation and is only valid with iso-thermal and iso-bar conditions. The validation is carried out by injecting air into an axi-symmetrical cavity filled with air at rest (same properties for both species). Results are compared with those obtained by a non-compressible thermo-hydraulic problem (same physical parameters are used). The results in both cases are coherent as expected. For completeness, the influence of using of an explicit or a semi-implicit Rational Runge-Kutta (RRK2) time-integration scheme is also investigated for both cases.\")\n",
    "run.TRUST_parameters(\"1.9.0\")"
   ]
  },
  {
   "cell_type": "markdown",
   "id": "ab78f6d6",
   "metadata": {},
   "source": [
    " ## NOTE : RESULTS ARE MUCH BETTER WHEN THE MESH IS REFINED ! Here we use a coarse mesh to have a reasonable run time"
   ]
  },
  {
   "cell_type": "code",
   "execution_count": null,
   "id": "balanced-boating",
   "metadata": {},
   "outputs": [],
   "source": [
    "from trustutils import run\n",
    "run.addCase(\"MB_exp\", \"Pb_Melange_Binaire.data\") \n",
    "run.addCase(\"TH_exp\", \"Pb_Thermo_Hydraulique.data\") \n",
    "run.addCase(\"MB_semi_impl\",\"Pb_Melange_Binaire.data\") \n",
    "run.addCase(\"TH_semi_impl\",\"Pb_Thermo_Hydraulique.data\") \n",
    "\n",
    "run.printCases()\n",
    "run.runCases()"
   ]
  },
  {
   "cell_type": "markdown",
   "id": "9a7e2ff9",
   "metadata": {},
   "source": [
    "## Governing equations and physical parameters\n",
    "\n",
    "### Binary mixture LMN flow\n",
    "\n",
    "In general, the dimensional system of governing equations reads under the LMN approximation as\n",
    "\n",
    "\\begin{align}\n",
    "&\\frac{\\partial {\\rho}}{\\partial t}+\\frac{\\partial }{\\partial x_i} \\bigg({\\rho} {u}_i\\bigg) = 0, \\label{mass}\\\\\n",
    "&\\frac{\\partial {\\rho}{ u}_j }{\\partial t}+ \\frac{\\partial }{\\partial x_i} \\bigg({\\rho} {u}_j {u}_i \\bigg) =-\\frac{\\partial{ P}}{\\partial x_j} + \\frac{\\partial{\\tau}_{ij}}{\\partial x_i}+{\\rho} g_j, \\label{mom}\\\\\n",
    "&  \\frac{\\partial{\\rho}{ Y}_1}{\\partial t}+ \\frac{\\partial }{\\partial x_i} \\bigg({\\rho} {u}_i {Y}_1\\bigg)=\\frac{\\partial }{\\partial x_i}\\bigg( {\\rho} \\  D \\frac{\\partial {Y }_1}{\\partial x_i}\\bigg),\\label{spec}\\\\\n",
    "&{\\rho}={M}_{mix}\\frac{p}{RT}, \\label{state}\n",
    "\\end{align}\n",
    "\n",
    "where ${\\rho}$ is the mixture's density and ${u}_i$ the mass average component of the velocity vector ${\\textbf{u}}=({u}_1,{u}_2,{u}_3)$ and $g_j=(0,0,-g)$ the gravity vector. ${Y}_1$ and ${Y}_2$  are respectively the mass fractions of species 1 ans species 2 satisfying ${Y}_1+{Y}_2=1$.\n",
    "\n",
    "$D$ corresponds to the mixture diffusion coefficient of both species,  $R= 8.314$ J.K$^{-1}$.mol$^{-1}$ the specific gas constant and $M_{mix}=\\displaystyle\\left(\\sum_{i=1}^2  \\frac{{Y}_i}{M_i}\\right)^{-1}$ the mixing molar mass where  $M_1=M_{in}$ and $M_2 =M_{am}$, the injection and ambient molar mass respectively.\n",
    "\n",
    " ${\\tau}_{ij}= 2\\mu{e}_{ij}$ is the viscous stress tensor for Newtonian fluids with\n",
    "$${e}_{ij}= \\frac{1}{2}\\left(\\frac{\\partial  u_i}{\\partial x_j} + \\frac{\\partial u_j}{\\partial x_i}\\right) -\\frac{1}{3}\\delta_{ij}\\frac{\\partial u_k}{\\partial x_k},$$\n",
    "and $\\delta_{ij}$ the Kronecker symbol.  $\\mu$ denotes the mixture's dynamic viscosity calculated as a function of the mass fractions and fluids physical properties using the Wilke's formulation as follows\n",
    "\\begin{equation}\\label{wilke}\n",
    "        \\mu = \\frac{Y_1\\mu_1}{Y_1\\phi_{11}+Y_2\\phi_{12}}+\\frac{Y_2\\mu_2}{Y_1\\phi_{21}+Y_2\\phi_{22}},\n",
    "\\end{equation}\n",
    "        where $\\phi_{ij}$ is a set of dimensionless constants calculated as\n",
    "\\begin{equation}\n",
    "        \\phi_{ij}= \\displaystyle\\frac{\\displaystyle\\frac{\\textrm{M}_i}{\\textrm{M}_j}\\left[ 1+\\left(\\displaystyle\\frac{\\mu_i}{\\mu_j} \\right)^{1/2} \\left( \\displaystyle\\frac{\\textrm{M}_j}{\\textrm{M}_i} \\right)^{1/4}\\right]^2}{ \\left[ 8\\left(1+\\displaystyle\\frac{\\textrm{M}_i}{\\textrm{M}_j} \\right) \\right]^{1/2}}\\quad : \\quad i,j=\\{1,2\\}.\n",
    "\\end{equation}\n",
    "\n",
    "In this study, we consider identical species (inj = amb) with\n",
    "\n",
    "&nbsp; &nbsp; 1. $D = 7.72\\times 10^{-5}$ m$^{2}$.s$^{-1}$, \\\n",
    "&nbsp; &nbsp; 2. $p = 100000$ Pa, \\\n",
    "&nbsp; &nbsp; 3. $T= 284.15$ K, \\\n",
    "&nbsp; &nbsp; 4. $M_1=M_2=0.02897$ kg.mol$^{-1}$, \\\n",
    "&nbsp; &nbsp; 5. $\\mu_1=\\mu_2=1.792\\times 10^{-5}$ kg.m$^{-1}$.s$^{-1}$. \\\n",
    "\n",
    "### Non-compressible thermo-hydraulic flow\n",
    "\n",
    "The dimensional system of governing equations of a non-compressible thermo-hydraulic flow (without a source term) is expressed as\n",
    "\n",
    "\\begin{equation}\\label{ns1}\n",
    "\\frac{\\partial { u}_j }{\\partial t}+ {u}_j\\frac{\\partial {u}_i }{\\partial x_j}=-\\frac{\\partial{ P^{\\ast}}}{\\partial x_j} + \\frac{\\partial}{\\partial x_i} \\bigg( \\nu \\frac{\\partial  u_i}{\\partial x_j}\\bigg),\n",
    "\\end{equation}\n",
    "\\begin{equation}\\label{ns2}\n",
    "\\frac{\\partial T}{\\partial t}+  {u}_i\\frac{\\partial T}{\\partial x_i}=\\frac{\\partial }{\\partial x_i}\\bigg( {\\rho} \\frac{\\lambda}{\\rho c_p} \\frac{\\partial T}{\\partial x_i}\\bigg),\n",
    "\\end{equation}\n",
    "where $\\nu=\\mu/\\rho$ is the kinematic viscosity, $P^{\\ast}$ the reduced pressure expressed as a function of the pressure $P$,\n",
    "the density $\\rho$ and the gravity vector $\\textbf{g}$ as\n",
    "$$P^{\\ast}=P/\\rho + \\textbf{g}.$$\n",
    "\n",
    "The physical properties are considered in this case in accordance to the LMN problem, and described as follows\n",
    "\n",
    "&nbsp; &nbsp; 1. $\\lambda = 9.466369670132119\\times 10^{-5}$ m$^{2}$.s$^{-1}$, \\\n",
    "&nbsp; &nbsp; 2. $c_p=1$ J.kg$^{-1}$.K$^{-1}$, \\\n",
    "&nbsp; &nbsp; 3. $\\rho=1.226213687840948$ kg.m$^{-3}$, \\\n",
    "&nbsp; &nbsp; 4. $\\mu=1.792\\times 10^{-5}$ kg.m$^{-1}$.s$^{-1}$.\n",
    "\n",
    "\n",
    "### Post processing integral quantities\n",
    "\n",
    "To validate the implementation of the binary mixture LMN flow problem, comparisons are provided by comparing two integral quantities\n",
    "\n",
    "&nbsp; &nbsp; 1. $I_1 =\\displaystyle\\int_V \\rho Y_1 dV$, \\\n",
    "&nbsp; &nbsp; 2. $I_2 =\\displaystyle\\int_V \\rho c_p T dV$,\n",
    "\n",
    "which denote respectively the total mass of the injected species and the total energy.\n",
    "\n",
    "\n",
    "### Axi symmetric computation domain \n",
    "\n",
    "An axi-symmetrical computational domain is considered where a VDF mesh of 51968 cells is employed (see the figure below). Air is injected through a pipe of diameter 0.5 cm (3 cm long) into a cavity of width 10 cm and height 20 cm. A free outlet is located at the top-right corner of the cavity (height of opening is 3 cm). The injection flow-rate is $Q=4.71238898\\times 10^{-5}$ m$^{3}$.s$^{-1}$.\n"
   ]
  },
  {
   "cell_type": "code",
   "execution_count": null,
   "id": "alert-shock",
   "metadata": {},
   "outputs": [],
   "source": [
    "from trustutils import visit\n",
    "\n",
    "a = visit.Show(\"MB_exp/Pb_Melange_Binaire.lata\",'Mesh','dom',size=20)\n",
    "a.visuOptions([\"no_bounding_box\",\"no_legend\",\"no_databaseinfo\",\"no_triad\",\"no_axes\"])\n",
    "a.plot()"
   ]
  },
  {
   "cell_type": "markdown",
   "id": "buried-worse",
   "metadata": {},
   "source": [
    "## Qualitative comparisons: Mass fraction vs temperature\n",
    "\n",
    "We present first qualitative comparisons by comparing the masse fraction iso-contours (Pb melange binaire explicit) to those of the temperature (Pb thermo hydraulic explicit). As expected, both fields are identical (figures 3.1 and 3.2). Same observation is noted when a semi-implicit scheme is employed (figures 3.3 and 3.4)."
   ]
  },
  {
   "cell_type": "markdown",
   "id": "03e52d37",
   "metadata": {},
   "source": [
    "### Mass fraction: explicit"
   ]
  },
  {
   "cell_type": "code",
   "execution_count": null,
   "id": "df68c2c5",
   "metadata": {},
   "outputs": [],
   "source": [
    "visit.showField(\"MB_exp/Pb_Melange_Binaire.lata\",\"Pseudocolor\",\"FRACTION_MASSIQUE_ELEM_dom\",plotmesh=False)"
   ]
  },
  {
   "cell_type": "markdown",
   "id": "2f2747f8",
   "metadata": {},
   "source": [
    "### Temperature: explicit"
   ]
  },
  {
   "cell_type": "code",
   "execution_count": null,
   "id": "81a9ae3f",
   "metadata": {
    "scrolled": false
   },
   "outputs": [],
   "source": [
    "visit.showField(\"TH_exp/Pb_Thermo_Hydraulique.lata\",\"Pseudocolor\",\"TEMPERATURE_ELEM_dom\",plotmesh=False)"
   ]
  },
  {
   "cell_type": "markdown",
   "id": "8c89bbf1",
   "metadata": {},
   "source": [
    "### Mass fraction: semi_implicit"
   ]
  },
  {
   "cell_type": "code",
   "execution_count": null,
   "id": "c595bb59",
   "metadata": {},
   "outputs": [],
   "source": [
    "visit.showField(\"MB_semi_impl/Pb_Melange_Binaire.lata\",\"Pseudocolor\",\"FRACTION_MASSIQUE_ELEM_dom\",plotmesh=False)"
   ]
  },
  {
   "cell_type": "markdown",
   "id": "7c6da638",
   "metadata": {},
   "source": [
    "### Temperature: semi_implicit"
   ]
  },
  {
   "cell_type": "code",
   "execution_count": null,
   "id": "5fc7329a",
   "metadata": {
    "scrolled": false
   },
   "outputs": [],
   "source": [
    "visit.showField(\"TH_semi_impl/Pb_Thermo_Hydraulique.lata\",\"Pseudocolor\",\"TEMPERATURE_ELEM_dom\",plotmesh=False)"
   ]
  },
  {
   "cell_type": "markdown",
   "id": "satisfied-classification",
   "metadata": {},
   "source": [
    "## Quantitative comparisons"
   ]
  },
  {
   "cell_type": "markdown",
   "id": "smoking-replica",
   "metadata": {},
   "source": [
    "### Total mass and energy\n",
    "\n",
    "We consider now the integral quatities $I_1$ and $I_2$ in the four calculations. Clearly we note that all profiles perfectly match together where a linear evolution is reproduced in all cases. This behavior is expected as far as a continuous/constant flow rate is considered at the injection (see symbols on the same graph which depict the exact injected quantity)."
   ]
  },
  {
   "cell_type": "code",
   "execution_count": null,
   "id": "465556bb",
   "metadata": {},
   "outputs": [],
   "source": [
    "from trustutils import plot\n",
    "\n",
    "a = plot.Graph(\"Total mass and energy\")\n",
    "a.addPoint(\"MB_exp/Pb_Melange_Binaire_INJ_MASS.son\",label=\"MB_exp\",marker=\"-|\")\n",
    "a.addPoint(\"TH_exp/Pb_Thermo_Hydraulique_INJ_MASS.son\",label=\"TH_exp\",marker=\"-|\")\n",
    "a.addPoint(\"MB_semi_impl/Pb_Melange_Binaire_INJ_MASS.son\",label=\"MB_semi_impl\",marker=\"-|\")\n",
    "a.addPoint(\"TH_semi_impl/Pb_Thermo_Hydraulique_INJ_MASS.son\",label=\"TH_semi_impl\",marker=\"-|\")\n",
    "\n",
    "x = plot.loadText(\"exact.d\")\n",
    "a.add(x[0],x[1],label='Exact',marker='o',markersize=10)\n",
    "a.label(\"t [s]\", \"I1 and I2 [kg or J]\")\n",
    "\n",
    "a.visu()"
   ]
  },
  {
   "cell_type": "markdown",
   "id": "laden-return",
   "metadata": {},
   "source": [
    "### Mass fraction / temperature evolution\n",
    "\n",
    "We present here the mass fraction and temperature evolution for a fixed probes located at $r= 0.5$ cm and $z=5$ cm. The profiles are identical in the four simulations."
   ]
  },
  {
   "cell_type": "code",
   "execution_count": null,
   "id": "judicial-breach",
   "metadata": {},
   "outputs": [],
   "source": [
    "from trustutils import plot\n",
    "\n",
    "a = plot.Graph(\"Mass fraction / temperature evolution\")\n",
    "a.addPoint(\"MB_exp/Pb_Melange_Binaire_PROBE.son\",label=\"MB_exp\",marker=\"-|\")\n",
    "a.addPoint(\"TH_exp/Pb_Thermo_Hydraulique_PROBE.son\",label=\"TH_exp\",marker=\"-|\")\n",
    "a.addPoint(\"MB_semi_impl/Pb_Melange_Binaire_PROBE.son\",label=\"MB_semi_impl\",marker=\"-|\")\n",
    "a.addPoint(\"TH_semi_impl/Pb_Thermo_Hydraulique_PROBE.son\",label=\"TH_semi_impl\",marker=\"-|\")\n",
    "\n",
    "a.label(\"t [s]\", \"Y1 or T\")\n",
    "\n",
    "a.visu()"
   ]
  },
  {
   "cell_type": "markdown",
   "id": "22f2bd5d",
   "metadata": {},
   "source": [
    "### Mass fraction / temperature evolution\n",
    "\n",
    "We present here the mass fraction and temperature evolution for a fixed probes located at $r= 0.5$ cm and $z=15$ cm. The profiles are identical in the four simulations."
   ]
  },
  {
   "cell_type": "code",
   "execution_count": null,
   "id": "93feb076",
   "metadata": {
    "scrolled": false
   },
   "outputs": [],
   "source": [
    "from trustutils import plot\n",
    "\n",
    "a = plot.Graph(\"Mass fraction / temperature evolution\")\n",
    "a.addPoint(\"MB_exp/Pb_Melange_Binaire_PROBE.son\",label=\"MB_exp\",marker=\"-|\")\n",
    "a.addPoint(\"TH_exp/Pb_Thermo_Hydraulique_PROBE.son\",label=\"TH_exp\",marker=\"-|\")\n",
    "a.addPoint(\"MB_semi_impl/Pb_Melange_Binaire_PROBE.son\",label=\"MB_semi_impl\",marker=\"-|\")\n",
    "a.addPoint(\"TH_semi_impl/Pb_Thermo_Hydraulique_PROBE.son\",label=\"TH_semi_impl\",marker=\"-|\")\n",
    "\n",
    "a.label(\"t [s]\", \"Y1 or T\")\n",
    "\n",
    "a.visu()"
   ]
  },
  {
   "cell_type": "markdown",
   "id": "f34429b7",
   "metadata": {},
   "source": [
    "### Time step\n",
    "\n",
    "We consider now the evolution of the time step which is computed dynamically in the four calculations satisfying the stability criteria of the time scheme (facsec 0.9 used in all cases). We note also       that the evolution of dt is identical for both pair of simulations; either with explicit or semi-implicit calculations. It is important here to highlight the benefit of using a semi-implicit scheme where a the time step can be about 1.5 times larger than that used with the explicit simulation (as far as the diffusion time step is more important in such a problem)."
   ]
  },
  {
   "cell_type": "code",
   "execution_count": null,
   "id": "5ef86cce",
   "metadata": {},
   "outputs": [],
   "source": [
    "from trustutils import plot\n",
    "\n",
    "a = plot.Graph(\"Time step\")\n",
    "a.addResidu(\"MB_exp/Pb_Melange_Binaire.dt_ev\",label=\"MB_exp\",marker=\"-|\",var=\"dt\")\n",
    "a.addResidu(\"TH_exp/Pb_Thermo_Hydraulique.dt_ev\",label=\"TH_exp\",marker=\"-|\",var=\"dt\")\n",
    "a.addResidu(\"MB_semi_impl/Pb_Melange_Binaire.dt_ev\",label=\"MB_semi_impl\",marker=\"-|\",var=\"dt\")\n",
    "a.addResidu(\"TH_semi_impl/Pb_Thermo_Hydraulique.dt_ev\",label=\"TH_semi_impl\",marker=\"-|\",var=\"dt\")\n",
    "\n",
    "a.label(\"t [s]\", \"dt\")"
   ]
  },
  {
   "cell_type": "markdown",
   "id": "6e16527c",
   "metadata": {},
   "source": [
    "### Volumic flow rate balance\n",
    "\n",
    "Finally we consider the volumic flow rate balance where we can see that the balance is very well ensured in all cases at the precision of the machine."
   ]
  },
  {
   "cell_type": "code",
   "execution_count": null,
   "id": "b83d1f87",
   "metadata": {},
   "outputs": [],
   "source": [
    "a = plot.Graph(\"Volumic flow rate balance\")\n",
    "\n",
    "x=plot.loadText(\"MB_exp/Pb_Melange_Binaire_pb_Debit.out\")\n",
    "a.add(x[0],x[5],label=\"MB_exp\",marker=\"-|\")\n",
    "\n",
    "x=plot.loadText(\"TH_exp/Pb_Thermo_Hydraulique_pb_Debit.out\")\n",
    "a.add(x[0],x[5],label=\"TH_exp\",marker=\"-|\")\n",
    "\n",
    "x=plot.loadText(\"MB_semi_impl/Pb_Melange_Binaire_pb_Debit.out\")\n",
    "a.add(x[0],x[5],label=\"MB_semi_impl\",marker=\"-|\")\n",
    "\n",
    "x=plot.loadText(\"TH_semi_impl/Pb_Thermo_Hydraulique_pb_Debit.out\")\n",
    "a.add(x[0],x[5],label=\"TH_semi_impl\",marker=\"-|\")\n",
    "\n",
    "a.label(\"t [s]\", \"-\")\n",
    "\n",
    "a.visu()"
   ]
  },
  {
   "cell_type": "markdown",
   "id": "82ca33c7",
   "metadata": {},
   "source": [
    "## Conclusions\n",
    "\n",
    "We have presented in this document a validation concerning the TRUST binary mixture flow problem with a LMN approximation. Results show that considering two identical species reproduce exactly what is       obtained by a non-compressible thermo-hydraulic problem. Moreover, we show that the explicit and the semi-implicit time integration schemes lead to identical results if a good time step is used and can be safely used to reduce a bit the computational time\n",
    "\n",
    "**Note :** the influence of the time step is not illustrated here but tested. In particular, higher facsec values ($>1$) lead to a stable solution but with different results."
   ]
  },
  {
   "cell_type": "code",
   "execution_count": null,
   "id": "4c75e8a8",
   "metadata": {},
   "outputs": [],
   "source": [
    "run.tablePerf()"
   ]
  }
 ],
 "metadata": {
  "kernelspec": {
   "display_name": "Python 3 (ipykernel)",
   "language": "python",
   "name": "python3"
  },
  "language_info": {
   "codemirror_mode": {
    "name": "ipython",
    "version": 3
   },
   "file_extension": ".py",
   "mimetype": "text/x-python",
   "name": "python",
   "nbconvert_exporter": "python",
   "pygments_lexer": "ipython3",
   "version": "3.7.9"
  },
  "toc-autonumbering": true
 },
 "nbformat": 4,
 "nbformat_minor": 5
}
