{
 "cells": [
  {
   "cell_type": "markdown",
   "id": "gross-patent",
   "metadata": {},
   "source": [
    "# Tubes a choc"
   ]
  },
  {
   "cell_type": "code",
   "execution_count": null,
   "id": "b13e1235",
   "metadata": {},
   "outputs": [],
   "source": [
    "from trustutils import run\n",
    "\n",
    "run.introduction('Y. GORSSE, M. NDJINGA')"
   ]
  },
  {
   "cell_type": "markdown",
   "id": "perfect-entrepreneur",
   "metadata": {},
   "source": [
    "### Description \n",
    "Issus du chapitre 10 du livre de Eleuterio F. Toro, Riemann Solvers and Numerical Methods for Fluid Dynamics, Third edition, Springer, 2009. \n",
    "\n",
    "Couramment utilisés comme benchmark pour le comportement de        méthodes numériques dans les ouvrages et publications scientifiques, ainsi que pour la vérification du comportement de certains codes.\n",
    "\n",
    "Objectifs : montrer la la robutesse du code et évaluer \n",
    "\n",
    "1. l'apparition d'oscillations parasites, \n",
    "2. la propagation des ondes avec la bonne vitesse, \n",
    "3. la capture des états intermédiaires à la bonne hauteur."
   ]
  },
  {
   "cell_type": "code",
   "execution_count": null,
   "id": "a61057b9",
   "metadata": {},
   "outputs": [],
   "source": [
    "run.TRUST_parameters()"
   ]
  },
  {
   "cell_type": "code",
   "execution_count": null,
   "id": "15189bb2-352d-48f9-85fa-64c4323e0f88",
   "metadata": {
    "scrolled": false
   },
   "outputs": [],
   "source": [
    "from trustutils import run, plot\n",
    "import os\n",
    "\n",
    "run.reset()\n",
    "run.initBuildDirectory()\n",
    "\n",
    "origin, build_dir = os.getcwd(), run.BUILD_DIRECTORY\n",
    "os.chdir(build_dir)\n",
    "exec(open(\"main.py\").read())\n",
    "os.chdir(origin)\n",
    "\n",
    "list_meshes = [100, 800]\n",
    "list_tests = ['Toro1','Toro2','Toro4','Toro5','Toro6','Toro7','PWR1','PWR2','PWR3']\n",
    "\n",
    "for m in list_meshes:\n",
    "    for dis in [\"PolyMAC_P0\", \"VDF\"]:\n",
    "        for test in list_tests:\n",
    "            run.addCase(f\"n{m}/{dis}\", f\"{test}.data\")\n",
    "\n",
    "run.printCases()\n",
    "run.runCases()"
   ]
  },
  {
   "cell_type": "markdown",
   "id": "1dbc036d",
   "metadata": {},
   "source": [
    "## Description des cas tests\n",
    "\n",
    "These tests are designed to assess the robustness and accuracy of numerical methods at the core of the solver, independently from the boundary condition, and source term treatment involving correla       tions.\n",
    "\n",
    "They consist in the numerical resolution of the Shock tube problem for a perfect gas with $\\gamma=1.4$. \n",
    "\n",
    "The initial state consists in two constant states $W_L=(\\rho_L,u_L,p_L)$ and $W_R=(\\rho_R,u_R,p_R)$ separated by a discontinuity at $x=x_d$. The following table gives the values of $W_L$ and $W_R$ for each test."
   ]
  },
  {
   "cell_type": "code",
   "execution_count": null,
   "id": "93b7705a",
   "metadata": {
    "scrolled": true
   },
   "outputs": [],
   "source": [
    "display(tab)"
   ]
  },
  {
   "cell_type": "code",
   "execution_count": null,
   "id": "eedefb50",
   "metadata": {
    "scrolled": false
   },
   "outputs": [],
   "source": [
    "import time\n",
    "from trustutils import plot\n",
    "\n",
    "variables = [\"RHO\", \"P\", \"V\", \"EINT\"]\n",
    "\n",
    "dis_m = {\"VDF\" : \"x-\", \"PolyMAC_P0\" : \"-\"}\n",
    "\n",
    "for test in list_tests:\n",
    "    columns = plot.readFile(f\"{test}.ex\")\n",
    "    var = columns[0].split()\n",
    "    data = plot.loadText(f\"{test}.ex\", skiprows=1)\n",
    "    \n",
    "    a = plot.Graph(nX=2, nY=2, title=test)\n",
    "    nX, nY = 0, 0\n",
    "    for p in variables:\n",
    "        a.addPlot([nX, nY], f\"Profil de {p}\")\n",
    "        for m in list_meshes:\n",
    "            for dis, ma in dis_m.items():\n",
    "                a.addSegment(f\"n{m}/{dis}/{test}_{p}.son\", label=f\"{dis} n={m}\",lw = 4, marker=ma)\n",
    "        nb = var.index(p)\n",
    "        a.add(data[0], data[nb], label=\"Exact solution\", lw=2, color='k')\n",
    "        a.label(\"z [m]\", p)\n",
    "        \n",
    "        nX = nX+1 if nY%2 else nX\n",
    "        nY = (nY+1)%2"
   ]
  }
 ],
 "metadata": {
  "kernelspec": {
   "display_name": "Python 3 (ipykernel)",
   "language": "python",
   "name": "python3"
  },
  "language_info": {
   "codemirror_mode": {
    "name": "ipython",
    "version": 3
   },
   "file_extension": ".py",
   "mimetype": "text/x-python",
   "name": "python",
   "nbconvert_exporter": "python",
   "pygments_lexer": "ipython3",
   "version": "3.7.9"
  },
  "vscode": {
   "interpreter": {
    "hash": "1537131699a4702934b0bbeb7bf8e1e2847b4eeadfb820bc8606fe24d700d9f1"
   }
  }
 },
 "nbformat": 4,
 "nbformat_minor": 5
}
