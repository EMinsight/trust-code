{
 "cells": [
  {
   "cell_type": "code",
   "execution_count": null,
   "id": "d1b348e3",
   "metadata": {},
   "outputs": [],
   "source": [
    "from trustutils import run\n",
    "\n",
    "run.introduction(\"Elie Saikali & Yannick Gorsse\", \"07/05/2024\")"
   ]
  },
  {
   "cell_type": "code",
   "execution_count": null,
   "id": "f7a23adc",
   "metadata": {},
   "outputs": [],
   "source": [
    "import os\n",
    "\n",
    "run.reset()\n",
    "run.initBuildDirectory()\n",
    "\n",
    "cases = {\n",
    "    \"pb_multi\": ([(\"smago\", \"smago { Cs 0.2 }\"), (\"wale\", \"wale { Cw 0.55 }\")], [\"VDF\", \"PolyMAC_P0\"]),\n",
    "    \"pb_trust\": ([\n",
    "        (\"smago\", \"sous_maille_smago { turbulence_paroi negligeable Cs 0.2 }\"),\n",
    "        (\"wale\", \"sous_maille_wale { turbulence_paroi negligeable Cw 0.55 }\"),\n",
    "    ], [\"VDF\"]),\n",
    "}\n",
    "dis = {\"VDF\": \"\", \"PolyMAC_P0\": \"Polyedriser dom\"}\n",
    "\n",
    "for case, (models, disc) in cases.items():\n",
    "    for mn, mod in models:\n",
    "        for d in disc:\n",
    "            run.addCaseFromTemplate(f\"{case}.data\", f\"{d}/{mn}\", {\"dis\": d, \"poly\": dis[d], \"mod\": mod})\n",
    "\n",
    "run.printCases()\n",
    "run.runCases()\n",
    "run.tablePerf()"
   ]
  },
  {
   "cell_type": "code",
   "execution_count": null,
   "id": "c3ec63f0",
   "metadata": {},
   "outputs": [],
   "source": [
    "from trustutils import plot\n",
    "import matplotlib.colors as mcolors\n",
    "c = list(mcolors.TABLEAU_COLORS.keys())\n",
    "variables = {\"NU_T\", \"ALPHA_T\"} #  \"MU_T\", \"LAMBDA_T\",\n",
    "\n",
    "for var in variables:\n",
    "    fig = plot.Graph(f\"{var}\", nY=2)\n",
    "    for j, (case, (models, disc)) in enumerate(cases.items()):\n",
    "        for k, (mn, mod) in enumerate(models):\n",
    "            for i, d in enumerate(disc):\n",
    "                son_name = f\"{d}/{mn}/{case}_{var}.son\"\n",
    "                fig.addPlot(k, mn)\n",
    "                fig.addSegment(son_name, label=f\"{d} {case}\", marker=\"+-\" if case==\"pb_multi\" else \"-\", color=c[i], markersize=10, linewidth=2)"
   ]
  },
  {
   "cell_type": "code",
   "execution_count": null,
   "id": "b181a208",
   "metadata": {},
   "outputs": [],
   "source": [
    "fig = plot.Graph()\n",
    "\n",
    "for j, (case, (models, disc)) in enumerate(cases.items()):\n",
    "    for k, (mn, mod) in enumerate(models):\n",
    "        for i, d in enumerate(disc):\n",
    "            fig.addResidu(f\"{d}/{mn}/{case}.dt_ev\", label=f\"{d} {mn} {case}\")"
   ]
  }
 ],
 "metadata": {
  "kernelspec": {
   "display_name": "Python 3 (ipykernel)",
   "language": "python",
   "name": "python3"
  },
  "language_info": {
   "codemirror_mode": {
    "name": "ipython",
    "version": 3
   },
   "file_extension": ".py",
   "mimetype": "text/x-python",
   "name": "python",
   "nbconvert_exporter": "python",
   "pygments_lexer": "ipython3",
   "version": "3.8.19"
  }
 },
 "nbformat": 4,
 "nbformat_minor": 5
}
